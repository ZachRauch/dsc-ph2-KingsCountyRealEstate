{
 "cells": [
  {
   "cell_type": "markdown",
   "metadata": {
    "ExecuteTime": {
     "end_time": "2022-04-01T16:26:08.258154Z",
     "start_time": "2022-04-01T16:26:08.066738Z"
    }
   },
   "source": [
    "![img](./images/SplashHeader.jpg)"
   ]
  },
  {
   "cell_type": "markdown",
   "metadata": {},
   "source": [
    "# Modeling housing price data in King County:  An inferential and predictive analysis"
   ]
  },
  {
   "cell_type": "markdown",
   "metadata": {},
   "source": [
    "## Business Understanding\n"
   ]
  },
  {
   "cell_type": "markdown",
   "metadata": {},
   "source": [
    "Our chosen stakeholder is the real-estate agency Keller Williams, who's looking to expand into King County in Washington. They want an analytically supported strategy based on inferential and predictive analysis of the data available on the king county website. Our approach to formulating the business question was to first define our recommended strategy and formulate the business question around it. Accordingly, we formulated three questions that we wanted to answer using our data analysis and based our recommendations on those questions. "
   ]
  },
  {
   "cell_type": "markdown",
   "metadata": {},
   "source": [
    "### Recommended strategy "
   ]
  },
  {
   "cell_type": "markdown",
   "metadata": {},
   "source": [
    "We defined our strategy based on the volume metrics of the data and determined that the best way moving forward is to target sellers and buyers of houses that are in highest demand. We chose this strategy because we felt this approach would maximize your future potential revenue. This is based on the notion that a higher quantity of sales would result in more revenues than higher-value sales. "
   ]
  },
  {
   "cell_type": "markdown",
   "metadata": {},
   "source": [
    "### Business Question"
   ]
  },
  {
   "cell_type": "markdown",
   "metadata": {},
   "source": [
    "Given our recommended strategy, the business question we formulated is :What types of houses are in most demand and where are they located?"
   ]
  },
  {
   "cell_type": "markdown",
   "metadata": {},
   "source": [
    "## Data Understanding\n"
   ]
  },
  {
   "cell_type": "markdown",
   "metadata": {},
   "source": [
    "The data that we used originally came from the King County website. It contains a good mix of categorical and numerical data. We wanted to focus on variables that corresponded to features that determine that demand of the any given house. "
   ]
  },
  {
   "cell_type": "markdown",
   "metadata": {},
   "source": [
    "### Importing Libraries"
   ]
  },
  {
   "cell_type": "code",
   "execution_count": 1,
   "metadata": {
    "ExecuteTime": {
     "end_time": "2022-04-01T16:48:21.147185Z",
     "start_time": "2022-04-01T16:48:19.513351Z"
    }
   },
   "outputs": [],
   "source": [
    "import pandas as pd\n",
    "import numpy as np\n",
    "import seaborn as sns\n",
    "import warnings\n",
    "warnings.filterwarnings(action='ignore')\n",
    "import matplotlib.pyplot as plt\n",
    "from matplotlib import ticker\n",
    "from yellowbrick.regressor import ResidualsPlot\n",
    "import statsmodels.api as sm\n",
    "from statsmodels.api import OLS\n",
    "\n",
    "# SciKitLearn \n",
    "from sklearn.model_selection import train_test_split\n",
    "from sklearn.dummy import DummyRegressor\n",
    "from sklearn.pipeline import make_pipeline\n",
    "from sklearn.preprocessing import StandardScaler, PolynomialFeatures, OrdinalEncoder, OneHotEncoder\n",
    "from sklearn.compose import ColumnTransformer\n",
    "from sklearn.linear_model import LinearRegression\n",
    "from sklearn.metrics import r2_score, mean_squared_error, mean_absolute_error\n",
    "\n",
    "# For mapping visuals\n",
    "import folium\n",
    "KC_coord = (47.4081,-121.9949)\n",
    "Seattle_coord = (47.6062,-122.3321)"
   ]
  },
  {
   "cell_type": "markdown",
   "metadata": {},
   "source": [
    "The libraries that we have imported are libraries that we used throughout this project, in data preparation and modeling sections."
   ]
  },
  {
   "cell_type": "code",
   "execution_count": 2,
   "metadata": {
    "ExecuteTime": {
     "end_time": "2022-04-01T16:48:21.201498Z",
     "start_time": "2022-04-01T16:48:21.148289Z"
    },
    "scrolled": true
   },
   "outputs": [
    {
     "data": {
      "text/html": [
       "<div>\n",
       "<style scoped>\n",
       "    .dataframe tbody tr th:only-of-type {\n",
       "        vertical-align: middle;\n",
       "    }\n",
       "\n",
       "    .dataframe tbody tr th {\n",
       "        vertical-align: top;\n",
       "    }\n",
       "\n",
       "    .dataframe thead th {\n",
       "        text-align: right;\n",
       "    }\n",
       "</style>\n",
       "<table border=\"1\" class=\"dataframe\">\n",
       "  <thead>\n",
       "    <tr style=\"text-align: right;\">\n",
       "      <th></th>\n",
       "      <th>id</th>\n",
       "      <th>date</th>\n",
       "      <th>price</th>\n",
       "      <th>bedrooms</th>\n",
       "      <th>bathrooms</th>\n",
       "      <th>sqft_living</th>\n",
       "      <th>sqft_lot</th>\n",
       "      <th>floors</th>\n",
       "      <th>waterfront</th>\n",
       "      <th>view</th>\n",
       "      <th>...</th>\n",
       "      <th>grade</th>\n",
       "      <th>sqft_above</th>\n",
       "      <th>sqft_basement</th>\n",
       "      <th>yr_built</th>\n",
       "      <th>yr_renovated</th>\n",
       "      <th>zipcode</th>\n",
       "      <th>lat</th>\n",
       "      <th>long</th>\n",
       "      <th>sqft_living15</th>\n",
       "      <th>sqft_lot15</th>\n",
       "    </tr>\n",
       "  </thead>\n",
       "  <tbody>\n",
       "    <tr>\n",
       "      <th>0</th>\n",
       "      <td>7129300520</td>\n",
       "      <td>10/13/2014</td>\n",
       "      <td>221900.0</td>\n",
       "      <td>3</td>\n",
       "      <td>1.00</td>\n",
       "      <td>1180</td>\n",
       "      <td>5650</td>\n",
       "      <td>1.0</td>\n",
       "      <td>NaN</td>\n",
       "      <td>NONE</td>\n",
       "      <td>...</td>\n",
       "      <td>7 Average</td>\n",
       "      <td>1180</td>\n",
       "      <td>0.0</td>\n",
       "      <td>1955</td>\n",
       "      <td>0.0</td>\n",
       "      <td>98178</td>\n",
       "      <td>47.5112</td>\n",
       "      <td>-122.257</td>\n",
       "      <td>1340</td>\n",
       "      <td>5650</td>\n",
       "    </tr>\n",
       "    <tr>\n",
       "      <th>1</th>\n",
       "      <td>6414100192</td>\n",
       "      <td>12/9/2014</td>\n",
       "      <td>538000.0</td>\n",
       "      <td>3</td>\n",
       "      <td>2.25</td>\n",
       "      <td>2570</td>\n",
       "      <td>7242</td>\n",
       "      <td>2.0</td>\n",
       "      <td>NO</td>\n",
       "      <td>NONE</td>\n",
       "      <td>...</td>\n",
       "      <td>7 Average</td>\n",
       "      <td>2170</td>\n",
       "      <td>400.0</td>\n",
       "      <td>1951</td>\n",
       "      <td>1991.0</td>\n",
       "      <td>98125</td>\n",
       "      <td>47.7210</td>\n",
       "      <td>-122.319</td>\n",
       "      <td>1690</td>\n",
       "      <td>7639</td>\n",
       "    </tr>\n",
       "    <tr>\n",
       "      <th>2</th>\n",
       "      <td>5631500400</td>\n",
       "      <td>2/25/2015</td>\n",
       "      <td>180000.0</td>\n",
       "      <td>2</td>\n",
       "      <td>1.00</td>\n",
       "      <td>770</td>\n",
       "      <td>10000</td>\n",
       "      <td>1.0</td>\n",
       "      <td>NO</td>\n",
       "      <td>NONE</td>\n",
       "      <td>...</td>\n",
       "      <td>6 Low Average</td>\n",
       "      <td>770</td>\n",
       "      <td>0.0</td>\n",
       "      <td>1933</td>\n",
       "      <td>NaN</td>\n",
       "      <td>98028</td>\n",
       "      <td>47.7379</td>\n",
       "      <td>-122.233</td>\n",
       "      <td>2720</td>\n",
       "      <td>8062</td>\n",
       "    </tr>\n",
       "    <tr>\n",
       "      <th>3</th>\n",
       "      <td>2487200875</td>\n",
       "      <td>12/9/2014</td>\n",
       "      <td>604000.0</td>\n",
       "      <td>4</td>\n",
       "      <td>3.00</td>\n",
       "      <td>1960</td>\n",
       "      <td>5000</td>\n",
       "      <td>1.0</td>\n",
       "      <td>NO</td>\n",
       "      <td>NONE</td>\n",
       "      <td>...</td>\n",
       "      <td>7 Average</td>\n",
       "      <td>1050</td>\n",
       "      <td>910.0</td>\n",
       "      <td>1965</td>\n",
       "      <td>0.0</td>\n",
       "      <td>98136</td>\n",
       "      <td>47.5208</td>\n",
       "      <td>-122.393</td>\n",
       "      <td>1360</td>\n",
       "      <td>5000</td>\n",
       "    </tr>\n",
       "    <tr>\n",
       "      <th>4</th>\n",
       "      <td>1954400510</td>\n",
       "      <td>2/18/2015</td>\n",
       "      <td>510000.0</td>\n",
       "      <td>3</td>\n",
       "      <td>2.00</td>\n",
       "      <td>1680</td>\n",
       "      <td>8080</td>\n",
       "      <td>1.0</td>\n",
       "      <td>NO</td>\n",
       "      <td>NONE</td>\n",
       "      <td>...</td>\n",
       "      <td>8 Good</td>\n",
       "      <td>1680</td>\n",
       "      <td>0.0</td>\n",
       "      <td>1987</td>\n",
       "      <td>0.0</td>\n",
       "      <td>98074</td>\n",
       "      <td>47.6168</td>\n",
       "      <td>-122.045</td>\n",
       "      <td>1800</td>\n",
       "      <td>7503</td>\n",
       "    </tr>\n",
       "  </tbody>\n",
       "</table>\n",
       "<p>5 rows × 21 columns</p>\n",
       "</div>"
      ],
      "text/plain": [
       "           id        date     price  bedrooms  bathrooms  sqft_living  \\\n",
       "0  7129300520  10/13/2014  221900.0         3       1.00         1180   \n",
       "1  6414100192   12/9/2014  538000.0         3       2.25         2570   \n",
       "2  5631500400   2/25/2015  180000.0         2       1.00          770   \n",
       "3  2487200875   12/9/2014  604000.0         4       3.00         1960   \n",
       "4  1954400510   2/18/2015  510000.0         3       2.00         1680   \n",
       "\n",
       "   sqft_lot  floors waterfront  view  ...          grade sqft_above  \\\n",
       "0      5650     1.0        NaN  NONE  ...      7 Average       1180   \n",
       "1      7242     2.0         NO  NONE  ...      7 Average       2170   \n",
       "2     10000     1.0         NO  NONE  ...  6 Low Average        770   \n",
       "3      5000     1.0         NO  NONE  ...      7 Average       1050   \n",
       "4      8080     1.0         NO  NONE  ...         8 Good       1680   \n",
       "\n",
       "   sqft_basement yr_built  yr_renovated  zipcode      lat     long  \\\n",
       "0            0.0     1955           0.0    98178  47.5112 -122.257   \n",
       "1          400.0     1951        1991.0    98125  47.7210 -122.319   \n",
       "2            0.0     1933           NaN    98028  47.7379 -122.233   \n",
       "3          910.0     1965           0.0    98136  47.5208 -122.393   \n",
       "4            0.0     1987           0.0    98074  47.6168 -122.045   \n",
       "\n",
       "   sqft_living15  sqft_lot15  \n",
       "0           1340        5650  \n",
       "1           1690        7639  \n",
       "2           2720        8062  \n",
       "3           1360        5000  \n",
       "4           1800        7503  \n",
       "\n",
       "[5 rows x 21 columns]"
      ]
     },
     "execution_count": 2,
     "metadata": {},
     "output_type": "execute_result"
    }
   ],
   "source": [
    "df = pd.read_csv('data/kc_house_data.csv')\n",
    "df.head()"
   ]
  },
  {
   "cell_type": "markdown",
   "metadata": {},
   "source": [
    "The table above illustrates the raw data set and how its formatted, while the table below lists all the columns in the data set and what data type the information in that column is. Furthermore, it also gives us an initial idea of the proportion of missing (null) values there are in each column. "
   ]
  },
  {
   "cell_type": "code",
   "execution_count": 3,
   "metadata": {
    "ExecuteTime": {
     "end_time": "2022-04-01T16:48:21.216199Z",
     "start_time": "2022-04-01T16:48:21.203099Z"
    }
   },
   "outputs": [
    {
     "name": "stdout",
     "output_type": "stream",
     "text": [
      "<class 'pandas.core.frame.DataFrame'>\n",
      "RangeIndex: 21597 entries, 0 to 21596\n",
      "Data columns (total 21 columns):\n",
      " #   Column         Non-Null Count  Dtype  \n",
      "---  ------         --------------  -----  \n",
      " 0   id             21597 non-null  int64  \n",
      " 1   date           21597 non-null  object \n",
      " 2   price          21597 non-null  float64\n",
      " 3   bedrooms       21597 non-null  int64  \n",
      " 4   bathrooms      21597 non-null  float64\n",
      " 5   sqft_living    21597 non-null  int64  \n",
      " 6   sqft_lot       21597 non-null  int64  \n",
      " 7   floors         21597 non-null  float64\n",
      " 8   waterfront     19221 non-null  object \n",
      " 9   view           21534 non-null  object \n",
      " 10  condition      21597 non-null  object \n",
      " 11  grade          21597 non-null  object \n",
      " 12  sqft_above     21597 non-null  int64  \n",
      " 13  sqft_basement  21597 non-null  object \n",
      " 14  yr_built       21597 non-null  int64  \n",
      " 15  yr_renovated   17755 non-null  float64\n",
      " 16  zipcode        21597 non-null  int64  \n",
      " 17  lat            21597 non-null  float64\n",
      " 18  long           21597 non-null  float64\n",
      " 19  sqft_living15  21597 non-null  int64  \n",
      " 20  sqft_lot15     21597 non-null  int64  \n",
      "dtypes: float64(6), int64(9), object(6)\n",
      "memory usage: 3.5+ MB\n"
     ]
    }
   ],
   "source": [
    "df.info()"
   ]
  },
  {
   "cell_type": "markdown",
   "metadata": {},
   "source": [
    "## Data Preparation\n"
   ]
  },
  {
   "cell_type": "markdown",
   "metadata": {},
   "source": [
    "Our approach to data preparation was systematic. First we dropped columns that that didn't have enough data to incorporate into our model and we also removed some extraneous outliers"
   ]
  },
  {
   "cell_type": "markdown",
   "metadata": {},
   "source": [
    "#### Drops"
   ]
  },
  {
   "cell_type": "markdown",
   "metadata": {},
   "source": [
    "We dropped the variable 'yr_renovated' because it was missing values for about 70% of our dataset. Furthermore, we dropped the variables 'id' and 'date' because we felt that those variables will be less reliable predictors. We also dropped an outlier from our data set; a house with 33 bedrooms. We also created a bedrooms bin column to use ahead."
   ]
  },
  {
   "cell_type": "code",
   "execution_count": 4,
   "metadata": {
    "ExecuteTime": {
     "end_time": "2022-04-01T16:48:21.224791Z",
     "start_time": "2022-04-01T16:48:21.217752Z"
    }
   },
   "outputs": [],
   "source": [
    "df = df[df['bedrooms'] != 33]"
   ]
  },
  {
   "cell_type": "code",
   "execution_count": 5,
   "metadata": {
    "ExecuteTime": {
     "end_time": "2022-04-01T16:48:21.229971Z",
     "start_time": "2022-04-01T16:48:21.225656Z"
    }
   },
   "outputs": [],
   "source": [
    "#Making a categorical bedroom columns\n",
    "df['bedrooms_bin']=pd.cut(df['bedrooms'], bins = [0,1,2,3,4,5,6,99], labels=['1BR','2BR','3BR','4BR','5BR','6BR','7+BR'])"
   ]
  },
  {
   "cell_type": "code",
   "execution_count": 6,
   "metadata": {
    "ExecuteTime": {
     "end_time": "2022-04-01T16:48:21.236836Z",
     "start_time": "2022-04-01T16:48:21.232354Z"
    }
   },
   "outputs": [],
   "source": [
    "df = df.drop(['id', 'date', 'yr_renovated','sqft_basement'], axis=1) "
   ]
  },
  {
   "cell_type": "markdown",
   "metadata": {},
   "source": [
    "#### Removing Outliers"
   ]
  },
  {
   "cell_type": "markdown",
   "metadata": {},
   "source": [
    "When looking at removing outliers from our data set, we first used the numpy library to calculate our quantiles to determine which rows are the outliers. Based on the values we calculated for two numerical variables : 'price' and 'sqft_lot', we removed the corresponding rows. Furthermore, for the categorical variable 'grade' we performed the value_counts method in pandas to determine the counts of houses for each grade. Since the grades '3 Poor' and '12 Luxury' only have one record each, we excluded those values from our final processing data set as well."
   ]
  },
  {
   "cell_type": "code",
   "execution_count": 7,
   "metadata": {
    "ExecuteTime": {
     "end_time": "2022-04-01T16:48:21.244499Z",
     "start_time": "2022-04-01T16:48:21.237850Z"
    }
   },
   "outputs": [],
   "source": [
    "price_q75, price_q25 = np.percentile(df['price'],[75,25])\n",
    "intr_qrt = price_q75-price_q25\n",
    "upper_price = price_q75 + (1.5*intr_qrt)\n",
    "lower_price = price_q25 - (1.5*intr_qrt)\n",
    "lower_price, upper_price\n",
    "df = df[df['price'] <= upper_price]\n",
    "df = df[df['price'] >= lower_price]"
   ]
  },
  {
   "cell_type": "code",
   "execution_count": 8,
   "metadata": {
    "ExecuteTime": {
     "end_time": "2022-04-01T16:48:21.252529Z",
     "start_time": "2022-04-01T16:48:21.246569Z"
    }
   },
   "outputs": [
    {
     "data": {
      "text/plain": [
       "count    2.043800e+04\n",
       "mean     1.458599e+04\n",
       "std      4.001076e+04\n",
       "min      5.200000e+02\n",
       "25%      5.000000e+03\n",
       "50%      7.500000e+03\n",
       "75%      1.031675e+04\n",
       "max      1.651359e+06\n",
       "Name: sqft_lot, dtype: float64"
      ]
     },
     "execution_count": 8,
     "metadata": {},
     "output_type": "execute_result"
    }
   ],
   "source": [
    "df['sqft_lot'].describe()"
   ]
  },
  {
   "cell_type": "code",
   "execution_count": 9,
   "metadata": {
    "ExecuteTime": {
     "end_time": "2022-04-01T16:48:21.261739Z",
     "start_time": "2022-04-01T16:48:21.254664Z"
    }
   },
   "outputs": [],
   "source": [
    "sqft_lot_q75, sqft_lot_q25 = np.percentile(df['sqft_lot'],[75,25])\n",
    "intr_qrt = sqft_lot_q75-sqft_lot_q25\n",
    "upper_sqft_lot = sqft_lot_q75 + (1.5*intr_qrt)\n",
    "lower_sqft_lot = sqft_lot_q25 - (1.5*intr_qrt)\n",
    "lower_sqft_lot, upper_sqft_lot\n",
    "df = df[df['sqft_lot'] <= upper_sqft_lot]\n",
    "df = df[df['sqft_lot'] >= lower_sqft_lot]"
   ]
  },
  {
   "cell_type": "code",
   "execution_count": 10,
   "metadata": {
    "ExecuteTime": {
     "end_time": "2022-04-01T16:48:21.269592Z",
     "start_time": "2022-04-01T16:48:21.262755Z"
    }
   },
   "outputs": [
    {
     "data": {
      "text/plain": [
       "7 Average        8371\n",
       "8 Good           5297\n",
       "6 Low Average    1872\n",
       "9 Better         1866\n",
       "10 Very Good      513\n",
       "5 Fair            198\n",
       "11 Excellent       75\n",
       "4 Low              20\n",
       "12 Luxury           1\n",
       "3 Poor              1\n",
       "Name: grade, dtype: int64"
      ]
     },
     "execution_count": 10,
     "metadata": {},
     "output_type": "execute_result"
    }
   ],
   "source": [
    "df['grade'].value_counts()"
   ]
  },
  {
   "cell_type": "code",
   "execution_count": 11,
   "metadata": {
    "ExecuteTime": {
     "end_time": "2022-04-01T16:48:21.279542Z",
     "start_time": "2022-04-01T16:48:21.270955Z"
    }
   },
   "outputs": [],
   "source": [
    "df = df[df['grade'] != '3 Poor']\n",
    "df = df[df['grade'] != '12 Luxury']"
   ]
  },
  {
   "cell_type": "markdown",
   "metadata": {},
   "source": [
    "### Helper Functions"
   ]
  },
  {
   "cell_type": "markdown",
   "metadata": {},
   "source": [
    "These are a list of helper functions that we created to help us streamline our work flow and minimize repeating code "
   ]
  },
  {
   "cell_type": "code",
   "execution_count": 12,
   "metadata": {
    "ExecuteTime": {
     "end_time": "2022-04-01T16:48:21.284686Z",
     "start_time": "2022-04-01T16:48:21.280594Z"
    }
   },
   "outputs": [],
   "source": [
    "def ohe(df, df2, column):    \n",
    "    for col in column:\n",
    "        train = df[[col]]\n",
    "        ohe = OneHotEncoder(drop=\"first\", sparse=False, handle_unknown=\"error\")\n",
    "        ohe.fit(train)\n",
    "        encoded_train = ohe.transform(train)\n",
    "        col_names = [f\"{col}_{f}\" for f in ohe.get_feature_names()]\n",
    "        encoded_train = pd.DataFrame(encoded_train,\n",
    "                                     columns=col_names, index=df.index)\n",
    "        df = pd.concat([df, encoded_train], axis=1)\n",
    "        \n",
    "        test = df2[[col]]\n",
    "        encoded_test = ohe.transform(test)\n",
    "        col_names = [f\"{col}_{f}\" for f in ohe.get_feature_names()]\n",
    "        encoded_test = pd.DataFrame(encoded_test, \n",
    "                                    columns=col_names, index=df2.index)\n",
    "        df2 = pd.concat([df2, encoded_test], axis=1)\n",
    "    return df, df2, encoded_train.columns.tolist()"
   ]
  },
  {
   "cell_type": "markdown",
   "metadata": {},
   "source": [
    "The function above creates a pipeline to perform two different transformations to test or train? data for any given input variable: First it utilizes the OneHotEncoder to take our categorical variables and encode them into a form that we can use in linear regression. The function takes in a training df, 'df', a test df, 'df2', and a column name, ['column_name']. It returns the training df and the test df concatenated with the new encoded columns. It also returns a list of the new encoded column names.  Secondly, it runs linear regression on encoded values by using .fit()."
   ]
  },
  {
   "cell_type": "code",
   "execution_count": 13,
   "metadata": {
    "ExecuteTime": {
     "end_time": "2022-04-01T16:48:21.289088Z",
     "start_time": "2022-04-01T16:48:21.286269Z"
    }
   },
   "outputs": [],
   "source": [
    "def scale_n_score(x,y,x2,y2):        \n",
    "    scaler = StandardScaler()\n",
    "    scaler.fit(x)\n",
    "    X_train_scaled = scaler.transform(x)\n",
    "    X_test_scaled = scaler.transform(x2)\n",
    "\n",
    "    lr = LinearRegression()\n",
    "    lr.fit(X_train_scaled,y_train)\n",
    "\n",
    "    train_preds = lr.predict(X_train_scaled)\n",
    "    test_preds = lr.predict(X_test_scaled)\n",
    "\n",
    "    print('Training Score:',r2_score(y_train,train_preds))\n",
    "    print('Test Score:',r2_score(y_test,test_preds))\n",
    "    return X_train_scaled, X_test_scaled, train_preds, test_preds"
   ]
  },
  {
   "cell_type": "markdown",
   "metadata": {},
   "source": [
    "The function above performs two actions; first it runs Standard Scaler, which scales all the values, in the test data and training data respectively, so that the output of our models are depicted in comparable units. Secondly, it scores the scaled data to get the R^2 results, a metric used in determining the efficacy of our model. "
   ]
  },
  {
   "cell_type": "code",
   "execution_count": 14,
   "metadata": {
    "ExecuteTime": {
     "end_time": "2022-04-01T16:48:21.293927Z",
     "start_time": "2022-04-01T16:48:21.290617Z"
    }
   },
   "outputs": [],
   "source": [
    "def get_train_test_metrics(y_train,train_preds,\n",
    "               y_test,test_preds\n",
    "              ):\n",
    "    \"\"\"\n",
    "    Prints different training and testing metrics, namely R2, MAE, MSE, RMSE\n",
    "    \"\"\"\n",
    "    print(\"\\nTraining Metrics:\")\n",
    "    print(f\"R2: {r2_score(y_train, train_preds):.3f}\")\n",
    "    print(f\"Mean Absolute Error: {mean_absolute_error(y_train, train_preds):.3f}\")\n",
    "    print(f\"Mean Squared Error: {mean_squared_error(y_train, train_preds):.3f}\")\n",
    "    print(f\"Root Mean Squared Error: {mean_squared_error(y_train, train_preds, squared=False):.3f}\")\n",
    "    \n",
    "    print(\"\\nTesting Metrics:\")\n",
    "    print(f\"R2: {r2_score(y_test, test_preds):.3f}\")\n",
    "    print(f\"Mean Absolute Error: {mean_absolute_error(y_test, test_preds):.3f}\")\n",
    "    print(f\"Mean Squared Error: {mean_squared_error(y_test, test_preds):.3f}\")\n",
    "    print(f\"Root Mean Squared Error: {mean_squared_error(y_test, test_preds, squared=False):.3f}\")"
   ]
  },
  {
   "cell_type": "markdown",
   "metadata": {},
   "source": [
    "The function above uses the inputs of price and the predictions from our model to dtermine Mean Absolute Error (MAE), Mean Squared Error (MSE) and Root Mean Squared Error (RSME) for both the training and the testing data sets. Comparison of these values allow us to see how our model has performed. "
   ]
  },
  {
   "cell_type": "markdown",
   "metadata": {},
   "source": [
    "### The Train-Test Split"
   ]
  },
  {
   "cell_type": "markdown",
   "metadata": {},
   "source": [
    "We set price as a dependent/target variable and every other variable in our data set as the independent/predictor variables. Then we performed a train/test split on the data. This will allow us to see the true performance of our model because we will be fitting our linear regression to our training data and then applying it to our testing data. The purpose of this is to treat the testing data as unseen data (data that our model hasn't experienced yet) and by comparing the training metrics between these two-data sets we can gain a better understanding of the validity of each model we create in the iterative process. "
   ]
  },
  {
   "cell_type": "code",
   "execution_count": 15,
   "metadata": {
    "ExecuteTime": {
     "end_time": "2022-04-01T16:48:21.303183Z",
     "start_time": "2022-04-01T16:48:21.295298Z"
    }
   },
   "outputs": [],
   "source": [
    "y = df[\"price\"]\n",
    "X = df.drop(\"price\", axis=1)\n",
    "\n",
    "X_train, X_test, y_train, y_test = train_test_split(X, y, random_state=42, test_size=.25)"
   ]
  },
  {
   "cell_type": "markdown",
   "metadata": {},
   "source": [
    "### Categorical Variables\n"
   ]
  },
  {
   "cell_type": "markdown",
   "metadata": {},
   "source": [
    "The variables : 'bedroom_bin', 'view', 'zipcode', 'condition', and 'grade' are categorical variables. While the variables 'waterfront' is a binomial categorical variable. Each of these variables need to be converted into a format that can be modeled. "
   ]
  },
  {
   "cell_type": "markdown",
   "metadata": {},
   "source": [
    "#### Waterfront"
   ]
  },
  {
   "cell_type": "markdown",
   "metadata": {},
   "source": [
    "Since this variable is a binomial categorical variable, OridinalEncoder was used to change this variable into a numeric one. Values denoted with \"NAs\" were determined to be \"No\" so those values were replaced as such.  "
   ]
  },
  {
   "cell_type": "code",
   "execution_count": 16,
   "metadata": {
    "ExecuteTime": {
     "end_time": "2022-04-01T16:48:21.307469Z",
     "start_time": "2022-04-01T16:48:21.304155Z"
    }
   },
   "outputs": [],
   "source": [
    "X_train['waterfront'].fillna('NO', inplace=True)\n",
    "X_test['waterfront'].fillna('NO', inplace=True)"
   ]
  },
  {
   "cell_type": "code",
   "execution_count": 17,
   "metadata": {
    "ExecuteTime": {
     "end_time": "2022-04-01T16:48:21.314247Z",
     "start_time": "2022-04-01T16:48:21.308358Z"
    }
   },
   "outputs": [],
   "source": [
    "waterfront_train = X_train[['waterfront']]\n",
    "encoder_waterfront = OrdinalEncoder()\n",
    "encoder_waterfront.fit(waterfront_train)\n",
    "encoder_waterfront.categories_[0]\n",
    "waterfront_encoded_train = encoder_waterfront.transform(waterfront_train)\n",
    "waterfront_encoded_train = waterfront_encoded_train.flatten()\n",
    "X_train[\"waterfront\"] = waterfront_encoded_train"
   ]
  },
  {
   "cell_type": "code",
   "execution_count": 18,
   "metadata": {
    "ExecuteTime": {
     "end_time": "2022-04-01T16:48:21.320900Z",
     "start_time": "2022-04-01T16:48:21.315139Z"
    }
   },
   "outputs": [],
   "source": [
    "waterfront_test = X_test[['waterfront']]\n",
    "encoder_waterfront = OrdinalEncoder()\n",
    "encoder_waterfront.fit(waterfront_test)\n",
    "encoder_waterfront.categories_[0]\n",
    "waterfront_encoded_test = encoder_waterfront.transform(waterfront_test)\n",
    "waterfront_encoded_test = waterfront_encoded_test.flatten()\n",
    "X_test[\"waterfront\"] = waterfront_encoded_test"
   ]
  },
  {
   "cell_type": "markdown",
   "metadata": {},
   "source": [
    "#### View "
   ]
  },
  {
   "cell_type": "markdown",
   "metadata": {},
   "source": [
    "The variable 'view' has 5 categories; NONE, AVERAGE, GOOD, FAIR, and EXCELLENT. The helper function we created above was use to encode this variable into a numeric one. We also replaced the string values so we could use it for comparative analysis to make our modeling process more efficient"
   ]
  },
  {
   "cell_type": "code",
   "execution_count": 19,
   "metadata": {
    "ExecuteTime": {
     "end_time": "2022-04-01T16:48:21.326297Z",
     "start_time": "2022-04-01T16:48:21.322618Z"
    }
   },
   "outputs": [
    {
     "data": {
      "text/plain": [
       "45"
      ]
     },
     "execution_count": 19,
     "metadata": {},
     "output_type": "execute_result"
    }
   ],
   "source": [
    "X_train['view'].isna().sum()"
   ]
  },
  {
   "cell_type": "code",
   "execution_count": 20,
   "metadata": {
    "ExecuteTime": {
     "end_time": "2022-04-01T16:48:21.330829Z",
     "start_time": "2022-04-01T16:48:21.327559Z"
    }
   },
   "outputs": [],
   "source": [
    "X_train['view'].fillna(\"NONE\", inplace=True)\n",
    "X_test['view'].fillna(\"NONE\", inplace=True)"
   ]
  },
  {
   "cell_type": "code",
   "execution_count": 21,
   "metadata": {
    "ExecuteTime": {
     "end_time": "2022-04-01T16:48:21.344397Z",
     "start_time": "2022-04-01T16:48:21.331825Z"
    }
   },
   "outputs": [],
   "source": [
    "X_train, X_test, encoded_view = ohe(X_train, X_test, ['view'])"
   ]
  },
  {
   "cell_type": "code",
   "execution_count": 22,
   "metadata": {
    "ExecuteTime": {
     "end_time": "2022-04-01T16:48:21.349008Z",
     "start_time": "2022-04-01T16:48:21.345342Z"
    }
   },
   "outputs": [],
   "source": [
    "# Change view rating to a numeric value for comparative purposes.\n",
    "X_train['view'] = X_train['view'].map({'EXCELLENT':5,\n",
    "                             'GOOD':4,\n",
    "                             'AVERAGE':3,\n",
    "                             'FAIR':2,\n",
    "                             'NONE':1})"
   ]
  },
  {
   "cell_type": "code",
   "execution_count": 23,
   "metadata": {
    "ExecuteTime": {
     "end_time": "2022-04-01T16:48:21.357236Z",
     "start_time": "2022-04-01T16:48:21.353791Z"
    }
   },
   "outputs": [],
   "source": [
    "X_test['view'] = X_test['view'].map({'EXCELLENT':5,\n",
    "                             'GOOD':4,\n",
    "                             'AVERAGE':3,\n",
    "                             'FAIR':2,\n",
    "                             'NONE':1})"
   ]
  },
  {
   "cell_type": "markdown",
   "metadata": {},
   "source": [
    "#### Condition "
   ]
  },
  {
   "cell_type": "markdown",
   "metadata": {},
   "source": [
    "We again replaced the string values in this column and the utilized the ohe function to perform the same encoding as above."
   ]
  },
  {
   "cell_type": "code",
   "execution_count": 24,
   "metadata": {
    "ExecuteTime": {
     "end_time": "2022-04-01T16:48:21.373326Z",
     "start_time": "2022-04-01T16:48:21.360173Z"
    }
   },
   "outputs": [],
   "source": [
    "X_train, X_test, encoded_condition = ohe(X_train, X_test, ['condition'])"
   ]
  },
  {
   "cell_type": "code",
   "execution_count": 25,
   "metadata": {
    "ExecuteTime": {
     "end_time": "2022-04-01T16:48:21.379178Z",
     "start_time": "2022-04-01T16:48:21.375090Z"
    }
   },
   "outputs": [],
   "source": [
    "# Change condition rating to a numeric value for comparitive purposes.\n",
    "X_train['condition'] = X_train['condition'].map({'Very Good':5,\n",
    "                                       'Good':4,\n",
    "                                       'Average':3,\n",
    "                                       'Fair':2,\n",
    "                                       'Poor':1})"
   ]
  },
  {
   "cell_type": "code",
   "execution_count": 26,
   "metadata": {
    "ExecuteTime": {
     "end_time": "2022-04-01T16:48:21.383476Z",
     "start_time": "2022-04-01T16:48:21.380157Z"
    }
   },
   "outputs": [],
   "source": [
    "X_test['condition'] = X_test['condition'].map({'Very Good':5,\n",
    "                                       'Good':4,\n",
    "                                       'Average':3,\n",
    "                                       'Fair':2,\n",
    "                                       'Poor':1})"
   ]
  },
  {
   "cell_type": "markdown",
   "metadata": {},
   "source": [
    "Similarly, the ohe() function was used below to encode the remaining categorical variables : 'grade', 'zipcode' and 'bedroom_bins'"
   ]
  },
  {
   "cell_type": "markdown",
   "metadata": {},
   "source": [
    "#### Grade "
   ]
  },
  {
   "cell_type": "code",
   "execution_count": 27,
   "metadata": {
    "ExecuteTime": {
     "end_time": "2022-04-01T16:48:21.398917Z",
     "start_time": "2022-04-01T16:48:21.384714Z"
    }
   },
   "outputs": [],
   "source": [
    "X_train, X_test, encoded_grade = ohe(X_train, X_test, ['grade'])"
   ]
  },
  {
   "cell_type": "markdown",
   "metadata": {},
   "source": [
    "#### Zipcode "
   ]
  },
  {
   "cell_type": "code",
   "execution_count": 28,
   "metadata": {
    "ExecuteTime": {
     "end_time": "2022-04-01T16:48:21.420209Z",
     "start_time": "2022-04-01T16:48:21.400176Z"
    }
   },
   "outputs": [],
   "source": [
    "X_train, X_test, encoded_zipcode = ohe(X_train, X_test, ['zipcode'])"
   ]
  },
  {
   "cell_type": "markdown",
   "metadata": {},
   "source": [
    "#### Bedroom_bins"
   ]
  },
  {
   "cell_type": "code",
   "execution_count": 29,
   "metadata": {
    "ExecuteTime": {
     "end_time": "2022-04-01T16:48:21.445872Z",
     "start_time": "2022-04-01T16:48:21.421393Z"
    }
   },
   "outputs": [],
   "source": [
    "X_train, X_test, encoded_bedroom_bin = ohe(X_train, X_test, ['bedrooms_bin'])"
   ]
  },
  {
   "cell_type": "markdown",
   "metadata": {},
   "source": [
    "We treated the 'bedroom' variable as a categorical variable even though its a numeric variable because we found that in the raw data, bigger homes skewed our model. We found that by treating it as a categorical variable improved model performance and accounted for the lack of data in the higher range of bedrooms without any data loss. "
   ]
  },
  {
   "cell_type": "markdown",
   "metadata": {},
   "source": [
    "## Our iterative modeling process\n"
   ]
  },
  {
   "cell_type": "markdown",
   "metadata": {},
   "source": [
    "First, we created a dummy regressor to act as our baseline model, our scores indicate that our model is performing better than the base model"
   ]
  },
  {
   "cell_type": "markdown",
   "metadata": {},
   "source": [
    "#### Base Model - Dummy Regressor"
   ]
  },
  {
   "cell_type": "code",
   "execution_count": 30,
   "metadata": {
    "ExecuteTime": {
     "end_time": "2022-04-01T16:48:21.450982Z",
     "start_time": "2022-04-01T16:48:21.447050Z"
    }
   },
   "outputs": [
    {
     "data": {
      "text/plain": [
       "0.0"
      ]
     },
     "execution_count": 30,
     "metadata": {},
     "output_type": "execute_result"
    }
   ],
   "source": [
    "dummy = DummyRegressor() #mean strategy\n",
    "dummy.fit(X_train,y_train)\n",
    "dummy.score(X_train,y_train)"
   ]
  },
  {
   "cell_type": "code",
   "execution_count": 31,
   "metadata": {
    "ExecuteTime": {
     "end_time": "2022-04-01T16:48:21.456772Z",
     "start_time": "2022-04-01T16:48:21.452479Z"
    }
   },
   "outputs": [
    {
     "data": {
      "text/plain": [
       "-0.0002287894919794642"
      ]
     },
     "execution_count": 31,
     "metadata": {},
     "output_type": "execute_result"
    }
   ],
   "source": [
    "dummy.score(X_test,y_test)"
   ]
  },
  {
   "cell_type": "markdown",
   "metadata": {},
   "source": [
    "#### Model 1"
   ]
  },
  {
   "cell_type": "code",
   "execution_count": 32,
   "metadata": {
    "ExecuteTime": {
     "end_time": "2022-04-01T16:48:22.117771Z",
     "start_time": "2022-04-01T16:48:21.457807Z"
    },
    "scrolled": false
   },
   "outputs": [
    {
     "data": {
      "image/png": "[encoded data removed]",
      "text/plain": [
       "<Figure size 720x576 with 2 Axes>"
      ]
     },
     "metadata": {},
     "output_type": "display_data"
    }
   ],
   "source": [
    "# sns.heatmap(df.corr(),annot=True)\n",
    "with sns.axes_style(\"darkgrid\"):\n",
    "    f, ax = plt.subplots(figsize=(10, 8))\n",
    "    \n",
    "    mask = np.triu(np.ones_like(df.corr(), dtype=bool))\n",
    "    ax = sns.heatmap(abs(df.corr()),mask=mask,annot=True)\n",
    "    f.savefig('images/Corelation Heatmap',bbox_inches=\"tight\")"
   ]
  },
  {
   "cell_type": "markdown",
   "metadata": {},
   "source": [
    "Our first model only uses 'sqft_living' as a predictor for our target because it was the most correlated variable to price as depicted by the seaborn heatmap above. We used our scale_n_score helper function to get the r^2 scores for each model. "
   ]
  },
  {
   "cell_type": "code",
   "execution_count": 33,
   "metadata": {
    "ExecuteTime": {
     "end_time": "2022-04-01T16:48:22.132672Z",
     "start_time": "2022-04-01T16:48:22.118723Z"
    }
   },
   "outputs": [],
   "source": [
    "cols = ['sqft_living']\n",
    "y = y_train\n",
    "x = X_train.filter(cols, axis=1)\n",
    "\n",
    "y2 = y_test\n",
    "x2 = X_test.filter(cols, axis=1)"
   ]
  },
  {
   "cell_type": "code",
   "execution_count": 34,
   "metadata": {
    "ExecuteTime": {
     "end_time": "2022-04-01T16:48:22.145496Z",
     "start_time": "2022-04-01T16:48:22.133711Z"
    }
   },
   "outputs": [
    {
     "name": "stdout",
     "output_type": "stream",
     "text": [
      "Training Score: 0.35205094281398364\n",
      "Test Score: 0.3790093814962543\n"
     ]
    }
   ],
   "source": [
    "X_train_scaled, X_test_scaled, train_preds, test_preds = scale_n_score(x,y,x2,y2)"
   ]
  },
  {
   "cell_type": "markdown",
   "metadata": {},
   "source": [
    "The r^2 values here determine that Model 1 only accounts for roughly 35-40% of the variance of house prices in King County. On the contrary, our model did perform well because the scores between the training and test set aren't that different. Finally,a higher r^2 value for the test data compared to the training data, in this case,this could indicate that model 1 is too simple."
   ]
  },
  {
   "cell_type": "markdown",
   "metadata": {},
   "source": [
    "#### Model 2\n",
    "We first chose to use columns 'sqft_living', 'sqft_living15', 'bathrooms', and the columns created from encoding 'zipcode'."
   ]
  },
  {
   "cell_type": "code",
   "execution_count": 35,
   "metadata": {
    "ExecuteTime": {
     "end_time": "2022-04-01T16:48:22.155283Z",
     "start_time": "2022-04-01T16:48:22.146973Z"
    }
   },
   "outputs": [
    {
     "data": {
      "text/plain": [
       "price            1.000000\n",
       "sqft_living      0.598983\n",
       "sqft_living15    0.536502\n",
       "sqft_above       0.492556\n",
       "lat              0.450100\n",
       "bathrooms        0.429260\n",
       "bedrooms         0.292722\n",
       "floors           0.262999\n",
       "long             0.034681\n",
       "sqft_lot15       0.024641\n",
       "yr_built         0.024433\n",
       "sqft_lot         0.005248\n",
       "zipcode          0.003252\n",
       "Name: price, dtype: float64"
      ]
     },
     "execution_count": 35,
     "metadata": {},
     "output_type": "execute_result"
    }
   ],
   "source": [
    "df.corr()['price'].abs().sort_values(ascending=False)"
   ]
  },
  {
   "cell_type": "code",
   "execution_count": 36,
   "metadata": {
    "ExecuteTime": {
     "end_time": "2022-04-01T16:48:22.163995Z",
     "start_time": "2022-04-01T16:48:22.156536Z"
    }
   },
   "outputs": [],
   "source": [
    "cols = ['sqft_living', 'bathrooms', 'sqft_living15'] +  encoded_zipcode\n",
    "y = y_train\n",
    "x = X_train.filter(cols, axis=1)\n",
    "\n",
    "y2 = y_test\n",
    "x2 = X_test.filter(cols, axis=1)\n"
   ]
  },
  {
   "cell_type": "code",
   "execution_count": 37,
   "metadata": {
    "ExecuteTime": {
     "end_time": "2022-04-01T16:48:22.362238Z",
     "start_time": "2022-04-01T16:48:22.165906Z"
    }
   },
   "outputs": [
    {
     "name": "stdout",
     "output_type": "stream",
     "text": [
      "Training Score: 0.7972171842793818\n",
      "Test Score: 0.8086365897018465\n"
     ]
    }
   ],
   "source": [
    "X_train_scaled, X_test_scaled, train_preds, test_preds = scale_n_score(x,y,x2,y2)"
   ]
  },
  {
   "cell_type": "code",
   "execution_count": 38,
   "metadata": {
    "ExecuteTime": {
     "end_time": "2022-04-01T16:48:22.368208Z",
     "start_time": "2022-04-01T16:48:22.363329Z"
    }
   },
   "outputs": [
    {
     "name": "stdout",
     "output_type": "stream",
     "text": [
      "\n",
      "Training Metrics:\n",
      "R2: 0.797\n",
      "Mean Absolute Error: 67121.184\n",
      "Mean Squared Error: 8476942207.650\n",
      "Root Mean Squared Error: 92070.311\n",
      "\n",
      "Testing Metrics:\n",
      "R2: 0.809\n",
      "Mean Absolute Error: 65392.585\n",
      "Mean Squared Error: 7888959233.643\n",
      "Root Mean Squared Error: 88819.813\n"
     ]
    }
   ],
   "source": [
    "get_train_test_metrics(y_train, train_preds, y_test, test_preds)"
   ]
  },
  {
   "cell_type": "markdown",
   "metadata": {},
   "source": [
    "#### Model 2b\n",
    "This model uses the columns 'sqft_living', 'bathrooms', 'sqft_living15', and 'zipcode'. "
   ]
  },
  {
   "cell_type": "code",
   "execution_count": 39,
   "metadata": {
    "ExecuteTime": {
     "end_time": "2022-04-01T16:48:22.372797Z",
     "start_time": "2022-04-01T16:48:22.369376Z"
    }
   },
   "outputs": [],
   "source": [
    "cols = ['sqft_living', 'bathrooms', 'sqft_living15', 'zipcode']\n",
    "y = y_train\n",
    "x = X_train.filter(cols, axis=1)\n",
    "\n",
    "y2 = y_test\n",
    "x2 = X_test.filter(cols, axis=1)"
   ]
  },
  {
   "cell_type": "code",
   "execution_count": 40,
   "metadata": {
    "ExecuteTime": {
     "end_time": "2022-04-01T16:48:22.394088Z",
     "start_time": "2022-04-01T16:48:22.374221Z"
    }
   },
   "outputs": [
    {
     "name": "stdout",
     "output_type": "stream",
     "text": [
      "Training Score: 0.3993413028686136\n",
      "Test Score: 0.4109408603232637\n"
     ]
    }
   ],
   "source": [
    "X_train_scaled, X_test_scaled, train_preds, test_preds = scale_n_score(x,y,x2,y2)"
   ]
  },
  {
   "cell_type": "code",
   "execution_count": 41,
   "metadata": {
    "ExecuteTime": {
     "end_time": "2022-04-01T16:48:22.403592Z",
     "start_time": "2022-04-01T16:48:22.396372Z"
    }
   },
   "outputs": [
    {
     "name": "stdout",
     "output_type": "stream",
     "text": [
      "\n",
      "Training Metrics:\n",
      "R2: 0.399\n",
      "Mean Absolute Error: 127074.905\n",
      "Mean Squared Error: 25109371541.226\n",
      "Root Mean Squared Error: 158459.369\n",
      "\n",
      "Testing Metrics:\n",
      "R2: 0.411\n",
      "Mean Absolute Error: 125592.315\n",
      "Mean Squared Error: 24283971172.305\n",
      "Root Mean Squared Error: 155833.152\n"
     ]
    }
   ],
   "source": [
    "get_train_test_metrics(y_train, train_preds, y_test, test_preds)"
   ]
  },
  {
   "cell_type": "markdown",
   "metadata": {},
   "source": [
    "Note the difference between entering the encoded columns for 'zipcode' and actually entering the column 'zipcode'. The encoding gives us a higher R2 value and gives us a lower Root Mean Squared Error. Using encoded categorical variables seems to improve our models."
   ]
  },
  {
   "cell_type": "markdown",
   "metadata": {},
   "source": [
    "#### Model 3\n",
    "Using columns  'sqft_living', 'bedrooms', 'sqft_living15', and the columns created from encoding 'zipcode'."
   ]
  },
  {
   "cell_type": "code",
   "execution_count": 42,
   "metadata": {
    "ExecuteTime": {
     "end_time": "2022-04-01T16:48:22.408942Z",
     "start_time": "2022-04-01T16:48:22.404713Z"
    }
   },
   "outputs": [],
   "source": [
    "cols = ['sqft_living', 'bedrooms', 'sqft_living15'] +  encoded_zipcode\n",
    "y = y_train\n",
    "x = X_train.filter(cols, axis=1)\n",
    "\n",
    "y2 = y_test\n",
    "x2 = X_test.filter(cols, axis=1)"
   ]
  },
  {
   "cell_type": "code",
   "execution_count": 43,
   "metadata": {
    "ExecuteTime": {
     "end_time": "2022-04-01T16:48:22.598988Z",
     "start_time": "2022-04-01T16:48:22.409942Z"
    }
   },
   "outputs": [
    {
     "name": "stdout",
     "output_type": "stream",
     "text": [
      "Training Score: 0.7978039612711763\n",
      "Test Score: 0.8092911549828725\n"
     ]
    }
   ],
   "source": [
    "X_train_scaled, X_test_scaled, train_preds, test_preds = scale_n_score(x,y,x2,y2)"
   ]
  },
  {
   "cell_type": "code",
   "execution_count": 44,
   "metadata": {
    "ExecuteTime": {
     "end_time": "2022-04-01T16:48:22.606200Z",
     "start_time": "2022-04-01T16:48:22.600219Z"
    },
    "scrolled": true
   },
   "outputs": [
    {
     "name": "stdout",
     "output_type": "stream",
     "text": [
      "\n",
      "Training Metrics:\n",
      "R2: 0.798\n",
      "Mean Absolute Error: 67040.807\n",
      "Mean Squared Error: 8452413133.869\n",
      "Root Mean Squared Error: 91937.006\n",
      "\n",
      "Testing Metrics:\n",
      "R2: 0.809\n",
      "Mean Absolute Error: 65267.174\n",
      "Mean Squared Error: 7861974770.888\n",
      "Root Mean Squared Error: 88667.778\n"
     ]
    }
   ],
   "source": [
    "get_train_test_metrics(y_train, train_preds, y_test, test_preds)"
   ]
  },
  {
   "cell_type": "markdown",
   "metadata": {},
   "source": [
    "##### Model 3b"
   ]
  },
  {
   "cell_type": "markdown",
   "metadata": {},
   "source": [
    "Trying model 3 with encoded_bathrooms_bin."
   ]
  },
  {
   "cell_type": "code",
   "execution_count": 45,
   "metadata": {
    "ExecuteTime": {
     "end_time": "2022-04-01T16:48:22.614048Z",
     "start_time": "2022-04-01T16:48:22.607829Z"
    }
   },
   "outputs": [],
   "source": [
    "cols = ['sqft_living', 'sqft_living15'] +  encoded_zipcode + encoded_bedroom_bin\n",
    "y = y_train\n",
    "x = X_train.filter(cols, axis=1)\n",
    "\n",
    "y2 = y_test\n",
    "x2 = X_test.filter(cols, axis=1)"
   ]
  },
  {
   "cell_type": "code",
   "execution_count": 46,
   "metadata": {
    "ExecuteTime": {
     "end_time": "2022-04-01T16:48:22.837893Z",
     "start_time": "2022-04-01T16:48:22.615185Z"
    }
   },
   "outputs": [
    {
     "name": "stdout",
     "output_type": "stream",
     "text": [
      "Training Score: 0.799227552045403\n",
      "Test Score: 0.8114168190412745\n"
     ]
    }
   ],
   "source": [
    "X_train_scaled, X_test_scaled, train_preds, test_preds = scale_n_score(x,y,x2,y2)"
   ]
  },
  {
   "cell_type": "code",
   "execution_count": 47,
   "metadata": {
    "ExecuteTime": {
     "end_time": "2022-04-01T16:48:22.844354Z",
     "start_time": "2022-04-01T16:48:22.839478Z"
    },
    "scrolled": true
   },
   "outputs": [
    {
     "name": "stdout",
     "output_type": "stream",
     "text": [
      "\n",
      "Training Metrics:\n",
      "R2: 0.799\n",
      "Mean Absolute Error: 66764.908\n",
      "Mean Squared Error: 8392902683.353\n",
      "Root Mean Squared Error: 91612.787\n",
      "\n",
      "Testing Metrics:\n",
      "R2: 0.811\n",
      "Mean Absolute Error: 64862.175\n",
      "Mean Squared Error: 7774344240.710\n",
      "Root Mean Squared Error: 88172.242\n"
     ]
    }
   ],
   "source": [
    "get_train_test_metrics(y_train, train_preds, y_test, test_preds)"
   ]
  },
  {
   "cell_type": "markdown",
   "metadata": {},
   "source": [
    "The R2 values from model 3 are acceptable. I would like to minimize the RMSE values as much as possible. "
   ]
  },
  {
   "cell_type": "markdown",
   "metadata": {},
   "source": [
    "#### Model 4\n",
    "Using columns 'sqft_living', 'bedrooms', and the columns created from encoding 'zipcode' and 'condition'."
   ]
  },
  {
   "cell_type": "code",
   "execution_count": 48,
   "metadata": {
    "ExecuteTime": {
     "end_time": "2022-04-01T16:48:22.850310Z",
     "start_time": "2022-04-01T16:48:22.845423Z"
    }
   },
   "outputs": [],
   "source": [
    "cols = ['sqft_living', 'bedrooms'] +  encoded_zipcode + encoded_condition\n",
    "y = y_train\n",
    "x = X_train.filter(cols, axis=1)\n",
    "\n",
    "y2 = y_test\n",
    "x2 = X_test.filter(cols, axis=1)"
   ]
  },
  {
   "cell_type": "code",
   "execution_count": 49,
   "metadata": {
    "ExecuteTime": {
     "end_time": "2022-04-01T16:48:23.059459Z",
     "start_time": "2022-04-01T16:48:22.851325Z"
    }
   },
   "outputs": [
    {
     "name": "stdout",
     "output_type": "stream",
     "text": [
      "Training Score: 0.7882553234618938\n",
      "Test Score: 0.8019139401688503\n"
     ]
    }
   ],
   "source": [
    "X_train_scaled, X_test_scaled, train_preds, test_preds = scale_n_score(x,y,x2,y2)"
   ]
  },
  {
   "cell_type": "code",
   "execution_count": 50,
   "metadata": {
    "ExecuteTime": {
     "end_time": "2022-04-01T16:48:23.065582Z",
     "start_time": "2022-04-01T16:48:23.060645Z"
    }
   },
   "outputs": [
    {
     "name": "stdout",
     "output_type": "stream",
     "text": [
      "\n",
      "Training Metrics:\n",
      "R2: 0.788\n",
      "Mean Absolute Error: 68359.691\n",
      "Mean Squared Error: 8851575412.899\n",
      "Root Mean Squared Error: 94082.811\n",
      "\n",
      "Testing Metrics:\n",
      "R2: 0.802\n",
      "Mean Absolute Error: 65715.248\n",
      "Mean Squared Error: 8166100553.528\n",
      "Root Mean Squared Error: 90366.479\n"
     ]
    }
   ],
   "source": [
    "get_train_test_metrics(y_train, train_preds, y_test, test_preds)"
   ]
  },
  {
   "cell_type": "markdown",
   "metadata": {},
   "source": [
    "#### Model 4b\n",
    "Using columns 'sqft_living', and the columns created from encoding 'zipcode', 'bedroom_bin', and 'condition'."
   ]
  },
  {
   "cell_type": "code",
   "execution_count": 51,
   "metadata": {
    "ExecuteTime": {
     "end_time": "2022-04-01T16:48:23.071215Z",
     "start_time": "2022-04-01T16:48:23.066652Z"
    }
   },
   "outputs": [],
   "source": [
    "cols = ['sqft_living']  + encoded_bedroom_bin +  encoded_zipcode + encoded_condition\n",
    "y = y_train\n",
    "x = X_train.filter(cols, axis=1)\n",
    "\n",
    "y2 = y_test\n",
    "x2 = X_test.filter(cols, axis=1)"
   ]
  },
  {
   "cell_type": "code",
   "execution_count": 52,
   "metadata": {
    "ExecuteTime": {
     "end_time": "2022-04-01T16:48:23.282097Z",
     "start_time": "2022-04-01T16:48:23.072408Z"
    }
   },
   "outputs": [
    {
     "name": "stdout",
     "output_type": "stream",
     "text": [
      "Training Score: 0.7899254758710148\n",
      "Test Score: 0.8043563330303309\n"
     ]
    }
   ],
   "source": [
    "X_train_scaled, X_test_scaled, train_preds, test_preds = scale_n_score(x,y,x2,y2)"
   ]
  },
  {
   "cell_type": "code",
   "execution_count": 53,
   "metadata": {
    "ExecuteTime": {
     "end_time": "2022-04-01T16:48:23.288997Z",
     "start_time": "2022-04-01T16:48:23.283267Z"
    }
   },
   "outputs": [
    {
     "name": "stdout",
     "output_type": "stream",
     "text": [
      "\n",
      "Training Metrics:\n",
      "R2: 0.790\n",
      "Mean Absolute Error: 68112.963\n",
      "Mean Squared Error: 8781757931.572\n",
      "Root Mean Squared Error: 93711.034\n",
      "\n",
      "Testing Metrics:\n",
      "R2: 0.804\n",
      "Mean Absolute Error: 65248.085\n",
      "Mean Squared Error: 8065412874.067\n",
      "Root Mean Squared Error: 89807.644\n"
     ]
    }
   ],
   "source": [
    "get_train_test_metrics(y_train, train_preds, y_test, test_preds)"
   ]
  },
  {
   "cell_type": "markdown",
   "metadata": {},
   "source": [
    "Again the R2 values from model 4 are acceptable, but I would like to minimize the RMSE values as much as possible. "
   ]
  },
  {
   "cell_type": "markdown",
   "metadata": {},
   "source": [
    "#### Model 5\n",
    "Using columns 'sqft_living', 'bedrooms', 'bathrooms', 'condition', 'view', and the columns created from encoding 'zipcode'. "
   ]
  },
  {
   "cell_type": "code",
   "execution_count": 54,
   "metadata": {
    "ExecuteTime": {
     "end_time": "2022-04-01T16:48:23.294889Z",
     "start_time": "2022-04-01T16:48:23.290181Z"
    }
   },
   "outputs": [],
   "source": [
    "cols = ['sqft_living', 'bedrooms', 'bathrooms', 'condition', 'view'] +  encoded_zipcode\n",
    "y = y_train\n",
    "x = X_train.filter(cols, axis=1)\n",
    "\n",
    "y2 = y_test\n",
    "x2 = X_test.filter(cols, axis=1)"
   ]
  },
  {
   "cell_type": "code",
   "execution_count": 55,
   "metadata": {
    "ExecuteTime": {
     "end_time": "2022-04-01T16:48:23.489650Z",
     "start_time": "2022-04-01T16:48:23.296964Z"
    }
   },
   "outputs": [
    {
     "name": "stdout",
     "output_type": "stream",
     "text": [
      "Training Score: 0.8040314404358433\n",
      "Test Score: 0.8109625646254899\n"
     ]
    }
   ],
   "source": [
    "X_train_scaled, X_test_scaled, train_preds, test_preds = scale_n_score(x,y,x2,y2)"
   ]
  },
  {
   "cell_type": "code",
   "execution_count": 56,
   "metadata": {
    "ExecuteTime": {
     "end_time": "2022-04-01T16:48:23.495479Z",
     "start_time": "2022-04-01T16:48:23.490851Z"
    }
   },
   "outputs": [
    {
     "name": "stdout",
     "output_type": "stream",
     "text": [
      "\n",
      "Training Metrics:\n",
      "R2: 0.804\n",
      "Mean Absolute Error: 66343.096\n",
      "Mean Squared Error: 8192085448.850\n",
      "Root Mean Squared Error: 90510.140\n",
      "\n",
      "Testing Metrics:\n",
      "R2: 0.811\n",
      "Mean Absolute Error: 64588.874\n",
      "Mean Squared Error: 7793070885.277\n",
      "Root Mean Squared Error: 88278.372\n"
     ]
    }
   ],
   "source": [
    "get_train_test_metrics(y_train, train_preds, y_test, test_preds)"
   ]
  },
  {
   "cell_type": "markdown",
   "metadata": {},
   "source": [
    "#### Model 5b\n",
    "Compared to encoded bedroom_bin, view, and condition."
   ]
  },
  {
   "cell_type": "code",
   "execution_count": 57,
   "metadata": {
    "ExecuteTime": {
     "end_time": "2022-04-01T16:48:23.501532Z",
     "start_time": "2022-04-01T16:48:23.496739Z"
    }
   },
   "outputs": [],
   "source": [
    "cols = ['sqft_living', 'bathrooms'] + encoded_bedroom_bin + encoded_condition + encoded_view + encoded_zipcode\n",
    "y = y_train\n",
    "x = X_train.filter(cols, axis=1)\n",
    "\n",
    "y2 = y_test\n",
    "x2 = X_test.filter(cols, axis=1)"
   ]
  },
  {
   "cell_type": "code",
   "execution_count": 58,
   "metadata": {
    "ExecuteTime": {
     "end_time": "2022-04-01T16:48:23.754762Z",
     "start_time": "2022-04-01T16:48:23.502678Z"
    }
   },
   "outputs": [
    {
     "name": "stdout",
     "output_type": "stream",
     "text": [
      "Training Score: 0.8073561781701597\n",
      "Test Score: 0.8144964137689303\n"
     ]
    }
   ],
   "source": [
    "X_train_scaled, X_test_scaled, train_preds, test_preds = scale_n_score(x,y,x2,y2)"
   ]
  },
  {
   "cell_type": "code",
   "execution_count": 59,
   "metadata": {
    "ExecuteTime": {
     "end_time": "2022-04-01T16:48:23.762338Z",
     "start_time": "2022-04-01T16:48:23.755760Z"
    },
    "scrolled": true
   },
   "outputs": [
    {
     "name": "stdout",
     "output_type": "stream",
     "text": [
      "\n",
      "Training Metrics:\n",
      "R2: 0.807\n",
      "Mean Absolute Error: 65794.564\n",
      "Mean Squared Error: 8053101237.938\n",
      "Root Mean Squared Error: 89739.073\n",
      "\n",
      "Testing Metrics:\n",
      "R2: 0.814\n",
      "Mean Absolute Error: 63897.108\n",
      "Mean Squared Error: 7647387905.511\n",
      "Root Mean Squared Error: 87449.345\n"
     ]
    }
   ],
   "source": [
    "get_train_test_metrics(y_train, train_preds, y_test, test_preds)"
   ]
  },
  {
   "cell_type": "markdown",
   "metadata": {
    "ExecuteTime": {
     "end_time": "2022-04-01T15:05:53.904313Z",
     "start_time": "2022-04-01T15:05:53.887234Z"
    }
   },
   "source": [
    "Getting warmer. "
   ]
  },
  {
   "cell_type": "markdown",
   "metadata": {},
   "source": [
    "#### Model 6"
   ]
  },
  {
   "cell_type": "markdown",
   "metadata": {},
   "source": [
    "In this model the predictor variables we used were 'sqft_living', 'bedrooms', 'bathrooms', 'yr_built' and the ectra columns created from encoding the categorical variables: 'condition', 'view', and 'zipcode'. We did not use 'grade' in this model as we determine that 'condition' was an equivalent indicator."
   ]
  },
  {
   "cell_type": "code",
   "execution_count": 60,
   "metadata": {
    "ExecuteTime": {
     "end_time": "2022-04-01T16:48:23.768081Z",
     "start_time": "2022-04-01T16:48:23.763825Z"
    }
   },
   "outputs": [],
   "source": [
    "cols = ['sqft_living', 'bedrooms', 'bathrooms', 'yr_built'] + encoded_condition + encoded_view + encoded_zipcode\n",
    "y = y_train\n",
    "x = X_train.filter(cols, axis=1)\n",
    "\n",
    "y2 = y_test\n",
    "x2 = X_test.filter(cols, axis=1)"
   ]
  },
  {
   "cell_type": "code",
   "execution_count": 61,
   "metadata": {
    "ExecuteTime": {
     "end_time": "2022-04-01T16:48:23.996399Z",
     "start_time": "2022-04-01T16:48:23.769213Z"
    }
   },
   "outputs": [
    {
     "name": "stdout",
     "output_type": "stream",
     "text": [
      "Training Score: 0.805909058601276\n",
      "Test Score: 0.8118721210013764\n"
     ]
    }
   ],
   "source": [
    "X_train_scaled, X_test_scaled, train_preds, test_preds = scale_n_score(x,y,x2,y2)"
   ]
  },
  {
   "cell_type": "markdown",
   "metadata": {},
   "source": [
    "The r^2 score value shown above depicts that Model accounts for about 80% of the variance of house price in our dataset. This indicates that model is performing inferential analysis much better than model 1. Furthermore, the test score is even higher than the Training score which indicates that the predictive performance of the model is also great."
   ]
  },
  {
   "cell_type": "code",
   "execution_count": 62,
   "metadata": {
    "ExecuteTime": {
     "end_time": "2022-04-01T16:48:24.003050Z",
     "start_time": "2022-04-01T16:48:23.997556Z"
    }
   },
   "outputs": [
    {
     "name": "stdout",
     "output_type": "stream",
     "text": [
      "\n",
      "Training Metrics:\n",
      "R2: 0.806\n",
      "Mean Absolute Error: 66048.354\n",
      "Mean Squared Error: 8113595264.069\n",
      "Root Mean Squared Error: 90075.498\n",
      "\n",
      "Testing Metrics:\n",
      "R2: 0.812\n",
      "Mean Absolute Error: 64411.926\n",
      "Mean Squared Error: 7755574411.114\n",
      "Root Mean Squared Error: 88065.739\n"
     ]
    }
   ],
   "source": [
    "get_train_test_metrics(y_train, train_preds, y_test, test_preds)"
   ]
  },
  {
   "cell_type": "code",
   "execution_count": 63,
   "metadata": {
    "ExecuteTime": {
     "end_time": "2022-04-01T16:48:24.726571Z",
     "start_time": "2022-04-01T16:48:24.004378Z"
    }
   },
   "outputs": [
    {
     "data": {
      "image/png": "[encoded data removed]",
      "text/plain": [
       "<Figure size 576x396 with 2 Axes>"
      ]
     },
     "metadata": {},
     "output_type": "display_data"
    }
   ],
   "source": [
    "lr = LinearRegression()\n",
    "visualizer = ResidualsPlot(lr)\n",
    "\n",
    "visualizer.fit(X_train_scaled, y_train)  # Fit the training data to the visualizer\n",
    "visualizer.score(X_test_scaled, y_test)  # Evaluate the model on the test data\n",
    "visualizer.show()  \n",
    "plt.show()"
   ]
  },
  {
   "cell_type": "code",
   "execution_count": 64,
   "metadata": {
    "ExecuteTime": {
     "end_time": "2022-04-01T16:48:24.806875Z",
     "start_time": "2022-04-01T16:48:24.727772Z"
    }
   },
   "outputs": [
    {
     "data": {
      "image/png": "[encoded data removed]",
      "text/plain": [
       "<Figure size 576x396 with 1 Axes>"
      ]
     },
     "metadata": {},
     "output_type": "display_data"
    }
   ],
   "source": [
    "train_residuals = y_train - train_preds\n",
    "test_residuals = y_test - test_preds\n",
    "sm.qqplot(train_residuals, line = 'r');"
   ]
  },
  {
   "cell_type": "markdown",
   "metadata": {},
   "source": [
    "#### Model 6b"
   ]
  },
  {
   "cell_type": "code",
   "execution_count": 65,
   "metadata": {
    "ExecuteTime": {
     "end_time": "2022-04-01T16:48:24.812153Z",
     "start_time": "2022-04-01T16:48:24.808002Z"
    }
   },
   "outputs": [],
   "source": [
    "cols = ['sqft_living', 'bathrooms', 'yr_built'] + encoded_bedroom_bin + encoded_condition + encoded_view + encoded_zipcode\n",
    "y = y_train\n",
    "x = X_train.filter(cols, axis=1)\n",
    "\n",
    "y2 = y_test\n",
    "x2 = X_test.filter(cols, axis=1)"
   ]
  },
  {
   "cell_type": "code",
   "execution_count": 66,
   "metadata": {
    "ExecuteTime": {
     "end_time": "2022-04-01T16:48:25.027721Z",
     "start_time": "2022-04-01T16:48:24.813275Z"
    }
   },
   "outputs": [
    {
     "name": "stdout",
     "output_type": "stream",
     "text": [
      "Training Score: 0.8078044199599432\n",
      "Test Score: 0.8143669163699321\n"
     ]
    }
   ],
   "source": [
    "X_train_scaled, X_test_scaled, train_preds, test_preds = scale_n_score(x,y,x2,y2)"
   ]
  },
  {
   "cell_type": "code",
   "execution_count": 67,
   "metadata": {
    "ExecuteTime": {
     "end_time": "2022-04-01T16:48:25.033816Z",
     "start_time": "2022-04-01T16:48:25.028822Z"
    }
   },
   "outputs": [
    {
     "name": "stdout",
     "output_type": "stream",
     "text": [
      "\n",
      "Training Metrics:\n",
      "R2: 0.808\n",
      "Mean Absolute Error: 65731.199\n",
      "Mean Squared Error: 8034363359.516\n",
      "Root Mean Squared Error: 89634.610\n",
      "\n",
      "Testing Metrics:\n",
      "R2: 0.814\n",
      "Mean Absolute Error: 63962.932\n",
      "Mean Squared Error: 7652726437.574\n",
      "Root Mean Squared Error: 87479.863\n"
     ]
    }
   ],
   "source": [
    "get_train_test_metrics(y_train, train_preds, y_test, test_preds)"
   ]
  },
  {
   "cell_type": "markdown",
   "metadata": {},
   "source": [
    "#### Model 7"
   ]
  },
  {
   "cell_type": "markdown",
   "metadata": {},
   "source": [
    "Using columns 'sqft_living', 'bedrooms', 'bathrooms', 'yr_built' and the columns created from encoding 'condition', 'view', and 'zipcode'. "
   ]
  },
  {
   "cell_type": "code",
   "execution_count": 68,
   "metadata": {
    "ExecuteTime": {
     "end_time": "2022-04-01T16:48:25.050020Z",
     "start_time": "2022-04-01T16:48:25.045391Z"
    }
   },
   "outputs": [],
   "source": [
    "cols = ['sqft_living', 'sqft_living15', 'bedrooms', 'bathrooms', 'yr_built'] + encoded_condition + encoded_view + encoded_zipcode\n",
    "y = y_train\n",
    "x = X_train.filter(cols, axis=1)\n",
    "\n",
    "y2 = y_test\n",
    "x2 = X_test.filter(cols, axis=1)"
   ]
  },
  {
   "cell_type": "code",
   "execution_count": 69,
   "metadata": {
    "ExecuteTime": {
     "end_time": "2022-04-01T16:48:25.267481Z",
     "start_time": "2022-04-01T16:48:25.052469Z"
    }
   },
   "outputs": [
    {
     "name": "stdout",
     "output_type": "stream",
     "text": [
      "Training Score: 0.8162984121309026\n",
      "Test Score: 0.8209083160697839\n"
     ]
    }
   ],
   "source": [
    "X_train_scaled, X_test_scaled, train_preds, test_preds = scale_n_score(x,y,x2,y2)"
   ]
  },
  {
   "cell_type": "code",
   "execution_count": 70,
   "metadata": {
    "ExecuteTime": {
     "end_time": "2022-04-01T16:48:25.273855Z",
     "start_time": "2022-04-01T16:48:25.268907Z"
    }
   },
   "outputs": [
    {
     "name": "stdout",
     "output_type": "stream",
     "text": [
      "\n",
      "Training Metrics:\n",
      "R2: 0.816\n",
      "Mean Absolute Error: 64187.454\n",
      "Mean Squared Error: 7679288495.359\n",
      "Root Mean Squared Error: 87631.550\n",
      "\n",
      "Testing Metrics:\n",
      "R2: 0.821\n",
      "Mean Absolute Error: 63030.485\n",
      "Mean Squared Error: 7383057144.564\n",
      "Root Mean Squared Error: 85924.718\n"
     ]
    }
   ],
   "source": [
    "get_train_test_metrics(y_train, train_preds, y_test, test_preds)"
   ]
  },
  {
   "cell_type": "code",
   "execution_count": 71,
   "metadata": {
    "ExecuteTime": {
     "end_time": "2022-04-01T16:48:25.925077Z",
     "start_time": "2022-04-01T16:48:25.275028Z"
    }
   },
   "outputs": [
    {
     "data": {
      "image/png": "[encoded data removed]",
      "text/plain": [
       "<Figure size 576x396 with 2 Axes>"
      ]
     },
     "metadata": {},
     "output_type": "display_data"
    }
   ],
   "source": [
    "lr = LinearRegression()\n",
    "visualizer = ResidualsPlot(lr)\n",
    "\n",
    "visualizer.fit(X_train_scaled, y_train)  # Fit the training data to the visualizer\n",
    "visualizer.score(X_test_scaled, y_test)  # Evaluate the model on the test data\n",
    "visualizer.show()  \n",
    "plt.show()"
   ]
  },
  {
   "cell_type": "code",
   "execution_count": 72,
   "metadata": {
    "ExecuteTime": {
     "end_time": "2022-04-01T16:48:26.001128Z",
     "start_time": "2022-04-01T16:48:25.926010Z"
    }
   },
   "outputs": [
    {
     "data": {
      "image/png": "[encoded data removed]",
      "text/plain": [
       "<Figure size 576x396 with 1 Axes>"
      ]
     },
     "metadata": {},
     "output_type": "display_data"
    }
   ],
   "source": [
    "train_residuals = y_train - train_preds\n",
    "test_residuals = y_test - test_preds\n",
    "sm.qqplot(train_residuals, line = 'r');"
   ]
  },
  {
   "cell_type": "markdown",
   "metadata": {},
   "source": [
    "#### Model 7b"
   ]
  },
  {
   "cell_type": "markdown",
   "metadata": {},
   "source": [
    "Using columns 'sqft_living', 'bedrooms', 'bathrooms', 'yr_built' and the columns created from encoding 'bedroom_bin', 'condition', 'view', and 'zipcode'."
   ]
  },
  {
   "cell_type": "code",
   "execution_count": 73,
   "metadata": {
    "ExecuteTime": {
     "end_time": "2022-04-01T16:48:26.006747Z",
     "start_time": "2022-04-01T16:48:26.002511Z"
    }
   },
   "outputs": [],
   "source": [
    "cols = ['sqft_living', 'sqft_living15', 'bathrooms', 'yr_built'] + encoded_bedroom_bin + encoded_condition + encoded_view + encoded_zipcode\n",
    "y = y_train\n",
    "x = X_train.filter(cols, axis=1)\n",
    "\n",
    "y2 = y_test\n",
    "x2 = X_test.filter(cols, axis=1)"
   ]
  },
  {
   "cell_type": "code",
   "execution_count": 74,
   "metadata": {
    "ExecuteTime": {
     "end_time": "2022-04-01T16:48:26.225658Z",
     "start_time": "2022-04-01T16:48:26.007806Z"
    }
   },
   "outputs": [
    {
     "name": "stdout",
     "output_type": "stream",
     "text": [
      "Training Score: 0.8177610258953996\n",
      "Test Score: 0.822780574427596\n"
     ]
    }
   ],
   "source": [
    "X_train_scaled, X_test_scaled, train_preds, test_preds = scale_n_score(x,y,x2,y2)"
   ]
  },
  {
   "cell_type": "code",
   "execution_count": 75,
   "metadata": {
    "ExecuteTime": {
     "end_time": "2022-04-01T16:48:26.233106Z",
     "start_time": "2022-04-01T16:48:26.226920Z"
    }
   },
   "outputs": [
    {
     "name": "stdout",
     "output_type": "stream",
     "text": [
      "\n",
      "Training Metrics:\n",
      "R2: 0.818\n",
      "Mean Absolute Error: 63854.277\n",
      "Mean Squared Error: 7618146764.440\n",
      "Root Mean Squared Error: 87281.996\n",
      "\n",
      "Testing Metrics:\n",
      "R2: 0.823\n",
      "Mean Absolute Error: 62643.044\n",
      "Mean Squared Error: 7305873267.894\n",
      "Root Mean Squared Error: 85474.401\n"
     ]
    }
   ],
   "source": [
    "get_train_test_metrics(y_train, train_preds, y_test, test_preds)"
   ]
  },
  {
   "cell_type": "code",
   "execution_count": 76,
   "metadata": {
    "ExecuteTime": {
     "end_time": "2022-04-01T16:48:27.004912Z",
     "start_time": "2022-04-01T16:48:26.234364Z"
    }
   },
   "outputs": [
    {
     "data": {
      "image/png": "[encoded data removed]",
      "text/plain": [
       "<Figure size 576x396 with 2 Axes>"
      ]
     },
     "metadata": {},
     "output_type": "display_data"
    },
    {
     "ename": "NameError",
     "evalue": "name 'fig' is not defined",
     "output_type": "error",
     "traceback": [
      "\u001b[0;31m---------------------------------------------------------------------------\u001b[0m",
      "\u001b[0;31mNameError\u001b[0m                                 Traceback (most recent call last)",
      "\u001b[0;32m<ipython-input-76-daec59905346>\u001b[0m in \u001b[0;36m<module>\u001b[0;34m\u001b[0m\n\u001b[1;32m      6\u001b[0m \u001b[0mvisualizer\u001b[0m\u001b[0;34m.\u001b[0m\u001b[0mshow\u001b[0m\u001b[0;34m(\u001b[0m\u001b[0;34m)\u001b[0m\u001b[0;34m\u001b[0m\u001b[0;34m\u001b[0m\u001b[0m\n\u001b[1;32m      7\u001b[0m \u001b[0mplt\u001b[0m\u001b[0;34m.\u001b[0m\u001b[0mshow\u001b[0m\u001b[0;34m(\u001b[0m\u001b[0;34m)\u001b[0m\u001b[0;34m\u001b[0m\u001b[0;34m\u001b[0m\u001b[0m\n\u001b[0;32m----> 8\u001b[0;31m fig.savefig('./images/ResidualsPlotforLinearRegressionModel7b.jpg',\n\u001b[0m\u001b[1;32m      9\u001b[0m             transparent = False,bbox_inches=\"tight\");\n",
      "\u001b[0;31mNameError\u001b[0m: name 'fig' is not defined"
     ]
    }
   ],
   "source": [
    "lr = LinearRegression()\n",
    "visualizer = ResidualsPlot(lr)\n",
    "\n",
    "visualizer.fit(X_train_scaled, y_train)  # Fit the training data to the visualizer\n",
    "visualizer.score(X_test_scaled, y_test)  # Evaluate the model on the test data\n",
    "visualizer.show()  \n",
    "plt.show()\n",
    "fig.savefig('./images/ResidualsPlotforLinearRegressionModel7b.jpg',\n",
    "            transparent = False,bbox_inches=\"tight\");"
   ]
  },
  {
   "cell_type": "code",
   "execution_count": null,
   "metadata": {
    "ExecuteTime": {
     "end_time": "2022-04-01T16:48:27.005920Z",
     "start_time": "2022-04-01T16:48:19.645Z"
    }
   },
   "outputs": [],
   "source": [
    "train_residuals = y_train - train_preds\n",
    "test_residuals = y_test - test_preds\n",
    "sm.qqplot(train_residuals, line = 'r')\n",
    "fig.savefig('./images/QQPlotModel7b.jpg',\n",
    "            transparent = False,bbox_inches=\"tight\");;"
   ]
  },
  {
   "cell_type": "code",
   "execution_count": null,
   "metadata": {
    "ExecuteTime": {
     "end_time": "2022-04-01T16:48:27.006553Z",
     "start_time": "2022-04-01T16:48:19.647Z"
    },
    "scrolled": true
   },
   "outputs": [],
   "source": [
    "y = y_train\n",
    "x = X_train.filter(cols, axis=1)\n",
    "x = sm.add_constant(x)\n",
    "model = sm.OLS(y, x).fit()\n",
    "model.summary()"
   ]
  },
  {
   "cell_type": "markdown",
   "metadata": {},
   "source": [
    "So far, model 7b seems to be preforming the best. After experimenting with the features with little improvement, this may be our best option. However, the Condition Number is fairly high, which conflicts with the Assumption regarding Multicollinearity. Given our dataset features, this may be unavoidable. Let's try one more."
   ]
  },
  {
   "cell_type": "markdown",
   "metadata": {},
   "source": [
    "#### Model 8"
   ]
  },
  {
   "cell_type": "markdown",
   "metadata": {},
   "source": [
    "Using columns 'sqft_living', 'bedrooms', 'bathrooms', 'yr_built', 'waterfront' and the columns created from encoding 'bedroom_bin', 'condition', 'view', and 'zipcode'."
   ]
  },
  {
   "cell_type": "code",
   "execution_count": null,
   "metadata": {
    "ExecuteTime": {
     "end_time": "2022-04-01T16:48:27.007142Z",
     "start_time": "2022-04-01T16:48:19.649Z"
    }
   },
   "outputs": [],
   "source": [
    "cols2 = ['sqft_living', 'sqft_living15','bathrooms', 'yr_built'] + encoded_bedroom_bin + encoded_condition+ encoded_zipcode\n",
    "y = y_train\n",
    "x = X_train.filter(cols2, axis=1)\n",
    "\n",
    "y2 = y_test\n",
    "x2 = X_test.filter(cols2, axis=1)"
   ]
  },
  {
   "cell_type": "code",
   "execution_count": null,
   "metadata": {
    "ExecuteTime": {
     "end_time": "2022-04-01T16:48:27.007655Z",
     "start_time": "2022-04-01T16:48:19.651Z"
    }
   },
   "outputs": [],
   "source": [
    "X_train_scaled, X_test_scaled, train_preds, test_preds = scale_n_score(x,y,x2,y2)"
   ]
  },
  {
   "cell_type": "code",
   "execution_count": null,
   "metadata": {
    "ExecuteTime": {
     "end_time": "2022-04-01T16:48:27.008311Z",
     "start_time": "2022-04-01T16:48:19.652Z"
    }
   },
   "outputs": [],
   "source": [
    "get_train_test_metrics(y_train, train_preds, y_test, test_preds)"
   ]
  },
  {
   "cell_type": "code",
   "execution_count": null,
   "metadata": {
    "ExecuteTime": {
     "end_time": "2022-04-01T16:48:27.008866Z",
     "start_time": "2022-04-01T16:48:19.654Z"
    }
   },
   "outputs": [],
   "source": [
    "lr = LinearRegression()\n",
    "\n",
    "visualizer = ResidualsPlot(lr)\n",
    "\n",
    "visualizer.fit(X_train_scaled, y_train)  # Fit the training data to the visualizer\n",
    "visualizer.score(X_test_scaled, y_test)  # Evaluate the model on the test data\n",
    "visualizer.show()  \n",
    "plt.show()"
   ]
  },
  {
   "cell_type": "code",
   "execution_count": null,
   "metadata": {
    "ExecuteTime": {
     "end_time": "2022-04-01T16:48:27.009410Z",
     "start_time": "2022-04-01T16:48:19.655Z"
    }
   },
   "outputs": [],
   "source": [
    "train_residuals = y_train - train_preds\n",
    "test_residuals = y_test - test_preds\n",
    "sm.qqplot(train_residuals, line = 'r');"
   ]
  },
  {
   "cell_type": "code",
   "execution_count": null,
   "metadata": {
    "ExecuteTime": {
     "end_time": "2022-04-01T16:48:27.009954Z",
     "start_time": "2022-04-01T16:48:19.657Z"
    },
    "scrolled": true
   },
   "outputs": [],
   "source": [
    "y = y_train\n",
    "x = X_train.filter(cols, axis=1)\n",
    "x = sm.add_constant(x)\n",
    "model = sm.OLS(y, x).fit()\n",
    "model.summary()"
   ]
  },
  {
   "cell_type": "markdown",
   "metadata": {},
   "source": [
    "Model 8 seems to be performing about the same as model 7b. We will have to take into account how interpretable and how important some of these features are when deciding which model we want to use."
   ]
  },
  {
   "cell_type": "markdown",
   "metadata": {},
   "source": [
    "This OLS summary denotes: "
   ]
  },
  {
   "cell_type": "markdown",
   "metadata": {},
   "source": [
    "## Deployment\n"
   ]
  },
  {
   "cell_type": "markdown",
   "metadata": {},
   "source": [
    "This section of the notebook will focus on how we used our data and the predictive power of our model to build actionable recommendation for our stakeholder: Keller Willaims Realty. "
   ]
  },
  {
   "cell_type": "markdown",
   "metadata": {},
   "source": [
    "We first wanted to extrapolate 3 questions, from our main business question, that we can answer using our data and our final model. The three questions we arrived at is:\n",
    " 1. Which zipcodes have the most number of houses sold?\n",
    " 2. What features are in-demand?\n",
    " 3. What price range are the most in-demand houses in?"
   ]
  },
  {
   "cell_type": "markdown",
   "metadata": {},
   "source": [
    "### Which zipcodes have the most number of houses sold?\n"
   ]
  },
  {
   "cell_type": "code",
   "execution_count": null,
   "metadata": {
    "ExecuteTime": {
     "end_time": "2022-04-01T16:48:27.010549Z",
     "start_time": "2022-04-01T16:48:19.661Z"
    }
   },
   "outputs": [],
   "source": [
    "df['zipcode'].value_counts()"
   ]
  },
  {
   "cell_type": "markdown",
   "metadata": {},
   "source": [
    "We could answer this question relatively easily by using the .value_counts() method in the pandas library. We further visualized this using Folium. To do so we will be using geoJSON file sourced from [gis-kingcounty.opendata](https://gis-kingcounty.opendata.arcgis.com/datasets/zipcodes-for-king-county-and-surrounding-area-shorelines-zipcode-shore-area/explore). \n",
    "As it stands, the geoJSON file includes zipcodes where no sales were recorded. For a cleaner visual we will pare this file down to only include zipcodes in our dataframe. We shall open the geojson and create a brand new geojson with the appropriate zips."
   ]
  },
  {
   "cell_type": "code",
   "execution_count": null,
   "metadata": {
    "ExecuteTime": {
     "end_time": "2022-04-01T16:48:27.011027Z",
     "start_time": "2022-04-01T16:48:19.662Z"
    }
   },
   "outputs": [],
   "source": [
    "import geojson\n",
    "from geojson import FeatureCollection, dump\n",
    "import json\n",
    "\n",
    "with open('data/Zipcodes_for_King_County_and_Surrounding_Area___zipcode_area.geojson', 'r') as f:\n",
    "    geoJSON_raw = json.load(f)\n",
    "\n",
    "# Extracting list of zipcodes from above file that exist in our dataset\n",
    "features = []\n",
    "for f in geoJSON_raw['features']:\n",
    "    if (int(f['properties']['ZIP']) in df['zipcode'].unique()):\n",
    "        features.append(f)\n",
    "\n",
    "with open('data/Updated_King_County_Zipcodes.geojson', 'w') as f:\n",
    "    dump(FeatureCollection(features), f)"
   ]
  },
  {
   "cell_type": "code",
   "execution_count": null,
   "metadata": {
    "ExecuteTime": {
     "end_time": "2022-04-01T16:48:27.011558Z",
     "start_time": "2022-04-01T16:48:19.669Z"
    },
    "scrolled": false
   },
   "outputs": [],
   "source": [
    "# Loading our updated geoJSON file\n",
    "zip_geo = f\"data/Updated_King_County_Zipcodes.geojson\"\n",
    "\n",
    "# Creating a dataframe for folium. Grabbing zipcode column and running a count on it\n",
    "zipcode_choro_data = pd.DataFrame(df.zipcode)\n",
    "zipcode_choro_data['House_Listing_Count'] = 0\n",
    "zipcode_choro_data = zipcode_choro_data.groupby(\n",
    "    'zipcode').count().reset_index()\n",
    "\n",
    "# Initializing folium map\n",
    "zipcodes_indemand_map = folium.Map(KC_coord, zoom_start=9)\n",
    "\n",
    "\n",
    "# Map Details\n",
    "folium.Choropleth(\n",
    "    geo_data=zip_geo,\n",
    "    name=\"choropleth\",\n",
    "    data=zipcode_choro_data,\n",
    "    columns=[\"zipcode\", \"House_Listing_Count\"],\n",
    "    key_on=\"feature.properties.ZIP\",\n",
    "    fill_color=\"YlOrRd\",\n",
    "    fill_opacity=0.8,\n",
    "    line_opacity=0.33,\n",
    "    legend_name=\"House Sales\",\n",
    "    highlight=True,\n",
    ").add_to(zipcodes_indemand_map)\n",
    "\n",
    "# Adding Layer Control and a few different tilesets.\n",
    "# Map defaults to OpenStreetMap\n",
    "folium.TileLayer('OpenStreetMap').add_to(zipcodes_indemand_map)\n",
    "folium.TileLayer('cartodbdark_matter').add_to(zipcodes_indemand_map)\n",
    "folium.TileLayer('cartodbpositron').add_to(zipcodes_indemand_map)\n",
    "folium.TileLayer('stamentoner').add_to(zipcodes_indemand_map)\n",
    "folium.TileLayer('stamenterrain').add_to(zipcodes_indemand_map)\n",
    "folium.TileLayer('Stamen Watercolor').add_to(zipcodes_indemand_map)\n",
    "folium.LayerControl().add_to(zipcodes_indemand_map)\n",
    "\n",
    "zipcodes_indemand_map.fit_bounds(zipcodes_indemand_map.get_bounds())\n",
    "zipcodes_indemand_map.save('data/choropeth_zip_salecounts.html')\n",
    "\n",
    "zipcodes_indemand_map"
   ]
  },
  {
   "cell_type": "markdown",
   "metadata": {},
   "source": [
    "The city of Seattle and surrounding areas, especially the areas surrounding Green Lake, immediately stand out with over 500 listings in the year. \n",
    "\n",
    "Lets also have a quick look at how the different listings are spread across King County in terms of price. We'll break the entire price range down into pentiles.\n",
    "\n",
    "In the following cell, we'll create a column to categorize each property in a price percentile bracket, but more specifically, a color associated with it.\n",
    "To see the colors selected visit [Click Here](https://davidmathlogic.com/colorblind/#%23FFFFA3-%23B9FFBB-%23838af6-%238F40AB-%23D44747)\n"
   ]
  },
  {
   "cell_type": "code",
   "execution_count": null,
   "metadata": {
    "ExecuteTime": {
     "end_time": "2022-04-01T16:48:27.012102Z",
     "start_time": "2022-04-01T16:48:19.672Z"
    }
   },
   "outputs": [],
   "source": [
    "df['price_color'] = pd.qcut(df['price'],\n",
    "                            q=[0, .2, .4, .6, .8, 1],\n",
    "                            labels=['#FFFFA3',\n",
    "                                    '#B9FFBB',\n",
    "                                    '#838AF6',\n",
    "                                    '#8F40AB',\n",
    "                                    '#D44747',\n",
    "                                    ])"
   ]
  },
  {
   "cell_type": "markdown",
   "metadata": {},
   "source": [
    "**Note:** the following map creation cell may take a while to load. The cell when ran will create an HTML file as well as display in the notebook. To avoid waiting, you can visit a pre-generated version [here](maps/PropertiesPentileDisplay.html)."
   ]
  },
  {
   "cell_type": "code",
   "execution_count": null,
   "metadata": {
    "ExecuteTime": {
     "end_time": "2022-04-01T16:48:27.012635Z",
     "start_time": "2022-04-01T16:48:19.697Z"
    },
    "scrolled": true
   },
   "outputs": [],
   "source": [
    "# Note: This cell may take a little while to run\n",
    "# Initializing Folium map\n",
    "GreenLake_coord = (47.6802,-122.3284)\n",
    "propertiesInPentiles_map = folium.Map(location = GreenLake_coord, tiles = 'cartodbdark_matter', zoom_start = 13)\n",
    "\n",
    "for property in df.iterrows():\n",
    "    '''input: series that contains a numeric named latitude and a numeric named longitude\n",
    "    this function creates a CircleMarker and adds it to your m'''\n",
    "    folium.Circle(location=[property[1].lat,property[1].long],\n",
    "                  radius=1,\n",
    "                  fill=True,\n",
    "                  color = property[1].price_color,\n",
    "                  weight= 2,\n",
    "                  opacity=0.8,\n",
    "                 ).add_to(propertiesInPentiles_map)\n",
    "    \n",
    "# Adding legend to map\n",
    "# Encoding png in base 64 allows image to be embedded in the html file as well\n",
    "import base64\n",
    "from folium.plugins import FloatImage\n",
    "\n",
    "with open('images/Legendforpricemap.png', 'rb') as lf:\n",
    "  # open in binary mode, read bytes, encode, decode obtained bytes as utf-8 string\n",
    "  b64_content = base64.b64encode(lf.read()).decode('utf-8')\n",
    "\n",
    "FloatImage('data:image/png;base64,{}'.format(b64_content), bottom=2, left=2).add_to(propertiesInPentiles_map)\n",
    "\n",
    "\n",
    "#Save the map to an HTML file\n",
    "propertiesInPentiles_map.save('maps/PropertiesPentileDisplay.html')\n",
    "\n",
    "propertiesInPentiles_map"
   ]
  },
  {
   "cell_type": "markdown",
   "metadata": {},
   "source": [
    "Not only are the areas around Green Lake in high demand, but the property values are high as well with plenty of listings appearing in the top pentile bracket of overall King County sales. Lets compare the median prices for zipcodes around Green Lake to KC."
   ]
  },
  {
   "cell_type": "code",
   "execution_count": null,
   "metadata": {
    "ExecuteTime": {
     "end_time": "2022-04-01T16:48:27.013186Z",
     "start_time": "2022-04-01T16:48:19.699Z"
    },
    "scrolled": true
   },
   "outputs": [],
   "source": [
    "GL_medianprice = df.loc[df.zipcode.isin([98103,98117,98107,98115,98105,98195])].price.median()\n",
    "KC_medianprice = df.price.median()\n",
    "print(f'Median Price in areas around Green Lake: {GL_medianprice}\\nMedian Price across King County:{KC_medianprice}')"
   ]
  },
  {
   "cell_type": "markdown",
   "metadata": {},
   "source": [
    "The demand for these zipcodes are high, so potential future revenue can be optimized by focusing on these areas."
   ]
  },
  {
   "cell_type": "markdown",
   "metadata": {},
   "source": [
    "### What features are in-demand?"
   ]
  },
  {
   "cell_type": "markdown",
   "metadata": {},
   "source": [
    "We again employed the use of the .value_counts() method in the pandas library to determine which type of 'view', 'bedroom/bathroom' ratio, 'condition' and 'yr_built' were the most popular/in-demand."
   ]
  },
  {
   "cell_type": "code",
   "execution_count": null,
   "metadata": {
    "ExecuteTime": {
     "end_time": "2022-04-01T16:48:27.013771Z",
     "start_time": "2022-04-01T16:48:19.702Z"
    }
   },
   "outputs": [],
   "source": [
    "df.view.value_counts()"
   ]
  },
  {
   "cell_type": "code",
   "execution_count": null,
   "metadata": {
    "ExecuteTime": {
     "end_time": "2022-04-01T16:48:27.014288Z",
     "start_time": "2022-04-01T16:48:19.703Z"
    }
   },
   "outputs": [],
   "source": [
    "(df.bedrooms/df.bathrooms).value_counts()"
   ]
  },
  {
   "cell_type": "code",
   "execution_count": null,
   "metadata": {
    "ExecuteTime": {
     "end_time": "2022-04-01T16:48:27.014853Z",
     "start_time": "2022-04-01T16:48:19.704Z"
    }
   },
   "outputs": [],
   "source": [
    "df.price.value_counts()"
   ]
  },
  {
   "cell_type": "code",
   "execution_count": null,
   "metadata": {
    "ExecuteTime": {
     "end_time": "2022-04-01T16:48:27.015478Z",
     "start_time": "2022-04-01T16:48:19.706Z"
    }
   },
   "outputs": [],
   "source": [
    "df.condition.value_counts()"
   ]
  },
  {
   "cell_type": "code",
   "execution_count": null,
   "metadata": {
    "ExecuteTime": {
     "end_time": "2022-04-01T16:48:27.016105Z",
     "start_time": "2022-04-01T16:48:19.707Z"
    }
   },
   "outputs": [],
   "source": [
    "df.bedrooms.value_counts()"
   ]
  },
  {
   "cell_type": "code",
   "execution_count": null,
   "metadata": {
    "ExecuteTime": {
     "end_time": "2022-04-01T16:48:27.016758Z",
     "start_time": "2022-04-01T16:48:19.708Z"
    }
   },
   "outputs": [],
   "source": [
    "df.bathrooms.value_counts()"
   ]
  },
  {
   "cell_type": "code",
   "execution_count": null,
   "metadata": {
    "ExecuteTime": {
     "end_time": "2022-04-01T16:48:27.017321Z",
     "start_time": "2022-04-01T16:48:19.709Z"
    }
   },
   "outputs": [],
   "source": [
    "df.yr_built.value_counts()"
   ]
  },
  {
   "cell_type": "markdown",
   "metadata": {},
   "source": [
    "### What price range are the most in-demand houses in?"
   ]
  },
  {
   "cell_type": "markdown",
   "metadata": {},
   "source": [
    "To answer this question, we created a data frame called X_potentials that included corresponding values from the answers to the questions above. The goal of this is to determine a price range that these houses with in-demand features and located in popular zipcodes, will ultimately sell for. "
   ]
  },
  {
   "cell_type": "code",
   "execution_count": null,
   "metadata": {
    "ExecuteTime": {
     "end_time": "2022-04-01T16:48:27.017966Z",
     "start_time": "2022-04-01T16:48:19.711Z"
    }
   },
   "outputs": [],
   "source": [
    "X_potentials = pd.DataFrame(columns = X_train.columns)"
   ]
  },
  {
   "cell_type": "code",
   "execution_count": null,
   "metadata": {
    "ExecuteTime": {
     "end_time": "2022-04-01T16:48:27.018593Z",
     "start_time": "2022-04-01T16:48:19.712Z"
    }
   },
   "outputs": [],
   "source": [
    "for num in range(0,1):\n",
    "    X_potentials = X_potentials.append(\n",
    "    pd.Series(0, index=X_potentials.columns), \n",
    "    ignore_index=True)"
   ]
  },
  {
   "cell_type": "code",
   "execution_count": null,
   "metadata": {
    "ExecuteTime": {
     "end_time": "2022-04-01T16:48:27.019178Z",
     "start_time": "2022-04-01T16:48:19.714Z"
    }
   },
   "outputs": [],
   "source": [
    "X_potentials['sqft_living'].replace(0,df['sqft_living'].median(),inplace=True)\n",
    "X_potentials['sqft_living15'].replace(0,df['sqft_living15'].median(),inplace=True)\n",
    "X_potentials['bathrooms'].replace(0,df.bathrooms.value_counts().index[0],inplace=True)\n",
    "X_potentials['yr_built'].replace(0,df.yr_built.value_counts().index[0],inplace=True)\n",
    "\n",
    "X_potentials['bedrooms_bin_x0_3BR'].replace(0,1,inplace=True)\n",
    "\n",
    "# condition not needed. By default 'Average'\n",
    "\n",
    "X_potentials['zipcode_x0_98103'].replace(0,1,inplace=True)"
   ]
  },
  {
   "cell_type": "code",
   "execution_count": null,
   "metadata": {
    "ExecuteTime": {
     "end_time": "2022-04-01T16:48:27.019711Z",
     "start_time": "2022-04-01T16:48:19.715Z"
    }
   },
   "outputs": [],
   "source": [
    "X_potentials[cols]"
   ]
  },
  {
   "cell_type": "code",
   "execution_count": null,
   "metadata": {
    "ExecuteTime": {
     "end_time": "2022-04-01T16:48:27.020778Z",
     "start_time": "2022-04-01T16:48:19.717Z"
    }
   },
   "outputs": [],
   "source": [
    "lr.fit(X_train.filter(cols, axis=1),y_train)"
   ]
  },
  {
   "cell_type": "code",
   "execution_count": null,
   "metadata": {
    "ExecuteTime": {
     "end_time": "2022-04-01T16:48:27.021821Z",
     "start_time": "2022-04-01T16:48:19.718Z"
    }
   },
   "outputs": [],
   "source": [
    "final_pred = lr.predict(X_potentials[cols])[0]"
   ]
  },
  {
   "cell_type": "markdown",
   "metadata": {},
   "source": [
    "It is important to note that the columns that were created during the encoding process will have zero values for all columns except for the columns that contain the most valued features and zipcodes."
   ]
  },
  {
   "cell_type": "code",
   "execution_count": null,
   "metadata": {
    "ExecuteTime": {
     "end_time": "2022-04-01T16:48:27.022905Z",
     "start_time": "2022-04-01T16:48:19.720Z"
    }
   },
   "outputs": [],
   "source": [
    "(final_pred - 43000,final_pred +43000)"
   ]
  },
  {
   "cell_type": "markdown",
   "metadata": {},
   "source": [
    "The price range that are model is predicting is between 610,306 and 696,306 dollars. The value we used to achieve this range is the RMSE value for our final model."
   ]
  },
  {
   "cell_type": "code",
   "execution_count": null,
   "metadata": {
    "ExecuteTime": {
     "end_time": "2022-04-01T16:48:27.024061Z",
     "start_time": "2022-04-01T16:48:19.723Z"
    },
    "scrolled": false
   },
   "outputs": [],
   "source": [
    "# Visualization\n",
    "vis_data = y_test.to_frame()\n",
    "vis_data['prediction'] = test_preds\n",
    "vis_data.sort_values(by='price', ascending=False)[925:930]\n",
    "y = np.arange(5)\n",
    "h = 0.6\n",
    "\n",
    "fig, ax = plt.subplots(figsize=(10,10))\n",
    "\n",
    "\n",
    "ax.set_title(f'Price vs Predictions')\n",
    "ax.set_ylabel('Price')\n",
    "ax.get_xaxis().set_visible(False)\n",
    "\n",
    "ax.yaxis.set_major_formatter(ticker.StrMethodFormatter('${x:,.0f}'))\n",
    "ax.bar(y-h/3, vis_data.sort_values(by='price', ascending=False)[925:930]['price'], h/1.5, color='navy')\n",
    "ax.bar(y+h/3, vis_data.sort_values(by='price', ascending=False)[925:930]['prediction'], h/1.5, color='orange')\n",
    "\n",
    "ylabels = ['{:,.0f}'.format(x) + 'K' for x in ax.get_yticks()/1000]\n",
    "ax.set_yticklabels(ylabels)\n",
    "\n",
    "ax.legend(['Actual Price', 'Predicted Price']);\n",
    "ax.grid(False)\n",
    "\n",
    "fig.savefig('./images/price_vs_preds.jpg',\n",
    "            transparent = False,bbox_inches=\"tight\");"
   ]
  },
  {
   "cell_type": "markdown",
   "metadata": {},
   "source": [
    "The graph demonstrates how close some of our model's predictions have been getting. "
   ]
  },
  {
   "cell_type": "markdown",
   "metadata": {},
   "source": [
    "### Recommendations and Conclusions\n"
   ]
  },
  {
   "cell_type": "markdown",
   "metadata": {},
   "source": [
    "In conclusion, the answers to the questions above translates into actionable recommendations. The zip codes which have sold the most homes are the zip codes we recommend targeting in terms of sellers. Similarly with the features of the home, such as bedroom etc. We recommend targeting sellers that have these features in their homes. We recommend using our model to input these values to predict what price the house will ultimately sell for, thereby also predicting future potential revenue. "
   ]
  },
  {
   "cell_type": "markdown",
   "metadata": {},
   "source": [
    "## Next steps"
   ]
  },
  {
   "cell_type": "markdown",
   "metadata": {},
   "source": [
    "For Next Steps, if we gather more first-party data we can analyze the potential costs of our recommended strategy and provide a more holistic overview of our current model. With more historical data we can upgrade our model to include time series analysis which will formulate more accurate predictions and also illustrate both sales and price trends throughout the year, which would be invaluable to Keller Williams Realty moving forward. Furthermore, we can use the upgraded model to determine whether the housing market is over or under-inflated at any given time. This would be a great predictive tool in understanding whether to gear marketing efforts to sellers or buyers and vice versa. "
   ]
  },
  {
   "cell_type": "code",
   "execution_count": null,
   "metadata": {},
   "outputs": [],
   "source": []
  },
  {
   "cell_type": "code",
   "execution_count": null,
   "metadata": {},
   "outputs": [],
   "source": []
  },
  {
   "cell_type": "code",
   "execution_count": null,
   "metadata": {},
   "outputs": [],
   "source": []
  },
  {
   "cell_type": "code",
   "execution_count": null,
   "metadata": {},
   "outputs": [],
   "source": []
  },
  {
   "cell_type": "code",
   "execution_count": null,
   "metadata": {},
   "outputs": [],
   "source": []
  },
  {
   "cell_type": "code",
   "execution_count": null,
   "metadata": {},
   "outputs": [],
   "source": []
  },
  {
   "cell_type": "code",
   "execution_count": null,
   "metadata": {},
   "outputs": [],
   "source": []
  }
 ],
 "metadata": {
  "kernelspec": {
   "display_name": "Python (learn-env)",
   "language": "python",
   "name": "learn-env"
  },
  "language_info": {
   "codemirror_mode": {
    "name": "ipython",
    "version": 3
   },
   "file_extension": ".py",
   "mimetype": "text/x-python",
   "name": "python",
   "nbconvert_exporter": "python",
   "pygments_lexer": "ipython3",
   "version": "3.8.5"
  },
  "toc": {
   "base_numbering": 1,
   "nav_menu": {},
   "number_sections": false,
   "sideBar": true,
   "skip_h1_title": false,
   "title_cell": "Table of Contents",
   "title_sidebar": "Contents",
   "toc_cell": false,
   "toc_position": {
    "height": "calc(100% - 180px)",
    "left": "10px",
    "top": "150px",
    "width": "260.984px"
   },
   "toc_section_display": true,
   "toc_window_display": true
  },
  "varInspector": {
   "cols": {
    "lenName": 16,
    "lenType": 16,
    "lenVar": 40
   },
   "kernels_config": {
    "python": {
     "delete_cmd_postfix": "",
     "delete_cmd_prefix": "del ",
     "library": "var_list.py",
     "varRefreshCmd": "print(var_dic_list())"
    },
    "r": {
     "delete_cmd_postfix": ") ",
     "delete_cmd_prefix": "rm(",
     "library": "var_list.r",
     "varRefreshCmd": "cat(var_dic_list()) "
    }
   },
   "position": {
    "height": "711.844px",
    "left": "1541px",
    "right": "20px",
    "top": "120px",
    "width": "359px"
   },
   "types_to_exclude": [
    "module",
    "function",
    "builtin_function_or_method",
    "instance",
    "_Feature"
   ],
   "window_display": false
  }
 },
 "nbformat": 4,
 "nbformat_minor": 4
}
