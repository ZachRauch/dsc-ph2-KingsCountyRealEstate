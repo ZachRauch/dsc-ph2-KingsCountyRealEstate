{
 "cells": [
  {
   "cell_type": "code",
   "execution_count": 1,
   "metadata": {},
   "outputs": [],
   "source": [
    "import numpy as np\n",
    "import pandas as pd\n",
    "import seaborn as sns\n",
    "import statsmodels.api as sm\n",
    "import sklearn.metrics as metrics\n",
    "\n",
    "from matplotlib import pyplot as plt\n",
    "\n",
    "from sklearn.preprocessing import OneHotEncoder, StandardScaler\n",
    "from sklearn.linear_model import LinearRegression\n",
    "\n",
    "from scipy import stats as stats\n",
    "\n",
    "pd.set_option(\"display.max_columns\", None)\n",
    "\n",
    "%matplotlib inline"
   ]
  },
  {
   "cell_type": "code",
   "execution_count": 2,
   "metadata": {},
   "outputs": [],
   "source": [
    "df = pd.read_csv(\"../../data/kc_house_data.csv\")"
   ]
  },
  {
   "cell_type": "code",
   "execution_count": 3,
   "metadata": {
    "scrolled": false
   },
   "outputs": [
    {
     "name": "stdout",
     "output_type": "stream",
     "text": [
      "<class 'pandas.core.frame.DataFrame'>\n",
      "RangeIndex: 21597 entries, 0 to 21596\n",
      "Data columns (total 21 columns):\n",
      " #   Column         Non-Null Count  Dtype  \n",
      "---  ------         --------------  -----  \n",
      " 0   id             21597 non-null  int64  \n",
      " 1   date           21597 non-null  object \n",
      " 2   price          21597 non-null  float64\n",
      " 3   bedrooms       21597 non-null  int64  \n",
      " 4   bathrooms      21597 non-null  float64\n",
      " 5   sqft_living    21597 non-null  int64  \n",
      " 6   sqft_lot       21597 non-null  int64  \n",
      " 7   floors         21597 non-null  float64\n",
      " 8   waterfront     19221 non-null  object \n",
      " 9   view           21534 non-null  object \n",
      " 10  condition      21597 non-null  object \n",
      " 11  grade          21597 non-null  object \n",
      " 12  sqft_above     21597 non-null  int64  \n",
      " 13  sqft_basement  21597 non-null  object \n",
      " 14  yr_built       21597 non-null  int64  \n",
      " 15  yr_renovated   17755 non-null  float64\n",
      " 16  zipcode        21597 non-null  int64  \n",
      " 17  lat            21597 non-null  float64\n",
      " 18  long           21597 non-null  float64\n",
      " 19  sqft_living15  21597 non-null  int64  \n",
      " 20  sqft_lot15     21597 non-null  int64  \n",
      "dtypes: float64(6), int64(9), object(6)\n",
      "memory usage: 3.5+ MB\n"
     ]
    }
   ],
   "source": [
    "df.info()\n"
   ]
  },
  {
   "cell_type": "code",
   "execution_count": null,
   "metadata": {},
   "outputs": [],
   "source": []
  },
  {
   "cell_type": "code",
   "execution_count": 4,
   "metadata": {
    "scrolled": true
   },
   "outputs": [
    {
     "data": {
      "text/plain": [
       "id              -0.016772\n",
       "price            1.000000\n",
       "bedrooms         0.308787\n",
       "bathrooms        0.525906\n",
       "sqft_living      0.701917\n",
       "sqft_lot         0.089876\n",
       "floors           0.256804\n",
       "sqft_above       0.605368\n",
       "yr_built         0.053953\n",
       "yr_renovated     0.129599\n",
       "zipcode         -0.053402\n",
       "lat              0.306692\n",
       "long             0.022036\n",
       "sqft_living15    0.585241\n",
       "sqft_lot15       0.082845\n",
       "Name: price, dtype: float64"
      ]
     },
     "execution_count": 4,
     "metadata": {},
     "output_type": "execute_result"
    }
   ],
   "source": [
    "df.corr()['price']"
   ]
  },
  {
   "cell_type": "code",
   "execution_count": 5,
   "metadata": {},
   "outputs": [],
   "source": [
    "def ohe(df, *cols):\n",
    "    temp_df = df\n",
    "    for col in cols:\n",
    "        encoder = OneHotEncoder(handle_unknown=\"ignore\")\n",
    "        fitted_arr = encoder.fit_transform(temp_df[[col]]).toarray()\n",
    "        col_names = [f\"{col}_{f}\" for f in encoder.get_feature_names()]\n",
    "        encoded_values = pd.DataFrame(fitted_arr, columns=col_names)\n",
    "        temp_df = temp_df.join(encoded_values)\n",
    "    return temp_df"
   ]
  },
  {
   "cell_type": "code",
   "execution_count": 6,
   "metadata": {},
   "outputs": [],
   "source": [
    "ohe_df = ohe(df, \"grade\", \"condition\", \"zipcode\")"
   ]
  },
  {
   "cell_type": "code",
   "execution_count": 7,
   "metadata": {},
   "outputs": [
    {
     "data": {
      "text/plain": [
       "['id',\n",
       " 'date',\n",
       " 'price',\n",
       " 'bedrooms',\n",
       " 'bathrooms',\n",
       " 'sqft_living',\n",
       " 'sqft_lot',\n",
       " 'floors',\n",
       " 'waterfront',\n",
       " 'view',\n",
       " 'condition',\n",
       " 'grade',\n",
       " 'sqft_above',\n",
       " 'sqft_basement',\n",
       " 'yr_built',\n",
       " 'yr_renovated',\n",
       " 'zipcode',\n",
       " 'lat',\n",
       " 'long',\n",
       " 'sqft_living15',\n",
       " 'sqft_lot15',\n",
       " 'grade_x0_10 Very Good',\n",
       " 'grade_x0_11 Excellent',\n",
       " 'grade_x0_12 Luxury',\n",
       " 'grade_x0_13 Mansion',\n",
       " 'grade_x0_3 Poor',\n",
       " 'grade_x0_4 Low',\n",
       " 'grade_x0_5 Fair',\n",
       " 'grade_x0_6 Low Average',\n",
       " 'grade_x0_7 Average',\n",
       " 'grade_x0_8 Good',\n",
       " 'grade_x0_9 Better',\n",
       " 'condition_x0_Average',\n",
       " 'condition_x0_Fair',\n",
       " 'condition_x0_Good',\n",
       " 'condition_x0_Poor',\n",
       " 'condition_x0_Very Good',\n",
       " 'zipcode_x0_98001',\n",
       " 'zipcode_x0_98002',\n",
       " 'zipcode_x0_98003',\n",
       " 'zipcode_x0_98004',\n",
       " 'zipcode_x0_98005',\n",
       " 'zipcode_x0_98006',\n",
       " 'zipcode_x0_98007',\n",
       " 'zipcode_x0_98008',\n",
       " 'zipcode_x0_98010',\n",
       " 'zipcode_x0_98011',\n",
       " 'zipcode_x0_98014',\n",
       " 'zipcode_x0_98019',\n",
       " 'zipcode_x0_98022',\n",
       " 'zipcode_x0_98023',\n",
       " 'zipcode_x0_98024',\n",
       " 'zipcode_x0_98027',\n",
       " 'zipcode_x0_98028',\n",
       " 'zipcode_x0_98029',\n",
       " 'zipcode_x0_98030',\n",
       " 'zipcode_x0_98031',\n",
       " 'zipcode_x0_98032',\n",
       " 'zipcode_x0_98033',\n",
       " 'zipcode_x0_98034',\n",
       " 'zipcode_x0_98038',\n",
       " 'zipcode_x0_98039',\n",
       " 'zipcode_x0_98040',\n",
       " 'zipcode_x0_98042',\n",
       " 'zipcode_x0_98045',\n",
       " 'zipcode_x0_98052',\n",
       " 'zipcode_x0_98053',\n",
       " 'zipcode_x0_98055',\n",
       " 'zipcode_x0_98056',\n",
       " 'zipcode_x0_98058',\n",
       " 'zipcode_x0_98059',\n",
       " 'zipcode_x0_98065',\n",
       " 'zipcode_x0_98070',\n",
       " 'zipcode_x0_98072',\n",
       " 'zipcode_x0_98074',\n",
       " 'zipcode_x0_98075',\n",
       " 'zipcode_x0_98077',\n",
       " 'zipcode_x0_98092',\n",
       " 'zipcode_x0_98102',\n",
       " 'zipcode_x0_98103',\n",
       " 'zipcode_x0_98105',\n",
       " 'zipcode_x0_98106',\n",
       " 'zipcode_x0_98107',\n",
       " 'zipcode_x0_98108',\n",
       " 'zipcode_x0_98109',\n",
       " 'zipcode_x0_98112',\n",
       " 'zipcode_x0_98115',\n",
       " 'zipcode_x0_98116',\n",
       " 'zipcode_x0_98117',\n",
       " 'zipcode_x0_98118',\n",
       " 'zipcode_x0_98119',\n",
       " 'zipcode_x0_98122',\n",
       " 'zipcode_x0_98125',\n",
       " 'zipcode_x0_98126',\n",
       " 'zipcode_x0_98133',\n",
       " 'zipcode_x0_98136',\n",
       " 'zipcode_x0_98144',\n",
       " 'zipcode_x0_98146',\n",
       " 'zipcode_x0_98148',\n",
       " 'zipcode_x0_98155',\n",
       " 'zipcode_x0_98166',\n",
       " 'zipcode_x0_98168',\n",
       " 'zipcode_x0_98177',\n",
       " 'zipcode_x0_98178',\n",
       " 'zipcode_x0_98188',\n",
       " 'zipcode_x0_98198',\n",
       " 'zipcode_x0_98199']"
      ]
     },
     "execution_count": 7,
     "metadata": {},
     "output_type": "execute_result"
    }
   ],
   "source": [
    "list(ohe_df.columns)"
   ]
  },
  {
   "cell_type": "code",
   "execution_count": 8,
   "metadata": {},
   "outputs": [],
   "source": [
    "ohe_df = ohe_df.drop(columns=['id','sqft_basement','waterfront','sqft_lot','floors','sqft_above','date','yr_renovated','lat','long','sqft_lot15','view','condition','grade','zipcode'])"
   ]
  },
  {
   "cell_type": "code",
   "execution_count": 9,
   "metadata": {},
   "outputs": [
    {
     "data": {
      "text/plain": [
       "['price',\n",
       " 'bedrooms',\n",
       " 'bathrooms',\n",
       " 'sqft_living',\n",
       " 'yr_built',\n",
       " 'sqft_living15',\n",
       " 'grade_x0_10 Very Good',\n",
       " 'grade_x0_11 Excellent',\n",
       " 'grade_x0_12 Luxury',\n",
       " 'grade_x0_13 Mansion',\n",
       " 'grade_x0_3 Poor',\n",
       " 'grade_x0_4 Low',\n",
       " 'grade_x0_5 Fair',\n",
       " 'grade_x0_6 Low Average',\n",
       " 'grade_x0_7 Average',\n",
       " 'grade_x0_8 Good',\n",
       " 'grade_x0_9 Better',\n",
       " 'condition_x0_Average',\n",
       " 'condition_x0_Fair',\n",
       " 'condition_x0_Good',\n",
       " 'condition_x0_Poor',\n",
       " 'condition_x0_Very Good',\n",
       " 'zipcode_x0_98001',\n",
       " 'zipcode_x0_98002',\n",
       " 'zipcode_x0_98003',\n",
       " 'zipcode_x0_98004',\n",
       " 'zipcode_x0_98005',\n",
       " 'zipcode_x0_98006',\n",
       " 'zipcode_x0_98007',\n",
       " 'zipcode_x0_98008',\n",
       " 'zipcode_x0_98010',\n",
       " 'zipcode_x0_98011',\n",
       " 'zipcode_x0_98014',\n",
       " 'zipcode_x0_98019',\n",
       " 'zipcode_x0_98022',\n",
       " 'zipcode_x0_98023',\n",
       " 'zipcode_x0_98024',\n",
       " 'zipcode_x0_98027',\n",
       " 'zipcode_x0_98028',\n",
       " 'zipcode_x0_98029',\n",
       " 'zipcode_x0_98030',\n",
       " 'zipcode_x0_98031',\n",
       " 'zipcode_x0_98032',\n",
       " 'zipcode_x0_98033',\n",
       " 'zipcode_x0_98034',\n",
       " 'zipcode_x0_98038',\n",
       " 'zipcode_x0_98039',\n",
       " 'zipcode_x0_98040',\n",
       " 'zipcode_x0_98042',\n",
       " 'zipcode_x0_98045',\n",
       " 'zipcode_x0_98052',\n",
       " 'zipcode_x0_98053',\n",
       " 'zipcode_x0_98055',\n",
       " 'zipcode_x0_98056',\n",
       " 'zipcode_x0_98058',\n",
       " 'zipcode_x0_98059',\n",
       " 'zipcode_x0_98065',\n",
       " 'zipcode_x0_98070',\n",
       " 'zipcode_x0_98072',\n",
       " 'zipcode_x0_98074',\n",
       " 'zipcode_x0_98075',\n",
       " 'zipcode_x0_98077',\n",
       " 'zipcode_x0_98092',\n",
       " 'zipcode_x0_98102',\n",
       " 'zipcode_x0_98103',\n",
       " 'zipcode_x0_98105',\n",
       " 'zipcode_x0_98106',\n",
       " 'zipcode_x0_98107',\n",
       " 'zipcode_x0_98108',\n",
       " 'zipcode_x0_98109',\n",
       " 'zipcode_x0_98112',\n",
       " 'zipcode_x0_98115',\n",
       " 'zipcode_x0_98116',\n",
       " 'zipcode_x0_98117',\n",
       " 'zipcode_x0_98118',\n",
       " 'zipcode_x0_98119',\n",
       " 'zipcode_x0_98122',\n",
       " 'zipcode_x0_98125',\n",
       " 'zipcode_x0_98126',\n",
       " 'zipcode_x0_98133',\n",
       " 'zipcode_x0_98136',\n",
       " 'zipcode_x0_98144',\n",
       " 'zipcode_x0_98146',\n",
       " 'zipcode_x0_98148',\n",
       " 'zipcode_x0_98155',\n",
       " 'zipcode_x0_98166',\n",
       " 'zipcode_x0_98168',\n",
       " 'zipcode_x0_98177',\n",
       " 'zipcode_x0_98178',\n",
       " 'zipcode_x0_98188',\n",
       " 'zipcode_x0_98198',\n",
       " 'zipcode_x0_98199']"
      ]
     },
     "execution_count": 9,
     "metadata": {},
     "output_type": "execute_result"
    }
   ],
   "source": [
    "list(ohe_df.columns)"
   ]
  },
  {
   "cell_type": "code",
   "execution_count": 10,
   "metadata": {},
   "outputs": [],
   "source": [
    "#bin data by IQR (price)\n",
    "\n",
    "z, bins = pd.qcut(ohe_df.price, 4, retbins=True)"
   ]
  },
  {
   "cell_type": "code",
   "execution_count": 11,
   "metadata": {},
   "outputs": [
    {
     "data": {
      "text/plain": [
       "0        (77999.999, 322000.0]\n",
       "1         (450000.0, 645000.0]\n",
       "2        (77999.999, 322000.0]\n",
       "3         (450000.0, 645000.0]\n",
       "4         (450000.0, 645000.0]\n",
       "                 ...          \n",
       "21592     (322000.0, 450000.0]\n",
       "21593     (322000.0, 450000.0]\n",
       "21594     (322000.0, 450000.0]\n",
       "21595     (322000.0, 450000.0]\n",
       "21596     (322000.0, 450000.0]\n",
       "Name: price, Length: 21597, dtype: category\n",
       "Categories (4, interval[float64]): [(77999.999, 322000.0] < (322000.0, 450000.0] < (450000.0, 645000.0] < (645000.0, 7700000.0]]"
      ]
     },
     "execution_count": 11,
     "metadata": {},
     "output_type": "execute_result"
    }
   ],
   "source": [
    "z"
   ]
  },
  {
   "cell_type": "code",
   "execution_count": 12,
   "metadata": {},
   "outputs": [],
   "source": [
    "#data subsets\n",
    "\n",
    "top_25_df= ohe_df[ohe_df['price']> 645000.0]\n",
    "\n",
    "middle_50_df = ohe_df[(322000.0 < ohe_df['price'] ) & ( ohe_df['price'] <=645000.0)]\n",
    "\n",
    "bottom_25_df = ohe_df[ohe_df['price'] <= 322000.0]"
   ]
  },
  {
   "cell_type": "code",
   "execution_count": 13,
   "metadata": {},
   "outputs": [
    {
     "data": {
      "text/plain": [
       "count    5.371000e+03\n",
       "mean     9.878394e+05\n",
       "std      4.771142e+05\n",
       "min      6.455000e+05\n",
       "25%      7.235000e+05\n",
       "50%      8.260000e+05\n",
       "75%      1.050000e+06\n",
       "max      7.700000e+06\n",
       "Name: price, dtype: float64"
      ]
     },
     "execution_count": 13,
     "metadata": {},
     "output_type": "execute_result"
    }
   ],
   "source": [
    "top_25_df['price'].describe()"
   ]
  },
  {
   "cell_type": "code",
   "execution_count": 14,
   "metadata": {},
   "outputs": [
    {
     "data": {
      "text/plain": [
       "count     10820.000000\n",
       "mean     462294.906839\n",
       "std       90152.648467\n",
       "min      322200.000000\n",
       "25%      385000.000000\n",
       "50%      450000.000000\n",
       "75%      536000.000000\n",
       "max      645000.000000\n",
       "Name: price, dtype: float64"
      ]
     },
     "execution_count": 14,
     "metadata": {},
     "output_type": "execute_result"
    }
   ],
   "source": [
    "middle_50_df['price'].describe()"
   ]
  },
  {
   "cell_type": "code",
   "execution_count": 15,
   "metadata": {},
   "outputs": [
    {
     "data": {
      "text/plain": [
       "count      5406.000000\n",
       "mean     251769.994451\n",
       "std       48252.198518\n",
       "min       78000.000000\n",
       "25%      220000.000000\n",
       "50%      259000.000000\n",
       "75%      290000.000000\n",
       "max      322000.000000\n",
       "Name: price, dtype: float64"
      ]
     },
     "execution_count": 15,
     "metadata": {},
     "output_type": "execute_result"
    }
   ],
   "source": [
    "bottom_25_df['price'].describe()"
   ]
  },
  {
   "cell_type": "code",
   "execution_count": 22,
   "metadata": {},
   "outputs": [],
   "source": [
    "from sklearn.model_selection import train_test_split\n",
    "from sklearn.linear_model import LinearRegression\n",
    "from sklearn.preprocessing import StandardScaler\n",
    "scaler = StandardScaler()\n",
    "from sklearn.metrics import r2_score\n",
    "from sklearn.metrics import mean_squared_error, mean_absolute_error"
   ]
  },
  {
   "cell_type": "code",
   "execution_count": 17,
   "metadata": {},
   "outputs": [
    {
     "data": {
      "text/plain": [
       "(0.6692058451403207, 0.6456217451934646)"
      ]
     },
     "execution_count": 17,
     "metadata": {},
     "output_type": "execute_result"
    }
   ],
   "source": [
    "#High-Income-Model \n",
    "top_X = top_25_df.drop(columns='price')\n",
    "top_y = top_25_df['price']\n",
    "#train_test_split\n",
    "top_X_train, top_X_test, top_y_train, top_y_test = train_test_split(\n",
    "top_X, top_y, test_size=0.33, random_state=42)\n",
    "#scaler \n",
    "scaler.fit(top_X_train)\n",
    "top_X_train = scaler.transform(top_X_train)\n",
    "top_X_test = scaler.transform(top_X_test)\n",
    "#model\n",
    "simple_top_sk =LinearRegression()\n",
    "top_model = simple_top_sk.fit(top_X_train,top_y_train)\n",
    "#score\n",
    "top_train_score = top_model.score(top_X_train, top_y_train)\n",
    "top_test_score = top_model.score(top_X_test, top_y_test)\n",
    "top_train_score,top_test_score"
   ]
  },
  {
   "cell_type": "code",
   "execution_count": 19,
   "metadata": {},
   "outputs": [
    {
     "data": {
      "text/plain": [
       "(0.6692058451403207, 0.6456217451934646)"
      ]
     },
     "execution_count": 19,
     "metadata": {},
     "output_type": "execute_result"
    }
   ],
   "source": [
    "#High-Income-Model preds\n",
    "top_train_preds = top_model.predict(top_X_train)\n",
    "top_test_preds = top_model.predict(top_X_test)\n",
    "r2_score(top_y_train, top_train_preds),r2_score(top_y_test,top_test_preds)\n"
   ]
  },
  {
   "cell_type": "code",
   "execution_count": 30,
   "metadata": {
    "scrolled": true
   },
   "outputs": [
    {
     "data": {
      "image/png": "[encoded data removed]",
      "text/plain": [
       "<Figure size 432x288 with 1 Axes>"
      ]
     },
     "metadata": {
      "needs_background": "light"
     },
     "output_type": "display_data"
    }
   ],
   "source": [
    "#residuals\n",
    "top_train_residuals = top_y_train - top_train_preds\n",
    "plt.scatter(top_y_train,top_train_residuals);"
   ]
  },
  {
   "cell_type": "code",
   "execution_count": 23,
   "metadata": {},
   "outputs": [
    {
     "name": "stdout",
     "output_type": "stream",
     "text": [
      "Training Metrics:\n",
      "R2: 0.669\n",
      "Mean Absolute Error: 169596.004\n",
      "Mean Squared Error: 68585366703.960\n",
      "Root Mean Squared Error: 261888.080\n",
      "Testing Metrics:\n",
      "R2: 0.646\n",
      "Mean Absolute Error: 183858.795\n",
      "Mean Squared Error: 95083837750.592\n",
      "Root Mean Squared Error: 308356.673\n"
     ]
    }
   ],
   "source": [
    "#TrainVSTestMetrics\n",
    "#TrainingMetrics\n",
    "print(\"Training Metrics:\")\n",
    "# R2\n",
    "print(f\"R2: {r2_score(top_y_train, top_train_preds):.3f}\")\n",
    "# MAE\n",
    "print(f\"Mean Absolute Error: {mean_absolute_error(top_y_train, top_train_preds):.3f}\")\n",
    "# MSE\n",
    "print(f\"Mean Squared Error: {mean_squared_error(top_y_train, top_train_preds):.3f}\")\n",
    "# RMSE - just MSE but set squared=False\n",
    "print(f\"Root Mean Squared Error: {mean_squared_error(top_y_train, top_train_preds, squared=False):.3f}\")\n",
    "#TrainingMetrics\n",
    "print(\"Testing Metrics:\")\n",
    "# R2\n",
    "print(f\"R2: {r2_score(top_y_test, top_test_preds):.3f}\")\n",
    "# MAE\n",
    "print(f\"Mean Absolute Error: {mean_absolute_error(top_y_test, top_test_preds):.3f}\")\n",
    "# MSE\n",
    "print(f\"Mean Squared Error: {mean_squared_error(top_y_test, top_test_preds):.3f}\")\n",
    "# RMSE - just MSE but set squared=False\n",
    "print(f\"Root Mean Squared Error: {mean_squared_error(top_y_test, top_test_preds, squared=False):.3f}\")"
   ]
  },
  {
   "cell_type": "code",
   "execution_count": 25,
   "metadata": {},
   "outputs": [
    {
     "data": {
      "text/plain": [
       "(0.7948034556295516, 0.7828687005512688)"
      ]
     },
     "execution_count": 25,
     "metadata": {},
     "output_type": "execute_result"
    }
   ],
   "source": [
    "#Mid-Income-Model\n",
    "mid_X = ohe_df.drop (columns='price')\n",
    "mid_y =ohe_df['price']\n",
    "\n",
    "#train_test_split\n",
    "mid_X_train, mid_X_test, mid_y_train, mid_y_test = train_test_split(\n",
    "mid_X, mid_y, test_size=0.33, random_state=42)\n",
    "#scaler \n",
    "scaler.fit(mid_X_train)\n",
    "mid_X_train = scaler.transform(mid_X_train)\n",
    "mid_X_test = scaler.transform(mid_X_test)\n",
    "#model\n",
    "simple_mid_sk =LinearRegression()\n",
    "mid_model = simple_mid_sk.fit(mid_X_train,mid_y_train)\n",
    "#score\n",
    "mid_train_score = mid_model.score(mid_X_train, mid_y_train)\n",
    "mid_test_score = mid_model.score(mid_X_test, mid_y_test)\n",
    "mid_train_score,mid_test_score"
   ]
  },
  {
   "cell_type": "code",
   "execution_count": 27,
   "metadata": {},
   "outputs": [
    {
     "data": {
      "text/plain": [
       "(0.7948034556295516, 0.7828687005512688)"
      ]
     },
     "execution_count": 27,
     "metadata": {},
     "output_type": "execute_result"
    }
   ],
   "source": [
    "#Mid-Income-Model preds\n",
    "mid_train_preds = mid_model.predict(mid_X_train)\n",
    "mid_test_preds = mid_model.predict(mid_X_test)\n",
    "r2_score(mid_y_train, mid_train_preds),r2_score(mid_y_test,mid_test_preds)"
   ]
  },
  {
   "cell_type": "code",
   "execution_count": 29,
   "metadata": {
    "scrolled": true
   },
   "outputs": [
    {
     "data": {
      "image/png": "[encoded data removed]",
      "text/plain": [
       "<Figure size 432x288 with 1 Axes>"
      ]
     },
     "metadata": {
      "needs_background": "light"
     },
     "output_type": "display_data"
    }
   ],
   "source": [
    "#residuals\n",
    "mid_train_residuals = mid_y_train - mid_train_preds\n",
    "plt.scatter(mid_y_train,mid_train_residuals);"
   ]
  },
  {
   "cell_type": "code",
   "execution_count": 31,
   "metadata": {},
   "outputs": [
    {
     "name": "stdout",
     "output_type": "stream",
     "text": [
      "Training Metrics:\n",
      "R2: 0.795\n",
      "Mean Absolute Error: 96780.136\n",
      "Mean Squared Error: 28116091935.407\n",
      "Root Mean Squared Error: 167678.537\n",
      "Testing Metrics:\n",
      "R2: 0.783\n",
      "Mean Absolute Error: 95479.064\n",
      "Mean Squared Error: 28387147503.963\n",
      "Root Mean Squared Error: 168484.858\n"
     ]
    }
   ],
   "source": [
    "#TrainVSTestMetrics\n",
    "#TrainingMetrics\n",
    "print(\"Training Metrics:\")\n",
    "# R2\n",
    "print(f\"R2: {r2_score(mid_y_train, mid_train_preds):.3f}\")\n",
    "# MAE\n",
    "print(f\"Mean Absolute Error: {mean_absolute_error(mid_y_train, mid_train_preds):.3f}\")\n",
    "# MSE\n",
    "print(f\"Mean Squared Error: {mean_squared_error(mid_y_train, mid_train_preds):.3f}\")\n",
    "# RMSE - just MSE but set squared=False\n",
    "print(f\"Root Mean Squared Error: {mean_squared_error(mid_y_train, mid_train_preds, squared=False):.3f}\")\n",
    "#TrainingMetrics\n",
    "print(\"Testing Metrics:\")\n",
    "# R2\n",
    "print(f\"R2: {r2_score(mid_y_test, mid_test_preds):.3f}\")\n",
    "# MAE\n",
    "print(f\"Mean Absolute Error: {mean_absolute_error(mid_y_test, mid_test_preds):.3f}\")\n",
    "# MSE\n",
    "print(f\"Mean Squared Error: {mean_squared_error(mid_y_test, mid_test_preds):.3f}\")\n",
    "# RMSE - just MSE but set squared=False\n",
    "print(f\"Root Mean Squared Error: {mean_squared_error(mid_y_test, mid_test_preds, squared=False):.3f}\")"
   ]
  },
  {
   "cell_type": "code",
   "execution_count": 32,
   "metadata": {},
   "outputs": [
    {
     "data": {
      "text/plain": [
       "(0.7948034556295516, 0.7828687005512688)"
      ]
     },
     "execution_count": 32,
     "metadata": {},
     "output_type": "execute_result"
    }
   ],
   "source": [
    "#Low-Income-Model\n",
    "bot_X =ohe_df.drop (columns='price')\n",
    "bot_y =ohe_df['price']\n",
    "\n",
    "#train_test_split\n",
    "bot_X_train, bot_X_test, bot_y_train, bot_y_test = train_test_split(\n",
    "bot_X, bot_y, test_size=0.33, random_state=42)\n",
    "\n",
    "#scaler \n",
    "scaler.fit(bot_X_train)\n",
    "bot_X_train = scaler.transform(bot_X_train)\n",
    "bot_X_test = scaler.transform(bot_X_test)\n",
    "#model\n",
    "simple_bot_sk =LinearRegression()\n",
    "bot_model = simple_bot_sk.fit(bot_X_train,bot_y_train)\n",
    "#score\n",
    "bot_train_score = bot_model.score(bot_X_train, bot_y_train)\n",
    "bot_test_score = bot_model.score(bot_X_test, bot_y_test)\n",
    "bot_train_score,bot_test_score\n"
   ]
  },
  {
   "cell_type": "code",
   "execution_count": 33,
   "metadata": {},
   "outputs": [
    {
     "data": {
      "text/plain": [
       "(0.7948034556295516, 0.7828687005512688)"
      ]
     },
     "execution_count": 33,
     "metadata": {},
     "output_type": "execute_result"
    }
   ],
   "source": [
    "#Low-income-Model preds\n",
    "bot_train_preds = bot_model.predict(bot_X_train)\n",
    "bot_test_preds = bot_model.predict(bot_X_test)\n",
    "r2_score(bot_y_train, bot_train_preds),r2_score(bot_y_test,bot_test_preds)"
   ]
  },
  {
   "cell_type": "code",
   "execution_count": 34,
   "metadata": {},
   "outputs": [
    {
     "data": {
      "image/png": "[encoded data removed]",
      "text/plain": [
       "<Figure size 432x288 with 1 Axes>"
      ]
     },
     "metadata": {
      "needs_background": "light"
     },
     "output_type": "display_data"
    }
   ],
   "source": [
    "#residuals\n",
    "bot_train_residuals = bot_y_train - bot_train_preds\n",
    "plt.scatter(bot_y_train,bot_train_residuals);"
   ]
  },
  {
   "cell_type": "code",
   "execution_count": 35,
   "metadata": {},
   "outputs": [
    {
     "name": "stdout",
     "output_type": "stream",
     "text": [
      "Training Metrics:\n",
      "R2: 0.795\n",
      "Mean Absolute Error: 96780.136\n",
      "Mean Squared Error: 28116091935.407\n",
      "Root Mean Squared Error: 167678.537\n",
      "Testing Metrics:\n",
      "R2: 0.783\n",
      "Mean Absolute Error: 95479.064\n",
      "Mean Squared Error: 28387147503.963\n",
      "Root Mean Squared Error: 168484.858\n"
     ]
    }
   ],
   "source": [
    "#TrainVSTestMetrics\n",
    "#TrainingMetrics\n",
    "print(\"Training Metrics:\")\n",
    "# R2\n",
    "print(f\"R2: {r2_score(bot_y_train, bot_train_preds):.3f}\")\n",
    "# MAE\n",
    "print(f\"Mean Absolute Error: {mean_absolute_error(bot_y_train, bot_train_preds):.3f}\")\n",
    "# MSE\n",
    "print(f\"Mean Squared Error: {mean_squared_error(bot_y_train, bot_train_preds):.3f}\")\n",
    "# RMSE - just MSE but set squared=False\n",
    "print(f\"Root Mean Squared Error: {mean_squared_error(bot_y_train, bot_train_preds, squared=False):.3f}\")\n",
    "#TrainingMetrics\n",
    "print(\"Testing Metrics:\")\n",
    "# R2\n",
    "print(f\"R2: {r2_score(bot_y_test, bot_test_preds):.3f}\")\n",
    "# MAE\n",
    "print(f\"Mean Absolute Error: {mean_absolute_error(bot_y_test, bot_test_preds):.3f}\")\n",
    "# MSE\n",
    "print(f\"Mean Squared Error: {mean_squared_error(bot_y_test, bot_test_preds):.3f}\")\n",
    "# RMSE - just MSE but set squared=False\n",
    "print(f\"Root Mean Squared Error: {mean_squared_error(bot_y_test, bot_test_preds, squared=False):.3f}\")"
   ]
  },
  {
   "cell_type": "code",
   "execution_count": null,
   "metadata": {},
   "outputs": [],
   "source": []
  },
  {
   "cell_type": "code",
   "execution_count": null,
   "metadata": {},
   "outputs": [],
   "source": []
  },
  {
   "cell_type": "code",
   "execution_count": null,
   "metadata": {},
   "outputs": [],
   "source": []
  },
  {
   "cell_type": "code",
   "execution_count": null,
   "metadata": {},
   "outputs": [],
   "source": []
  }
 ],
 "metadata": {
  "kernelspec": {
   "display_name": "Python (learn-env)",
   "language": "python",
   "name": "learn-env"
  },
  "language_info": {
   "codemirror_mode": {
    "name": "ipython",
    "version": 3
   },
   "file_extension": ".py",
   "mimetype": "text/x-python",
   "name": "python",
   "nbconvert_exporter": "python",
   "pygments_lexer": "ipython3",
   "version": "3.8.5"
  }
 },
 "nbformat": 4,
 "nbformat_minor": 4
}
