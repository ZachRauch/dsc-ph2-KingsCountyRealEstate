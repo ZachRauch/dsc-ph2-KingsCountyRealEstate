{
 "cells": [
  {
   "cell_type": "code",
   "execution_count": 40,
   "metadata": {},
   "outputs": [],
   "source": [
    "import numpy as np\n",
    "import pandas as pd\n",
    "import seaborn as sns\n",
    "import statsmodels.api as sm\n",
    "import sklearn.metrics as metrics\n",
    "\n",
    "from matplotlib import pyplot as plt\n",
    "\n",
    "from sklearn.preprocessing import OneHotEncoder, StandardScaler\n",
    "from sklearn.linear_model import LinearRegression\n",
    "\n",
    "from scipy import stats as stats\n",
    "%matplotlib inline"
   ]
  },
  {
   "cell_type": "code",
   "execution_count": 93,
   "metadata": {},
   "outputs": [],
   "source": [
    "df = pd.read_csv(\"../../data/kc_house_data.csv\")"
   ]
  },
  {
   "cell_type": "code",
   "execution_count": 81,
   "metadata": {
    "scrolled": true
   },
   "outputs": [
    {
     "name": "stdout",
     "output_type": "stream",
     "text": [
      "<class 'pandas.core.frame.DataFrame'>\n",
      "RangeIndex: 21597 entries, 0 to 21596\n",
      "Data columns (total 32 columns):\n",
      " #   Column            Non-Null Count  Dtype  \n",
      "---  ------            --------------  -----  \n",
      " 0   id                21597 non-null  int64  \n",
      " 1   date              21597 non-null  object \n",
      " 2   price             21597 non-null  float64\n",
      " 3   bedrooms          21597 non-null  int64  \n",
      " 4   bathrooms         21597 non-null  float64\n",
      " 5   sqft_living       21597 non-null  int64  \n",
      " 6   sqft_lot          21597 non-null  int64  \n",
      " 7   floors            21597 non-null  float64\n",
      " 8   waterfront        19221 non-null  object \n",
      " 9   view              21534 non-null  object \n",
      " 10  condition         21597 non-null  object \n",
      " 11  grade             21597 non-null  object \n",
      " 12  sqft_above        21597 non-null  int64  \n",
      " 13  sqft_basement     21597 non-null  object \n",
      " 14  yr_built          21597 non-null  int64  \n",
      " 15  yr_renovated      17755 non-null  float64\n",
      " 16  zipcode           21597 non-null  int64  \n",
      " 17  lat               21597 non-null  float64\n",
      " 18  long              21597 non-null  float64\n",
      " 19  sqft_living15     21597 non-null  int64  \n",
      " 20  sqft_lot15        21597 non-null  int64  \n",
      " 21  x0_10 Very Good   21597 non-null  float64\n",
      " 22  x0_11 Excellent   21597 non-null  float64\n",
      " 23  x0_12 Luxury      21597 non-null  float64\n",
      " 24  x0_13 Mansion     21597 non-null  float64\n",
      " 25  x0_3 Poor         21597 non-null  float64\n",
      " 26  x0_4 Low          21597 non-null  float64\n",
      " 27  x0_5 Fair         21597 non-null  float64\n",
      " 28  x0_6 Low Average  21597 non-null  float64\n",
      " 29  x0_7 Average      21597 non-null  float64\n",
      " 30  x0_8 Good         21597 non-null  float64\n",
      " 31  x0_9 Better       21597 non-null  float64\n",
      "dtypes: float64(17), int64(9), object(6)\n",
      "memory usage: 5.3+ MB\n"
     ]
    }
   ],
   "source": [
    "df.info()\n"
   ]
  },
  {
   "cell_type": "code",
   "execution_count": 34,
   "metadata": {},
   "outputs": [
    {
     "data": {
      "text/plain": [
       "id              -0.016772\n",
       "price            1.000000\n",
       "bedrooms         0.308787\n",
       "bathrooms        0.525906\n",
       "sqft_living      0.701917\n",
       "sqft_lot         0.089876\n",
       "floors           0.256804\n",
       "sqft_above       0.605368\n",
       "yr_built         0.053953\n",
       "yr_renovated     0.129599\n",
       "zipcode         -0.053402\n",
       "lat              0.306692\n",
       "long             0.022036\n",
       "sqft_living15    0.585241\n",
       "sqft_lot15       0.082845\n",
       "Name: price, dtype: float64"
      ]
     },
     "execution_count": 34,
     "metadata": {},
     "output_type": "execute_result"
    }
   ],
   "source": [
    "df.corr()['price']"
   ]
  },
  {
   "cell_type": "code",
   "execution_count": 95,
   "metadata": {},
   "outputs": [],
   "source": [
    "def ohe(df, *cols):\n",
    "    temp_df = df\n",
    "    for col in cols:\n",
    "        encoder = OneHotEncoder(handle_unknown=\"ignore\")\n",
    "        fitted_arr = encoder.fit_transform(temp_df[[col]]).toarray()\n",
    "        col_names = [f\"{col}_{f}\" for f in encoder.get_feature_names()]\n",
    "        encoded_values = pd.DataFrame(fitted_arr, columns=col_names)\n",
    "        temp_df = temp_df.join(encoded_values)\n",
    "    return temp_df\n"
   ]
  },
  {
   "cell_type": "code",
   "execution_count": 96,
   "metadata": {},
   "outputs": [],
   "source": [
    "df_clean = ohe(df, \"grade\", \"condition\")"
   ]
  },
  {
   "cell_type": "code",
   "execution_count": 98,
   "metadata": {},
   "outputs": [
    {
     "data": {
      "text/html": [
       "<div>\n",
       "<style scoped>\n",
       "    .dataframe tbody tr th:only-of-type {\n",
       "        vertical-align: middle;\n",
       "    }\n",
       "\n",
       "    .dataframe tbody tr th {\n",
       "        vertical-align: top;\n",
       "    }\n",
       "\n",
       "    .dataframe thead th {\n",
       "        text-align: right;\n",
       "    }\n",
       "</style>\n",
       "<table border=\"1\" class=\"dataframe\">\n",
       "  <thead>\n",
       "    <tr style=\"text-align: right;\">\n",
       "      <th></th>\n",
       "      <th>yr_built</th>\n",
       "      <th>yr_renovated</th>\n",
       "    </tr>\n",
       "  </thead>\n",
       "  <tbody>\n",
       "    <tr>\n",
       "      <th>0</th>\n",
       "      <td>1955</td>\n",
       "      <td>0.0</td>\n",
       "    </tr>\n",
       "    <tr>\n",
       "      <th>1</th>\n",
       "      <td>1951</td>\n",
       "      <td>1991.0</td>\n",
       "    </tr>\n",
       "    <tr>\n",
       "      <th>2</th>\n",
       "      <td>1933</td>\n",
       "      <td>NaN</td>\n",
       "    </tr>\n",
       "    <tr>\n",
       "      <th>3</th>\n",
       "      <td>1965</td>\n",
       "      <td>0.0</td>\n",
       "    </tr>\n",
       "    <tr>\n",
       "      <th>4</th>\n",
       "      <td>1987</td>\n",
       "      <td>0.0</td>\n",
       "    </tr>\n",
       "    <tr>\n",
       "      <th>...</th>\n",
       "      <td>...</td>\n",
       "      <td>...</td>\n",
       "    </tr>\n",
       "    <tr>\n",
       "      <th>21592</th>\n",
       "      <td>2009</td>\n",
       "      <td>0.0</td>\n",
       "    </tr>\n",
       "    <tr>\n",
       "      <th>21593</th>\n",
       "      <td>2014</td>\n",
       "      <td>0.0</td>\n",
       "    </tr>\n",
       "    <tr>\n",
       "      <th>21594</th>\n",
       "      <td>2009</td>\n",
       "      <td>0.0</td>\n",
       "    </tr>\n",
       "    <tr>\n",
       "      <th>21595</th>\n",
       "      <td>2004</td>\n",
       "      <td>0.0</td>\n",
       "    </tr>\n",
       "    <tr>\n",
       "      <th>21596</th>\n",
       "      <td>2008</td>\n",
       "      <td>0.0</td>\n",
       "    </tr>\n",
       "  </tbody>\n",
       "</table>\n",
       "<p>21597 rows × 2 columns</p>\n",
       "</div>"
      ],
      "text/plain": [
       "       yr_built  yr_renovated\n",
       "0          1955           0.0\n",
       "1          1951        1991.0\n",
       "2          1933           NaN\n",
       "3          1965           0.0\n",
       "4          1987           0.0\n",
       "...         ...           ...\n",
       "21592      2009           0.0\n",
       "21593      2014           0.0\n",
       "21594      2009           0.0\n",
       "21595      2004           0.0\n",
       "21596      2008           0.0\n",
       "\n",
       "[21597 rows x 2 columns]"
      ]
     },
     "execution_count": 98,
     "metadata": {},
     "output_type": "execute_result"
    }
   ],
   "source": [
    "df[[\"yr_built\", \"yr_renovated\"]]"
   ]
  },
  {
   "cell_type": "code",
   "execution_count": 66,
   "metadata": {},
   "outputs": [
    {
     "data": {
      "text/plain": [
       "yr_renovated\n",
       "0.0       17011\n",
       "1934.0        1\n",
       "1940.0        2\n",
       "1944.0        1\n",
       "1945.0        3\n",
       "          ...  \n",
       "2011.0        9\n",
       "2012.0        8\n",
       "2013.0       31\n",
       "2014.0       73\n",
       "2015.0       14\n",
       "Name: id, Length: 70, dtype: int64"
      ]
     },
     "execution_count": 66,
     "metadata": {},
     "output_type": "execute_result"
    }
   ],
   "source": [
    "df.groupby([\"yr_renovated\"])[\"id\"].count()"
   ]
  },
  {
   "cell_type": "markdown",
   "metadata": {},
   "source": [
    "Out of a total of 21597 records we have 17011 records which are 0.0, which is ~79% of the data, hence we cannot use this field for feature engineering."
   ]
  },
  {
   "cell_type": "code",
   "execution_count": 101,
   "metadata": {},
   "outputs": [
    {
     "data": {
      "text/plain": [
       "Index(['id', 'date', 'price', 'bedrooms', 'bathrooms', 'sqft_living',\n",
       "       'sqft_lot', 'floors', 'waterfront', 'view', 'condition', 'grade',\n",
       "       'sqft_above', 'sqft_basement', 'yr_built', 'yr_renovated', 'zipcode',\n",
       "       'lat', 'long', 'sqft_living15', 'sqft_lot15', 'grade_x0_10 Very Good',\n",
       "       'grade_x0_11 Excellent', 'grade_x0_12 Luxury', 'grade_x0_13 Mansion',\n",
       "       'grade_x0_3 Poor', 'grade_x0_4 Low', 'grade_x0_5 Fair',\n",
       "       'grade_x0_6 Low Average', 'grade_x0_7 Average', 'grade_x0_8 Good',\n",
       "       'grade_x0_9 Better', 'condition_x0_Average', 'condition_x0_Fair',\n",
       "       'condition_x0_Good', 'condition_x0_Poor', 'condition_x0_Very Good'],\n",
       "      dtype='object')"
      ]
     },
     "execution_count": 101,
     "metadata": {},
     "output_type": "execute_result"
    }
   ],
   "source": [
    "df_clean.columns"
   ]
  },
  {
   "cell_type": "code",
   "execution_count": 109,
   "metadata": {},
   "outputs": [],
   "source": [
    "df_model = df_clean.drop(['id','price','yr_renovated','waterfront','date', 'grade', 'condition','view','sqft_basement'], axis = 1)"
   ]
  },
  {
   "cell_type": "code",
   "execution_count": 110,
   "metadata": {},
   "outputs": [],
   "source": [
    "X=df_model\n",
    "y=df['price']"
   ]
  },
  {
   "cell_type": "code",
   "execution_count": 111,
   "metadata": {},
   "outputs": [],
   "source": [
    "model = sm.OLS(endog=y, exog=X).fit()"
   ]
  },
  {
   "cell_type": "code",
   "execution_count": 112,
   "metadata": {},
   "outputs": [
    {
     "data": {
      "text/html": [
       "<table class=\"simpletable\">\n",
       "<caption>OLS Regression Results</caption>\n",
       "<tr>\n",
       "  <th>Dep. Variable:</th>          <td>price</td>      <th>  R-squared:         </th>  <td>   0.694</td>  \n",
       "</tr>\n",
       "<tr>\n",
       "  <th>Model:</th>                   <td>OLS</td>       <th>  Adj. R-squared:    </th>  <td>   0.693</td>  \n",
       "</tr>\n",
       "<tr>\n",
       "  <th>Method:</th>             <td>Least Squares</td>  <th>  F-statistic:       </th>  <td>   1878.</td>  \n",
       "</tr>\n",
       "<tr>\n",
       "  <th>Date:</th>             <td>Tue, 29 Mar 2022</td> <th>  Prob (F-statistic):</th>   <td>  0.00</td>   \n",
       "</tr>\n",
       "<tr>\n",
       "  <th>Time:</th>                 <td>02:24:14</td>     <th>  Log-Likelihood:    </th> <td>-2.9462e+05</td>\n",
       "</tr>\n",
       "<tr>\n",
       "  <th>No. Observations:</th>      <td> 21597</td>      <th>  AIC:               </th>  <td>5.893e+05</td> \n",
       "</tr>\n",
       "<tr>\n",
       "  <th>Df Residuals:</th>          <td> 21570</td>      <th>  BIC:               </th>  <td>5.895e+05</td> \n",
       "</tr>\n",
       "<tr>\n",
       "  <th>Df Model:</th>              <td>    26</td>      <th>                     </th>      <td> </td>     \n",
       "</tr>\n",
       "<tr>\n",
       "  <th>Covariance Type:</th>      <td>nonrobust</td>    <th>                     </th>      <td> </td>     \n",
       "</tr>\n",
       "</table>\n",
       "<table class=\"simpletable\">\n",
       "<tr>\n",
       "             <td></td>               <th>coef</th>     <th>std err</th>      <th>t</th>      <th>P>|t|</th>  <th>[0.025</th>    <th>0.975]</th>  \n",
       "</tr>\n",
       "<tr>\n",
       "  <th>bedrooms</th>               <td>-2.986e+04</td> <td> 1952.828</td> <td>  -15.293</td> <td> 0.000</td> <td>-3.37e+04</td> <td> -2.6e+04</td>\n",
       "</tr>\n",
       "<tr>\n",
       "  <th>bathrooms</th>              <td> 5.017e+04</td> <td> 3296.747</td> <td>   15.217</td> <td> 0.000</td> <td> 4.37e+04</td> <td> 5.66e+04</td>\n",
       "</tr>\n",
       "<tr>\n",
       "  <th>sqft_living</th>            <td>  159.7181</td> <td>    4.407</td> <td>   36.243</td> <td> 0.000</td> <td>  151.080</td> <td>  168.356</td>\n",
       "</tr>\n",
       "<tr>\n",
       "  <th>sqft_lot</th>               <td>    0.1408</td> <td>    0.048</td> <td>    2.904</td> <td> 0.004</td> <td>    0.046</td> <td>    0.236</td>\n",
       "</tr>\n",
       "<tr>\n",
       "  <th>floors</th>                 <td> 3.217e+04</td> <td> 3699.670</td> <td>    8.696</td> <td> 0.000</td> <td> 2.49e+04</td> <td> 3.94e+04</td>\n",
       "</tr>\n",
       "<tr>\n",
       "  <th>sqft_above</th>             <td>  -22.5210</td> <td>    4.419</td> <td>   -5.096</td> <td> 0.000</td> <td>  -31.183</td> <td>  -13.859</td>\n",
       "</tr>\n",
       "<tr>\n",
       "  <th>yr_built</th>               <td>-2614.6268</td> <td>   70.695</td> <td>  -36.984</td> <td> 0.000</td> <td>-2753.195</td> <td>-2476.059</td>\n",
       "</tr>\n",
       "<tr>\n",
       "  <th>zipcode</th>                <td> -511.0846</td> <td>   33.422</td> <td>  -15.292</td> <td> 0.000</td> <td> -576.595</td> <td> -445.575</td>\n",
       "</tr>\n",
       "<tr>\n",
       "  <th>lat</th>                    <td> 5.695e+05</td> <td> 1.08e+04</td> <td>   52.644</td> <td> 0.000</td> <td> 5.48e+05</td> <td> 5.91e+05</td>\n",
       "</tr>\n",
       "<tr>\n",
       "  <th>long</th>                   <td>-2.374e+05</td> <td> 1.33e+04</td> <td>  -17.848</td> <td> 0.000</td> <td>-2.63e+05</td> <td>-2.11e+05</td>\n",
       "</tr>\n",
       "<tr>\n",
       "  <th>sqft_living15</th>          <td>   42.5572</td> <td>    3.475</td> <td>   12.246</td> <td> 0.000</td> <td>   35.745</td> <td>   49.369</td>\n",
       "</tr>\n",
       "<tr>\n",
       "  <th>sqft_lot15</th>             <td>   -0.3200</td> <td>    0.074</td> <td>   -4.315</td> <td> 0.000</td> <td>   -0.465</td> <td>   -0.175</td>\n",
       "</tr>\n",
       "<tr>\n",
       "  <th>grade_x0_10 Very Good</th>  <td>-1.685e+05</td> <td> 9.25e+05</td> <td>   -0.182</td> <td> 0.855</td> <td>-1.98e+06</td> <td> 1.65e+06</td>\n",
       "</tr>\n",
       "<tr>\n",
       "  <th>grade_x0_11 Excellent</th>  <td> 9.402e+04</td> <td> 9.26e+05</td> <td>    0.102</td> <td> 0.919</td> <td>-1.72e+06</td> <td> 1.91e+06</td>\n",
       "</tr>\n",
       "<tr>\n",
       "  <th>grade_x0_12 Luxury</th>     <td> 6.025e+05</td> <td> 9.26e+05</td> <td>    0.651</td> <td> 0.515</td> <td>-1.21e+06</td> <td> 2.42e+06</td>\n",
       "</tr>\n",
       "<tr>\n",
       "  <th>grade_x0_13 Mansion</th>    <td> 1.715e+06</td> <td> 9.28e+05</td> <td>    1.848</td> <td> 0.065</td> <td>-1.04e+05</td> <td> 3.53e+06</td>\n",
       "</tr>\n",
       "<tr>\n",
       "  <th>grade_x0_3 Poor</th>        <td>-4.382e+05</td> <td> 9.41e+05</td> <td>   -0.466</td> <td> 0.641</td> <td>-2.28e+06</td> <td> 1.41e+06</td>\n",
       "</tr>\n",
       "<tr>\n",
       "  <th>grade_x0_4 Low</th>         <td>-5.859e+05</td> <td> 9.24e+05</td> <td>   -0.634</td> <td> 0.526</td> <td> -2.4e+06</td> <td> 1.23e+06</td>\n",
       "</tr>\n",
       "<tr>\n",
       "  <th>grade_x0_5 Fair</th>        <td>-5.904e+05</td> <td> 9.24e+05</td> <td>   -0.639</td> <td> 0.523</td> <td> -2.4e+06</td> <td> 1.22e+06</td>\n",
       "</tr>\n",
       "<tr>\n",
       "  <th>grade_x0_6 Low Average</th> <td>-5.722e+05</td> <td> 9.25e+05</td> <td>   -0.619</td> <td> 0.536</td> <td>-2.38e+06</td> <td> 1.24e+06</td>\n",
       "</tr>\n",
       "<tr>\n",
       "  <th>grade_x0_7 Average</th>     <td>-5.318e+05</td> <td> 9.25e+05</td> <td>   -0.575</td> <td> 0.565</td> <td>-2.34e+06</td> <td> 1.28e+06</td>\n",
       "</tr>\n",
       "<tr>\n",
       "  <th>grade_x0_8 Good</th>        <td>-4.656e+05</td> <td> 9.25e+05</td> <td>   -0.503</td> <td> 0.615</td> <td>-2.28e+06</td> <td> 1.35e+06</td>\n",
       "</tr>\n",
       "<tr>\n",
       "  <th>grade_x0_9 Better</th>      <td>-3.398e+05</td> <td> 9.25e+05</td> <td>   -0.367</td> <td> 0.713</td> <td>-2.15e+06</td> <td> 1.47e+06</td>\n",
       "</tr>\n",
       "<tr>\n",
       "  <th>condition_x0_Average</th>   <td>-2.629e+05</td> <td> 2.03e+06</td> <td>   -0.129</td> <td> 0.897</td> <td>-4.25e+06</td> <td> 3.73e+06</td>\n",
       "</tr>\n",
       "<tr>\n",
       "  <th>condition_x0_Fair</th>      <td>-2.777e+05</td> <td> 2.03e+06</td> <td>   -0.137</td> <td> 0.891</td> <td>-4.27e+06</td> <td> 3.71e+06</td>\n",
       "</tr>\n",
       "<tr>\n",
       "  <th>condition_x0_Good</th>      <td>-2.339e+05</td> <td> 2.03e+06</td> <td>   -0.115</td> <td> 0.908</td> <td>-4.22e+06</td> <td> 3.75e+06</td>\n",
       "</tr>\n",
       "<tr>\n",
       "  <th>condition_x0_Poor</th>      <td>-3.106e+05</td> <td> 2.03e+06</td> <td>   -0.153</td> <td> 0.879</td> <td> -4.3e+06</td> <td> 3.68e+06</td>\n",
       "</tr>\n",
       "<tr>\n",
       "  <th>condition_x0_Very Good</th> <td>-1.958e+05</td> <td> 2.03e+06</td> <td>   -0.096</td> <td> 0.923</td> <td>-4.18e+06</td> <td> 3.79e+06</td>\n",
       "</tr>\n",
       "</table>\n",
       "<table class=\"simpletable\">\n",
       "<tr>\n",
       "  <th>Omnibus:</th>       <td>16508.378</td> <th>  Durbin-Watson:     </th>  <td>   1.992</td>  \n",
       "</tr>\n",
       "<tr>\n",
       "  <th>Prob(Omnibus):</th>  <td> 0.000</td>   <th>  Jarque-Bera (JB):  </th> <td>1071662.114</td>\n",
       "</tr>\n",
       "<tr>\n",
       "  <th>Skew:</th>           <td> 3.130</td>   <th>  Prob(JB):          </th>  <td>    0.00</td>  \n",
       "</tr>\n",
       "<tr>\n",
       "  <th>Kurtosis:</th>       <td>36.937</td>   <th>  Cond. No.          </th>  <td>1.04e+16</td>  \n",
       "</tr>\n",
       "</table><br/><br/>Notes:<br/>[1] Standard Errors assume that the covariance matrix of the errors is correctly specified.<br/>[2] The smallest eigenvalue is 2.01e-18. This might indicate that there are<br/>strong multicollinearity problems or that the design matrix is singular."
      ],
      "text/plain": [
       "<class 'statsmodels.iolib.summary.Summary'>\n",
       "\"\"\"\n",
       "                            OLS Regression Results                            \n",
       "==============================================================================\n",
       "Dep. Variable:                  price   R-squared:                       0.694\n",
       "Model:                            OLS   Adj. R-squared:                  0.693\n",
       "Method:                 Least Squares   F-statistic:                     1878.\n",
       "Date:                Tue, 29 Mar 2022   Prob (F-statistic):               0.00\n",
       "Time:                        02:24:14   Log-Likelihood:            -2.9462e+05\n",
       "No. Observations:               21597   AIC:                         5.893e+05\n",
       "Df Residuals:                   21570   BIC:                         5.895e+05\n",
       "Df Model:                          26                                         \n",
       "Covariance Type:            nonrobust                                         \n",
       "==========================================================================================\n",
       "                             coef    std err          t      P>|t|      [0.025      0.975]\n",
       "------------------------------------------------------------------------------------------\n",
       "bedrooms               -2.986e+04   1952.828    -15.293      0.000   -3.37e+04    -2.6e+04\n",
       "bathrooms               5.017e+04   3296.747     15.217      0.000    4.37e+04    5.66e+04\n",
       "sqft_living              159.7181      4.407     36.243      0.000     151.080     168.356\n",
       "sqft_lot                   0.1408      0.048      2.904      0.004       0.046       0.236\n",
       "floors                  3.217e+04   3699.670      8.696      0.000    2.49e+04    3.94e+04\n",
       "sqft_above               -22.5210      4.419     -5.096      0.000     -31.183     -13.859\n",
       "yr_built               -2614.6268     70.695    -36.984      0.000   -2753.195   -2476.059\n",
       "zipcode                 -511.0846     33.422    -15.292      0.000    -576.595    -445.575\n",
       "lat                     5.695e+05   1.08e+04     52.644      0.000    5.48e+05    5.91e+05\n",
       "long                   -2.374e+05   1.33e+04    -17.848      0.000   -2.63e+05   -2.11e+05\n",
       "sqft_living15             42.5572      3.475     12.246      0.000      35.745      49.369\n",
       "sqft_lot15                -0.3200      0.074     -4.315      0.000      -0.465      -0.175\n",
       "grade_x0_10 Very Good  -1.685e+05   9.25e+05     -0.182      0.855   -1.98e+06    1.65e+06\n",
       "grade_x0_11 Excellent   9.402e+04   9.26e+05      0.102      0.919   -1.72e+06    1.91e+06\n",
       "grade_x0_12 Luxury      6.025e+05   9.26e+05      0.651      0.515   -1.21e+06    2.42e+06\n",
       "grade_x0_13 Mansion     1.715e+06   9.28e+05      1.848      0.065   -1.04e+05    3.53e+06\n",
       "grade_x0_3 Poor        -4.382e+05   9.41e+05     -0.466      0.641   -2.28e+06    1.41e+06\n",
       "grade_x0_4 Low         -5.859e+05   9.24e+05     -0.634      0.526    -2.4e+06    1.23e+06\n",
       "grade_x0_5 Fair        -5.904e+05   9.24e+05     -0.639      0.523    -2.4e+06    1.22e+06\n",
       "grade_x0_6 Low Average -5.722e+05   9.25e+05     -0.619      0.536   -2.38e+06    1.24e+06\n",
       "grade_x0_7 Average     -5.318e+05   9.25e+05     -0.575      0.565   -2.34e+06    1.28e+06\n",
       "grade_x0_8 Good        -4.656e+05   9.25e+05     -0.503      0.615   -2.28e+06    1.35e+06\n",
       "grade_x0_9 Better      -3.398e+05   9.25e+05     -0.367      0.713   -2.15e+06    1.47e+06\n",
       "condition_x0_Average   -2.629e+05   2.03e+06     -0.129      0.897   -4.25e+06    3.73e+06\n",
       "condition_x0_Fair      -2.777e+05   2.03e+06     -0.137      0.891   -4.27e+06    3.71e+06\n",
       "condition_x0_Good      -2.339e+05   2.03e+06     -0.115      0.908   -4.22e+06    3.75e+06\n",
       "condition_x0_Poor      -3.106e+05   2.03e+06     -0.153      0.879    -4.3e+06    3.68e+06\n",
       "condition_x0_Very Good -1.958e+05   2.03e+06     -0.096      0.923   -4.18e+06    3.79e+06\n",
       "==============================================================================\n",
       "Omnibus:                    16508.378   Durbin-Watson:                   1.992\n",
       "Prob(Omnibus):                  0.000   Jarque-Bera (JB):          1071662.114\n",
       "Skew:                           3.130   Prob(JB):                         0.00\n",
       "Kurtosis:                      36.937   Cond. No.                     1.04e+16\n",
       "==============================================================================\n",
       "\n",
       "Notes:\n",
       "[1] Standard Errors assume that the covariance matrix of the errors is correctly specified.\n",
       "[2] The smallest eigenvalue is 2.01e-18. This might indicate that there are\n",
       "strong multicollinearity problems or that the design matrix is singular.\n",
       "\"\"\""
      ]
     },
     "execution_count": 112,
     "metadata": {},
     "output_type": "execute_result"
    }
   ],
   "source": [
    "model.summary()"
   ]
  },
  {
   "cell_type": "code",
   "execution_count": 91,
   "metadata": {
    "scrolled": true
   },
   "outputs": [
    {
     "data": {
      "text/plain": [
       "array([[3, 1.0, 1180, ..., 1.0, 0.0, 0.0],\n",
       "       [3, 2.25, 2570, ..., 1.0, 0.0, 0.0],\n",
       "       [2, 1.0, 770, ..., 0.0, 0.0, 0.0],\n",
       "       ...,\n",
       "       [2, 0.75, 1020, ..., 1.0, 0.0, 0.0],\n",
       "       [3, 2.5, 1600, ..., 0.0, 1.0, 0.0],\n",
       "       [2, 0.75, 1020, ..., 1.0, 0.0, 0.0]], dtype=object)"
      ]
     },
     "execution_count": 91,
     "metadata": {},
     "output_type": "execute_result"
    }
   ],
   "source": [
    "np.asarray(X)"
   ]
  },
  {
   "cell_type": "code",
   "execution_count": 108,
   "metadata": {},
   "outputs": [
    {
     "name": "stdout",
     "output_type": "stream",
     "text": [
      "<class 'pandas.core.frame.DataFrame'>\n",
      "RangeIndex: 21597 entries, 0 to 21596\n",
      "Data columns (total 30 columns):\n",
      " #   Column                  Non-Null Count  Dtype  \n",
      "---  ------                  --------------  -----  \n",
      " 0   bedrooms                21597 non-null  int64  \n",
      " 1   bathrooms               21597 non-null  float64\n",
      " 2   sqft_living             21597 non-null  int64  \n",
      " 3   sqft_lot                21597 non-null  int64  \n",
      " 4   floors                  21597 non-null  float64\n",
      " 5   view                    21534 non-null  object \n",
      " 6   sqft_above              21597 non-null  int64  \n",
      " 7   sqft_basement           21597 non-null  object \n",
      " 8   yr_built                21597 non-null  int64  \n",
      " 9   zipcode                 21597 non-null  int64  \n",
      " 10  lat                     21597 non-null  float64\n",
      " 11  long                    21597 non-null  float64\n",
      " 12  sqft_living15           21597 non-null  int64  \n",
      " 13  sqft_lot15              21597 non-null  int64  \n",
      " 14  grade_x0_10 Very Good   21597 non-null  float64\n",
      " 15  grade_x0_11 Excellent   21597 non-null  float64\n",
      " 16  grade_x0_12 Luxury      21597 non-null  float64\n",
      " 17  grade_x0_13 Mansion     21597 non-null  float64\n",
      " 18  grade_x0_3 Poor         21597 non-null  float64\n",
      " 19  grade_x0_4 Low          21597 non-null  float64\n",
      " 20  grade_x0_5 Fair         21597 non-null  float64\n",
      " 21  grade_x0_6 Low Average  21597 non-null  float64\n",
      " 22  grade_x0_7 Average      21597 non-null  float64\n",
      " 23  grade_x0_8 Good         21597 non-null  float64\n",
      " 24  grade_x0_9 Better       21597 non-null  float64\n",
      " 25  condition_x0_Average    21597 non-null  float64\n",
      " 26  condition_x0_Fair       21597 non-null  float64\n",
      " 27  condition_x0_Good       21597 non-null  float64\n",
      " 28  condition_x0_Poor       21597 non-null  float64\n",
      " 29  condition_x0_Very Good  21597 non-null  float64\n",
      "dtypes: float64(20), int64(8), object(2)\n",
      "memory usage: 4.9+ MB\n"
     ]
    }
   ],
   "source": [
    "df_model.info()"
   ]
  },
  {
   "cell_type": "code",
   "execution_count": null,
   "metadata": {},
   "outputs": [],
   "source": []
  },
  {
   "cell_type": "code",
   "execution_count": null,
   "metadata": {},
   "outputs": [],
   "source": []
  },
  {
   "cell_type": "code",
   "execution_count": null,
   "metadata": {},
   "outputs": [],
   "source": []
  },
  {
   "cell_type": "code",
   "execution_count": null,
   "metadata": {},
   "outputs": [],
   "source": []
  },
  {
   "cell_type": "code",
   "execution_count": null,
   "metadata": {},
   "outputs": [],
   "source": []
  }
 ],
 "metadata": {
  "kernelspec": {
   "display_name": "Python (learn-env)",
   "language": "python",
   "name": "learn-env"
  },
  "language_info": {
   "codemirror_mode": {
    "name": "ipython",
    "version": 3
   },
   "file_extension": ".py",
   "mimetype": "text/x-python",
   "name": "python",
   "nbconvert_exporter": "python",
   "pygments_lexer": "ipython3",
   "version": "3.8.5"
  }
 },
 "nbformat": 4,
 "nbformat_minor": 4
}
