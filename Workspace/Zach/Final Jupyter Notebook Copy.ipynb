{
 "cells": [
  {
   "cell_type": "markdown",
   "metadata": {
    "toc": true
   },
   "source": [
    "<h1>Table of Contents<span class=\"tocSkip\"></span></h1>\n",
    "<div class=\"toc\"><ul class=\"toc-item\"><li><span><a href=\"#Phase-2-Project\" data-toc-modified-id=\"Phase-2-Project-0\">Phase 2 Project</a></span><ul class=\"toc-item\"><li><span><a href=\"#Business-Understanding\" data-toc-modified-id=\"Business-Understanding-0.1\">Business Understanding</a></span></li><li><span><a href=\"#Data-Understanding\" data-toc-modified-id=\"Data-Understanding-0.2\">Data Understanding</a></span><ul class=\"toc-item\"><li><span><a href=\"#Importing-Libraries\" data-toc-modified-id=\"Importing-Libraries-0.2.1\">Importing Libraries</a></span></li></ul></li><li><span><a href=\"#Data-Preparation\" data-toc-modified-id=\"Data-Preparation-0.3\">Data Preparation</a></span><ul class=\"toc-item\"><li><ul class=\"toc-item\"><li><span><a href=\"#Drops\" data-toc-modified-id=\"Drops-0.3.0.1\">Drops</a></span></li><li><span><a href=\"#Removing-Outliers\" data-toc-modified-id=\"Removing-Outliers-0.3.0.2\">Removing Outliers</a></span></li></ul></li><li><span><a href=\"#Helper-Functions\" data-toc-modified-id=\"Helper-Functions-0.3.1\">Helper Functions</a></span></li><li><span><a href=\"#The-Train-Test-Split\" data-toc-modified-id=\"The-Train-Test-Split-0.3.2\">The Train-Test Split</a></span></li><li><span><a href=\"#Categorical-Variables\" data-toc-modified-id=\"Categorical-Variables-0.3.3\">Categorical Variables</a></span><ul class=\"toc-item\"><li><span><a href=\"#Waterfront\" data-toc-modified-id=\"Waterfront-0.3.3.1\">Waterfront</a></span></li><li><span><a href=\"#View\" data-toc-modified-id=\"View-0.3.3.2\">View</a></span></li><li><span><a href=\"#Condition\" data-toc-modified-id=\"Condition-0.3.3.3\">Condition</a></span></li><li><span><a href=\"#Grade\" data-toc-modified-id=\"Grade-0.3.3.4\">Grade</a></span></li><li><span><a href=\"#Zipcode\" data-toc-modified-id=\"Zipcode-0.3.3.5\">Zipcode</a></span></li><li><span><a href=\"#Bedroom_bins\" data-toc-modified-id=\"Bedroom_bins-0.3.3.6\">Bedroom_bins</a></span></li></ul></li><li><span><a href=\"#Our-iterative-modeling-process\" data-toc-modified-id=\"Our-iterative-modeling-process-0.3.4\">Our iterative modeling process</a></span><ul class=\"toc-item\"><li><span><a href=\"#Base-Model---Dummy-Regressor\" data-toc-modified-id=\"Base-Model---Dummy-Regressor-0.3.4.1\">Base Model - Dummy Regressor</a></span></li><li><span><a href=\"#Model-1\" data-toc-modified-id=\"Model-1-0.3.4.2\">Model 1</a></span></li><li><span><a href=\"#Model-2\" data-toc-modified-id=\"Model-2-0.3.4.3\">Model 2</a></span></li><li><span><a href=\"#Model-3\" data-toc-modified-id=\"Model-3-0.3.4.4\">Model 3</a></span></li><li><span><a href=\"#Model-4\" data-toc-modified-id=\"Model-4-0.3.4.5\">Model 4</a></span></li><li><span><a href=\"#Model-5\" data-toc-modified-id=\"Model-5-0.3.4.6\">Model 5</a></span></li><li><span><a href=\"#Model-6\" data-toc-modified-id=\"Model-6-0.3.4.7\">Model 6</a></span></li><li><span><a href=\"#Model-7\" data-toc-modified-id=\"Model-7-0.3.4.8\">Model 7</a></span></li><li><span><a href=\"#Model-8\" data-toc-modified-id=\"Model-8-0.3.4.9\">Model 8</a></span></li></ul></li><li><span><a href=\"#Predictions-from-model-8\" data-toc-modified-id=\"Predictions-from-model-8-0.3.5\">Predictions from model 8</a></span></li></ul></li></ul></li></ul></div>"
   ]
  },
  {
   "cell_type": "markdown",
   "metadata": {},
   "source": [
    "# Phase 2 Project"
   ]
  },
  {
   "cell_type": "markdown",
   "metadata": {},
   "source": [
    "## Business Understanding"
   ]
  },
  {
   "cell_type": "markdown",
   "metadata": {},
   "source": [
    "Our chosen stakeholder is the real-estate agency Keller Williams, who's looking to expand into King County in Washington. They want an analytically supported strategy based on inferential and predictive analysis of the data available on the king county website. Our approach to formulating the business question was to first define our recommended strategy and formulate the business question around it. Accordingly, we formulated three questions that we wanted to answer using our data analysis and based our recommendations on those questions. "
   ]
  },
  {
   "cell_type": "markdown",
   "metadata": {},
   "source": [
    "## Data Understanding"
   ]
  },
  {
   "cell_type": "markdown",
   "metadata": {},
   "source": [
    "The data that we used originally came from the King County website. It contains a good mix of categorical and numerical data. We wanted to focus on variables that corresponded to features that determine that demand of the any given house. "
   ]
  },
  {
   "cell_type": "markdown",
   "metadata": {},
   "source": [
    "### Importing Libraries"
   ]
  },
  {
   "cell_type": "code",
   "execution_count": 1,
   "metadata": {
    "ExecuteTime": {
     "end_time": "2022-03-31T22:00:31.493365Z",
     "start_time": "2022-03-31T22:00:30.522416Z"
    }
   },
   "outputs": [],
   "source": [
    "import pandas as pd\n",
    "import numpy as np\n",
    "import seaborn as sns\n",
    "import warnings\n",
    "warnings.filterwarnings(action='ignore')\n",
    "import matplotlib.pyplot as plt\n",
    "#from yellowbrick.regressor import ResidualsPlot\n",
    "import statsmodels.api as sm\n",
    "from statsmodels.api import OLS\n",
    "\n",
    "#SKLearn stuff\n",
    "from sklearn.model_selection import train_test_split\n",
    "from sklearn.dummy import DummyRegressor\n",
    "from sklearn.pipeline import make_pipeline\n",
    "from sklearn.preprocessing import StandardScaler, PolynomialFeatures, OrdinalEncoder, OneHotEncoder\n",
    "from sklearn.compose import ColumnTransformer\n",
    "from sklearn.linear_model import LinearRegression\n",
    "from sklearn.metrics import r2_score, mean_squared_error, mean_absolute_error"
   ]
  },
  {
   "cell_type": "markdown",
   "metadata": {},
   "source": [
    "The libraries that we have imported are libraries that we used throughout this project, in data preparation and modeling sections."
   ]
  },
  {
   "cell_type": "code",
   "execution_count": 2,
   "metadata": {
    "ExecuteTime": {
     "end_time": "2022-03-31T22:00:31.546380Z",
     "start_time": "2022-03-31T22:00:31.494415Z"
    },
    "scrolled": false
   },
   "outputs": [
    {
     "data": {
      "text/html": [
       "<div>\n",
       "<style scoped>\n",
       "    .dataframe tbody tr th:only-of-type {\n",
       "        vertical-align: middle;\n",
       "    }\n",
       "\n",
       "    .dataframe tbody tr th {\n",
       "        vertical-align: top;\n",
       "    }\n",
       "\n",
       "    .dataframe thead th {\n",
       "        text-align: right;\n",
       "    }\n",
       "</style>\n",
       "<table border=\"1\" class=\"dataframe\">\n",
       "  <thead>\n",
       "    <tr style=\"text-align: right;\">\n",
       "      <th></th>\n",
       "      <th>id</th>\n",
       "      <th>date</th>\n",
       "      <th>price</th>\n",
       "      <th>bedrooms</th>\n",
       "      <th>bathrooms</th>\n",
       "      <th>sqft_living</th>\n",
       "      <th>sqft_lot</th>\n",
       "      <th>floors</th>\n",
       "      <th>waterfront</th>\n",
       "      <th>view</th>\n",
       "      <th>...</th>\n",
       "      <th>grade</th>\n",
       "      <th>sqft_above</th>\n",
       "      <th>sqft_basement</th>\n",
       "      <th>yr_built</th>\n",
       "      <th>yr_renovated</th>\n",
       "      <th>zipcode</th>\n",
       "      <th>lat</th>\n",
       "      <th>long</th>\n",
       "      <th>sqft_living15</th>\n",
       "      <th>sqft_lot15</th>\n",
       "    </tr>\n",
       "  </thead>\n",
       "  <tbody>\n",
       "    <tr>\n",
       "      <th>0</th>\n",
       "      <td>7129300520</td>\n",
       "      <td>10/13/2014</td>\n",
       "      <td>221900.0</td>\n",
       "      <td>3</td>\n",
       "      <td>1.00</td>\n",
       "      <td>1180</td>\n",
       "      <td>5650</td>\n",
       "      <td>1.0</td>\n",
       "      <td>NaN</td>\n",
       "      <td>NONE</td>\n",
       "      <td>...</td>\n",
       "      <td>7 Average</td>\n",
       "      <td>1180</td>\n",
       "      <td>0.0</td>\n",
       "      <td>1955</td>\n",
       "      <td>0.0</td>\n",
       "      <td>98178</td>\n",
       "      <td>47.5112</td>\n",
       "      <td>-122.257</td>\n",
       "      <td>1340</td>\n",
       "      <td>5650</td>\n",
       "    </tr>\n",
       "    <tr>\n",
       "      <th>1</th>\n",
       "      <td>6414100192</td>\n",
       "      <td>12/9/2014</td>\n",
       "      <td>538000.0</td>\n",
       "      <td>3</td>\n",
       "      <td>2.25</td>\n",
       "      <td>2570</td>\n",
       "      <td>7242</td>\n",
       "      <td>2.0</td>\n",
       "      <td>NO</td>\n",
       "      <td>NONE</td>\n",
       "      <td>...</td>\n",
       "      <td>7 Average</td>\n",
       "      <td>2170</td>\n",
       "      <td>400.0</td>\n",
       "      <td>1951</td>\n",
       "      <td>1991.0</td>\n",
       "      <td>98125</td>\n",
       "      <td>47.7210</td>\n",
       "      <td>-122.319</td>\n",
       "      <td>1690</td>\n",
       "      <td>7639</td>\n",
       "    </tr>\n",
       "    <tr>\n",
       "      <th>2</th>\n",
       "      <td>5631500400</td>\n",
       "      <td>2/25/2015</td>\n",
       "      <td>180000.0</td>\n",
       "      <td>2</td>\n",
       "      <td>1.00</td>\n",
       "      <td>770</td>\n",
       "      <td>10000</td>\n",
       "      <td>1.0</td>\n",
       "      <td>NO</td>\n",
       "      <td>NONE</td>\n",
       "      <td>...</td>\n",
       "      <td>6 Low Average</td>\n",
       "      <td>770</td>\n",
       "      <td>0.0</td>\n",
       "      <td>1933</td>\n",
       "      <td>NaN</td>\n",
       "      <td>98028</td>\n",
       "      <td>47.7379</td>\n",
       "      <td>-122.233</td>\n",
       "      <td>2720</td>\n",
       "      <td>8062</td>\n",
       "    </tr>\n",
       "    <tr>\n",
       "      <th>3</th>\n",
       "      <td>2487200875</td>\n",
       "      <td>12/9/2014</td>\n",
       "      <td>604000.0</td>\n",
       "      <td>4</td>\n",
       "      <td>3.00</td>\n",
       "      <td>1960</td>\n",
       "      <td>5000</td>\n",
       "      <td>1.0</td>\n",
       "      <td>NO</td>\n",
       "      <td>NONE</td>\n",
       "      <td>...</td>\n",
       "      <td>7 Average</td>\n",
       "      <td>1050</td>\n",
       "      <td>910.0</td>\n",
       "      <td>1965</td>\n",
       "      <td>0.0</td>\n",
       "      <td>98136</td>\n",
       "      <td>47.5208</td>\n",
       "      <td>-122.393</td>\n",
       "      <td>1360</td>\n",
       "      <td>5000</td>\n",
       "    </tr>\n",
       "    <tr>\n",
       "      <th>4</th>\n",
       "      <td>1954400510</td>\n",
       "      <td>2/18/2015</td>\n",
       "      <td>510000.0</td>\n",
       "      <td>3</td>\n",
       "      <td>2.00</td>\n",
       "      <td>1680</td>\n",
       "      <td>8080</td>\n",
       "      <td>1.0</td>\n",
       "      <td>NO</td>\n",
       "      <td>NONE</td>\n",
       "      <td>...</td>\n",
       "      <td>8 Good</td>\n",
       "      <td>1680</td>\n",
       "      <td>0.0</td>\n",
       "      <td>1987</td>\n",
       "      <td>0.0</td>\n",
       "      <td>98074</td>\n",
       "      <td>47.6168</td>\n",
       "      <td>-122.045</td>\n",
       "      <td>1800</td>\n",
       "      <td>7503</td>\n",
       "    </tr>\n",
       "  </tbody>\n",
       "</table>\n",
       "<p>5 rows × 21 columns</p>\n",
       "</div>"
      ],
      "text/plain": [
       "           id        date     price  bedrooms  bathrooms  sqft_living  \\\n",
       "0  7129300520  10/13/2014  221900.0         3       1.00         1180   \n",
       "1  6414100192   12/9/2014  538000.0         3       2.25         2570   \n",
       "2  5631500400   2/25/2015  180000.0         2       1.00          770   \n",
       "3  2487200875   12/9/2014  604000.0         4       3.00         1960   \n",
       "4  1954400510   2/18/2015  510000.0         3       2.00         1680   \n",
       "\n",
       "   sqft_lot  floors waterfront  view  ...          grade sqft_above  \\\n",
       "0      5650     1.0        NaN  NONE  ...      7 Average       1180   \n",
       "1      7242     2.0         NO  NONE  ...      7 Average       2170   \n",
       "2     10000     1.0         NO  NONE  ...  6 Low Average        770   \n",
       "3      5000     1.0         NO  NONE  ...      7 Average       1050   \n",
       "4      8080     1.0         NO  NONE  ...         8 Good       1680   \n",
       "\n",
       "   sqft_basement yr_built  yr_renovated  zipcode      lat     long  \\\n",
       "0            0.0     1955           0.0    98178  47.5112 -122.257   \n",
       "1          400.0     1951        1991.0    98125  47.7210 -122.319   \n",
       "2            0.0     1933           NaN    98028  47.7379 -122.233   \n",
       "3          910.0     1965           0.0    98136  47.5208 -122.393   \n",
       "4            0.0     1987           0.0    98074  47.6168 -122.045   \n",
       "\n",
       "   sqft_living15  sqft_lot15  \n",
       "0           1340        5650  \n",
       "1           1690        7639  \n",
       "2           2720        8062  \n",
       "3           1360        5000  \n",
       "4           1800        7503  \n",
       "\n",
       "[5 rows x 21 columns]"
      ]
     },
     "execution_count": 2,
     "metadata": {},
     "output_type": "execute_result"
    }
   ],
   "source": [
    "df = pd.read_csv('../../data/kc_house_data.csv')\n",
    "df.head()"
   ]
  },
  {
   "cell_type": "markdown",
   "metadata": {},
   "source": [
    "The table above illustrates the raw data set and how its formatted, while the table below lists all the columns in the data set and what data type the information in that column is. Furthermore, it also gives us an initial idea of the proportion of missing (null) values there are in each column. "
   ]
  },
  {
   "cell_type": "code",
   "execution_count": 3,
   "metadata": {
    "ExecuteTime": {
     "end_time": "2022-03-31T22:00:31.559267Z",
     "start_time": "2022-03-31T22:00:31.547704Z"
    },
    "scrolled": true
   },
   "outputs": [
    {
     "name": "stdout",
     "output_type": "stream",
     "text": [
      "<class 'pandas.core.frame.DataFrame'>\n",
      "RangeIndex: 21597 entries, 0 to 21596\n",
      "Data columns (total 21 columns):\n",
      " #   Column         Non-Null Count  Dtype  \n",
      "---  ------         --------------  -----  \n",
      " 0   id             21597 non-null  int64  \n",
      " 1   date           21597 non-null  object \n",
      " 2   price          21597 non-null  float64\n",
      " 3   bedrooms       21597 non-null  int64  \n",
      " 4   bathrooms      21597 non-null  float64\n",
      " 5   sqft_living    21597 non-null  int64  \n",
      " 6   sqft_lot       21597 non-null  int64  \n",
      " 7   floors         21597 non-null  float64\n",
      " 8   waterfront     19221 non-null  object \n",
      " 9   view           21534 non-null  object \n",
      " 10  condition      21597 non-null  object \n",
      " 11  grade          21597 non-null  object \n",
      " 12  sqft_above     21597 non-null  int64  \n",
      " 13  sqft_basement  21597 non-null  object \n",
      " 14  yr_built       21597 non-null  int64  \n",
      " 15  yr_renovated   17755 non-null  float64\n",
      " 16  zipcode        21597 non-null  int64  \n",
      " 17  lat            21597 non-null  float64\n",
      " 18  long           21597 non-null  float64\n",
      " 19  sqft_living15  21597 non-null  int64  \n",
      " 20  sqft_lot15     21597 non-null  int64  \n",
      "dtypes: float64(6), int64(9), object(6)\n",
      "memory usage: 3.5+ MB\n"
     ]
    }
   ],
   "source": [
    "df.info()"
   ]
  },
  {
   "cell_type": "markdown",
   "metadata": {},
   "source": [
    "## Data Preparation"
   ]
  },
  {
   "cell_type": "markdown",
   "metadata": {},
   "source": [
    "Our approach to data preparation was systematic. First we dropped columns that that didn't have enough data to incorporate into our model and we also removed some extraneous outliers"
   ]
  },
  {
   "cell_type": "markdown",
   "metadata": {},
   "source": [
    "#### Drops"
   ]
  },
  {
   "cell_type": "markdown",
   "metadata": {},
   "source": [
    "We dropped the variable 'yr_renovated' because it was missing values for about 70% of our dataset. Furthermore, we dropped the variables 'id' and 'date' because we felt that those variables will be less reliable predictors. We also dropped an outlier from our data set; a house with 33 bedrooms. We also created a bedrooms bin column to use ahead."
   ]
  },
  {
   "cell_type": "code",
   "execution_count": 4,
   "metadata": {
    "ExecuteTime": {
     "end_time": "2022-03-31T22:00:31.566320Z",
     "start_time": "2022-03-31T22:00:31.560448Z"
    },
    "scrolled": true
   },
   "outputs": [],
   "source": [
    "df = df[df['bedrooms'] != 33]"
   ]
  },
  {
   "cell_type": "code",
   "execution_count": 5,
   "metadata": {
    "ExecuteTime": {
     "end_time": "2022-03-31T22:00:31.572466Z",
     "start_time": "2022-03-31T22:00:31.567716Z"
    }
   },
   "outputs": [],
   "source": [
    "#Making a categorical bedroom columns\n",
    "df['bedrooms_bin']=pd.cut(df['bedrooms'], bins = [0,1,2,3,4,5,6,99], labels=['1BR','2BR','3BR','4BR','5BR','6BR','7+BR'])"
   ]
  },
  {
   "cell_type": "code",
   "execution_count": 6,
   "metadata": {
    "ExecuteTime": {
     "end_time": "2022-03-31T22:00:31.577187Z",
     "start_time": "2022-03-31T22:00:31.573394Z"
    }
   },
   "outputs": [],
   "source": [
    "df = df.drop(['id', 'date', 'yr_renovated','sqft_basement'], axis=1) "
   ]
  },
  {
   "cell_type": "markdown",
   "metadata": {},
   "source": [
    "#### Removing Outliers"
   ]
  },
  {
   "cell_type": "markdown",
   "metadata": {},
   "source": [
    "When looking at removing outliers from our data set, we first used the numpy library to calculate our quantiles to determine which rows are the outliers. Based on the values we calculated for two numerical variables : 'price' and 'sqft_lot', we removed the corresponding rows. Furthermore, for the categorical variable 'grade' we performed the value_counts method in pandas to determine the counts of houses for each grade. Since the grades '3 Poor' and '12 Luxury' only have one record each, we excluded those values from our final processing data set as well."
   ]
  },
  {
   "cell_type": "code",
   "execution_count": 7,
   "metadata": {
    "ExecuteTime": {
     "end_time": "2022-03-31T22:00:31.585435Z",
     "start_time": "2022-03-31T22:00:31.578242Z"
    }
   },
   "outputs": [],
   "source": [
    "price_q75, price_q25 = np.percentile(df['price'],[75,25])\n",
    "intr_qrt = price_q75-price_q25\n",
    "upper_price = price_q75 + (1.5*intr_qrt)\n",
    "lower_price = price_q25 - (1.5*intr_qrt)\n",
    "lower_price, upper_price\n",
    "df = df[df['price'] <= upper_price]\n",
    "df = df[df['price'] >= lower_price]"
   ]
  },
  {
   "cell_type": "code",
   "execution_count": 8,
   "metadata": {
    "ExecuteTime": {
     "end_time": "2022-03-31T22:00:31.592897Z",
     "start_time": "2022-03-31T22:00:31.587530Z"
    }
   },
   "outputs": [
    {
     "data": {
      "text/plain": [
       "count    2.043800e+04\n",
       "mean     1.458599e+04\n",
       "std      4.001076e+04\n",
       "min      5.200000e+02\n",
       "25%      5.000000e+03\n",
       "50%      7.500000e+03\n",
       "75%      1.031675e+04\n",
       "max      1.651359e+06\n",
       "Name: sqft_lot, dtype: float64"
      ]
     },
     "execution_count": 8,
     "metadata": {},
     "output_type": "execute_result"
    }
   ],
   "source": [
    "df['sqft_lot'].describe()"
   ]
  },
  {
   "cell_type": "code",
   "execution_count": 9,
   "metadata": {
    "ExecuteTime": {
     "end_time": "2022-03-31T22:00:31.600720Z",
     "start_time": "2022-03-31T22:00:31.594435Z"
    }
   },
   "outputs": [],
   "source": [
    "sqft_lot_q75, sqft_lot_q25 = np.percentile(df['sqft_lot'],[75,25])\n",
    "intr_qrt = sqft_lot_q75-sqft_lot_q25\n",
    "upper_sqft_lot = sqft_lot_q75 + (1.5*intr_qrt)\n",
    "lower_sqft_lot = sqft_lot_q25 - (1.5*intr_qrt)\n",
    "lower_sqft_lot, upper_sqft_lot\n",
    "df = df[df['sqft_lot'] <= upper_sqft_lot]\n",
    "df = df[df['sqft_lot'] >= lower_sqft_lot]"
   ]
  },
  {
   "cell_type": "code",
   "execution_count": 10,
   "metadata": {
    "ExecuteTime": {
     "end_time": "2022-03-31T22:00:31.606925Z",
     "start_time": "2022-03-31T22:00:31.601806Z"
    },
    "scrolled": true
   },
   "outputs": [
    {
     "data": {
      "text/plain": [
       "7 Average        8371\n",
       "8 Good           5297\n",
       "6 Low Average    1872\n",
       "9 Better         1866\n",
       "10 Very Good      513\n",
       "5 Fair            198\n",
       "11 Excellent       75\n",
       "4 Low              20\n",
       "12 Luxury           1\n",
       "3 Poor              1\n",
       "Name: grade, dtype: int64"
      ]
     },
     "execution_count": 10,
     "metadata": {},
     "output_type": "execute_result"
    }
   ],
   "source": [
    "df['grade'].value_counts()"
   ]
  },
  {
   "cell_type": "code",
   "execution_count": 11,
   "metadata": {
    "ExecuteTime": {
     "end_time": "2022-03-31T22:00:31.615208Z",
     "start_time": "2022-03-31T22:00:31.607997Z"
    }
   },
   "outputs": [],
   "source": [
    "df = df[df['grade'] != '3 Poor']\n",
    "df = df[df['grade'] != '12 Luxury']"
   ]
  },
  {
   "cell_type": "markdown",
   "metadata": {},
   "source": [
    "### Helper Functions"
   ]
  },
  {
   "cell_type": "markdown",
   "metadata": {},
   "source": [
    "These are a list of helper functions that we created to help us streamline our work flow and minimize repeating code "
   ]
  },
  {
   "cell_type": "code",
   "execution_count": 12,
   "metadata": {
    "ExecuteTime": {
     "end_time": "2022-03-31T22:00:31.620901Z",
     "start_time": "2022-03-31T22:00:31.616548Z"
    }
   },
   "outputs": [],
   "source": [
    "def ohe(df, df2, column):    \n",
    "    for col in column:\n",
    "        train = df[[col]]\n",
    "        ohe = OneHotEncoder(drop=\"first\", sparse=False, handle_unknown=\"error\")\n",
    "        ohe.fit(train)\n",
    "        encoded_train = ohe.transform(train)\n",
    "        col_names = [f\"{col}_{f}\" for f in ohe.get_feature_names()]\n",
    "        encoded_train = pd.DataFrame(encoded_train,\n",
    "                                     columns=col_names, index=df.index)\n",
    "        df = pd.concat([df, encoded_train], axis=1)\n",
    "        \n",
    "        test = df2[[col]]\n",
    "        encoded_test = ohe.transform(test)\n",
    "        col_names = [f\"{col}_{f}\" for f in ohe.get_feature_names()]\n",
    "        encoded_test = pd.DataFrame(encoded_test, \n",
    "                                    columns=col_names, index=df2.index)\n",
    "        df2 = pd.concat([df2, encoded_test], axis=1)\n",
    "    return df, df2, encoded_train.columns.tolist()"
   ]
  },
  {
   "cell_type": "markdown",
   "metadata": {},
   "source": [
    "The function above creates a pipeline to perform two different transformations to test or train? data for any given input variable: First it utilizes the OneHotEncoder to take our categorical variables and encode them into a form that we can use in linear regression. The function takes in a training df, 'df', a test df, 'df2', and a column name, ['column_name']. It returns the training df and the test df concatenated with the new encoded columns. It also returns a list of the new encoded column names.  Secondly, it runs linear regression on encoded values by using .fit()."
   ]
  },
  {
   "cell_type": "code",
   "execution_count": 13,
   "metadata": {
    "ExecuteTime": {
     "end_time": "2022-03-31T22:00:31.624710Z",
     "start_time": "2022-03-31T22:00:31.621896Z"
    }
   },
   "outputs": [],
   "source": [
    "def scale_n_score(x,y,x2,y2):        \n",
    "    scaler = StandardScaler()\n",
    "    scaler.fit(x)\n",
    "    X_train_scaled = scaler.transform(x)\n",
    "    X_test_scaled = scaler.transform(x2)\n",
    "\n",
    "    lr = LinearRegression()\n",
    "    lr.fit(X_train_scaled,y_train)\n",
    "\n",
    "    train_preds = lr.predict(X_train_scaled)\n",
    "    test_preds = lr.predict(X_test_scaled)\n",
    "\n",
    "    print('Training Score:',r2_score(y_train,train_preds))\n",
    "    print('Test Score:',r2_score(y_test,test_preds))\n",
    "    return X_train_scaled, X_test_scaled, train_preds, test_preds"
   ]
  },
  {
   "cell_type": "markdown",
   "metadata": {},
   "source": [
    "The function above performs two actions; first it runs Standard Scaler, which scales all the values, in the test data and training data respectively, so that the output of our models are depicted in comparable units. Secondly, it scores the scaled data to get the R^2 results, a metric used in determining the efficacy of our model. "
   ]
  },
  {
   "cell_type": "code",
   "execution_count": 14,
   "metadata": {
    "ExecuteTime": {
     "end_time": "2022-03-31T22:00:31.630549Z",
     "start_time": "2022-03-31T22:00:31.626766Z"
    }
   },
   "outputs": [],
   "source": [
    "def get_train_test_metrics(y_train,train_preds,\n",
    "               y_test,test_preds\n",
    "              ):\n",
    "    \"\"\"\n",
    "    Prints different training and testing metrics, namely R2, MAE, MSE, RMSE\n",
    "    \"\"\"\n",
    "    print(\"\\nTraining Metrics:\")\n",
    "    print(f\"R2: {r2_score(y_train, train_preds):.3f}\")\n",
    "    print(f\"Mean Absolute Error: {mean_absolute_error(y_train, train_preds):.3f}\")\n",
    "    print(f\"Mean Squared Error: {mean_squared_error(y_train, train_preds):.3f}\")\n",
    "    print(f\"Root Mean Squared Error: {mean_squared_error(y_train, train_preds, squared=False):.3f}\")\n",
    "    \n",
    "    print(\"\\nTesting Metrics:\")\n",
    "    print(f\"R2: {r2_score(y_test, test_preds):.3f}\")\n",
    "    print(f\"Mean Absolute Error: {mean_absolute_error(y_test, test_preds):.3f}\")\n",
    "    print(f\"Mean Squared Error: {mean_squared_error(y_test, test_preds):.3f}\")\n",
    "    print(f\"Root Mean Squared Error: {mean_squared_error(y_test, test_preds, squared=False):.3f}\")"
   ]
  },
  {
   "cell_type": "markdown",
   "metadata": {},
   "source": [
    "The function above uses the inputs of price and the predictions from our model to dtermine Mean Absolute Error (MAE), Mean Squared Error (MSE) and Root Mean Squared Error (RSME) for both the training and the testing data sets. Comparison of these values allow us to see how our model has performed. "
   ]
  },
  {
   "cell_type": "markdown",
   "metadata": {},
   "source": [
    "### The Train-Test Split"
   ]
  },
  {
   "cell_type": "markdown",
   "metadata": {},
   "source": [
    "We set price as a dependent/target variable and every other variable in our data set as the independent/predictor variables. Then we performed a train/test split on the data. This will allow us to see the true performance of our model because we will be fitting our linear regression to our training data and then applying it to our testing data. The purpose of this is to treat the testing data as unseen data (data that our model hasn't experienced yet) and by comparing the training metrics between these two-data sets we can gain a better understanding of the validity of each model we create in the iterative process. "
   ]
  },
  {
   "cell_type": "code",
   "execution_count": 15,
   "metadata": {
    "ExecuteTime": {
     "end_time": "2022-03-31T22:00:31.638157Z",
     "start_time": "2022-03-31T22:00:31.631564Z"
    }
   },
   "outputs": [],
   "source": [
    "y = df[\"price\"]\n",
    "X = df.drop(\"price\", axis=1)\n",
    "\n",
    "X_train, X_test, y_train, y_test = train_test_split(X, y, random_state=42, test_size=.25)"
   ]
  },
  {
   "cell_type": "markdown",
   "metadata": {},
   "source": [
    "### Categorical Variables"
   ]
  },
  {
   "cell_type": "markdown",
   "metadata": {},
   "source": [
    "The variables : 'bedroom_bin', 'view', 'zipcode', 'condition', and 'grade' are categorical variables. While the variables 'waterfront' is a binomial categorical variable. Each of these variables need to be converted into a format that can be modeled. \n"
   ]
  },
  {
   "cell_type": "markdown",
   "metadata": {},
   "source": [
    "#### Waterfront"
   ]
  },
  {
   "cell_type": "markdown",
   "metadata": {},
   "source": [
    "Since this variable is a binomial categorical variable, OridinalEncoder was used to change this variable into a numeric one. Values denoted with \"NAs\" were determined to be \"No\" so those values were replaced as such.  "
   ]
  },
  {
   "cell_type": "code",
   "execution_count": 16,
   "metadata": {
    "ExecuteTime": {
     "end_time": "2022-03-31T22:00:31.642703Z",
     "start_time": "2022-03-31T22:00:31.639269Z"
    }
   },
   "outputs": [],
   "source": [
    "X_train['waterfront'].fillna('NO', inplace=True)\n",
    "X_test['waterfront'].fillna('NO', inplace=True)"
   ]
  },
  {
   "cell_type": "code",
   "execution_count": 17,
   "metadata": {
    "ExecuteTime": {
     "end_time": "2022-03-31T22:00:31.650105Z",
     "start_time": "2022-03-31T22:00:31.643541Z"
    }
   },
   "outputs": [],
   "source": [
    "waterfront_train = X_train[['waterfront']]\n",
    "encoder_waterfront = OrdinalEncoder()\n",
    "encoder_waterfront.fit(waterfront_train)\n",
    "encoder_waterfront.categories_[0]\n",
    "waterfront_encoded_train = encoder_waterfront.transform(waterfront_train)\n",
    "waterfront_encoded_train = waterfront_encoded_train.flatten()\n",
    "X_train[\"waterfront\"] = waterfront_encoded_train"
   ]
  },
  {
   "cell_type": "code",
   "execution_count": 18,
   "metadata": {
    "ExecuteTime": {
     "end_time": "2022-03-31T22:00:31.655563Z",
     "start_time": "2022-03-31T22:00:31.651082Z"
    }
   },
   "outputs": [],
   "source": [
    "waterfront_test = X_test[['waterfront']]\n",
    "encoder_waterfront = OrdinalEncoder()\n",
    "encoder_waterfront.fit(waterfront_test)\n",
    "encoder_waterfront.categories_[0]\n",
    "waterfront_encoded_test = encoder_waterfront.transform(waterfront_test)\n",
    "waterfront_encoded_test = waterfront_encoded_test.flatten()\n",
    "X_test[\"waterfront\"] = waterfront_encoded_test"
   ]
  },
  {
   "cell_type": "markdown",
   "metadata": {},
   "source": [
    "#### View "
   ]
  },
  {
   "cell_type": "markdown",
   "metadata": {},
   "source": [
    "The variable 'view' has 5 categories; NONE, AVERAGE, GOOD, FAIR, and EXCELLENT. The helper function we created above was use to encode this variable into a numeric one. We also replaced the string values so we could use it for comparative analysis to make our modeling process more efficient"
   ]
  },
  {
   "cell_type": "code",
   "execution_count": 19,
   "metadata": {
    "ExecuteTime": {
     "end_time": "2022-03-31T22:00:31.659761Z",
     "start_time": "2022-03-31T22:00:31.656608Z"
    }
   },
   "outputs": [
    {
     "data": {
      "text/plain": [
       "45"
      ]
     },
     "execution_count": 19,
     "metadata": {},
     "output_type": "execute_result"
    }
   ],
   "source": [
    "X_train['view'].isna().sum()"
   ]
  },
  {
   "cell_type": "code",
   "execution_count": 20,
   "metadata": {
    "ExecuteTime": {
     "end_time": "2022-03-31T22:00:31.663716Z",
     "start_time": "2022-03-31T22:00:31.660757Z"
    }
   },
   "outputs": [],
   "source": [
    "X_train['view'].fillna(\"NONE\", inplace=True)\n",
    "X_test['view'].fillna(\"NONE\", inplace=True)"
   ]
  },
  {
   "cell_type": "markdown",
   "metadata": {},
   "source": [
    "\n",
    "\n",
    "Example\n",
    "\n",
    "X_train, X_test, encoded_column_name = ohe(X_train, X_test, ['view'])"
   ]
  },
  {
   "cell_type": "code",
   "execution_count": 21,
   "metadata": {
    "ExecuteTime": {
     "end_time": "2022-03-31T22:00:31.676844Z",
     "start_time": "2022-03-31T22:00:31.664667Z"
    }
   },
   "outputs": [],
   "source": [
    "X_train, X_test, encoded_view = ohe(X_train, X_test, ['view'])"
   ]
  },
  {
   "cell_type": "code",
   "execution_count": 22,
   "metadata": {
    "ExecuteTime": {
     "end_time": "2022-03-31T22:00:31.681587Z",
     "start_time": "2022-03-31T22:00:31.677772Z"
    }
   },
   "outputs": [],
   "source": [
    "# Change view rating to a numeric value for comparative purposes.\n",
    "X_train['view'] = X_train['view'].map({'EXCELLENT':5,\n",
    "                             'GOOD':4,\n",
    "                             'AVERAGE':3,\n",
    "                             'FAIR':2,\n",
    "                             'NONE':1})"
   ]
  },
  {
   "cell_type": "code",
   "execution_count": 23,
   "metadata": {
    "ExecuteTime": {
     "end_time": "2022-03-31T22:00:31.689389Z",
     "start_time": "2022-03-31T22:00:31.685907Z"
    }
   },
   "outputs": [],
   "source": [
    "X_test['view'] = X_test['view'].map({'EXCELLENT':5,\n",
    "                             'GOOD':4,\n",
    "                             'AVERAGE':3,\n",
    "                             'FAIR':2,\n",
    "                             'NONE':1})"
   ]
  },
  {
   "cell_type": "markdown",
   "metadata": {},
   "source": [
    "#### Condition "
   ]
  },
  {
   "cell_type": "markdown",
   "metadata": {
    "ExecuteTime": {
     "end_time": "2022-03-30T19:18:08.596489Z",
     "start_time": "2022-03-30T19:18:08.589154Z"
    }
   },
   "source": [
    "We again replaced the string values in this column and the utilized the ohe function to perform the same encoding as above."
   ]
  },
  {
   "cell_type": "code",
   "execution_count": 24,
   "metadata": {
    "ExecuteTime": {
     "end_time": "2022-03-31T22:00:31.703538Z",
     "start_time": "2022-03-31T22:00:31.692099Z"
    }
   },
   "outputs": [],
   "source": [
    "X_train, X_test, encoded_condition = ohe(X_train, X_test, ['condition'])"
   ]
  },
  {
   "cell_type": "code",
   "execution_count": 25,
   "metadata": {
    "ExecuteTime": {
     "end_time": "2022-03-31T22:00:31.708191Z",
     "start_time": "2022-03-31T22:00:31.704457Z"
    }
   },
   "outputs": [],
   "source": [
    "# Change condition rating to a numeric value for comparitive purposes.\n",
    "X_train['condition'] = X_train['condition'].map({'Very Good':5,\n",
    "                                       'Good':4,\n",
    "                                       'Average':3,\n",
    "                                       'Fair':2,\n",
    "                                       'Poor':1})"
   ]
  },
  {
   "cell_type": "code",
   "execution_count": 26,
   "metadata": {
    "ExecuteTime": {
     "end_time": "2022-03-31T22:00:31.713183Z",
     "start_time": "2022-03-31T22:00:31.709145Z"
    }
   },
   "outputs": [],
   "source": [
    "X_test['condition'] = X_test['condition'].map({'Very Good':5,\n",
    "                                       'Good':4,\n",
    "                                       'Average':3,\n",
    "                                       'Fair':2,\n",
    "                                       'Poor':1})"
   ]
  },
  {
   "cell_type": "markdown",
   "metadata": {},
   "source": [
    "Similarly, the ohe() function was used below to encode the remaining categorical variable"
   ]
  },
  {
   "cell_type": "markdown",
   "metadata": {},
   "source": [
    "#### Grade "
   ]
  },
  {
   "cell_type": "code",
   "execution_count": 27,
   "metadata": {
    "ExecuteTime": {
     "end_time": "2022-03-31T22:00:31.727870Z",
     "start_time": "2022-03-31T22:00:31.714064Z"
    }
   },
   "outputs": [],
   "source": [
    "X_train, X_test, encoded_grade = ohe(X_train, X_test, ['grade'])"
   ]
  },
  {
   "cell_type": "markdown",
   "metadata": {},
   "source": [
    "#### Zipcode "
   ]
  },
  {
   "cell_type": "code",
   "execution_count": 28,
   "metadata": {
    "ExecuteTime": {
     "end_time": "2022-03-31T22:00:31.748541Z",
     "start_time": "2022-03-31T22:00:31.728976Z"
    }
   },
   "outputs": [],
   "source": [
    "X_train, X_test, encoded_zipcode = ohe(X_train, X_test, ['zipcode'])"
   ]
  },
  {
   "cell_type": "markdown",
   "metadata": {},
   "source": [
    "#### Bedroom_bins"
   ]
  },
  {
   "cell_type": "code",
   "execution_count": 29,
   "metadata": {
    "ExecuteTime": {
     "end_time": "2022-03-31T22:00:31.770732Z",
     "start_time": "2022-03-31T22:00:31.749570Z"
    }
   },
   "outputs": [],
   "source": [
    "X_train, X_test, encoded_bedroom_bin = ohe(X_train, X_test, ['bedrooms_bin'])"
   ]
  },
  {
   "cell_type": "markdown",
   "metadata": {},
   "source": [
    "We treated the 'bedroom' variable as a categorical variable even though its a numeric variable because we found that in the raw data, bigger homes skewed our model. We found that by treating it as a categorical variable improved model performance and accounted for the lack of data in the higher range of bedrooms without any data loss. "
   ]
  },
  {
   "cell_type": "markdown",
   "metadata": {},
   "source": [
    "### Our iterative modeling process"
   ]
  },
  {
   "cell_type": "markdown",
   "metadata": {},
   "source": [
    "First, we created a dummy regressor to act as our baseline model, our scores "
   ]
  },
  {
   "cell_type": "markdown",
   "metadata": {},
   "source": [
    "#### Base Model - Dummy Regressor"
   ]
  },
  {
   "cell_type": "code",
   "execution_count": 30,
   "metadata": {
    "ExecuteTime": {
     "end_time": "2022-03-31T22:00:31.775249Z",
     "start_time": "2022-03-31T22:00:31.771628Z"
    }
   },
   "outputs": [
    {
     "data": {
      "text/plain": [
       "0.0"
      ]
     },
     "execution_count": 30,
     "metadata": {},
     "output_type": "execute_result"
    }
   ],
   "source": [
    "dummy = DummyRegressor() #mean strategy\n",
    "dummy.fit(X_train,y_train)\n",
    "dummy.score(X_train,y_train)"
   ]
  },
  {
   "cell_type": "code",
   "execution_count": 31,
   "metadata": {
    "ExecuteTime": {
     "end_time": "2022-03-31T22:00:31.779007Z",
     "start_time": "2022-03-31T22:00:31.776139Z"
    },
    "scrolled": true
   },
   "outputs": [
    {
     "data": {
      "text/plain": [
       "-0.0002287894919794642"
      ]
     },
     "execution_count": 31,
     "metadata": {},
     "output_type": "execute_result"
    }
   ],
   "source": [
    "dummy.score(X_test,y_test)"
   ]
  },
  {
   "cell_type": "markdown",
   "metadata": {},
   "source": [
    "#### Model 1"
   ]
  },
  {
   "cell_type": "code",
   "execution_count": 32,
   "metadata": {
    "ExecuteTime": {
     "end_time": "2022-03-31T22:00:31.790369Z",
     "start_time": "2022-03-31T22:00:31.779952Z"
    }
   },
   "outputs": [],
   "source": [
    "cols = ['sqft_living']\n",
    "y = y_train\n",
    "x = X_train.filter(cols, axis=1)\n",
    "\n",
    "y2 = y_test\n",
    "x2 = X_test.filter(cols, axis=1)"
   ]
  },
  {
   "cell_type": "code",
   "execution_count": 33,
   "metadata": {
    "ExecuteTime": {
     "end_time": "2022-03-31T22:00:31.800680Z",
     "start_time": "2022-03-31T22:00:31.791314Z"
    },
    "scrolled": true
   },
   "outputs": [
    {
     "name": "stdout",
     "output_type": "stream",
     "text": [
      "Training Score: 0.35205094281398364\n",
      "Test Score: 0.3790093814962543\n"
     ]
    }
   ],
   "source": [
    "X_train_scaled, X_test_scaled, train_preds, test_preds = scale_n_score(x,y,x2,y2)"
   ]
  },
  {
   "cell_type": "markdown",
   "metadata": {},
   "source": [
    "#### Model 2"
   ]
  },
  {
   "cell_type": "markdown",
   "metadata": {},
   "source": [
    "We first chose to use columns 'sqft_living', 'sqft_living15', 'bathrooms', and the columns created from encoding 'zipcode'."
   ]
  },
  {
   "cell_type": "code",
   "execution_count": 34,
   "metadata": {
    "ExecuteTime": {
     "end_time": "2022-03-31T22:00:31.810435Z",
     "start_time": "2022-03-31T22:00:31.802204Z"
    }
   },
   "outputs": [
    {
     "data": {
      "text/plain": [
       "price            1.000000\n",
       "sqft_living      0.598983\n",
       "sqft_living15    0.536502\n",
       "sqft_above       0.492556\n",
       "lat              0.450100\n",
       "bathrooms        0.429260\n",
       "bedrooms         0.292722\n",
       "floors           0.262999\n",
       "long             0.034681\n",
       "sqft_lot15       0.024641\n",
       "yr_built         0.024433\n",
       "sqft_lot         0.005248\n",
       "zipcode          0.003252\n",
       "Name: price, dtype: float64"
      ]
     },
     "execution_count": 34,
     "metadata": {},
     "output_type": "execute_result"
    }
   ],
   "source": [
    "df.corr()['price'].abs().sort_values(ascending=False)"
   ]
  },
  {
   "cell_type": "code",
   "execution_count": 35,
   "metadata": {
    "ExecuteTime": {
     "end_time": "2022-03-31T22:00:31.816735Z",
     "start_time": "2022-03-31T22:00:31.811894Z"
    }
   },
   "outputs": [],
   "source": [
    "cols = ['sqft_living', 'bathrooms', 'sqft_living15'] +  encoded_zipcode\n",
    "y = y_train\n",
    "x = X_train.filter(cols, axis=1)\n",
    "\n",
    "y2 = y_test\n",
    "x2 = X_test.filter(cols, axis=1)\n"
   ]
  },
  {
   "cell_type": "code",
   "execution_count": 36,
   "metadata": {
    "ExecuteTime": {
     "end_time": "2022-03-31T22:00:31.983771Z",
     "start_time": "2022-03-31T22:00:31.817991Z"
    },
    "scrolled": true
   },
   "outputs": [
    {
     "name": "stdout",
     "output_type": "stream",
     "text": [
      "Training Score: 0.7972171842793818\n",
      "Test Score: 0.8086365897018465\n"
     ]
    }
   ],
   "source": [
    "X_train_scaled, X_test_scaled, train_preds, test_preds = scale_n_score(x,y,x2,y2)"
   ]
  },
  {
   "cell_type": "code",
   "execution_count": 37,
   "metadata": {
    "ExecuteTime": {
     "end_time": "2022-03-31T22:00:31.990851Z",
     "start_time": "2022-03-31T22:00:31.985499Z"
    },
    "scrolled": true
   },
   "outputs": [
    {
     "name": "stdout",
     "output_type": "stream",
     "text": [
      "\n",
      "Training Metrics:\n",
      "R2: 0.797\n",
      "Mean Absolute Error: 67121.184\n",
      "Mean Squared Error: 8476942207.650\n",
      "Root Mean Squared Error: 92070.311\n",
      "\n",
      "Testing Metrics:\n",
      "R2: 0.809\n",
      "Mean Absolute Error: 65392.585\n",
      "Mean Squared Error: 7888959233.643\n",
      "Root Mean Squared Error: 88819.813\n"
     ]
    }
   ],
   "source": [
    "get_train_test_metrics(y_train, train_preds, y_test, test_preds)"
   ]
  },
  {
   "cell_type": "markdown",
   "metadata": {
    "ExecuteTime": {
     "end_time": "2022-03-31T21:50:31.872570Z",
     "start_time": "2022-03-31T21:50:31.865309Z"
    }
   },
   "source": [
    "##### Model 2b"
   ]
  },
  {
   "cell_type": "markdown",
   "metadata": {},
   "source": [
    "This model uses the columns 'sqft_living', 'bathrooms', 'sqft_living15', and 'zipcode'. "
   ]
  },
  {
   "cell_type": "code",
   "execution_count": 38,
   "metadata": {
    "ExecuteTime": {
     "end_time": "2022-03-31T22:00:31.994615Z",
     "start_time": "2022-03-31T22:00:31.991957Z"
    }
   },
   "outputs": [],
   "source": [
    "cols = ['sqft_living', 'bathrooms', 'sqft_living15', 'zipcode']\n",
    "y = y_train\n",
    "x = X_train.filter(cols, axis=1)\n",
    "\n",
    "y2 = y_test\n",
    "x2 = X_test.filter(cols, axis=1)"
   ]
  },
  {
   "cell_type": "code",
   "execution_count": 39,
   "metadata": {
    "ExecuteTime": {
     "end_time": "2022-03-31T22:00:32.011088Z",
     "start_time": "2022-03-31T22:00:31.996318Z"
    }
   },
   "outputs": [
    {
     "name": "stdout",
     "output_type": "stream",
     "text": [
      "Training Score: 0.3993413028686136\n",
      "Test Score: 0.4109408603232637\n"
     ]
    }
   ],
   "source": [
    "X_train_scaled, X_test_scaled, train_preds, test_preds = scale_n_score(x,y,x2,y2)"
   ]
  },
  {
   "cell_type": "code",
   "execution_count": 40,
   "metadata": {
    "ExecuteTime": {
     "end_time": "2022-03-31T22:00:32.017439Z",
     "start_time": "2022-03-31T22:00:32.012244Z"
    }
   },
   "outputs": [
    {
     "name": "stdout",
     "output_type": "stream",
     "text": [
      "\n",
      "Training Metrics:\n",
      "R2: 0.399\n",
      "Mean Absolute Error: 127074.905\n",
      "Mean Squared Error: 25109371541.226\n",
      "Root Mean Squared Error: 158459.369\n",
      "\n",
      "Testing Metrics:\n",
      "R2: 0.411\n",
      "Mean Absolute Error: 125592.315\n",
      "Mean Squared Error: 24283971172.305\n",
      "Root Mean Squared Error: 155833.152\n"
     ]
    }
   ],
   "source": [
    "get_train_test_metrics(y_train, train_preds, y_test, test_preds)"
   ]
  },
  {
   "cell_type": "markdown",
   "metadata": {},
   "source": [
    "Note the difference between entering the encoded columns for 'zipcode' and actually entering the column 'zipcode'. The encoding gives us a higher R2 value and gives us a lower Root Mean Squared Error."
   ]
  },
  {
   "cell_type": "markdown",
   "metadata": {
    "ExecuteTime": {
     "end_time": "2022-03-30T23:11:36.131306Z",
     "start_time": "2022-03-30T23:11:36.114302Z"
    }
   },
   "source": [
    "#### Model 3"
   ]
  },
  {
   "cell_type": "markdown",
   "metadata": {
    "ExecuteTime": {
     "end_time": "2022-03-30T23:11:49.401399Z",
     "start_time": "2022-03-30T23:11:49.397398Z"
    }
   },
   "source": [
    "Using columns  'sqft_living', 'bedrooms', 'sqft_living15', and the columns created from encoding 'zipcode'."
   ]
  },
  {
   "cell_type": "code",
   "execution_count": 41,
   "metadata": {
    "ExecuteTime": {
     "end_time": "2022-03-31T22:00:32.024086Z",
     "start_time": "2022-03-31T22:00:32.018450Z"
    }
   },
   "outputs": [],
   "source": [
    "cols = ['sqft_living', 'bedrooms', 'sqft_living15'] +  encoded_zipcode\n",
    "y = y_train\n",
    "x = X_train.filter(cols, axis=1)\n",
    "\n",
    "y2 = y_test\n",
    "x2 = X_test.filter(cols, axis=1)"
   ]
  },
  {
   "cell_type": "code",
   "execution_count": 42,
   "metadata": {
    "ExecuteTime": {
     "end_time": "2022-03-31T22:00:32.203661Z",
     "start_time": "2022-03-31T22:00:32.025330Z"
    }
   },
   "outputs": [
    {
     "name": "stdout",
     "output_type": "stream",
     "text": [
      "Training Score: 0.7978039612711763\n",
      "Test Score: 0.8092911549828725\n"
     ]
    }
   ],
   "source": [
    "X_train_scaled, X_test_scaled, train_preds, test_preds = scale_n_score(x,y,x2,y2)"
   ]
  },
  {
   "cell_type": "code",
   "execution_count": 43,
   "metadata": {
    "ExecuteTime": {
     "end_time": "2022-03-31T22:00:32.210449Z",
     "start_time": "2022-03-31T22:00:32.205275Z"
    },
    "scrolled": true
   },
   "outputs": [
    {
     "name": "stdout",
     "output_type": "stream",
     "text": [
      "\n",
      "Training Metrics:\n",
      "R2: 0.798\n",
      "Mean Absolute Error: 67040.807\n",
      "Mean Squared Error: 8452413133.869\n",
      "Root Mean Squared Error: 91937.006\n",
      "\n",
      "Testing Metrics:\n",
      "R2: 0.809\n",
      "Mean Absolute Error: 65267.174\n",
      "Mean Squared Error: 7861974770.888\n",
      "Root Mean Squared Error: 88667.778\n"
     ]
    }
   ],
   "source": [
    "get_train_test_metrics(y_train, train_preds, y_test, test_preds)"
   ]
  },
  {
   "cell_type": "markdown",
   "metadata": {},
   "source": [
    "#### Model 4"
   ]
  },
  {
   "cell_type": "markdown",
   "metadata": {},
   "source": [
    "Using columns 'sqft_living', 'bedrooms', and the columns created from encoding 'zipcode' and 'condition'."
   ]
  },
  {
   "cell_type": "code",
   "execution_count": 44,
   "metadata": {
    "ExecuteTime": {
     "end_time": "2022-03-31T22:00:32.216008Z",
     "start_time": "2022-03-31T22:00:32.211572Z"
    }
   },
   "outputs": [],
   "source": [
    "cols = ['sqft_living', 'bedrooms'] +  encoded_zipcode + encoded_condition\n",
    "y = y_train\n",
    "x = X_train.filter(cols, axis=1)\n",
    "\n",
    "y2 = y_test\n",
    "x2 = X_test.filter(cols, axis=1)"
   ]
  },
  {
   "cell_type": "code",
   "execution_count": 45,
   "metadata": {
    "ExecuteTime": {
     "end_time": "2022-03-31T22:00:32.447890Z",
     "start_time": "2022-03-31T22:00:32.217049Z"
    }
   },
   "outputs": [
    {
     "name": "stdout",
     "output_type": "stream",
     "text": [
      "Training Score: 0.7882553234618938\n",
      "Test Score: 0.8019139401688503\n"
     ]
    }
   ],
   "source": [
    "X_train_scaled, X_test_scaled, train_preds, test_preds = scale_n_score(x,y,x2,y2)"
   ]
  },
  {
   "cell_type": "code",
   "execution_count": 46,
   "metadata": {
    "ExecuteTime": {
     "end_time": "2022-03-31T22:00:32.454422Z",
     "start_time": "2022-03-31T22:00:32.449094Z"
    },
    "scrolled": true
   },
   "outputs": [
    {
     "name": "stdout",
     "output_type": "stream",
     "text": [
      "\n",
      "Training Metrics:\n",
      "R2: 0.788\n",
      "Mean Absolute Error: 68359.691\n",
      "Mean Squared Error: 8851575412.899\n",
      "Root Mean Squared Error: 94082.811\n",
      "\n",
      "Testing Metrics:\n",
      "R2: 0.802\n",
      "Mean Absolute Error: 65715.248\n",
      "Mean Squared Error: 8166100553.528\n",
      "Root Mean Squared Error: 90366.479\n"
     ]
    }
   ],
   "source": [
    "get_train_test_metrics(y_train, train_preds, y_test, test_preds)"
   ]
  },
  {
   "cell_type": "markdown",
   "metadata": {},
   "source": [
    "#### Model 5"
   ]
  },
  {
   "cell_type": "markdown",
   "metadata": {},
   "source": [
    "Using columns 'sqft_living', 'bedrooms', 'bathrooms', 'condition', 'view', and the columns created from encoding 'zipcode'. "
   ]
  },
  {
   "cell_type": "code",
   "execution_count": 47,
   "metadata": {
    "ExecuteTime": {
     "end_time": "2022-03-31T22:00:32.460329Z",
     "start_time": "2022-03-31T22:00:32.456093Z"
    }
   },
   "outputs": [],
   "source": [
    "cols = ['sqft_living', 'bedrooms', 'bathrooms', 'condition', 'view'] +  encoded_zipcode\n",
    "y = y_train\n",
    "x = X_train.filter(cols, axis=1)\n",
    "\n",
    "y2 = y_test\n",
    "x2 = X_test.filter(cols, axis=1)"
   ]
  },
  {
   "cell_type": "code",
   "execution_count": 48,
   "metadata": {
    "ExecuteTime": {
     "end_time": "2022-03-31T22:00:32.666515Z",
     "start_time": "2022-03-31T22:00:32.461612Z"
    }
   },
   "outputs": [
    {
     "name": "stdout",
     "output_type": "stream",
     "text": [
      "Training Score: 0.8040314404358433\n",
      "Test Score: 0.8109625646254899\n"
     ]
    }
   ],
   "source": [
    "X_train_scaled, X_test_scaled, train_preds, test_preds = scale_n_score(x,y,x2,y2)"
   ]
  },
  {
   "cell_type": "code",
   "execution_count": 49,
   "metadata": {
    "ExecuteTime": {
     "end_time": "2022-03-31T22:00:32.673053Z",
     "start_time": "2022-03-31T22:00:32.667666Z"
    },
    "scrolled": true
   },
   "outputs": [
    {
     "name": "stdout",
     "output_type": "stream",
     "text": [
      "\n",
      "Training Metrics:\n",
      "R2: 0.804\n",
      "Mean Absolute Error: 66343.096\n",
      "Mean Squared Error: 8192085448.850\n",
      "Root Mean Squared Error: 90510.140\n",
      "\n",
      "Testing Metrics:\n",
      "R2: 0.811\n",
      "Mean Absolute Error: 64588.874\n",
      "Mean Squared Error: 7793070885.277\n",
      "Root Mean Squared Error: 88278.372\n"
     ]
    }
   ],
   "source": [
    "get_train_test_metrics(y_train, train_preds, y_test, test_preds)"
   ]
  },
  {
   "cell_type": "markdown",
   "metadata": {},
   "source": [
    "##### model 5"
   ]
  },
  {
   "cell_type": "markdown",
   "metadata": {},
   "source": [
    "Compared to encoded view and condition."
   ]
  },
  {
   "cell_type": "code",
   "execution_count": 50,
   "metadata": {
    "ExecuteTime": {
     "end_time": "2022-03-31T22:00:32.678650Z",
     "start_time": "2022-03-31T22:00:32.674175Z"
    }
   },
   "outputs": [],
   "source": [
    "cols = ['sqft_living', 'bedrooms', 'bathrooms'] + encoded_condition + encoded_view + encoded_zipcode\n",
    "y = y_train\n",
    "x = X_train.filter(cols, axis=1)\n",
    "\n",
    "y2 = y_test\n",
    "x2 = X_test.filter(cols, axis=1)"
   ]
  },
  {
   "cell_type": "code",
   "execution_count": 51,
   "metadata": {
    "ExecuteTime": {
     "end_time": "2022-03-31T22:00:32.893938Z",
     "start_time": "2022-03-31T22:00:32.679703Z"
    }
   },
   "outputs": [
    {
     "name": "stdout",
     "output_type": "stream",
     "text": [
      "Training Score: 0.805568987175532\n",
      "Test Score: 0.8120851832885827\n"
     ]
    }
   ],
   "source": [
    "X_train_scaled, X_test_scaled, train_preds, test_preds = scale_n_score(x,y,x2,y2)"
   ]
  },
  {
   "cell_type": "code",
   "execution_count": 52,
   "metadata": {
    "ExecuteTime": {
     "end_time": "2022-03-31T22:00:32.900382Z",
     "start_time": "2022-03-31T22:00:32.895086Z"
    }
   },
   "outputs": [
    {
     "name": "stdout",
     "output_type": "stream",
     "text": [
      "\n",
      "Training Metrics:\n",
      "R2: 0.806\n",
      "Mean Absolute Error: 66092.946\n",
      "Mean Squared Error: 8127811290.275\n",
      "Root Mean Squared Error: 90154.375\n",
      "\n",
      "Testing Metrics:\n",
      "R2: 0.812\n",
      "Mean Absolute Error: 64326.380\n",
      "Mean Squared Error: 7746790915.380\n",
      "Root Mean Squared Error: 88015.856\n"
     ]
    }
   ],
   "source": [
    "get_train_test_metrics(y_train, train_preds, y_test, test_preds)"
   ]
  },
  {
   "cell_type": "markdown",
   "metadata": {},
   "source": [
    "#### Model 6"
   ]
  },
  {
   "cell_type": "markdown",
   "metadata": {},
   "source": [
    "Using columns 'sqft_living', 'bedrooms', 'bathrooms', 'yr_built' and the columns created from encoding 'condition', 'view', and 'zipcode'. "
   ]
  },
  {
   "cell_type": "code",
   "execution_count": 53,
   "metadata": {
    "ExecuteTime": {
     "end_time": "2022-03-31T22:00:32.906359Z",
     "start_time": "2022-03-31T22:00:32.901874Z"
    }
   },
   "outputs": [],
   "source": [
    "cols = ['sqft_living', 'bedrooms', 'bathrooms', 'yr_built'] + encoded_condition + encoded_view + encoded_zipcode\n",
    "y = y_train\n",
    "x = X_train.filter(cols, axis=1)\n",
    "\n",
    "y2 = y_test\n",
    "x2 = X_test.filter(cols, axis=1)"
   ]
  },
  {
   "cell_type": "code",
   "execution_count": 54,
   "metadata": {
    "ExecuteTime": {
     "end_time": "2022-03-31T22:00:33.104958Z",
     "start_time": "2022-03-31T22:00:32.907585Z"
    }
   },
   "outputs": [
    {
     "name": "stdout",
     "output_type": "stream",
     "text": [
      "Training Score: 0.805909058601276\n",
      "Test Score: 0.8118721210013764\n"
     ]
    }
   ],
   "source": [
    "X_train_scaled, X_test_scaled, train_preds, test_preds = scale_n_score(x,y,x2,y2)"
   ]
  },
  {
   "cell_type": "code",
   "execution_count": 55,
   "metadata": {
    "ExecuteTime": {
     "end_time": "2022-03-31T22:00:33.111842Z",
     "start_time": "2022-03-31T22:00:33.106117Z"
    }
   },
   "outputs": [
    {
     "name": "stdout",
     "output_type": "stream",
     "text": [
      "\n",
      "Training Metrics:\n",
      "R2: 0.806\n",
      "Mean Absolute Error: 66048.354\n",
      "Mean Squared Error: 8113595264.069\n",
      "Root Mean Squared Error: 90075.498\n",
      "\n",
      "Testing Metrics:\n",
      "R2: 0.812\n",
      "Mean Absolute Error: 64411.926\n",
      "Mean Squared Error: 7755574411.114\n",
      "Root Mean Squared Error: 88065.739\n"
     ]
    }
   ],
   "source": [
    "get_train_test_metrics(y_train, train_preds, y_test, test_preds)"
   ]
  },
  {
   "cell_type": "markdown",
   "metadata": {
    "ExecuteTime": {
     "end_time": "2022-03-31T21:23:57.857387Z",
     "start_time": "2022-03-31T21:23:57.046617Z"
    },
    "scrolled": false
   },
   "source": [
    "lr = LinearRegression()\n",
    "visualizer = ResidualsPlot(lr)\n",
    "\n",
    "visualizer.fit(X_train_scaled, y_train)  # Fit the training data to the visualizer\n",
    "visualizer.score(X_test_scaled, y_test)  # Evaluate the model on the test data\n",
    "visualizer.show()  \n",
    "plt.show()"
   ]
  },
  {
   "cell_type": "code",
   "execution_count": 56,
   "metadata": {
    "ExecuteTime": {
     "end_time": "2022-03-31T22:00:33.208598Z",
     "start_time": "2022-03-31T22:00:33.113022Z"
    }
   },
   "outputs": [
    {
     "data": {
      "image/png": "[encoded data removed]",
      "text/plain": [
       "<Figure size 432x288 with 1 Axes>"
      ]
     },
     "metadata": {
      "needs_background": "light"
     },
     "output_type": "display_data"
    }
   ],
   "source": [
    "train_residuals = y_train - train_preds\n",
    "test_residuals = y_test - test_preds\n",
    "sm.qqplot(train_residuals, line = 'r');"
   ]
  },
  {
   "cell_type": "markdown",
   "metadata": {},
   "source": [
    "##### Model 6b"
   ]
  },
  {
   "cell_type": "markdown",
   "metadata": {},
   "source": [
    "Using columns 'sqft_living', 'bathrooms', 'yr_built' and the columns created from encoding 'bedroom_bin', 'condition', 'view', and 'zipcode'."
   ]
  },
  {
   "cell_type": "code",
   "execution_count": 57,
   "metadata": {
    "ExecuteTime": {
     "end_time": "2022-03-31T22:00:33.214832Z",
     "start_time": "2022-03-31T22:00:33.210013Z"
    }
   },
   "outputs": [],
   "source": [
    "cols = ['sqft_living', 'bathrooms', 'yr_built'] + encoded_bedroom_bin + encoded_condition + encoded_view + encoded_zipcode\n",
    "y = y_train\n",
    "x = X_train.filter(cols, axis=1)\n",
    "\n",
    "y2 = y_test\n",
    "x2 = X_test.filter(cols, axis=1)"
   ]
  },
  {
   "cell_type": "code",
   "execution_count": 58,
   "metadata": {
    "ExecuteTime": {
     "end_time": "2022-03-31T22:00:33.422192Z",
     "start_time": "2022-03-31T22:00:33.216112Z"
    }
   },
   "outputs": [
    {
     "name": "stdout",
     "output_type": "stream",
     "text": [
      "Training Score: 0.8078044199599432\n",
      "Test Score: 0.8143669163699321\n"
     ]
    }
   ],
   "source": [
    "X_train_scaled, X_test_scaled, train_preds, test_preds = scale_n_score(x,y,x2,y2)"
   ]
  },
  {
   "cell_type": "code",
   "execution_count": 59,
   "metadata": {
    "ExecuteTime": {
     "end_time": "2022-03-31T22:00:33.428786Z",
     "start_time": "2022-03-31T22:00:33.423458Z"
    }
   },
   "outputs": [
    {
     "name": "stdout",
     "output_type": "stream",
     "text": [
      "\n",
      "Training Metrics:\n",
      "R2: 0.808\n",
      "Mean Absolute Error: 65731.199\n",
      "Mean Squared Error: 8034363359.516\n",
      "Root Mean Squared Error: 89634.610\n",
      "\n",
      "Testing Metrics:\n",
      "R2: 0.814\n",
      "Mean Absolute Error: 63962.932\n",
      "Mean Squared Error: 7652726437.574\n",
      "Root Mean Squared Error: 87479.863\n"
     ]
    }
   ],
   "source": [
    "get_train_test_metrics(y_train, train_preds, y_test, test_preds)"
   ]
  },
  {
   "cell_type": "markdown",
   "metadata": {},
   "source": [
    "#### Model 7"
   ]
  },
  {
   "cell_type": "markdown",
   "metadata": {},
   "source": [
    "Using columns 'sqft_living', 'bedrooms', 'bathrooms', 'yr_built' and the columns created from encoding 'condition', 'view', and 'zipcode'. "
   ]
  },
  {
   "cell_type": "code",
   "execution_count": 60,
   "metadata": {
    "ExecuteTime": {
     "end_time": "2022-03-31T22:00:33.433885Z",
     "start_time": "2022-03-31T22:00:33.429786Z"
    }
   },
   "outputs": [],
   "source": [
    "cols = ['sqft_living', 'sqft_living15', 'bedrooms', 'bathrooms', 'yr_built'] + encoded_condition + encoded_view + encoded_zipcode\n",
    "y = y_train\n",
    "x = X_train.filter(cols, axis=1)\n",
    "\n",
    "y2 = y_test\n",
    "x2 = X_test.filter(cols, axis=1)"
   ]
  },
  {
   "cell_type": "code",
   "execution_count": 61,
   "metadata": {
    "ExecuteTime": {
     "end_time": "2022-03-31T22:00:33.634496Z",
     "start_time": "2022-03-31T22:00:33.435280Z"
    }
   },
   "outputs": [
    {
     "name": "stdout",
     "output_type": "stream",
     "text": [
      "Training Score: 0.8162984121309026\n",
      "Test Score: 0.8209083160697839\n"
     ]
    }
   ],
   "source": [
    "X_train_scaled, X_test_scaled, train_preds, test_preds = scale_n_score(x,y,x2,y2)"
   ]
  },
  {
   "cell_type": "code",
   "execution_count": 62,
   "metadata": {
    "ExecuteTime": {
     "end_time": "2022-03-31T22:00:33.641107Z",
     "start_time": "2022-03-31T22:00:33.635751Z"
    }
   },
   "outputs": [
    {
     "name": "stdout",
     "output_type": "stream",
     "text": [
      "\n",
      "Training Metrics:\n",
      "R2: 0.816\n",
      "Mean Absolute Error: 64187.454\n",
      "Mean Squared Error: 7679288495.359\n",
      "Root Mean Squared Error: 87631.550\n",
      "\n",
      "Testing Metrics:\n",
      "R2: 0.821\n",
      "Mean Absolute Error: 63030.485\n",
      "Mean Squared Error: 7383057144.564\n",
      "Root Mean Squared Error: 85924.718\n"
     ]
    }
   ],
   "source": [
    "get_train_test_metrics(y_train, train_preds, y_test, test_preds)"
   ]
  },
  {
   "cell_type": "markdown",
   "metadata": {},
   "source": [
    "I want to take a look at the interaction between sqft_living and sqft_living15."
   ]
  },
  {
   "cell_type": "markdown",
   "metadata": {
    "ExecuteTime": {
     "end_time": "2022-03-31T21:23:58.959566Z",
     "start_time": "2022-03-31T21:23:58.364029Z"
    }
   },
   "source": [
    "lr = LinearRegression()\n",
    "visualizer = ResidualsPlot(lr)\n",
    "\n",
    "visualizer.fit(X_train_scaled, y_train)  # Fit the training data to the visualizer\n",
    "visualizer.score(X_test_scaled, y_test)  # Evaluate the model on the test data\n",
    "visualizer.show()  \n",
    "plt.show()"
   ]
  },
  {
   "cell_type": "code",
   "execution_count": 63,
   "metadata": {
    "ExecuteTime": {
     "end_time": "2022-03-31T22:00:33.724631Z",
     "start_time": "2022-03-31T22:00:33.642160Z"
    }
   },
   "outputs": [
    {
     "data": {
      "image/png": "[encoded data removed]",
      "text/plain": [
       "<Figure size 432x288 with 1 Axes>"
      ]
     },
     "metadata": {
      "needs_background": "light"
     },
     "output_type": "display_data"
    }
   ],
   "source": [
    "train_residuals = y_train - train_preds\n",
    "test_residuals = y_test - test_preds\n",
    "sm.qqplot(train_residuals, line = 'r');"
   ]
  },
  {
   "cell_type": "markdown",
   "metadata": {},
   "source": [
    "##### Model 7b"
   ]
  },
  {
   "cell_type": "markdown",
   "metadata": {},
   "source": [
    "Using columns 'sqft_living', 'bedrooms', 'bathrooms', 'yr_built' and the columns created from encoding 'bedroom_bin', 'condition', 'view', and 'zipcode'."
   ]
  },
  {
   "cell_type": "code",
   "execution_count": 64,
   "metadata": {
    "ExecuteTime": {
     "end_time": "2022-03-31T22:00:33.730248Z",
     "start_time": "2022-03-31T22:00:33.725924Z"
    }
   },
   "outputs": [],
   "source": [
    "cols = ['sqft_living', 'sqft_living15', 'bathrooms', 'yr_built'] + encoded_bedroom_bin + encoded_condition + encoded_view + encoded_zipcode\n",
    "y = y_train\n",
    "x = X_train.filter(cols, axis=1)\n",
    "\n",
    "y2 = y_test\n",
    "x2 = X_test.filter(cols, axis=1)"
   ]
  },
  {
   "cell_type": "code",
   "execution_count": 65,
   "metadata": {
    "ExecuteTime": {
     "end_time": "2022-03-31T22:00:33.944084Z",
     "start_time": "2022-03-31T22:00:33.731580Z"
    }
   },
   "outputs": [
    {
     "name": "stdout",
     "output_type": "stream",
     "text": [
      "Training Score: 0.8177610258953996\n",
      "Test Score: 0.822780574427596\n"
     ]
    }
   ],
   "source": [
    "X_train_scaled, X_test_scaled, train_preds, test_preds = scale_n_score(x,y,x2,y2)"
   ]
  },
  {
   "cell_type": "code",
   "execution_count": 66,
   "metadata": {
    "ExecuteTime": {
     "end_time": "2022-03-31T22:00:33.950856Z",
     "start_time": "2022-03-31T22:00:33.945302Z"
    },
    "scrolled": true
   },
   "outputs": [
    {
     "name": "stdout",
     "output_type": "stream",
     "text": [
      "\n",
      "Training Metrics:\n",
      "R2: 0.818\n",
      "Mean Absolute Error: 63854.277\n",
      "Mean Squared Error: 7618146764.440\n",
      "Root Mean Squared Error: 87281.996\n",
      "\n",
      "Testing Metrics:\n",
      "R2: 0.823\n",
      "Mean Absolute Error: 62643.044\n",
      "Mean Squared Error: 7305873267.894\n",
      "Root Mean Squared Error: 85474.401\n"
     ]
    }
   ],
   "source": [
    "get_train_test_metrics(y_train, train_preds, y_test, test_preds)"
   ]
  },
  {
   "cell_type": "markdown",
   "metadata": {
    "ExecuteTime": {
     "end_time": "2022-03-31T21:23:59.875187Z",
     "start_time": "2022-03-31T21:23:59.259184Z"
    }
   },
   "source": [
    "lr = LinearRegression()\n",
    "visualizer = ResidualsPlot(lr)\n",
    "\n",
    "visualizer.fit(X_train_scaled, y_train)  # Fit the training data to the visualizer\n",
    "visualizer.score(X_test_scaled, y_test)  # Evaluate the model on the test data\n",
    "visualizer.show()  \n",
    "plt.show()\n"
   ]
  },
  {
   "cell_type": "code",
   "execution_count": 67,
   "metadata": {
    "ExecuteTime": {
     "end_time": "2022-03-31T22:00:34.036850Z",
     "start_time": "2022-03-31T22:00:33.951859Z"
    }
   },
   "outputs": [
    {
     "data": {
      "image/png": "[encoded data removed]",
      "text/plain": [
       "<Figure size 432x288 with 1 Axes>"
      ]
     },
     "metadata": {
      "needs_background": "light"
     },
     "output_type": "display_data"
    }
   ],
   "source": [
    "train_residuals = y_train - train_preds\n",
    "test_residuals = y_test - test_preds\n",
    "sm.qqplot(train_residuals, line = 'r');"
   ]
  },
  {
   "cell_type": "code",
   "execution_count": 68,
   "metadata": {
    "ExecuteTime": {
     "end_time": "2022-03-31T22:00:34.121392Z",
     "start_time": "2022-03-31T22:00:34.046961Z"
    }
   },
   "outputs": [],
   "source": [
    "X_potentials = pd.DataFrame(columns = X_train.columns)\n",
    "for num in range(0,1):\n",
    "    X_potentials = X_potentials.append(\n",
    "    pd.Series(0, index=X_potentials.columns), \n",
    "    ignore_index=True)\n",
    "X_potentials['sqft_living'].replace(0,df['sqft_living'].median(),inplace=True)\n",
    "X_potentials['sqft_living15'].replace(0,df['sqft_living15'].median(),inplace=True)\n",
    "X_potentials['bathrooms'].replace(0,df.bathrooms.value_counts().index[0],inplace=True)\n",
    "X_potentials['yr_built'].replace(0,df.yr_built.value_counts().index[0],inplace=True)\n",
    "\n",
    "X_potentials['bedrooms_bin_x0_3BR'].replace(0,1,inplace=True)\n",
    "\n",
    "#condition not needed. By default average\n",
    "\n",
    "X_potentials['zipcode_x0_98103'].replace(0,1,inplace=True)\n",
    "\n",
    "\n",
    "X_potentials2 = X_potentials\n",
    "lr = LinearRegression()\n",
    "lr.fit(X_train[cols], y_train)\n",
    "lr.predict(X_potentials[cols])"
   ]
  },
  {
   "cell_type": "code",
   "execution_count": 69,
   "metadata": {
    "ExecuteTime": {
     "end_time": "2022-03-31T22:00:34.328143Z",
     "start_time": "2022-03-31T22:00:34.124613Z"
    }
   },
   "outputs": [
    {
     "data": {
      "text/plain": [
       "array([653306.17605558])"
      ]
     },
     "execution_count": 69,
     "metadata": {},
     "output_type": "execute_result"
    }
   ],
   "source": [
    "lr = LinearRegression()\n",
    "lr.fit(X_train[cols], y_train)\n",
    "lr.predict(X_potentials[cols])"
   ]
  },
  {
   "cell_type": "markdown",
   "metadata": {},
   "source": [
    "#### Model 8"
   ]
  },
  {
   "cell_type": "markdown",
   "metadata": {},
   "source": [
    "Using columns 'sqft_living', 'bedrooms', 'bathrooms', 'yr_built', 'waterfront' and the columns created from encoding 'bedroom_bin', 'condition', 'view', and 'zipcode'."
   ]
  },
  {
   "cell_type": "code",
   "execution_count": 70,
   "metadata": {
    "ExecuteTime": {
     "end_time": "2022-03-31T22:00:34.331271Z",
     "start_time": "2022-03-31T22:00:34.329287Z"
    }
   },
   "outputs": [],
   "source": [
    "# + encoded_view  , 'waterfront'"
   ]
  },
  {
   "cell_type": "code",
   "execution_count": 71,
   "metadata": {
    "ExecuteTime": {
     "end_time": "2022-03-31T22:00:34.338103Z",
     "start_time": "2022-03-31T22:00:34.332914Z"
    }
   },
   "outputs": [],
   "source": [
    "cols = ['sqft_living', 'sqft_living15','bathrooms', 'yr_built'] + encoded_bedroom_bin + encoded_condition+ encoded_zipcode\n",
    "y = y_train\n",
    "x = X_train.filter(cols, axis=1)\n",
    "\n",
    "y2 = y_test\n",
    "x2 = X_test.filter(cols, axis=1)"
   ]
  },
  {
   "cell_type": "code",
   "execution_count": 72,
   "metadata": {
    "ExecuteTime": {
     "end_time": "2022-03-31T22:00:34.526147Z",
     "start_time": "2022-03-31T22:00:34.339749Z"
    }
   },
   "outputs": [
    {
     "name": "stdout",
     "output_type": "stream",
     "text": [
      "Training Score: 0.8059316098893734\n",
      "Test Score: 0.8154899893298355\n"
     ]
    }
   ],
   "source": [
    "X_train_scaled, X_test_scaled, train_preds, test_preds = scale_n_score(x,y,x2,y2)"
   ]
  },
  {
   "cell_type": "code",
   "execution_count": 73,
   "metadata": {
    "ExecuteTime": {
     "end_time": "2022-03-31T22:00:34.532582Z",
     "start_time": "2022-03-31T22:00:34.527633Z"
    }
   },
   "outputs": [
    {
     "name": "stdout",
     "output_type": "stream",
     "text": [
      "\n",
      "Training Metrics:\n",
      "R2: 0.806\n",
      "Mean Absolute Error: 65539.136\n",
      "Mean Squared Error: 8112652551.220\n",
      "Root Mean Squared Error: 90070.265\n",
      "\n",
      "Testing Metrics:\n",
      "R2: 0.815\n",
      "Mean Absolute Error: 64036.232\n",
      "Mean Squared Error: 7606427739.284\n",
      "Root Mean Squared Error: 87214.837\n"
     ]
    }
   ],
   "source": [
    "get_train_test_metrics(y_train, train_preds, y_test, test_preds)"
   ]
  },
  {
   "cell_type": "markdown",
   "metadata": {
    "ExecuteTime": {
     "end_time": "2022-03-31T21:24:00.826684Z",
     "start_time": "2022-03-31T21:24:00.179357Z"
    },
    "scrolled": false
   },
   "source": [
    "lr = LinearRegression()\n",
    "visualizer = ResidualsPlot(lr)\n",
    "\n",
    "visualizer.fit(X_train_scaled, y_train)  # Fit the training data to the visualizer\n",
    "visualizer.score(X_test_scaled, y_test)  # Evaluate the model on the test data\n",
    "visualizer.show()  \n",
    "plt.show()"
   ]
  },
  {
   "cell_type": "code",
   "execution_count": 74,
   "metadata": {
    "ExecuteTime": {
     "end_time": "2022-03-31T22:00:34.621196Z",
     "start_time": "2022-03-31T22:00:34.533984Z"
    }
   },
   "outputs": [
    {
     "data": {
      "image/png": "[encoded data removed]",
      "text/plain": [
       "<Figure size 432x288 with 1 Axes>"
      ]
     },
     "metadata": {
      "needs_background": "light"
     },
     "output_type": "display_data"
    }
   ],
   "source": [
    "train_residuals = y_train - train_preds\n",
    "test_residuals = y_test - test_preds\n",
    "sm.qqplot(train_residuals, line = 'r');"
   ]
  },
  {
   "cell_type": "code",
   "execution_count": 75,
   "metadata": {
    "ExecuteTime": {
     "end_time": "2022-03-31T22:00:34.882464Z",
     "start_time": "2022-03-31T22:00:34.622601Z"
    },
    "scrolled": true
   },
   "outputs": [
    {
     "data": {
      "text/html": [
       "<table class=\"simpletable\">\n",
       "<caption>OLS Regression Results</caption>\n",
       "<tr>\n",
       "  <th>Dep. Variable:</th>          <td>price</td>      <th>  R-squared:         </th>  <td>   0.806</td>  \n",
       "</tr>\n",
       "<tr>\n",
       "  <th>Model:</th>                   <td>OLS</td>       <th>  Adj. R-squared:    </th>  <td>   0.805</td>  \n",
       "</tr>\n",
       "<tr>\n",
       "  <th>Method:</th>             <td>Least Squares</td>  <th>  F-statistic:       </th>  <td>   679.2</td>  \n",
       "</tr>\n",
       "<tr>\n",
       "  <th>Date:</th>             <td>Thu, 31 Mar 2022</td> <th>  Prob (F-statistic):</th>   <td>  0.00</td>   \n",
       "</tr>\n",
       "<tr>\n",
       "  <th>Time:</th>                 <td>17:00:34</td>     <th>  Log-Likelihood:    </th> <td>-1.7521e+05</td>\n",
       "</tr>\n",
       "<tr>\n",
       "  <th>No. Observations:</th>      <td> 13659</td>      <th>  AIC:               </th>  <td>3.506e+05</td> \n",
       "</tr>\n",
       "<tr>\n",
       "  <th>Df Residuals:</th>          <td> 13575</td>      <th>  BIC:               </th>  <td>3.512e+05</td> \n",
       "</tr>\n",
       "<tr>\n",
       "  <th>Df Model:</th>              <td>    83</td>      <th>                     </th>      <td> </td>     \n",
       "</tr>\n",
       "<tr>\n",
       "  <th>Covariance Type:</th>      <td>nonrobust</td>    <th>                     </th>      <td> </td>     \n",
       "</tr>\n",
       "</table>\n",
       "<table class=\"simpletable\">\n",
       "<tr>\n",
       "             <td></td>               <th>coef</th>     <th>std err</th>      <th>t</th>      <th>P>|t|</th>  <th>[0.025</th>    <th>0.975]</th>  \n",
       "</tr>\n",
       "<tr>\n",
       "  <th>const</th>                  <td> 5.537e+05</td> <td> 7.79e+04</td> <td>    7.110</td> <td> 0.000</td> <td> 4.01e+05</td> <td> 7.06e+05</td>\n",
       "</tr>\n",
       "<tr>\n",
       "  <th>sqft_living</th>            <td>  125.7928</td> <td>    2.151</td> <td>   58.470</td> <td> 0.000</td> <td>  121.576</td> <td>  130.010</td>\n",
       "</tr>\n",
       "<tr>\n",
       "  <th>sqft_living15</th>          <td>   70.5392</td> <td>    2.193</td> <td>   32.164</td> <td> 0.000</td> <td>   66.240</td> <td>   74.838</td>\n",
       "</tr>\n",
       "<tr>\n",
       "  <th>bathrooms</th>              <td> 1.567e+04</td> <td> 1873.512</td> <td>    8.366</td> <td> 0.000</td> <td>  1.2e+04</td> <td> 1.93e+04</td>\n",
       "</tr>\n",
       "<tr>\n",
       "  <th>yr_built</th>               <td> -348.1581</td> <td>   39.696</td> <td>   -8.771</td> <td> 0.000</td> <td> -425.968</td> <td> -270.348</td>\n",
       "</tr>\n",
       "<tr>\n",
       "  <th>bedrooms_bin_x0_2BR</th>    <td> 7323.2282</td> <td> 8787.440</td> <td>    0.833</td> <td> 0.405</td> <td>-9901.373</td> <td> 2.45e+04</td>\n",
       "</tr>\n",
       "<tr>\n",
       "  <th>bedrooms_bin_x0_3BR</th>    <td> 8227.9231</td> <td> 8732.668</td> <td>    0.942</td> <td> 0.346</td> <td>-8889.319</td> <td> 2.53e+04</td>\n",
       "</tr>\n",
       "<tr>\n",
       "  <th>bedrooms_bin_x0_4BR</th>    <td> -297.7990</td> <td> 8943.193</td> <td>   -0.033</td> <td> 0.973</td> <td>-1.78e+04</td> <td> 1.72e+04</td>\n",
       "</tr>\n",
       "<tr>\n",
       "  <th>bedrooms_bin_x0_5BR</th>    <td> -2.82e+04</td> <td> 9497.355</td> <td>   -2.970</td> <td> 0.003</td> <td>-4.68e+04</td> <td>-9588.098</td>\n",
       "</tr>\n",
       "<tr>\n",
       "  <th>bedrooms_bin_x0_6BR</th>    <td>-4.919e+04</td> <td> 1.19e+04</td> <td>   -4.120</td> <td> 0.000</td> <td>-7.26e+04</td> <td>-2.58e+04</td>\n",
       "</tr>\n",
       "<tr>\n",
       "  <th>bedrooms_bin_x0_7+BR</th>   <td>-1.409e+05</td> <td> 2.12e+04</td> <td>   -6.631</td> <td> 0.000</td> <td>-1.83e+05</td> <td>-9.92e+04</td>\n",
       "</tr>\n",
       "<tr>\n",
       "  <th>condition_x0_Fair</th>      <td>-3.836e+04</td> <td> 9066.545</td> <td>   -4.231</td> <td> 0.000</td> <td>-5.61e+04</td> <td>-2.06e+04</td>\n",
       "</tr>\n",
       "<tr>\n",
       "  <th>condition_x0_Good</th>      <td> 1.376e+04</td> <td> 2001.806</td> <td>    6.875</td> <td> 0.000</td> <td> 9838.653</td> <td> 1.77e+04</td>\n",
       "</tr>\n",
       "<tr>\n",
       "  <th>condition_x0_Poor</th>      <td>-1.359e+05</td> <td> 2.43e+04</td> <td>   -5.590</td> <td> 0.000</td> <td>-1.84e+05</td> <td>-8.83e+04</td>\n",
       "</tr>\n",
       "<tr>\n",
       "  <th>condition_x0_Very Good</th> <td> 4.215e+04</td> <td> 3146.845</td> <td>   13.395</td> <td> 0.000</td> <td>  3.6e+04</td> <td> 4.83e+04</td>\n",
       "</tr>\n",
       "<tr>\n",
       "  <th>zipcode_x0_98002</th>       <td> 1.515e+04</td> <td> 9838.343</td> <td>    1.540</td> <td> 0.124</td> <td>-4138.114</td> <td> 3.44e+04</td>\n",
       "</tr>\n",
       "<tr>\n",
       "  <th>zipcode_x0_98003</th>       <td> 1.238e+04</td> <td> 8854.362</td> <td>    1.398</td> <td> 0.162</td> <td>-4974.496</td> <td> 2.97e+04</td>\n",
       "</tr>\n",
       "<tr>\n",
       "  <th>zipcode_x0_98004</th>       <td> 5.211e+05</td> <td> 1.08e+04</td> <td>   48.076</td> <td> 0.000</td> <td>    5e+05</td> <td> 5.42e+05</td>\n",
       "</tr>\n",
       "<tr>\n",
       "  <th>zipcode_x0_98005</th>       <td> 3.523e+05</td> <td>  1.2e+04</td> <td>   29.415</td> <td> 0.000</td> <td> 3.29e+05</td> <td> 3.76e+05</td>\n",
       "</tr>\n",
       "<tr>\n",
       "  <th>zipcode_x0_98006</th>       <td> 2.948e+05</td> <td> 8292.409</td> <td>   35.545</td> <td> 0.000</td> <td> 2.78e+05</td> <td> 3.11e+05</td>\n",
       "</tr>\n",
       "<tr>\n",
       "  <th>zipcode_x0_98007</th>       <td> 2.634e+05</td> <td> 1.12e+04</td> <td>   23.438</td> <td> 0.000</td> <td> 2.41e+05</td> <td> 2.85e+05</td>\n",
       "</tr>\n",
       "<tr>\n",
       "  <th>zipcode_x0_98008</th>       <td> 2.579e+05</td> <td> 9020.264</td> <td>   28.590</td> <td> 0.000</td> <td>  2.4e+05</td> <td> 2.76e+05</td>\n",
       "</tr>\n",
       "<tr>\n",
       "  <th>zipcode_x0_98010</th>       <td> 9.508e+04</td> <td> 1.57e+04</td> <td>    6.044</td> <td> 0.000</td> <td> 6.42e+04</td> <td> 1.26e+05</td>\n",
       "</tr>\n",
       "<tr>\n",
       "  <th>zipcode_x0_98011</th>       <td> 1.471e+05</td> <td> 1.01e+04</td> <td>   14.586</td> <td> 0.000</td> <td> 1.27e+05</td> <td> 1.67e+05</td>\n",
       "</tr>\n",
       "<tr>\n",
       "  <th>zipcode_x0_98014</th>       <td> 1.162e+05</td> <td> 1.59e+04</td> <td>    7.305</td> <td> 0.000</td> <td>  8.5e+04</td> <td> 1.47e+05</td>\n",
       "</tr>\n",
       "<tr>\n",
       "  <th>zipcode_x0_98019</th>       <td> 8.788e+04</td> <td> 1.04e+04</td> <td>    8.426</td> <td> 0.000</td> <td> 6.74e+04</td> <td> 1.08e+05</td>\n",
       "</tr>\n",
       "<tr>\n",
       "  <th>zipcode_x0_98022</th>       <td> 1.978e+04</td> <td> 1.06e+04</td> <td>    1.866</td> <td> 0.062</td> <td> -992.490</td> <td> 4.05e+04</td>\n",
       "</tr>\n",
       "<tr>\n",
       "  <th>zipcode_x0_98023</th>       <td>-9812.6366</td> <td> 7776.615</td> <td>   -1.262</td> <td> 0.207</td> <td>-2.51e+04</td> <td> 5430.607</td>\n",
       "</tr>\n",
       "<tr>\n",
       "  <th>zipcode_x0_98024</th>       <td> 1.504e+05</td> <td> 2.03e+04</td> <td>    7.426</td> <td> 0.000</td> <td> 1.11e+05</td> <td>  1.9e+05</td>\n",
       "</tr>\n",
       "<tr>\n",
       "  <th>zipcode_x0_98027</th>       <td> 2.361e+05</td> <td> 9073.009</td> <td>   26.018</td> <td> 0.000</td> <td> 2.18e+05</td> <td> 2.54e+05</td>\n",
       "</tr>\n",
       "<tr>\n",
       "  <th>zipcode_x0_98028</th>       <td> 1.347e+05</td> <td> 9048.187</td> <td>   14.892</td> <td> 0.000</td> <td> 1.17e+05</td> <td> 1.52e+05</td>\n",
       "</tr>\n",
       "<tr>\n",
       "  <th>zipcode_x0_98029</th>       <td> 2.527e+05</td> <td> 8650.793</td> <td>   29.215</td> <td> 0.000</td> <td> 2.36e+05</td> <td>  2.7e+05</td>\n",
       "</tr>\n",
       "<tr>\n",
       "  <th>zipcode_x0_98030</th>       <td> 6293.2119</td> <td> 8958.064</td> <td>    0.703</td> <td> 0.482</td> <td>-1.13e+04</td> <td> 2.39e+04</td>\n",
       "</tr>\n",
       "<tr>\n",
       "  <th>zipcode_x0_98031</th>       <td> 8198.8949</td> <td> 8916.150</td> <td>    0.920</td> <td> 0.358</td> <td>-9277.997</td> <td> 2.57e+04</td>\n",
       "</tr>\n",
       "<tr>\n",
       "  <th>zipcode_x0_98032</th>       <td> 9523.4937</td> <td> 1.14e+04</td> <td>    0.836</td> <td> 0.403</td> <td>-1.28e+04</td> <td> 3.19e+04</td>\n",
       "</tr>\n",
       "<tr>\n",
       "  <th>zipcode_x0_98033</th>       <td>  3.28e+05</td> <td> 8246.000</td> <td>   39.778</td> <td> 0.000</td> <td> 3.12e+05</td> <td> 3.44e+05</td>\n",
       "</tr>\n",
       "<tr>\n",
       "  <th>zipcode_x0_98034</th>       <td> 1.949e+05</td> <td> 7651.106</td> <td>   25.469</td> <td> 0.000</td> <td>  1.8e+05</td> <td>  2.1e+05</td>\n",
       "</tr>\n",
       "<tr>\n",
       "  <th>zipcode_x0_98038</th>       <td> 3.328e+04</td> <td> 7727.867</td> <td>    4.306</td> <td> 0.000</td> <td> 1.81e+04</td> <td> 4.84e+04</td>\n",
       "</tr>\n",
       "<tr>\n",
       "  <th>zipcode_x0_98039</th>       <td> 6.772e+05</td> <td> 4.56e+04</td> <td>   14.837</td> <td> 0.000</td> <td> 5.88e+05</td> <td> 7.67e+05</td>\n",
       "</tr>\n",
       "<tr>\n",
       "  <th>zipcode_x0_98040</th>       <td> 4.335e+05</td> <td> 1.06e+04</td> <td>   41.074</td> <td> 0.000</td> <td> 4.13e+05</td> <td> 4.54e+05</td>\n",
       "</tr>\n",
       "<tr>\n",
       "  <th>zipcode_x0_98042</th>       <td> 1.115e+04</td> <td> 7901.819</td> <td>    1.411</td> <td> 0.158</td> <td>-4339.483</td> <td> 2.66e+04</td>\n",
       "</tr>\n",
       "<tr>\n",
       "  <th>zipcode_x0_98045</th>       <td> 1.121e+05</td> <td> 1.08e+04</td> <td>   10.375</td> <td> 0.000</td> <td>  9.1e+04</td> <td> 1.33e+05</td>\n",
       "</tr>\n",
       "<tr>\n",
       "  <th>zipcode_x0_98052</th>       <td>  2.65e+05</td> <td> 7700.735</td> <td>   34.418</td> <td> 0.000</td> <td>  2.5e+05</td> <td>  2.8e+05</td>\n",
       "</tr>\n",
       "<tr>\n",
       "  <th>zipcode_x0_98053</th>       <td> 2.674e+05</td> <td> 9284.695</td> <td>   28.803</td> <td> 0.000</td> <td> 2.49e+05</td> <td> 2.86e+05</td>\n",
       "</tr>\n",
       "<tr>\n",
       "  <th>zipcode_x0_98055</th>       <td> 4.577e+04</td> <td> 9010.712</td> <td>    5.079</td> <td> 0.000</td> <td> 2.81e+04</td> <td> 6.34e+04</td>\n",
       "</tr>\n",
       "<tr>\n",
       "  <th>zipcode_x0_98056</th>       <td> 1.075e+05</td> <td> 8083.310</td> <td>   13.304</td> <td> 0.000</td> <td> 9.17e+04</td> <td> 1.23e+05</td>\n",
       "</tr>\n",
       "<tr>\n",
       "  <th>zipcode_x0_98058</th>       <td> 4.316e+04</td> <td> 8109.564</td> <td>    5.323</td> <td> 0.000</td> <td> 2.73e+04</td> <td> 5.91e+04</td>\n",
       "</tr>\n",
       "<tr>\n",
       "  <th>zipcode_x0_98059</th>       <td> 1.052e+05</td> <td> 8120.302</td> <td>   12.949</td> <td> 0.000</td> <td> 8.92e+04</td> <td> 1.21e+05</td>\n",
       "</tr>\n",
       "<tr>\n",
       "  <th>zipcode_x0_98065</th>       <td> 1.183e+05</td> <td> 8847.312</td> <td>   13.367</td> <td> 0.000</td> <td> 1.01e+05</td> <td> 1.36e+05</td>\n",
       "</tr>\n",
       "<tr>\n",
       "  <th>zipcode_x0_98070</th>       <td> 1.146e+05</td> <td> 2.03e+04</td> <td>    5.659</td> <td> 0.000</td> <td> 7.49e+04</td> <td> 1.54e+05</td>\n",
       "</tr>\n",
       "<tr>\n",
       "  <th>zipcode_x0_98072</th>       <td> 1.561e+05</td> <td> 1.07e+04</td> <td>   14.533</td> <td> 0.000</td> <td> 1.35e+05</td> <td> 1.77e+05</td>\n",
       "</tr>\n",
       "<tr>\n",
       "  <th>zipcode_x0_98074</th>       <td> 2.378e+05</td> <td> 8244.270</td> <td>   28.844</td> <td> 0.000</td> <td> 2.22e+05</td> <td> 2.54e+05</td>\n",
       "</tr>\n",
       "<tr>\n",
       "  <th>zipcode_x0_98075</th>       <td> 2.499e+05</td> <td> 9287.406</td> <td>   26.906</td> <td> 0.000</td> <td> 2.32e+05</td> <td> 2.68e+05</td>\n",
       "</tr>\n",
       "<tr>\n",
       "  <th>zipcode_x0_98077</th>       <td> 2.152e+05</td> <td> 1.69e+04</td> <td>   12.736</td> <td> 0.000</td> <td> 1.82e+05</td> <td> 2.48e+05</td>\n",
       "</tr>\n",
       "<tr>\n",
       "  <th>zipcode_x0_98092</th>       <td>-1.181e+04</td> <td> 8938.518</td> <td>   -1.321</td> <td> 0.187</td> <td>-2.93e+04</td> <td> 5714.603</td>\n",
       "</tr>\n",
       "<tr>\n",
       "  <th>zipcode_x0_98102</th>       <td> 4.227e+05</td> <td> 1.26e+04</td> <td>   33.582</td> <td> 0.000</td> <td> 3.98e+05</td> <td> 4.47e+05</td>\n",
       "</tr>\n",
       "<tr>\n",
       "  <th>zipcode_x0_98103</th>       <td> 3.468e+05</td> <td> 7629.520</td> <td>   45.456</td> <td> 0.000</td> <td> 3.32e+05</td> <td> 3.62e+05</td>\n",
       "</tr>\n",
       "<tr>\n",
       "  <th>zipcode_x0_98105</th>       <td> 3.869e+05</td> <td> 9927.633</td> <td>   38.969</td> <td> 0.000</td> <td> 3.67e+05</td> <td> 4.06e+05</td>\n",
       "</tr>\n",
       "<tr>\n",
       "  <th>zipcode_x0_98106</th>       <td> 1.303e+05</td> <td> 8609.675</td> <td>   15.134</td> <td> 0.000</td> <td> 1.13e+05</td> <td> 1.47e+05</td>\n",
       "</tr>\n",
       "<tr>\n",
       "  <th>zipcode_x0_98107</th>       <td> 3.343e+05</td> <td> 9044.874</td> <td>   36.959</td> <td> 0.000</td> <td> 3.17e+05</td> <td> 3.52e+05</td>\n",
       "</tr>\n",
       "<tr>\n",
       "  <th>zipcode_x0_98108</th>       <td> 1.175e+05</td> <td> 9791.642</td> <td>   12.001</td> <td> 0.000</td> <td> 9.83e+04</td> <td> 1.37e+05</td>\n",
       "</tr>\n",
       "<tr>\n",
       "  <th>zipcode_x0_98109</th>       <td> 4.506e+05</td> <td> 1.34e+04</td> <td>   33.712</td> <td> 0.000</td> <td> 4.24e+05</td> <td> 4.77e+05</td>\n",
       "</tr>\n",
       "<tr>\n",
       "  <th>zipcode_x0_98112</th>       <td> 4.614e+05</td> <td> 1.02e+04</td> <td>   45.083</td> <td> 0.000</td> <td> 4.41e+05</td> <td> 4.81e+05</td>\n",
       "</tr>\n",
       "<tr>\n",
       "  <th>zipcode_x0_98115</th>       <td> 3.267e+05</td> <td> 7624.782</td> <td>   42.846</td> <td> 0.000</td> <td> 3.12e+05</td> <td> 3.42e+05</td>\n",
       "</tr>\n",
       "<tr>\n",
       "  <th>zipcode_x0_98116</th>       <td> 3.223e+05</td> <td> 8572.185</td> <td>   37.599</td> <td> 0.000</td> <td> 3.06e+05</td> <td> 3.39e+05</td>\n",
       "</tr>\n",
       "<tr>\n",
       "  <th>zipcode_x0_98117</th>       <td> 3.333e+05</td> <td> 7719.697</td> <td>   43.181</td> <td> 0.000</td> <td> 3.18e+05</td> <td> 3.48e+05</td>\n",
       "</tr>\n",
       "<tr>\n",
       "  <th>zipcode_x0_98118</th>       <td> 1.782e+05</td> <td> 7882.261</td> <td>   22.611</td> <td> 0.000</td> <td> 1.63e+05</td> <td> 1.94e+05</td>\n",
       "</tr>\n",
       "<tr>\n",
       "  <th>zipcode_x0_98119</th>       <td> 4.365e+05</td> <td> 1.04e+04</td> <td>   41.778</td> <td> 0.000</td> <td> 4.16e+05</td> <td> 4.57e+05</td>\n",
       "</tr>\n",
       "<tr>\n",
       "  <th>zipcode_x0_98122</th>       <td> 3.363e+05</td> <td> 8880.793</td> <td>   37.863</td> <td> 0.000</td> <td> 3.19e+05</td> <td> 3.54e+05</td>\n",
       "</tr>\n",
       "<tr>\n",
       "  <th>zipcode_x0_98125</th>       <td> 2.065e+05</td> <td> 8095.795</td> <td>   25.507</td> <td> 0.000</td> <td> 1.91e+05</td> <td> 2.22e+05</td>\n",
       "</tr>\n",
       "<tr>\n",
       "  <th>zipcode_x0_98126</th>       <td> 2.151e+05</td> <td> 8269.142</td> <td>   26.016</td> <td> 0.000</td> <td> 1.99e+05</td> <td> 2.31e+05</td>\n",
       "</tr>\n",
       "<tr>\n",
       "  <th>zipcode_x0_98133</th>       <td> 1.669e+05</td> <td> 7754.290</td> <td>   21.525</td> <td> 0.000</td> <td> 1.52e+05</td> <td> 1.82e+05</td>\n",
       "</tr>\n",
       "<tr>\n",
       "  <th>zipcode_x0_98136</th>       <td> 2.845e+05</td> <td> 9059.922</td> <td>   31.407</td> <td> 0.000</td> <td> 2.67e+05</td> <td> 3.02e+05</td>\n",
       "</tr>\n",
       "<tr>\n",
       "  <th>zipcode_x0_98144</th>       <td>  2.55e+05</td> <td> 8540.756</td> <td>   29.852</td> <td> 0.000</td> <td> 2.38e+05</td> <td> 2.72e+05</td>\n",
       "</tr>\n",
       "<tr>\n",
       "  <th>zipcode_x0_98146</th>       <td>   1.3e+05</td> <td> 8804.206</td> <td>   14.760</td> <td> 0.000</td> <td> 1.13e+05</td> <td> 1.47e+05</td>\n",
       "</tr>\n",
       "<tr>\n",
       "  <th>zipcode_x0_98148</th>       <td> 6.207e+04</td> <td> 1.61e+04</td> <td>    3.858</td> <td> 0.000</td> <td> 3.05e+04</td> <td> 9.36e+04</td>\n",
       "</tr>\n",
       "<tr>\n",
       "  <th>zipcode_x0_98155</th>       <td> 1.514e+05</td> <td> 8036.260</td> <td>   18.843</td> <td> 0.000</td> <td> 1.36e+05</td> <td> 1.67e+05</td>\n",
       "</tr>\n",
       "<tr>\n",
       "  <th>zipcode_x0_98166</th>       <td>  1.23e+05</td> <td> 9470.456</td> <td>   12.983</td> <td> 0.000</td> <td> 1.04e+05</td> <td> 1.42e+05</td>\n",
       "</tr>\n",
       "<tr>\n",
       "  <th>zipcode_x0_98168</th>       <td> 5.267e+04</td> <td> 9271.992</td> <td>    5.680</td> <td> 0.000</td> <td> 3.45e+04</td> <td> 7.08e+04</td>\n",
       "</tr>\n",
       "<tr>\n",
       "  <th>zipcode_x0_98177</th>       <td> 2.268e+05</td> <td> 9592.889</td> <td>   23.642</td> <td> 0.000</td> <td> 2.08e+05</td> <td> 2.46e+05</td>\n",
       "</tr>\n",
       "<tr>\n",
       "  <th>zipcode_x0_98178</th>       <td> 6.749e+04</td> <td> 8954.231</td> <td>    7.537</td> <td> 0.000</td> <td> 4.99e+04</td> <td>  8.5e+04</td>\n",
       "</tr>\n",
       "<tr>\n",
       "  <th>zipcode_x0_98188</th>       <td> 4.274e+04</td> <td> 1.13e+04</td> <td>    3.778</td> <td> 0.000</td> <td> 2.06e+04</td> <td> 6.49e+04</td>\n",
       "</tr>\n",
       "<tr>\n",
       "  <th>zipcode_x0_98198</th>       <td> 5.041e+04</td> <td> 9083.800</td> <td>    5.549</td> <td> 0.000</td> <td> 3.26e+04</td> <td> 6.82e+04</td>\n",
       "</tr>\n",
       "<tr>\n",
       "  <th>zipcode_x0_98199</th>       <td> 3.734e+05</td> <td> 8871.350</td> <td>   42.085</td> <td> 0.000</td> <td> 3.56e+05</td> <td> 3.91e+05</td>\n",
       "</tr>\n",
       "</table>\n",
       "<table class=\"simpletable\">\n",
       "<tr>\n",
       "  <th>Omnibus:</th>       <td>1714.952</td> <th>  Durbin-Watson:     </th> <td>   2.026</td>\n",
       "</tr>\n",
       "<tr>\n",
       "  <th>Prob(Omnibus):</th>  <td> 0.000</td>  <th>  Jarque-Bera (JB):  </th> <td>5396.962</td>\n",
       "</tr>\n",
       "<tr>\n",
       "  <th>Skew:</th>           <td> 0.653</td>  <th>  Prob(JB):          </th> <td>    0.00</td>\n",
       "</tr>\n",
       "<tr>\n",
       "  <th>Kurtosis:</th>       <td> 5.789</td>  <th>  Cond. No.          </th> <td>3.46e+05</td>\n",
       "</tr>\n",
       "</table><br/><br/>Notes:<br/>[1] Standard Errors assume that the covariance matrix of the errors is correctly specified.<br/>[2] The condition number is large, 3.46e+05. This might indicate that there are<br/>strong multicollinearity or other numerical problems."
      ],
      "text/plain": [
       "<class 'statsmodels.iolib.summary.Summary'>\n",
       "\"\"\"\n",
       "                            OLS Regression Results                            \n",
       "==============================================================================\n",
       "Dep. Variable:                  price   R-squared:                       0.806\n",
       "Model:                            OLS   Adj. R-squared:                  0.805\n",
       "Method:                 Least Squares   F-statistic:                     679.2\n",
       "Date:                Thu, 31 Mar 2022   Prob (F-statistic):               0.00\n",
       "Time:                        17:00:34   Log-Likelihood:            -1.7521e+05\n",
       "No. Observations:               13659   AIC:                         3.506e+05\n",
       "Df Residuals:                   13575   BIC:                         3.512e+05\n",
       "Df Model:                          83                                         \n",
       "Covariance Type:            nonrobust                                         \n",
       "==========================================================================================\n",
       "                             coef    std err          t      P>|t|      [0.025      0.975]\n",
       "------------------------------------------------------------------------------------------\n",
       "const                   5.537e+05   7.79e+04      7.110      0.000    4.01e+05    7.06e+05\n",
       "sqft_living              125.7928      2.151     58.470      0.000     121.576     130.010\n",
       "sqft_living15             70.5392      2.193     32.164      0.000      66.240      74.838\n",
       "bathrooms               1.567e+04   1873.512      8.366      0.000     1.2e+04    1.93e+04\n",
       "yr_built                -348.1581     39.696     -8.771      0.000    -425.968    -270.348\n",
       "bedrooms_bin_x0_2BR     7323.2282   8787.440      0.833      0.405   -9901.373    2.45e+04\n",
       "bedrooms_bin_x0_3BR     8227.9231   8732.668      0.942      0.346   -8889.319    2.53e+04\n",
       "bedrooms_bin_x0_4BR     -297.7990   8943.193     -0.033      0.973   -1.78e+04    1.72e+04\n",
       "bedrooms_bin_x0_5BR     -2.82e+04   9497.355     -2.970      0.003   -4.68e+04   -9588.098\n",
       "bedrooms_bin_x0_6BR    -4.919e+04   1.19e+04     -4.120      0.000   -7.26e+04   -2.58e+04\n",
       "bedrooms_bin_x0_7+BR   -1.409e+05   2.12e+04     -6.631      0.000   -1.83e+05   -9.92e+04\n",
       "condition_x0_Fair      -3.836e+04   9066.545     -4.231      0.000   -5.61e+04   -2.06e+04\n",
       "condition_x0_Good       1.376e+04   2001.806      6.875      0.000    9838.653    1.77e+04\n",
       "condition_x0_Poor      -1.359e+05   2.43e+04     -5.590      0.000   -1.84e+05   -8.83e+04\n",
       "condition_x0_Very Good  4.215e+04   3146.845     13.395      0.000     3.6e+04    4.83e+04\n",
       "zipcode_x0_98002        1.515e+04   9838.343      1.540      0.124   -4138.114    3.44e+04\n",
       "zipcode_x0_98003        1.238e+04   8854.362      1.398      0.162   -4974.496    2.97e+04\n",
       "zipcode_x0_98004        5.211e+05   1.08e+04     48.076      0.000       5e+05    5.42e+05\n",
       "zipcode_x0_98005        3.523e+05    1.2e+04     29.415      0.000    3.29e+05    3.76e+05\n",
       "zipcode_x0_98006        2.948e+05   8292.409     35.545      0.000    2.78e+05    3.11e+05\n",
       "zipcode_x0_98007        2.634e+05   1.12e+04     23.438      0.000    2.41e+05    2.85e+05\n",
       "zipcode_x0_98008        2.579e+05   9020.264     28.590      0.000     2.4e+05    2.76e+05\n",
       "zipcode_x0_98010        9.508e+04   1.57e+04      6.044      0.000    6.42e+04    1.26e+05\n",
       "zipcode_x0_98011        1.471e+05   1.01e+04     14.586      0.000    1.27e+05    1.67e+05\n",
       "zipcode_x0_98014        1.162e+05   1.59e+04      7.305      0.000     8.5e+04    1.47e+05\n",
       "zipcode_x0_98019        8.788e+04   1.04e+04      8.426      0.000    6.74e+04    1.08e+05\n",
       "zipcode_x0_98022        1.978e+04   1.06e+04      1.866      0.062    -992.490    4.05e+04\n",
       "zipcode_x0_98023       -9812.6366   7776.615     -1.262      0.207   -2.51e+04    5430.607\n",
       "zipcode_x0_98024        1.504e+05   2.03e+04      7.426      0.000    1.11e+05     1.9e+05\n",
       "zipcode_x0_98027        2.361e+05   9073.009     26.018      0.000    2.18e+05    2.54e+05\n",
       "zipcode_x0_98028        1.347e+05   9048.187     14.892      0.000    1.17e+05    1.52e+05\n",
       "zipcode_x0_98029        2.527e+05   8650.793     29.215      0.000    2.36e+05     2.7e+05\n",
       "zipcode_x0_98030        6293.2119   8958.064      0.703      0.482   -1.13e+04    2.39e+04\n",
       "zipcode_x0_98031        8198.8949   8916.150      0.920      0.358   -9277.997    2.57e+04\n",
       "zipcode_x0_98032        9523.4937   1.14e+04      0.836      0.403   -1.28e+04    3.19e+04\n",
       "zipcode_x0_98033         3.28e+05   8246.000     39.778      0.000    3.12e+05    3.44e+05\n",
       "zipcode_x0_98034        1.949e+05   7651.106     25.469      0.000     1.8e+05     2.1e+05\n",
       "zipcode_x0_98038        3.328e+04   7727.867      4.306      0.000    1.81e+04    4.84e+04\n",
       "zipcode_x0_98039        6.772e+05   4.56e+04     14.837      0.000    5.88e+05    7.67e+05\n",
       "zipcode_x0_98040        4.335e+05   1.06e+04     41.074      0.000    4.13e+05    4.54e+05\n",
       "zipcode_x0_98042        1.115e+04   7901.819      1.411      0.158   -4339.483    2.66e+04\n",
       "zipcode_x0_98045        1.121e+05   1.08e+04     10.375      0.000     9.1e+04    1.33e+05\n",
       "zipcode_x0_98052         2.65e+05   7700.735     34.418      0.000     2.5e+05     2.8e+05\n",
       "zipcode_x0_98053        2.674e+05   9284.695     28.803      0.000    2.49e+05    2.86e+05\n",
       "zipcode_x0_98055        4.577e+04   9010.712      5.079      0.000    2.81e+04    6.34e+04\n",
       "zipcode_x0_98056        1.075e+05   8083.310     13.304      0.000    9.17e+04    1.23e+05\n",
       "zipcode_x0_98058        4.316e+04   8109.564      5.323      0.000    2.73e+04    5.91e+04\n",
       "zipcode_x0_98059        1.052e+05   8120.302     12.949      0.000    8.92e+04    1.21e+05\n",
       "zipcode_x0_98065        1.183e+05   8847.312     13.367      0.000    1.01e+05    1.36e+05\n",
       "zipcode_x0_98070        1.146e+05   2.03e+04      5.659      0.000    7.49e+04    1.54e+05\n",
       "zipcode_x0_98072        1.561e+05   1.07e+04     14.533      0.000    1.35e+05    1.77e+05\n",
       "zipcode_x0_98074        2.378e+05   8244.270     28.844      0.000    2.22e+05    2.54e+05\n",
       "zipcode_x0_98075        2.499e+05   9287.406     26.906      0.000    2.32e+05    2.68e+05\n",
       "zipcode_x0_98077        2.152e+05   1.69e+04     12.736      0.000    1.82e+05    2.48e+05\n",
       "zipcode_x0_98092       -1.181e+04   8938.518     -1.321      0.187   -2.93e+04    5714.603\n",
       "zipcode_x0_98102        4.227e+05   1.26e+04     33.582      0.000    3.98e+05    4.47e+05\n",
       "zipcode_x0_98103        3.468e+05   7629.520     45.456      0.000    3.32e+05    3.62e+05\n",
       "zipcode_x0_98105        3.869e+05   9927.633     38.969      0.000    3.67e+05    4.06e+05\n",
       "zipcode_x0_98106        1.303e+05   8609.675     15.134      0.000    1.13e+05    1.47e+05\n",
       "zipcode_x0_98107        3.343e+05   9044.874     36.959      0.000    3.17e+05    3.52e+05\n",
       "zipcode_x0_98108        1.175e+05   9791.642     12.001      0.000    9.83e+04    1.37e+05\n",
       "zipcode_x0_98109        4.506e+05   1.34e+04     33.712      0.000    4.24e+05    4.77e+05\n",
       "zipcode_x0_98112        4.614e+05   1.02e+04     45.083      0.000    4.41e+05    4.81e+05\n",
       "zipcode_x0_98115        3.267e+05   7624.782     42.846      0.000    3.12e+05    3.42e+05\n",
       "zipcode_x0_98116        3.223e+05   8572.185     37.599      0.000    3.06e+05    3.39e+05\n",
       "zipcode_x0_98117        3.333e+05   7719.697     43.181      0.000    3.18e+05    3.48e+05\n",
       "zipcode_x0_98118        1.782e+05   7882.261     22.611      0.000    1.63e+05    1.94e+05\n",
       "zipcode_x0_98119        4.365e+05   1.04e+04     41.778      0.000    4.16e+05    4.57e+05\n",
       "zipcode_x0_98122        3.363e+05   8880.793     37.863      0.000    3.19e+05    3.54e+05\n",
       "zipcode_x0_98125        2.065e+05   8095.795     25.507      0.000    1.91e+05    2.22e+05\n",
       "zipcode_x0_98126        2.151e+05   8269.142     26.016      0.000    1.99e+05    2.31e+05\n",
       "zipcode_x0_98133        1.669e+05   7754.290     21.525      0.000    1.52e+05    1.82e+05\n",
       "zipcode_x0_98136        2.845e+05   9059.922     31.407      0.000    2.67e+05    3.02e+05\n",
       "zipcode_x0_98144         2.55e+05   8540.756     29.852      0.000    2.38e+05    2.72e+05\n",
       "zipcode_x0_98146          1.3e+05   8804.206     14.760      0.000    1.13e+05    1.47e+05\n",
       "zipcode_x0_98148        6.207e+04   1.61e+04      3.858      0.000    3.05e+04    9.36e+04\n",
       "zipcode_x0_98155        1.514e+05   8036.260     18.843      0.000    1.36e+05    1.67e+05\n",
       "zipcode_x0_98166         1.23e+05   9470.456     12.983      0.000    1.04e+05    1.42e+05\n",
       "zipcode_x0_98168        5.267e+04   9271.992      5.680      0.000    3.45e+04    7.08e+04\n",
       "zipcode_x0_98177        2.268e+05   9592.889     23.642      0.000    2.08e+05    2.46e+05\n",
       "zipcode_x0_98178        6.749e+04   8954.231      7.537      0.000    4.99e+04     8.5e+04\n",
       "zipcode_x0_98188        4.274e+04   1.13e+04      3.778      0.000    2.06e+04    6.49e+04\n",
       "zipcode_x0_98198        5.041e+04   9083.800      5.549      0.000    3.26e+04    6.82e+04\n",
       "zipcode_x0_98199        3.734e+05   8871.350     42.085      0.000    3.56e+05    3.91e+05\n",
       "==============================================================================\n",
       "Omnibus:                     1714.952   Durbin-Watson:                   2.026\n",
       "Prob(Omnibus):                  0.000   Jarque-Bera (JB):             5396.962\n",
       "Skew:                           0.653   Prob(JB):                         0.00\n",
       "Kurtosis:                       5.789   Cond. No.                     3.46e+05\n",
       "==============================================================================\n",
       "\n",
       "Notes:\n",
       "[1] Standard Errors assume that the covariance matrix of the errors is correctly specified.\n",
       "[2] The condition number is large, 3.46e+05. This might indicate that there are\n",
       "strong multicollinearity or other numerical problems.\n",
       "\"\"\""
      ]
     },
     "execution_count": 75,
     "metadata": {},
     "output_type": "execute_result"
    }
   ],
   "source": [
    "y = y_train\n",
    "x = X_train.filter(cols, axis=1)\n",
    "x = sm.add_constant(x)\n",
    "model = sm.OLS(y, x).fit()\n",
    "model.summary()"
   ]
  },
  {
   "cell_type": "code",
   "execution_count": 76,
   "metadata": {
    "ExecuteTime": {
     "end_time": "2022-03-31T22:00:34.888766Z",
     "start_time": "2022-03-31T22:00:34.883525Z"
    }
   },
   "outputs": [],
   "source": [
    "X_potentials = pd.DataFrame(columns = X_train.columns)"
   ]
  },
  {
   "cell_type": "code",
   "execution_count": 77,
   "metadata": {
    "ExecuteTime": {
     "end_time": "2022-03-31T22:00:34.893084Z",
     "start_time": "2022-03-31T22:00:34.890161Z"
    }
   },
   "outputs": [],
   "source": [
    "for num in range(0,1):\n",
    "    X_potentials = X_potentials.append(\n",
    "    pd.Series(0, index=X_potentials.columns), \n",
    "    ignore_index=True)"
   ]
  },
  {
   "cell_type": "code",
   "execution_count": 78,
   "metadata": {
    "ExecuteTime": {
     "end_time": "2022-03-31T22:00:34.901322Z",
     "start_time": "2022-03-31T22:00:34.894031Z"
    }
   },
   "outputs": [],
   "source": [
    "X_potentials['sqft_living'].replace(0,df['sqft_living'].median(),inplace=True)\n",
    "X_potentials['sqft_living15'].replace(0,df['sqft_living15'].median(),inplace=True)\n",
    "X_potentials['bathrooms'].replace(0,df.bathrooms.value_counts().index[0],inplace=True)\n",
    "X_potentials['yr_built'].replace(0,df.yr_built.value_counts().index[0],inplace=True)\n",
    "\n",
    "X_potentials['bedrooms_bin_x0_3BR'].replace(0,1,inplace=True)\n",
    "\n",
    "#condition not needed. By default average\n",
    "\n",
    "X_potentials['zipcode_x0_98103'].replace(0,1,inplace=True)\n",
    "\n",
    "\n",
    "X_potentials2 = X_potentials"
   ]
  },
  {
   "cell_type": "code",
   "execution_count": 79,
   "metadata": {
    "ExecuteTime": {
     "end_time": "2022-03-31T22:00:34.915168Z",
     "start_time": "2022-03-31T22:00:34.902598Z"
    }
   },
   "outputs": [
    {
     "data": {
      "text/html": [
       "<div>\n",
       "<style scoped>\n",
       "    .dataframe tbody tr th:only-of-type {\n",
       "        vertical-align: middle;\n",
       "    }\n",
       "\n",
       "    .dataframe tbody tr th {\n",
       "        vertical-align: top;\n",
       "    }\n",
       "\n",
       "    .dataframe thead th {\n",
       "        text-align: right;\n",
       "    }\n",
       "</style>\n",
       "<table border=\"1\" class=\"dataframe\">\n",
       "  <thead>\n",
       "    <tr style=\"text-align: right;\">\n",
       "      <th></th>\n",
       "      <th>sqft_living</th>\n",
       "      <th>sqft_living15</th>\n",
       "      <th>bathrooms</th>\n",
       "      <th>yr_built</th>\n",
       "      <th>bedrooms_bin_x0_2BR</th>\n",
       "      <th>bedrooms_bin_x0_3BR</th>\n",
       "      <th>bedrooms_bin_x0_4BR</th>\n",
       "      <th>bedrooms_bin_x0_5BR</th>\n",
       "      <th>bedrooms_bin_x0_6BR</th>\n",
       "      <th>bedrooms_bin_x0_7+BR</th>\n",
       "      <th>...</th>\n",
       "      <th>zipcode_x0_98146</th>\n",
       "      <th>zipcode_x0_98148</th>\n",
       "      <th>zipcode_x0_98155</th>\n",
       "      <th>zipcode_x0_98166</th>\n",
       "      <th>zipcode_x0_98168</th>\n",
       "      <th>zipcode_x0_98177</th>\n",
       "      <th>zipcode_x0_98178</th>\n",
       "      <th>zipcode_x0_98188</th>\n",
       "      <th>zipcode_x0_98198</th>\n",
       "      <th>zipcode_x0_98199</th>\n",
       "    </tr>\n",
       "  </thead>\n",
       "  <tbody>\n",
       "    <tr>\n",
       "      <th>395</th>\n",
       "      <td>1220</td>\n",
       "      <td>2000</td>\n",
       "      <td>1.0</td>\n",
       "      <td>1950</td>\n",
       "      <td>1.0</td>\n",
       "      <td>0.0</td>\n",
       "      <td>0.0</td>\n",
       "      <td>0.0</td>\n",
       "      <td>0.0</td>\n",
       "      <td>0.0</td>\n",
       "      <td>...</td>\n",
       "      <td>0.0</td>\n",
       "      <td>0.0</td>\n",
       "      <td>0.0</td>\n",
       "      <td>0.0</td>\n",
       "      <td>0.0</td>\n",
       "      <td>0.0</td>\n",
       "      <td>0.0</td>\n",
       "      <td>0.0</td>\n",
       "      <td>0.0</td>\n",
       "      <td>0.0</td>\n",
       "    </tr>\n",
       "  </tbody>\n",
       "</table>\n",
       "<p>1 rows × 83 columns</p>\n",
       "</div>"
      ],
      "text/plain": [
       "     sqft_living  sqft_living15  bathrooms  yr_built  bedrooms_bin_x0_2BR  \\\n",
       "395         1220           2000        1.0      1950                  1.0   \n",
       "\n",
       "     bedrooms_bin_x0_3BR  bedrooms_bin_x0_4BR  bedrooms_bin_x0_5BR  \\\n",
       "395                  0.0                  0.0                  0.0   \n",
       "\n",
       "     bedrooms_bin_x0_6BR  bedrooms_bin_x0_7+BR  ...  zipcode_x0_98146  \\\n",
       "395                  0.0                   0.0  ...               0.0   \n",
       "\n",
       "     zipcode_x0_98148  zipcode_x0_98155  zipcode_x0_98166  zipcode_x0_98168  \\\n",
       "395               0.0               0.0               0.0               0.0   \n",
       "\n",
       "     zipcode_x0_98177  zipcode_x0_98178  zipcode_x0_98188  zipcode_x0_98198  \\\n",
       "395               0.0               0.0               0.0               0.0   \n",
       "\n",
       "     zipcode_x0_98199  \n",
       "395               0.0  \n",
       "\n",
       "[1 rows x 83 columns]"
      ]
     },
     "execution_count": 79,
     "metadata": {},
     "output_type": "execute_result"
    }
   ],
   "source": [
    "X_train.filter(cols, axis=1).head(1)"
   ]
  },
  {
   "cell_type": "code",
   "execution_count": 80,
   "metadata": {
    "ExecuteTime": {
     "end_time": "2022-03-31T22:00:34.920651Z",
     "start_time": "2022-03-31T22:00:34.916264Z"
    },
    "scrolled": true
   },
   "outputs": [
    {
     "data": {
      "text/plain": [
       "sqft_living            1800\n",
       "sqft_living15          1750\n",
       "bathrooms               2.5\n",
       "yr_built               2014\n",
       "bedrooms_bin_x0_2BR       0\n",
       "                       ... \n",
       "zipcode_x0_98177          0\n",
       "zipcode_x0_98178          0\n",
       "zipcode_x0_98188          0\n",
       "zipcode_x0_98198          0\n",
       "zipcode_x0_98199          0\n",
       "Name: 0, Length: 83, dtype: object"
      ]
     },
     "execution_count": 80,
     "metadata": {},
     "output_type": "execute_result"
    }
   ],
   "source": [
    "X_potentials[cols].loc[0]"
   ]
  },
  {
   "cell_type": "code",
   "execution_count": null,
   "metadata": {
    "ExecuteTime": {
     "end_time": "2022-03-30T22:59:55.853277Z",
     "start_time": "2022-03-30T22:59:55.798266Z"
    }
   },
   "outputs": [],
   "source": []
  },
  {
   "cell_type": "markdown",
   "metadata": {},
   "source": [
    "### Predictions from model 8"
   ]
  },
  {
   "cell_type": "code",
   "execution_count": 81,
   "metadata": {
    "ExecuteTime": {
     "end_time": "2022-03-31T22:00:34.924757Z",
     "start_time": "2022-03-31T22:00:34.921650Z"
    }
   },
   "outputs": [],
   "source": [
    "#visualizer.predict(X_potentials[cols])"
   ]
  },
  {
   "cell_type": "code",
   "execution_count": 82,
   "metadata": {
    "ExecuteTime": {
     "end_time": "2022-03-31T22:00:35.116722Z",
     "start_time": "2022-03-31T22:00:34.926023Z"
    }
   },
   "outputs": [
    {
     "data": {
      "text/plain": [
       "array([596617.18627878])"
      ]
     },
     "execution_count": 82,
     "metadata": {},
     "output_type": "execute_result"
    }
   ],
   "source": [
    "lr = LinearRegression()\n",
    "lr.fit(X_train[cols], y_train)\n",
    "lr.predict(X_potentials[cols])"
   ]
  },
  {
   "cell_type": "code",
   "execution_count": 83,
   "metadata": {
    "ExecuteTime": {
     "end_time": "2022-03-31T22:00:35.125478Z",
     "start_time": "2022-03-31T22:00:35.117911Z"
    }
   },
   "outputs": [
    {
     "data": {
      "text/html": [
       "<div>\n",
       "<style scoped>\n",
       "    .dataframe tbody tr th:only-of-type {\n",
       "        vertical-align: middle;\n",
       "    }\n",
       "\n",
       "    .dataframe tbody tr th {\n",
       "        vertical-align: top;\n",
       "    }\n",
       "\n",
       "    .dataframe thead th {\n",
       "        text-align: right;\n",
       "    }\n",
       "</style>\n",
       "<table border=\"1\" class=\"dataframe\">\n",
       "  <thead>\n",
       "    <tr style=\"text-align: right;\">\n",
       "      <th></th>\n",
       "      <th>price</th>\n",
       "    </tr>\n",
       "    <tr>\n",
       "      <th>grade</th>\n",
       "      <th></th>\n",
       "    </tr>\n",
       "  </thead>\n",
       "  <tbody>\n",
       "    <tr>\n",
       "      <th>7 Average</th>\n",
       "      <td>3.348060e+09</td>\n",
       "    </tr>\n",
       "    <tr>\n",
       "      <th>8 Good</th>\n",
       "      <td>2.764695e+09</td>\n",
       "    </tr>\n",
       "    <tr>\n",
       "      <th>9 Better</th>\n",
       "      <td>1.290100e+09</td>\n",
       "    </tr>\n",
       "    <tr>\n",
       "      <th>6 Low Average</th>\n",
       "      <td>5.618325e+08</td>\n",
       "    </tr>\n",
       "    <tr>\n",
       "      <th>10 Very Good</th>\n",
       "      <td>4.126852e+08</td>\n",
       "    </tr>\n",
       "    <tr>\n",
       "      <th>11 Excellent</th>\n",
       "      <td>7.061156e+07</td>\n",
       "    </tr>\n",
       "    <tr>\n",
       "      <th>5 Fair</th>\n",
       "      <td>4.780555e+07</td>\n",
       "    </tr>\n",
       "    <tr>\n",
       "      <th>4 Low</th>\n",
       "      <td>3.962050e+06</td>\n",
       "    </tr>\n",
       "  </tbody>\n",
       "</table>\n",
       "</div>"
      ],
      "text/plain": [
       "                      price\n",
       "grade                      \n",
       "7 Average      3.348060e+09\n",
       "8 Good         2.764695e+09\n",
       "9 Better       1.290100e+09\n",
       "6 Low Average  5.618325e+08\n",
       "10 Very Good   4.126852e+08\n",
       "11 Excellent   7.061156e+07\n",
       "5 Fair         4.780555e+07\n",
       "4 Low          3.962050e+06"
      ]
     },
     "execution_count": 83,
     "metadata": {},
     "output_type": "execute_result"
    }
   ],
   "source": [
    "df2 = df.filter(['price', 'grade'])\n",
    "df2.groupby(['grade']).sum().sort_values(['price'], ascending=False)"
   ]
  },
  {
   "cell_type": "code",
   "execution_count": 102,
   "metadata": {
    "ExecuteTime": {
     "end_time": "2022-03-31T22:13:59.267289Z",
     "start_time": "2022-03-31T22:13:59.130187Z"
    },
    "scrolled": true
   },
   "outputs": [
    {
     "data": {
      "image/png": "[encoded data removed]",
      "text/plain": [
       "<Figure size 720x432 with 1 Axes>"
      ]
     },
     "metadata": {
      "needs_background": "light"
     },
     "output_type": "display_data"
    }
   ],
   "source": [
    "grade_vs_price = df2.groupby(['grade']).sum().sort_values(['price'], ascending=False)\n",
    "\n",
    "fig, ax = plt.subplots(figsize=(10,6))\n",
    "\n",
    "ax.barh(y=grade_vs_price.index, width=grade_vs_price['price'], color=\"navy\")\n",
    "ax.invert_yaxis()\n",
    "ax.set_title('Grade and Revenue')\n",
    "ax.set_ylabel('Grade')\n",
    "ax.set_xlabel('Potential Revenue');"
   ]
  },
  {
   "cell_type": "code",
   "execution_count": 105,
   "metadata": {
    "ExecuteTime": {
     "end_time": "2022-03-31T22:15:04.421133Z",
     "start_time": "2022-03-31T22:15:04.243385Z"
    }
   },
   "outputs": [
    {
     "data": {
      "image/png": "[encoded data removed]",
      "text/plain": [
       "<Figure size 1152x432 with 2 Axes>"
      ]
     },
     "metadata": {
      "needs_background": "light"
     },
     "output_type": "display_data"
    }
   ],
   "source": [
    "df2 = df.filter(['price', 'condition'])\n",
    "df2.groupby(['condition']).sum().sort_values(['price'], ascending=False)\n",
    "grade_vs_price = df2.groupby(['condition']).sum().sort_values(['price'], ascending=False)\n",
    "\n",
    "fig, (ax2, ax1) = plt.subplots(figsize=(16,6), ncols=2)\n",
    "ax1.grid(False)\n",
    "ax2.grid(False)\n",
    "\n",
    "ax1.barh(y=grade_vs_price.index, width=grade_vs_price['price'], color=\"navy\")\n",
    "ax1.invert_yaxis()\n",
    "ax1.set_title('Condition and Revenue')\n",
    "#ax1.set_ylabel('Grade')\n",
    "ax1.set_xlabel('Potential Revenue')\n",
    "\n",
    "grade_vs_price = df2.groupby(['condition']).mean().sort_values(['price'], ascending=False)\n",
    "\n",
    "ax2.barh(y=grade_vs_price.index, width=grade_vs_price['price'], color=\"navy\")\n",
    "ax2.invert_yaxis()\n",
    "ax2.set_title('Condition and Average Price')\n",
    "ax2.set_ylabel('Condition')\n",
    "ax2.set_xlabel('Average Price');"
   ]
  },
  {
   "cell_type": "code",
   "execution_count": 86,
   "metadata": {
    "ExecuteTime": {
     "end_time": "2022-03-31T22:00:35.374835Z",
     "start_time": "2022-03-31T22:00:35.370183Z"
    }
   },
   "outputs": [
    {
     "data": {
      "text/plain": [
       "NONE         16870\n",
       "AVERAGE        681\n",
       "GOOD           257\n",
       "FAIR           246\n",
       "EXCELLENT      104\n",
       "Name: view, dtype: int64"
      ]
     },
     "execution_count": 86,
     "metadata": {},
     "output_type": "execute_result"
    }
   ],
   "source": [
    "df.view.value_counts()"
   ]
  },
  {
   "cell_type": "code",
   "execution_count": null,
   "metadata": {},
   "outputs": [],
   "source": []
  },
  {
   "cell_type": "code",
   "execution_count": null,
   "metadata": {},
   "outputs": [],
   "source": []
  },
  {
   "cell_type": "code",
   "execution_count": null,
   "metadata": {},
   "outputs": [],
   "source": []
  },
  {
   "cell_type": "code",
   "execution_count": 87,
   "metadata": {
    "ExecuteTime": {
     "end_time": "2022-03-31T22:00:35.378668Z",
     "start_time": "2022-03-31T22:00:35.375897Z"
    }
   },
   "outputs": [
    {
     "data": {
      "text/plain": [
       "12"
      ]
     },
     "execution_count": 87,
     "metadata": {},
     "output_type": "execute_result"
    }
   ],
   "source": [
    "sum(model.pvalues > .05)"
   ]
  },
  {
   "cell_type": "code",
   "execution_count": 88,
   "metadata": {
    "ExecuteTime": {
     "end_time": "2022-03-31T22:00:35.382549Z",
     "start_time": "2022-03-31T22:00:35.379533Z"
    }
   },
   "outputs": [
    {
     "data": {
      "text/plain": [
       "0.14285714285714285"
      ]
     },
     "execution_count": 88,
     "metadata": {},
     "output_type": "execute_result"
    }
   ],
   "source": [
    "sum(model.pvalues > .05) / len(model.pvalues)"
   ]
  },
  {
   "cell_type": "code",
   "execution_count": 89,
   "metadata": {
    "ExecuteTime": {
     "end_time": "2022-03-31T22:00:35.386326Z",
     "start_time": "2022-03-31T22:00:35.383467Z"
    }
   },
   "outputs": [
    {
     "data": {
      "text/plain": [
       "12"
      ]
     },
     "execution_count": 89,
     "metadata": {},
     "output_type": "execute_result"
    }
   ],
   "source": [
    "sum(model.pvalues > .05)"
   ]
  },
  {
   "cell_type": "code",
   "execution_count": 90,
   "metadata": {
    "ExecuteTime": {
     "end_time": "2022-03-31T22:00:35.390284Z",
     "start_time": "2022-03-31T22:00:35.387350Z"
    },
    "scrolled": true
   },
   "outputs": [
    {
     "data": {
      "text/plain": [
       "0.14285714285714285"
      ]
     },
     "execution_count": 90,
     "metadata": {},
     "output_type": "execute_result"
    }
   ],
   "source": [
    "sum(model.pvalues > .05) / len(model.pvalues)"
   ]
  },
  {
   "cell_type": "code",
   "execution_count": null,
   "metadata": {},
   "outputs": [],
   "source": []
  },
  {
   "cell_type": "code",
   "execution_count": 91,
   "metadata": {
    "ExecuteTime": {
     "end_time": "2022-03-31T22:00:35.395181Z",
     "start_time": "2022-03-31T22:00:35.391182Z"
    }
   },
   "outputs": [
    {
     "data": {
      "text/plain": [
       "<bound method Series.unique of const               553715.604637\n",
       "sqft_living            125.792783\n",
       "sqft_living15           70.539224\n",
       "bathrooms            15673.178950\n",
       "yr_built              -348.158115\n",
       "                        ...      \n",
       "zipcode_x0_98177    226790.925351\n",
       "zipcode_x0_98178     67488.435230\n",
       "zipcode_x0_98188     42738.005594\n",
       "zipcode_x0_98198     50406.723214\n",
       "zipcode_x0_98199    373352.037656\n",
       "Length: 84, dtype: float64>"
      ]
     },
     "execution_count": 91,
     "metadata": {},
     "output_type": "execute_result"
    }
   ],
   "source": [
    "model.params.unique"
   ]
  },
  {
   "cell_type": "code",
   "execution_count": null,
   "metadata": {
    "ExecuteTime": {
     "end_time": "2022-03-30T20:56:32.729016Z",
     "start_time": "2022-03-30T20:56:32.714013Z"
    }
   },
   "outputs": [],
   "source": []
  },
  {
   "cell_type": "code",
   "execution_count": 92,
   "metadata": {
    "ExecuteTime": {
     "end_time": "2022-03-31T22:00:35.400263Z",
     "start_time": "2022-03-31T22:00:35.396204Z"
    },
    "scrolled": true
   },
   "outputs": [
    {
     "data": {
      "text/plain": [
       "2.000000    2967\n",
       "1.600000    2108\n",
       "1.200000    2022\n",
       "3.000000    1696\n",
       "1.714286    1669\n",
       "            ... \n",
       "1.555556       1\n",
       "1.052632       1\n",
       "3.666667       1\n",
       "1.473684       1\n",
       "7.000000       1\n",
       "Length: 73, dtype: int64"
      ]
     },
     "execution_count": 92,
     "metadata": {},
     "output_type": "execute_result"
    }
   ],
   "source": [
    "(df.bedrooms/df.bathrooms).value_counts()"
   ]
  },
  {
   "cell_type": "code",
   "execution_count": 93,
   "metadata": {
    "ExecuteTime": {
     "end_time": "2022-03-31T22:00:35.405511Z",
     "start_time": "2022-03-31T22:00:35.401370Z"
    }
   },
   "outputs": [
    {
     "data": {
      "text/plain": [
       "350000.0    156\n",
       "450000.0    150\n",
       "325000.0    140\n",
       "550000.0    137\n",
       "425000.0    137\n",
       "           ... \n",
       "575575.0      1\n",
       "837700.0      1\n",
       "575550.0      1\n",
       "739375.0      1\n",
       "884744.0      1\n",
       "Name: price, Length: 3274, dtype: int64"
      ]
     },
     "execution_count": 93,
     "metadata": {},
     "output_type": "execute_result"
    }
   ],
   "source": [
    "df.price.value_counts()"
   ]
  },
  {
   "cell_type": "code",
   "execution_count": 94,
   "metadata": {
    "ExecuteTime": {
     "end_time": "2022-03-31T22:00:35.410981Z",
     "start_time": "2022-03-31T22:00:35.406576Z"
    }
   },
   "outputs": [
    {
     "data": {
      "text/plain": [
       "NONE         16870\n",
       "AVERAGE        681\n",
       "GOOD           257\n",
       "FAIR           246\n",
       "EXCELLENT      104\n",
       "Name: view, dtype: int64"
      ]
     },
     "execution_count": 94,
     "metadata": {},
     "output_type": "execute_result"
    }
   ],
   "source": [
    "df.view.value_counts()"
   ]
  },
  {
   "cell_type": "code",
   "execution_count": 95,
   "metadata": {
    "ExecuteTime": {
     "end_time": "2022-03-31T22:00:35.417124Z",
     "start_time": "2022-03-31T22:00:35.411907Z"
    }
   },
   "outputs": [
    {
     "data": {
      "text/plain": [
       "Average      11900\n",
       "Good          4726\n",
       "Very Good     1433\n",
       "Fair           132\n",
       "Poor            21\n",
       "Name: condition, dtype: int64"
      ]
     },
     "execution_count": 95,
     "metadata": {},
     "output_type": "execute_result"
    }
   ],
   "source": [
    "df.condition.value_counts()"
   ]
  },
  {
   "cell_type": "code",
   "execution_count": 96,
   "metadata": {
    "ExecuteTime": {
     "end_time": "2022-03-31T22:00:35.421955Z",
     "start_time": "2022-03-31T22:00:35.418273Z"
    }
   },
   "outputs": [
    {
     "data": {
      "text/plain": [
       "3     8610\n",
       "4     5480\n",
       "2     2547\n",
       "5     1167\n",
       "6      197\n",
       "1      171\n",
       "7       24\n",
       "8        9\n",
       "9        4\n",
       "10       2\n",
       "11       1\n",
       "Name: bedrooms, dtype: int64"
      ]
     },
     "execution_count": 96,
     "metadata": {},
     "output_type": "execute_result"
    }
   ],
   "source": [
    "df.bedrooms.value_counts()"
   ]
  },
  {
   "cell_type": "code",
   "execution_count": 97,
   "metadata": {
    "ExecuteTime": {
     "end_time": "2022-03-31T22:00:35.426844Z",
     "start_time": "2022-03-31T22:00:35.423103Z"
    }
   },
   "outputs": [
    {
     "data": {
      "text/plain": [
       "2.50    4550\n",
       "1.00    3601\n",
       "1.75    2692\n",
       "2.00    1741\n",
       "2.25    1718\n",
       "1.50    1330\n",
       "2.75     951\n",
       "3.00     566\n",
       "3.50     454\n",
       "3.25     345\n",
       "3.75      67\n",
       "4.00      59\n",
       "0.75      53\n",
       "4.50      40\n",
       "4.25      18\n",
       "1.25       7\n",
       "5.00       6\n",
       "4.75       4\n",
       "0.50       4\n",
       "5.25       3\n",
       "7.50       1\n",
       "5.50       1\n",
       "5.75       1\n",
       "Name: bathrooms, dtype: int64"
      ]
     },
     "execution_count": 97,
     "metadata": {},
     "output_type": "execute_result"
    }
   ],
   "source": [
    "df.bathrooms.value_counts()"
   ]
  },
  {
   "cell_type": "code",
   "execution_count": 98,
   "metadata": {
    "ExecuteTime": {
     "end_time": "2022-03-31T22:00:35.431195Z",
     "start_time": "2022-03-31T22:00:35.427697Z"
    }
   },
   "outputs": [
    {
     "data": {
      "text/plain": [
       "2014    505\n",
       "2005    401\n",
       "2006    391\n",
       "2003    385\n",
       "2004    378\n",
       "       ... \n",
       "1901     28\n",
       "1902     24\n",
       "1933     15\n",
       "1935     15\n",
       "1934     14\n",
       "Name: yr_built, Length: 116, dtype: int64"
      ]
     },
     "execution_count": 98,
     "metadata": {},
     "output_type": "execute_result"
    }
   ],
   "source": [
    "df.yr_built.value_counts()"
   ]
  },
  {
   "cell_type": "code",
   "execution_count": 99,
   "metadata": {
    "ExecuteTime": {
     "end_time": "2022-03-31T22:00:35.435241Z",
     "start_time": "2022-03-31T22:00:35.432088Z"
    }
   },
   "outputs": [
    {
     "data": {
      "text/plain": [
       "426000.0"
      ]
     },
     "execution_count": 99,
     "metadata": {},
     "output_type": "execute_result"
    }
   ],
   "source": [
    "df.price.median()"
   ]
  },
  {
   "cell_type": "code",
   "execution_count": 100,
   "metadata": {
    "ExecuteTime": {
     "end_time": "2022-03-31T22:00:35.440033Z",
     "start_time": "2022-03-31T22:00:35.436390Z"
    }
   },
   "outputs": [
    {
     "data": {
      "text/plain": [
       "466711.58554799034"
      ]
     },
     "execution_count": 100,
     "metadata": {},
     "output_type": "execute_result"
    }
   ],
   "source": [
    "df.price.mean()"
   ]
  },
  {
   "cell_type": "markdown",
   "metadata": {},
   "source": [
    "Recommendations"
   ]
  },
  {
   "cell_type": "markdown",
   "metadata": {},
   "source": [
    "Next steps"
   ]
  },
  {
   "cell_type": "code",
   "execution_count": null,
   "metadata": {},
   "outputs": [],
   "source": []
  }
 ],
 "metadata": {
  "kernelspec": {
   "display_name": "Python (learn-env)",
   "language": "python",
   "name": "learn-env"
  },
  "language_info": {
   "codemirror_mode": {
    "name": "ipython",
    "version": 3
   },
   "file_extension": ".py",
   "mimetype": "text/x-python",
   "name": "python",
   "nbconvert_exporter": "python",
   "pygments_lexer": "ipython3",
   "version": "3.8.5"
  },
  "toc": {
   "base_numbering": "",
   "nav_menu": {},
   "number_sections": false,
   "sideBar": true,
   "skip_h1_title": false,
   "title_cell": "Table of Contents",
   "title_sidebar": "Contents",
   "toc_cell": true,
   "toc_position": {
    "height": "calc(100% - 180px)",
    "left": "10px",
    "top": "150px",
    "width": "298.094px"
   },
   "toc_section_display": true,
   "toc_window_display": false
  }
 },
 "nbformat": 4,
 "nbformat_minor": 4
}
