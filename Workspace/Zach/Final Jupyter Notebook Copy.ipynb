{
 "cells": [
  {
   "cell_type": "markdown",
   "metadata": {
    "toc": true
   },
   "source": [
    "<h1>Table of Contents<span class=\"tocSkip\"></span></h1>\n",
    "<div class=\"toc\"><ul class=\"toc-item\"><li><span><a href=\"#Phase-2-Project\" data-toc-modified-id=\"Phase-2-Project-0\">Phase 2 Project</a></span><ul class=\"toc-item\"><li><span><a href=\"#Business-Understanding\" data-toc-modified-id=\"Business-Understanding-0.1\">Business Understanding</a></span></li><li><span><a href=\"#Data-Understanding\" data-toc-modified-id=\"Data-Understanding-0.2\">Data Understanding</a></span><ul class=\"toc-item\"><li><span><a href=\"#Importing-Libraries\" data-toc-modified-id=\"Importing-Libraries-0.2.1\">Importing Libraries</a></span></li></ul></li><li><span><a href=\"#Data-Preparation\" data-toc-modified-id=\"Data-Preparation-0.3\">Data Preparation</a></span><ul class=\"toc-item\"><li><ul class=\"toc-item\"><li><span><a href=\"#Drops\" data-toc-modified-id=\"Drops-0.3.0.1\">Drops</a></span></li><li><span><a href=\"#Removing-Outliers\" data-toc-modified-id=\"Removing-Outliers-0.3.0.2\">Removing Outliers</a></span></li></ul></li><li><span><a href=\"#Helper-Functions\" data-toc-modified-id=\"Helper-Functions-0.3.1\">Helper Functions</a></span></li><li><span><a href=\"#The-Train-Test-Split\" data-toc-modified-id=\"The-Train-Test-Split-0.3.2\">The Train-Test Split</a></span></li><li><span><a href=\"#Categorical-Variables\" data-toc-modified-id=\"Categorical-Variables-0.3.3\">Categorical Variables</a></span><ul class=\"toc-item\"><li><span><a href=\"#Waterfront\" data-toc-modified-id=\"Waterfront-0.3.3.1\">Waterfront</a></span></li><li><span><a href=\"#View\" data-toc-modified-id=\"View-0.3.3.2\">View</a></span></li><li><span><a href=\"#Condition\" data-toc-modified-id=\"Condition-0.3.3.3\">Condition</a></span></li><li><span><a href=\"#Grade\" data-toc-modified-id=\"Grade-0.3.3.4\">Grade</a></span></li><li><span><a href=\"#Zipcode\" data-toc-modified-id=\"Zipcode-0.3.3.5\">Zipcode</a></span></li><li><span><a href=\"#Bedroom_bins\" data-toc-modified-id=\"Bedroom_bins-0.3.3.6\">Bedroom_bins</a></span></li></ul></li><li><span><a href=\"#Our-iterative-modeling-process\" data-toc-modified-id=\"Our-iterative-modeling-process-0.3.4\">Our iterative modeling process</a></span><ul class=\"toc-item\"><li><span><a href=\"#Base-Model---Dummy-Regressor\" data-toc-modified-id=\"Base-Model---Dummy-Regressor-0.3.4.1\">Base Model - Dummy Regressor</a></span></li><li><span><a href=\"#Model-1\" data-toc-modified-id=\"Model-1-0.3.4.2\">Model 1</a></span></li><li><span><a href=\"#Model-2\" data-toc-modified-id=\"Model-2-0.3.4.3\">Model 2</a></span></li><li><span><a href=\"#Model-3\" data-toc-modified-id=\"Model-3-0.3.4.4\">Model 3</a></span></li><li><span><a href=\"#Model-4\" data-toc-modified-id=\"Model-4-0.3.4.5\">Model 4</a></span></li><li><span><a href=\"#Model-5\" data-toc-modified-id=\"Model-5-0.3.4.6\">Model 5</a></span></li><li><span><a href=\"#Model-6\" data-toc-modified-id=\"Model-6-0.3.4.7\">Model 6</a></span></li><li><span><a href=\"#Model-7\" data-toc-modified-id=\"Model-7-0.3.4.8\">Model 7</a></span></li><li><span><a href=\"#Model-8\" data-toc-modified-id=\"Model-8-0.3.4.9\">Model 8</a></span></li></ul></li><li><span><a href=\"#Predictions-from-model-8\" data-toc-modified-id=\"Predictions-from-model-8-0.3.5\">Predictions from model 8</a></span></li></ul></li></ul></li></ul></div>"
   ]
  },
  {
   "cell_type": "markdown",
   "metadata": {},
   "source": [
    "# Phase 2 Project"
   ]
  },
  {
   "cell_type": "markdown",
   "metadata": {},
   "source": [
    "## Business Understanding"
   ]
  },
  {
   "cell_type": "markdown",
   "metadata": {},
   "source": [
    "Our chosen stakeholder is the real-estate agency Keller Williams, who's looking to expand into King County in Washington. They want an analytically supported strategy based on inferential and predictive analysis of the data available on the king county website. Our approach to formulating the business question was to first define our recommended strategy and formulate the business question around it. Accordingly, we formulated three questions that we wanted to answer using our data analysis and based our recommendations on those questions. "
   ]
  },
  {
   "cell_type": "markdown",
   "metadata": {},
   "source": [
    "## Data Understanding"
   ]
  },
  {
   "cell_type": "markdown",
   "metadata": {},
   "source": [
    "The data that we used originally came from the King County website. It contains a good mix of categorical and numerical data. We wanted to focus on variables that corresponded to features that determine that demand of the any given house. "
   ]
  },
  {
   "cell_type": "markdown",
   "metadata": {},
   "source": [
    "### Importing Libraries"
   ]
  },
  {
   "cell_type": "code",
   "execution_count": 108,
   "metadata": {
    "ExecuteTime": {
     "end_time": "2022-04-01T13:55:21.744159Z",
     "start_time": "2022-04-01T13:55:21.723076Z"
    }
   },
   "outputs": [],
   "source": [
    "import pandas as pd\n",
    "import numpy as np\n",
    "import seaborn as sns\n",
    "import warnings\n",
    "warnings.filterwarnings(action='ignore')\n",
    "import matplotlib.pyplot as plt\n",
    "#from yellowbrick.regressor import ResidualsPlot\n",
    "import statsmodels.api as sm\n",
    "from statsmodels.api import OLS\n",
    "\n",
    "#SKLearn stuff\n",
    "from sklearn.model_selection import train_test_split\n",
    "from sklearn.dummy import DummyRegressor\n",
    "from sklearn.pipeline import make_pipeline\n",
    "from sklearn.preprocessing import StandardScaler, PolynomialFeatures, OrdinalEncoder, OneHotEncoder\n",
    "from sklearn.compose import ColumnTransformer\n",
    "from sklearn.linear_model import LinearRegression\n",
    "from sklearn.metrics import r2_score, mean_squared_error, mean_absolute_error"
   ]
  },
  {
   "cell_type": "markdown",
   "metadata": {},
   "source": [
    "The libraries that we have imported are libraries that we used throughout this project, in data preparation and modeling sections."
   ]
  },
  {
   "cell_type": "code",
   "execution_count": 109,
   "metadata": {
    "ExecuteTime": {
     "end_time": "2022-04-01T13:55:21.872231Z",
     "start_time": "2022-04-01T13:55:21.747813Z"
    },
    "scrolled": false
   },
   "outputs": [
    {
     "data": {
      "text/html": [
       "<div>\n",
       "<style scoped>\n",
       "    .dataframe tbody tr th:only-of-type {\n",
       "        vertical-align: middle;\n",
       "    }\n",
       "\n",
       "    .dataframe tbody tr th {\n",
       "        vertical-align: top;\n",
       "    }\n",
       "\n",
       "    .dataframe thead th {\n",
       "        text-align: right;\n",
       "    }\n",
       "</style>\n",
       "<table border=\"1\" class=\"dataframe\">\n",
       "  <thead>\n",
       "    <tr style=\"text-align: right;\">\n",
       "      <th></th>\n",
       "      <th>id</th>\n",
       "      <th>date</th>\n",
       "      <th>price</th>\n",
       "      <th>bedrooms</th>\n",
       "      <th>bathrooms</th>\n",
       "      <th>sqft_living</th>\n",
       "      <th>sqft_lot</th>\n",
       "      <th>floors</th>\n",
       "      <th>waterfront</th>\n",
       "      <th>view</th>\n",
       "      <th>...</th>\n",
       "      <th>grade</th>\n",
       "      <th>sqft_above</th>\n",
       "      <th>sqft_basement</th>\n",
       "      <th>yr_built</th>\n",
       "      <th>yr_renovated</th>\n",
       "      <th>zipcode</th>\n",
       "      <th>lat</th>\n",
       "      <th>long</th>\n",
       "      <th>sqft_living15</th>\n",
       "      <th>sqft_lot15</th>\n",
       "    </tr>\n",
       "  </thead>\n",
       "  <tbody>\n",
       "    <tr>\n",
       "      <th>0</th>\n",
       "      <td>7129300520</td>\n",
       "      <td>10/13/2014</td>\n",
       "      <td>221900.0</td>\n",
       "      <td>3</td>\n",
       "      <td>1.00</td>\n",
       "      <td>1180</td>\n",
       "      <td>5650</td>\n",
       "      <td>1.0</td>\n",
       "      <td>NaN</td>\n",
       "      <td>NONE</td>\n",
       "      <td>...</td>\n",
       "      <td>7 Average</td>\n",
       "      <td>1180</td>\n",
       "      <td>0.0</td>\n",
       "      <td>1955</td>\n",
       "      <td>0.0</td>\n",
       "      <td>98178</td>\n",
       "      <td>47.5112</td>\n",
       "      <td>-122.257</td>\n",
       "      <td>1340</td>\n",
       "      <td>5650</td>\n",
       "    </tr>\n",
       "    <tr>\n",
       "      <th>1</th>\n",
       "      <td>6414100192</td>\n",
       "      <td>12/9/2014</td>\n",
       "      <td>538000.0</td>\n",
       "      <td>3</td>\n",
       "      <td>2.25</td>\n",
       "      <td>2570</td>\n",
       "      <td>7242</td>\n",
       "      <td>2.0</td>\n",
       "      <td>NO</td>\n",
       "      <td>NONE</td>\n",
       "      <td>...</td>\n",
       "      <td>7 Average</td>\n",
       "      <td>2170</td>\n",
       "      <td>400.0</td>\n",
       "      <td>1951</td>\n",
       "      <td>1991.0</td>\n",
       "      <td>98125</td>\n",
       "      <td>47.7210</td>\n",
       "      <td>-122.319</td>\n",
       "      <td>1690</td>\n",
       "      <td>7639</td>\n",
       "    </tr>\n",
       "    <tr>\n",
       "      <th>2</th>\n",
       "      <td>5631500400</td>\n",
       "      <td>2/25/2015</td>\n",
       "      <td>180000.0</td>\n",
       "      <td>2</td>\n",
       "      <td>1.00</td>\n",
       "      <td>770</td>\n",
       "      <td>10000</td>\n",
       "      <td>1.0</td>\n",
       "      <td>NO</td>\n",
       "      <td>NONE</td>\n",
       "      <td>...</td>\n",
       "      <td>6 Low Average</td>\n",
       "      <td>770</td>\n",
       "      <td>0.0</td>\n",
       "      <td>1933</td>\n",
       "      <td>NaN</td>\n",
       "      <td>98028</td>\n",
       "      <td>47.7379</td>\n",
       "      <td>-122.233</td>\n",
       "      <td>2720</td>\n",
       "      <td>8062</td>\n",
       "    </tr>\n",
       "    <tr>\n",
       "      <th>3</th>\n",
       "      <td>2487200875</td>\n",
       "      <td>12/9/2014</td>\n",
       "      <td>604000.0</td>\n",
       "      <td>4</td>\n",
       "      <td>3.00</td>\n",
       "      <td>1960</td>\n",
       "      <td>5000</td>\n",
       "      <td>1.0</td>\n",
       "      <td>NO</td>\n",
       "      <td>NONE</td>\n",
       "      <td>...</td>\n",
       "      <td>7 Average</td>\n",
       "      <td>1050</td>\n",
       "      <td>910.0</td>\n",
       "      <td>1965</td>\n",
       "      <td>0.0</td>\n",
       "      <td>98136</td>\n",
       "      <td>47.5208</td>\n",
       "      <td>-122.393</td>\n",
       "      <td>1360</td>\n",
       "      <td>5000</td>\n",
       "    </tr>\n",
       "    <tr>\n",
       "      <th>4</th>\n",
       "      <td>1954400510</td>\n",
       "      <td>2/18/2015</td>\n",
       "      <td>510000.0</td>\n",
       "      <td>3</td>\n",
       "      <td>2.00</td>\n",
       "      <td>1680</td>\n",
       "      <td>8080</td>\n",
       "      <td>1.0</td>\n",
       "      <td>NO</td>\n",
       "      <td>NONE</td>\n",
       "      <td>...</td>\n",
       "      <td>8 Good</td>\n",
       "      <td>1680</td>\n",
       "      <td>0.0</td>\n",
       "      <td>1987</td>\n",
       "      <td>0.0</td>\n",
       "      <td>98074</td>\n",
       "      <td>47.6168</td>\n",
       "      <td>-122.045</td>\n",
       "      <td>1800</td>\n",
       "      <td>7503</td>\n",
       "    </tr>\n",
       "  </tbody>\n",
       "</table>\n",
       "<p>5 rows × 21 columns</p>\n",
       "</div>"
      ],
      "text/plain": [
       "           id        date     price  bedrooms  bathrooms  sqft_living  \\\n",
       "0  7129300520  10/13/2014  221900.0         3       1.00         1180   \n",
       "1  6414100192   12/9/2014  538000.0         3       2.25         2570   \n",
       "2  5631500400   2/25/2015  180000.0         2       1.00          770   \n",
       "3  2487200875   12/9/2014  604000.0         4       3.00         1960   \n",
       "4  1954400510   2/18/2015  510000.0         3       2.00         1680   \n",
       "\n",
       "   sqft_lot  floors waterfront  view  ...          grade sqft_above  \\\n",
       "0      5650     1.0        NaN  NONE  ...      7 Average       1180   \n",
       "1      7242     2.0         NO  NONE  ...      7 Average       2170   \n",
       "2     10000     1.0         NO  NONE  ...  6 Low Average        770   \n",
       "3      5000     1.0         NO  NONE  ...      7 Average       1050   \n",
       "4      8080     1.0         NO  NONE  ...         8 Good       1680   \n",
       "\n",
       "   sqft_basement yr_built  yr_renovated  zipcode      lat     long  \\\n",
       "0            0.0     1955           0.0    98178  47.5112 -122.257   \n",
       "1          400.0     1951        1991.0    98125  47.7210 -122.319   \n",
       "2            0.0     1933           NaN    98028  47.7379 -122.233   \n",
       "3          910.0     1965           0.0    98136  47.5208 -122.393   \n",
       "4            0.0     1987           0.0    98074  47.6168 -122.045   \n",
       "\n",
       "   sqft_living15  sqft_lot15  \n",
       "0           1340        5650  \n",
       "1           1690        7639  \n",
       "2           2720        8062  \n",
       "3           1360        5000  \n",
       "4           1800        7503  \n",
       "\n",
       "[5 rows x 21 columns]"
      ]
     },
     "execution_count": 109,
     "metadata": {},
     "output_type": "execute_result"
    }
   ],
   "source": [
    "df = pd.read_csv('../../data/kc_house_data.csv')\n",
    "df.head()"
   ]
  },
  {
   "cell_type": "markdown",
   "metadata": {},
   "source": [
    "The table above illustrates the raw data set and how its formatted, while the table below lists all the columns in the data set and what data type the information in that column is. Furthermore, it also gives us an initial idea of the proportion of missing (null) values there are in each column. "
   ]
  },
  {
   "cell_type": "code",
   "execution_count": 110,
   "metadata": {
    "ExecuteTime": {
     "end_time": "2022-04-01T13:55:21.893457Z",
     "start_time": "2022-04-01T13:55:21.873852Z"
    },
    "scrolled": true
   },
   "outputs": [
    {
     "name": "stdout",
     "output_type": "stream",
     "text": [
      "<class 'pandas.core.frame.DataFrame'>\n",
      "RangeIndex: 21597 entries, 0 to 21596\n",
      "Data columns (total 21 columns):\n",
      " #   Column         Non-Null Count  Dtype  \n",
      "---  ------         --------------  -----  \n",
      " 0   id             21597 non-null  int64  \n",
      " 1   date           21597 non-null  object \n",
      " 2   price          21597 non-null  float64\n",
      " 3   bedrooms       21597 non-null  int64  \n",
      " 4   bathrooms      21597 non-null  float64\n",
      " 5   sqft_living    21597 non-null  int64  \n",
      " 6   sqft_lot       21597 non-null  int64  \n",
      " 7   floors         21597 non-null  float64\n",
      " 8   waterfront     19221 non-null  object \n",
      " 9   view           21534 non-null  object \n",
      " 10  condition      21597 non-null  object \n",
      " 11  grade          21597 non-null  object \n",
      " 12  sqft_above     21597 non-null  int64  \n",
      " 13  sqft_basement  21597 non-null  object \n",
      " 14  yr_built       21597 non-null  int64  \n",
      " 15  yr_renovated   17755 non-null  float64\n",
      " 16  zipcode        21597 non-null  int64  \n",
      " 17  lat            21597 non-null  float64\n",
      " 18  long           21597 non-null  float64\n",
      " 19  sqft_living15  21597 non-null  int64  \n",
      " 20  sqft_lot15     21597 non-null  int64  \n",
      "dtypes: float64(6), int64(9), object(6)\n",
      "memory usage: 3.5+ MB\n"
     ]
    }
   ],
   "source": [
    "df.info()"
   ]
  },
  {
   "cell_type": "markdown",
   "metadata": {},
   "source": [
    "## Data Preparation"
   ]
  },
  {
   "cell_type": "markdown",
   "metadata": {},
   "source": [
    "Our approach to data preparation was systematic. First we dropped columns that that didn't have enough data to incorporate into our model and we also removed some extraneous outliers"
   ]
  },
  {
   "cell_type": "markdown",
   "metadata": {},
   "source": [
    "#### Drops"
   ]
  },
  {
   "cell_type": "markdown",
   "metadata": {},
   "source": [
    "We dropped the variable 'yr_renovated' because it was missing values for about 70% of our dataset. Furthermore, we dropped the variables 'id' and 'date' because we felt that those variables will be less reliable predictors. We also dropped an outlier from our data set; a house with 33 bedrooms. We also created a bedrooms bin column to use ahead."
   ]
  },
  {
   "cell_type": "code",
   "execution_count": 111,
   "metadata": {
    "ExecuteTime": {
     "end_time": "2022-04-01T13:55:21.899914Z",
     "start_time": "2022-04-01T13:55:21.894791Z"
    },
    "scrolled": true
   },
   "outputs": [],
   "source": [
    "df = df[df['bedrooms'] != 33]"
   ]
  },
  {
   "cell_type": "code",
   "execution_count": 112,
   "metadata": {
    "ExecuteTime": {
     "end_time": "2022-04-01T13:55:21.907542Z",
     "start_time": "2022-04-01T13:55:21.900881Z"
    }
   },
   "outputs": [],
   "source": [
    "#Making a categorical bedroom columns\n",
    "df['bedrooms_bin']=pd.cut(df['bedrooms'], bins = [0,1,2,3,4,5,6,99], labels=['1BR','2BR','3BR','4BR','5BR','6BR','7+BR'])"
   ]
  },
  {
   "cell_type": "code",
   "execution_count": 113,
   "metadata": {
    "ExecuteTime": {
     "end_time": "2022-04-01T13:55:21.913365Z",
     "start_time": "2022-04-01T13:55:21.908725Z"
    }
   },
   "outputs": [],
   "source": [
    "df = df.drop(['id', 'date', 'yr_renovated','sqft_basement'], axis=1) "
   ]
  },
  {
   "cell_type": "markdown",
   "metadata": {},
   "source": [
    "#### Removing Outliers"
   ]
  },
  {
   "cell_type": "markdown",
   "metadata": {},
   "source": [
    "When looking at removing outliers from our data set, we first used the numpy library to calculate our quantiles to determine which rows are the outliers. Based on the values we calculated for two numerical variables : 'price' and 'sqft_lot', we removed the corresponding rows. Furthermore, for the categorical variable 'grade' we performed the value_counts method in pandas to determine the counts of houses for each grade. Since the grades '3 Poor' and '12 Luxury' only have one record each, we excluded those values from our final processing data set as well."
   ]
  },
  {
   "cell_type": "code",
   "execution_count": 114,
   "metadata": {
    "ExecuteTime": {
     "end_time": "2022-04-01T13:55:21.950114Z",
     "start_time": "2022-04-01T13:55:21.914291Z"
    }
   },
   "outputs": [
    {
     "data": {
      "text/html": [
       "<div>\n",
       "<style scoped>\n",
       "    .dataframe tbody tr th:only-of-type {\n",
       "        vertical-align: middle;\n",
       "    }\n",
       "\n",
       "    .dataframe tbody tr th {\n",
       "        vertical-align: top;\n",
       "    }\n",
       "\n",
       "    .dataframe thead th {\n",
       "        text-align: right;\n",
       "    }\n",
       "</style>\n",
       "<table border=\"1\" class=\"dataframe\">\n",
       "  <thead>\n",
       "    <tr style=\"text-align: right;\">\n",
       "      <th></th>\n",
       "      <th>price</th>\n",
       "      <th>bedrooms</th>\n",
       "      <th>bathrooms</th>\n",
       "      <th>sqft_living</th>\n",
       "      <th>sqft_lot</th>\n",
       "      <th>floors</th>\n",
       "      <th>sqft_above</th>\n",
       "      <th>yr_built</th>\n",
       "      <th>zipcode</th>\n",
       "      <th>lat</th>\n",
       "      <th>long</th>\n",
       "      <th>sqft_living15</th>\n",
       "      <th>sqft_lot15</th>\n",
       "    </tr>\n",
       "  </thead>\n",
       "  <tbody>\n",
       "    <tr>\n",
       "      <th>count</th>\n",
       "      <td>2.159600e+04</td>\n",
       "      <td>21596.000000</td>\n",
       "      <td>21596.000000</td>\n",
       "      <td>21596.000000</td>\n",
       "      <td>2.159600e+04</td>\n",
       "      <td>21596.000000</td>\n",
       "      <td>21596.000000</td>\n",
       "      <td>21596.000000</td>\n",
       "      <td>21596.000000</td>\n",
       "      <td>21596.000000</td>\n",
       "      <td>21596.000000</td>\n",
       "      <td>21596.000000</td>\n",
       "      <td>21596.000000</td>\n",
       "    </tr>\n",
       "    <tr>\n",
       "      <th>mean</th>\n",
       "      <td>5.402920e+05</td>\n",
       "      <td>3.371828</td>\n",
       "      <td>2.115843</td>\n",
       "      <td>2080.343165</td>\n",
       "      <td>1.509983e+04</td>\n",
       "      <td>1.494119</td>\n",
       "      <td>1788.631506</td>\n",
       "      <td>1971.000787</td>\n",
       "      <td>98077.950685</td>\n",
       "      <td>47.560087</td>\n",
       "      <td>-122.213977</td>\n",
       "      <td>1986.650722</td>\n",
       "      <td>12758.656649</td>\n",
       "    </tr>\n",
       "    <tr>\n",
       "      <th>std</th>\n",
       "      <td>3.673760e+05</td>\n",
       "      <td>0.904114</td>\n",
       "      <td>0.768998</td>\n",
       "      <td>918.122038</td>\n",
       "      <td>4.141355e+04</td>\n",
       "      <td>0.539685</td>\n",
       "      <td>827.763251</td>\n",
       "      <td>29.375460</td>\n",
       "      <td>53.514040</td>\n",
       "      <td>0.138552</td>\n",
       "      <td>0.140725</td>\n",
       "      <td>685.231768</td>\n",
       "      <td>27275.018316</td>\n",
       "    </tr>\n",
       "    <tr>\n",
       "      <th>min</th>\n",
       "      <td>7.800000e+04</td>\n",
       "      <td>1.000000</td>\n",
       "      <td>0.500000</td>\n",
       "      <td>370.000000</td>\n",
       "      <td>5.200000e+02</td>\n",
       "      <td>1.000000</td>\n",
       "      <td>370.000000</td>\n",
       "      <td>1900.000000</td>\n",
       "      <td>98001.000000</td>\n",
       "      <td>47.155900</td>\n",
       "      <td>-122.519000</td>\n",
       "      <td>399.000000</td>\n",
       "      <td>651.000000</td>\n",
       "    </tr>\n",
       "    <tr>\n",
       "      <th>25%</th>\n",
       "      <td>3.220000e+05</td>\n",
       "      <td>3.000000</td>\n",
       "      <td>1.750000</td>\n",
       "      <td>1430.000000</td>\n",
       "      <td>5.040000e+03</td>\n",
       "      <td>1.000000</td>\n",
       "      <td>1190.000000</td>\n",
       "      <td>1951.000000</td>\n",
       "      <td>98033.000000</td>\n",
       "      <td>47.471100</td>\n",
       "      <td>-122.328000</td>\n",
       "      <td>1490.000000</td>\n",
       "      <td>5100.000000</td>\n",
       "    </tr>\n",
       "    <tr>\n",
       "      <th>50%</th>\n",
       "      <td>4.500000e+05</td>\n",
       "      <td>3.000000</td>\n",
       "      <td>2.250000</td>\n",
       "      <td>1910.000000</td>\n",
       "      <td>7.619000e+03</td>\n",
       "      <td>1.500000</td>\n",
       "      <td>1560.000000</td>\n",
       "      <td>1975.000000</td>\n",
       "      <td>98065.000000</td>\n",
       "      <td>47.571800</td>\n",
       "      <td>-122.231000</td>\n",
       "      <td>1840.000000</td>\n",
       "      <td>7620.000000</td>\n",
       "    </tr>\n",
       "    <tr>\n",
       "      <th>75%</th>\n",
       "      <td>6.450000e+05</td>\n",
       "      <td>4.000000</td>\n",
       "      <td>2.500000</td>\n",
       "      <td>2550.000000</td>\n",
       "      <td>1.068550e+04</td>\n",
       "      <td>2.000000</td>\n",
       "      <td>2210.000000</td>\n",
       "      <td>1997.000000</td>\n",
       "      <td>98118.000000</td>\n",
       "      <td>47.678000</td>\n",
       "      <td>-122.125000</td>\n",
       "      <td>2360.000000</td>\n",
       "      <td>10083.000000</td>\n",
       "    </tr>\n",
       "    <tr>\n",
       "      <th>max</th>\n",
       "      <td>7.700000e+06</td>\n",
       "      <td>11.000000</td>\n",
       "      <td>8.000000</td>\n",
       "      <td>13540.000000</td>\n",
       "      <td>1.651359e+06</td>\n",
       "      <td>3.500000</td>\n",
       "      <td>9410.000000</td>\n",
       "      <td>2015.000000</td>\n",
       "      <td>98199.000000</td>\n",
       "      <td>47.777600</td>\n",
       "      <td>-121.315000</td>\n",
       "      <td>6210.000000</td>\n",
       "      <td>871200.000000</td>\n",
       "    </tr>\n",
       "  </tbody>\n",
       "</table>\n",
       "</div>"
      ],
      "text/plain": [
       "              price      bedrooms     bathrooms   sqft_living      sqft_lot  \\\n",
       "count  2.159600e+04  21596.000000  21596.000000  21596.000000  2.159600e+04   \n",
       "mean   5.402920e+05      3.371828      2.115843   2080.343165  1.509983e+04   \n",
       "std    3.673760e+05      0.904114      0.768998    918.122038  4.141355e+04   \n",
       "min    7.800000e+04      1.000000      0.500000    370.000000  5.200000e+02   \n",
       "25%    3.220000e+05      3.000000      1.750000   1430.000000  5.040000e+03   \n",
       "50%    4.500000e+05      3.000000      2.250000   1910.000000  7.619000e+03   \n",
       "75%    6.450000e+05      4.000000      2.500000   2550.000000  1.068550e+04   \n",
       "max    7.700000e+06     11.000000      8.000000  13540.000000  1.651359e+06   \n",
       "\n",
       "             floors    sqft_above      yr_built       zipcode           lat  \\\n",
       "count  21596.000000  21596.000000  21596.000000  21596.000000  21596.000000   \n",
       "mean       1.494119   1788.631506   1971.000787  98077.950685     47.560087   \n",
       "std        0.539685    827.763251     29.375460     53.514040      0.138552   \n",
       "min        1.000000    370.000000   1900.000000  98001.000000     47.155900   \n",
       "25%        1.000000   1190.000000   1951.000000  98033.000000     47.471100   \n",
       "50%        1.500000   1560.000000   1975.000000  98065.000000     47.571800   \n",
       "75%        2.000000   2210.000000   1997.000000  98118.000000     47.678000   \n",
       "max        3.500000   9410.000000   2015.000000  98199.000000     47.777600   \n",
       "\n",
       "               long  sqft_living15     sqft_lot15  \n",
       "count  21596.000000   21596.000000   21596.000000  \n",
       "mean    -122.213977    1986.650722   12758.656649  \n",
       "std        0.140725     685.231768   27275.018316  \n",
       "min     -122.519000     399.000000     651.000000  \n",
       "25%     -122.328000    1490.000000    5100.000000  \n",
       "50%     -122.231000    1840.000000    7620.000000  \n",
       "75%     -122.125000    2360.000000   10083.000000  \n",
       "max     -121.315000    6210.000000  871200.000000  "
      ]
     },
     "execution_count": 114,
     "metadata": {},
     "output_type": "execute_result"
    }
   ],
   "source": [
    "df.describe()"
   ]
  },
  {
   "cell_type": "code",
   "execution_count": 115,
   "metadata": {
    "ExecuteTime": {
     "end_time": "2022-04-01T13:55:21.961198Z",
     "start_time": "2022-04-01T13:55:21.952250Z"
    }
   },
   "outputs": [],
   "source": [
    "price_q75, price_q25 = np.percentile(df['price'],[75,25])\n",
    "intr_qrt = price_q75-price_q25\n",
    "upper_price = price_q75 + (1.5*intr_qrt)\n",
    "lower_price = price_q25 - (1.5*intr_qrt)\n",
    "lower_price, upper_price\n",
    "df = df[df['price'] <= upper_price]\n",
    "df = df[df['price'] >= lower_price]"
   ]
  },
  {
   "cell_type": "code",
   "execution_count": 116,
   "metadata": {
    "ExecuteTime": {
     "end_time": "2022-04-01T13:55:21.967874Z",
     "start_time": "2022-04-01T13:55:21.962816Z"
    }
   },
   "outputs": [
    {
     "data": {
      "text/plain": [
       "count    20438.000000\n",
       "mean      1975.207310\n",
       "std        773.812866\n",
       "min        370.000000\n",
       "25%       1400.000000\n",
       "50%       1860.000000\n",
       "75%       2430.000000\n",
       "max       7480.000000\n",
       "Name: sqft_living, dtype: float64"
      ]
     },
     "execution_count": 116,
     "metadata": {},
     "output_type": "execute_result"
    }
   ],
   "source": [
    "df['sqft_living'].describe()"
   ]
  },
  {
   "cell_type": "code",
   "execution_count": 117,
   "metadata": {
    "ExecuteTime": {
     "end_time": "2022-04-01T13:55:21.978402Z",
     "start_time": "2022-04-01T13:55:21.968791Z"
    }
   },
   "outputs": [],
   "source": [
    "sqft_lot_q75, sqft_lot_q25 = np.percentile(df['sqft_living'],[75,25])\n",
    "intr_qrt = sqft_lot_q75-sqft_lot_q25\n",
    "upper_sqft_lot = sqft_lot_q75 + (1.5*intr_qrt)\n",
    "lower_sqft_lot = sqft_lot_q25 - (1.5*intr_qrt)\n",
    "lower_sqft_lot, upper_sqft_lot\n",
    "df = df[df['sqft_living'] <= upper_sqft_lot]\n",
    "df = df[df['sqft_living'] >= lower_sqft_lot]"
   ]
  },
  {
   "cell_type": "code",
   "execution_count": 118,
   "metadata": {
    "ExecuteTime": {
     "end_time": "2022-04-01T13:55:21.985673Z",
     "start_time": "2022-04-01T13:55:21.979647Z"
    }
   },
   "outputs": [
    {
     "data": {
      "text/plain": [
       "count    2.011900e+04\n",
       "mean     1.397409e+04\n",
       "std      3.776507e+04\n",
       "min      5.200000e+02\n",
       "25%      5.000000e+03\n",
       "50%      7.482000e+03\n",
       "75%      1.020000e+04\n",
       "max      1.651359e+06\n",
       "Name: sqft_lot, dtype: float64"
      ]
     },
     "execution_count": 118,
     "metadata": {},
     "output_type": "execute_result"
    }
   ],
   "source": [
    "df['sqft_lot'].describe()"
   ]
  },
  {
   "cell_type": "code",
   "execution_count": 119,
   "metadata": {
    "ExecuteTime": {
     "end_time": "2022-04-01T13:55:21.994956Z",
     "start_time": "2022-04-01T13:55:21.986676Z"
    }
   },
   "outputs": [],
   "source": [
    "sqft_lot_q75, sqft_lot_q25 = np.percentile(df['sqft_lot'],[75,25])\n",
    "intr_qrt = sqft_lot_q75-sqft_lot_q25\n",
    "upper_sqft_lot = sqft_lot_q75 + (1.5*intr_qrt)\n",
    "lower_sqft_lot = sqft_lot_q25 - (1.5*intr_qrt)\n",
    "lower_sqft_lot, upper_sqft_lot\n",
    "df = df[df['sqft_lot'] <= upper_sqft_lot]\n",
    "df = df[df['sqft_lot'] >= lower_sqft_lot]"
   ]
  },
  {
   "cell_type": "code",
   "execution_count": 120,
   "metadata": {
    "ExecuteTime": {
     "end_time": "2022-04-01T13:55:22.001769Z",
     "start_time": "2022-04-01T13:55:21.995943Z"
    }
   },
   "outputs": [
    {
     "data": {
      "text/plain": [
       "count    18011.000000\n",
       "mean      7165.251346\n",
       "std       3418.047906\n",
       "min        520.000000\n",
       "25%       4800.000000\n",
       "50%       7140.000000\n",
       "75%       9158.500000\n",
       "max      18000.000000\n",
       "Name: sqft_lot, dtype: float64"
      ]
     },
     "execution_count": 120,
     "metadata": {},
     "output_type": "execute_result"
    }
   ],
   "source": [
    "df['sqft_lot'].describe()"
   ]
  },
  {
   "cell_type": "code",
   "execution_count": null,
   "metadata": {},
   "outputs": [],
   "source": []
  },
  {
   "cell_type": "code",
   "execution_count": 121,
   "metadata": {
    "ExecuteTime": {
     "end_time": "2022-04-01T13:55:22.010071Z",
     "start_time": "2022-04-01T13:55:22.002787Z"
    },
    "scrolled": true
   },
   "outputs": [
    {
     "data": {
      "text/plain": [
       "7 Average        8351\n",
       "8 Good           5273\n",
       "6 Low Average    1867\n",
       "9 Better         1804\n",
       "10 Very Good      455\n",
       "5 Fair            197\n",
       "11 Excellent       43\n",
       "4 Low              20\n",
       "3 Poor              1\n",
       "Name: grade, dtype: int64"
      ]
     },
     "execution_count": 121,
     "metadata": {},
     "output_type": "execute_result"
    }
   ],
   "source": [
    "df['grade'].value_counts()"
   ]
  },
  {
   "cell_type": "code",
   "execution_count": 122,
   "metadata": {
    "ExecuteTime": {
     "end_time": "2022-04-01T13:55:22.024766Z",
     "start_time": "2022-04-01T13:55:22.011951Z"
    }
   },
   "outputs": [],
   "source": [
    "df = df[df['grade'] != '3 Poor']\n",
    "df = df[df['grade'] != '12 Luxury']"
   ]
  },
  {
   "cell_type": "markdown",
   "metadata": {},
   "source": [
    "### Helper Functions"
   ]
  },
  {
   "cell_type": "markdown",
   "metadata": {},
   "source": [
    "These are a list of helper functions that we created to help us streamline our work flow and minimize repeating code "
   ]
  },
  {
   "cell_type": "code",
   "execution_count": 123,
   "metadata": {
    "ExecuteTime": {
     "end_time": "2022-04-01T13:55:22.030724Z",
     "start_time": "2022-04-01T13:55:22.026125Z"
    }
   },
   "outputs": [],
   "source": [
    "def ohe(df, df2, column):    \n",
    "    for col in column:\n",
    "        train = df[[col]]\n",
    "        ohe = OneHotEncoder(drop=\"first\", sparse=False, handle_unknown=\"error\")\n",
    "        ohe.fit(train)\n",
    "        encoded_train = ohe.transform(train)\n",
    "        col_names = [f\"{col}_{f}\" for f in ohe.get_feature_names()]\n",
    "        encoded_train = pd.DataFrame(encoded_train,\n",
    "                                     columns=col_names, index=df.index)\n",
    "        df = pd.concat([df, encoded_train], axis=1)\n",
    "        \n",
    "        test = df2[[col]]\n",
    "        encoded_test = ohe.transform(test)\n",
    "        col_names = [f\"{col}_{f}\" for f in ohe.get_feature_names()]\n",
    "        encoded_test = pd.DataFrame(encoded_test, \n",
    "                                    columns=col_names, index=df2.index)\n",
    "        df2 = pd.concat([df2, encoded_test], axis=1)\n",
    "    return df, df2, encoded_train.columns.tolist()"
   ]
  },
  {
   "cell_type": "markdown",
   "metadata": {},
   "source": [
    "The function above creates a pipeline to perform two different transformations to test or train? data for any given input variable: First it utilizes the OneHotEncoder to take our categorical variables and encode them into a form that we can use in linear regression. The function takes in a training df, 'df', a test df, 'df2', and a column name, ['column_name']. It returns the training df and the test df concatenated with the new encoded columns. It also returns a list of the new encoded column names.  Secondly, it runs linear regression on encoded values by using .fit()."
   ]
  },
  {
   "cell_type": "code",
   "execution_count": 124,
   "metadata": {
    "ExecuteTime": {
     "end_time": "2022-04-01T13:55:22.035027Z",
     "start_time": "2022-04-01T13:55:22.031954Z"
    }
   },
   "outputs": [],
   "source": [
    "def scale_n_score(x,y,x2,y2):        \n",
    "    scaler = StandardScaler()\n",
    "    scaler.fit(x)\n",
    "    X_train_scaled = scaler.transform(x)\n",
    "    X_test_scaled = scaler.transform(x2)\n",
    "\n",
    "    lr = LinearRegression()\n",
    "    lr.fit(X_train_scaled,y_train)\n",
    "\n",
    "    train_preds = lr.predict(X_train_scaled)\n",
    "    test_preds = lr.predict(X_test_scaled)\n",
    "\n",
    "    print('Training Score:',r2_score(y_train,train_preds))\n",
    "    print('Test Score:',r2_score(y_test,test_preds))\n",
    "    return X_train_scaled, X_test_scaled, train_preds, test_preds"
   ]
  },
  {
   "cell_type": "markdown",
   "metadata": {},
   "source": [
    "The function above performs two actions; first it runs Standard Scaler, which scales all the values, in the test data and training data respectively, so that the output of our models are depicted in comparable units. Secondly, it scores the scaled data to get the R^2 results, a metric used in determining the efficacy of our model. "
   ]
  },
  {
   "cell_type": "code",
   "execution_count": 125,
   "metadata": {
    "ExecuteTime": {
     "end_time": "2022-04-01T13:55:22.040806Z",
     "start_time": "2022-04-01T13:55:22.036488Z"
    }
   },
   "outputs": [],
   "source": [
    "def get_train_test_metrics(y_train,train_preds,\n",
    "               y_test,test_preds\n",
    "              ):\n",
    "    \"\"\"\n",
    "    Prints different training and testing metrics, namely R2, MAE, MSE, RMSE\n",
    "    \"\"\"\n",
    "    print(\"\\nTraining Metrics:\")\n",
    "    print(f\"R2: {r2_score(y_train, train_preds):.3f}\")\n",
    "    print(f\"Mean Absolute Error: {mean_absolute_error(y_train, train_preds):.3f}\")\n",
    "    print(f\"Mean Squared Error: {mean_squared_error(y_train, train_preds):.3f}\")\n",
    "    print(f\"Root Mean Squared Error: {mean_squared_error(y_train, train_preds, squared=False):.3f}\")\n",
    "    \n",
    "    print(\"\\nTesting Metrics:\")\n",
    "    print(f\"R2: {r2_score(y_test, test_preds):.3f}\")\n",
    "    print(f\"Mean Absolute Error: {mean_absolute_error(y_test, test_preds):.3f}\")\n",
    "    print(f\"Mean Squared Error: {mean_squared_error(y_test, test_preds):.3f}\")\n",
    "    print(f\"Root Mean Squared Error: {mean_squared_error(y_test, test_preds, squared=False):.3f}\")"
   ]
  },
  {
   "cell_type": "markdown",
   "metadata": {},
   "source": [
    "The function above uses the inputs of price and the predictions from our model to dtermine Mean Absolute Error (MAE), Mean Squared Error (MSE) and Root Mean Squared Error (RSME) for both the training and the testing data sets. Comparison of these values allow us to see how our model has performed. "
   ]
  },
  {
   "cell_type": "markdown",
   "metadata": {},
   "source": [
    "### The Train-Test Split"
   ]
  },
  {
   "cell_type": "markdown",
   "metadata": {},
   "source": [
    "We set price as a dependent/target variable and every other variable in our data set as the independent/predictor variables. Then we performed a train/test split on the data. This will allow us to see the true performance of our model because we will be fitting our linear regression to our training data and then applying it to our testing data. The purpose of this is to treat the testing data as unseen data (data that our model hasn't experienced yet) and by comparing the training metrics between these two-data sets we can gain a better understanding of the validity of each model we create in the iterative process. "
   ]
  },
  {
   "cell_type": "code",
   "execution_count": 126,
   "metadata": {
    "ExecuteTime": {
     "end_time": "2022-04-01T13:55:22.057784Z",
     "start_time": "2022-04-01T13:55:22.043012Z"
    }
   },
   "outputs": [],
   "source": [
    "y = df[\"price\"]\n",
    "X = df.drop(\"price\", axis=1)\n",
    "\n",
    "X_train, X_test, y_train, y_test = train_test_split(X, y, random_state=42, test_size=.25)"
   ]
  },
  {
   "cell_type": "markdown",
   "metadata": {},
   "source": [
    "### Categorical Variables"
   ]
  },
  {
   "cell_type": "markdown",
   "metadata": {},
   "source": [
    "The variables : 'bedroom_bin', 'view', 'zipcode', 'condition', and 'grade' are categorical variables. While the variables 'waterfront' is a binomial categorical variable. Each of these variables need to be converted into a format that can be modeled. \n"
   ]
  },
  {
   "cell_type": "markdown",
   "metadata": {},
   "source": [
    "#### Waterfront"
   ]
  },
  {
   "cell_type": "markdown",
   "metadata": {},
   "source": [
    "Since this variable is a binomial categorical variable, OridinalEncoder was used to change this variable into a numeric one. Values denoted with \"NAs\" were determined to be \"No\" so those values were replaced as such.  "
   ]
  },
  {
   "cell_type": "code",
   "execution_count": 127,
   "metadata": {
    "ExecuteTime": {
     "end_time": "2022-04-01T13:55:22.064613Z",
     "start_time": "2022-04-01T13:55:22.059816Z"
    }
   },
   "outputs": [],
   "source": [
    "X_train['waterfront'].fillna('NO', inplace=True)\n",
    "X_test['waterfront'].fillna('NO', inplace=True)"
   ]
  },
  {
   "cell_type": "code",
   "execution_count": 128,
   "metadata": {
    "ExecuteTime": {
     "end_time": "2022-04-01T13:55:22.072578Z",
     "start_time": "2022-04-01T13:55:22.065562Z"
    }
   },
   "outputs": [],
   "source": [
    "waterfront_train = X_train[['waterfront']]\n",
    "encoder_waterfront = OrdinalEncoder()\n",
    "encoder_waterfront.fit(waterfront_train)\n",
    "encoder_waterfront.categories_[0]\n",
    "waterfront_encoded_train = encoder_waterfront.transform(waterfront_train)\n",
    "waterfront_encoded_train = waterfront_encoded_train.flatten()\n",
    "X_train[\"waterfront\"] = waterfront_encoded_train"
   ]
  },
  {
   "cell_type": "code",
   "execution_count": 129,
   "metadata": {
    "ExecuteTime": {
     "end_time": "2022-04-01T13:55:22.078366Z",
     "start_time": "2022-04-01T13:55:22.073694Z"
    }
   },
   "outputs": [],
   "source": [
    "waterfront_test = X_test[['waterfront']]\n",
    "encoder_waterfront = OrdinalEncoder()\n",
    "encoder_waterfront.fit(waterfront_test)\n",
    "encoder_waterfront.categories_[0]\n",
    "waterfront_encoded_test = encoder_waterfront.transform(waterfront_test)\n",
    "waterfront_encoded_test = waterfront_encoded_test.flatten()\n",
    "X_test[\"waterfront\"] = waterfront_encoded_test"
   ]
  },
  {
   "cell_type": "markdown",
   "metadata": {},
   "source": [
    "#### View "
   ]
  },
  {
   "cell_type": "markdown",
   "metadata": {},
   "source": [
    "The variable 'view' has 5 categories; NONE, AVERAGE, GOOD, FAIR, and EXCELLENT. The helper function we created above was use to encode this variable into a numeric one. We also replaced the string values so we could use it for comparative analysis to make our modeling process more efficient"
   ]
  },
  {
   "cell_type": "code",
   "execution_count": 130,
   "metadata": {
    "ExecuteTime": {
     "end_time": "2022-04-01T13:55:22.090102Z",
     "start_time": "2022-04-01T13:55:22.084018Z"
    }
   },
   "outputs": [
    {
     "data": {
      "text/plain": [
       "38"
      ]
     },
     "execution_count": 130,
     "metadata": {},
     "output_type": "execute_result"
    }
   ],
   "source": [
    "X_train['view'].isna().sum()"
   ]
  },
  {
   "cell_type": "code",
   "execution_count": 131,
   "metadata": {
    "ExecuteTime": {
     "end_time": "2022-04-01T13:55:22.098730Z",
     "start_time": "2022-04-01T13:55:22.095464Z"
    }
   },
   "outputs": [],
   "source": [
    "X_train['view'].fillna(\"NONE\", inplace=True)\n",
    "X_test['view'].fillna(\"NONE\", inplace=True)"
   ]
  },
  {
   "cell_type": "markdown",
   "metadata": {},
   "source": [
    "\n",
    "\n",
    "Example\n",
    "\n",
    "X_train, X_test, encoded_column_name = ohe(X_train, X_test, ['view'])"
   ]
  },
  {
   "cell_type": "code",
   "execution_count": 132,
   "metadata": {
    "ExecuteTime": {
     "end_time": "2022-04-01T13:55:22.114028Z",
     "start_time": "2022-04-01T13:55:22.099783Z"
    }
   },
   "outputs": [],
   "source": [
    "X_train, X_test, encoded_view = ohe(X_train, X_test, ['view'])"
   ]
  },
  {
   "cell_type": "code",
   "execution_count": 133,
   "metadata": {
    "ExecuteTime": {
     "end_time": "2022-04-01T13:55:22.119986Z",
     "start_time": "2022-04-01T13:55:22.115026Z"
    }
   },
   "outputs": [],
   "source": [
    "# Change view rating to a numeric value for comparative purposes.\n",
    "X_train['view'] = X_train['view'].map({'EXCELLENT':5,\n",
    "                             'GOOD':4,\n",
    "                             'AVERAGE':3,\n",
    "                             'FAIR':2,\n",
    "                             'NONE':1})"
   ]
  },
  {
   "cell_type": "code",
   "execution_count": 134,
   "metadata": {
    "ExecuteTime": {
     "end_time": "2022-04-01T13:55:22.125502Z",
     "start_time": "2022-04-01T13:55:22.121472Z"
    }
   },
   "outputs": [],
   "source": [
    "X_test['view'] = X_test['view'].map({'EXCELLENT':5,\n",
    "                             'GOOD':4,\n",
    "                             'AVERAGE':3,\n",
    "                             'FAIR':2,\n",
    "                             'NONE':1})"
   ]
  },
  {
   "cell_type": "markdown",
   "metadata": {},
   "source": [
    "#### Condition "
   ]
  },
  {
   "cell_type": "markdown",
   "metadata": {
    "ExecuteTime": {
     "end_time": "2022-03-30T19:18:08.596489Z",
     "start_time": "2022-03-30T19:18:08.589154Z"
    }
   },
   "source": [
    "We again replaced the string values in this column and the utilized the ohe function to perform the same encoding as above."
   ]
  },
  {
   "cell_type": "code",
   "execution_count": 135,
   "metadata": {
    "ExecuteTime": {
     "end_time": "2022-04-01T13:55:22.138760Z",
     "start_time": "2022-04-01T13:55:22.126525Z"
    }
   },
   "outputs": [],
   "source": [
    "X_train, X_test, encoded_condition = ohe(X_train, X_test, ['condition'])"
   ]
  },
  {
   "cell_type": "code",
   "execution_count": 136,
   "metadata": {
    "ExecuteTime": {
     "end_time": "2022-04-01T13:55:22.144016Z",
     "start_time": "2022-04-01T13:55:22.140041Z"
    }
   },
   "outputs": [],
   "source": [
    "# Change condition rating to a numeric value for comparitive purposes.\n",
    "X_train['condition'] = X_train['condition'].map({'Very Good':5,\n",
    "                                       'Good':4,\n",
    "                                       'Average':3,\n",
    "                                       'Fair':2,\n",
    "                                       'Poor':1})"
   ]
  },
  {
   "cell_type": "code",
   "execution_count": 137,
   "metadata": {
    "ExecuteTime": {
     "end_time": "2022-04-01T13:55:22.148256Z",
     "start_time": "2022-04-01T13:55:22.145025Z"
    }
   },
   "outputs": [],
   "source": [
    "X_test['condition'] = X_test['condition'].map({'Very Good':5,\n",
    "                                       'Good':4,\n",
    "                                       'Average':3,\n",
    "                                       'Fair':2,\n",
    "                                       'Poor':1})"
   ]
  },
  {
   "cell_type": "markdown",
   "metadata": {},
   "source": [
    "Similarly, the ohe() function was used below to encode the remaining categorical variable"
   ]
  },
  {
   "cell_type": "markdown",
   "metadata": {},
   "source": [
    "#### Grade "
   ]
  },
  {
   "cell_type": "code",
   "execution_count": 138,
   "metadata": {
    "ExecuteTime": {
     "end_time": "2022-04-01T13:55:22.162108Z",
     "start_time": "2022-04-01T13:55:22.149253Z"
    }
   },
   "outputs": [],
   "source": [
    "X_train, X_test, encoded_grade = ohe(X_train, X_test, ['grade'])"
   ]
  },
  {
   "cell_type": "markdown",
   "metadata": {},
   "source": [
    "#### Zipcode "
   ]
  },
  {
   "cell_type": "code",
   "execution_count": 139,
   "metadata": {
    "ExecuteTime": {
     "end_time": "2022-04-01T13:55:22.185499Z",
     "start_time": "2022-04-01T13:55:22.163034Z"
    }
   },
   "outputs": [],
   "source": [
    "X_train, X_test, encoded_zipcode = ohe(X_train, X_test, ['zipcode'])"
   ]
  },
  {
   "cell_type": "markdown",
   "metadata": {},
   "source": [
    "#### Bedroom_bins"
   ]
  },
  {
   "cell_type": "code",
   "execution_count": 140,
   "metadata": {
    "ExecuteTime": {
     "end_time": "2022-04-01T13:55:22.224370Z",
     "start_time": "2022-04-01T13:55:22.190500Z"
    }
   },
   "outputs": [],
   "source": [
    "X_train, X_test, encoded_bedroom_bin = ohe(X_train, X_test, ['bedrooms_bin'])"
   ]
  },
  {
   "cell_type": "markdown",
   "metadata": {},
   "source": [
    "We treated the 'bedroom' variable as a categorical variable even though its a numeric variable because we found that in the raw data, bigger homes skewed our model. We found that by treating it as a categorical variable improved model performance and accounted for the lack of data in the higher range of bedrooms without any data loss. "
   ]
  },
  {
   "cell_type": "markdown",
   "metadata": {},
   "source": [
    "### Our iterative modeling process"
   ]
  },
  {
   "cell_type": "markdown",
   "metadata": {},
   "source": [
    "First, we created a dummy regressor to act as our baseline model, our scores "
   ]
  },
  {
   "cell_type": "markdown",
   "metadata": {},
   "source": [
    "#### Base Model - Dummy Regressor"
   ]
  },
  {
   "cell_type": "code",
   "execution_count": 141,
   "metadata": {
    "ExecuteTime": {
     "end_time": "2022-04-01T13:55:22.230283Z",
     "start_time": "2022-04-01T13:55:22.225479Z"
    }
   },
   "outputs": [
    {
     "data": {
      "text/plain": [
       "0.0"
      ]
     },
     "execution_count": 141,
     "metadata": {},
     "output_type": "execute_result"
    }
   ],
   "source": [
    "dummy = DummyRegressor() #mean strategy\n",
    "dummy.fit(X_train,y_train)\n",
    "dummy.score(X_train,y_train)"
   ]
  },
  {
   "cell_type": "code",
   "execution_count": 142,
   "metadata": {
    "ExecuteTime": {
     "end_time": "2022-04-01T13:55:22.235965Z",
     "start_time": "2022-04-01T13:55:22.231461Z"
    },
    "scrolled": true
   },
   "outputs": [
    {
     "data": {
      "text/plain": [
       "-0.0003147954807747322"
      ]
     },
     "execution_count": 142,
     "metadata": {},
     "output_type": "execute_result"
    }
   ],
   "source": [
    "dummy.score(X_test,y_test)"
   ]
  },
  {
   "cell_type": "markdown",
   "metadata": {},
   "source": [
    "#### Model 1"
   ]
  },
  {
   "cell_type": "code",
   "execution_count": 143,
   "metadata": {
    "ExecuteTime": {
     "end_time": "2022-04-01T13:55:22.249660Z",
     "start_time": "2022-04-01T13:55:22.237187Z"
    }
   },
   "outputs": [],
   "source": [
    "cols = ['sqft_living']\n",
    "y = y_train\n",
    "x = X_train.filter(cols, axis=1)\n",
    "\n",
    "y2 = y_test\n",
    "x2 = X_test.filter(cols, axis=1)"
   ]
  },
  {
   "cell_type": "code",
   "execution_count": 144,
   "metadata": {
    "ExecuteTime": {
     "end_time": "2022-04-01T13:55:22.267884Z",
     "start_time": "2022-04-01T13:55:22.250797Z"
    },
    "scrolled": true
   },
   "outputs": [
    {
     "name": "stdout",
     "output_type": "stream",
     "text": [
      "Training Score: 0.33938210604192043\n",
      "Test Score: 0.3423722805436157\n"
     ]
    }
   ],
   "source": [
    "X_train_scaled, X_test_scaled, train_preds, test_preds = scale_n_score(x,y,x2,y2)"
   ]
  },
  {
   "cell_type": "markdown",
   "metadata": {},
   "source": [
    "#### Model 2"
   ]
  },
  {
   "cell_type": "markdown",
   "metadata": {},
   "source": [
    "We first chose to use columns 'sqft_living', 'sqft_living15', 'bathrooms', and the columns created from encoding 'zipcode'."
   ]
  },
  {
   "cell_type": "code",
   "execution_count": 145,
   "metadata": {
    "ExecuteTime": {
     "end_time": "2022-04-01T13:55:22.279602Z",
     "start_time": "2022-04-01T13:55:22.269336Z"
    }
   },
   "outputs": [
    {
     "data": {
      "text/plain": [
       "price            1.000000\n",
       "sqft_living      0.583231\n",
       "sqft_living15    0.517953\n",
       "sqft_above       0.468550\n",
       "lat              0.456755\n",
       "bathrooms        0.410229\n",
       "bedrooms         0.277667\n",
       "floors           0.253126\n",
       "sqft_lot15       0.037402\n",
       "sqft_lot         0.022678\n",
       "long             0.018706\n",
       "zipcode          0.010385\n",
       "yr_built         0.007691\n",
       "Name: price, dtype: float64"
      ]
     },
     "execution_count": 145,
     "metadata": {},
     "output_type": "execute_result"
    }
   ],
   "source": [
    "df.corr()['price'].abs().sort_values(ascending=False)"
   ]
  },
  {
   "cell_type": "code",
   "execution_count": 146,
   "metadata": {
    "ExecuteTime": {
     "end_time": "2022-04-01T13:55:22.290502Z",
     "start_time": "2022-04-01T13:55:22.280928Z"
    }
   },
   "outputs": [],
   "source": [
    "cols = ['sqft_living', 'bathrooms', 'sqft_living15'] +  encoded_zipcode\n",
    "y = y_train\n",
    "x = X_train.filter(cols, axis=1)\n",
    "\n",
    "y2 = y_test\n",
    "x2 = X_test.filter(cols, axis=1)\n"
   ]
  },
  {
   "cell_type": "code",
   "execution_count": 147,
   "metadata": {
    "ExecuteTime": {
     "end_time": "2022-04-01T13:55:22.497172Z",
     "start_time": "2022-04-01T13:55:22.292280Z"
    },
    "scrolled": true
   },
   "outputs": [
    {
     "name": "stdout",
     "output_type": "stream",
     "text": [
      "Training Score: 0.7986282228523476\n",
      "Test Score: 0.7912820748695419\n"
     ]
    }
   ],
   "source": [
    "X_train_scaled, X_test_scaled, train_preds, test_preds = scale_n_score(x,y,x2,y2)"
   ]
  },
  {
   "cell_type": "code",
   "execution_count": 148,
   "metadata": {
    "ExecuteTime": {
     "end_time": "2022-04-01T13:55:22.504560Z",
     "start_time": "2022-04-01T13:55:22.498782Z"
    },
    "scrolled": true
   },
   "outputs": [
    {
     "name": "stdout",
     "output_type": "stream",
     "text": [
      "\n",
      "Training Metrics:\n",
      "R2: 0.799\n",
      "Mean Absolute Error: 66362.426\n",
      "Mean Squared Error: 8182118966.865\n",
      "Root Mean Squared Error: 90455.066\n",
      "\n",
      "Testing Metrics:\n",
      "R2: 0.791\n",
      "Mean Absolute Error: 66259.504\n",
      "Mean Squared Error: 8230689847.630\n",
      "Root Mean Squared Error: 90723.149\n"
     ]
    }
   ],
   "source": [
    "get_train_test_metrics(y_train, train_preds, y_test, test_preds)"
   ]
  },
  {
   "cell_type": "markdown",
   "metadata": {
    "ExecuteTime": {
     "end_time": "2022-03-31T21:50:31.872570Z",
     "start_time": "2022-03-31T21:50:31.865309Z"
    }
   },
   "source": [
    "##### Model 2b"
   ]
  },
  {
   "cell_type": "markdown",
   "metadata": {},
   "source": [
    "This model uses the columns 'sqft_living', 'bathrooms', 'sqft_living15', and 'zipcode'. "
   ]
  },
  {
   "cell_type": "code",
   "execution_count": 149,
   "metadata": {
    "ExecuteTime": {
     "end_time": "2022-04-01T13:55:22.509682Z",
     "start_time": "2022-04-01T13:55:22.506220Z"
    }
   },
   "outputs": [],
   "source": [
    "cols = ['sqft_living', 'bathrooms', 'sqft_living15', 'zipcode']\n",
    "y = y_train\n",
    "x = X_train.filter(cols, axis=1)\n",
    "\n",
    "y2 = y_test\n",
    "x2 = X_test.filter(cols, axis=1)"
   ]
  },
  {
   "cell_type": "code",
   "execution_count": 150,
   "metadata": {
    "ExecuteTime": {
     "end_time": "2022-04-01T13:55:22.527646Z",
     "start_time": "2022-04-01T13:55:22.511102Z"
    }
   },
   "outputs": [
    {
     "name": "stdout",
     "output_type": "stream",
     "text": [
      "Training Score: 0.38346312393235094\n",
      "Test Score: 0.3856477299828007\n"
     ]
    }
   ],
   "source": [
    "X_train_scaled, X_test_scaled, train_preds, test_preds = scale_n_score(x,y,x2,y2)"
   ]
  },
  {
   "cell_type": "code",
   "execution_count": 151,
   "metadata": {
    "ExecuteTime": {
     "end_time": "2022-04-01T13:55:22.534533Z",
     "start_time": "2022-04-01T13:55:22.528708Z"
    }
   },
   "outputs": [
    {
     "name": "stdout",
     "output_type": "stream",
     "text": [
      "\n",
      "Training Metrics:\n",
      "R2: 0.383\n",
      "Mean Absolute Error: 127456.461\n",
      "Mean Squared Error: 25051067924.708\n",
      "Root Mean Squared Error: 158275.292\n",
      "\n",
      "Testing Metrics:\n",
      "R2: 0.386\n",
      "Mean Absolute Error: 123827.412\n",
      "Mean Squared Error: 24226682919.247\n",
      "Root Mean Squared Error: 155649.230\n"
     ]
    }
   ],
   "source": [
    "get_train_test_metrics(y_train, train_preds, y_test, test_preds)"
   ]
  },
  {
   "cell_type": "markdown",
   "metadata": {},
   "source": [
    "Note the difference between entering the encoded columns for 'zipcode' and actually entering the column 'zipcode'. The encoding gives us a higher R2 value and gives us a lower Root Mean Squared Error."
   ]
  },
  {
   "cell_type": "markdown",
   "metadata": {
    "ExecuteTime": {
     "end_time": "2022-03-30T23:11:36.131306Z",
     "start_time": "2022-03-30T23:11:36.114302Z"
    }
   },
   "source": [
    "#### Model 3"
   ]
  },
  {
   "cell_type": "markdown",
   "metadata": {
    "ExecuteTime": {
     "end_time": "2022-03-30T23:11:49.401399Z",
     "start_time": "2022-03-30T23:11:49.397398Z"
    }
   },
   "source": [
    "Using columns  'sqft_living', 'bedrooms', 'sqft_living15', and the columns created from encoding 'zipcode'."
   ]
  },
  {
   "cell_type": "code",
   "execution_count": 152,
   "metadata": {
    "ExecuteTime": {
     "end_time": "2022-04-01T13:55:22.540832Z",
     "start_time": "2022-04-01T13:55:22.535962Z"
    }
   },
   "outputs": [],
   "source": [
    "cols = ['sqft_living', 'bedrooms', 'sqft_living15'] +  encoded_zipcode\n",
    "y = y_train\n",
    "x = X_train.filter(cols, axis=1)\n",
    "\n",
    "y2 = y_test\n",
    "x2 = X_test.filter(cols, axis=1)"
   ]
  },
  {
   "cell_type": "code",
   "execution_count": 153,
   "metadata": {
    "ExecuteTime": {
     "end_time": "2022-04-01T13:55:22.737014Z",
     "start_time": "2022-04-01T13:55:22.542174Z"
    }
   },
   "outputs": [
    {
     "name": "stdout",
     "output_type": "stream",
     "text": [
      "Training Score: 0.7995084908440528\n",
      "Test Score: 0.7915181662090947\n"
     ]
    }
   ],
   "source": [
    "X_train_scaled, X_test_scaled, train_preds, test_preds = scale_n_score(x,y,x2,y2)"
   ]
  },
  {
   "cell_type": "code",
   "execution_count": 154,
   "metadata": {
    "ExecuteTime": {
     "end_time": "2022-04-01T13:55:22.744575Z",
     "start_time": "2022-04-01T13:55:22.738986Z"
    },
    "scrolled": true
   },
   "outputs": [
    {
     "name": "stdout",
     "output_type": "stream",
     "text": [
      "\n",
      "Training Metrics:\n",
      "R2: 0.800\n",
      "Mean Absolute Error: 66269.131\n",
      "Mean Squared Error: 8146352001.241\n",
      "Root Mean Squared Error: 90257.144\n",
      "\n",
      "Testing Metrics:\n",
      "R2: 0.792\n",
      "Mean Absolute Error: 66206.085\n",
      "Mean Squared Error: 8221379700.500\n",
      "Root Mean Squared Error: 90671.824\n"
     ]
    }
   ],
   "source": [
    "get_train_test_metrics(y_train, train_preds, y_test, test_preds)"
   ]
  },
  {
   "cell_type": "markdown",
   "metadata": {},
   "source": [
    "#### Model 4"
   ]
  },
  {
   "cell_type": "markdown",
   "metadata": {},
   "source": [
    "Using columns 'sqft_living', 'bedrooms', and the columns created from encoding 'zipcode' and 'condition'."
   ]
  },
  {
   "cell_type": "code",
   "execution_count": 155,
   "metadata": {
    "ExecuteTime": {
     "end_time": "2022-04-01T13:55:22.750239Z",
     "start_time": "2022-04-01T13:55:22.745865Z"
    }
   },
   "outputs": [],
   "source": [
    "cols = ['sqft_living', 'bedrooms'] +  encoded_zipcode + encoded_condition\n",
    "y = y_train\n",
    "x = X_train.filter(cols, axis=1)\n",
    "\n",
    "y2 = y_test\n",
    "x2 = X_test.filter(cols, axis=1)"
   ]
  },
  {
   "cell_type": "code",
   "execution_count": 156,
   "metadata": {
    "ExecuteTime": {
     "end_time": "2022-04-01T13:55:22.979866Z",
     "start_time": "2022-04-01T13:55:22.751129Z"
    }
   },
   "outputs": [
    {
     "name": "stdout",
     "output_type": "stream",
     "text": [
      "Training Score: 0.7915055065886867\n",
      "Test Score: 0.7828233890789645\n"
     ]
    }
   ],
   "source": [
    "X_train_scaled, X_test_scaled, train_preds, test_preds = scale_n_score(x,y,x2,y2)"
   ]
  },
  {
   "cell_type": "code",
   "execution_count": 157,
   "metadata": {
    "ExecuteTime": {
     "end_time": "2022-04-01T13:55:22.985826Z",
     "start_time": "2022-04-01T13:55:22.981184Z"
    },
    "scrolled": true
   },
   "outputs": [
    {
     "name": "stdout",
     "output_type": "stream",
     "text": [
      "\n",
      "Training Metrics:\n",
      "R2: 0.792\n",
      "Mean Absolute Error: 67194.707\n",
      "Mean Squared Error: 8471528499.134\n",
      "Root Mean Squared Error: 92040.907\n",
      "\n",
      "Testing Metrics:\n",
      "R2: 0.783\n",
      "Mean Absolute Error: 67291.400\n",
      "Mean Squared Error: 8564254007.092\n",
      "Root Mean Squared Error: 92543.255\n"
     ]
    }
   ],
   "source": [
    "get_train_test_metrics(y_train, train_preds, y_test, test_preds)"
   ]
  },
  {
   "cell_type": "markdown",
   "metadata": {},
   "source": [
    "#### Model 5"
   ]
  },
  {
   "cell_type": "markdown",
   "metadata": {},
   "source": [
    "Using columns 'sqft_living', 'bedrooms', 'bathrooms', 'condition', 'view', and the columns created from encoding 'zipcode'. "
   ]
  },
  {
   "cell_type": "code",
   "execution_count": 158,
   "metadata": {
    "ExecuteTime": {
     "end_time": "2022-04-01T13:55:22.993150Z",
     "start_time": "2022-04-01T13:55:22.987022Z"
    }
   },
   "outputs": [],
   "source": [
    "cols = ['sqft_living', 'bedrooms', 'bathrooms', 'condition', 'view'] +  encoded_zipcode\n",
    "y = y_train\n",
    "x = X_train.filter(cols, axis=1)\n",
    "\n",
    "y2 = y_test\n",
    "x2 = X_test.filter(cols, axis=1)"
   ]
  },
  {
   "cell_type": "code",
   "execution_count": 159,
   "metadata": {
    "ExecuteTime": {
     "end_time": "2022-04-01T13:55:23.211443Z",
     "start_time": "2022-04-01T13:55:22.995036Z"
    }
   },
   "outputs": [
    {
     "name": "stdout",
     "output_type": "stream",
     "text": [
      "Training Score: 0.8067577965399076\n",
      "Test Score: 0.7974978487714788\n"
     ]
    }
   ],
   "source": [
    "X_train_scaled, X_test_scaled, train_preds, test_preds = scale_n_score(x,y,x2,y2)"
   ]
  },
  {
   "cell_type": "code",
   "execution_count": 160,
   "metadata": {
    "ExecuteTime": {
     "end_time": "2022-04-01T13:55:23.218496Z",
     "start_time": "2022-04-01T13:55:23.212538Z"
    },
    "scrolled": true
   },
   "outputs": [
    {
     "name": "stdout",
     "output_type": "stream",
     "text": [
      "\n",
      "Training Metrics:\n",
      "R2: 0.807\n",
      "Mean Absolute Error: 65322.187\n",
      "Mean Squared Error: 7851798899.159\n",
      "Root Mean Squared Error: 88610.377\n",
      "\n",
      "Testing Metrics:\n",
      "R2: 0.797\n",
      "Mean Absolute Error: 65471.684\n",
      "Mean Squared Error: 7985573827.442\n",
      "Root Mean Squared Error: 89362.038\n"
     ]
    }
   ],
   "source": [
    "get_train_test_metrics(y_train, train_preds, y_test, test_preds)"
   ]
  },
  {
   "cell_type": "markdown",
   "metadata": {},
   "source": [
    "##### model 5"
   ]
  },
  {
   "cell_type": "markdown",
   "metadata": {},
   "source": [
    "Compared to encoded view and condition."
   ]
  },
  {
   "cell_type": "code",
   "execution_count": 161,
   "metadata": {
    "ExecuteTime": {
     "end_time": "2022-04-01T13:55:23.227151Z",
     "start_time": "2022-04-01T13:55:23.219617Z"
    }
   },
   "outputs": [],
   "source": [
    "cols = ['sqft_living', 'bedrooms', 'bathrooms'] + encoded_condition + encoded_view + encoded_zipcode\n",
    "y = y_train\n",
    "x = X_train.filter(cols, axis=1)\n",
    "\n",
    "y2 = y_test\n",
    "x2 = X_test.filter(cols, axis=1)"
   ]
  },
  {
   "cell_type": "code",
   "execution_count": 162,
   "metadata": {
    "ExecuteTime": {
     "end_time": "2022-04-01T13:55:23.461018Z",
     "start_time": "2022-04-01T13:55:23.228277Z"
    }
   },
   "outputs": [
    {
     "name": "stdout",
     "output_type": "stream",
     "text": [
      "Training Score: 0.8084385009933084\n",
      "Test Score: 0.7988078457880654\n"
     ]
    }
   ],
   "source": [
    "X_train_scaled, X_test_scaled, train_preds, test_preds = scale_n_score(x,y,x2,y2)"
   ]
  },
  {
   "cell_type": "code",
   "execution_count": 163,
   "metadata": {
    "ExecuteTime": {
     "end_time": "2022-04-01T13:55:23.467419Z",
     "start_time": "2022-04-01T13:55:23.462479Z"
    }
   },
   "outputs": [
    {
     "name": "stdout",
     "output_type": "stream",
     "text": [
      "\n",
      "Training Metrics:\n",
      "R2: 0.808\n",
      "Mean Absolute Error: 65032.620\n",
      "Mean Squared Error: 7783508675.074\n",
      "Root Mean Squared Error: 88224.196\n",
      "\n",
      "Testing Metrics:\n",
      "R2: 0.799\n",
      "Mean Absolute Error: 65336.371\n",
      "Mean Squared Error: 7933914732.335\n",
      "Root Mean Squared Error: 89072.525\n"
     ]
    }
   ],
   "source": [
    "get_train_test_metrics(y_train, train_preds, y_test, test_preds)"
   ]
  },
  {
   "cell_type": "markdown",
   "metadata": {},
   "source": [
    "#### Model 6"
   ]
  },
  {
   "cell_type": "markdown",
   "metadata": {},
   "source": [
    "Using columns 'sqft_living', 'bedrooms', 'bathrooms', 'yr_built' and the columns created from encoding 'condition', 'view', and 'zipcode'. "
   ]
  },
  {
   "cell_type": "code",
   "execution_count": 164,
   "metadata": {
    "ExecuteTime": {
     "end_time": "2022-04-01T13:55:23.473618Z",
     "start_time": "2022-04-01T13:55:23.468409Z"
    }
   },
   "outputs": [],
   "source": [
    "cols = ['sqft_living', 'bedrooms', 'bathrooms', 'yr_built'] + encoded_condition + encoded_view + encoded_zipcode\n",
    "y = y_train\n",
    "x = X_train.filter(cols, axis=1)\n",
    "\n",
    "y2 = y_test\n",
    "x2 = X_test.filter(cols, axis=1)"
   ]
  },
  {
   "cell_type": "code",
   "execution_count": 165,
   "metadata": {
    "ExecuteTime": {
     "end_time": "2022-04-01T13:55:23.699239Z",
     "start_time": "2022-04-01T13:55:23.475739Z"
    }
   },
   "outputs": [
    {
     "name": "stdout",
     "output_type": "stream",
     "text": [
      "Training Score: 0.8086601568027303\n",
      "Test Score: 0.7990174798918581\n"
     ]
    }
   ],
   "source": [
    "X_train_scaled, X_test_scaled, train_preds, test_preds = scale_n_score(x,y,x2,y2)"
   ]
  },
  {
   "cell_type": "code",
   "execution_count": 166,
   "metadata": {
    "ExecuteTime": {
     "end_time": "2022-04-01T13:55:23.705118Z",
     "start_time": "2022-04-01T13:55:23.700622Z"
    }
   },
   "outputs": [
    {
     "name": "stdout",
     "output_type": "stream",
     "text": [
      "\n",
      "Training Metrics:\n",
      "R2: 0.809\n",
      "Mean Absolute Error: 65015.026\n",
      "Mean Squared Error: 7774502377.230\n",
      "Root Mean Squared Error: 88173.139\n",
      "\n",
      "Testing Metrics:\n",
      "R2: 0.799\n",
      "Mean Absolute Error: 65293.836\n",
      "Mean Squared Error: 7925647913.427\n",
      "Root Mean Squared Error: 89026.108\n"
     ]
    }
   ],
   "source": [
    "get_train_test_metrics(y_train, train_preds, y_test, test_preds)"
   ]
  },
  {
   "cell_type": "markdown",
   "metadata": {
    "ExecuteTime": {
     "end_time": "2022-03-31T21:23:57.857387Z",
     "start_time": "2022-03-31T21:23:57.046617Z"
    },
    "scrolled": false
   },
   "source": [
    "lr = LinearRegression()\n",
    "visualizer = ResidualsPlot(lr)\n",
    "\n",
    "visualizer.fit(X_train_scaled, y_train)  # Fit the training data to the visualizer\n",
    "visualizer.score(X_test_scaled, y_test)  # Evaluate the model on the test data\n",
    "visualizer.show()  \n",
    "plt.show()"
   ]
  },
  {
   "cell_type": "code",
   "execution_count": 167,
   "metadata": {
    "ExecuteTime": {
     "end_time": "2022-04-01T13:55:23.817126Z",
     "start_time": "2022-04-01T13:55:23.706191Z"
    }
   },
   "outputs": [
    {
     "data": {
      "image/png": "[encoded data removed]",
      "text/plain": [
       "<Figure size 432x288 with 1 Axes>"
      ]
     },
     "metadata": {
      "needs_background": "light"
     },
     "output_type": "display_data"
    }
   ],
   "source": [
    "train_residuals = y_train - train_preds\n",
    "test_residuals = y_test - test_preds\n",
    "sm.qqplot(train_residuals, line = 'r');"
   ]
  },
  {
   "cell_type": "markdown",
   "metadata": {},
   "source": [
    "##### Model 6b"
   ]
  },
  {
   "cell_type": "markdown",
   "metadata": {},
   "source": [
    "Using columns 'sqft_living', 'bathrooms', 'yr_built' and the columns created from encoding 'bedroom_bin', 'condition', 'view', and 'zipcode'."
   ]
  },
  {
   "cell_type": "code",
   "execution_count": 168,
   "metadata": {
    "ExecuteTime": {
     "end_time": "2022-04-01T13:55:23.825442Z",
     "start_time": "2022-04-01T13:55:23.818305Z"
    }
   },
   "outputs": [],
   "source": [
    "cols = ['sqft_living', 'bathrooms', 'yr_built'] + encoded_bedroom_bin + encoded_condition + encoded_view + encoded_zipcode\n",
    "y = y_train\n",
    "x = X_train.filter(cols, axis=1)\n",
    "\n",
    "y2 = y_test\n",
    "x2 = X_test.filter(cols, axis=1)"
   ]
  },
  {
   "cell_type": "code",
   "execution_count": 169,
   "metadata": {
    "ExecuteTime": {
     "end_time": "2022-04-01T13:55:24.046624Z",
     "start_time": "2022-04-01T13:55:23.826683Z"
    }
   },
   "outputs": [
    {
     "name": "stdout",
     "output_type": "stream",
     "text": [
      "Training Score: 0.8100966710896004\n",
      "Test Score: 0.8012786541319927\n"
     ]
    }
   ],
   "source": [
    "X_train_scaled, X_test_scaled, train_preds, test_preds = scale_n_score(x,y,x2,y2)"
   ]
  },
  {
   "cell_type": "code",
   "execution_count": 170,
   "metadata": {
    "ExecuteTime": {
     "end_time": "2022-04-01T13:55:24.052593Z",
     "start_time": "2022-04-01T13:55:24.047853Z"
    }
   },
   "outputs": [
    {
     "name": "stdout",
     "output_type": "stream",
     "text": [
      "\n",
      "Training Metrics:\n",
      "R2: 0.810\n",
      "Mean Absolute Error: 64684.874\n",
      "Mean Squared Error: 7716134064.851\n",
      "Root Mean Squared Error: 87841.528\n",
      "\n",
      "Testing Metrics:\n",
      "R2: 0.801\n",
      "Mean Absolute Error: 64862.014\n",
      "Mean Squared Error: 7836479607.206\n",
      "Root Mean Squared Error: 88523.893\n"
     ]
    }
   ],
   "source": [
    "get_train_test_metrics(y_train, train_preds, y_test, test_preds)"
   ]
  },
  {
   "cell_type": "markdown",
   "metadata": {},
   "source": [
    "#### Model 7"
   ]
  },
  {
   "cell_type": "markdown",
   "metadata": {},
   "source": [
    "Using columns 'sqft_living', 'bedrooms', 'bathrooms', 'yr_built' and the columns created from encoding 'condition', 'view', and 'zipcode'. "
   ]
  },
  {
   "cell_type": "code",
   "execution_count": 171,
   "metadata": {
    "ExecuteTime": {
     "end_time": "2022-04-01T13:55:24.059236Z",
     "start_time": "2022-04-01T13:55:24.054408Z"
    }
   },
   "outputs": [],
   "source": [
    "cols = ['sqft_living', 'sqft_living15', 'bedrooms', 'bathrooms', 'yr_built'] + encoded_condition + encoded_view + encoded_zipcode\n",
    "y = y_train\n",
    "x = X_train.filter(cols, axis=1)\n",
    "\n",
    "y2 = y_test\n",
    "x2 = X_test.filter(cols, axis=1)"
   ]
  },
  {
   "cell_type": "code",
   "execution_count": 172,
   "metadata": {
    "ExecuteTime": {
     "end_time": "2022-04-01T13:55:24.275260Z",
     "start_time": "2022-04-01T13:55:24.060308Z"
    }
   },
   "outputs": [
    {
     "name": "stdout",
     "output_type": "stream",
     "text": [
      "Training Score: 0.8177735222058956\n",
      "Test Score: 0.808232705345419\n"
     ]
    }
   ],
   "source": [
    "X_train_scaled, X_test_scaled, train_preds, test_preds = scale_n_score(x,y,x2,y2)"
   ]
  },
  {
   "cell_type": "code",
   "execution_count": 173,
   "metadata": {
    "ExecuteTime": {
     "end_time": "2022-04-01T13:55:24.281776Z",
     "start_time": "2022-04-01T13:55:24.276425Z"
    }
   },
   "outputs": [
    {
     "name": "stdout",
     "output_type": "stream",
     "text": [
      "\n",
      "Training Metrics:\n",
      "R2: 0.818\n",
      "Mean Absolute Error: 63410.643\n",
      "Mean Squared Error: 7404208977.760\n",
      "Root Mean Squared Error: 86047.713\n",
      "\n",
      "Testing Metrics:\n",
      "R2: 0.808\n",
      "Mean Absolute Error: 63672.381\n",
      "Mean Squared Error: 7562249980.371\n",
      "Root Mean Squared Error: 86961.198\n"
     ]
    }
   ],
   "source": [
    "get_train_test_metrics(y_train, train_preds, y_test, test_preds)"
   ]
  },
  {
   "cell_type": "markdown",
   "metadata": {},
   "source": [
    "I want to take a look at the interaction between sqft_living and sqft_living15."
   ]
  },
  {
   "cell_type": "markdown",
   "metadata": {
    "ExecuteTime": {
     "end_time": "2022-03-31T21:23:58.959566Z",
     "start_time": "2022-03-31T21:23:58.364029Z"
    }
   },
   "source": [
    "lr = LinearRegression()\n",
    "visualizer = ResidualsPlot(lr)\n",
    "\n",
    "visualizer.fit(X_train_scaled, y_train)  # Fit the training data to the visualizer\n",
    "visualizer.score(X_test_scaled, y_test)  # Evaluate the model on the test data\n",
    "visualizer.show()  \n",
    "plt.show()"
   ]
  },
  {
   "cell_type": "code",
   "execution_count": 174,
   "metadata": {
    "ExecuteTime": {
     "end_time": "2022-04-01T13:55:24.368604Z",
     "start_time": "2022-04-01T13:55:24.282882Z"
    }
   },
   "outputs": [
    {
     "data": {
      "image/png": "[encoded data removed]",
      "text/plain": [
       "<Figure size 432x288 with 1 Axes>"
      ]
     },
     "metadata": {
      "needs_background": "light"
     },
     "output_type": "display_data"
    }
   ],
   "source": [
    "train_residuals = y_train - train_preds\n",
    "test_residuals = y_test - test_preds\n",
    "sm.qqplot(train_residuals, line = 'r');"
   ]
  },
  {
   "cell_type": "markdown",
   "metadata": {},
   "source": [
    "##### Model 7b"
   ]
  },
  {
   "cell_type": "markdown",
   "metadata": {},
   "source": [
    "Using columns 'sqft_living', 'bedrooms', 'bathrooms', 'yr_built' and the columns created from encoding 'bedroom_bin', 'condition', 'view', and 'zipcode'."
   ]
  },
  {
   "cell_type": "code",
   "execution_count": 175,
   "metadata": {
    "ExecuteTime": {
     "end_time": "2022-04-01T13:55:24.384541Z",
     "start_time": "2022-04-01T13:55:24.380069Z"
    }
   },
   "outputs": [],
   "source": [
    "cols = ['sqft_living', 'sqft_living15', 'bathrooms', 'yr_built'] + encoded_bedroom_bin + encoded_condition + encoded_view + encoded_zipcode\n",
    "y = y_train\n",
    "x = X_train.filter(cols, axis=1)\n",
    "\n",
    "y2 = y_test\n",
    "x2 = X_test.filter(cols, axis=1)"
   ]
  },
  {
   "cell_type": "code",
   "execution_count": 176,
   "metadata": {
    "ExecuteTime": {
     "end_time": "2022-04-01T13:55:24.596267Z",
     "start_time": "2022-04-01T13:55:24.387426Z"
    }
   },
   "outputs": [
    {
     "name": "stdout",
     "output_type": "stream",
     "text": [
      "Training Score: 0.8189627188476221\n",
      "Test Score: 0.8100654824859226\n"
     ]
    }
   ],
   "source": [
    "X_train_scaled, X_test_scaled, train_preds, test_preds = scale_n_score(x,y,x2,y2)"
   ]
  },
  {
   "cell_type": "code",
   "execution_count": 177,
   "metadata": {
    "ExecuteTime": {
     "end_time": "2022-04-01T13:55:24.602380Z",
     "start_time": "2022-04-01T13:55:24.597561Z"
    },
    "scrolled": true
   },
   "outputs": [
    {
     "name": "stdout",
     "output_type": "stream",
     "text": [
      "\n",
      "Training Metrics:\n",
      "R2: 0.819\n",
      "Mean Absolute Error: 63086.199\n",
      "Mean Squared Error: 7355889652.503\n",
      "Root Mean Squared Error: 85766.483\n",
      "\n",
      "Testing Metrics:\n",
      "R2: 0.810\n",
      "Mean Absolute Error: 63305.427\n",
      "Mean Squared Error: 7489975305.381\n",
      "Root Mean Squared Error: 86544.643\n"
     ]
    }
   ],
   "source": [
    "get_train_test_metrics(y_train, train_preds, y_test, test_preds)"
   ]
  },
  {
   "cell_type": "markdown",
   "metadata": {
    "ExecuteTime": {
     "end_time": "2022-03-31T21:23:59.875187Z",
     "start_time": "2022-03-31T21:23:59.259184Z"
    }
   },
   "source": [
    "lr = LinearRegression()\n",
    "visualizer = ResidualsPlot(lr)\n",
    "\n",
    "visualizer.fit(X_train_scaled, y_train)  # Fit the training data to the visualizer\n",
    "visualizer.score(X_test_scaled, y_test)  # Evaluate the model on the test data\n",
    "visualizer.show()  \n",
    "plt.show()\n"
   ]
  },
  {
   "cell_type": "code",
   "execution_count": 178,
   "metadata": {
    "ExecuteTime": {
     "end_time": "2022-04-01T13:55:24.689886Z",
     "start_time": "2022-04-01T13:55:24.603321Z"
    }
   },
   "outputs": [
    {
     "data": {
      "image/png": "[encoded data removed]",
      "text/plain": [
       "<Figure size 432x288 with 1 Axes>"
      ]
     },
     "metadata": {
      "needs_background": "light"
     },
     "output_type": "display_data"
    }
   ],
   "source": [
    "train_residuals = y_train - train_preds\n",
    "test_residuals = y_test - test_preds\n",
    "sm.qqplot(train_residuals, line = 'r');"
   ]
  },
  {
   "cell_type": "code",
   "execution_count": 179,
   "metadata": {
    "ExecuteTime": {
     "end_time": "2022-04-01T13:55:24.929530Z",
     "start_time": "2022-04-01T13:55:24.691228Z"
    }
   },
   "outputs": [
    {
     "data": {
      "text/plain": [
       "array([647866.77706854])"
      ]
     },
     "execution_count": 179,
     "metadata": {},
     "output_type": "execute_result"
    }
   ],
   "source": [
    "X_potentials = pd.DataFrame(columns = X_train.columns)\n",
    "for num in range(0,1):\n",
    "    X_potentials = X_potentials.append(\n",
    "    pd.Series(0, index=X_potentials.columns), \n",
    "    ignore_index=True)\n",
    "X_potentials['sqft_living'].replace(0,df['sqft_living'].median(),inplace=True)\n",
    "X_potentials['sqft_living15'].replace(0,df['sqft_living15'].median(),inplace=True)\n",
    "X_potentials['bathrooms'].replace(0,df.bathrooms.value_counts().index[0],inplace=True)\n",
    "X_potentials['yr_built'].replace(0,df.yr_built.value_counts().index[0],inplace=True)\n",
    "\n",
    "X_potentials['bedrooms_bin_x0_3BR'].replace(0,1,inplace=True)\n",
    "\n",
    "#condition not needed. By default average\n",
    "\n",
    "X_potentials['zipcode_x0_98103'].replace(0,1,inplace=True)\n",
    "\n",
    "\n",
    "X_potentials2 = X_potentials\n",
    "lr = LinearRegression()\n",
    "lr.fit(X_train[cols], y_train)\n",
    "lr.predict(X_potentials[cols])"
   ]
  },
  {
   "cell_type": "code",
   "execution_count": 180,
   "metadata": {
    "ExecuteTime": {
     "end_time": "2022-04-01T13:55:25.263077Z",
     "start_time": "2022-04-01T13:55:24.930713Z"
    }
   },
   "outputs": [
    {
     "data": {
      "text/plain": [
       "array([647866.77706854])"
      ]
     },
     "execution_count": 180,
     "metadata": {},
     "output_type": "execute_result"
    }
   ],
   "source": [
    "lr = LinearRegression()\n",
    "lr.fit(X_train[cols], y_train)\n",
    "lr.predict(X_potentials[cols])"
   ]
  },
  {
   "cell_type": "code",
   "execution_count": 181,
   "metadata": {
    "ExecuteTime": {
     "end_time": "2022-04-01T13:55:25.267519Z",
     "start_time": "2022-04-01T13:55:25.264417Z"
    }
   },
   "outputs": [
    {
     "data": {
      "text/plain": [
       "653306.17605558"
      ]
     },
     "execution_count": 181,
     "metadata": {},
     "output_type": "execute_result"
    }
   ],
   "source": [
    "653306.17605558"
   ]
  },
  {
   "cell_type": "markdown",
   "metadata": {},
   "source": [
    "#### Model 8"
   ]
  },
  {
   "cell_type": "markdown",
   "metadata": {},
   "source": [
    "Using columns 'sqft_living', 'bedrooms', 'bathrooms', 'yr_built', 'waterfront' and the columns created from encoding 'bedroom_bin', 'condition', 'view', and 'zipcode'."
   ]
  },
  {
   "cell_type": "code",
   "execution_count": 182,
   "metadata": {
    "ExecuteTime": {
     "end_time": "2022-04-01T13:55:25.269938Z",
     "start_time": "2022-04-01T13:55:25.268547Z"
    }
   },
   "outputs": [],
   "source": [
    "# + encoded_view  , 'waterfront'"
   ]
  },
  {
   "cell_type": "code",
   "execution_count": 183,
   "metadata": {
    "ExecuteTime": {
     "end_time": "2022-04-01T13:55:25.276724Z",
     "start_time": "2022-04-01T13:55:25.271988Z"
    }
   },
   "outputs": [],
   "source": [
    "cols = ['sqft_living', 'sqft_living15','bathrooms', 'yr_built'] + encoded_bedroom_bin + encoded_condition+ encoded_zipcode\n",
    "y = y_train\n",
    "x = X_train.filter(cols, axis=1)\n",
    "\n",
    "y2 = y_test\n",
    "x2 = X_test.filter(cols, axis=1)"
   ]
  },
  {
   "cell_type": "code",
   "execution_count": 184,
   "metadata": {
    "ExecuteTime": {
     "end_time": "2022-04-01T13:55:25.467912Z",
     "start_time": "2022-04-01T13:55:25.278145Z"
    }
   },
   "outputs": [
    {
     "name": "stdout",
     "output_type": "stream",
     "text": [
      "Training Score: 0.807196537717471\n",
      "Test Score: 0.7988706023988719\n"
     ]
    }
   ],
   "source": [
    "X_train_scaled, X_test_scaled, train_preds, test_preds = scale_n_score(x,y,x2,y2)"
   ]
  },
  {
   "cell_type": "code",
   "execution_count": 185,
   "metadata": {
    "ExecuteTime": {
     "end_time": "2022-04-01T13:55:25.473254Z",
     "start_time": "2022-04-01T13:55:25.468934Z"
    }
   },
   "outputs": [
    {
     "name": "stdout",
     "output_type": "stream",
     "text": [
      "\n",
      "Training Metrics:\n",
      "R2: 0.807\n",
      "Mean Absolute Error: 64799.428\n",
      "Mean Squared Error: 7833972009.208\n",
      "Root Mean Squared Error: 88509.728\n",
      "\n",
      "Testing Metrics:\n",
      "R2: 0.799\n",
      "Mean Absolute Error: 64826.323\n",
      "Mean Squared Error: 7931439955.915\n",
      "Root Mean Squared Error: 89058.632\n"
     ]
    }
   ],
   "source": [
    "get_train_test_metrics(y_train, train_preds, y_test, test_preds)"
   ]
  },
  {
   "cell_type": "markdown",
   "metadata": {
    "ExecuteTime": {
     "end_time": "2022-03-31T21:24:00.826684Z",
     "start_time": "2022-03-31T21:24:00.179357Z"
    },
    "scrolled": false
   },
   "source": [
    "lr = LinearRegression()\n",
    "visualizer = ResidualsPlot(lr)\n",
    "\n",
    "visualizer.fit(X_train_scaled, y_train)  # Fit the training data to the visualizer\n",
    "visualizer.score(X_test_scaled, y_test)  # Evaluate the model on the test data\n",
    "visualizer.show()  \n",
    "plt.show()"
   ]
  },
  {
   "cell_type": "code",
   "execution_count": 186,
   "metadata": {
    "ExecuteTime": {
     "end_time": "2022-04-01T13:55:25.561991Z",
     "start_time": "2022-04-01T13:55:25.474472Z"
    }
   },
   "outputs": [
    {
     "data": {
      "image/png": "[encoded data removed]",
      "text/plain": [
       "<Figure size 432x288 with 1 Axes>"
      ]
     },
     "metadata": {
      "needs_background": "light"
     },
     "output_type": "display_data"
    }
   ],
   "source": [
    "train_residuals = y_train - train_preds\n",
    "test_residuals = y_test - test_preds\n",
    "sm.qqplot(train_residuals, line = 'r');"
   ]
  },
  {
   "cell_type": "code",
   "execution_count": 187,
   "metadata": {
    "ExecuteTime": {
     "end_time": "2022-04-01T13:55:25.864509Z",
     "start_time": "2022-04-01T13:55:25.563178Z"
    },
    "scrolled": true
   },
   "outputs": [
    {
     "data": {
      "text/html": [
       "<table class=\"simpletable\">\n",
       "<caption>OLS Regression Results</caption>\n",
       "<tr>\n",
       "  <th>Dep. Variable:</th>          <td>price</td>      <th>  R-squared:         </th>  <td>   0.807</td>  \n",
       "</tr>\n",
       "<tr>\n",
       "  <th>Model:</th>                   <td>OLS</td>       <th>  Adj. R-squared:    </th>  <td>   0.806</td>  \n",
       "</tr>\n",
       "<tr>\n",
       "  <th>Method:</th>             <td>Least Squares</td>  <th>  F-statistic:       </th>  <td>   677.1</td>  \n",
       "</tr>\n",
       "<tr>\n",
       "  <th>Date:</th>             <td>Fri, 01 Apr 2022</td> <th>  Prob (F-statistic):</th>   <td>  0.00</td>   \n",
       "</tr>\n",
       "<tr>\n",
       "  <th>Time:</th>                 <td>08:55:25</td>     <th>  Log-Likelihood:    </th> <td>-1.7302e+05</td>\n",
       "</tr>\n",
       "<tr>\n",
       "  <th>No. Observations:</th>      <td> 13507</td>      <th>  AIC:               </th>  <td>3.462e+05</td> \n",
       "</tr>\n",
       "<tr>\n",
       "  <th>Df Residuals:</th>          <td> 13423</td>      <th>  BIC:               </th>  <td>3.468e+05</td> \n",
       "</tr>\n",
       "<tr>\n",
       "  <th>Df Model:</th>              <td>    83</td>      <th>                     </th>      <td> </td>     \n",
       "</tr>\n",
       "<tr>\n",
       "  <th>Covariance Type:</th>      <td>nonrobust</td>    <th>                     </th>      <td> </td>     \n",
       "</tr>\n",
       "</table>\n",
       "<table class=\"simpletable\">\n",
       "<tr>\n",
       "             <td></td>               <th>coef</th>     <th>std err</th>      <th>t</th>      <th>P>|t|</th>  <th>[0.025</th>    <th>0.975]</th>  \n",
       "</tr>\n",
       "<tr>\n",
       "  <th>const</th>                  <td> 4.801e+05</td> <td> 7.72e+04</td> <td>    6.217</td> <td> 0.000</td> <td> 3.29e+05</td> <td> 6.31e+05</td>\n",
       "</tr>\n",
       "<tr>\n",
       "  <th>sqft_living</th>            <td>  131.2339</td> <td>    2.191</td> <td>   59.888</td> <td> 0.000</td> <td>  126.939</td> <td>  135.529</td>\n",
       "</tr>\n",
       "<tr>\n",
       "  <th>sqft_living15</th>          <td>   67.2887</td> <td>    2.197</td> <td>   30.627</td> <td> 0.000</td> <td>   62.982</td> <td>   71.595</td>\n",
       "</tr>\n",
       "<tr>\n",
       "  <th>bathrooms</th>              <td> 1.363e+04</td> <td> 1862.974</td> <td>    7.316</td> <td> 0.000</td> <td> 9978.755</td> <td> 1.73e+04</td>\n",
       "</tr>\n",
       "<tr>\n",
       "  <th>yr_built</th>               <td> -308.3527</td> <td>   39.370</td> <td>   -7.832</td> <td> 0.000</td> <td> -385.524</td> <td> -231.182</td>\n",
       "</tr>\n",
       "<tr>\n",
       "  <th>bedrooms_bin_x0_2BR</th>    <td> 7203.8730</td> <td> 8221.524</td> <td>    0.876</td> <td> 0.381</td> <td>-8911.471</td> <td> 2.33e+04</td>\n",
       "</tr>\n",
       "<tr>\n",
       "  <th>bedrooms_bin_x0_3BR</th>    <td> 8138.3522</td> <td> 8153.838</td> <td>    0.998</td> <td> 0.318</td> <td>-7844.317</td> <td> 2.41e+04</td>\n",
       "</tr>\n",
       "<tr>\n",
       "  <th>bedrooms_bin_x0_4BR</th>    <td>-3479.5988</td> <td> 8384.950</td> <td>   -0.415</td> <td> 0.678</td> <td>-1.99e+04</td> <td>  1.3e+04</td>\n",
       "</tr>\n",
       "<tr>\n",
       "  <th>bedrooms_bin_x0_5BR</th>    <td> -2.83e+04</td> <td> 8950.871</td> <td>   -3.162</td> <td> 0.002</td> <td>-4.58e+04</td> <td>-1.08e+04</td>\n",
       "</tr>\n",
       "<tr>\n",
       "  <th>bedrooms_bin_x0_6BR</th>    <td>-5.662e+04</td> <td> 1.16e+04</td> <td>   -4.898</td> <td> 0.000</td> <td>-7.93e+04</td> <td> -3.4e+04</td>\n",
       "</tr>\n",
       "<tr>\n",
       "  <th>bedrooms_bin_x0_7+BR</th>   <td>-1.253e+05</td> <td> 2.09e+04</td> <td>   -5.982</td> <td> 0.000</td> <td>-1.66e+05</td> <td>-8.42e+04</td>\n",
       "</tr>\n",
       "<tr>\n",
       "  <th>condition_x0_Fair</th>      <td>-3.478e+04</td> <td> 9208.842</td> <td>   -3.777</td> <td> 0.000</td> <td>-5.28e+04</td> <td>-1.67e+04</td>\n",
       "</tr>\n",
       "<tr>\n",
       "  <th>condition_x0_Good</th>      <td> 1.332e+04</td> <td> 1978.755</td> <td>    6.734</td> <td> 0.000</td> <td> 9445.391</td> <td> 1.72e+04</td>\n",
       "</tr>\n",
       "<tr>\n",
       "  <th>condition_x0_Poor</th>      <td>-1.143e+05</td> <td> 2.01e+04</td> <td>   -5.696</td> <td> 0.000</td> <td>-1.54e+05</td> <td> -7.5e+04</td>\n",
       "</tr>\n",
       "<tr>\n",
       "  <th>condition_x0_Very Good</th> <td> 4.288e+04</td> <td> 3102.944</td> <td>   13.821</td> <td> 0.000</td> <td> 3.68e+04</td> <td>  4.9e+04</td>\n",
       "</tr>\n",
       "<tr>\n",
       "  <th>zipcode_x0_98002</th>       <td> 6207.1859</td> <td> 9690.632</td> <td>    0.641</td> <td> 0.522</td> <td>-1.28e+04</td> <td> 2.52e+04</td>\n",
       "</tr>\n",
       "<tr>\n",
       "  <th>zipcode_x0_98003</th>       <td> 9212.6578</td> <td> 8649.334</td> <td>    1.065</td> <td> 0.287</td> <td>-7741.253</td> <td> 2.62e+04</td>\n",
       "</tr>\n",
       "<tr>\n",
       "  <th>zipcode_x0_98004</th>       <td> 5.101e+05</td> <td> 1.07e+04</td> <td>   47.824</td> <td> 0.000</td> <td> 4.89e+05</td> <td> 5.31e+05</td>\n",
       "</tr>\n",
       "<tr>\n",
       "  <th>zipcode_x0_98005</th>       <td> 3.502e+05</td> <td> 1.19e+04</td> <td>   29.443</td> <td> 0.000</td> <td> 3.27e+05</td> <td> 3.73e+05</td>\n",
       "</tr>\n",
       "<tr>\n",
       "  <th>zipcode_x0_98006</th>       <td> 2.873e+05</td> <td> 8099.580</td> <td>   35.470</td> <td> 0.000</td> <td> 2.71e+05</td> <td> 3.03e+05</td>\n",
       "</tr>\n",
       "<tr>\n",
       "  <th>zipcode_x0_98007</th>       <td> 2.645e+05</td> <td> 1.06e+04</td> <td>   24.862</td> <td> 0.000</td> <td> 2.44e+05</td> <td> 2.85e+05</td>\n",
       "</tr>\n",
       "<tr>\n",
       "  <th>zipcode_x0_98008</th>       <td> 2.546e+05</td> <td> 8778.342</td> <td>   28.999</td> <td> 0.000</td> <td> 2.37e+05</td> <td> 2.72e+05</td>\n",
       "</tr>\n",
       "<tr>\n",
       "  <th>zipcode_x0_98010</th>       <td> 1.009e+05</td> <td>  1.7e+04</td> <td>    5.928</td> <td> 0.000</td> <td> 6.75e+04</td> <td> 1.34e+05</td>\n",
       "</tr>\n",
       "<tr>\n",
       "  <th>zipcode_x0_98011</th>       <td> 1.396e+05</td> <td> 9827.406</td> <td>   14.204</td> <td> 0.000</td> <td>  1.2e+05</td> <td> 1.59e+05</td>\n",
       "</tr>\n",
       "<tr>\n",
       "  <th>zipcode_x0_98014</th>       <td> 1.248e+05</td> <td> 1.58e+04</td> <td>    7.912</td> <td> 0.000</td> <td> 9.39e+04</td> <td> 1.56e+05</td>\n",
       "</tr>\n",
       "<tr>\n",
       "  <th>zipcode_x0_98019</th>       <td> 7.946e+04</td> <td> 1.03e+04</td> <td>    7.701</td> <td> 0.000</td> <td> 5.92e+04</td> <td> 9.97e+04</td>\n",
       "</tr>\n",
       "<tr>\n",
       "  <th>zipcode_x0_98022</th>       <td> 1.828e+04</td> <td> 1.05e+04</td> <td>    1.745</td> <td> 0.081</td> <td>-2255.380</td> <td> 3.88e+04</td>\n",
       "</tr>\n",
       "<tr>\n",
       "  <th>zipcode_x0_98023</th>       <td>-1.298e+04</td> <td> 7534.566</td> <td>   -1.723</td> <td> 0.085</td> <td>-2.77e+04</td> <td> 1787.737</td>\n",
       "</tr>\n",
       "<tr>\n",
       "  <th>zipcode_x0_98024</th>       <td> 1.421e+05</td> <td> 2.08e+04</td> <td>    6.849</td> <td> 0.000</td> <td> 1.01e+05</td> <td> 1.83e+05</td>\n",
       "</tr>\n",
       "<tr>\n",
       "  <th>zipcode_x0_98027</th>       <td>  2.33e+05</td> <td> 8785.559</td> <td>   26.518</td> <td> 0.000</td> <td> 2.16e+05</td> <td>  2.5e+05</td>\n",
       "</tr>\n",
       "<tr>\n",
       "  <th>zipcode_x0_98028</th>       <td> 1.291e+05</td> <td> 8709.903</td> <td>   14.826</td> <td> 0.000</td> <td> 1.12e+05</td> <td> 1.46e+05</td>\n",
       "</tr>\n",
       "<tr>\n",
       "  <th>zipcode_x0_98029</th>       <td> 2.477e+05</td> <td> 8460.259</td> <td>   29.274</td> <td> 0.000</td> <td> 2.31e+05</td> <td> 2.64e+05</td>\n",
       "</tr>\n",
       "<tr>\n",
       "  <th>zipcode_x0_98030</th>       <td> 7571.0656</td> <td> 8861.422</td> <td>    0.854</td> <td> 0.393</td> <td>-9798.569</td> <td> 2.49e+04</td>\n",
       "</tr>\n",
       "<tr>\n",
       "  <th>zipcode_x0_98031</th>       <td>  1.07e+04</td> <td> 8630.522</td> <td>    1.240</td> <td> 0.215</td> <td>-6215.666</td> <td> 2.76e+04</td>\n",
       "</tr>\n",
       "<tr>\n",
       "  <th>zipcode_x0_98032</th>       <td> 5142.9460</td> <td> 1.14e+04</td> <td>    0.452</td> <td> 0.651</td> <td>-1.71e+04</td> <td> 2.74e+04</td>\n",
       "</tr>\n",
       "<tr>\n",
       "  <th>zipcode_x0_98033</th>       <td> 3.247e+05</td> <td> 8057.727</td> <td>   40.294</td> <td> 0.000</td> <td> 3.09e+05</td> <td>  3.4e+05</td>\n",
       "</tr>\n",
       "<tr>\n",
       "  <th>zipcode_x0_98034</th>       <td>  1.88e+05</td> <td> 7496.408</td> <td>   25.077</td> <td> 0.000</td> <td> 1.73e+05</td> <td> 2.03e+05</td>\n",
       "</tr>\n",
       "<tr>\n",
       "  <th>zipcode_x0_98038</th>       <td>  2.71e+04</td> <td> 7496.484</td> <td>    3.615</td> <td> 0.000</td> <td> 1.24e+04</td> <td> 4.18e+04</td>\n",
       "</tr>\n",
       "<tr>\n",
       "  <th>zipcode_x0_98039</th>       <td> 6.366e+05</td> <td> 4.02e+04</td> <td>   15.844</td> <td> 0.000</td> <td> 5.58e+05</td> <td> 7.15e+05</td>\n",
       "</tr>\n",
       "<tr>\n",
       "  <th>zipcode_x0_98040</th>       <td> 4.328e+05</td> <td> 1.04e+04</td> <td>   41.423</td> <td> 0.000</td> <td> 4.12e+05</td> <td> 4.53e+05</td>\n",
       "</tr>\n",
       "<tr>\n",
       "  <th>zipcode_x0_98042</th>       <td> 4912.9587</td> <td> 7701.025</td> <td>    0.638</td> <td> 0.524</td> <td>-1.02e+04</td> <td>    2e+04</td>\n",
       "</tr>\n",
       "<tr>\n",
       "  <th>zipcode_x0_98045</th>       <td> 1.071e+05</td> <td> 1.04e+04</td> <td>   10.304</td> <td> 0.000</td> <td> 8.67e+04</td> <td> 1.27e+05</td>\n",
       "</tr>\n",
       "<tr>\n",
       "  <th>zipcode_x0_98052</th>       <td> 2.612e+05</td> <td> 7447.488</td> <td>   35.077</td> <td> 0.000</td> <td> 2.47e+05</td> <td> 2.76e+05</td>\n",
       "</tr>\n",
       "<tr>\n",
       "  <th>zipcode_x0_98053</th>       <td> 2.519e+05</td> <td> 9005.951</td> <td>   27.969</td> <td> 0.000</td> <td> 2.34e+05</td> <td>  2.7e+05</td>\n",
       "</tr>\n",
       "<tr>\n",
       "  <th>zipcode_x0_98055</th>       <td> 4.566e+04</td> <td> 8711.835</td> <td>    5.241</td> <td> 0.000</td> <td> 2.86e+04</td> <td> 6.27e+04</td>\n",
       "</tr>\n",
       "<tr>\n",
       "  <th>zipcode_x0_98056</th>       <td> 1.009e+05</td> <td> 7842.895</td> <td>   12.864</td> <td> 0.000</td> <td> 8.55e+04</td> <td> 1.16e+05</td>\n",
       "</tr>\n",
       "<tr>\n",
       "  <th>zipcode_x0_98058</th>       <td> 3.646e+04</td> <td> 7867.522</td> <td>    4.635</td> <td> 0.000</td> <td>  2.1e+04</td> <td> 5.19e+04</td>\n",
       "</tr>\n",
       "<tr>\n",
       "  <th>zipcode_x0_98059</th>       <td> 9.298e+04</td> <td> 7973.656</td> <td>   11.661</td> <td> 0.000</td> <td> 7.74e+04</td> <td> 1.09e+05</td>\n",
       "</tr>\n",
       "<tr>\n",
       "  <th>zipcode_x0_98065</th>       <td> 1.185e+05</td> <td> 8750.734</td> <td>   13.543</td> <td> 0.000</td> <td> 1.01e+05</td> <td> 1.36e+05</td>\n",
       "</tr>\n",
       "<tr>\n",
       "  <th>zipcode_x0_98070</th>       <td> 1.175e+05</td> <td>  2.3e+04</td> <td>    5.109</td> <td> 0.000</td> <td> 7.24e+04</td> <td> 1.63e+05</td>\n",
       "</tr>\n",
       "<tr>\n",
       "  <th>zipcode_x0_98072</th>       <td> 1.489e+05</td> <td>  1.1e+04</td> <td>   13.549</td> <td> 0.000</td> <td> 1.27e+05</td> <td>  1.7e+05</td>\n",
       "</tr>\n",
       "<tr>\n",
       "  <th>zipcode_x0_98074</th>       <td> 2.405e+05</td> <td> 8111.901</td> <td>   29.648</td> <td> 0.000</td> <td> 2.25e+05</td> <td> 2.56e+05</td>\n",
       "</tr>\n",
       "<tr>\n",
       "  <th>zipcode_x0_98075</th>       <td> 2.478e+05</td> <td> 9256.511</td> <td>   26.771</td> <td> 0.000</td> <td>  2.3e+05</td> <td> 2.66e+05</td>\n",
       "</tr>\n",
       "<tr>\n",
       "  <th>zipcode_x0_98077</th>       <td>  2.19e+05</td> <td> 1.81e+04</td> <td>   12.093</td> <td> 0.000</td> <td> 1.83e+05</td> <td> 2.54e+05</td>\n",
       "</tr>\n",
       "<tr>\n",
       "  <th>zipcode_x0_98092</th>       <td>-1.566e+04</td> <td> 8634.616</td> <td>   -1.814</td> <td> 0.070</td> <td>-3.26e+04</td> <td> 1262.372</td>\n",
       "</tr>\n",
       "<tr>\n",
       "  <th>zipcode_x0_98102</th>       <td> 4.348e+05</td> <td> 1.22e+04</td> <td>   35.710</td> <td> 0.000</td> <td> 4.11e+05</td> <td> 4.59e+05</td>\n",
       "</tr>\n",
       "<tr>\n",
       "  <th>zipcode_x0_98103</th>       <td> 3.381e+05</td> <td> 7372.676</td> <td>   45.856</td> <td> 0.000</td> <td> 3.24e+05</td> <td> 3.53e+05</td>\n",
       "</tr>\n",
       "<tr>\n",
       "  <th>zipcode_x0_98105</th>       <td> 3.982e+05</td> <td> 9846.757</td> <td>   40.442</td> <td> 0.000</td> <td> 3.79e+05</td> <td> 4.18e+05</td>\n",
       "</tr>\n",
       "<tr>\n",
       "  <th>zipcode_x0_98106</th>       <td> 1.308e+05</td> <td> 8168.461</td> <td>   16.008</td> <td> 0.000</td> <td> 1.15e+05</td> <td> 1.47e+05</td>\n",
       "</tr>\n",
       "<tr>\n",
       "  <th>zipcode_x0_98107</th>       <td> 3.341e+05</td> <td> 8917.842</td> <td>   37.459</td> <td> 0.000</td> <td> 3.17e+05</td> <td> 3.52e+05</td>\n",
       "</tr>\n",
       "<tr>\n",
       "  <th>zipcode_x0_98108</th>       <td>  1.14e+05</td> <td> 9626.535</td> <td>   11.841</td> <td> 0.000</td> <td> 9.51e+04</td> <td> 1.33e+05</td>\n",
       "</tr>\n",
       "<tr>\n",
       "  <th>zipcode_x0_98109</th>       <td> 4.267e+05</td> <td> 1.24e+04</td> <td>   34.310</td> <td> 0.000</td> <td> 4.02e+05</td> <td> 4.51e+05</td>\n",
       "</tr>\n",
       "<tr>\n",
       "  <th>zipcode_x0_98112</th>       <td> 4.519e+05</td> <td> 1.02e+04</td> <td>   44.355</td> <td> 0.000</td> <td> 4.32e+05</td> <td> 4.72e+05</td>\n",
       "</tr>\n",
       "<tr>\n",
       "  <th>zipcode_x0_98115</th>       <td> 3.322e+05</td> <td> 7431.629</td> <td>   44.696</td> <td> 0.000</td> <td> 3.18e+05</td> <td> 3.47e+05</td>\n",
       "</tr>\n",
       "<tr>\n",
       "  <th>zipcode_x0_98116</th>       <td> 3.188e+05</td> <td> 8472.949</td> <td>   37.628</td> <td> 0.000</td> <td> 3.02e+05</td> <td> 3.35e+05</td>\n",
       "</tr>\n",
       "<tr>\n",
       "  <th>zipcode_x0_98117</th>       <td>  3.31e+05</td> <td> 7504.470</td> <td>   44.110</td> <td> 0.000</td> <td> 3.16e+05</td> <td> 3.46e+05</td>\n",
       "</tr>\n",
       "<tr>\n",
       "  <th>zipcode_x0_98118</th>       <td> 1.708e+05</td> <td> 7608.651</td> <td>   22.444</td> <td> 0.000</td> <td> 1.56e+05</td> <td> 1.86e+05</td>\n",
       "</tr>\n",
       "<tr>\n",
       "  <th>zipcode_x0_98119</th>       <td> 4.351e+05</td> <td> 1.04e+04</td> <td>   41.854</td> <td> 0.000</td> <td> 4.15e+05</td> <td> 4.55e+05</td>\n",
       "</tr>\n",
       "<tr>\n",
       "  <th>zipcode_x0_98122</th>       <td> 3.364e+05</td> <td> 8701.025</td> <td>   38.658</td> <td> 0.000</td> <td> 3.19e+05</td> <td> 3.53e+05</td>\n",
       "</tr>\n",
       "<tr>\n",
       "  <th>zipcode_x0_98125</th>       <td> 2.021e+05</td> <td> 7998.491</td> <td>   25.272</td> <td> 0.000</td> <td> 1.86e+05</td> <td> 2.18e+05</td>\n",
       "</tr>\n",
       "<tr>\n",
       "  <th>zipcode_x0_98126</th>       <td> 2.127e+05</td> <td> 8316.514</td> <td>   25.575</td> <td> 0.000</td> <td> 1.96e+05</td> <td> 2.29e+05</td>\n",
       "</tr>\n",
       "<tr>\n",
       "  <th>zipcode_x0_98133</th>       <td> 1.578e+05</td> <td> 7569.086</td> <td>   20.848</td> <td> 0.000</td> <td> 1.43e+05</td> <td> 1.73e+05</td>\n",
       "</tr>\n",
       "<tr>\n",
       "  <th>zipcode_x0_98136</th>       <td> 2.871e+05</td> <td> 8728.265</td> <td>   32.890</td> <td> 0.000</td> <td>  2.7e+05</td> <td> 3.04e+05</td>\n",
       "</tr>\n",
       "<tr>\n",
       "  <th>zipcode_x0_98144</th>       <td> 2.553e+05</td> <td> 8288.811</td> <td>   30.802</td> <td> 0.000</td> <td> 2.39e+05</td> <td> 2.72e+05</td>\n",
       "</tr>\n",
       "<tr>\n",
       "  <th>zipcode_x0_98146</th>       <td> 1.219e+05</td> <td> 8668.697</td> <td>   14.057</td> <td> 0.000</td> <td> 1.05e+05</td> <td> 1.39e+05</td>\n",
       "</tr>\n",
       "<tr>\n",
       "  <th>zipcode_x0_98148</th>       <td> 6.558e+04</td> <td>  1.5e+04</td> <td>    4.380</td> <td> 0.000</td> <td> 3.62e+04</td> <td> 9.49e+04</td>\n",
       "</tr>\n",
       "<tr>\n",
       "  <th>zipcode_x0_98155</th>       <td> 1.494e+05</td> <td> 7788.094</td> <td>   19.181</td> <td> 0.000</td> <td> 1.34e+05</td> <td> 1.65e+05</td>\n",
       "</tr>\n",
       "<tr>\n",
       "  <th>zipcode_x0_98166</th>       <td> 1.127e+05</td> <td> 9350.312</td> <td>   12.057</td> <td> 0.000</td> <td> 9.44e+04</td> <td> 1.31e+05</td>\n",
       "</tr>\n",
       "<tr>\n",
       "  <th>zipcode_x0_98168</th>       <td> 4.671e+04</td> <td> 9081.584</td> <td>    5.143</td> <td> 0.000</td> <td> 2.89e+04</td> <td> 6.45e+04</td>\n",
       "</tr>\n",
       "<tr>\n",
       "  <th>zipcode_x0_98177</th>       <td> 2.199e+05</td> <td> 9250.598</td> <td>   23.775</td> <td> 0.000</td> <td> 2.02e+05</td> <td> 2.38e+05</td>\n",
       "</tr>\n",
       "<tr>\n",
       "  <th>zipcode_x0_98178</th>       <td> 6.838e+04</td> <td> 8819.478</td> <td>    7.753</td> <td> 0.000</td> <td> 5.11e+04</td> <td> 8.57e+04</td>\n",
       "</tr>\n",
       "<tr>\n",
       "  <th>zipcode_x0_98188</th>       <td> 3.688e+04</td> <td> 1.07e+04</td> <td>    3.437</td> <td> 0.001</td> <td> 1.59e+04</td> <td> 5.79e+04</td>\n",
       "</tr>\n",
       "<tr>\n",
       "  <th>zipcode_x0_98198</th>       <td> 4.947e+04</td> <td> 8684.820</td> <td>    5.697</td> <td> 0.000</td> <td> 3.24e+04</td> <td> 6.65e+04</td>\n",
       "</tr>\n",
       "<tr>\n",
       "  <th>zipcode_x0_98199</th>       <td> 3.807e+05</td> <td> 8780.640</td> <td>   43.356</td> <td> 0.000</td> <td> 3.63e+05</td> <td> 3.98e+05</td>\n",
       "</tr>\n",
       "</table>\n",
       "<table class=\"simpletable\">\n",
       "<tr>\n",
       "  <th>Omnibus:</th>       <td>1664.969</td> <th>  Durbin-Watson:     </th> <td>   2.008</td>\n",
       "</tr>\n",
       "<tr>\n",
       "  <th>Prob(Omnibus):</th>  <td> 0.000</td>  <th>  Jarque-Bera (JB):  </th> <td>4915.425</td>\n",
       "</tr>\n",
       "<tr>\n",
       "  <th>Skew:</th>           <td> 0.660</td>  <th>  Prob(JB):          </th> <td>    0.00</td>\n",
       "</tr>\n",
       "<tr>\n",
       "  <th>Kurtosis:</th>       <td> 5.644</td>  <th>  Cond. No.          </th> <td>3.44e+05</td>\n",
       "</tr>\n",
       "</table><br/><br/>Notes:<br/>[1] Standard Errors assume that the covariance matrix of the errors is correctly specified.<br/>[2] The condition number is large, 3.44e+05. This might indicate that there are<br/>strong multicollinearity or other numerical problems."
      ],
      "text/plain": [
       "<class 'statsmodels.iolib.summary.Summary'>\n",
       "\"\"\"\n",
       "                            OLS Regression Results                            \n",
       "==============================================================================\n",
       "Dep. Variable:                  price   R-squared:                       0.807\n",
       "Model:                            OLS   Adj. R-squared:                  0.806\n",
       "Method:                 Least Squares   F-statistic:                     677.1\n",
       "Date:                Fri, 01 Apr 2022   Prob (F-statistic):               0.00\n",
       "Time:                        08:55:25   Log-Likelihood:            -1.7302e+05\n",
       "No. Observations:               13507   AIC:                         3.462e+05\n",
       "Df Residuals:                   13423   BIC:                         3.468e+05\n",
       "Df Model:                          83                                         \n",
       "Covariance Type:            nonrobust                                         \n",
       "==========================================================================================\n",
       "                             coef    std err          t      P>|t|      [0.025      0.975]\n",
       "------------------------------------------------------------------------------------------\n",
       "const                   4.801e+05   7.72e+04      6.217      0.000    3.29e+05    6.31e+05\n",
       "sqft_living              131.2339      2.191     59.888      0.000     126.939     135.529\n",
       "sqft_living15             67.2887      2.197     30.627      0.000      62.982      71.595\n",
       "bathrooms               1.363e+04   1862.974      7.316      0.000    9978.755    1.73e+04\n",
       "yr_built                -308.3527     39.370     -7.832      0.000    -385.524    -231.182\n",
       "bedrooms_bin_x0_2BR     7203.8730   8221.524      0.876      0.381   -8911.471    2.33e+04\n",
       "bedrooms_bin_x0_3BR     8138.3522   8153.838      0.998      0.318   -7844.317    2.41e+04\n",
       "bedrooms_bin_x0_4BR    -3479.5988   8384.950     -0.415      0.678   -1.99e+04     1.3e+04\n",
       "bedrooms_bin_x0_5BR     -2.83e+04   8950.871     -3.162      0.002   -4.58e+04   -1.08e+04\n",
       "bedrooms_bin_x0_6BR    -5.662e+04   1.16e+04     -4.898      0.000   -7.93e+04    -3.4e+04\n",
       "bedrooms_bin_x0_7+BR   -1.253e+05   2.09e+04     -5.982      0.000   -1.66e+05   -8.42e+04\n",
       "condition_x0_Fair      -3.478e+04   9208.842     -3.777      0.000   -5.28e+04   -1.67e+04\n",
       "condition_x0_Good       1.332e+04   1978.755      6.734      0.000    9445.391    1.72e+04\n",
       "condition_x0_Poor      -1.143e+05   2.01e+04     -5.696      0.000   -1.54e+05    -7.5e+04\n",
       "condition_x0_Very Good  4.288e+04   3102.944     13.821      0.000    3.68e+04     4.9e+04\n",
       "zipcode_x0_98002        6207.1859   9690.632      0.641      0.522   -1.28e+04    2.52e+04\n",
       "zipcode_x0_98003        9212.6578   8649.334      1.065      0.287   -7741.253    2.62e+04\n",
       "zipcode_x0_98004        5.101e+05   1.07e+04     47.824      0.000    4.89e+05    5.31e+05\n",
       "zipcode_x0_98005        3.502e+05   1.19e+04     29.443      0.000    3.27e+05    3.73e+05\n",
       "zipcode_x0_98006        2.873e+05   8099.580     35.470      0.000    2.71e+05    3.03e+05\n",
       "zipcode_x0_98007        2.645e+05   1.06e+04     24.862      0.000    2.44e+05    2.85e+05\n",
       "zipcode_x0_98008        2.546e+05   8778.342     28.999      0.000    2.37e+05    2.72e+05\n",
       "zipcode_x0_98010        1.009e+05    1.7e+04      5.928      0.000    6.75e+04    1.34e+05\n",
       "zipcode_x0_98011        1.396e+05   9827.406     14.204      0.000     1.2e+05    1.59e+05\n",
       "zipcode_x0_98014        1.248e+05   1.58e+04      7.912      0.000    9.39e+04    1.56e+05\n",
       "zipcode_x0_98019        7.946e+04   1.03e+04      7.701      0.000    5.92e+04    9.97e+04\n",
       "zipcode_x0_98022        1.828e+04   1.05e+04      1.745      0.081   -2255.380    3.88e+04\n",
       "zipcode_x0_98023       -1.298e+04   7534.566     -1.723      0.085   -2.77e+04    1787.737\n",
       "zipcode_x0_98024        1.421e+05   2.08e+04      6.849      0.000    1.01e+05    1.83e+05\n",
       "zipcode_x0_98027         2.33e+05   8785.559     26.518      0.000    2.16e+05     2.5e+05\n",
       "zipcode_x0_98028        1.291e+05   8709.903     14.826      0.000    1.12e+05    1.46e+05\n",
       "zipcode_x0_98029        2.477e+05   8460.259     29.274      0.000    2.31e+05    2.64e+05\n",
       "zipcode_x0_98030        7571.0656   8861.422      0.854      0.393   -9798.569    2.49e+04\n",
       "zipcode_x0_98031         1.07e+04   8630.522      1.240      0.215   -6215.666    2.76e+04\n",
       "zipcode_x0_98032        5142.9460   1.14e+04      0.452      0.651   -1.71e+04    2.74e+04\n",
       "zipcode_x0_98033        3.247e+05   8057.727     40.294      0.000    3.09e+05     3.4e+05\n",
       "zipcode_x0_98034         1.88e+05   7496.408     25.077      0.000    1.73e+05    2.03e+05\n",
       "zipcode_x0_98038         2.71e+04   7496.484      3.615      0.000    1.24e+04    4.18e+04\n",
       "zipcode_x0_98039        6.366e+05   4.02e+04     15.844      0.000    5.58e+05    7.15e+05\n",
       "zipcode_x0_98040        4.328e+05   1.04e+04     41.423      0.000    4.12e+05    4.53e+05\n",
       "zipcode_x0_98042        4912.9587   7701.025      0.638      0.524   -1.02e+04       2e+04\n",
       "zipcode_x0_98045        1.071e+05   1.04e+04     10.304      0.000    8.67e+04    1.27e+05\n",
       "zipcode_x0_98052        2.612e+05   7447.488     35.077      0.000    2.47e+05    2.76e+05\n",
       "zipcode_x0_98053        2.519e+05   9005.951     27.969      0.000    2.34e+05     2.7e+05\n",
       "zipcode_x0_98055        4.566e+04   8711.835      5.241      0.000    2.86e+04    6.27e+04\n",
       "zipcode_x0_98056        1.009e+05   7842.895     12.864      0.000    8.55e+04    1.16e+05\n",
       "zipcode_x0_98058        3.646e+04   7867.522      4.635      0.000     2.1e+04    5.19e+04\n",
       "zipcode_x0_98059        9.298e+04   7973.656     11.661      0.000    7.74e+04    1.09e+05\n",
       "zipcode_x0_98065        1.185e+05   8750.734     13.543      0.000    1.01e+05    1.36e+05\n",
       "zipcode_x0_98070        1.175e+05    2.3e+04      5.109      0.000    7.24e+04    1.63e+05\n",
       "zipcode_x0_98072        1.489e+05    1.1e+04     13.549      0.000    1.27e+05     1.7e+05\n",
       "zipcode_x0_98074        2.405e+05   8111.901     29.648      0.000    2.25e+05    2.56e+05\n",
       "zipcode_x0_98075        2.478e+05   9256.511     26.771      0.000     2.3e+05    2.66e+05\n",
       "zipcode_x0_98077         2.19e+05   1.81e+04     12.093      0.000    1.83e+05    2.54e+05\n",
       "zipcode_x0_98092       -1.566e+04   8634.616     -1.814      0.070   -3.26e+04    1262.372\n",
       "zipcode_x0_98102        4.348e+05   1.22e+04     35.710      0.000    4.11e+05    4.59e+05\n",
       "zipcode_x0_98103        3.381e+05   7372.676     45.856      0.000    3.24e+05    3.53e+05\n",
       "zipcode_x0_98105        3.982e+05   9846.757     40.442      0.000    3.79e+05    4.18e+05\n",
       "zipcode_x0_98106        1.308e+05   8168.461     16.008      0.000    1.15e+05    1.47e+05\n",
       "zipcode_x0_98107        3.341e+05   8917.842     37.459      0.000    3.17e+05    3.52e+05\n",
       "zipcode_x0_98108         1.14e+05   9626.535     11.841      0.000    9.51e+04    1.33e+05\n",
       "zipcode_x0_98109        4.267e+05   1.24e+04     34.310      0.000    4.02e+05    4.51e+05\n",
       "zipcode_x0_98112        4.519e+05   1.02e+04     44.355      0.000    4.32e+05    4.72e+05\n",
       "zipcode_x0_98115        3.322e+05   7431.629     44.696      0.000    3.18e+05    3.47e+05\n",
       "zipcode_x0_98116        3.188e+05   8472.949     37.628      0.000    3.02e+05    3.35e+05\n",
       "zipcode_x0_98117         3.31e+05   7504.470     44.110      0.000    3.16e+05    3.46e+05\n",
       "zipcode_x0_98118        1.708e+05   7608.651     22.444      0.000    1.56e+05    1.86e+05\n",
       "zipcode_x0_98119        4.351e+05   1.04e+04     41.854      0.000    4.15e+05    4.55e+05\n",
       "zipcode_x0_98122        3.364e+05   8701.025     38.658      0.000    3.19e+05    3.53e+05\n",
       "zipcode_x0_98125        2.021e+05   7998.491     25.272      0.000    1.86e+05    2.18e+05\n",
       "zipcode_x0_98126        2.127e+05   8316.514     25.575      0.000    1.96e+05    2.29e+05\n",
       "zipcode_x0_98133        1.578e+05   7569.086     20.848      0.000    1.43e+05    1.73e+05\n",
       "zipcode_x0_98136        2.871e+05   8728.265     32.890      0.000     2.7e+05    3.04e+05\n",
       "zipcode_x0_98144        2.553e+05   8288.811     30.802      0.000    2.39e+05    2.72e+05\n",
       "zipcode_x0_98146        1.219e+05   8668.697     14.057      0.000    1.05e+05    1.39e+05\n",
       "zipcode_x0_98148        6.558e+04    1.5e+04      4.380      0.000    3.62e+04    9.49e+04\n",
       "zipcode_x0_98155        1.494e+05   7788.094     19.181      0.000    1.34e+05    1.65e+05\n",
       "zipcode_x0_98166        1.127e+05   9350.312     12.057      0.000    9.44e+04    1.31e+05\n",
       "zipcode_x0_98168        4.671e+04   9081.584      5.143      0.000    2.89e+04    6.45e+04\n",
       "zipcode_x0_98177        2.199e+05   9250.598     23.775      0.000    2.02e+05    2.38e+05\n",
       "zipcode_x0_98178        6.838e+04   8819.478      7.753      0.000    5.11e+04    8.57e+04\n",
       "zipcode_x0_98188        3.688e+04   1.07e+04      3.437      0.001    1.59e+04    5.79e+04\n",
       "zipcode_x0_98198        4.947e+04   8684.820      5.697      0.000    3.24e+04    6.65e+04\n",
       "zipcode_x0_98199        3.807e+05   8780.640     43.356      0.000    3.63e+05    3.98e+05\n",
       "==============================================================================\n",
       "Omnibus:                     1664.969   Durbin-Watson:                   2.008\n",
       "Prob(Omnibus):                  0.000   Jarque-Bera (JB):             4915.425\n",
       "Skew:                           0.660   Prob(JB):                         0.00\n",
       "Kurtosis:                       5.644   Cond. No.                     3.44e+05\n",
       "==============================================================================\n",
       "\n",
       "Notes:\n",
       "[1] Standard Errors assume that the covariance matrix of the errors is correctly specified.\n",
       "[2] The condition number is large, 3.44e+05. This might indicate that there are\n",
       "strong multicollinearity or other numerical problems.\n",
       "\"\"\""
      ]
     },
     "execution_count": 187,
     "metadata": {},
     "output_type": "execute_result"
    }
   ],
   "source": [
    "y = y_train\n",
    "x = X_train.filter(cols, axis=1)\n",
    "x = sm.add_constant(x)\n",
    "model = sm.OLS(y, x).fit()\n",
    "model.summary()"
   ]
  },
  {
   "cell_type": "code",
   "execution_count": 188,
   "metadata": {
    "ExecuteTime": {
     "end_time": "2022-04-01T13:55:25.873334Z",
     "start_time": "2022-04-01T13:55:25.865848Z"
    }
   },
   "outputs": [],
   "source": [
    "X_potentials = pd.DataFrame(columns = X_train.columns)"
   ]
  },
  {
   "cell_type": "code",
   "execution_count": 189,
   "metadata": {
    "ExecuteTime": {
     "end_time": "2022-04-01T13:55:25.878375Z",
     "start_time": "2022-04-01T13:55:25.874661Z"
    }
   },
   "outputs": [],
   "source": [
    "for num in range(0,1):\n",
    "    X_potentials = X_potentials.append(\n",
    "    pd.Series(0, index=X_potentials.columns), \n",
    "    ignore_index=True)"
   ]
  },
  {
   "cell_type": "code",
   "execution_count": 190,
   "metadata": {
    "ExecuteTime": {
     "end_time": "2022-04-01T13:55:25.892223Z",
     "start_time": "2022-04-01T13:55:25.880112Z"
    }
   },
   "outputs": [],
   "source": [
    "X_potentials['sqft_living'].replace(0,df['sqft_living'].median(),inplace=True)\n",
    "X_potentials['sqft_living15'].replace(0,df['sqft_living15'].median(),inplace=True)\n",
    "X_potentials['bathrooms'].replace(0,df.bathrooms.value_counts().index[0],inplace=True)\n",
    "X_potentials['yr_built'].replace(0,df.yr_built.value_counts().index[0],inplace=True)\n",
    "\n",
    "X_potentials['bedrooms_bin_x0_3BR'].replace(0,1,inplace=True)\n",
    "\n",
    "#condition not needed. By default average\n",
    "\n",
    "X_potentials['zipcode_x0_98103'].replace(0,1,inplace=True)\n",
    "\n",
    "\n",
    "X_potentials2 = X_potentials"
   ]
  },
  {
   "cell_type": "code",
   "execution_count": 191,
   "metadata": {
    "ExecuteTime": {
     "end_time": "2022-04-01T13:55:26.163241Z",
     "start_time": "2022-04-01T13:55:25.893153Z"
    }
   },
   "outputs": [
    {
     "data": {
      "text/plain": [
       "array([591839.61053341])"
      ]
     },
     "execution_count": 191,
     "metadata": {},
     "output_type": "execute_result"
    }
   ],
   "source": [
    "lr = LinearRegression()\n",
    "lr.fit(X_train[cols], y_train)\n",
    "lr.predict(X_potentials[cols])"
   ]
  },
  {
   "cell_type": "code",
   "execution_count": 192,
   "metadata": {
    "ExecuteTime": {
     "end_time": "2022-04-01T13:55:26.178157Z",
     "start_time": "2022-04-01T13:55:26.164604Z"
    }
   },
   "outputs": [
    {
     "data": {
      "text/html": [
       "<div>\n",
       "<style scoped>\n",
       "    .dataframe tbody tr th:only-of-type {\n",
       "        vertical-align: middle;\n",
       "    }\n",
       "\n",
       "    .dataframe tbody tr th {\n",
       "        vertical-align: top;\n",
       "    }\n",
       "\n",
       "    .dataframe thead th {\n",
       "        text-align: right;\n",
       "    }\n",
       "</style>\n",
       "<table border=\"1\" class=\"dataframe\">\n",
       "  <thead>\n",
       "    <tr style=\"text-align: right;\">\n",
       "      <th></th>\n",
       "      <th>sqft_living</th>\n",
       "      <th>sqft_living15</th>\n",
       "      <th>bathrooms</th>\n",
       "      <th>yr_built</th>\n",
       "      <th>bedrooms_bin_x0_2BR</th>\n",
       "      <th>bedrooms_bin_x0_3BR</th>\n",
       "      <th>bedrooms_bin_x0_4BR</th>\n",
       "      <th>bedrooms_bin_x0_5BR</th>\n",
       "      <th>bedrooms_bin_x0_6BR</th>\n",
       "      <th>bedrooms_bin_x0_7+BR</th>\n",
       "      <th>...</th>\n",
       "      <th>zipcode_x0_98146</th>\n",
       "      <th>zipcode_x0_98148</th>\n",
       "      <th>zipcode_x0_98155</th>\n",
       "      <th>zipcode_x0_98166</th>\n",
       "      <th>zipcode_x0_98168</th>\n",
       "      <th>zipcode_x0_98177</th>\n",
       "      <th>zipcode_x0_98178</th>\n",
       "      <th>zipcode_x0_98188</th>\n",
       "      <th>zipcode_x0_98198</th>\n",
       "      <th>zipcode_x0_98199</th>\n",
       "    </tr>\n",
       "  </thead>\n",
       "  <tbody>\n",
       "    <tr>\n",
       "      <th>13927</th>\n",
       "      <td>3020</td>\n",
       "      <td>3680</td>\n",
       "      <td>3.5</td>\n",
       "      <td>1978</td>\n",
       "      <td>0.0</td>\n",
       "      <td>0.0</td>\n",
       "      <td>0.0</td>\n",
       "      <td>1.0</td>\n",
       "      <td>0.0</td>\n",
       "      <td>0.0</td>\n",
       "      <td>...</td>\n",
       "      <td>0.0</td>\n",
       "      <td>0.0</td>\n",
       "      <td>0.0</td>\n",
       "      <td>0.0</td>\n",
       "      <td>0.0</td>\n",
       "      <td>0.0</td>\n",
       "      <td>0.0</td>\n",
       "      <td>0.0</td>\n",
       "      <td>0.0</td>\n",
       "      <td>0.0</td>\n",
       "    </tr>\n",
       "  </tbody>\n",
       "</table>\n",
       "<p>1 rows × 83 columns</p>\n",
       "</div>"
      ],
      "text/plain": [
       "       sqft_living  sqft_living15  bathrooms  yr_built  bedrooms_bin_x0_2BR  \\\n",
       "13927         3020           3680        3.5      1978                  0.0   \n",
       "\n",
       "       bedrooms_bin_x0_3BR  bedrooms_bin_x0_4BR  bedrooms_bin_x0_5BR  \\\n",
       "13927                  0.0                  0.0                  1.0   \n",
       "\n",
       "       bedrooms_bin_x0_6BR  bedrooms_bin_x0_7+BR  ...  zipcode_x0_98146  \\\n",
       "13927                  0.0                   0.0  ...               0.0   \n",
       "\n",
       "       zipcode_x0_98148  zipcode_x0_98155  zipcode_x0_98166  zipcode_x0_98168  \\\n",
       "13927               0.0               0.0               0.0               0.0   \n",
       "\n",
       "       zipcode_x0_98177  zipcode_x0_98178  zipcode_x0_98188  zipcode_x0_98198  \\\n",
       "13927               0.0               0.0               0.0               0.0   \n",
       "\n",
       "       zipcode_x0_98199  \n",
       "13927               0.0  \n",
       "\n",
       "[1 rows x 83 columns]"
      ]
     },
     "execution_count": 192,
     "metadata": {},
     "output_type": "execute_result"
    }
   ],
   "source": [
    "X_train.filter(cols, axis=1).head(1)"
   ]
  },
  {
   "cell_type": "code",
   "execution_count": 193,
   "metadata": {
    "ExecuteTime": {
     "end_time": "2022-04-01T13:55:26.183660Z",
     "start_time": "2022-04-01T13:55:26.179288Z"
    },
    "scrolled": true
   },
   "outputs": [
    {
     "data": {
      "text/plain": [
       "sqft_living              1790\n",
       "sqft_living15          1747.5\n",
       "bathrooms                 2.5\n",
       "yr_built                 2014\n",
       "bedrooms_bin_x0_2BR         0\n",
       "                        ...  \n",
       "zipcode_x0_98177            0\n",
       "zipcode_x0_98178            0\n",
       "zipcode_x0_98188            0\n",
       "zipcode_x0_98198            0\n",
       "zipcode_x0_98199            0\n",
       "Name: 0, Length: 83, dtype: object"
      ]
     },
     "execution_count": 193,
     "metadata": {},
     "output_type": "execute_result"
    }
   ],
   "source": [
    "X_potentials[cols].loc[0]"
   ]
  },
  {
   "cell_type": "code",
   "execution_count": null,
   "metadata": {
    "ExecuteTime": {
     "end_time": "2022-03-30T22:59:55.853277Z",
     "start_time": "2022-03-30T22:59:55.798266Z"
    }
   },
   "outputs": [],
   "source": []
  },
  {
   "cell_type": "markdown",
   "metadata": {},
   "source": [
    "### Predictions from model 8"
   ]
  },
  {
   "cell_type": "code",
   "execution_count": 194,
   "metadata": {
    "ExecuteTime": {
     "end_time": "2022-04-01T13:55:26.186569Z",
     "start_time": "2022-04-01T13:55:26.184989Z"
    }
   },
   "outputs": [],
   "source": [
    "#visualizer.predict(X_potentials[cols])"
   ]
  },
  {
   "cell_type": "code",
   "execution_count": 195,
   "metadata": {
    "ExecuteTime": {
     "end_time": "2022-04-01T13:55:26.382604Z",
     "start_time": "2022-04-01T13:55:26.187872Z"
    }
   },
   "outputs": [
    {
     "data": {
      "text/plain": [
       "array([591839.61053341])"
      ]
     },
     "execution_count": 195,
     "metadata": {},
     "output_type": "execute_result"
    }
   ],
   "source": [
    "lr = LinearRegression()\n",
    "lr.fit(X_train[cols], y_train)\n",
    "lr.predict(X_potentials[cols])"
   ]
  },
  {
   "cell_type": "code",
   "execution_count": 196,
   "metadata": {
    "ExecuteTime": {
     "end_time": "2022-04-01T13:55:26.385773Z",
     "start_time": "2022-04-01T13:55:26.383651Z"
    }
   },
   "outputs": [
    {
     "data": {
      "text/plain": [
       "596617.18627878"
      ]
     },
     "execution_count": 196,
     "metadata": {},
     "output_type": "execute_result"
    }
   ],
   "source": [
    "596617.18627878"
   ]
  },
  {
   "cell_type": "code",
   "execution_count": 197,
   "metadata": {
    "ExecuteTime": {
     "end_time": "2022-04-01T13:55:26.397601Z",
     "start_time": "2022-04-01T13:55:26.387052Z"
    }
   },
   "outputs": [
    {
     "data": {
      "text/html": [
       "<div>\n",
       "<style scoped>\n",
       "    .dataframe tbody tr th:only-of-type {\n",
       "        vertical-align: middle;\n",
       "    }\n",
       "\n",
       "    .dataframe tbody tr th {\n",
       "        vertical-align: top;\n",
       "    }\n",
       "\n",
       "    .dataframe thead th {\n",
       "        text-align: right;\n",
       "    }\n",
       "</style>\n",
       "<table border=\"1\" class=\"dataframe\">\n",
       "  <thead>\n",
       "    <tr style=\"text-align: right;\">\n",
       "      <th></th>\n",
       "      <th>price</th>\n",
       "    </tr>\n",
       "    <tr>\n",
       "      <th>grade</th>\n",
       "      <th></th>\n",
       "    </tr>\n",
       "  </thead>\n",
       "  <tbody>\n",
       "    <tr>\n",
       "      <th>7 Average</th>\n",
       "      <td>3.337213e+09</td>\n",
       "    </tr>\n",
       "    <tr>\n",
       "      <th>8 Good</th>\n",
       "      <td>2.748856e+09</td>\n",
       "    </tr>\n",
       "    <tr>\n",
       "      <th>9 Better</th>\n",
       "      <td>1.241313e+09</td>\n",
       "    </tr>\n",
       "    <tr>\n",
       "      <th>6 Low Average</th>\n",
       "      <td>5.605945e+08</td>\n",
       "    </tr>\n",
       "    <tr>\n",
       "      <th>10 Very Good</th>\n",
       "      <td>3.617440e+08</td>\n",
       "    </tr>\n",
       "    <tr>\n",
       "      <th>5 Fair</th>\n",
       "      <td>4.762355e+07</td>\n",
       "    </tr>\n",
       "    <tr>\n",
       "      <th>11 Excellent</th>\n",
       "      <td>3.862713e+07</td>\n",
       "    </tr>\n",
       "    <tr>\n",
       "      <th>4 Low</th>\n",
       "      <td>3.962050e+06</td>\n",
       "    </tr>\n",
       "  </tbody>\n",
       "</table>\n",
       "</div>"
      ],
      "text/plain": [
       "                      price\n",
       "grade                      \n",
       "7 Average      3.337213e+09\n",
       "8 Good         2.748856e+09\n",
       "9 Better       1.241313e+09\n",
       "6 Low Average  5.605945e+08\n",
       "10 Very Good   3.617440e+08\n",
       "5 Fair         4.762355e+07\n",
       "11 Excellent   3.862713e+07\n",
       "4 Low          3.962050e+06"
      ]
     },
     "execution_count": 197,
     "metadata": {},
     "output_type": "execute_result"
    }
   ],
   "source": [
    "df2 = df.filter(['price', 'grade'])\n",
    "df2.groupby(['grade']).sum().sort_values(['price'], ascending=False)"
   ]
  },
  {
   "cell_type": "code",
   "execution_count": 198,
   "metadata": {
    "ExecuteTime": {
     "end_time": "2022-04-01T13:55:26.490606Z",
     "start_time": "2022-04-01T13:55:26.398986Z"
    },
    "scrolled": true
   },
   "outputs": [
    {
     "data": {
      "image/png": "[encoded data removed]",
      "text/plain": [
       "<Figure size 720x432 with 1 Axes>"
      ]
     },
     "metadata": {
      "needs_background": "light"
     },
     "output_type": "display_data"
    }
   ],
   "source": [
    "grade_vs_price = df2.groupby(['grade']).sum().sort_values(['price'], ascending=False)\n",
    "\n",
    "fig, ax = plt.subplots(figsize=(10,6))\n",
    "\n",
    "ax.barh(y=grade_vs_price.index, width=grade_vs_price['price'], color=\"navy\")\n",
    "ax.invert_yaxis()\n",
    "ax.set_title('Grade and Revenue')\n",
    "ax.set_ylabel('Grade')\n",
    "ax.set_xlabel('Potential Revenue');"
   ]
  },
  {
   "cell_type": "code",
   "execution_count": 199,
   "metadata": {
    "ExecuteTime": {
     "end_time": "2022-04-01T13:55:26.624762Z",
     "start_time": "2022-04-01T13:55:26.491980Z"
    }
   },
   "outputs": [
    {
     "data": {
      "image/png": "[encoded data removed]",
      "text/plain": [
       "<Figure size 1152x432 with 2 Axes>"
      ]
     },
     "metadata": {
      "needs_background": "light"
     },
     "output_type": "display_data"
    }
   ],
   "source": [
    "df2 = df.filter(['price', 'condition'])\n",
    "df2.groupby(['condition']).sum().sort_values(['price'], ascending=False)\n",
    "grade_vs_price = df2.groupby(['condition']).sum().sort_values(['price'], ascending=False)\n",
    "\n",
    "fig, (ax2, ax1) = plt.subplots(figsize=(16,6), ncols=2)\n",
    "ax1.grid(False)\n",
    "ax2.grid(False)\n",
    "\n",
    "ax1.barh(y=grade_vs_price.index, width=grade_vs_price['price'], color=\"navy\")\n",
    "ax1.invert_yaxis()\n",
    "ax1.set_title('Condition and Revenue')\n",
    "#ax1.set_ylabel('Grade')\n",
    "ax1.set_xlabel('Potential Revenue')\n",
    "\n",
    "grade_vs_price = df2.groupby(['condition']).mean().sort_values(['price'], ascending=False)\n",
    "\n",
    "ax2.barh(y=grade_vs_price.index, width=grade_vs_price['price'], color=\"navy\")\n",
    "ax2.invert_yaxis()\n",
    "ax2.set_title('Condition and Average Price')\n",
    "ax2.set_ylabel('Condition')\n",
    "ax2.set_xlabel('Average Price');"
   ]
  },
  {
   "cell_type": "code",
   "execution_count": 200,
   "metadata": {
    "ExecuteTime": {
     "end_time": "2022-04-01T13:55:26.630497Z",
     "start_time": "2022-04-01T13:55:26.625895Z"
    }
   },
   "outputs": [
    {
     "data": {
      "text/plain": [
       "NONE         16710\n",
       "AVERAGE        655\n",
       "GOOD           248\n",
       "FAIR           243\n",
       "EXCELLENT      100\n",
       "Name: view, dtype: int64"
      ]
     },
     "execution_count": 200,
     "metadata": {},
     "output_type": "execute_result"
    }
   ],
   "source": [
    "df.view.value_counts()"
   ]
  },
  {
   "cell_type": "code",
   "execution_count": null,
   "metadata": {},
   "outputs": [],
   "source": []
  },
  {
   "cell_type": "code",
   "execution_count": null,
   "metadata": {},
   "outputs": [],
   "source": []
  },
  {
   "cell_type": "code",
   "execution_count": null,
   "metadata": {},
   "outputs": [],
   "source": []
  },
  {
   "cell_type": "code",
   "execution_count": 201,
   "metadata": {
    "ExecuteTime": {
     "end_time": "2022-04-01T13:55:26.634426Z",
     "start_time": "2022-04-01T13:55:26.631505Z"
    }
   },
   "outputs": [
    {
     "data": {
      "text/plain": [
       "12"
      ]
     },
     "execution_count": 201,
     "metadata": {},
     "output_type": "execute_result"
    }
   ],
   "source": [
    "sum(model.pvalues > .05)"
   ]
  },
  {
   "cell_type": "code",
   "execution_count": 202,
   "metadata": {
    "ExecuteTime": {
     "end_time": "2022-04-01T13:55:26.639987Z",
     "start_time": "2022-04-01T13:55:26.635511Z"
    }
   },
   "outputs": [
    {
     "data": {
      "text/plain": [
       "0.14285714285714285"
      ]
     },
     "execution_count": 202,
     "metadata": {},
     "output_type": "execute_result"
    }
   ],
   "source": [
    "sum(model.pvalues > .05) / len(model.pvalues)"
   ]
  },
  {
   "cell_type": "code",
   "execution_count": 203,
   "metadata": {
    "ExecuteTime": {
     "end_time": "2022-04-01T13:55:26.645039Z",
     "start_time": "2022-04-01T13:55:26.640984Z"
    }
   },
   "outputs": [
    {
     "data": {
      "text/plain": [
       "12"
      ]
     },
     "execution_count": 203,
     "metadata": {},
     "output_type": "execute_result"
    }
   ],
   "source": [
    "sum(model.pvalues > .05)"
   ]
  },
  {
   "cell_type": "code",
   "execution_count": 204,
   "metadata": {
    "ExecuteTime": {
     "end_time": "2022-04-01T13:55:26.648699Z",
     "start_time": "2022-04-01T13:55:26.645898Z"
    },
    "scrolled": true
   },
   "outputs": [
    {
     "data": {
      "text/plain": [
       "0.14285714285714285"
      ]
     },
     "execution_count": 204,
     "metadata": {},
     "output_type": "execute_result"
    }
   ],
   "source": [
    "sum(model.pvalues > .05) / len(model.pvalues)"
   ]
  },
  {
   "cell_type": "code",
   "execution_count": null,
   "metadata": {},
   "outputs": [],
   "source": []
  },
  {
   "cell_type": "code",
   "execution_count": 205,
   "metadata": {
    "ExecuteTime": {
     "end_time": "2022-04-01T13:55:26.652983Z",
     "start_time": "2022-04-01T13:55:26.649671Z"
    }
   },
   "outputs": [
    {
     "data": {
      "text/plain": [
       "<bound method Series.unique of const               480072.277628\n",
       "sqft_living            131.233876\n",
       "sqft_living15           67.288707\n",
       "bathrooms            13630.447224\n",
       "yr_built              -308.352714\n",
       "                        ...      \n",
       "zipcode_x0_98177    219934.624253\n",
       "zipcode_x0_98178     68378.522474\n",
       "zipcode_x0_98188     36884.789389\n",
       "zipcode_x0_98198     49473.077106\n",
       "zipcode_x0_98199    380695.266304\n",
       "Length: 84, dtype: float64>"
      ]
     },
     "execution_count": 205,
     "metadata": {},
     "output_type": "execute_result"
    }
   ],
   "source": [
    "model.params.unique"
   ]
  },
  {
   "cell_type": "code",
   "execution_count": null,
   "metadata": {
    "ExecuteTime": {
     "end_time": "2022-03-30T20:56:32.729016Z",
     "start_time": "2022-03-30T20:56:32.714013Z"
    }
   },
   "outputs": [],
   "source": []
  },
  {
   "cell_type": "code",
   "execution_count": 206,
   "metadata": {
    "ExecuteTime": {
     "end_time": "2022-04-01T13:55:26.664030Z",
     "start_time": "2022-04-01T13:55:26.656046Z"
    },
    "scrolled": true
   },
   "outputs": [
    {
     "data": {
      "text/plain": [
       "2.000000    2960\n",
       "1.600000    2092\n",
       "1.200000    2016\n",
       "3.000000    1689\n",
       "1.714286    1661\n",
       "            ... \n",
       "2.133333       1\n",
       "1.217391       1\n",
       "7.000000       1\n",
       "0.842105       1\n",
       "1.866667       1\n",
       "Length: 65, dtype: int64"
      ]
     },
     "execution_count": 206,
     "metadata": {},
     "output_type": "execute_result"
    }
   ],
   "source": [
    "(df.bedrooms/df.bathrooms).value_counts()"
   ]
  },
  {
   "cell_type": "code",
   "execution_count": 207,
   "metadata": {
    "ExecuteTime": {
     "end_time": "2022-04-01T13:55:26.670022Z",
     "start_time": "2022-04-01T13:55:26.665319Z"
    }
   },
   "outputs": [
    {
     "data": {
      "text/plain": [
       "350000.0    155\n",
       "450000.0    149\n",
       "325000.0    140\n",
       "425000.0    137\n",
       "550000.0    135\n",
       "           ... \n",
       "336950.0      1\n",
       "386100.0      1\n",
       "176250.0      1\n",
       "575575.0      1\n",
       "311300.0      1\n",
       "Name: price, Length: 3246, dtype: int64"
      ]
     },
     "execution_count": 207,
     "metadata": {},
     "output_type": "execute_result"
    }
   ],
   "source": [
    "df.price.value_counts()"
   ]
  },
  {
   "cell_type": "code",
   "execution_count": 208,
   "metadata": {
    "ExecuteTime": {
     "end_time": "2022-04-01T13:55:26.676918Z",
     "start_time": "2022-04-01T13:55:26.671425Z"
    }
   },
   "outputs": [
    {
     "data": {
      "text/plain": [
       "NONE         16710\n",
       "AVERAGE        655\n",
       "GOOD           248\n",
       "FAIR           243\n",
       "EXCELLENT      100\n",
       "Name: view, dtype: int64"
      ]
     },
     "execution_count": 208,
     "metadata": {},
     "output_type": "execute_result"
    }
   ],
   "source": [
    "df.view.value_counts()"
   ]
  },
  {
   "cell_type": "code",
   "execution_count": 209,
   "metadata": {
    "ExecuteTime": {
     "end_time": "2022-04-01T13:55:26.682321Z",
     "start_time": "2022-04-01T13:55:26.677835Z"
    }
   },
   "outputs": [
    {
     "data": {
      "text/plain": [
       "Average      11727\n",
       "Good          4703\n",
       "Very Good     1428\n",
       "Fair           131\n",
       "Poor            21\n",
       "Name: condition, dtype: int64"
      ]
     },
     "execution_count": 209,
     "metadata": {},
     "output_type": "execute_result"
    }
   ],
   "source": [
    "df.condition.value_counts()"
   ]
  },
  {
   "cell_type": "code",
   "execution_count": 210,
   "metadata": {
    "ExecuteTime": {
     "end_time": "2022-04-01T13:55:26.692435Z",
     "start_time": "2022-04-01T13:55:26.683341Z"
    }
   },
   "outputs": [
    {
     "data": {
      "text/plain": [
       "3     8585\n",
       "4     5396\n",
       "2     2546\n",
       "5     1093\n",
       "6      185\n",
       "1      171\n",
       "7       21\n",
       "8        7\n",
       "9        3\n",
       "10       2\n",
       "11       1\n",
       "Name: bedrooms, dtype: int64"
      ]
     },
     "execution_count": 210,
     "metadata": {},
     "output_type": "execute_result"
    }
   ],
   "source": [
    "df.bedrooms.value_counts()"
   ]
  },
  {
   "cell_type": "code",
   "execution_count": 211,
   "metadata": {
    "ExecuteTime": {
     "end_time": "2022-04-01T13:55:26.697991Z",
     "start_time": "2022-04-01T13:55:26.694189Z"
    }
   },
   "outputs": [
    {
     "data": {
      "text/plain": [
       "2.50    4526\n",
       "1.00    3592\n",
       "1.75    2682\n",
       "2.00    1739\n",
       "2.25    1715\n",
       "1.50    1329\n",
       "2.75     943\n",
       "3.00     557\n",
       "3.50     399\n",
       "3.25     318\n",
       "3.75      55\n",
       "0.75      53\n",
       "4.00      45\n",
       "4.50      24\n",
       "4.25      14\n",
       "1.25       7\n",
       "0.50       4\n",
       "5.00       4\n",
       "5.25       2\n",
       "4.75       1\n",
       "5.75       1\n",
       "Name: bathrooms, dtype: int64"
      ]
     },
     "execution_count": 211,
     "metadata": {},
     "output_type": "execute_result"
    }
   ],
   "source": [
    "df.bathrooms.value_counts()"
   ]
  },
  {
   "cell_type": "code",
   "execution_count": 212,
   "metadata": {
    "ExecuteTime": {
     "end_time": "2022-04-01T13:55:26.703449Z",
     "start_time": "2022-04-01T13:55:26.699047Z"
    }
   },
   "outputs": [
    {
     "data": {
      "text/plain": [
       "2014    495\n",
       "2005    391\n",
       "2006    372\n",
       "2003    369\n",
       "2004    368\n",
       "       ... \n",
       "2015     28\n",
       "1902     23\n",
       "1933     15\n",
       "1935     15\n",
       "1934     14\n",
       "Name: yr_built, Length: 116, dtype: int64"
      ]
     },
     "execution_count": 212,
     "metadata": {},
     "output_type": "execute_result"
    }
   ],
   "source": [
    "df.yr_built.value_counts()"
   ]
  },
  {
   "cell_type": "code",
   "execution_count": 213,
   "metadata": {
    "ExecuteTime": {
     "end_time": "2022-04-01T13:55:26.709140Z",
     "start_time": "2022-04-01T13:55:26.705167Z"
    }
   },
   "outputs": [
    {
     "data": {
      "text/plain": [
       "425000.0"
      ]
     },
     "execution_count": 213,
     "metadata": {},
     "output_type": "execute_result"
    }
   ],
   "source": [
    "df.price.median()"
   ]
  },
  {
   "cell_type": "code",
   "execution_count": 214,
   "metadata": {
    "ExecuteTime": {
     "end_time": "2022-04-01T13:55:26.713689Z",
     "start_time": "2022-04-01T13:55:26.710149Z"
    }
   },
   "outputs": [
    {
     "data": {
      "text/plain": [
       "463072.3959466963"
      ]
     },
     "execution_count": 214,
     "metadata": {},
     "output_type": "execute_result"
    }
   ],
   "source": [
    "df.price.mean()"
   ]
  },
  {
   "cell_type": "markdown",
   "metadata": {},
   "source": [
    "Recommendations"
   ]
  },
  {
   "cell_type": "markdown",
   "metadata": {},
   "source": [
    "Next steps"
   ]
  },
  {
   "cell_type": "code",
   "execution_count": null,
   "metadata": {},
   "outputs": [],
   "source": []
  }
 ],
 "metadata": {
  "kernelspec": {
   "display_name": "Python (learn-env)",
   "language": "python",
   "name": "learn-env"
  },
  "language_info": {
   "codemirror_mode": {
    "name": "ipython",
    "version": 3
   },
   "file_extension": ".py",
   "mimetype": "text/x-python",
   "name": "python",
   "nbconvert_exporter": "python",
   "pygments_lexer": "ipython3",
   "version": "3.8.5"
  },
  "toc": {
   "base_numbering": "",
   "nav_menu": {},
   "number_sections": false,
   "sideBar": true,
   "skip_h1_title": false,
   "title_cell": "Table of Contents",
   "title_sidebar": "Contents",
   "toc_cell": true,
   "toc_position": {
    "height": "calc(100% - 180px)",
    "left": "10px",
    "top": "150px",
    "width": "298.094px"
   },
   "toc_section_display": true,
   "toc_window_display": false
  }
 },
 "nbformat": 4,
 "nbformat_minor": 4
}
