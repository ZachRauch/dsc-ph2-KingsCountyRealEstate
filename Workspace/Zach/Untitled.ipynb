{
 "cells": [
  {
   "cell_type": "markdown",
   "metadata": {},
   "source": [
    "### Imports"
   ]
  },
  {
   "cell_type": "code",
   "execution_count": 1,
   "metadata": {
    "ExecuteTime": {
     "end_time": "2022-03-30T01:13:15.179618Z",
     "start_time": "2022-03-30T01:13:14.088018Z"
    }
   },
   "outputs": [],
   "source": [
    "import pandas as pd\n",
    "import numpy as np\n",
    "import seaborn as sns\n",
    "import warnings\n",
    "warnings.filterwarnings(action='ignore')\n",
    "import matplotlib.pyplot as plt\n",
    "\n",
    "import statsmodels.api as sm\n",
    "from statsmodels.api import OLS\n",
    "\n",
    "#SKLearn stuff\n",
    "from sklearn.model_selection import train_test_split\n",
    "from sklearn.dummy import DummyRegressor\n",
    "from sklearn.pipeline import make_pipeline\n",
    "from sklearn.preprocessing import StandardScaler, PolynomialFeatures, OrdinalEncoder, OneHotEncoder\n",
    "from sklearn.compose import ColumnTransformer\n",
    "from sklearn.linear_model import LinearRegression\n",
    "from sklearn.metrics import r2_score, mean_squared_error, mean_absolute_error"
   ]
  },
  {
   "cell_type": "code",
   "execution_count": 2,
   "metadata": {
    "ExecuteTime": {
     "end_time": "2022-03-30T01:13:15.230964Z",
     "start_time": "2022-03-30T01:13:15.180770Z"
    }
   },
   "outputs": [
    {
     "data": {
      "text/html": [
       "<div>\n",
       "<style scoped>\n",
       "    .dataframe tbody tr th:only-of-type {\n",
       "        vertical-align: middle;\n",
       "    }\n",
       "\n",
       "    .dataframe tbody tr th {\n",
       "        vertical-align: top;\n",
       "    }\n",
       "\n",
       "    .dataframe thead th {\n",
       "        text-align: right;\n",
       "    }\n",
       "</style>\n",
       "<table border=\"1\" class=\"dataframe\">\n",
       "  <thead>\n",
       "    <tr style=\"text-align: right;\">\n",
       "      <th></th>\n",
       "      <th>id</th>\n",
       "      <th>date</th>\n",
       "      <th>price</th>\n",
       "      <th>bedrooms</th>\n",
       "      <th>bathrooms</th>\n",
       "      <th>sqft_living</th>\n",
       "      <th>sqft_lot</th>\n",
       "      <th>floors</th>\n",
       "      <th>waterfront</th>\n",
       "      <th>view</th>\n",
       "      <th>...</th>\n",
       "      <th>grade</th>\n",
       "      <th>sqft_above</th>\n",
       "      <th>sqft_basement</th>\n",
       "      <th>yr_built</th>\n",
       "      <th>yr_renovated</th>\n",
       "      <th>zipcode</th>\n",
       "      <th>lat</th>\n",
       "      <th>long</th>\n",
       "      <th>sqft_living15</th>\n",
       "      <th>sqft_lot15</th>\n",
       "    </tr>\n",
       "  </thead>\n",
       "  <tbody>\n",
       "    <tr>\n",
       "      <th>0</th>\n",
       "      <td>7129300520</td>\n",
       "      <td>10/13/2014</td>\n",
       "      <td>221900.0</td>\n",
       "      <td>3</td>\n",
       "      <td>1.00</td>\n",
       "      <td>1180</td>\n",
       "      <td>5650</td>\n",
       "      <td>1.0</td>\n",
       "      <td>NaN</td>\n",
       "      <td>NONE</td>\n",
       "      <td>...</td>\n",
       "      <td>7 Average</td>\n",
       "      <td>1180</td>\n",
       "      <td>0.0</td>\n",
       "      <td>1955</td>\n",
       "      <td>0.0</td>\n",
       "      <td>98178</td>\n",
       "      <td>47.5112</td>\n",
       "      <td>-122.257</td>\n",
       "      <td>1340</td>\n",
       "      <td>5650</td>\n",
       "    </tr>\n",
       "    <tr>\n",
       "      <th>1</th>\n",
       "      <td>6414100192</td>\n",
       "      <td>12/9/2014</td>\n",
       "      <td>538000.0</td>\n",
       "      <td>3</td>\n",
       "      <td>2.25</td>\n",
       "      <td>2570</td>\n",
       "      <td>7242</td>\n",
       "      <td>2.0</td>\n",
       "      <td>NO</td>\n",
       "      <td>NONE</td>\n",
       "      <td>...</td>\n",
       "      <td>7 Average</td>\n",
       "      <td>2170</td>\n",
       "      <td>400.0</td>\n",
       "      <td>1951</td>\n",
       "      <td>1991.0</td>\n",
       "      <td>98125</td>\n",
       "      <td>47.7210</td>\n",
       "      <td>-122.319</td>\n",
       "      <td>1690</td>\n",
       "      <td>7639</td>\n",
       "    </tr>\n",
       "    <tr>\n",
       "      <th>2</th>\n",
       "      <td>5631500400</td>\n",
       "      <td>2/25/2015</td>\n",
       "      <td>180000.0</td>\n",
       "      <td>2</td>\n",
       "      <td>1.00</td>\n",
       "      <td>770</td>\n",
       "      <td>10000</td>\n",
       "      <td>1.0</td>\n",
       "      <td>NO</td>\n",
       "      <td>NONE</td>\n",
       "      <td>...</td>\n",
       "      <td>6 Low Average</td>\n",
       "      <td>770</td>\n",
       "      <td>0.0</td>\n",
       "      <td>1933</td>\n",
       "      <td>NaN</td>\n",
       "      <td>98028</td>\n",
       "      <td>47.7379</td>\n",
       "      <td>-122.233</td>\n",
       "      <td>2720</td>\n",
       "      <td>8062</td>\n",
       "    </tr>\n",
       "    <tr>\n",
       "      <th>3</th>\n",
       "      <td>2487200875</td>\n",
       "      <td>12/9/2014</td>\n",
       "      <td>604000.0</td>\n",
       "      <td>4</td>\n",
       "      <td>3.00</td>\n",
       "      <td>1960</td>\n",
       "      <td>5000</td>\n",
       "      <td>1.0</td>\n",
       "      <td>NO</td>\n",
       "      <td>NONE</td>\n",
       "      <td>...</td>\n",
       "      <td>7 Average</td>\n",
       "      <td>1050</td>\n",
       "      <td>910.0</td>\n",
       "      <td>1965</td>\n",
       "      <td>0.0</td>\n",
       "      <td>98136</td>\n",
       "      <td>47.5208</td>\n",
       "      <td>-122.393</td>\n",
       "      <td>1360</td>\n",
       "      <td>5000</td>\n",
       "    </tr>\n",
       "    <tr>\n",
       "      <th>4</th>\n",
       "      <td>1954400510</td>\n",
       "      <td>2/18/2015</td>\n",
       "      <td>510000.0</td>\n",
       "      <td>3</td>\n",
       "      <td>2.00</td>\n",
       "      <td>1680</td>\n",
       "      <td>8080</td>\n",
       "      <td>1.0</td>\n",
       "      <td>NO</td>\n",
       "      <td>NONE</td>\n",
       "      <td>...</td>\n",
       "      <td>8 Good</td>\n",
       "      <td>1680</td>\n",
       "      <td>0.0</td>\n",
       "      <td>1987</td>\n",
       "      <td>0.0</td>\n",
       "      <td>98074</td>\n",
       "      <td>47.6168</td>\n",
       "      <td>-122.045</td>\n",
       "      <td>1800</td>\n",
       "      <td>7503</td>\n",
       "    </tr>\n",
       "  </tbody>\n",
       "</table>\n",
       "<p>5 rows × 21 columns</p>\n",
       "</div>"
      ],
      "text/plain": [
       "           id        date     price  bedrooms  bathrooms  sqft_living  \\\n",
       "0  7129300520  10/13/2014  221900.0         3       1.00         1180   \n",
       "1  6414100192   12/9/2014  538000.0         3       2.25         2570   \n",
       "2  5631500400   2/25/2015  180000.0         2       1.00          770   \n",
       "3  2487200875   12/9/2014  604000.0         4       3.00         1960   \n",
       "4  1954400510   2/18/2015  510000.0         3       2.00         1680   \n",
       "\n",
       "   sqft_lot  floors waterfront  view  ...          grade sqft_above  \\\n",
       "0      5650     1.0        NaN  NONE  ...      7 Average       1180   \n",
       "1      7242     2.0         NO  NONE  ...      7 Average       2170   \n",
       "2     10000     1.0         NO  NONE  ...  6 Low Average        770   \n",
       "3      5000     1.0         NO  NONE  ...      7 Average       1050   \n",
       "4      8080     1.0         NO  NONE  ...         8 Good       1680   \n",
       "\n",
       "   sqft_basement yr_built  yr_renovated  zipcode      lat     long  \\\n",
       "0            0.0     1955           0.0    98178  47.5112 -122.257   \n",
       "1          400.0     1951        1991.0    98125  47.7210 -122.319   \n",
       "2            0.0     1933           NaN    98028  47.7379 -122.233   \n",
       "3          910.0     1965           0.0    98136  47.5208 -122.393   \n",
       "4            0.0     1987           0.0    98074  47.6168 -122.045   \n",
       "\n",
       "   sqft_living15  sqft_lot15  \n",
       "0           1340        5650  \n",
       "1           1690        7639  \n",
       "2           2720        8062  \n",
       "3           1360        5000  \n",
       "4           1800        7503  \n",
       "\n",
       "[5 rows x 21 columns]"
      ]
     },
     "execution_count": 2,
     "metadata": {},
     "output_type": "execute_result"
    }
   ],
   "source": [
    "df = pd.read_csv('../../data/kc_house_data.csv')\n",
    "df.head()"
   ]
  },
  {
   "cell_type": "markdown",
   "metadata": {},
   "source": [
    "### Initial Cleaning"
   ]
  },
  {
   "cell_type": "code",
   "execution_count": 3,
   "metadata": {
    "ExecuteTime": {
     "end_time": "2022-03-30T01:13:15.242708Z",
     "start_time": "2022-03-30T01:13:15.232297Z"
    },
    "scrolled": false
   },
   "outputs": [
    {
     "name": "stdout",
     "output_type": "stream",
     "text": [
      "<class 'pandas.core.frame.DataFrame'>\n",
      "RangeIndex: 21597 entries, 0 to 21596\n",
      "Data columns (total 21 columns):\n",
      " #   Column         Non-Null Count  Dtype  \n",
      "---  ------         --------------  -----  \n",
      " 0   id             21597 non-null  int64  \n",
      " 1   date           21597 non-null  object \n",
      " 2   price          21597 non-null  float64\n",
      " 3   bedrooms       21597 non-null  int64  \n",
      " 4   bathrooms      21597 non-null  float64\n",
      " 5   sqft_living    21597 non-null  int64  \n",
      " 6   sqft_lot       21597 non-null  int64  \n",
      " 7   floors         21597 non-null  float64\n",
      " 8   waterfront     19221 non-null  object \n",
      " 9   view           21534 non-null  object \n",
      " 10  condition      21597 non-null  object \n",
      " 11  grade          21597 non-null  object \n",
      " 12  sqft_above     21597 non-null  int64  \n",
      " 13  sqft_basement  21597 non-null  object \n",
      " 14  yr_built       21597 non-null  int64  \n",
      " 15  yr_renovated   17755 non-null  float64\n",
      " 16  zipcode        21597 non-null  int64  \n",
      " 17  lat            21597 non-null  float64\n",
      " 18  long           21597 non-null  float64\n",
      " 19  sqft_living15  21597 non-null  int64  \n",
      " 20  sqft_lot15     21597 non-null  int64  \n",
      "dtypes: float64(6), int64(9), object(6)\n",
      "memory usage: 3.5+ MB\n"
     ]
    }
   ],
   "source": [
    "df.info()"
   ]
  },
  {
   "cell_type": "markdown",
   "metadata": {},
   "source": [
    "The column sqft_basement has 454 '?' values. Used  sqft_living and sqft_above to fill in the values. "
   ]
  },
  {
   "cell_type": "code",
   "execution_count": 4,
   "metadata": {
    "ExecuteTime": {
     "end_time": "2022-03-30T01:13:15.249969Z",
     "start_time": "2022-03-30T01:13:15.243956Z"
    }
   },
   "outputs": [],
   "source": [
    "df['sqft_basement'] = df['sqft_living'] - df['sqft_above']"
   ]
  },
  {
   "cell_type": "code",
   "execution_count": 5,
   "metadata": {
    "ExecuteTime": {
     "end_time": "2022-03-30T01:13:15.261926Z",
     "start_time": "2022-03-30T01:13:15.251185Z"
    },
    "scrolled": false
   },
   "outputs": [
    {
     "name": "stdout",
     "output_type": "stream",
     "text": [
      "<class 'pandas.core.frame.DataFrame'>\n",
      "RangeIndex: 21597 entries, 0 to 21596\n",
      "Data columns (total 21 columns):\n",
      " #   Column         Non-Null Count  Dtype  \n",
      "---  ------         --------------  -----  \n",
      " 0   id             21597 non-null  int64  \n",
      " 1   date           21597 non-null  object \n",
      " 2   price          21597 non-null  float64\n",
      " 3   bedrooms       21597 non-null  int64  \n",
      " 4   bathrooms      21597 non-null  float64\n",
      " 5   sqft_living    21597 non-null  int64  \n",
      " 6   sqft_lot       21597 non-null  int64  \n",
      " 7   floors         21597 non-null  float64\n",
      " 8   waterfront     19221 non-null  object \n",
      " 9   view           21534 non-null  object \n",
      " 10  condition      21597 non-null  object \n",
      " 11  grade          21597 non-null  object \n",
      " 12  sqft_above     21597 non-null  int64  \n",
      " 13  sqft_basement  21597 non-null  int64  \n",
      " 14  yr_built       21597 non-null  int64  \n",
      " 15  yr_renovated   17755 non-null  float64\n",
      " 16  zipcode        21597 non-null  int64  \n",
      " 17  lat            21597 non-null  float64\n",
      " 18  long           21597 non-null  float64\n",
      " 19  sqft_living15  21597 non-null  int64  \n",
      " 20  sqft_lot15     21597 non-null  int64  \n",
      "dtypes: float64(6), int64(10), object(5)\n",
      "memory usage: 3.5+ MB\n"
     ]
    }
   ],
   "source": [
    "df.info()"
   ]
  },
  {
   "cell_type": "markdown",
   "metadata": {},
   "source": [
    "#### Drops"
   ]
  },
  {
   "cell_type": "markdown",
   "metadata": {},
   "source": [
    "Dropping 'id', 'yr_renovated', and 'date'. No use for them and we don't have enough data to use them. "
   ]
  },
  {
   "cell_type": "code",
   "execution_count": 6,
   "metadata": {
    "ExecuteTime": {
     "end_time": "2022-03-30T01:13:15.266878Z",
     "start_time": "2022-03-30T01:13:15.263061Z"
    }
   },
   "outputs": [],
   "source": [
    "df = df.drop(['id', 'date', 'yr_renovated'], axis=1) "
   ]
  },
  {
   "cell_type": "markdown",
   "metadata": {},
   "source": [
    "#### Outliers?"
   ]
  },
  {
   "cell_type": "code",
   "execution_count": null,
   "metadata": {},
   "outputs": [],
   "source": []
  },
  {
   "cell_type": "markdown",
   "metadata": {},
   "source": [
    "### Split"
   ]
  },
  {
   "cell_type": "markdown",
   "metadata": {},
   "source": [
    "Using price as a dependent variable. Assuming our stockholder is a real estate/brokerage company, TBD, who gets a commission on each sale or purchase."
   ]
  },
  {
   "cell_type": "code",
   "execution_count": 7,
   "metadata": {
    "ExecuteTime": {
     "end_time": "2022-03-30T01:13:15.275116Z",
     "start_time": "2022-03-30T01:13:15.267878Z"
    }
   },
   "outputs": [],
   "source": [
    "y = df[\"price\"]\n",
    "X = df.drop(\"price\", axis=1)\n",
    "\n",
    "X_train, X_test, y_train, y_test = train_test_split(X, y, random_state=42, test_size=.33)"
   ]
  },
  {
   "cell_type": "markdown",
   "metadata": {},
   "source": [
    "### Categorical Columns"
   ]
  },
  {
   "cell_type": "markdown",
   "metadata": {},
   "source": [
    "The column 'waterfront' is a binomial categorical variable. The columns 'bathrooms', 'view', 'zipcode', 'condition', and 'grade' are categorical variables. They will need to be converted into a format that can be modeled. \n",
    "\n",
    "Need to drop columns for each. Should make a function to do encoding."
   ]
  },
  {
   "cell_type": "markdown",
   "metadata": {},
   "source": [
    "#### Waterfront"
   ]
  },
  {
   "cell_type": "markdown",
   "metadata": {},
   "source": [
    "The column contains Yes and No values. I'm assuming NAs are Nos so I will be filling them in as such."
   ]
  },
  {
   "cell_type": "code",
   "execution_count": 8,
   "metadata": {
    "ExecuteTime": {
     "end_time": "2022-03-30T01:13:15.281704Z",
     "start_time": "2022-03-30T01:13:15.277342Z"
    }
   },
   "outputs": [],
   "source": [
    "X_train['waterfront'].fillna('NO', inplace=True)\n",
    "X_test['waterfront'].fillna('NO', inplace=True)"
   ]
  },
  {
   "cell_type": "code",
   "execution_count": 9,
   "metadata": {
    "ExecuteTime": {
     "end_time": "2022-03-30T01:13:15.290532Z",
     "start_time": "2022-03-30T01:13:15.283579Z"
    }
   },
   "outputs": [],
   "source": [
    "waterfront_train = X_train[['waterfront']]\n",
    "encoder_waterfront = OrdinalEncoder()\n",
    "encoder_waterfront.fit(waterfront_train)\n",
    "encoder_waterfront.categories_[0]\n",
    "waterfront_encoded_train = encoder_waterfront.transform(waterfront_train)\n",
    "waterfront_encoded_train = waterfront_encoded_train.flatten()\n",
    "X_train[\"waterfront\"] = waterfront_encoded_train"
   ]
  },
  {
   "cell_type": "code",
   "execution_count": 10,
   "metadata": {
    "ExecuteTime": {
     "end_time": "2022-03-30T01:13:15.297427Z",
     "start_time": "2022-03-30T01:13:15.292192Z"
    }
   },
   "outputs": [],
   "source": [
    "waterfront_test = X_test[['waterfront']]\n",
    "encoder_waterfront = OrdinalEncoder()\n",
    "encoder_waterfront.fit(waterfront_test)\n",
    "encoder_waterfront.categories_[0]\n",
    "waterfront_encoded_test = encoder_waterfront.transform(waterfront_test)\n",
    "waterfront_encoded_test = waterfront_encoded_test.flatten()\n",
    "X_test[\"waterfront\"] = waterfront_encoded_test"
   ]
  },
  {
   "cell_type": "markdown",
   "metadata": {},
   "source": [
    "#### View "
   ]
  },
  {
   "cell_type": "markdown",
   "metadata": {},
   "source": [
    "The column 'view' has 5 categories; NONE, AVERAGE, GOOD, FAIR, and EXCELLENT. I'm assuming NAs are NONE so I will be filling them in as such."
   ]
  },
  {
   "cell_type": "markdown",
   "metadata": {},
   "source": [
    "Created a OneHotEncoder function for the categorical variables. "
   ]
  },
  {
   "cell_type": "code",
   "execution_count": 11,
   "metadata": {
    "ExecuteTime": {
     "end_time": "2022-03-30T01:13:15.299677Z",
     "start_time": "2022-03-30T01:13:15.298297Z"
    }
   },
   "outputs": [],
   "source": [
    "#sparse=False"
   ]
  },
  {
   "cell_type": "code",
   "execution_count": 12,
   "metadata": {
    "ExecuteTime": {
     "end_time": "2022-03-30T01:13:15.304003Z",
     "start_time": "2022-03-30T01:13:15.300723Z"
    }
   },
   "outputs": [],
   "source": [
    "X_train['view'].fillna(\"NONE\", inplace=True)\n",
    "X_test['view'].fillna(\"NONE\", inplace=True)"
   ]
  },
  {
   "cell_type": "code",
   "execution_count": 13,
   "metadata": {
    "ExecuteTime": {
     "end_time": "2022-03-30T01:13:15.318375Z",
     "start_time": "2022-03-30T01:13:15.304880Z"
    },
    "scrolled": false
   },
   "outputs": [
    {
     "data": {
      "text/html": [
       "<div>\n",
       "<style scoped>\n",
       "    .dataframe tbody tr th:only-of-type {\n",
       "        vertical-align: middle;\n",
       "    }\n",
       "\n",
       "    .dataframe tbody tr th {\n",
       "        vertical-align: top;\n",
       "    }\n",
       "\n",
       "    .dataframe thead th {\n",
       "        text-align: right;\n",
       "    }\n",
       "</style>\n",
       "<table border=\"1\" class=\"dataframe\">\n",
       "  <thead>\n",
       "    <tr style=\"text-align: right;\">\n",
       "      <th></th>\n",
       "      <th>bedrooms</th>\n",
       "      <th>bathrooms</th>\n",
       "      <th>sqft_living</th>\n",
       "      <th>sqft_lot</th>\n",
       "      <th>floors</th>\n",
       "      <th>waterfront</th>\n",
       "      <th>view</th>\n",
       "      <th>condition</th>\n",
       "      <th>grade</th>\n",
       "      <th>sqft_above</th>\n",
       "      <th>sqft_basement</th>\n",
       "      <th>yr_built</th>\n",
       "      <th>zipcode</th>\n",
       "      <th>lat</th>\n",
       "      <th>long</th>\n",
       "      <th>sqft_living15</th>\n",
       "      <th>sqft_lot15</th>\n",
       "    </tr>\n",
       "  </thead>\n",
       "  <tbody>\n",
       "    <tr>\n",
       "      <th>19709</th>\n",
       "      <td>5</td>\n",
       "      <td>3.75</td>\n",
       "      <td>3330</td>\n",
       "      <td>5042</td>\n",
       "      <td>2.0</td>\n",
       "      <td>0.0</td>\n",
       "      <td>AVERAGE</td>\n",
       "      <td>Average</td>\n",
       "      <td>9 Better</td>\n",
       "      <td>2470</td>\n",
       "      <td>860</td>\n",
       "      <td>2014</td>\n",
       "      <td>98103</td>\n",
       "      <td>47.6497</td>\n",
       "      <td>-122.339</td>\n",
       "      <td>1780</td>\n",
       "      <td>3990</td>\n",
       "    </tr>\n",
       "    <tr>\n",
       "      <th>4800</th>\n",
       "      <td>3</td>\n",
       "      <td>2.00</td>\n",
       "      <td>1678</td>\n",
       "      <td>13862</td>\n",
       "      <td>1.0</td>\n",
       "      <td>0.0</td>\n",
       "      <td>NONE</td>\n",
       "      <td>Average</td>\n",
       "      <td>7 Average</td>\n",
       "      <td>1678</td>\n",
       "      <td>0</td>\n",
       "      <td>1994</td>\n",
       "      <td>98030</td>\n",
       "      <td>47.3744</td>\n",
       "      <td>-122.190</td>\n",
       "      <td>1550</td>\n",
       "      <td>11753</td>\n",
       "    </tr>\n",
       "    <tr>\n",
       "      <th>13225</th>\n",
       "      <td>4</td>\n",
       "      <td>1.00</td>\n",
       "      <td>1550</td>\n",
       "      <td>15239</td>\n",
       "      <td>1.5</td>\n",
       "      <td>1.0</td>\n",
       "      <td>EXCELLENT</td>\n",
       "      <td>Average</td>\n",
       "      <td>6 Low Average</td>\n",
       "      <td>1370</td>\n",
       "      <td>180</td>\n",
       "      <td>1930</td>\n",
       "      <td>98166</td>\n",
       "      <td>47.4502</td>\n",
       "      <td>-122.378</td>\n",
       "      <td>1790</td>\n",
       "      <td>22047</td>\n",
       "    </tr>\n",
       "    <tr>\n",
       "      <th>16111</th>\n",
       "      <td>3</td>\n",
       "      <td>2.50</td>\n",
       "      <td>2760</td>\n",
       "      <td>9471</td>\n",
       "      <td>1.0</td>\n",
       "      <td>0.0</td>\n",
       "      <td>AVERAGE</td>\n",
       "      <td>Average</td>\n",
       "      <td>8 Good</td>\n",
       "      <td>1760</td>\n",
       "      <td>1000</td>\n",
       "      <td>1956</td>\n",
       "      <td>98115</td>\n",
       "      <td>47.6760</td>\n",
       "      <td>-122.272</td>\n",
       "      <td>3040</td>\n",
       "      <td>6765</td>\n",
       "    </tr>\n",
       "    <tr>\n",
       "      <th>17711</th>\n",
       "      <td>2</td>\n",
       "      <td>1.50</td>\n",
       "      <td>1400</td>\n",
       "      <td>5810</td>\n",
       "      <td>2.0</td>\n",
       "      <td>0.0</td>\n",
       "      <td>NONE</td>\n",
       "      <td>Average</td>\n",
       "      <td>7 Average</td>\n",
       "      <td>1400</td>\n",
       "      <td>0</td>\n",
       "      <td>1940</td>\n",
       "      <td>98103</td>\n",
       "      <td>47.6843</td>\n",
       "      <td>-122.341</td>\n",
       "      <td>1470</td>\n",
       "      <td>3920</td>\n",
       "    </tr>\n",
       "    <tr>\n",
       "      <th>...</th>\n",
       "      <td>...</td>\n",
       "      <td>...</td>\n",
       "      <td>...</td>\n",
       "      <td>...</td>\n",
       "      <td>...</td>\n",
       "      <td>...</td>\n",
       "      <td>...</td>\n",
       "      <td>...</td>\n",
       "      <td>...</td>\n",
       "      <td>...</td>\n",
       "      <td>...</td>\n",
       "      <td>...</td>\n",
       "      <td>...</td>\n",
       "      <td>...</td>\n",
       "      <td>...</td>\n",
       "      <td>...</td>\n",
       "      <td>...</td>\n",
       "    </tr>\n",
       "    <tr>\n",
       "      <th>11964</th>\n",
       "      <td>3</td>\n",
       "      <td>2.50</td>\n",
       "      <td>2230</td>\n",
       "      <td>5800</td>\n",
       "      <td>2.0</td>\n",
       "      <td>0.0</td>\n",
       "      <td>NONE</td>\n",
       "      <td>Average</td>\n",
       "      <td>7 Average</td>\n",
       "      <td>2230</td>\n",
       "      <td>0</td>\n",
       "      <td>2004</td>\n",
       "      <td>98065</td>\n",
       "      <td>47.5308</td>\n",
       "      <td>-121.847</td>\n",
       "      <td>2230</td>\n",
       "      <td>6088</td>\n",
       "    </tr>\n",
       "    <tr>\n",
       "      <th>21575</th>\n",
       "      <td>4</td>\n",
       "      <td>2.75</td>\n",
       "      <td>2770</td>\n",
       "      <td>3852</td>\n",
       "      <td>2.0</td>\n",
       "      <td>0.0</td>\n",
       "      <td>NONE</td>\n",
       "      <td>Average</td>\n",
       "      <td>8 Good</td>\n",
       "      <td>2770</td>\n",
       "      <td>0</td>\n",
       "      <td>2014</td>\n",
       "      <td>98178</td>\n",
       "      <td>47.5001</td>\n",
       "      <td>-122.232</td>\n",
       "      <td>1810</td>\n",
       "      <td>5641</td>\n",
       "    </tr>\n",
       "    <tr>\n",
       "      <th>5390</th>\n",
       "      <td>4</td>\n",
       "      <td>1.50</td>\n",
       "      <td>1530</td>\n",
       "      <td>9000</td>\n",
       "      <td>1.0</td>\n",
       "      <td>0.0</td>\n",
       "      <td>NONE</td>\n",
       "      <td>Good</td>\n",
       "      <td>6 Low Average</td>\n",
       "      <td>1530</td>\n",
       "      <td>0</td>\n",
       "      <td>1976</td>\n",
       "      <td>98014</td>\n",
       "      <td>47.6492</td>\n",
       "      <td>-121.908</td>\n",
       "      <td>1520</td>\n",
       "      <td>8500</td>\n",
       "    </tr>\n",
       "    <tr>\n",
       "      <th>860</th>\n",
       "      <td>1</td>\n",
       "      <td>0.75</td>\n",
       "      <td>380</td>\n",
       "      <td>15000</td>\n",
       "      <td>1.0</td>\n",
       "      <td>0.0</td>\n",
       "      <td>NONE</td>\n",
       "      <td>Average</td>\n",
       "      <td>5 Fair</td>\n",
       "      <td>380</td>\n",
       "      <td>0</td>\n",
       "      <td>1963</td>\n",
       "      <td>98168</td>\n",
       "      <td>47.4810</td>\n",
       "      <td>-122.323</td>\n",
       "      <td>1170</td>\n",
       "      <td>15000</td>\n",
       "    </tr>\n",
       "    <tr>\n",
       "      <th>15795</th>\n",
       "      <td>4</td>\n",
       "      <td>2.50</td>\n",
       "      <td>2755</td>\n",
       "      <td>11612</td>\n",
       "      <td>2.0</td>\n",
       "      <td>0.0</td>\n",
       "      <td>NONE</td>\n",
       "      <td>Average</td>\n",
       "      <td>8 Good</td>\n",
       "      <td>2755</td>\n",
       "      <td>0</td>\n",
       "      <td>2001</td>\n",
       "      <td>98019</td>\n",
       "      <td>47.7394</td>\n",
       "      <td>-121.965</td>\n",
       "      <td>2820</td>\n",
       "      <td>12831</td>\n",
       "    </tr>\n",
       "  </tbody>\n",
       "</table>\n",
       "<p>14469 rows × 17 columns</p>\n",
       "</div>"
      ],
      "text/plain": [
       "       bedrooms  bathrooms  sqft_living  sqft_lot  floors  waterfront  \\\n",
       "19709         5       3.75         3330      5042     2.0         0.0   \n",
       "4800          3       2.00         1678     13862     1.0         0.0   \n",
       "13225         4       1.00         1550     15239     1.5         1.0   \n",
       "16111         3       2.50         2760      9471     1.0         0.0   \n",
       "17711         2       1.50         1400      5810     2.0         0.0   \n",
       "...         ...        ...          ...       ...     ...         ...   \n",
       "11964         3       2.50         2230      5800     2.0         0.0   \n",
       "21575         4       2.75         2770      3852     2.0         0.0   \n",
       "5390          4       1.50         1530      9000     1.0         0.0   \n",
       "860           1       0.75          380     15000     1.0         0.0   \n",
       "15795         4       2.50         2755     11612     2.0         0.0   \n",
       "\n",
       "            view condition          grade  sqft_above  sqft_basement  \\\n",
       "19709    AVERAGE   Average       9 Better        2470            860   \n",
       "4800        NONE   Average      7 Average        1678              0   \n",
       "13225  EXCELLENT   Average  6 Low Average        1370            180   \n",
       "16111    AVERAGE   Average         8 Good        1760           1000   \n",
       "17711       NONE   Average      7 Average        1400              0   \n",
       "...          ...       ...            ...         ...            ...   \n",
       "11964       NONE   Average      7 Average        2230              0   \n",
       "21575       NONE   Average         8 Good        2770              0   \n",
       "5390        NONE      Good  6 Low Average        1530              0   \n",
       "860         NONE   Average         5 Fair         380              0   \n",
       "15795       NONE   Average         8 Good        2755              0   \n",
       "\n",
       "       yr_built  zipcode      lat     long  sqft_living15  sqft_lot15  \n",
       "19709      2014    98103  47.6497 -122.339           1780        3990  \n",
       "4800       1994    98030  47.3744 -122.190           1550       11753  \n",
       "13225      1930    98166  47.4502 -122.378           1790       22047  \n",
       "16111      1956    98115  47.6760 -122.272           3040        6765  \n",
       "17711      1940    98103  47.6843 -122.341           1470        3920  \n",
       "...         ...      ...      ...      ...            ...         ...  \n",
       "11964      2004    98065  47.5308 -121.847           2230        6088  \n",
       "21575      2014    98178  47.5001 -122.232           1810        5641  \n",
       "5390       1976    98014  47.6492 -121.908           1520        8500  \n",
       "860        1963    98168  47.4810 -122.323           1170       15000  \n",
       "15795      2001    98019  47.7394 -121.965           2820       12831  \n",
       "\n",
       "[14469 rows x 17 columns]"
      ]
     },
     "execution_count": 13,
     "metadata": {},
     "output_type": "execute_result"
    }
   ],
   "source": [
    "X_train"
   ]
  },
  {
   "cell_type": "code",
   "execution_count": 14,
   "metadata": {
    "ExecuteTime": {
     "end_time": "2022-03-30T01:13:15.322806Z",
     "start_time": "2022-03-30T01:13:15.319344Z"
    }
   },
   "outputs": [],
   "source": [
    "ohe = OneHotEncoder(sparse=False, handle_unknown=\"ignore\")\n",
    "def ohe(df, df2, column):    \n",
    "    for col in column:\n",
    "        train = df[[col]]\n",
    "        ohe = OneHotEncoder(sparse=False, handle_unknown=\"ignore\")\n",
    "        ohe.fit(train)\n",
    "        encoded_train = ohe.transform(train)\n",
    "        col_names = [f\"{col}_{f}\" for f in ohe.get_feature_names()]\n",
    "        encoded_train = pd.DataFrame(encoded_train,\n",
    "                                     columns=col_names, index=df.index)\n",
    "        df = pd.concat([df, encoded_train], axis=1)\n",
    "        \n",
    "        test = df2[[col]]\n",
    "        encoded_test = ohe.transform(test)\n",
    "        col_names = [f\"{col}_{f}\" for f in ohe.get_feature_names()]\n",
    "        encoded_test = pd.DataFrame(encoded_test, \n",
    "                                    columns=col_names, index=df2.index)\n",
    "        df2 = pd.concat([df2, encoded_test], axis=1)\n",
    "    return df, df2"
   ]
  },
  {
   "cell_type": "code",
   "execution_count": 15,
   "metadata": {
    "ExecuteTime": {
     "end_time": "2022-03-30T01:13:15.335438Z",
     "start_time": "2022-03-30T01:13:15.323792Z"
    }
   },
   "outputs": [],
   "source": [
    "X_train, X_test = ohe(X_train, X_test, ['view'])"
   ]
  },
  {
   "cell_type": "markdown",
   "metadata": {},
   "source": [
    "#### Condition "
   ]
  },
  {
   "cell_type": "code",
   "execution_count": 16,
   "metadata": {
    "ExecuteTime": {
     "end_time": "2022-03-30T01:13:15.348992Z",
     "start_time": "2022-03-30T01:13:15.336394Z"
    }
   },
   "outputs": [],
   "source": [
    "X_train, X_test = ohe(X_train, X_test, ['condition'])"
   ]
  },
  {
   "cell_type": "markdown",
   "metadata": {},
   "source": [
    "#### Grade "
   ]
  },
  {
   "cell_type": "code",
   "execution_count": 17,
   "metadata": {
    "ExecuteTime": {
     "end_time": "2022-03-30T01:13:15.362200Z",
     "start_time": "2022-03-30T01:13:15.349985Z"
    }
   },
   "outputs": [],
   "source": [
    "X_train, X_test = ohe(X_train, X_test, ['grade'])"
   ]
  },
  {
   "cell_type": "markdown",
   "metadata": {},
   "source": [
    "#### Zipcode "
   ]
  },
  {
   "cell_type": "code",
   "execution_count": 18,
   "metadata": {
    "ExecuteTime": {
     "end_time": "2022-03-30T01:13:15.387996Z",
     "start_time": "2022-03-30T01:13:15.363193Z"
    }
   },
   "outputs": [],
   "source": [
    "X_train, X_test = ohe(X_train, X_test, ['zipcode'])"
   ]
  },
  {
   "cell_type": "markdown",
   "metadata": {},
   "source": [
    "#### Bathrooms"
   ]
  },
  {
   "cell_type": "code",
   "execution_count": 19,
   "metadata": {
    "ExecuteTime": {
     "end_time": "2022-03-30T01:13:15.414134Z",
     "start_time": "2022-03-30T01:13:15.389111Z"
    }
   },
   "outputs": [],
   "source": [
    "X_train, X_test = ohe(X_train, X_test, ['bathrooms'])"
   ]
  },
  {
   "cell_type": "markdown",
   "metadata": {},
   "source": [
    "### Models"
   ]
  },
  {
   "cell_type": "code",
   "execution_count": 20,
   "metadata": {
    "ExecuteTime": {
     "end_time": "2022-03-30T01:13:15.424436Z",
     "start_time": "2022-03-30T01:13:15.415201Z"
    }
   },
   "outputs": [
    {
     "data": {
      "text/plain": [
       "price            1.000000\n",
       "sqft_living      0.701917\n",
       "sqft_above       0.605368\n",
       "sqft_living15    0.585241\n",
       "bathrooms        0.525906\n",
       "sqft_basement    0.323799\n",
       "bedrooms         0.308787\n",
       "lat              0.306692\n",
       "floors           0.256804\n",
       "sqft_lot         0.089876\n",
       "sqft_lot15       0.082845\n",
       "yr_built         0.053953\n",
       "zipcode          0.053402\n",
       "long             0.022036\n",
       "Name: price, dtype: float64"
      ]
     },
     "execution_count": 20,
     "metadata": {},
     "output_type": "execute_result"
    }
   ],
   "source": [
    "df.corr().price.abs().sort_values(ascending=False)"
   ]
  },
  {
   "cell_type": "markdown",
   "metadata": {},
   "source": [
    "#### Model 1"
   ]
  },
  {
   "cell_type": "markdown",
   "metadata": {},
   "source": [
    "Using our top 4 correlated columns including sqft_living, sqft_above, sqft_living15, and the columns created from encoding 'bathrooms'."
   ]
  },
  {
   "cell_type": "code",
   "execution_count": 21,
   "metadata": {
    "ExecuteTime": {
     "end_time": "2022-03-30T01:13:15.427913Z",
     "start_time": "2022-03-30T01:13:15.425673Z"
    }
   },
   "outputs": [],
   "source": [
    "cols = ['sqft_living', 'sqft_above', 'sqft_living15', \n",
    "       'bathrooms_x0_0.5', 'bathrooms_x0_0.75', 'bathrooms_x0_1.0',\n",
    "       'bathrooms_x0_1.25', 'bathrooms_x0_1.5', 'bathrooms_x0_1.75',\n",
    "       'bathrooms_x0_2.0', 'bathrooms_x0_2.25', 'bathrooms_x0_2.5',\n",
    "       'bathrooms_x0_2.75', 'bathrooms_x0_3.0', 'bathrooms_x0_3.25',\n",
    "       'bathrooms_x0_3.5', 'bathrooms_x0_3.75', 'bathrooms_x0_4.0',\n",
    "       'bathrooms_x0_4.25', 'bathrooms_x0_4.5', 'bathrooms_x0_4.75',\n",
    "       'bathrooms_x0_5.0', 'bathrooms_x0_5.25', 'bathrooms_x0_5.5',\n",
    "       'bathrooms_x0_5.75', 'bathrooms_x0_6.0', 'bathrooms_x0_6.25',\n",
    "       'bathrooms_x0_6.5', 'bathrooms_x0_7.5', 'bathrooms_x0_7.75']"
   ]
  },
  {
   "cell_type": "code",
   "execution_count": 22,
   "metadata": {
    "ExecuteTime": {
     "end_time": "2022-03-30T01:13:15.523207Z",
     "start_time": "2022-03-30T01:13:15.429585Z"
    },
    "scrolled": true
   },
   "outputs": [
    {
     "data": {
      "text/html": [
       "<table class=\"simpletable\">\n",
       "<caption>OLS Regression Results</caption>\n",
       "<tr>\n",
       "  <th>Dep. Variable:</th>          <td>price</td>      <th>  R-squared:         </th>  <td>   0.556</td>  \n",
       "</tr>\n",
       "<tr>\n",
       "  <th>Model:</th>                   <td>OLS</td>       <th>  Adj. R-squared:    </th>  <td>   0.555</td>  \n",
       "</tr>\n",
       "<tr>\n",
       "  <th>Method:</th>             <td>Least Squares</td>  <th>  F-statistic:       </th>  <td>   669.9</td>  \n",
       "</tr>\n",
       "<tr>\n",
       "  <th>Date:</th>             <td>Tue, 29 Mar 2022</td> <th>  Prob (F-statistic):</th>   <td>  0.00</td>   \n",
       "</tr>\n",
       "<tr>\n",
       "  <th>Time:</th>                 <td>20:13:15</td>     <th>  Log-Likelihood:    </th> <td>-2.0017e+05</td>\n",
       "</tr>\n",
       "<tr>\n",
       "  <th>No. Observations:</th>      <td> 14469</td>      <th>  AIC:               </th>  <td>4.004e+05</td> \n",
       "</tr>\n",
       "<tr>\n",
       "  <th>Df Residuals:</th>          <td> 14441</td>      <th>  BIC:               </th>  <td>4.006e+05</td> \n",
       "</tr>\n",
       "<tr>\n",
       "  <th>Df Model:</th>              <td>    27</td>      <th>                     </th>      <td> </td>     \n",
       "</tr>\n",
       "<tr>\n",
       "  <th>Covariance Type:</th>      <td>nonrobust</td>    <th>                     </th>      <td> </td>     \n",
       "</tr>\n",
       "</table>\n",
       "<table class=\"simpletable\">\n",
       "<tr>\n",
       "          <td></td>             <th>coef</th>     <th>std err</th>      <th>t</th>      <th>P>|t|</th>  <th>[0.025</th>    <th>0.975]</th>  \n",
       "</tr>\n",
       "<tr>\n",
       "  <th>const</th>             <td> 1.367e+06</td> <td>  1.3e+05</td> <td>   10.543</td> <td> 0.000</td> <td> 1.11e+06</td> <td> 1.62e+06</td>\n",
       "</tr>\n",
       "<tr>\n",
       "  <th>sqft_living</th>       <td>  220.1605</td> <td>    5.710</td> <td>   38.560</td> <td> 0.000</td> <td>  208.969</td> <td>  231.352</td>\n",
       "</tr>\n",
       "<tr>\n",
       "  <th>sqft_above</th>        <td>  -39.4669</td> <td>    5.444</td> <td>   -7.249</td> <td> 0.000</td> <td>  -50.138</td> <td>  -28.796</td>\n",
       "</tr>\n",
       "<tr>\n",
       "  <th>sqft_living15</th>     <td>  113.0488</td> <td>    4.819</td> <td>   23.457</td> <td> 0.000</td> <td>  103.602</td> <td>  122.496</td>\n",
       "</tr>\n",
       "<tr>\n",
       "  <th>bathrooms_x0_0.5</th>  <td> -1.49e+06</td> <td> 1.92e+05</td> <td>   -7.746</td> <td> 0.000</td> <td>-1.87e+06</td> <td>-1.11e+06</td>\n",
       "</tr>\n",
       "<tr>\n",
       "  <th>bathrooms_x0_0.75</th> <td>-1.406e+06</td> <td> 1.34e+05</td> <td>  -10.499</td> <td> 0.000</td> <td>-1.67e+06</td> <td>-1.14e+06</td>\n",
       "</tr>\n",
       "<tr>\n",
       "  <th>bathrooms_x0_1.0</th>  <td>  -1.4e+06</td> <td> 1.29e+05</td> <td>  -10.857</td> <td> 0.000</td> <td>-1.65e+06</td> <td>-1.15e+06</td>\n",
       "</tr>\n",
       "<tr>\n",
       "  <th>bathrooms_x0_1.25</th> <td>-8.984e+05</td> <td> 1.92e+05</td> <td>   -4.682</td> <td> 0.000</td> <td>-1.27e+06</td> <td>-5.22e+05</td>\n",
       "</tr>\n",
       "<tr>\n",
       "  <th>bathrooms_x0_1.5</th>  <td>-1.435e+06</td> <td> 1.29e+05</td> <td>  -11.146</td> <td> 0.000</td> <td>-1.69e+06</td> <td>-1.18e+06</td>\n",
       "</tr>\n",
       "<tr>\n",
       "  <th>bathrooms_x0_1.75</th> <td>-1.452e+06</td> <td> 1.28e+05</td> <td>  -11.305</td> <td> 0.000</td> <td> -1.7e+06</td> <td> -1.2e+06</td>\n",
       "</tr>\n",
       "<tr>\n",
       "  <th>bathrooms_x0_2.0</th>  <td>-1.443e+06</td> <td> 1.28e+05</td> <td>  -11.233</td> <td> 0.000</td> <td>-1.69e+06</td> <td>-1.19e+06</td>\n",
       "</tr>\n",
       "<tr>\n",
       "  <th>bathrooms_x0_2.25</th> <td>-1.454e+06</td> <td> 1.28e+05</td> <td>  -11.335</td> <td> 0.000</td> <td>-1.71e+06</td> <td> -1.2e+06</td>\n",
       "</tr>\n",
       "<tr>\n",
       "  <th>bathrooms_x0_2.5</th>  <td>-1.506e+06</td> <td> 1.28e+05</td> <td>  -11.764</td> <td> 0.000</td> <td>-1.76e+06</td> <td>-1.26e+06</td>\n",
       "</tr>\n",
       "<tr>\n",
       "  <th>bathrooms_x0_2.75</th> <td>-1.478e+06</td> <td> 1.28e+05</td> <td>  -11.552</td> <td> 0.000</td> <td>-1.73e+06</td> <td>-1.23e+06</td>\n",
       "</tr>\n",
       "<tr>\n",
       "  <th>bathrooms_x0_3.0</th>  <td>-1.438e+06</td> <td> 1.28e+05</td> <td>  -11.240</td> <td> 0.000</td> <td>-1.69e+06</td> <td>-1.19e+06</td>\n",
       "</tr>\n",
       "<tr>\n",
       "  <th>bathrooms_x0_3.25</th> <td>-1.297e+06</td> <td> 1.28e+05</td> <td>  -10.151</td> <td> 0.000</td> <td>-1.55e+06</td> <td>-1.05e+06</td>\n",
       "</tr>\n",
       "<tr>\n",
       "  <th>bathrooms_x0_3.5</th>  <td>-1.379e+06</td> <td> 1.28e+05</td> <td>  -10.811</td> <td> 0.000</td> <td>-1.63e+06</td> <td>-1.13e+06</td>\n",
       "</tr>\n",
       "<tr>\n",
       "  <th>bathrooms_x0_3.75</th> <td>-1.195e+06</td> <td> 1.29e+05</td> <td>   -9.251</td> <td> 0.000</td> <td>-1.45e+06</td> <td>-9.42e+05</td>\n",
       "</tr>\n",
       "<tr>\n",
       "  <th>bathrooms_x0_4.0</th>  <td>-1.192e+06</td> <td> 1.29e+05</td> <td>   -9.246</td> <td> 0.000</td> <td>-1.45e+06</td> <td> -9.4e+05</td>\n",
       "</tr>\n",
       "<tr>\n",
       "  <th>bathrooms_x0_4.25</th> <td> -1.02e+06</td> <td>  1.3e+05</td> <td>   -7.837</td> <td> 0.000</td> <td>-1.28e+06</td> <td>-7.65e+05</td>\n",
       "</tr>\n",
       "<tr>\n",
       "  <th>bathrooms_x0_4.5</th>  <td>-1.182e+06</td> <td>  1.3e+05</td> <td>   -9.129</td> <td> 0.000</td> <td>-1.44e+06</td> <td>-9.28e+05</td>\n",
       "</tr>\n",
       "<tr>\n",
       "  <th>bathrooms_x0_4.75</th> <td> -6.75e+05</td> <td> 1.38e+05</td> <td>   -4.876</td> <td> 0.000</td> <td>-9.46e+05</td> <td>-4.04e+05</td>\n",
       "</tr>\n",
       "<tr>\n",
       "  <th>bathrooms_x0_5.0</th>  <td>-8.358e+05</td> <td> 1.43e+05</td> <td>   -5.829</td> <td> 0.000</td> <td>-1.12e+06</td> <td>-5.55e+05</td>\n",
       "</tr>\n",
       "<tr>\n",
       "  <th>bathrooms_x0_5.25</th> <td> -9.45e+05</td> <td> 1.48e+05</td> <td>   -6.374</td> <td> 0.000</td> <td>-1.24e+06</td> <td>-6.54e+05</td>\n",
       "</tr>\n",
       "<tr>\n",
       "  <th>bathrooms_x0_5.5</th>  <td>-4.979e+05</td> <td> 1.67e+05</td> <td>   -2.985</td> <td> 0.003</td> <td>-8.25e+05</td> <td>-1.71e+05</td>\n",
       "</tr>\n",
       "<tr>\n",
       "  <th>bathrooms_x0_5.75</th> <td>-7.989e+04</td> <td> 1.89e+05</td> <td>   -0.423</td> <td> 0.672</td> <td> -4.5e+05</td> <td>  2.9e+05</td>\n",
       "</tr>\n",
       "<tr>\n",
       "  <th>bathrooms_x0_6.0</th>  <td> 1.286e+06</td> <td>  1.9e+05</td> <td>    6.783</td> <td> 0.000</td> <td> 9.14e+05</td> <td> 1.66e+06</td>\n",
       "</tr>\n",
       "<tr>\n",
       "  <th>bathrooms_x0_6.5</th>  <td> -1.68e+06</td> <td> 2.77e+05</td> <td>   -6.074</td> <td> 0.000</td> <td>-2.22e+06</td> <td>-1.14e+06</td>\n",
       "</tr>\n",
       "</table>\n",
       "<table class=\"simpletable\">\n",
       "<tr>\n",
       "  <th>Omnibus:</th>       <td>7487.271</td> <th>  Durbin-Watson:     </th>  <td>   1.995</td> \n",
       "</tr>\n",
       "<tr>\n",
       "  <th>Prob(Omnibus):</th>  <td> 0.000</td>  <th>  Jarque-Bera (JB):  </th> <td>157554.996</td>\n",
       "</tr>\n",
       "<tr>\n",
       "  <th>Skew:</th>           <td> 2.019</td>  <th>  Prob(JB):          </th>  <td>    0.00</td> \n",
       "</tr>\n",
       "<tr>\n",
       "  <th>Kurtosis:</th>       <td>18.653</td>  <th>  Cond. No.          </th>  <td>1.14e+06</td> \n",
       "</tr>\n",
       "</table><br/><br/>Notes:<br/>[1] Standard Errors assume that the covariance matrix of the errors is correctly specified.<br/>[2] The condition number is large, 1.14e+06. This might indicate that there are<br/>strong multicollinearity or other numerical problems."
      ],
      "text/plain": [
       "<class 'statsmodels.iolib.summary.Summary'>\n",
       "\"\"\"\n",
       "                            OLS Regression Results                            \n",
       "==============================================================================\n",
       "Dep. Variable:                  price   R-squared:                       0.556\n",
       "Model:                            OLS   Adj. R-squared:                  0.555\n",
       "Method:                 Least Squares   F-statistic:                     669.9\n",
       "Date:                Tue, 29 Mar 2022   Prob (F-statistic):               0.00\n",
       "Time:                        20:13:15   Log-Likelihood:            -2.0017e+05\n",
       "No. Observations:               14469   AIC:                         4.004e+05\n",
       "Df Residuals:                   14441   BIC:                         4.006e+05\n",
       "Df Model:                          27                                         \n",
       "Covariance Type:            nonrobust                                         \n",
       "=====================================================================================\n",
       "                        coef    std err          t      P>|t|      [0.025      0.975]\n",
       "-------------------------------------------------------------------------------------\n",
       "const              1.367e+06    1.3e+05     10.543      0.000    1.11e+06    1.62e+06\n",
       "sqft_living         220.1605      5.710     38.560      0.000     208.969     231.352\n",
       "sqft_above          -39.4669      5.444     -7.249      0.000     -50.138     -28.796\n",
       "sqft_living15       113.0488      4.819     23.457      0.000     103.602     122.496\n",
       "bathrooms_x0_0.5   -1.49e+06   1.92e+05     -7.746      0.000   -1.87e+06   -1.11e+06\n",
       "bathrooms_x0_0.75 -1.406e+06   1.34e+05    -10.499      0.000   -1.67e+06   -1.14e+06\n",
       "bathrooms_x0_1.0    -1.4e+06   1.29e+05    -10.857      0.000   -1.65e+06   -1.15e+06\n",
       "bathrooms_x0_1.25 -8.984e+05   1.92e+05     -4.682      0.000   -1.27e+06   -5.22e+05\n",
       "bathrooms_x0_1.5  -1.435e+06   1.29e+05    -11.146      0.000   -1.69e+06   -1.18e+06\n",
       "bathrooms_x0_1.75 -1.452e+06   1.28e+05    -11.305      0.000    -1.7e+06    -1.2e+06\n",
       "bathrooms_x0_2.0  -1.443e+06   1.28e+05    -11.233      0.000   -1.69e+06   -1.19e+06\n",
       "bathrooms_x0_2.25 -1.454e+06   1.28e+05    -11.335      0.000   -1.71e+06    -1.2e+06\n",
       "bathrooms_x0_2.5  -1.506e+06   1.28e+05    -11.764      0.000   -1.76e+06   -1.26e+06\n",
       "bathrooms_x0_2.75 -1.478e+06   1.28e+05    -11.552      0.000   -1.73e+06   -1.23e+06\n",
       "bathrooms_x0_3.0  -1.438e+06   1.28e+05    -11.240      0.000   -1.69e+06   -1.19e+06\n",
       "bathrooms_x0_3.25 -1.297e+06   1.28e+05    -10.151      0.000   -1.55e+06   -1.05e+06\n",
       "bathrooms_x0_3.5  -1.379e+06   1.28e+05    -10.811      0.000   -1.63e+06   -1.13e+06\n",
       "bathrooms_x0_3.75 -1.195e+06   1.29e+05     -9.251      0.000   -1.45e+06   -9.42e+05\n",
       "bathrooms_x0_4.0  -1.192e+06   1.29e+05     -9.246      0.000   -1.45e+06    -9.4e+05\n",
       "bathrooms_x0_4.25  -1.02e+06    1.3e+05     -7.837      0.000   -1.28e+06   -7.65e+05\n",
       "bathrooms_x0_4.5  -1.182e+06    1.3e+05     -9.129      0.000   -1.44e+06   -9.28e+05\n",
       "bathrooms_x0_4.75  -6.75e+05   1.38e+05     -4.876      0.000   -9.46e+05   -4.04e+05\n",
       "bathrooms_x0_5.0  -8.358e+05   1.43e+05     -5.829      0.000   -1.12e+06   -5.55e+05\n",
       "bathrooms_x0_5.25  -9.45e+05   1.48e+05     -6.374      0.000   -1.24e+06   -6.54e+05\n",
       "bathrooms_x0_5.5  -4.979e+05   1.67e+05     -2.985      0.003   -8.25e+05   -1.71e+05\n",
       "bathrooms_x0_5.75 -7.989e+04   1.89e+05     -0.423      0.672    -4.5e+05     2.9e+05\n",
       "bathrooms_x0_6.0   1.286e+06    1.9e+05      6.783      0.000    9.14e+05    1.66e+06\n",
       "bathrooms_x0_6.5   -1.68e+06   2.77e+05     -6.074      0.000   -2.22e+06   -1.14e+06\n",
       "==============================================================================\n",
       "Omnibus:                     7487.271   Durbin-Watson:                   1.995\n",
       "Prob(Omnibus):                  0.000   Jarque-Bera (JB):           157554.996\n",
       "Skew:                           2.019   Prob(JB):                         0.00\n",
       "Kurtosis:                      18.653   Cond. No.                     1.14e+06\n",
       "==============================================================================\n",
       "\n",
       "Notes:\n",
       "[1] Standard Errors assume that the covariance matrix of the errors is correctly specified.\n",
       "[2] The condition number is large, 1.14e+06. This might indicate that there are\n",
       "strong multicollinearity or other numerical problems.\n",
       "\"\"\""
      ]
     },
     "execution_count": 22,
     "metadata": {},
     "output_type": "execute_result"
    }
   ],
   "source": [
    "y = y_train\n",
    "x = X_train.filter(cols, axis=1)\n",
    "x = sm.add_constant(x)\n",
    "model = sm.OLS(y, x.astype(float)).fit()\n",
    "model.summary()"
   ]
  },
  {
   "cell_type": "code",
   "execution_count": 23,
   "metadata": {
    "ExecuteTime": {
     "end_time": "2022-03-30T01:13:15.581860Z",
     "start_time": "2022-03-30T01:13:15.527477Z"
    }
   },
   "outputs": [
    {
     "data": {
      "text/html": [
       "<table class=\"simpletable\">\n",
       "<caption>OLS Regression Results</caption>\n",
       "<tr>\n",
       "  <th>Dep. Variable:</th>          <td>price</td>      <th>  R-squared:         </th> <td>   0.539</td> \n",
       "</tr>\n",
       "<tr>\n",
       "  <th>Model:</th>                   <td>OLS</td>       <th>  Adj. R-squared:    </th> <td>   0.537</td> \n",
       "</tr>\n",
       "<tr>\n",
       "  <th>Method:</th>             <td>Least Squares</td>  <th>  F-statistic:       </th> <td>   307.4</td> \n",
       "</tr>\n",
       "<tr>\n",
       "  <th>Date:</th>             <td>Tue, 29 Mar 2022</td> <th>  Prob (F-statistic):</th>  <td>  0.00</td>  \n",
       "</tr>\n",
       "<tr>\n",
       "  <th>Time:</th>                 <td>20:13:15</td>     <th>  Log-Likelihood:    </th> <td> -98580.</td> \n",
       "</tr>\n",
       "<tr>\n",
       "  <th>No. Observations:</th>      <td>  7128</td>      <th>  AIC:               </th> <td>1.972e+05</td>\n",
       "</tr>\n",
       "<tr>\n",
       "  <th>Df Residuals:</th>          <td>  7100</td>      <th>  BIC:               </th> <td>1.974e+05</td>\n",
       "</tr>\n",
       "<tr>\n",
       "  <th>Df Model:</th>              <td>    27</td>      <th>                     </th>     <td> </td>    \n",
       "</tr>\n",
       "<tr>\n",
       "  <th>Covariance Type:</th>      <td>nonrobust</td>    <th>                     </th>     <td> </td>    \n",
       "</tr>\n",
       "</table>\n",
       "<table class=\"simpletable\">\n",
       "<tr>\n",
       "          <td></td>             <th>coef</th>     <th>std err</th>      <th>t</th>      <th>P>|t|</th>  <th>[0.025</th>    <th>0.975]</th>  \n",
       "</tr>\n",
       "<tr>\n",
       "  <th>const</th>             <td> 1.316e+06</td> <td> 1.29e+05</td> <td>   10.195</td> <td> 0.000</td> <td> 1.06e+06</td> <td> 1.57e+06</td>\n",
       "</tr>\n",
       "<tr>\n",
       "  <th>sqft_living</th>       <td>  242.1008</td> <td>    8.049</td> <td>   30.078</td> <td> 0.000</td> <td>  226.322</td> <td>  257.879</td>\n",
       "</tr>\n",
       "<tr>\n",
       "  <th>sqft_above</th>        <td>  -13.2259</td> <td>    7.866</td> <td>   -1.681</td> <td> 0.093</td> <td>  -28.646</td> <td>    2.194</td>\n",
       "</tr>\n",
       "<tr>\n",
       "  <th>sqft_living15</th>     <td>   84.5144</td> <td>    6.775</td> <td>   12.475</td> <td> 0.000</td> <td>   71.234</td> <td>   97.795</td>\n",
       "</tr>\n",
       "<tr>\n",
       "  <th>bathrooms_x0_0.5</th>  <td>-1.684e+06</td> <td> 2.76e+05</td> <td>   -6.091</td> <td> 0.000</td> <td>-2.23e+06</td> <td>-1.14e+06</td>\n",
       "</tr>\n",
       "<tr>\n",
       "  <th>bathrooms_x0_0.75</th> <td>-1.343e+06</td> <td> 1.39e+05</td> <td>   -9.685</td> <td> 0.000</td> <td>-1.61e+06</td> <td>-1.07e+06</td>\n",
       "</tr>\n",
       "<tr>\n",
       "  <th>bathrooms_x0_1.0</th>  <td>-1.364e+06</td> <td> 1.28e+05</td> <td>  -10.658</td> <td> 0.000</td> <td>-1.61e+06</td> <td>-1.11e+06</td>\n",
       "</tr>\n",
       "<tr>\n",
       "  <th>bathrooms_x0_1.25</th> <td>-1.346e+06</td> <td> 1.62e+05</td> <td>   -8.293</td> <td> 0.000</td> <td>-1.66e+06</td> <td>-1.03e+06</td>\n",
       "</tr>\n",
       "<tr>\n",
       "  <th>bathrooms_x0_1.5</th>  <td>-1.382e+06</td> <td> 1.28e+05</td> <td>  -10.812</td> <td> 0.000</td> <td>-1.63e+06</td> <td>-1.13e+06</td>\n",
       "</tr>\n",
       "<tr>\n",
       "  <th>bathrooms_x0_1.75</th> <td>-1.429e+06</td> <td> 1.27e+05</td> <td>  -11.218</td> <td> 0.000</td> <td>-1.68e+06</td> <td>-1.18e+06</td>\n",
       "</tr>\n",
       "<tr>\n",
       "  <th>bathrooms_x0_2.0</th>  <td>-1.417e+06</td> <td> 1.27e+05</td> <td>  -11.124</td> <td> 0.000</td> <td>-1.67e+06</td> <td>-1.17e+06</td>\n",
       "</tr>\n",
       "<tr>\n",
       "  <th>bathrooms_x0_2.25</th> <td>-1.438e+06</td> <td> 1.27e+05</td> <td>  -11.311</td> <td> 0.000</td> <td>-1.69e+06</td> <td>-1.19e+06</td>\n",
       "</tr>\n",
       "<tr>\n",
       "  <th>bathrooms_x0_2.5</th>  <td>  -1.5e+06</td> <td> 1.27e+05</td> <td>  -11.851</td> <td> 0.000</td> <td>-1.75e+06</td> <td>-1.25e+06</td>\n",
       "</tr>\n",
       "<tr>\n",
       "  <th>bathrooms_x0_2.75</th> <td> -1.47e+06</td> <td> 1.27e+05</td> <td>  -11.588</td> <td> 0.000</td> <td>-1.72e+06</td> <td>-1.22e+06</td>\n",
       "</tr>\n",
       "<tr>\n",
       "  <th>bathrooms_x0_3.0</th>  <td>-1.401e+06</td> <td> 1.27e+05</td> <td>  -11.020</td> <td> 0.000</td> <td>-1.65e+06</td> <td>-1.15e+06</td>\n",
       "</tr>\n",
       "<tr>\n",
       "  <th>bathrooms_x0_3.25</th> <td>-1.318e+06</td> <td> 1.27e+05</td> <td>  -10.385</td> <td> 0.000</td> <td>-1.57e+06</td> <td>-1.07e+06</td>\n",
       "</tr>\n",
       "<tr>\n",
       "  <th>bathrooms_x0_3.5</th>  <td>  -1.4e+06</td> <td> 1.26e+05</td> <td>  -11.075</td> <td> 0.000</td> <td>-1.65e+06</td> <td>-1.15e+06</td>\n",
       "</tr>\n",
       "<tr>\n",
       "  <th>bathrooms_x0_3.75</th> <td>-1.224e+06</td> <td> 1.29e+05</td> <td>   -9.473</td> <td> 0.000</td> <td>-1.48e+06</td> <td>-9.71e+05</td>\n",
       "</tr>\n",
       "<tr>\n",
       "  <th>bathrooms_x0_4.0</th>  <td>-1.303e+06</td> <td> 1.32e+05</td> <td>   -9.907</td> <td> 0.000</td> <td>-1.56e+06</td> <td>-1.05e+06</td>\n",
       "</tr>\n",
       "<tr>\n",
       "  <th>bathrooms_x0_4.25</th> <td>-1.298e+06</td> <td> 1.37e+05</td> <td>   -9.485</td> <td> 0.000</td> <td>-1.57e+06</td> <td>-1.03e+06</td>\n",
       "</tr>\n",
       "<tr>\n",
       "  <th>bathrooms_x0_4.5</th>  <td>-1.273e+06</td> <td> 1.33e+05</td> <td>   -9.548</td> <td> 0.000</td> <td>-1.53e+06</td> <td>-1.01e+06</td>\n",
       "</tr>\n",
       "<tr>\n",
       "  <th>bathrooms_x0_4.75</th> <td>-9.717e+05</td> <td> 1.66e+05</td> <td>   -5.865</td> <td> 0.000</td> <td> -1.3e+06</td> <td>-6.47e+05</td>\n",
       "</tr>\n",
       "<tr>\n",
       "  <th>bathrooms_x0_5.0</th>  <td>-1.235e+06</td> <td> 1.52e+05</td> <td>   -8.130</td> <td> 0.000</td> <td>-1.53e+06</td> <td>-9.37e+05</td>\n",
       "</tr>\n",
       "<tr>\n",
       "  <th>bathrooms_x0_5.25</th> <td>-5.887e+05</td> <td> 1.88e+05</td> <td>   -3.124</td> <td> 0.002</td> <td>-9.58e+05</td> <td>-2.19e+05</td>\n",
       "</tr>\n",
       "<tr>\n",
       "  <th>bathrooms_x0_5.5</th>  <td> -6.04e+05</td> <td> 1.65e+05</td> <td>   -3.656</td> <td> 0.000</td> <td>-9.28e+05</td> <td> -2.8e+05</td>\n",
       "</tr>\n",
       "<tr>\n",
       "  <th>bathrooms_x0_5.75</th> <td>-1.835e+06</td> <td> 2.76e+05</td> <td>   -6.653</td> <td> 0.000</td> <td>-2.38e+06</td> <td>-1.29e+06</td>\n",
       "</tr>\n",
       "<tr>\n",
       "  <th>bathrooms_x0_6.0</th>  <td>-1.508e+06</td> <td> 1.88e+05</td> <td>   -8.011</td> <td> 0.000</td> <td>-1.88e+06</td> <td>-1.14e+06</td>\n",
       "</tr>\n",
       "<tr>\n",
       "  <th>bathrooms_x0_6.5</th>  <td>-9.035e+05</td> <td> 2.75e+05</td> <td>   -3.283</td> <td> 0.001</td> <td>-1.44e+06</td> <td>-3.64e+05</td>\n",
       "</tr>\n",
       "</table>\n",
       "<table class=\"simpletable\">\n",
       "<tr>\n",
       "  <th>Omnibus:</th>       <td>4801.819</td> <th>  Durbin-Watson:     </th>  <td>   2.020</td> \n",
       "</tr>\n",
       "<tr>\n",
       "  <th>Prob(Omnibus):</th>  <td> 0.000</td>  <th>  Jarque-Bera (JB):  </th> <td>234310.854</td>\n",
       "</tr>\n",
       "<tr>\n",
       "  <th>Skew:</th>           <td> 2.628</td>  <th>  Prob(JB):          </th>  <td>    0.00</td> \n",
       "</tr>\n",
       "<tr>\n",
       "  <th>Kurtosis:</th>       <td>30.592</td>  <th>  Cond. No.          </th>  <td>7.87e+05</td> \n",
       "</tr>\n",
       "</table><br/><br/>Notes:<br/>[1] Standard Errors assume that the covariance matrix of the errors is correctly specified.<br/>[2] The condition number is large, 7.87e+05. This might indicate that there are<br/>strong multicollinearity or other numerical problems."
      ],
      "text/plain": [
       "<class 'statsmodels.iolib.summary.Summary'>\n",
       "\"\"\"\n",
       "                            OLS Regression Results                            \n",
       "==============================================================================\n",
       "Dep. Variable:                  price   R-squared:                       0.539\n",
       "Model:                            OLS   Adj. R-squared:                  0.537\n",
       "Method:                 Least Squares   F-statistic:                     307.4\n",
       "Date:                Tue, 29 Mar 2022   Prob (F-statistic):               0.00\n",
       "Time:                        20:13:15   Log-Likelihood:                -98580.\n",
       "No. Observations:                7128   AIC:                         1.972e+05\n",
       "Df Residuals:                    7100   BIC:                         1.974e+05\n",
       "Df Model:                          27                                         \n",
       "Covariance Type:            nonrobust                                         \n",
       "=====================================================================================\n",
       "                        coef    std err          t      P>|t|      [0.025      0.975]\n",
       "-------------------------------------------------------------------------------------\n",
       "const              1.316e+06   1.29e+05     10.195      0.000    1.06e+06    1.57e+06\n",
       "sqft_living         242.1008      8.049     30.078      0.000     226.322     257.879\n",
       "sqft_above          -13.2259      7.866     -1.681      0.093     -28.646       2.194\n",
       "sqft_living15        84.5144      6.775     12.475      0.000      71.234      97.795\n",
       "bathrooms_x0_0.5  -1.684e+06   2.76e+05     -6.091      0.000   -2.23e+06   -1.14e+06\n",
       "bathrooms_x0_0.75 -1.343e+06   1.39e+05     -9.685      0.000   -1.61e+06   -1.07e+06\n",
       "bathrooms_x0_1.0  -1.364e+06   1.28e+05    -10.658      0.000   -1.61e+06   -1.11e+06\n",
       "bathrooms_x0_1.25 -1.346e+06   1.62e+05     -8.293      0.000   -1.66e+06   -1.03e+06\n",
       "bathrooms_x0_1.5  -1.382e+06   1.28e+05    -10.812      0.000   -1.63e+06   -1.13e+06\n",
       "bathrooms_x0_1.75 -1.429e+06   1.27e+05    -11.218      0.000   -1.68e+06   -1.18e+06\n",
       "bathrooms_x0_2.0  -1.417e+06   1.27e+05    -11.124      0.000   -1.67e+06   -1.17e+06\n",
       "bathrooms_x0_2.25 -1.438e+06   1.27e+05    -11.311      0.000   -1.69e+06   -1.19e+06\n",
       "bathrooms_x0_2.5    -1.5e+06   1.27e+05    -11.851      0.000   -1.75e+06   -1.25e+06\n",
       "bathrooms_x0_2.75  -1.47e+06   1.27e+05    -11.588      0.000   -1.72e+06   -1.22e+06\n",
       "bathrooms_x0_3.0  -1.401e+06   1.27e+05    -11.020      0.000   -1.65e+06   -1.15e+06\n",
       "bathrooms_x0_3.25 -1.318e+06   1.27e+05    -10.385      0.000   -1.57e+06   -1.07e+06\n",
       "bathrooms_x0_3.5    -1.4e+06   1.26e+05    -11.075      0.000   -1.65e+06   -1.15e+06\n",
       "bathrooms_x0_3.75 -1.224e+06   1.29e+05     -9.473      0.000   -1.48e+06   -9.71e+05\n",
       "bathrooms_x0_4.0  -1.303e+06   1.32e+05     -9.907      0.000   -1.56e+06   -1.05e+06\n",
       "bathrooms_x0_4.25 -1.298e+06   1.37e+05     -9.485      0.000   -1.57e+06   -1.03e+06\n",
       "bathrooms_x0_4.5  -1.273e+06   1.33e+05     -9.548      0.000   -1.53e+06   -1.01e+06\n",
       "bathrooms_x0_4.75 -9.717e+05   1.66e+05     -5.865      0.000    -1.3e+06   -6.47e+05\n",
       "bathrooms_x0_5.0  -1.235e+06   1.52e+05     -8.130      0.000   -1.53e+06   -9.37e+05\n",
       "bathrooms_x0_5.25 -5.887e+05   1.88e+05     -3.124      0.002   -9.58e+05   -2.19e+05\n",
       "bathrooms_x0_5.5   -6.04e+05   1.65e+05     -3.656      0.000   -9.28e+05    -2.8e+05\n",
       "bathrooms_x0_5.75 -1.835e+06   2.76e+05     -6.653      0.000   -2.38e+06   -1.29e+06\n",
       "bathrooms_x0_6.0  -1.508e+06   1.88e+05     -8.011      0.000   -1.88e+06   -1.14e+06\n",
       "bathrooms_x0_6.5  -9.035e+05   2.75e+05     -3.283      0.001   -1.44e+06   -3.64e+05\n",
       "==============================================================================\n",
       "Omnibus:                     4801.819   Durbin-Watson:                   2.020\n",
       "Prob(Omnibus):                  0.000   Jarque-Bera (JB):           234310.854\n",
       "Skew:                           2.628   Prob(JB):                         0.00\n",
       "Kurtosis:                      30.592   Cond. No.                     7.87e+05\n",
       "==============================================================================\n",
       "\n",
       "Notes:\n",
       "[1] Standard Errors assume that the covariance matrix of the errors is correctly specified.\n",
       "[2] The condition number is large, 7.87e+05. This might indicate that there are\n",
       "strong multicollinearity or other numerical problems.\n",
       "\"\"\""
      ]
     },
     "execution_count": 23,
     "metadata": {},
     "output_type": "execute_result"
    }
   ],
   "source": [
    "y = y_test\n",
    "x = X_test.filter(cols, axis=1)\n",
    "x = sm.add_constant(x)\n",
    "model = sm.OLS(y, x.astype(float)).fit()\n",
    "model.summary()"
   ]
  },
  {
   "cell_type": "code",
   "execution_count": 24,
   "metadata": {
    "ExecuteTime": {
     "end_time": "2022-03-30T01:13:15.622506Z",
     "start_time": "2022-03-30T01:13:15.584145Z"
    }
   },
   "outputs": [
    {
     "data": {
      "text/html": [
       "<table class=\"simpletable\">\n",
       "<caption>OLS Regression Results</caption>\n",
       "<tr>\n",
       "  <th>Dep. Variable:</th>          <td>price</td>      <th>  R-squared:         </th>  <td>   0.503</td>  \n",
       "</tr>\n",
       "<tr>\n",
       "  <th>Model:</th>                   <td>OLS</td>       <th>  Adj. R-squared:    </th>  <td>   0.503</td>  \n",
       "</tr>\n",
       "<tr>\n",
       "  <th>Method:</th>             <td>Least Squares</td>  <th>  F-statistic:       </th>  <td>   3656.</td>  \n",
       "</tr>\n",
       "<tr>\n",
       "  <th>Date:</th>             <td>Tue, 29 Mar 2022</td> <th>  Prob (F-statistic):</th>   <td>  0.00</td>   \n",
       "</tr>\n",
       "<tr>\n",
       "  <th>Time:</th>                 <td>20:13:15</td>     <th>  Log-Likelihood:    </th> <td>-2.0099e+05</td>\n",
       "</tr>\n",
       "<tr>\n",
       "  <th>No. Observations:</th>      <td> 14469</td>      <th>  AIC:               </th>  <td>4.020e+05</td> \n",
       "</tr>\n",
       "<tr>\n",
       "  <th>Df Residuals:</th>          <td> 14464</td>      <th>  BIC:               </th>  <td>4.020e+05</td> \n",
       "</tr>\n",
       "<tr>\n",
       "  <th>Df Model:</th>              <td>     4</td>      <th>                     </th>      <td> </td>     \n",
       "</tr>\n",
       "<tr>\n",
       "  <th>Covariance Type:</th>      <td>nonrobust</td>    <th>                     </th>      <td> </td>     \n",
       "</tr>\n",
       "</table>\n",
       "<table class=\"simpletable\">\n",
       "<tr>\n",
       "        <td></td>           <th>coef</th>     <th>std err</th>      <th>t</th>      <th>P>|t|</th>  <th>[0.025</th>    <th>0.975]</th>  \n",
       "</tr>\n",
       "<tr>\n",
       "  <th>const</th>         <td>-1.091e+05</td> <td> 7516.306</td> <td>  -14.517</td> <td> 0.000</td> <td>-1.24e+05</td> <td>-9.44e+04</td>\n",
       "</tr>\n",
       "<tr>\n",
       "  <th>sqft_living</th>   <td>  267.3025</td> <td>    5.779</td> <td>   46.258</td> <td> 0.000</td> <td>  255.976</td> <td>  278.629</td>\n",
       "</tr>\n",
       "<tr>\n",
       "  <th>sqft_above</th>    <td>  -47.9250</td> <td>    5.586</td> <td>   -8.580</td> <td> 0.000</td> <td>  -58.874</td> <td>  -36.976</td>\n",
       "</tr>\n",
       "<tr>\n",
       "  <th>sqft_living15</th> <td>   84.2948</td> <td>    4.981</td> <td>   16.924</td> <td> 0.000</td> <td>   74.532</td> <td>   94.058</td>\n",
       "</tr>\n",
       "<tr>\n",
       "  <th>bathrooms</th>     <td> 5318.7227</td> <td> 4351.562</td> <td>    1.222</td> <td> 0.222</td> <td>-3210.897</td> <td> 1.38e+04</td>\n",
       "</tr>\n",
       "</table>\n",
       "<table class=\"simpletable\">\n",
       "<tr>\n",
       "  <th>Omnibus:</th>       <td>9859.232</td> <th>  Durbin-Watson:     </th>  <td>   1.985</td> \n",
       "</tr>\n",
       "<tr>\n",
       "  <th>Prob(Omnibus):</th>  <td> 0.000</td>  <th>  Jarque-Bera (JB):  </th> <td>331664.501</td>\n",
       "</tr>\n",
       "<tr>\n",
       "  <th>Skew:</th>           <td> 2.821</td>  <th>  Prob(JB):          </th>  <td>    0.00</td> \n",
       "</tr>\n",
       "<tr>\n",
       "  <th>Kurtosis:</th>       <td>25.766</td>  <th>  Cond. No.          </th>  <td>1.32e+04</td> \n",
       "</tr>\n",
       "</table><br/><br/>Notes:<br/>[1] Standard Errors assume that the covariance matrix of the errors is correctly specified.<br/>[2] The condition number is large, 1.32e+04. This might indicate that there are<br/>strong multicollinearity or other numerical problems."
      ],
      "text/plain": [
       "<class 'statsmodels.iolib.summary.Summary'>\n",
       "\"\"\"\n",
       "                            OLS Regression Results                            \n",
       "==============================================================================\n",
       "Dep. Variable:                  price   R-squared:                       0.503\n",
       "Model:                            OLS   Adj. R-squared:                  0.503\n",
       "Method:                 Least Squares   F-statistic:                     3656.\n",
       "Date:                Tue, 29 Mar 2022   Prob (F-statistic):               0.00\n",
       "Time:                        20:13:15   Log-Likelihood:            -2.0099e+05\n",
       "No. Observations:               14469   AIC:                         4.020e+05\n",
       "Df Residuals:                   14464   BIC:                         4.020e+05\n",
       "Df Model:                           4                                         \n",
       "Covariance Type:            nonrobust                                         \n",
       "=================================================================================\n",
       "                    coef    std err          t      P>|t|      [0.025      0.975]\n",
       "---------------------------------------------------------------------------------\n",
       "const         -1.091e+05   7516.306    -14.517      0.000   -1.24e+05   -9.44e+04\n",
       "sqft_living     267.3025      5.779     46.258      0.000     255.976     278.629\n",
       "sqft_above      -47.9250      5.586     -8.580      0.000     -58.874     -36.976\n",
       "sqft_living15    84.2948      4.981     16.924      0.000      74.532      94.058\n",
       "bathrooms      5318.7227   4351.562      1.222      0.222   -3210.897    1.38e+04\n",
       "==============================================================================\n",
       "Omnibus:                     9859.232   Durbin-Watson:                   1.985\n",
       "Prob(Omnibus):                  0.000   Jarque-Bera (JB):           331664.501\n",
       "Skew:                           2.821   Prob(JB):                         0.00\n",
       "Kurtosis:                      25.766   Cond. No.                     1.32e+04\n",
       "==============================================================================\n",
       "\n",
       "Notes:\n",
       "[1] Standard Errors assume that the covariance matrix of the errors is correctly specified.\n",
       "[2] The condition number is large, 1.32e+04. This might indicate that there are\n",
       "strong multicollinearity or other numerical problems.\n",
       "\"\"\""
      ]
     },
     "execution_count": 24,
     "metadata": {},
     "output_type": "execute_result"
    }
   ],
   "source": [
    "y = y_train\n",
    "x = X_train.filter(['sqft_living', 'sqft_above', 'sqft_living15', 'bathrooms'], axis=1)\n",
    "x = sm.add_constant(x)\n",
    "model = sm.OLS(y, x.astype(float)).fit()\n",
    "model.summary()"
   ]
  },
  {
   "cell_type": "code",
   "execution_count": 25,
   "metadata": {
    "ExecuteTime": {
     "end_time": "2022-03-30T01:13:15.646681Z",
     "start_time": "2022-03-30T01:13:15.623580Z"
    }
   },
   "outputs": [
    {
     "data": {
      "text/html": [
       "<table class=\"simpletable\">\n",
       "<caption>OLS Regression Results</caption>\n",
       "<tr>\n",
       "  <th>Dep. Variable:</th>          <td>price</td>      <th>  R-squared:         </th> <td>   0.500</td> \n",
       "</tr>\n",
       "<tr>\n",
       "  <th>Model:</th>                   <td>OLS</td>       <th>  Adj. R-squared:    </th> <td>   0.499</td> \n",
       "</tr>\n",
       "<tr>\n",
       "  <th>Method:</th>             <td>Least Squares</td>  <th>  F-statistic:       </th> <td>   1778.</td> \n",
       "</tr>\n",
       "<tr>\n",
       "  <th>Date:</th>             <td>Tue, 29 Mar 2022</td> <th>  Prob (F-statistic):</th>  <td>  0.00</td>  \n",
       "</tr>\n",
       "<tr>\n",
       "  <th>Time:</th>                 <td>20:13:15</td>     <th>  Log-Likelihood:    </th> <td> -98873.</td> \n",
       "</tr>\n",
       "<tr>\n",
       "  <th>No. Observations:</th>      <td>  7128</td>      <th>  AIC:               </th> <td>1.978e+05</td>\n",
       "</tr>\n",
       "<tr>\n",
       "  <th>Df Residuals:</th>          <td>  7123</td>      <th>  BIC:               </th> <td>1.978e+05</td>\n",
       "</tr>\n",
       "<tr>\n",
       "  <th>Df Model:</th>              <td>     4</td>      <th>                     </th>     <td> </td>    \n",
       "</tr>\n",
       "<tr>\n",
       "  <th>Covariance Type:</th>      <td>nonrobust</td>    <th>                     </th>     <td> </td>    \n",
       "</tr>\n",
       "</table>\n",
       "<table class=\"simpletable\">\n",
       "<tr>\n",
       "        <td></td>           <th>coef</th>     <th>std err</th>      <th>t</th>      <th>P>|t|</th>  <th>[0.025</th>    <th>0.975]</th>  \n",
       "</tr>\n",
       "<tr>\n",
       "  <th>const</th>         <td> -7.54e+04</td> <td> 1.05e+04</td> <td>   -7.186</td> <td> 0.000</td> <td> -9.6e+04</td> <td>-5.48e+04</td>\n",
       "</tr>\n",
       "<tr>\n",
       "  <th>sqft_living</th>   <td>  272.0934</td> <td>    8.100</td> <td>   33.591</td> <td> 0.000</td> <td>  256.215</td> <td>  287.972</td>\n",
       "</tr>\n",
       "<tr>\n",
       "  <th>sqft_above</th>    <td>  -14.9743</td> <td>    7.856</td> <td>   -1.906</td> <td> 0.057</td> <td>  -30.373</td> <td>    0.425</td>\n",
       "</tr>\n",
       "<tr>\n",
       "  <th>sqft_living15</th> <td>   57.7578</td> <td>    6.884</td> <td>    8.390</td> <td> 0.000</td> <td>   44.263</td> <td>   71.253</td>\n",
       "</tr>\n",
       "<tr>\n",
       "  <th>bathrooms</th>     <td>-1.776e+04</td> <td> 5963.082</td> <td>   -2.979</td> <td> 0.003</td> <td>-2.95e+04</td> <td>-6072.399</td>\n",
       "</tr>\n",
       "</table>\n",
       "<table class=\"simpletable\">\n",
       "<tr>\n",
       "  <th>Omnibus:</th>       <td>5637.546</td> <th>  Durbin-Watson:     </th>  <td>   2.023</td> \n",
       "</tr>\n",
       "<tr>\n",
       "  <th>Prob(Omnibus):</th>  <td> 0.000</td>  <th>  Jarque-Bera (JB):  </th> <td>382939.147</td>\n",
       "</tr>\n",
       "<tr>\n",
       "  <th>Skew:</th>           <td> 3.268</td>  <th>  Prob(JB):          </th>  <td>    0.00</td> \n",
       "</tr>\n",
       "<tr>\n",
       "  <th>Kurtosis:</th>       <td>38.308</td>  <th>  Cond. No.          </th>  <td>1.30e+04</td> \n",
       "</tr>\n",
       "</table><br/><br/>Notes:<br/>[1] Standard Errors assume that the covariance matrix of the errors is correctly specified.<br/>[2] The condition number is large, 1.3e+04. This might indicate that there are<br/>strong multicollinearity or other numerical problems."
      ],
      "text/plain": [
       "<class 'statsmodels.iolib.summary.Summary'>\n",
       "\"\"\"\n",
       "                            OLS Regression Results                            \n",
       "==============================================================================\n",
       "Dep. Variable:                  price   R-squared:                       0.500\n",
       "Model:                            OLS   Adj. R-squared:                  0.499\n",
       "Method:                 Least Squares   F-statistic:                     1778.\n",
       "Date:                Tue, 29 Mar 2022   Prob (F-statistic):               0.00\n",
       "Time:                        20:13:15   Log-Likelihood:                -98873.\n",
       "No. Observations:                7128   AIC:                         1.978e+05\n",
       "Df Residuals:                    7123   BIC:                         1.978e+05\n",
       "Df Model:                           4                                         \n",
       "Covariance Type:            nonrobust                                         \n",
       "=================================================================================\n",
       "                    coef    std err          t      P>|t|      [0.025      0.975]\n",
       "---------------------------------------------------------------------------------\n",
       "const          -7.54e+04   1.05e+04     -7.186      0.000    -9.6e+04   -5.48e+04\n",
       "sqft_living     272.0934      8.100     33.591      0.000     256.215     287.972\n",
       "sqft_above      -14.9743      7.856     -1.906      0.057     -30.373       0.425\n",
       "sqft_living15    57.7578      6.884      8.390      0.000      44.263      71.253\n",
       "bathrooms     -1.776e+04   5963.082     -2.979      0.003   -2.95e+04   -6072.399\n",
       "==============================================================================\n",
       "Omnibus:                     5637.546   Durbin-Watson:                   2.023\n",
       "Prob(Omnibus):                  0.000   Jarque-Bera (JB):           382939.147\n",
       "Skew:                           3.268   Prob(JB):                         0.00\n",
       "Kurtosis:                      38.308   Cond. No.                     1.30e+04\n",
       "==============================================================================\n",
       "\n",
       "Notes:\n",
       "[1] Standard Errors assume that the covariance matrix of the errors is correctly specified.\n",
       "[2] The condition number is large, 1.3e+04. This might indicate that there are\n",
       "strong multicollinearity or other numerical problems.\n",
       "\"\"\""
      ]
     },
     "execution_count": 25,
     "metadata": {},
     "output_type": "execute_result"
    }
   ],
   "source": [
    "y = y_test\n",
    "x = X_test.filter(['sqft_living', 'sqft_above', 'sqft_living15', 'bathrooms'], axis=1)\n",
    "x = sm.add_constant(x)\n",
    "model = sm.OLS(y, x.astype(float)).fit()\n",
    "model.summary()"
   ]
  },
  {
   "cell_type": "markdown",
   "metadata": {},
   "source": [
    "#### Model 2"
   ]
  },
  {
   "cell_type": "markdown",
   "metadata": {},
   "source": [
    "Using our top 4 correlated columns including sqft_living, bedrooms, sqft_living15, and the columns created from encoding 'grade' minus '10 Very Good'."
   ]
  },
  {
   "cell_type": "code",
   "execution_count": 26,
   "metadata": {
    "ExecuteTime": {
     "end_time": "2022-03-30T01:13:15.668639Z",
     "start_time": "2022-03-30T01:13:15.648633Z"
    }
   },
   "outputs": [
    {
     "data": {
      "text/html": [
       "<table class=\"simpletable\">\n",
       "<caption>OLS Regression Results</caption>\n",
       "<tr>\n",
       "  <th>Dep. Variable:</th>          <td>price</td>      <th>  R-squared:         </th>  <td>   0.513</td>  \n",
       "</tr>\n",
       "<tr>\n",
       "  <th>Model:</th>                   <td>OLS</td>       <th>  Adj. R-squared:    </th>  <td>   0.512</td>  \n",
       "</tr>\n",
       "<tr>\n",
       "  <th>Method:</th>             <td>Least Squares</td>  <th>  F-statistic:       </th>  <td>   5069.</td>  \n",
       "</tr>\n",
       "<tr>\n",
       "  <th>Date:</th>             <td>Tue, 29 Mar 2022</td> <th>  Prob (F-statistic):</th>   <td>  0.00</td>   \n",
       "</tr>\n",
       "<tr>\n",
       "  <th>Time:</th>                 <td>20:13:15</td>     <th>  Log-Likelihood:    </th> <td>-2.0085e+05</td>\n",
       "</tr>\n",
       "<tr>\n",
       "  <th>No. Observations:</th>      <td> 14469</td>      <th>  AIC:               </th>  <td>4.017e+05</td> \n",
       "</tr>\n",
       "<tr>\n",
       "  <th>Df Residuals:</th>          <td> 14465</td>      <th>  BIC:               </th>  <td>4.017e+05</td> \n",
       "</tr>\n",
       "<tr>\n",
       "  <th>Df Model:</th>              <td>     3</td>      <th>                     </th>      <td> </td>     \n",
       "</tr>\n",
       "<tr>\n",
       "  <th>Covariance Type:</th>      <td>nonrobust</td>    <th>                     </th>      <td> </td>     \n",
       "</tr>\n",
       "</table>\n",
       "<table class=\"simpletable\">\n",
       "<tr>\n",
       "        <td></td>           <th>coef</th>     <th>std err</th>      <th>t</th>      <th>P>|t|</th>  <th>[0.025</th>    <th>0.975]</th>  \n",
       "</tr>\n",
       "<tr>\n",
       "  <th>const</th>         <td> 2.373e+04</td> <td> 9384.073</td> <td>    2.529</td> <td> 0.011</td> <td> 5340.983</td> <td> 4.21e+04</td>\n",
       "</tr>\n",
       "<tr>\n",
       "  <th>sqft_living</th>   <td>  275.7522</td> <td>    4.076</td> <td>   67.655</td> <td> 0.000</td> <td>  267.763</td> <td>  283.741</td>\n",
       "</tr>\n",
       "<tr>\n",
       "  <th>bedrooms</th>      <td> -5.63e+04</td> <td> 2944.723</td> <td>  -19.120</td> <td> 0.000</td> <td>-6.21e+04</td> <td>-5.05e+04</td>\n",
       "</tr>\n",
       "<tr>\n",
       "  <th>sqft_living15</th> <td>   66.7019</td> <td>    4.824</td> <td>   13.828</td> <td> 0.000</td> <td>   57.247</td> <td>   76.157</td>\n",
       "</tr>\n",
       "</table>\n",
       "<table class=\"simpletable\">\n",
       "<tr>\n",
       "  <th>Omnibus:</th>       <td>9574.704</td> <th>  Durbin-Watson:     </th>  <td>   1.988</td> \n",
       "</tr>\n",
       "<tr>\n",
       "  <th>Prob(Omnibus):</th>  <td> 0.000</td>  <th>  Jarque-Bera (JB):  </th> <td>294439.324</td>\n",
       "</tr>\n",
       "<tr>\n",
       "  <th>Skew:</th>           <td> 2.730</td>  <th>  Prob(JB):          </th>  <td>    0.00</td> \n",
       "</tr>\n",
       "<tr>\n",
       "  <th>Kurtosis:</th>       <td>24.415</td>  <th>  Cond. No.          </th>  <td>1.38e+04</td> \n",
       "</tr>\n",
       "</table><br/><br/>Notes:<br/>[1] Standard Errors assume that the covariance matrix of the errors is correctly specified.<br/>[2] The condition number is large, 1.38e+04. This might indicate that there are<br/>strong multicollinearity or other numerical problems."
      ],
      "text/plain": [
       "<class 'statsmodels.iolib.summary.Summary'>\n",
       "\"\"\"\n",
       "                            OLS Regression Results                            \n",
       "==============================================================================\n",
       "Dep. Variable:                  price   R-squared:                       0.513\n",
       "Model:                            OLS   Adj. R-squared:                  0.512\n",
       "Method:                 Least Squares   F-statistic:                     5069.\n",
       "Date:                Tue, 29 Mar 2022   Prob (F-statistic):               0.00\n",
       "Time:                        20:13:15   Log-Likelihood:            -2.0085e+05\n",
       "No. Observations:               14469   AIC:                         4.017e+05\n",
       "Df Residuals:                   14465   BIC:                         4.017e+05\n",
       "Df Model:                           3                                         \n",
       "Covariance Type:            nonrobust                                         \n",
       "=================================================================================\n",
       "                    coef    std err          t      P>|t|      [0.025      0.975]\n",
       "---------------------------------------------------------------------------------\n",
       "const          2.373e+04   9384.073      2.529      0.011    5340.983    4.21e+04\n",
       "sqft_living     275.7522      4.076     67.655      0.000     267.763     283.741\n",
       "bedrooms       -5.63e+04   2944.723    -19.120      0.000   -6.21e+04   -5.05e+04\n",
       "sqft_living15    66.7019      4.824     13.828      0.000      57.247      76.157\n",
       "==============================================================================\n",
       "Omnibus:                     9574.704   Durbin-Watson:                   1.988\n",
       "Prob(Omnibus):                  0.000   Jarque-Bera (JB):           294439.324\n",
       "Skew:                           2.730   Prob(JB):                         0.00\n",
       "Kurtosis:                      24.415   Cond. No.                     1.38e+04\n",
       "==============================================================================\n",
       "\n",
       "Notes:\n",
       "[1] Standard Errors assume that the covariance matrix of the errors is correctly specified.\n",
       "[2] The condition number is large, 1.38e+04. This might indicate that there are\n",
       "strong multicollinearity or other numerical problems.\n",
       "\"\"\""
      ]
     },
     "execution_count": 26,
     "metadata": {},
     "output_type": "execute_result"
    }
   ],
   "source": [
    "y = y_train\n",
    "x = X_train.filter(['sqft_living', 'bedrooms', 'sqft_living15', '11 Excellent', '12 Luxury', '13 Mansion', '3 Poor',\n",
    "       '4 Low', '5 Fair', '6 Low Average', '7 Average', '8 Good', '9 Better'], axis=1)\n",
    "x = sm.add_constant(x)\n",
    "model = sm.OLS(y, x.astype(float)).fit()\n",
    "model.summary()"
   ]
  },
  {
   "cell_type": "code",
   "execution_count": 27,
   "metadata": {
    "ExecuteTime": {
     "end_time": "2022-03-30T01:13:15.686421Z",
     "start_time": "2022-03-30T01:13:15.669674Z"
    }
   },
   "outputs": [
    {
     "data": {
      "text/html": [
       "<table class=\"simpletable\">\n",
       "<caption>OLS Regression Results</caption>\n",
       "<tr>\n",
       "  <th>Dep. Variable:</th>          <td>price</td>      <th>  R-squared:         </th> <td>   0.512</td> \n",
       "</tr>\n",
       "<tr>\n",
       "  <th>Model:</th>                   <td>OLS</td>       <th>  Adj. R-squared:    </th> <td>   0.512</td> \n",
       "</tr>\n",
       "<tr>\n",
       "  <th>Method:</th>             <td>Least Squares</td>  <th>  F-statistic:       </th> <td>   2492.</td> \n",
       "</tr>\n",
       "<tr>\n",
       "  <th>Date:</th>             <td>Tue, 29 Mar 2022</td> <th>  Prob (F-statistic):</th>  <td>  0.00</td>  \n",
       "</tr>\n",
       "<tr>\n",
       "  <th>Time:</th>                 <td>20:13:15</td>     <th>  Log-Likelihood:    </th> <td> -98783.</td> \n",
       "</tr>\n",
       "<tr>\n",
       "  <th>No. Observations:</th>      <td>  7128</td>      <th>  AIC:               </th> <td>1.976e+05</td>\n",
       "</tr>\n",
       "<tr>\n",
       "  <th>Df Residuals:</th>          <td>  7124</td>      <th>  BIC:               </th> <td>1.976e+05</td>\n",
       "</tr>\n",
       "<tr>\n",
       "  <th>Df Model:</th>              <td>     3</td>      <th>                     </th>     <td> </td>    \n",
       "</tr>\n",
       "<tr>\n",
       "  <th>Covariance Type:</th>      <td>nonrobust</td>    <th>                     </th>     <td> </td>    \n",
       "</tr>\n",
       "</table>\n",
       "<table class=\"simpletable\">\n",
       "<tr>\n",
       "        <td></td>           <th>coef</th>     <th>std err</th>      <th>t</th>      <th>P>|t|</th>  <th>[0.025</th>    <th>0.975]</th>  \n",
       "</tr>\n",
       "<tr>\n",
       "  <th>const</th>         <td> 2.981e+04</td> <td> 1.26e+04</td> <td>    2.373</td> <td> 0.018</td> <td> 5185.588</td> <td> 5.44e+04</td>\n",
       "</tr>\n",
       "<tr>\n",
       "  <th>sqft_living</th>   <td>  285.0738</td> <td>    5.566</td> <td>   51.218</td> <td> 0.000</td> <td>  274.163</td> <td>  295.985</td>\n",
       "</tr>\n",
       "<tr>\n",
       "  <th>bedrooms</th>      <td>-5.243e+04</td> <td> 3747.156</td> <td>  -13.993</td> <td> 0.000</td> <td>-5.98e+04</td> <td>-4.51e+04</td>\n",
       "</tr>\n",
       "<tr>\n",
       "  <th>sqft_living15</th> <td>   47.8093</td> <td>    6.664</td> <td>    7.174</td> <td> 0.000</td> <td>   34.746</td> <td>   60.873</td>\n",
       "</tr>\n",
       "</table>\n",
       "<table class=\"simpletable\">\n",
       "<tr>\n",
       "  <th>Omnibus:</th>       <td>5476.763</td> <th>  Durbin-Watson:     </th>  <td>   2.028</td> \n",
       "</tr>\n",
       "<tr>\n",
       "  <th>Prob(Omnibus):</th>  <td> 0.000</td>  <th>  Jarque-Bera (JB):  </th> <td>336800.310</td>\n",
       "</tr>\n",
       "<tr>\n",
       "  <th>Skew:</th>           <td> 3.152</td>  <th>  Prob(JB):          </th>  <td>    0.00</td> \n",
       "</tr>\n",
       "<tr>\n",
       "  <th>Kurtosis:</th>       <td>36.080</td>  <th>  Cond. No.          </th>  <td>1.31e+04</td> \n",
       "</tr>\n",
       "</table><br/><br/>Notes:<br/>[1] Standard Errors assume that the covariance matrix of the errors is correctly specified.<br/>[2] The condition number is large, 1.31e+04. This might indicate that there are<br/>strong multicollinearity or other numerical problems."
      ],
      "text/plain": [
       "<class 'statsmodels.iolib.summary.Summary'>\n",
       "\"\"\"\n",
       "                            OLS Regression Results                            \n",
       "==============================================================================\n",
       "Dep. Variable:                  price   R-squared:                       0.512\n",
       "Model:                            OLS   Adj. R-squared:                  0.512\n",
       "Method:                 Least Squares   F-statistic:                     2492.\n",
       "Date:                Tue, 29 Mar 2022   Prob (F-statistic):               0.00\n",
       "Time:                        20:13:15   Log-Likelihood:                -98783.\n",
       "No. Observations:                7128   AIC:                         1.976e+05\n",
       "Df Residuals:                    7124   BIC:                         1.976e+05\n",
       "Df Model:                           3                                         \n",
       "Covariance Type:            nonrobust                                         \n",
       "=================================================================================\n",
       "                    coef    std err          t      P>|t|      [0.025      0.975]\n",
       "---------------------------------------------------------------------------------\n",
       "const          2.981e+04   1.26e+04      2.373      0.018    5185.588    5.44e+04\n",
       "sqft_living     285.0738      5.566     51.218      0.000     274.163     295.985\n",
       "bedrooms      -5.243e+04   3747.156    -13.993      0.000   -5.98e+04   -4.51e+04\n",
       "sqft_living15    47.8093      6.664      7.174      0.000      34.746      60.873\n",
       "==============================================================================\n",
       "Omnibus:                     5476.763   Durbin-Watson:                   2.028\n",
       "Prob(Omnibus):                  0.000   Jarque-Bera (JB):           336800.310\n",
       "Skew:                           3.152   Prob(JB):                         0.00\n",
       "Kurtosis:                      36.080   Cond. No.                     1.31e+04\n",
       "==============================================================================\n",
       "\n",
       "Notes:\n",
       "[1] Standard Errors assume that the covariance matrix of the errors is correctly specified.\n",
       "[2] The condition number is large, 1.31e+04. This might indicate that there are\n",
       "strong multicollinearity or other numerical problems.\n",
       "\"\"\""
      ]
     },
     "execution_count": 27,
     "metadata": {},
     "output_type": "execute_result"
    }
   ],
   "source": [
    "y = y_test\n",
    "x = X_test.filter(['sqft_living', 'bedrooms', 'sqft_living15', '11 Excellent', '12 Luxury', '13 Mansion', '3 Poor',\n",
    "       '4 Low', '5 Fair', '6 Low Average', '7 Average', '8 Good', '9 Better'], axis=1)\n",
    "x = sm.add_constant(x)\n",
    "model = sm.OLS(y, x.astype(float)).fit()\n",
    "model.summary()"
   ]
  },
  {
   "cell_type": "code",
   "execution_count": 28,
   "metadata": {
    "ExecuteTime": {
     "end_time": "2022-03-30T01:13:15.696741Z",
     "start_time": "2022-03-30T01:13:15.687604Z"
    }
   },
   "outputs": [
    {
     "name": "stdout",
     "output_type": "stream",
     "text": [
      "<class 'pandas.core.frame.DataFrame'>\n",
      "RangeIndex: 21597 entries, 0 to 21596\n",
      "Data columns (total 18 columns):\n",
      " #   Column         Non-Null Count  Dtype  \n",
      "---  ------         --------------  -----  \n",
      " 0   price          21597 non-null  float64\n",
      " 1   bedrooms       21597 non-null  int64  \n",
      " 2   bathrooms      21597 non-null  float64\n",
      " 3   sqft_living    21597 non-null  int64  \n",
      " 4   sqft_lot       21597 non-null  int64  \n",
      " 5   floors         21597 non-null  float64\n",
      " 6   waterfront     19221 non-null  object \n",
      " 7   view           21534 non-null  object \n",
      " 8   condition      21597 non-null  object \n",
      " 9   grade          21597 non-null  object \n",
      " 10  sqft_above     21597 non-null  int64  \n",
      " 11  sqft_basement  21597 non-null  int64  \n",
      " 12  yr_built       21597 non-null  int64  \n",
      " 13  zipcode        21597 non-null  int64  \n",
      " 14  lat            21597 non-null  float64\n",
      " 15  long           21597 non-null  float64\n",
      " 16  sqft_living15  21597 non-null  int64  \n",
      " 17  sqft_lot15     21597 non-null  int64  \n",
      "dtypes: float64(5), int64(9), object(4)\n",
      "memory usage: 3.0+ MB\n"
     ]
    }
   ],
   "source": [
    "df.info()"
   ]
  },
  {
   "cell_type": "markdown",
   "metadata": {},
   "source": [
    "#### Model 3"
   ]
  },
  {
   "cell_type": "markdown",
   "metadata": {},
   "source": [
    "Using our top 4 correlated columns including sqft_living, bedrooms, 'bathrooms', and the columns created from encoding 'zipcode'.\n",
    "\n",
    "Note the difference between entering the encoding for 'zipcode' and actually entering 'zipcode'. The encoding gives us a higher R2 value, however, it also gives you a much larger RSME Error."
   ]
  },
  {
   "cell_type": "code",
   "execution_count": 29,
   "metadata": {
    "ExecuteTime": {
     "end_time": "2022-03-30T01:13:15.718822Z",
     "start_time": "2022-03-30T01:13:15.697745Z"
    },
    "scrolled": true
   },
   "outputs": [
    {
     "data": {
      "text/html": [
       "<table class=\"simpletable\">\n",
       "<caption>OLS Regression Results</caption>\n",
       "<tr>\n",
       "  <th>Dep. Variable:</th>          <td>price</td>      <th>  R-squared:         </th>  <td>   0.500</td>  \n",
       "</tr>\n",
       "<tr>\n",
       "  <th>Model:</th>                   <td>OLS</td>       <th>  Adj. R-squared:    </th>  <td>   0.500</td>  \n",
       "</tr>\n",
       "<tr>\n",
       "  <th>Method:</th>             <td>Least Squares</td>  <th>  F-statistic:       </th>  <td>   4826.</td>  \n",
       "</tr>\n",
       "<tr>\n",
       "  <th>Date:</th>             <td>Tue, 29 Mar 2022</td> <th>  Prob (F-statistic):</th>   <td>  0.00</td>   \n",
       "</tr>\n",
       "<tr>\n",
       "  <th>Time:</th>                 <td>20:13:15</td>     <th>  Log-Likelihood:    </th> <td>-2.0103e+05</td>\n",
       "</tr>\n",
       "<tr>\n",
       "  <th>No. Observations:</th>      <td> 14469</td>      <th>  AIC:               </th>  <td>4.021e+05</td> \n",
       "</tr>\n",
       "<tr>\n",
       "  <th>Df Residuals:</th>          <td> 14465</td>      <th>  BIC:               </th>  <td>4.021e+05</td> \n",
       "</tr>\n",
       "<tr>\n",
       "  <th>Df Model:</th>              <td>     3</td>      <th>                     </th>      <td> </td>     \n",
       "</tr>\n",
       "<tr>\n",
       "  <th>Covariance Type:</th>      <td>nonrobust</td>    <th>                     </th>      <td> </td>     \n",
       "</tr>\n",
       "</table>\n",
       "<table class=\"simpletable\">\n",
       "<tr>\n",
       "        <td></td>           <th>coef</th>     <th>std err</th>      <th>t</th>      <th>P>|t|</th>  <th>[0.025</th>    <th>0.975]</th>  \n",
       "</tr>\n",
       "<tr>\n",
       "  <th>const</th>         <td>-1.062e+05</td> <td> 7527.260</td> <td>  -14.104</td> <td> 0.000</td> <td>-1.21e+05</td> <td>-9.14e+04</td>\n",
       "</tr>\n",
       "<tr>\n",
       "  <th>sqft_living</th>   <td>  236.8298</td> <td>    4.570</td> <td>   51.827</td> <td> 0.000</td> <td>  227.873</td> <td>  245.787</td>\n",
       "</tr>\n",
       "<tr>\n",
       "  <th>bathrooms</th>     <td> 2372.5129</td> <td> 4348.867</td> <td>    0.546</td> <td> 0.585</td> <td>-6151.823</td> <td> 1.09e+04</td>\n",
       "</tr>\n",
       "<tr>\n",
       "  <th>sqft_living15</th> <td>   74.7164</td> <td>    4.866</td> <td>   15.354</td> <td> 0.000</td> <td>   65.178</td> <td>   84.255</td>\n",
       "</tr>\n",
       "</table>\n",
       "<table class=\"simpletable\">\n",
       "<tr>\n",
       "  <th>Omnibus:</th>       <td>9904.852</td> <th>  Durbin-Watson:     </th>  <td>   1.985</td> \n",
       "</tr>\n",
       "<tr>\n",
       "  <th>Prob(Omnibus):</th>  <td> 0.000</td>  <th>  Jarque-Bera (JB):  </th> <td>334694.281</td>\n",
       "</tr>\n",
       "<tr>\n",
       "  <th>Skew:</th>           <td> 2.839</td>  <th>  Prob(JB):          </th>  <td>    0.00</td> \n",
       "</tr>\n",
       "<tr>\n",
       "  <th>Kurtosis:</th>       <td>25.867</td>  <th>  Cond. No.          </th>  <td>1.11e+04</td> \n",
       "</tr>\n",
       "</table><br/><br/>Notes:<br/>[1] Standard Errors assume that the covariance matrix of the errors is correctly specified.<br/>[2] The condition number is large, 1.11e+04. This might indicate that there are<br/>strong multicollinearity or other numerical problems."
      ],
      "text/plain": [
       "<class 'statsmodels.iolib.summary.Summary'>\n",
       "\"\"\"\n",
       "                            OLS Regression Results                            \n",
       "==============================================================================\n",
       "Dep. Variable:                  price   R-squared:                       0.500\n",
       "Model:                            OLS   Adj. R-squared:                  0.500\n",
       "Method:                 Least Squares   F-statistic:                     4826.\n",
       "Date:                Tue, 29 Mar 2022   Prob (F-statistic):               0.00\n",
       "Time:                        20:13:15   Log-Likelihood:            -2.0103e+05\n",
       "No. Observations:               14469   AIC:                         4.021e+05\n",
       "Df Residuals:                   14465   BIC:                         4.021e+05\n",
       "Df Model:                           3                                         \n",
       "Covariance Type:            nonrobust                                         \n",
       "=================================================================================\n",
       "                    coef    std err          t      P>|t|      [0.025      0.975]\n",
       "---------------------------------------------------------------------------------\n",
       "const         -1.062e+05   7527.260    -14.104      0.000   -1.21e+05   -9.14e+04\n",
       "sqft_living     236.8298      4.570     51.827      0.000     227.873     245.787\n",
       "bathrooms      2372.5129   4348.867      0.546      0.585   -6151.823    1.09e+04\n",
       "sqft_living15    74.7164      4.866     15.354      0.000      65.178      84.255\n",
       "==============================================================================\n",
       "Omnibus:                     9904.852   Durbin-Watson:                   1.985\n",
       "Prob(Omnibus):                  0.000   Jarque-Bera (JB):           334694.281\n",
       "Skew:                           2.839   Prob(JB):                         0.00\n",
       "Kurtosis:                      25.867   Cond. No.                     1.11e+04\n",
       "==============================================================================\n",
       "\n",
       "Notes:\n",
       "[1] Standard Errors assume that the covariance matrix of the errors is correctly specified.\n",
       "[2] The condition number is large, 1.11e+04. This might indicate that there are\n",
       "strong multicollinearity or other numerical problems.\n",
       "\"\"\""
      ]
     },
     "execution_count": 29,
     "metadata": {},
     "output_type": "execute_result"
    }
   ],
   "source": [
    "y = y_train\n",
    "x = X_train.filter(['sqft_living', 'bathrooms', 'sqft_living15', '98001', '98002',\n",
    "        '98003', '98004', '98005', '98006', '98007', '98008',\n",
    "       '98010', '98011', '98014', '98019', '98022', '98023', '98024', '98027',\n",
    "       '98028', '98029', '98030', '98031', '98032', '98033', '98034', '98038',\n",
    "       '98039', '98040', '98042', '98045', '98052', '98053', '98055', '98056',\n",
    "       '98058', '98059', '98065', '98070', '98072', '98074', '98075', '98077',\n",
    "       '98092', '98102', '98103', '98105', '98106', '98107', '98108', '98109',\n",
    "       '98112', '98115', '98116', '98117', '98118', '98119', '98122', '98125',\n",
    "       '98126', '98133', '98136', '98144', '98146', '98148', '98155', '98166',\n",
    "       '98168', '98177', '98178', '98188', '98198', '98199'], axis=1)\n",
    "x = sm.add_constant(x)\n",
    "model = sm.OLS(y, x.astype(float)).fit()\n",
    "model.summary()"
   ]
  },
  {
   "cell_type": "code",
   "execution_count": 30,
   "metadata": {
    "ExecuteTime": {
     "end_time": "2022-03-30T01:13:15.737830Z",
     "start_time": "2022-03-30T01:13:15.719824Z"
    }
   },
   "outputs": [
    {
     "data": {
      "text/html": [
       "<table class=\"simpletable\">\n",
       "<caption>OLS Regression Results</caption>\n",
       "<tr>\n",
       "  <th>Dep. Variable:</th>          <td>price</td>      <th>  R-squared:         </th> <td>   0.499</td> \n",
       "</tr>\n",
       "<tr>\n",
       "  <th>Model:</th>                   <td>OLS</td>       <th>  Adj. R-squared:    </th> <td>   0.499</td> \n",
       "</tr>\n",
       "<tr>\n",
       "  <th>Method:</th>             <td>Least Squares</td>  <th>  F-statistic:       </th> <td>   2368.</td> \n",
       "</tr>\n",
       "<tr>\n",
       "  <th>Date:</th>             <td>Tue, 29 Mar 2022</td> <th>  Prob (F-statistic):</th>  <td>  0.00</td>  \n",
       "</tr>\n",
       "<tr>\n",
       "  <th>Time:</th>                 <td>20:13:15</td>     <th>  Log-Likelihood:    </th> <td> -98874.</td> \n",
       "</tr>\n",
       "<tr>\n",
       "  <th>No. Observations:</th>      <td>  7128</td>      <th>  AIC:               </th> <td>1.978e+05</td>\n",
       "</tr>\n",
       "<tr>\n",
       "  <th>Df Residuals:</th>          <td>  7124</td>      <th>  BIC:               </th> <td>1.978e+05</td>\n",
       "</tr>\n",
       "<tr>\n",
       "  <th>Df Model:</th>              <td>     3</td>      <th>                     </th>     <td> </td>    \n",
       "</tr>\n",
       "<tr>\n",
       "  <th>Covariance Type:</th>      <td>nonrobust</td>    <th>                     </th>     <td> </td>    \n",
       "</tr>\n",
       "</table>\n",
       "<table class=\"simpletable\">\n",
       "<tr>\n",
       "        <td></td>           <th>coef</th>     <th>std err</th>      <th>t</th>      <th>P>|t|</th>  <th>[0.025</th>    <th>0.975]</th>  \n",
       "</tr>\n",
       "<tr>\n",
       "  <th>const</th>         <td>-7.442e+04</td> <td> 1.05e+04</td> <td>   -7.100</td> <td> 0.000</td> <td> -9.5e+04</td> <td>-5.39e+04</td>\n",
       "</tr>\n",
       "<tr>\n",
       "  <th>sqft_living</th>   <td>  262.3246</td> <td>    6.274</td> <td>   41.810</td> <td> 0.000</td> <td>  250.025</td> <td>  274.624</td>\n",
       "</tr>\n",
       "<tr>\n",
       "  <th>bathrooms</th>     <td>-1.869e+04</td> <td> 5944.056</td> <td>   -3.145</td> <td> 0.002</td> <td>-3.03e+04</td> <td>-7042.789</td>\n",
       "</tr>\n",
       "<tr>\n",
       "  <th>sqft_living15</th> <td>   55.0007</td> <td>    6.732</td> <td>    8.170</td> <td> 0.000</td> <td>   41.804</td> <td>   68.197</td>\n",
       "</tr>\n",
       "</table>\n",
       "<table class=\"simpletable\">\n",
       "<tr>\n",
       "  <th>Omnibus:</th>       <td>5614.850</td> <th>  Durbin-Watson:     </th>  <td>   2.024</td> \n",
       "</tr>\n",
       "<tr>\n",
       "  <th>Prob(Omnibus):</th>  <td> 0.000</td>  <th>  Jarque-Bera (JB):  </th> <td>375575.183</td>\n",
       "</tr>\n",
       "<tr>\n",
       "  <th>Skew:</th>           <td> 3.252</td>  <th>  Prob(JB):          </th>  <td>    0.00</td> \n",
       "</tr>\n",
       "<tr>\n",
       "  <th>Kurtosis:</th>       <td>37.961</td>  <th>  Cond. No.          </th>  <td>1.10e+04</td> \n",
       "</tr>\n",
       "</table><br/><br/>Notes:<br/>[1] Standard Errors assume that the covariance matrix of the errors is correctly specified.<br/>[2] The condition number is large, 1.1e+04. This might indicate that there are<br/>strong multicollinearity or other numerical problems."
      ],
      "text/plain": [
       "<class 'statsmodels.iolib.summary.Summary'>\n",
       "\"\"\"\n",
       "                            OLS Regression Results                            \n",
       "==============================================================================\n",
       "Dep. Variable:                  price   R-squared:                       0.499\n",
       "Model:                            OLS   Adj. R-squared:                  0.499\n",
       "Method:                 Least Squares   F-statistic:                     2368.\n",
       "Date:                Tue, 29 Mar 2022   Prob (F-statistic):               0.00\n",
       "Time:                        20:13:15   Log-Likelihood:                -98874.\n",
       "No. Observations:                7128   AIC:                         1.978e+05\n",
       "Df Residuals:                    7124   BIC:                         1.978e+05\n",
       "Df Model:                           3                                         \n",
       "Covariance Type:            nonrobust                                         \n",
       "=================================================================================\n",
       "                    coef    std err          t      P>|t|      [0.025      0.975]\n",
       "---------------------------------------------------------------------------------\n",
       "const         -7.442e+04   1.05e+04     -7.100      0.000    -9.5e+04   -5.39e+04\n",
       "sqft_living     262.3246      6.274     41.810      0.000     250.025     274.624\n",
       "bathrooms     -1.869e+04   5944.056     -3.145      0.002   -3.03e+04   -7042.789\n",
       "sqft_living15    55.0007      6.732      8.170      0.000      41.804      68.197\n",
       "==============================================================================\n",
       "Omnibus:                     5614.850   Durbin-Watson:                   2.024\n",
       "Prob(Omnibus):                  0.000   Jarque-Bera (JB):           375575.183\n",
       "Skew:                           3.252   Prob(JB):                         0.00\n",
       "Kurtosis:                      37.961   Cond. No.                     1.10e+04\n",
       "==============================================================================\n",
       "\n",
       "Notes:\n",
       "[1] Standard Errors assume that the covariance matrix of the errors is correctly specified.\n",
       "[2] The condition number is large, 1.1e+04. This might indicate that there are\n",
       "strong multicollinearity or other numerical problems.\n",
       "\"\"\""
      ]
     },
     "execution_count": 30,
     "metadata": {},
     "output_type": "execute_result"
    }
   ],
   "source": [
    "y = y_test\n",
    "x2 = X_test.filter(['sqft_living', 'bathrooms', 'sqft_living15', '98001', '98002',\n",
    "        '98003', '98004', '98005', '98006', '98007', '98008',\n",
    "       '98010', '98011', '98014', '98019', '98022', '98023', '98024', '98027',\n",
    "       '98028', '98029', '98030', '98031', '98032', '98033', '98034', '98038',\n",
    "       '98039', '98040', '98042', '98045', '98052', '98053', '98055', '98056',\n",
    "       '98058', '98059', '98065', '98070', '98072', '98074', '98075', '98077',\n",
    "       '98092', '98102', '98103', '98105', '98106', '98107', '98108', '98109',\n",
    "       '98112', '98115', '98116', '98117', '98118', '98119', '98122', '98125',\n",
    "       '98126', '98133', '98136', '98144', '98146', '98148', '98155', '98166',\n",
    "       '98168', '98177', '98178', '98188', '98198', '98199'], axis=1)\n",
    "x2 = sm.add_constant(x2)\n",
    "model = sm.OLS(y, x2.astype(float)).fit()\n",
    "model.summary()"
   ]
  },
  {
   "cell_type": "code",
   "execution_count": 31,
   "metadata": {
    "ExecuteTime": {
     "end_time": "2022-03-30T01:13:15.745623Z",
     "start_time": "2022-03-30T01:13:15.738829Z"
    }
   },
   "outputs": [],
   "source": [
    "scaler = StandardScaler()\n",
    "scaler.fit(x)\n",
    "X_train_scaled = scaler.transform(x)\n",
    "X_test_scaled = scaler.transform(x2)\n",
    "\n",
    "train_preds = model.predict(X_train_scaled)\n",
    "\n",
    "test_preds = model.predict(X_test_scaled)"
   ]
  },
  {
   "cell_type": "code",
   "execution_count": 32,
   "metadata": {
    "ExecuteTime": {
     "end_time": "2022-03-30T01:13:15.752597Z",
     "start_time": "2022-03-30T01:13:15.746541Z"
    }
   },
   "outputs": [
    {
     "name": "stdout",
     "output_type": "stream",
     "text": [
      "Training Metrics:\n",
      "R2: -2.200\n",
      "Mean Absolute Error: 542085.833\n",
      "Mean Squared Error: 438463506717.955\n",
      "Root Mean Squared Error: 662165.770\n"
     ]
    }
   ],
   "source": [
    "print(\"Training Metrics:\")\n",
    "# R2\n",
    "print(f\"R2: {r2_score(y_train, train_preds):.3f}\")\n",
    "# MAE\n",
    "print(f\"Mean Absolute Error: {mean_absolute_error(y_train, train_preds):.3f}\")\n",
    "# MSE\n",
    "print(f\"Mean Squared Error: {mean_squared_error(y_train, train_preds):.3f}\")\n",
    "# RMSE - just MSE but set squared=False\n",
    "print(f\"Root Mean Squared Error: {mean_squared_error(y_train, train_preds, squared=False):.3f}\")"
   ]
  },
  {
   "cell_type": "code",
   "execution_count": 33,
   "metadata": {
    "ExecuteTime": {
     "end_time": "2022-03-30T01:13:15.757358Z",
     "start_time": "2022-03-30T01:13:15.753808Z"
    }
   },
   "outputs": [
    {
     "name": "stdout",
     "output_type": "stream",
     "text": [
      "Testing Metrics:\n",
      "R2: -2.254\n",
      "Mean Absolute Error: 536365.600\n",
      "Mean Squared Error: 425404572975.441\n",
      "Root Mean Squared Error: 652230.460\n"
     ]
    }
   ],
   "source": [
    "print(\"Testing Metrics:\")\n",
    "# R2\n",
    "print(f\"R2: {r2_score(y_test, test_preds):.3f}\")\n",
    "# MAE\n",
    "print(f\"Mean Absolute Error: {mean_absolute_error(y_test, test_preds):.3f}\")\n",
    "# MSE\n",
    "print(f\"Mean Squared Error: {mean_squared_error(y_test, test_preds):.3f}\")\n",
    "# RMSE - just MSE but set squared=False\n",
    "print(f\"Root Mean Squared Error: {mean_squared_error(y_test, test_preds, squared=False):.3f}\")"
   ]
  },
  {
   "cell_type": "code",
   "execution_count": 34,
   "metadata": {
    "ExecuteTime": {
     "end_time": "2022-03-30T01:13:15.781790Z",
     "start_time": "2022-03-30T01:13:15.758398Z"
    }
   },
   "outputs": [
    {
     "data": {
      "text/html": [
       "<table class=\"simpletable\">\n",
       "<caption>OLS Regression Results</caption>\n",
       "<tr>\n",
       "  <th>Dep. Variable:</th>          <td>price</td>      <th>  R-squared:         </th>  <td>   0.513</td>  \n",
       "</tr>\n",
       "<tr>\n",
       "  <th>Model:</th>                   <td>OLS</td>       <th>  Adj. R-squared:    </th>  <td>   0.512</td>  \n",
       "</tr>\n",
       "<tr>\n",
       "  <th>Method:</th>             <td>Least Squares</td>  <th>  F-statistic:       </th>  <td>   3803.</td>  \n",
       "</tr>\n",
       "<tr>\n",
       "  <th>Date:</th>             <td>Tue, 29 Mar 2022</td> <th>  Prob (F-statistic):</th>   <td>  0.00</td>   \n",
       "</tr>\n",
       "<tr>\n",
       "  <th>Time:</th>                 <td>20:13:15</td>     <th>  Log-Likelihood:    </th> <td>-2.0085e+05</td>\n",
       "</tr>\n",
       "<tr>\n",
       "  <th>No. Observations:</th>      <td> 14469</td>      <th>  AIC:               </th>  <td>4.017e+05</td> \n",
       "</tr>\n",
       "<tr>\n",
       "  <th>Df Residuals:</th>          <td> 14464</td>      <th>  BIC:               </th>  <td>4.017e+05</td> \n",
       "</tr>\n",
       "<tr>\n",
       "  <th>Df Model:</th>              <td>     4</td>      <th>                     </th>      <td> </td>     \n",
       "</tr>\n",
       "<tr>\n",
       "  <th>Covariance Type:</th>      <td>nonrobust</td>    <th>                     </th>      <td> </td>     \n",
       "</tr>\n",
       "</table>\n",
       "<table class=\"simpletable\">\n",
       "<tr>\n",
       "        <td></td>           <th>coef</th>     <th>std err</th>      <th>t</th>      <th>P>|t|</th>  <th>[0.025</th>    <th>0.975]</th>  \n",
       "</tr>\n",
       "<tr>\n",
       "  <th>const</th>         <td>-7.894e+07</td> <td> 4.11e+06</td> <td>  -19.198</td> <td> 0.000</td> <td> -8.7e+07</td> <td>-7.09e+07</td>\n",
       "</tr>\n",
       "<tr>\n",
       "  <th>sqft_living</th>   <td>  231.3250</td> <td>    4.522</td> <td>   51.157</td> <td> 0.000</td> <td>  222.462</td> <td>  240.189</td>\n",
       "</tr>\n",
       "<tr>\n",
       "  <th>bathrooms</th>     <td> 8779.0750</td> <td> 4307.766</td> <td>    2.038</td> <td> 0.042</td> <td>  335.302</td> <td> 1.72e+04</td>\n",
       "</tr>\n",
       "<tr>\n",
       "  <th>sqft_living15</th> <td>   93.3866</td> <td>    4.903</td> <td>   19.045</td> <td> 0.000</td> <td>   83.775</td> <td>  102.998</td>\n",
       "</tr>\n",
       "<tr>\n",
       "  <th>zipcode</th>       <td>  803.3739</td> <td>   41.902</td> <td>   19.173</td> <td> 0.000</td> <td>  721.240</td> <td>  885.508</td>\n",
       "</tr>\n",
       "</table>\n",
       "<table class=\"simpletable\">\n",
       "<tr>\n",
       "  <th>Omnibus:</th>       <td>10045.337</td> <th>  Durbin-Watson:     </th>  <td>   1.985</td> \n",
       "</tr>\n",
       "<tr>\n",
       "  <th>Prob(Omnibus):</th>  <td> 0.000</td>   <th>  Jarque-Bera (JB):  </th> <td>358630.446</td>\n",
       "</tr>\n",
       "<tr>\n",
       "  <th>Skew:</th>           <td> 2.881</td>   <th>  Prob(JB):          </th>  <td>    0.00</td> \n",
       "</tr>\n",
       "<tr>\n",
       "  <th>Kurtosis:</th>       <td>26.700</td>   <th>  Cond. No.          </th>  <td>1.88e+08</td> \n",
       "</tr>\n",
       "</table><br/><br/>Notes:<br/>[1] Standard Errors assume that the covariance matrix of the errors is correctly specified.<br/>[2] The condition number is large, 1.88e+08. This might indicate that there are<br/>strong multicollinearity or other numerical problems."
      ],
      "text/plain": [
       "<class 'statsmodels.iolib.summary.Summary'>\n",
       "\"\"\"\n",
       "                            OLS Regression Results                            \n",
       "==============================================================================\n",
       "Dep. Variable:                  price   R-squared:                       0.513\n",
       "Model:                            OLS   Adj. R-squared:                  0.512\n",
       "Method:                 Least Squares   F-statistic:                     3803.\n",
       "Date:                Tue, 29 Mar 2022   Prob (F-statistic):               0.00\n",
       "Time:                        20:13:15   Log-Likelihood:            -2.0085e+05\n",
       "No. Observations:               14469   AIC:                         4.017e+05\n",
       "Df Residuals:                   14464   BIC:                         4.017e+05\n",
       "Df Model:                           4                                         \n",
       "Covariance Type:            nonrobust                                         \n",
       "=================================================================================\n",
       "                    coef    std err          t      P>|t|      [0.025      0.975]\n",
       "---------------------------------------------------------------------------------\n",
       "const         -7.894e+07   4.11e+06    -19.198      0.000    -8.7e+07   -7.09e+07\n",
       "sqft_living     231.3250      4.522     51.157      0.000     222.462     240.189\n",
       "bathrooms      8779.0750   4307.766      2.038      0.042     335.302    1.72e+04\n",
       "sqft_living15    93.3866      4.903     19.045      0.000      83.775     102.998\n",
       "zipcode         803.3739     41.902     19.173      0.000     721.240     885.508\n",
       "==============================================================================\n",
       "Omnibus:                    10045.337   Durbin-Watson:                   1.985\n",
       "Prob(Omnibus):                  0.000   Jarque-Bera (JB):           358630.446\n",
       "Skew:                           2.881   Prob(JB):                         0.00\n",
       "Kurtosis:                      26.700   Cond. No.                     1.88e+08\n",
       "==============================================================================\n",
       "\n",
       "Notes:\n",
       "[1] Standard Errors assume that the covariance matrix of the errors is correctly specified.\n",
       "[2] The condition number is large, 1.88e+08. This might indicate that there are\n",
       "strong multicollinearity or other numerical problems.\n",
       "\"\"\""
      ]
     },
     "execution_count": 34,
     "metadata": {},
     "output_type": "execute_result"
    }
   ],
   "source": [
    "y = y_train\n",
    "x = X_train.filter(['sqft_living', 'bathrooms', 'sqft_living15', 'zipcode'], axis=1)\n",
    "x = sm.add_constant(x)\n",
    "model = sm.OLS(y, x.astype(float)).fit()\n",
    "model.summary()"
   ]
  },
  {
   "cell_type": "code",
   "execution_count": 35,
   "metadata": {
    "ExecuteTime": {
     "end_time": "2022-03-30T01:13:15.800445Z",
     "start_time": "2022-03-30T01:13:15.782831Z"
    }
   },
   "outputs": [
    {
     "data": {
      "text/html": [
       "<table class=\"simpletable\">\n",
       "<caption>OLS Regression Results</caption>\n",
       "<tr>\n",
       "  <th>Dep. Variable:</th>          <td>price</td>      <th>  R-squared:         </th> <td>   0.509</td> \n",
       "</tr>\n",
       "<tr>\n",
       "  <th>Model:</th>                   <td>OLS</td>       <th>  Adj. R-squared:    </th> <td>   0.509</td> \n",
       "</tr>\n",
       "<tr>\n",
       "  <th>Method:</th>             <td>Least Squares</td>  <th>  F-statistic:       </th> <td>   1846.</td> \n",
       "</tr>\n",
       "<tr>\n",
       "  <th>Date:</th>             <td>Tue, 29 Mar 2022</td> <th>  Prob (F-statistic):</th>  <td>  0.00</td>  \n",
       "</tr>\n",
       "<tr>\n",
       "  <th>Time:</th>                 <td>20:13:15</td>     <th>  Log-Likelihood:    </th> <td> -98805.</td> \n",
       "</tr>\n",
       "<tr>\n",
       "  <th>No. Observations:</th>      <td>  7128</td>      <th>  AIC:               </th> <td>1.976e+05</td>\n",
       "</tr>\n",
       "<tr>\n",
       "  <th>Df Residuals:</th>          <td>  7123</td>      <th>  BIC:               </th> <td>1.977e+05</td>\n",
       "</tr>\n",
       "<tr>\n",
       "  <th>Df Model:</th>              <td>     4</td>      <th>                     </th>     <td> </td>    \n",
       "</tr>\n",
       "<tr>\n",
       "  <th>Covariance Type:</th>      <td>nonrobust</td>    <th>                     </th>     <td> </td>    \n",
       "</tr>\n",
       "</table>\n",
       "<table class=\"simpletable\">\n",
       "<tr>\n",
       "        <td></td>           <th>coef</th>     <th>std err</th>      <th>t</th>      <th>P>|t|</th>  <th>[0.025</th>    <th>0.975]</th>  \n",
       "</tr>\n",
       "<tr>\n",
       "  <th>const</th>         <td> -6.85e+07</td> <td> 5.78e+06</td> <td>  -11.850</td> <td> 0.000</td> <td>-7.98e+07</td> <td>-5.72e+07</td>\n",
       "</tr>\n",
       "<tr>\n",
       "  <th>sqft_living</th>   <td>  256.9698</td> <td>    6.230</td> <td>   41.245</td> <td> 0.000</td> <td>  244.757</td> <td>  269.183</td>\n",
       "</tr>\n",
       "<tr>\n",
       "  <th>bathrooms</th>     <td>-1.141e+04</td> <td> 5918.958</td> <td>   -1.927</td> <td> 0.054</td> <td> -2.3e+04</td> <td>  195.128</td>\n",
       "</tr>\n",
       "<tr>\n",
       "  <th>sqft_living15</th> <td>   71.5935</td> <td>    6.813</td> <td>   10.509</td> <td> 0.000</td> <td>   58.238</td> <td>   84.949</td>\n",
       "</tr>\n",
       "<tr>\n",
       "  <th>zipcode</th>       <td>  697.3309</td> <td>   58.911</td> <td>   11.837</td> <td> 0.000</td> <td>  581.847</td> <td>  812.815</td>\n",
       "</tr>\n",
       "</table>\n",
       "<table class=\"simpletable\">\n",
       "<tr>\n",
       "  <th>Omnibus:</th>       <td>5738.147</td> <th>  Durbin-Watson:     </th>  <td>   2.018</td> \n",
       "</tr>\n",
       "<tr>\n",
       "  <th>Prob(Omnibus):</th>  <td> 0.000</td>  <th>  Jarque-Bera (JB):  </th> <td>413480.481</td>\n",
       "</tr>\n",
       "<tr>\n",
       "  <th>Skew:</th>           <td> 3.343</td>  <th>  Prob(JB):          </th>  <td>    0.00</td> \n",
       "</tr>\n",
       "<tr>\n",
       "  <th>Kurtosis:</th>       <td>39.708</td>  <th>  Cond. No.          </th>  <td>1.89e+08</td> \n",
       "</tr>\n",
       "</table><br/><br/>Notes:<br/>[1] Standard Errors assume that the covariance matrix of the errors is correctly specified.<br/>[2] The condition number is large, 1.89e+08. This might indicate that there are<br/>strong multicollinearity or other numerical problems."
      ],
      "text/plain": [
       "<class 'statsmodels.iolib.summary.Summary'>\n",
       "\"\"\"\n",
       "                            OLS Regression Results                            \n",
       "==============================================================================\n",
       "Dep. Variable:                  price   R-squared:                       0.509\n",
       "Model:                            OLS   Adj. R-squared:                  0.509\n",
       "Method:                 Least Squares   F-statistic:                     1846.\n",
       "Date:                Tue, 29 Mar 2022   Prob (F-statistic):               0.00\n",
       "Time:                        20:13:15   Log-Likelihood:                -98805.\n",
       "No. Observations:                7128   AIC:                         1.976e+05\n",
       "Df Residuals:                    7123   BIC:                         1.977e+05\n",
       "Df Model:                           4                                         \n",
       "Covariance Type:            nonrobust                                         \n",
       "=================================================================================\n",
       "                    coef    std err          t      P>|t|      [0.025      0.975]\n",
       "---------------------------------------------------------------------------------\n",
       "const          -6.85e+07   5.78e+06    -11.850      0.000   -7.98e+07   -5.72e+07\n",
       "sqft_living     256.9698      6.230     41.245      0.000     244.757     269.183\n",
       "bathrooms     -1.141e+04   5918.958     -1.927      0.054    -2.3e+04     195.128\n",
       "sqft_living15    71.5935      6.813     10.509      0.000      58.238      84.949\n",
       "zipcode         697.3309     58.911     11.837      0.000     581.847     812.815\n",
       "==============================================================================\n",
       "Omnibus:                     5738.147   Durbin-Watson:                   2.018\n",
       "Prob(Omnibus):                  0.000   Jarque-Bera (JB):           413480.481\n",
       "Skew:                           3.343   Prob(JB):                         0.00\n",
       "Kurtosis:                      39.708   Cond. No.                     1.89e+08\n",
       "==============================================================================\n",
       "\n",
       "Notes:\n",
       "[1] Standard Errors assume that the covariance matrix of the errors is correctly specified.\n",
       "[2] The condition number is large, 1.89e+08. This might indicate that there are\n",
       "strong multicollinearity or other numerical problems.\n",
       "\"\"\""
      ]
     },
     "execution_count": 35,
     "metadata": {},
     "output_type": "execute_result"
    }
   ],
   "source": [
    "y = y_test\n",
    "x2 = X_test.filter(['sqft_living', 'bathrooms', 'sqft_living15', 'zipcode'], axis=1)\n",
    "x2 = sm.add_constant(x2)\n",
    "model = sm.OLS(y, x2.astype(float)).fit()\n",
    "model.summary()"
   ]
  },
  {
   "cell_type": "code",
   "execution_count": 36,
   "metadata": {
    "ExecuteTime": {
     "end_time": "2022-03-30T01:13:15.808663Z",
     "start_time": "2022-03-30T01:13:15.801606Z"
    }
   },
   "outputs": [],
   "source": [
    "scaler = StandardScaler()\n",
    "scaler.fit(x)\n",
    "X_train_scaled = scaler.transform(x)\n",
    "X_test_scaled = scaler.transform(x2)\n",
    "\n",
    "train_preds = model.predict(X_train_scaled)\n",
    "\n",
    "test_preds = model.predict(X_test_scaled)"
   ]
  },
  {
   "cell_type": "code",
   "execution_count": 37,
   "metadata": {
    "ExecuteTime": {
     "end_time": "2022-03-30T01:13:15.815481Z",
     "start_time": "2022-03-30T01:13:15.809659Z"
    }
   },
   "outputs": [
    {
     "name": "stdout",
     "output_type": "stream",
     "text": [
      "Training Metrics:\n",
      "R2: -2.178\n",
      "Mean Absolute Error: 542085.833\n",
      "Mean Squared Error: 435384951912.792\n",
      "Root Mean Squared Error: 659837.065\n"
     ]
    }
   ],
   "source": [
    "print(\"Training Metrics:\")\n",
    "# R2\n",
    "print(f\"R2: {r2_score(y_train, train_preds):.3f}\")\n",
    "# MAE\n",
    "print(f\"Mean Absolute Error: {mean_absolute_error(y_train, train_preds):.3f}\")\n",
    "# MSE\n",
    "print(f\"Mean Squared Error: {mean_squared_error(y_train, train_preds):.3f}\")\n",
    "# RMSE - just MSE but set squared=False\n",
    "print(f\"Root Mean Squared Error: {mean_squared_error(y_train, train_preds, squared=False):.3f}\")"
   ]
  },
  {
   "cell_type": "code",
   "execution_count": 38,
   "metadata": {
    "ExecuteTime": {
     "end_time": "2022-03-30T01:13:15.820839Z",
     "start_time": "2022-03-30T01:13:15.816419Z"
    }
   },
   "outputs": [
    {
     "name": "stdout",
     "output_type": "stream",
     "text": [
      "Testing Metrics:\n",
      "R2: -2.233\n",
      "Mean Absolute Error: 536491.880\n",
      "Mean Squared Error: 422709947872.123\n",
      "Root Mean Squared Error: 650161.478\n"
     ]
    }
   ],
   "source": [
    "print(\"Testing Metrics:\")\n",
    "# R2\n",
    "print(f\"R2: {r2_score(y_test, test_preds):.3f}\")\n",
    "# MAE\n",
    "print(f\"Mean Absolute Error: {mean_absolute_error(y_test, test_preds):.3f}\")\n",
    "# MSE\n",
    "print(f\"Mean Squared Error: {mean_squared_error(y_test, test_preds):.3f}\")\n",
    "# RMSE - just MSE but set squared=False\n",
    "print(f\"Root Mean Squared Error: {mean_squared_error(y_test, test_preds, squared=False):.3f}\")"
   ]
  },
  {
   "cell_type": "markdown",
   "metadata": {},
   "source": [
    "#### Model 4"
   ]
  },
  {
   "cell_type": "markdown",
   "metadata": {},
   "source": [
    "Using our top 4 correlated columns including 'sqft_living', 'bedrooms', 'sqft_living15', and the columns created from encoding 'zipcode'."
   ]
  },
  {
   "cell_type": "code",
   "execution_count": 39,
   "metadata": {
    "ExecuteTime": {
     "end_time": "2022-03-30T01:13:15.843566Z",
     "start_time": "2022-03-30T01:13:15.821889Z"
    }
   },
   "outputs": [
    {
     "data": {
      "text/html": [
       "<table class=\"simpletable\">\n",
       "<caption>OLS Regression Results</caption>\n",
       "<tr>\n",
       "  <th>Dep. Variable:</th>          <td>price</td>      <th>  R-squared:         </th>  <td>   0.513</td>  \n",
       "</tr>\n",
       "<tr>\n",
       "  <th>Model:</th>                   <td>OLS</td>       <th>  Adj. R-squared:    </th>  <td>   0.512</td>  \n",
       "</tr>\n",
       "<tr>\n",
       "  <th>Method:</th>             <td>Least Squares</td>  <th>  F-statistic:       </th>  <td>   5069.</td>  \n",
       "</tr>\n",
       "<tr>\n",
       "  <th>Date:</th>             <td>Tue, 29 Mar 2022</td> <th>  Prob (F-statistic):</th>   <td>  0.00</td>   \n",
       "</tr>\n",
       "<tr>\n",
       "  <th>Time:</th>                 <td>20:13:15</td>     <th>  Log-Likelihood:    </th> <td>-2.0085e+05</td>\n",
       "</tr>\n",
       "<tr>\n",
       "  <th>No. Observations:</th>      <td> 14469</td>      <th>  AIC:               </th>  <td>4.017e+05</td> \n",
       "</tr>\n",
       "<tr>\n",
       "  <th>Df Residuals:</th>          <td> 14465</td>      <th>  BIC:               </th>  <td>4.017e+05</td> \n",
       "</tr>\n",
       "<tr>\n",
       "  <th>Df Model:</th>              <td>     3</td>      <th>                     </th>      <td> </td>     \n",
       "</tr>\n",
       "<tr>\n",
       "  <th>Covariance Type:</th>      <td>nonrobust</td>    <th>                     </th>      <td> </td>     \n",
       "</tr>\n",
       "</table>\n",
       "<table class=\"simpletable\">\n",
       "<tr>\n",
       "        <td></td>           <th>coef</th>     <th>std err</th>      <th>t</th>      <th>P>|t|</th>  <th>[0.025</th>    <th>0.975]</th>  \n",
       "</tr>\n",
       "<tr>\n",
       "  <th>const</th>         <td> 2.373e+04</td> <td> 9384.073</td> <td>    2.529</td> <td> 0.011</td> <td> 5340.983</td> <td> 4.21e+04</td>\n",
       "</tr>\n",
       "<tr>\n",
       "  <th>sqft_living</th>   <td>  275.7522</td> <td>    4.076</td> <td>   67.655</td> <td> 0.000</td> <td>  267.763</td> <td>  283.741</td>\n",
       "</tr>\n",
       "<tr>\n",
       "  <th>sqft_living15</th> <td>   66.7019</td> <td>    4.824</td> <td>   13.828</td> <td> 0.000</td> <td>   57.247</td> <td>   76.157</td>\n",
       "</tr>\n",
       "<tr>\n",
       "  <th>bedrooms</th>      <td> -5.63e+04</td> <td> 2944.723</td> <td>  -19.120</td> <td> 0.000</td> <td>-6.21e+04</td> <td>-5.05e+04</td>\n",
       "</tr>\n",
       "</table>\n",
       "<table class=\"simpletable\">\n",
       "<tr>\n",
       "  <th>Omnibus:</th>       <td>9574.704</td> <th>  Durbin-Watson:     </th>  <td>   1.988</td> \n",
       "</tr>\n",
       "<tr>\n",
       "  <th>Prob(Omnibus):</th>  <td> 0.000</td>  <th>  Jarque-Bera (JB):  </th> <td>294439.324</td>\n",
       "</tr>\n",
       "<tr>\n",
       "  <th>Skew:</th>           <td> 2.730</td>  <th>  Prob(JB):          </th>  <td>    0.00</td> \n",
       "</tr>\n",
       "<tr>\n",
       "  <th>Kurtosis:</th>       <td>24.415</td>  <th>  Cond. No.          </th>  <td>1.38e+04</td> \n",
       "</tr>\n",
       "</table><br/><br/>Notes:<br/>[1] Standard Errors assume that the covariance matrix of the errors is correctly specified.<br/>[2] The condition number is large, 1.38e+04. This might indicate that there are<br/>strong multicollinearity or other numerical problems."
      ],
      "text/plain": [
       "<class 'statsmodels.iolib.summary.Summary'>\n",
       "\"\"\"\n",
       "                            OLS Regression Results                            \n",
       "==============================================================================\n",
       "Dep. Variable:                  price   R-squared:                       0.513\n",
       "Model:                            OLS   Adj. R-squared:                  0.512\n",
       "Method:                 Least Squares   F-statistic:                     5069.\n",
       "Date:                Tue, 29 Mar 2022   Prob (F-statistic):               0.00\n",
       "Time:                        20:13:15   Log-Likelihood:            -2.0085e+05\n",
       "No. Observations:               14469   AIC:                         4.017e+05\n",
       "Df Residuals:                   14465   BIC:                         4.017e+05\n",
       "Df Model:                           3                                         \n",
       "Covariance Type:            nonrobust                                         \n",
       "=================================================================================\n",
       "                    coef    std err          t      P>|t|      [0.025      0.975]\n",
       "---------------------------------------------------------------------------------\n",
       "const          2.373e+04   9384.073      2.529      0.011    5340.983    4.21e+04\n",
       "sqft_living     275.7522      4.076     67.655      0.000     267.763     283.741\n",
       "sqft_living15    66.7019      4.824     13.828      0.000      57.247      76.157\n",
       "bedrooms       -5.63e+04   2944.723    -19.120      0.000   -6.21e+04   -5.05e+04\n",
       "==============================================================================\n",
       "Omnibus:                     9574.704   Durbin-Watson:                   1.988\n",
       "Prob(Omnibus):                  0.000   Jarque-Bera (JB):           294439.324\n",
       "Skew:                           2.730   Prob(JB):                         0.00\n",
       "Kurtosis:                      24.415   Cond. No.                     1.38e+04\n",
       "==============================================================================\n",
       "\n",
       "Notes:\n",
       "[1] Standard Errors assume that the covariance matrix of the errors is correctly specified.\n",
       "[2] The condition number is large, 1.38e+04. This might indicate that there are\n",
       "strong multicollinearity or other numerical problems.\n",
       "\"\"\""
      ]
     },
     "execution_count": 39,
     "metadata": {},
     "output_type": "execute_result"
    }
   ],
   "source": [
    "y = y_train\n",
    "x = X_train.filter(['sqft_living', 'sqft_living15', 'bedrooms', '98001', '98002',\n",
    "        '98003', '98004', '98005', '98006', '98007', '98008',\n",
    "       '98010', '98011', '98014', '98019', '98022', '98023', '98024', '98027',\n",
    "       '98028', '98029', '98030', '98031', '98032', '98033', '98034', '98038',\n",
    "       '98039', '98040', '98042', '98045', '98052', '98053', '98055', '98056',\n",
    "       '98058', '98059', '98065', '98070', '98072', '98074', '98075', '98077',\n",
    "       '98092', '98102', '98103', '98105', '98106', '98107', '98108', '98109',\n",
    "       '98112', '98115', '98116', '98117', '98118', '98119', '98122', '98125',\n",
    "       '98126', '98133', '98136', '98144', '98146', '98148', '98155', '98166',\n",
    "       '98168', '98177', '98178', '98188', '98198', '98199' ], axis=1)\n",
    "x = sm.add_constant(x)\n",
    "model = sm.OLS(y, x.astype(float)).fit()\n",
    "model.summary()"
   ]
  },
  {
   "cell_type": "code",
   "execution_count": 40,
   "metadata": {
    "ExecuteTime": {
     "end_time": "2022-03-30T01:13:15.862109Z",
     "start_time": "2022-03-30T01:13:15.844669Z"
    }
   },
   "outputs": [
    {
     "data": {
      "text/html": [
       "<table class=\"simpletable\">\n",
       "<caption>OLS Regression Results</caption>\n",
       "<tr>\n",
       "  <th>Dep. Variable:</th>          <td>price</td>      <th>  R-squared:         </th> <td>   0.512</td> \n",
       "</tr>\n",
       "<tr>\n",
       "  <th>Model:</th>                   <td>OLS</td>       <th>  Adj. R-squared:    </th> <td>   0.512</td> \n",
       "</tr>\n",
       "<tr>\n",
       "  <th>Method:</th>             <td>Least Squares</td>  <th>  F-statistic:       </th> <td>   2492.</td> \n",
       "</tr>\n",
       "<tr>\n",
       "  <th>Date:</th>             <td>Tue, 29 Mar 2022</td> <th>  Prob (F-statistic):</th>  <td>  0.00</td>  \n",
       "</tr>\n",
       "<tr>\n",
       "  <th>Time:</th>                 <td>20:13:15</td>     <th>  Log-Likelihood:    </th> <td> -98783.</td> \n",
       "</tr>\n",
       "<tr>\n",
       "  <th>No. Observations:</th>      <td>  7128</td>      <th>  AIC:               </th> <td>1.976e+05</td>\n",
       "</tr>\n",
       "<tr>\n",
       "  <th>Df Residuals:</th>          <td>  7124</td>      <th>  BIC:               </th> <td>1.976e+05</td>\n",
       "</tr>\n",
       "<tr>\n",
       "  <th>Df Model:</th>              <td>     3</td>      <th>                     </th>     <td> </td>    \n",
       "</tr>\n",
       "<tr>\n",
       "  <th>Covariance Type:</th>      <td>nonrobust</td>    <th>                     </th>     <td> </td>    \n",
       "</tr>\n",
       "</table>\n",
       "<table class=\"simpletable\">\n",
       "<tr>\n",
       "        <td></td>           <th>coef</th>     <th>std err</th>      <th>t</th>      <th>P>|t|</th>  <th>[0.025</th>    <th>0.975]</th>  \n",
       "</tr>\n",
       "<tr>\n",
       "  <th>const</th>         <td> 2.981e+04</td> <td> 1.26e+04</td> <td>    2.373</td> <td> 0.018</td> <td> 5185.588</td> <td> 5.44e+04</td>\n",
       "</tr>\n",
       "<tr>\n",
       "  <th>sqft_living</th>   <td>  285.0738</td> <td>    5.566</td> <td>   51.218</td> <td> 0.000</td> <td>  274.163</td> <td>  295.985</td>\n",
       "</tr>\n",
       "<tr>\n",
       "  <th>sqft_living15</th> <td>   47.8093</td> <td>    6.664</td> <td>    7.174</td> <td> 0.000</td> <td>   34.746</td> <td>   60.873</td>\n",
       "</tr>\n",
       "<tr>\n",
       "  <th>bedrooms</th>      <td>-5.243e+04</td> <td> 3747.156</td> <td>  -13.993</td> <td> 0.000</td> <td>-5.98e+04</td> <td>-4.51e+04</td>\n",
       "</tr>\n",
       "</table>\n",
       "<table class=\"simpletable\">\n",
       "<tr>\n",
       "  <th>Omnibus:</th>       <td>5476.763</td> <th>  Durbin-Watson:     </th>  <td>   2.028</td> \n",
       "</tr>\n",
       "<tr>\n",
       "  <th>Prob(Omnibus):</th>  <td> 0.000</td>  <th>  Jarque-Bera (JB):  </th> <td>336800.310</td>\n",
       "</tr>\n",
       "<tr>\n",
       "  <th>Skew:</th>           <td> 3.152</td>  <th>  Prob(JB):          </th>  <td>    0.00</td> \n",
       "</tr>\n",
       "<tr>\n",
       "  <th>Kurtosis:</th>       <td>36.080</td>  <th>  Cond. No.          </th>  <td>1.31e+04</td> \n",
       "</tr>\n",
       "</table><br/><br/>Notes:<br/>[1] Standard Errors assume that the covariance matrix of the errors is correctly specified.<br/>[2] The condition number is large, 1.31e+04. This might indicate that there are<br/>strong multicollinearity or other numerical problems."
      ],
      "text/plain": [
       "<class 'statsmodels.iolib.summary.Summary'>\n",
       "\"\"\"\n",
       "                            OLS Regression Results                            \n",
       "==============================================================================\n",
       "Dep. Variable:                  price   R-squared:                       0.512\n",
       "Model:                            OLS   Adj. R-squared:                  0.512\n",
       "Method:                 Least Squares   F-statistic:                     2492.\n",
       "Date:                Tue, 29 Mar 2022   Prob (F-statistic):               0.00\n",
       "Time:                        20:13:15   Log-Likelihood:                -98783.\n",
       "No. Observations:                7128   AIC:                         1.976e+05\n",
       "Df Residuals:                    7124   BIC:                         1.976e+05\n",
       "Df Model:                           3                                         \n",
       "Covariance Type:            nonrobust                                         \n",
       "=================================================================================\n",
       "                    coef    std err          t      P>|t|      [0.025      0.975]\n",
       "---------------------------------------------------------------------------------\n",
       "const          2.981e+04   1.26e+04      2.373      0.018    5185.588    5.44e+04\n",
       "sqft_living     285.0738      5.566     51.218      0.000     274.163     295.985\n",
       "sqft_living15    47.8093      6.664      7.174      0.000      34.746      60.873\n",
       "bedrooms      -5.243e+04   3747.156    -13.993      0.000   -5.98e+04   -4.51e+04\n",
       "==============================================================================\n",
       "Omnibus:                     5476.763   Durbin-Watson:                   2.028\n",
       "Prob(Omnibus):                  0.000   Jarque-Bera (JB):           336800.310\n",
       "Skew:                           3.152   Prob(JB):                         0.00\n",
       "Kurtosis:                      36.080   Cond. No.                     1.31e+04\n",
       "==============================================================================\n",
       "\n",
       "Notes:\n",
       "[1] Standard Errors assume that the covariance matrix of the errors is correctly specified.\n",
       "[2] The condition number is large, 1.31e+04. This might indicate that there are\n",
       "strong multicollinearity or other numerical problems.\n",
       "\"\"\""
      ]
     },
     "execution_count": 40,
     "metadata": {},
     "output_type": "execute_result"
    }
   ],
   "source": [
    "y = y_test\n",
    "x2 = X_test.filter(['sqft_living', 'sqft_living15', 'bedrooms', '98001', '98002',\n",
    "        '98003', '98004', '98005', '98006', '98007', '98008',\n",
    "       '98010', '98011', '98014', '98019', '98022', '98023', '98024', '98027',\n",
    "       '98028', '98029', '98030', '98031', '98032', '98033', '98034', '98038',\n",
    "       '98039', '98040', '98042', '98045', '98052', '98053', '98055', '98056',\n",
    "       '98058', '98059', '98065', '98070', '98072', '98074', '98075', '98077',\n",
    "       '98092', '98102', '98103', '98105', '98106', '98107', '98108', '98109',\n",
    "       '98112', '98115', '98116', '98117', '98118', '98119', '98122', '98125',\n",
    "       '98126', '98133', '98136', '98144', '98146', '98148', '98155', '98166',\n",
    "       '98168', '98177', '98178', '98188', '98198', '98199' ], axis=1)\n",
    "x2 = sm.add_constant(x2)\n",
    "model = sm.OLS(y, x2.astype(float)).fit()\n",
    "model.summary()"
   ]
  },
  {
   "cell_type": "code",
   "execution_count": 41,
   "metadata": {
    "ExecuteTime": {
     "end_time": "2022-03-30T01:13:15.869229Z",
     "start_time": "2022-03-30T01:13:15.863183Z"
    }
   },
   "outputs": [],
   "source": [
    "scaler = StandardScaler()\n",
    "scaler.fit(x)\n",
    "X_train_scaled = scaler.transform(x)\n",
    "X_test_scaled = scaler.transform(x2)\n",
    "\n",
    "train_preds = model.predict(X_train_scaled)\n",
    "\n",
    "test_preds = model.predict(X_test_scaled)"
   ]
  },
  {
   "cell_type": "code",
   "execution_count": 42,
   "metadata": {
    "ExecuteTime": {
     "end_time": "2022-03-30T01:13:15.874619Z",
     "start_time": "2022-03-30T01:13:15.870300Z"
    }
   },
   "outputs": [
    {
     "name": "stdout",
     "output_type": "stream",
     "text": [
      "Training Metrics:\n",
      "R2: -2.254\n",
      "Mean Absolute Error: 542120.690\n",
      "Mean Squared Error: 445906896252.050\n",
      "Root Mean Squared Error: 667762.605\n"
     ]
    }
   ],
   "source": [
    "print(\"Training Metrics:\")\n",
    "# R2\n",
    "print(f\"R2: {r2_score(y_train, train_preds):.3f}\")\n",
    "# MAE\n",
    "print(f\"Mean Absolute Error: {mean_absolute_error(y_train, train_preds):.3f}\")\n",
    "# MSE\n",
    "print(f\"Mean Squared Error: {mean_squared_error(y_train, train_preds):.3f}\")\n",
    "# RMSE - just MSE but set squared=False\n",
    "print(f\"Root Mean Squared Error: {mean_squared_error(y_train, train_preds, squared=False):.3f}\")"
   ]
  },
  {
   "cell_type": "code",
   "execution_count": 43,
   "metadata": {
    "ExecuteTime": {
     "end_time": "2022-03-30T01:13:15.880845Z",
     "start_time": "2022-03-30T01:13:15.875692Z"
    }
   },
   "outputs": [
    {
     "name": "stdout",
     "output_type": "stream",
     "text": [
      "Testing Metrics:\n",
      "R2: -2.305\n",
      "Mean Absolute Error: 535892.707\n",
      "Mean Squared Error: 432096556773.439\n",
      "Root Mean Squared Error: 657340.518\n"
     ]
    }
   ],
   "source": [
    "print(\"Testing Metrics:\")\n",
    "# R2\n",
    "print(f\"R2: {r2_score(y_test, test_preds):.3f}\")\n",
    "# MAE\n",
    "print(f\"Mean Absolute Error: {mean_absolute_error(y_test, test_preds):.3f}\")\n",
    "# MSE\n",
    "print(f\"Mean Squared Error: {mean_squared_error(y_test, test_preds):.3f}\")\n",
    "# RMSE - just MSE but set squared=False\n",
    "print(f\"Root Mean Squared Error: {mean_squared_error(y_test, test_preds, squared=False):.3f}\")"
   ]
  },
  {
   "cell_type": "markdown",
   "metadata": {},
   "source": [
    "#### Model 4"
   ]
  },
  {
   "cell_type": "markdown",
   "metadata": {},
   "source": [
    "Using our top 4 correlated columns including 'sqft_living', 'bedrooms', and the columns created from encoding 'zipcode' and 'condition'."
   ]
  },
  {
   "cell_type": "code",
   "execution_count": 44,
   "metadata": {
    "ExecuteTime": {
     "end_time": "2022-03-30T01:13:15.901104Z",
     "start_time": "2022-03-30T01:13:15.882098Z"
    }
   },
   "outputs": [
    {
     "data": {
      "text/html": [
       "<table class=\"simpletable\">\n",
       "<caption>OLS Regression Results</caption>\n",
       "<tr>\n",
       "  <th>Dep. Variable:</th>          <td>price</td>      <th>  R-squared:         </th>  <td>   0.506</td>  \n",
       "</tr>\n",
       "<tr>\n",
       "  <th>Model:</th>                   <td>OLS</td>       <th>  Adj. R-squared:    </th>  <td>   0.506</td>  \n",
       "</tr>\n",
       "<tr>\n",
       "  <th>Method:</th>             <td>Least Squares</td>  <th>  F-statistic:       </th>  <td>   7411.</td>  \n",
       "</tr>\n",
       "<tr>\n",
       "  <th>Date:</th>             <td>Tue, 29 Mar 2022</td> <th>  Prob (F-statistic):</th>   <td>  0.00</td>   \n",
       "</tr>\n",
       "<tr>\n",
       "  <th>Time:</th>                 <td>20:13:15</td>     <th>  Log-Likelihood:    </th> <td>-2.0094e+05</td>\n",
       "</tr>\n",
       "<tr>\n",
       "  <th>No. Observations:</th>      <td> 14469</td>      <th>  AIC:               </th>  <td>4.019e+05</td> \n",
       "</tr>\n",
       "<tr>\n",
       "  <th>Df Residuals:</th>          <td> 14466</td>      <th>  BIC:               </th>  <td>4.019e+05</td> \n",
       "</tr>\n",
       "<tr>\n",
       "  <th>Df Model:</th>              <td>     2</td>      <th>                     </th>      <td> </td>     \n",
       "</tr>\n",
       "<tr>\n",
       "  <th>Covariance Type:</th>      <td>nonrobust</td>    <th>                     </th>      <td> </td>     \n",
       "</tr>\n",
       "</table>\n",
       "<table class=\"simpletable\">\n",
       "<tr>\n",
       "       <td></td>          <th>coef</th>     <th>std err</th>      <th>t</th>      <th>P>|t|</th>  <th>[0.025</th>    <th>0.975]</th>  \n",
       "</tr>\n",
       "<tr>\n",
       "  <th>const</th>       <td> 8.532e+04</td> <td> 8313.857</td> <td>   10.263</td> <td> 0.000</td> <td>  6.9e+04</td> <td> 1.02e+05</td>\n",
       "</tr>\n",
       "<tr>\n",
       "  <th>sqft_living</th> <td>  315.5507</td> <td>    2.905</td> <td>  108.628</td> <td> 0.000</td> <td>  309.857</td> <td>  321.245</td>\n",
       "</tr>\n",
       "<tr>\n",
       "  <th>bedrooms</th>    <td>-5.983e+04</td> <td> 2952.892</td> <td>  -20.260</td> <td> 0.000</td> <td>-6.56e+04</td> <td> -5.4e+04</td>\n",
       "</tr>\n",
       "</table>\n",
       "<table class=\"simpletable\">\n",
       "<tr>\n",
       "  <th>Omnibus:</th>       <td>9135.871</td> <th>  Durbin-Watson:     </th>  <td>   1.986</td> \n",
       "</tr>\n",
       "<tr>\n",
       "  <th>Prob(Omnibus):</th>  <td> 0.000</td>  <th>  Jarque-Bera (JB):  </th> <td>240618.344</td>\n",
       "</tr>\n",
       "<tr>\n",
       "  <th>Skew:</th>           <td> 2.599</td>  <th>  Prob(JB):          </th>  <td>    0.00</td> \n",
       "</tr>\n",
       "<tr>\n",
       "  <th>Kurtosis:</th>       <td>22.290</td>  <th>  Cond. No.          </th>  <td>9.11e+03</td> \n",
       "</tr>\n",
       "</table><br/><br/>Notes:<br/>[1] Standard Errors assume that the covariance matrix of the errors is correctly specified.<br/>[2] The condition number is large, 9.11e+03. This might indicate that there are<br/>strong multicollinearity or other numerical problems."
      ],
      "text/plain": [
       "<class 'statsmodels.iolib.summary.Summary'>\n",
       "\"\"\"\n",
       "                            OLS Regression Results                            \n",
       "==============================================================================\n",
       "Dep. Variable:                  price   R-squared:                       0.506\n",
       "Model:                            OLS   Adj. R-squared:                  0.506\n",
       "Method:                 Least Squares   F-statistic:                     7411.\n",
       "Date:                Tue, 29 Mar 2022   Prob (F-statistic):               0.00\n",
       "Time:                        20:13:15   Log-Likelihood:            -2.0094e+05\n",
       "No. Observations:               14469   AIC:                         4.019e+05\n",
       "Df Residuals:                   14466   BIC:                         4.019e+05\n",
       "Df Model:                           2                                         \n",
       "Covariance Type:            nonrobust                                         \n",
       "===============================================================================\n",
       "                  coef    std err          t      P>|t|      [0.025      0.975]\n",
       "-------------------------------------------------------------------------------\n",
       "const        8.532e+04   8313.857     10.263      0.000     6.9e+04    1.02e+05\n",
       "sqft_living   315.5507      2.905    108.628      0.000     309.857     321.245\n",
       "bedrooms    -5.983e+04   2952.892    -20.260      0.000   -6.56e+04    -5.4e+04\n",
       "==============================================================================\n",
       "Omnibus:                     9135.871   Durbin-Watson:                   1.986\n",
       "Prob(Omnibus):                  0.000   Jarque-Bera (JB):           240618.344\n",
       "Skew:                           2.599   Prob(JB):                         0.00\n",
       "Kurtosis:                      22.290   Cond. No.                     9.11e+03\n",
       "==============================================================================\n",
       "\n",
       "Notes:\n",
       "[1] Standard Errors assume that the covariance matrix of the errors is correctly specified.\n",
       "[2] The condition number is large, 9.11e+03. This might indicate that there are\n",
       "strong multicollinearity or other numerical problems.\n",
       "\"\"\""
      ]
     },
     "execution_count": 44,
     "metadata": {},
     "output_type": "execute_result"
    }
   ],
   "source": [
    "y = y_train\n",
    "x = X_train.filter(['sqft_living', 'bedrooms', '98001', '98002',\n",
    "        '98003', '98004', '98005', '98006', '98007', '98008',\n",
    "       '98010', '98011', '98014', '98019', '98022', '98023', '98024', '98027',\n",
    "       '98028', '98029', '98030', '98031', '98032', '98033', '98034', '98038',\n",
    "       '98039', '98040', '98042', '98045', '98052', '98053', '98055', '98056',\n",
    "       '98058', '98059', '98065', '98070', '98072', '98074', '98075', '98077',\n",
    "       '98092', '98102', '98103', '98105', '98106', '98107', '98108', '98109',\n",
    "       '98112', '98115', '98116', '98117', '98118', '98119', '98122', '98125',\n",
    "       '98126', '98133', '98136', '98144', '98146', '98148', '98155', '98166',\n",
    "       '98168', '98177', '98178', '98188', '98198', '98199' \n",
    "                   'Average', 'Fair', 'Good', 'Poor', 'Very Good'], axis=1)\n",
    "x = sm.add_constant(x)\n",
    "model = sm.OLS(y, x.astype(float)).fit()\n",
    "model.summary()"
   ]
  },
  {
   "cell_type": "code",
   "execution_count": 45,
   "metadata": {
    "ExecuteTime": {
     "end_time": "2022-03-30T01:13:15.918856Z",
     "start_time": "2022-03-30T01:13:15.902120Z"
    },
    "scrolled": true
   },
   "outputs": [
    {
     "data": {
      "text/html": [
       "<table class=\"simpletable\">\n",
       "<caption>OLS Regression Results</caption>\n",
       "<tr>\n",
       "  <th>Dep. Variable:</th>          <td>price</td>      <th>  R-squared:         </th> <td>   0.509</td> \n",
       "</tr>\n",
       "<tr>\n",
       "  <th>Model:</th>                   <td>OLS</td>       <th>  Adj. R-squared:    </th> <td>   0.508</td> \n",
       "</tr>\n",
       "<tr>\n",
       "  <th>Method:</th>             <td>Least Squares</td>  <th>  F-statistic:       </th> <td>   3686.</td> \n",
       "</tr>\n",
       "<tr>\n",
       "  <th>Date:</th>             <td>Tue, 29 Mar 2022</td> <th>  Prob (F-statistic):</th>  <td>  0.00</td>  \n",
       "</tr>\n",
       "<tr>\n",
       "  <th>Time:</th>                 <td>20:13:15</td>     <th>  Log-Likelihood:    </th> <td> -98808.</td> \n",
       "</tr>\n",
       "<tr>\n",
       "  <th>No. Observations:</th>      <td>  7128</td>      <th>  AIC:               </th> <td>1.976e+05</td>\n",
       "</tr>\n",
       "<tr>\n",
       "  <th>Df Residuals:</th>          <td>  7125</td>      <th>  BIC:               </th> <td>1.976e+05</td>\n",
       "</tr>\n",
       "<tr>\n",
       "  <th>Df Model:</th>              <td>     2</td>      <th>                     </th>     <td> </td>    \n",
       "</tr>\n",
       "<tr>\n",
       "  <th>Covariance Type:</th>      <td>nonrobust</td>    <th>                     </th>     <td> </td>    \n",
       "</tr>\n",
       "</table>\n",
       "<table class=\"simpletable\">\n",
       "<tr>\n",
       "       <td></td>          <th>coef</th>     <th>std err</th>      <th>t</th>      <th>P>|t|</th>  <th>[0.025</th>    <th>0.975]</th>  \n",
       "</tr>\n",
       "<tr>\n",
       "  <th>const</th>       <td> 7.328e+04</td> <td>  1.1e+04</td> <td>    6.637</td> <td> 0.000</td> <td> 5.16e+04</td> <td> 9.49e+04</td>\n",
       "</tr>\n",
       "<tr>\n",
       "  <th>sqft_living</th> <td>  313.1072</td> <td>    3.978</td> <td>   78.717</td> <td> 0.000</td> <td>  305.310</td> <td>  320.904</td>\n",
       "</tr>\n",
       "<tr>\n",
       "  <th>bedrooms</th>    <td>-5.444e+04</td> <td> 3749.871</td> <td>  -14.519</td> <td> 0.000</td> <td>-6.18e+04</td> <td>-4.71e+04</td>\n",
       "</tr>\n",
       "</table>\n",
       "<table class=\"simpletable\">\n",
       "<tr>\n",
       "  <th>Omnibus:</th>       <td>5260.881</td> <th>  Durbin-Watson:     </th>  <td>   2.028</td> \n",
       "</tr>\n",
       "<tr>\n",
       "  <th>Prob(Omnibus):</th>  <td> 0.000</td>  <th>  Jarque-Bera (JB):  </th> <td>280653.417</td>\n",
       "</tr>\n",
       "<tr>\n",
       "  <th>Skew:</th>           <td> 3.003</td>  <th>  Prob(JB):          </th>  <td>    0.00</td> \n",
       "</tr>\n",
       "<tr>\n",
       "  <th>Kurtosis:</th>       <td>33.148</td>  <th>  Cond. No.          </th>  <td>8.55e+03</td> \n",
       "</tr>\n",
       "</table><br/><br/>Notes:<br/>[1] Standard Errors assume that the covariance matrix of the errors is correctly specified.<br/>[2] The condition number is large, 8.55e+03. This might indicate that there are<br/>strong multicollinearity or other numerical problems."
      ],
      "text/plain": [
       "<class 'statsmodels.iolib.summary.Summary'>\n",
       "\"\"\"\n",
       "                            OLS Regression Results                            \n",
       "==============================================================================\n",
       "Dep. Variable:                  price   R-squared:                       0.509\n",
       "Model:                            OLS   Adj. R-squared:                  0.508\n",
       "Method:                 Least Squares   F-statistic:                     3686.\n",
       "Date:                Tue, 29 Mar 2022   Prob (F-statistic):               0.00\n",
       "Time:                        20:13:15   Log-Likelihood:                -98808.\n",
       "No. Observations:                7128   AIC:                         1.976e+05\n",
       "Df Residuals:                    7125   BIC:                         1.976e+05\n",
       "Df Model:                           2                                         \n",
       "Covariance Type:            nonrobust                                         \n",
       "===============================================================================\n",
       "                  coef    std err          t      P>|t|      [0.025      0.975]\n",
       "-------------------------------------------------------------------------------\n",
       "const        7.328e+04    1.1e+04      6.637      0.000    5.16e+04    9.49e+04\n",
       "sqft_living   313.1072      3.978     78.717      0.000     305.310     320.904\n",
       "bedrooms    -5.444e+04   3749.871    -14.519      0.000   -6.18e+04   -4.71e+04\n",
       "==============================================================================\n",
       "Omnibus:                     5260.881   Durbin-Watson:                   2.028\n",
       "Prob(Omnibus):                  0.000   Jarque-Bera (JB):           280653.417\n",
       "Skew:                           3.003   Prob(JB):                         0.00\n",
       "Kurtosis:                      33.148   Cond. No.                     8.55e+03\n",
       "==============================================================================\n",
       "\n",
       "Notes:\n",
       "[1] Standard Errors assume that the covariance matrix of the errors is correctly specified.\n",
       "[2] The condition number is large, 8.55e+03. This might indicate that there are\n",
       "strong multicollinearity or other numerical problems.\n",
       "\"\"\""
      ]
     },
     "execution_count": 45,
     "metadata": {},
     "output_type": "execute_result"
    }
   ],
   "source": [
    "y = y_test\n",
    "x2 = X_test.filter(['sqft_living', 'bedrooms', '98001', '98002',\n",
    "        '98003', '98004', '98005', '98006', '98007', '98008',\n",
    "       '98010', '98011', '98014', '98019', '98022', '98023', '98024', '98027',\n",
    "       '98028', '98029', '98030', '98031', '98032', '98033', '98034', '98038',\n",
    "       '98039', '98040', '98042', '98045', '98052', '98053', '98055', '98056',\n",
    "       '98058', '98059', '98065', '98070', '98072', '98074', '98075', '98077',\n",
    "       '98092', '98102', '98103', '98105', '98106', '98107', '98108', '98109',\n",
    "       '98112', '98115', '98116', '98117', '98118', '98119', '98122', '98125',\n",
    "       '98126', '98133', '98136', '98144', '98146', '98148', '98155', '98166',\n",
    "       '98168', '98177', '98178', '98188', '98198', '98199',\n",
    "                   'Average', 'Fair', 'Good', 'Poor', 'Very Good'], axis=1)\n",
    "x2 = sm.add_constant(x2)\n",
    "model = sm.OLS(y, x2.astype(float)).fit()\n",
    "model.summary()"
   ]
  },
  {
   "cell_type": "code",
   "execution_count": 46,
   "metadata": {
    "ExecuteTime": {
     "end_time": "2022-03-30T01:13:15.922899Z",
     "start_time": "2022-03-30T01:13:15.920052Z"
    }
   },
   "outputs": [
    {
     "data": {
      "text/plain": [
       "(14469, 3)"
      ]
     },
     "execution_count": 46,
     "metadata": {},
     "output_type": "execute_result"
    }
   ],
   "source": [
    "x.shape"
   ]
  },
  {
   "cell_type": "code",
   "execution_count": 47,
   "metadata": {
    "ExecuteTime": {
     "end_time": "2022-03-30T01:13:15.927614Z",
     "start_time": "2022-03-30T01:13:15.924010Z"
    }
   },
   "outputs": [
    {
     "data": {
      "text/plain": [
       "(7128, 3)"
      ]
     },
     "execution_count": 47,
     "metadata": {},
     "output_type": "execute_result"
    }
   ],
   "source": [
    "x2.shape"
   ]
  },
  {
   "cell_type": "code",
   "execution_count": 48,
   "metadata": {
    "ExecuteTime": {
     "end_time": "2022-03-30T01:13:15.935047Z",
     "start_time": "2022-03-30T01:13:15.928879Z"
    }
   },
   "outputs": [],
   "source": [
    "scaler = StandardScaler()\n",
    "scaler.fit(x)\n",
    "X_train_scaled = scaler.transform(x)\n",
    "X_test_scaled = scaler.transform(x2)\n",
    "\n",
    "train_preds = model.predict(X_train_scaled)\n",
    "\n",
    "test_preds = model.predict(X_test_scaled)"
   ]
  },
  {
   "cell_type": "code",
   "execution_count": 49,
   "metadata": {
    "ExecuteTime": {
     "end_time": "2022-03-30T01:13:15.941063Z",
     "start_time": "2022-03-30T01:13:15.936136Z"
    }
   },
   "outputs": [
    {
     "name": "stdout",
     "output_type": "stream",
     "text": [
      "Training Metrics:\n",
      "R2: -2.259\n",
      "Mean Absolute Error: 542127.780\n",
      "Mean Squared Error: 446605872728.683\n",
      "Root Mean Squared Error: 668285.772\n"
     ]
    }
   ],
   "source": [
    "print(\"Training Metrics:\")\n",
    "# R2\n",
    "print(f\"R2: {r2_score(y_train, train_preds):.3f}\")\n",
    "# MAE\n",
    "print(f\"Mean Absolute Error: {mean_absolute_error(y_train, train_preds):.3f}\")\n",
    "# MSE\n",
    "print(f\"Mean Squared Error: {mean_squared_error(y_train, train_preds):.3f}\")\n",
    "# RMSE - just MSE but set squared=False\n",
    "print(f\"Root Mean Squared Error: {mean_squared_error(y_train, train_preds, squared=False):.3f}\")"
   ]
  },
  {
   "cell_type": "code",
   "execution_count": 50,
   "metadata": {
    "ExecuteTime": {
     "end_time": "2022-03-30T01:13:15.946753Z",
     "start_time": "2022-03-30T01:13:15.942578Z"
    }
   },
   "outputs": [
    {
     "name": "stdout",
     "output_type": "stream",
     "text": [
      "Testing Metrics:\n",
      "R2: -2.310\n",
      "Mean Absolute Error: 535870.408\n",
      "Mean Squared Error: 432741228644.193\n",
      "Root Mean Squared Error: 657830.699\n"
     ]
    }
   ],
   "source": [
    "print(\"Testing Metrics:\")\n",
    "# R2\n",
    "print(f\"R2: {r2_score(y_test, test_preds):.3f}\")\n",
    "# MAE\n",
    "print(f\"Mean Absolute Error: {mean_absolute_error(y_test, test_preds):.3f}\")\n",
    "# MSE\n",
    "print(f\"Mean Squared Error: {mean_squared_error(y_test, test_preds):.3f}\")\n",
    "# RMSE - just MSE but set squared=False\n",
    "print(f\"Root Mean Squared Error: {mean_squared_error(y_test, test_preds, squared=False):.3f}\")"
   ]
  },
  {
   "cell_type": "code",
   "execution_count": null,
   "metadata": {},
   "outputs": [],
   "source": []
  }
 ],
 "metadata": {
  "kernelspec": {
   "display_name": "Python (learn-env)",
   "language": "python",
   "name": "learn-env"
  },
  "language_info": {
   "codemirror_mode": {
    "name": "ipython",
    "version": 3
   },
   "file_extension": ".py",
   "mimetype": "text/x-python",
   "name": "python",
   "nbconvert_exporter": "python",
   "pygments_lexer": "ipython3",
   "version": "3.8.5"
  },
  "toc": {
   "base_numbering": 1,
   "nav_menu": {},
   "number_sections": true,
   "sideBar": true,
   "skip_h1_title": false,
   "title_cell": "Table of Contents",
   "title_sidebar": "Contents",
   "toc_cell": false,
   "toc_position": {},
   "toc_section_display": true,
   "toc_window_display": false
  }
 },
 "nbformat": 4,
 "nbformat_minor": 4
}
