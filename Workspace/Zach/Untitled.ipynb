{
 "cells": [
  {
   "cell_type": "markdown",
   "metadata": {},
   "source": [
    "### Imports"
   ]
  },
  {
   "cell_type": "code",
   "execution_count": 1,
   "metadata": {
    "ExecuteTime": {
     "end_time": "2022-03-30T15:39:47.075162Z",
     "start_time": "2022-03-30T15:39:45.908400Z"
    }
   },
   "outputs": [],
   "source": [
    "import pandas as pd\n",
    "import numpy as np\n",
    "import seaborn as sns\n",
    "import warnings\n",
    "warnings.filterwarnings(action='ignore')\n",
    "import matplotlib.pyplot as plt\n",
    "\n",
    "import statsmodels.api as sm\n",
    "from statsmodels.api import OLS\n",
    "\n",
    "#SKLearn stuff\n",
    "from sklearn.model_selection import train_test_split\n",
    "from sklearn.dummy import DummyRegressor\n",
    "from sklearn.pipeline import make_pipeline\n",
    "from sklearn.preprocessing import StandardScaler, PolynomialFeatures, OrdinalEncoder, OneHotEncoder\n",
    "from sklearn.compose import ColumnTransformer\n",
    "from sklearn.linear_model import LinearRegression\n",
    "from sklearn.metrics import r2_score, mean_squared_error, mean_absolute_error"
   ]
  },
  {
   "cell_type": "code",
   "execution_count": 2,
   "metadata": {
    "ExecuteTime": {
     "end_time": "2022-03-30T15:39:47.129600Z",
     "start_time": "2022-03-30T15:39:47.076163Z"
    }
   },
   "outputs": [
    {
     "data": {
      "text/html": [
       "<div>\n",
       "<style scoped>\n",
       "    .dataframe tbody tr th:only-of-type {\n",
       "        vertical-align: middle;\n",
       "    }\n",
       "\n",
       "    .dataframe tbody tr th {\n",
       "        vertical-align: top;\n",
       "    }\n",
       "\n",
       "    .dataframe thead th {\n",
       "        text-align: right;\n",
       "    }\n",
       "</style>\n",
       "<table border=\"1\" class=\"dataframe\">\n",
       "  <thead>\n",
       "    <tr style=\"text-align: right;\">\n",
       "      <th></th>\n",
       "      <th>id</th>\n",
       "      <th>date</th>\n",
       "      <th>price</th>\n",
       "      <th>bedrooms</th>\n",
       "      <th>bathrooms</th>\n",
       "      <th>sqft_living</th>\n",
       "      <th>sqft_lot</th>\n",
       "      <th>floors</th>\n",
       "      <th>waterfront</th>\n",
       "      <th>view</th>\n",
       "      <th>...</th>\n",
       "      <th>grade</th>\n",
       "      <th>sqft_above</th>\n",
       "      <th>sqft_basement</th>\n",
       "      <th>yr_built</th>\n",
       "      <th>yr_renovated</th>\n",
       "      <th>zipcode</th>\n",
       "      <th>lat</th>\n",
       "      <th>long</th>\n",
       "      <th>sqft_living15</th>\n",
       "      <th>sqft_lot15</th>\n",
       "    </tr>\n",
       "  </thead>\n",
       "  <tbody>\n",
       "    <tr>\n",
       "      <th>0</th>\n",
       "      <td>7129300520</td>\n",
       "      <td>10/13/2014</td>\n",
       "      <td>221900.0</td>\n",
       "      <td>3</td>\n",
       "      <td>1.00</td>\n",
       "      <td>1180</td>\n",
       "      <td>5650</td>\n",
       "      <td>1.0</td>\n",
       "      <td>NaN</td>\n",
       "      <td>NONE</td>\n",
       "      <td>...</td>\n",
       "      <td>7 Average</td>\n",
       "      <td>1180</td>\n",
       "      <td>0.0</td>\n",
       "      <td>1955</td>\n",
       "      <td>0.0</td>\n",
       "      <td>98178</td>\n",
       "      <td>47.5112</td>\n",
       "      <td>-122.257</td>\n",
       "      <td>1340</td>\n",
       "      <td>5650</td>\n",
       "    </tr>\n",
       "    <tr>\n",
       "      <th>1</th>\n",
       "      <td>6414100192</td>\n",
       "      <td>12/9/2014</td>\n",
       "      <td>538000.0</td>\n",
       "      <td>3</td>\n",
       "      <td>2.25</td>\n",
       "      <td>2570</td>\n",
       "      <td>7242</td>\n",
       "      <td>2.0</td>\n",
       "      <td>NO</td>\n",
       "      <td>NONE</td>\n",
       "      <td>...</td>\n",
       "      <td>7 Average</td>\n",
       "      <td>2170</td>\n",
       "      <td>400.0</td>\n",
       "      <td>1951</td>\n",
       "      <td>1991.0</td>\n",
       "      <td>98125</td>\n",
       "      <td>47.7210</td>\n",
       "      <td>-122.319</td>\n",
       "      <td>1690</td>\n",
       "      <td>7639</td>\n",
       "    </tr>\n",
       "    <tr>\n",
       "      <th>2</th>\n",
       "      <td>5631500400</td>\n",
       "      <td>2/25/2015</td>\n",
       "      <td>180000.0</td>\n",
       "      <td>2</td>\n",
       "      <td>1.00</td>\n",
       "      <td>770</td>\n",
       "      <td>10000</td>\n",
       "      <td>1.0</td>\n",
       "      <td>NO</td>\n",
       "      <td>NONE</td>\n",
       "      <td>...</td>\n",
       "      <td>6 Low Average</td>\n",
       "      <td>770</td>\n",
       "      <td>0.0</td>\n",
       "      <td>1933</td>\n",
       "      <td>NaN</td>\n",
       "      <td>98028</td>\n",
       "      <td>47.7379</td>\n",
       "      <td>-122.233</td>\n",
       "      <td>2720</td>\n",
       "      <td>8062</td>\n",
       "    </tr>\n",
       "    <tr>\n",
       "      <th>3</th>\n",
       "      <td>2487200875</td>\n",
       "      <td>12/9/2014</td>\n",
       "      <td>604000.0</td>\n",
       "      <td>4</td>\n",
       "      <td>3.00</td>\n",
       "      <td>1960</td>\n",
       "      <td>5000</td>\n",
       "      <td>1.0</td>\n",
       "      <td>NO</td>\n",
       "      <td>NONE</td>\n",
       "      <td>...</td>\n",
       "      <td>7 Average</td>\n",
       "      <td>1050</td>\n",
       "      <td>910.0</td>\n",
       "      <td>1965</td>\n",
       "      <td>0.0</td>\n",
       "      <td>98136</td>\n",
       "      <td>47.5208</td>\n",
       "      <td>-122.393</td>\n",
       "      <td>1360</td>\n",
       "      <td>5000</td>\n",
       "    </tr>\n",
       "    <tr>\n",
       "      <th>4</th>\n",
       "      <td>1954400510</td>\n",
       "      <td>2/18/2015</td>\n",
       "      <td>510000.0</td>\n",
       "      <td>3</td>\n",
       "      <td>2.00</td>\n",
       "      <td>1680</td>\n",
       "      <td>8080</td>\n",
       "      <td>1.0</td>\n",
       "      <td>NO</td>\n",
       "      <td>NONE</td>\n",
       "      <td>...</td>\n",
       "      <td>8 Good</td>\n",
       "      <td>1680</td>\n",
       "      <td>0.0</td>\n",
       "      <td>1987</td>\n",
       "      <td>0.0</td>\n",
       "      <td>98074</td>\n",
       "      <td>47.6168</td>\n",
       "      <td>-122.045</td>\n",
       "      <td>1800</td>\n",
       "      <td>7503</td>\n",
       "    </tr>\n",
       "  </tbody>\n",
       "</table>\n",
       "<p>5 rows × 21 columns</p>\n",
       "</div>"
      ],
      "text/plain": [
       "           id        date     price  bedrooms  bathrooms  sqft_living  \\\n",
       "0  7129300520  10/13/2014  221900.0         3       1.00         1180   \n",
       "1  6414100192   12/9/2014  538000.0         3       2.25         2570   \n",
       "2  5631500400   2/25/2015  180000.0         2       1.00          770   \n",
       "3  2487200875   12/9/2014  604000.0         4       3.00         1960   \n",
       "4  1954400510   2/18/2015  510000.0         3       2.00         1680   \n",
       "\n",
       "   sqft_lot  floors waterfront  view  ...          grade sqft_above  \\\n",
       "0      5650     1.0        NaN  NONE  ...      7 Average       1180   \n",
       "1      7242     2.0         NO  NONE  ...      7 Average       2170   \n",
       "2     10000     1.0         NO  NONE  ...  6 Low Average        770   \n",
       "3      5000     1.0         NO  NONE  ...      7 Average       1050   \n",
       "4      8080     1.0         NO  NONE  ...         8 Good       1680   \n",
       "\n",
       "   sqft_basement yr_built  yr_renovated  zipcode      lat     long  \\\n",
       "0            0.0     1955           0.0    98178  47.5112 -122.257   \n",
       "1          400.0     1951        1991.0    98125  47.7210 -122.319   \n",
       "2            0.0     1933           NaN    98028  47.7379 -122.233   \n",
       "3          910.0     1965           0.0    98136  47.5208 -122.393   \n",
       "4            0.0     1987           0.0    98074  47.6168 -122.045   \n",
       "\n",
       "   sqft_living15  sqft_lot15  \n",
       "0           1340        5650  \n",
       "1           1690        7639  \n",
       "2           2720        8062  \n",
       "3           1360        5000  \n",
       "4           1800        7503  \n",
       "\n",
       "[5 rows x 21 columns]"
      ]
     },
     "execution_count": 2,
     "metadata": {},
     "output_type": "execute_result"
    }
   ],
   "source": [
    "df = pd.read_csv('../../data/kc_house_data.csv')\n",
    "df.head()"
   ]
  },
  {
   "cell_type": "markdown",
   "metadata": {},
   "source": [
    "### Initial Cleaning"
   ]
  },
  {
   "cell_type": "code",
   "execution_count": 3,
   "metadata": {
    "ExecuteTime": {
     "end_time": "2022-03-30T15:39:47.144912Z",
     "start_time": "2022-03-30T15:39:47.130954Z"
    },
    "scrolled": false
   },
   "outputs": [
    {
     "name": "stdout",
     "output_type": "stream",
     "text": [
      "<class 'pandas.core.frame.DataFrame'>\n",
      "RangeIndex: 21597 entries, 0 to 21596\n",
      "Data columns (total 21 columns):\n",
      " #   Column         Non-Null Count  Dtype  \n",
      "---  ------         --------------  -----  \n",
      " 0   id             21597 non-null  int64  \n",
      " 1   date           21597 non-null  object \n",
      " 2   price          21597 non-null  float64\n",
      " 3   bedrooms       21597 non-null  int64  \n",
      " 4   bathrooms      21597 non-null  float64\n",
      " 5   sqft_living    21597 non-null  int64  \n",
      " 6   sqft_lot       21597 non-null  int64  \n",
      " 7   floors         21597 non-null  float64\n",
      " 8   waterfront     19221 non-null  object \n",
      " 9   view           21534 non-null  object \n",
      " 10  condition      21597 non-null  object \n",
      " 11  grade          21597 non-null  object \n",
      " 12  sqft_above     21597 non-null  int64  \n",
      " 13  sqft_basement  21597 non-null  object \n",
      " 14  yr_built       21597 non-null  int64  \n",
      " 15  yr_renovated   17755 non-null  float64\n",
      " 16  zipcode        21597 non-null  int64  \n",
      " 17  lat            21597 non-null  float64\n",
      " 18  long           21597 non-null  float64\n",
      " 19  sqft_living15  21597 non-null  int64  \n",
      " 20  sqft_lot15     21597 non-null  int64  \n",
      "dtypes: float64(6), int64(9), object(6)\n",
      "memory usage: 3.5+ MB\n"
     ]
    }
   ],
   "source": [
    "df.info()"
   ]
  },
  {
   "cell_type": "markdown",
   "metadata": {},
   "source": [
    "The column sqft_basement has 454 '?' values. Used  sqft_living and sqft_above to fill in the values. "
   ]
  },
  {
   "cell_type": "code",
   "execution_count": 4,
   "metadata": {
    "ExecuteTime": {
     "end_time": "2022-03-30T15:39:47.150456Z",
     "start_time": "2022-03-30T15:39:47.146649Z"
    }
   },
   "outputs": [],
   "source": [
    "df['sqft_basement'] = df['sqft_living'] - df['sqft_above']"
   ]
  },
  {
   "cell_type": "code",
   "execution_count": 5,
   "metadata": {
    "ExecuteTime": {
     "end_time": "2022-03-30T15:39:47.162460Z",
     "start_time": "2022-03-30T15:39:47.151352Z"
    },
    "scrolled": true
   },
   "outputs": [
    {
     "name": "stdout",
     "output_type": "stream",
     "text": [
      "<class 'pandas.core.frame.DataFrame'>\n",
      "RangeIndex: 21597 entries, 0 to 21596\n",
      "Data columns (total 21 columns):\n",
      " #   Column         Non-Null Count  Dtype  \n",
      "---  ------         --------------  -----  \n",
      " 0   id             21597 non-null  int64  \n",
      " 1   date           21597 non-null  object \n",
      " 2   price          21597 non-null  float64\n",
      " 3   bedrooms       21597 non-null  int64  \n",
      " 4   bathrooms      21597 non-null  float64\n",
      " 5   sqft_living    21597 non-null  int64  \n",
      " 6   sqft_lot       21597 non-null  int64  \n",
      " 7   floors         21597 non-null  float64\n",
      " 8   waterfront     19221 non-null  object \n",
      " 9   view           21534 non-null  object \n",
      " 10  condition      21597 non-null  object \n",
      " 11  grade          21597 non-null  object \n",
      " 12  sqft_above     21597 non-null  int64  \n",
      " 13  sqft_basement  21597 non-null  int64  \n",
      " 14  yr_built       21597 non-null  int64  \n",
      " 15  yr_renovated   17755 non-null  float64\n",
      " 16  zipcode        21597 non-null  int64  \n",
      " 17  lat            21597 non-null  float64\n",
      " 18  long           21597 non-null  float64\n",
      " 19  sqft_living15  21597 non-null  int64  \n",
      " 20  sqft_lot15     21597 non-null  int64  \n",
      "dtypes: float64(6), int64(10), object(5)\n",
      "memory usage: 3.5+ MB\n"
     ]
    }
   ],
   "source": [
    "df.info()"
   ]
  },
  {
   "cell_type": "markdown",
   "metadata": {},
   "source": [
    "#### Drops"
   ]
  },
  {
   "cell_type": "markdown",
   "metadata": {},
   "source": [
    "Dropping 'id', 'yr_renovated', and 'date'. No use for them and we don't have enough data to use them. "
   ]
  },
  {
   "cell_type": "code",
   "execution_count": 6,
   "metadata": {
    "ExecuteTime": {
     "end_time": "2022-03-30T15:39:47.168586Z",
     "start_time": "2022-03-30T15:39:47.163790Z"
    }
   },
   "outputs": [],
   "source": [
    "df = df.drop(['id', 'date', 'yr_renovated'], axis=1) "
   ]
  },
  {
   "cell_type": "markdown",
   "metadata": {},
   "source": [
    "#### Outliers?"
   ]
  },
  {
   "cell_type": "code",
   "execution_count": null,
   "metadata": {},
   "outputs": [],
   "source": []
  },
  {
   "cell_type": "markdown",
   "metadata": {},
   "source": [
    "### Split"
   ]
  },
  {
   "cell_type": "markdown",
   "metadata": {},
   "source": [
    "Using price as a dependent variable. Assuming our stockholder is a real estate/brokerage company, TBD, who gets a commission on each sale or purchase."
   ]
  },
  {
   "cell_type": "code",
   "execution_count": 7,
   "metadata": {
    "ExecuteTime": {
     "end_time": "2022-03-30T15:39:47.178544Z",
     "start_time": "2022-03-30T15:39:47.169585Z"
    }
   },
   "outputs": [],
   "source": [
    "y = df[\"price\"]\n",
    "X = df.drop(\"price\", axis=1)\n",
    "\n",
    "X_train, X_test, y_train, y_test = train_test_split(X, y, random_state=42, test_size=.33)"
   ]
  },
  {
   "cell_type": "markdown",
   "metadata": {},
   "source": [
    "### Categorical Columns"
   ]
  },
  {
   "cell_type": "markdown",
   "metadata": {},
   "source": [
    "The column 'waterfront' is a binomial categorical variable. The columns 'bathrooms', 'view', 'zipcode', 'condition', and 'grade' are categorical variables. They will need to be converted into a format that can be modeled. \n",
    "\n",
    "Need to drop columns for each. Should make a function to do encoding."
   ]
  },
  {
   "cell_type": "markdown",
   "metadata": {},
   "source": [
    "#### Waterfront"
   ]
  },
  {
   "cell_type": "markdown",
   "metadata": {},
   "source": [
    "The column contains Yes and No values. I'm assuming NAs are Nos so I will be filling them in as such."
   ]
  },
  {
   "cell_type": "code",
   "execution_count": 8,
   "metadata": {
    "ExecuteTime": {
     "end_time": "2022-03-30T15:39:47.185515Z",
     "start_time": "2022-03-30T15:39:47.181540Z"
    }
   },
   "outputs": [],
   "source": [
    "X_train['waterfront'].fillna('NO', inplace=True)\n",
    "X_test['waterfront'].fillna('NO', inplace=True)"
   ]
  },
  {
   "cell_type": "code",
   "execution_count": 9,
   "metadata": {
    "ExecuteTime": {
     "end_time": "2022-03-30T15:39:47.194773Z",
     "start_time": "2022-03-30T15:39:47.187153Z"
    }
   },
   "outputs": [],
   "source": [
    "waterfront_train = X_train[['waterfront']]\n",
    "encoder_waterfront = OrdinalEncoder()\n",
    "encoder_waterfront.fit(waterfront_train)\n",
    "encoder_waterfront.categories_[0]\n",
    "waterfront_encoded_train = encoder_waterfront.transform(waterfront_train)\n",
    "waterfront_encoded_train = waterfront_encoded_train.flatten()\n",
    "X_train[\"waterfront\"] = waterfront_encoded_train"
   ]
  },
  {
   "cell_type": "code",
   "execution_count": 10,
   "metadata": {
    "ExecuteTime": {
     "end_time": "2022-03-30T15:39:47.201448Z",
     "start_time": "2022-03-30T15:39:47.196426Z"
    }
   },
   "outputs": [],
   "source": [
    "waterfront_test = X_test[['waterfront']]\n",
    "encoder_waterfront = OrdinalEncoder()\n",
    "encoder_waterfront.fit(waterfront_test)\n",
    "encoder_waterfront.categories_[0]\n",
    "waterfront_encoded_test = encoder_waterfront.transform(waterfront_test)\n",
    "waterfront_encoded_test = waterfront_encoded_test.flatten()\n",
    "X_test[\"waterfront\"] = waterfront_encoded_test"
   ]
  },
  {
   "cell_type": "markdown",
   "metadata": {},
   "source": [
    "#### View "
   ]
  },
  {
   "cell_type": "markdown",
   "metadata": {},
   "source": [
    "The column 'view' has 5 categories; NONE, AVERAGE, GOOD, FAIR, and EXCELLENT. I'm assuming NAs are NONE so I will be filling them in as such."
   ]
  },
  {
   "cell_type": "markdown",
   "metadata": {},
   "source": [
    "Created a OneHotEncoder function for the categorical variables. "
   ]
  },
  {
   "cell_type": "code",
   "execution_count": 11,
   "metadata": {
    "ExecuteTime": {
     "end_time": "2022-03-30T15:39:47.206424Z",
     "start_time": "2022-03-30T15:39:47.202422Z"
    }
   },
   "outputs": [],
   "source": [
    "X_train['view'].fillna(\"NONE\", inplace=True)\n",
    "X_test['view'].fillna(\"NONE\", inplace=True)"
   ]
  },
  {
   "cell_type": "code",
   "execution_count": 12,
   "metadata": {
    "ExecuteTime": {
     "end_time": "2022-03-30T15:39:47.221373Z",
     "start_time": "2022-03-30T15:39:47.207732Z"
    },
    "scrolled": false
   },
   "outputs": [
    {
     "data": {
      "text/html": [
       "<div>\n",
       "<style scoped>\n",
       "    .dataframe tbody tr th:only-of-type {\n",
       "        vertical-align: middle;\n",
       "    }\n",
       "\n",
       "    .dataframe tbody tr th {\n",
       "        vertical-align: top;\n",
       "    }\n",
       "\n",
       "    .dataframe thead th {\n",
       "        text-align: right;\n",
       "    }\n",
       "</style>\n",
       "<table border=\"1\" class=\"dataframe\">\n",
       "  <thead>\n",
       "    <tr style=\"text-align: right;\">\n",
       "      <th></th>\n",
       "      <th>bedrooms</th>\n",
       "      <th>bathrooms</th>\n",
       "      <th>sqft_living</th>\n",
       "      <th>sqft_lot</th>\n",
       "      <th>floors</th>\n",
       "      <th>waterfront</th>\n",
       "      <th>view</th>\n",
       "      <th>condition</th>\n",
       "      <th>grade</th>\n",
       "      <th>sqft_above</th>\n",
       "      <th>sqft_basement</th>\n",
       "      <th>yr_built</th>\n",
       "      <th>zipcode</th>\n",
       "      <th>lat</th>\n",
       "      <th>long</th>\n",
       "      <th>sqft_living15</th>\n",
       "      <th>sqft_lot15</th>\n",
       "    </tr>\n",
       "  </thead>\n",
       "  <tbody>\n",
       "    <tr>\n",
       "      <th>19709</th>\n",
       "      <td>5</td>\n",
       "      <td>3.75</td>\n",
       "      <td>3330</td>\n",
       "      <td>5042</td>\n",
       "      <td>2.0</td>\n",
       "      <td>0.0</td>\n",
       "      <td>AVERAGE</td>\n",
       "      <td>Average</td>\n",
       "      <td>9 Better</td>\n",
       "      <td>2470</td>\n",
       "      <td>860</td>\n",
       "      <td>2014</td>\n",
       "      <td>98103</td>\n",
       "      <td>47.6497</td>\n",
       "      <td>-122.339</td>\n",
       "      <td>1780</td>\n",
       "      <td>3990</td>\n",
       "    </tr>\n",
       "    <tr>\n",
       "      <th>4800</th>\n",
       "      <td>3</td>\n",
       "      <td>2.00</td>\n",
       "      <td>1678</td>\n",
       "      <td>13862</td>\n",
       "      <td>1.0</td>\n",
       "      <td>0.0</td>\n",
       "      <td>NONE</td>\n",
       "      <td>Average</td>\n",
       "      <td>7 Average</td>\n",
       "      <td>1678</td>\n",
       "      <td>0</td>\n",
       "      <td>1994</td>\n",
       "      <td>98030</td>\n",
       "      <td>47.3744</td>\n",
       "      <td>-122.190</td>\n",
       "      <td>1550</td>\n",
       "      <td>11753</td>\n",
       "    </tr>\n",
       "    <tr>\n",
       "      <th>13225</th>\n",
       "      <td>4</td>\n",
       "      <td>1.00</td>\n",
       "      <td>1550</td>\n",
       "      <td>15239</td>\n",
       "      <td>1.5</td>\n",
       "      <td>1.0</td>\n",
       "      <td>EXCELLENT</td>\n",
       "      <td>Average</td>\n",
       "      <td>6 Low Average</td>\n",
       "      <td>1370</td>\n",
       "      <td>180</td>\n",
       "      <td>1930</td>\n",
       "      <td>98166</td>\n",
       "      <td>47.4502</td>\n",
       "      <td>-122.378</td>\n",
       "      <td>1790</td>\n",
       "      <td>22047</td>\n",
       "    </tr>\n",
       "    <tr>\n",
       "      <th>16111</th>\n",
       "      <td>3</td>\n",
       "      <td>2.50</td>\n",
       "      <td>2760</td>\n",
       "      <td>9471</td>\n",
       "      <td>1.0</td>\n",
       "      <td>0.0</td>\n",
       "      <td>AVERAGE</td>\n",
       "      <td>Average</td>\n",
       "      <td>8 Good</td>\n",
       "      <td>1760</td>\n",
       "      <td>1000</td>\n",
       "      <td>1956</td>\n",
       "      <td>98115</td>\n",
       "      <td>47.6760</td>\n",
       "      <td>-122.272</td>\n",
       "      <td>3040</td>\n",
       "      <td>6765</td>\n",
       "    </tr>\n",
       "    <tr>\n",
       "      <th>17711</th>\n",
       "      <td>2</td>\n",
       "      <td>1.50</td>\n",
       "      <td>1400</td>\n",
       "      <td>5810</td>\n",
       "      <td>2.0</td>\n",
       "      <td>0.0</td>\n",
       "      <td>NONE</td>\n",
       "      <td>Average</td>\n",
       "      <td>7 Average</td>\n",
       "      <td>1400</td>\n",
       "      <td>0</td>\n",
       "      <td>1940</td>\n",
       "      <td>98103</td>\n",
       "      <td>47.6843</td>\n",
       "      <td>-122.341</td>\n",
       "      <td>1470</td>\n",
       "      <td>3920</td>\n",
       "    </tr>\n",
       "    <tr>\n",
       "      <th>...</th>\n",
       "      <td>...</td>\n",
       "      <td>...</td>\n",
       "      <td>...</td>\n",
       "      <td>...</td>\n",
       "      <td>...</td>\n",
       "      <td>...</td>\n",
       "      <td>...</td>\n",
       "      <td>...</td>\n",
       "      <td>...</td>\n",
       "      <td>...</td>\n",
       "      <td>...</td>\n",
       "      <td>...</td>\n",
       "      <td>...</td>\n",
       "      <td>...</td>\n",
       "      <td>...</td>\n",
       "      <td>...</td>\n",
       "      <td>...</td>\n",
       "    </tr>\n",
       "    <tr>\n",
       "      <th>11964</th>\n",
       "      <td>3</td>\n",
       "      <td>2.50</td>\n",
       "      <td>2230</td>\n",
       "      <td>5800</td>\n",
       "      <td>2.0</td>\n",
       "      <td>0.0</td>\n",
       "      <td>NONE</td>\n",
       "      <td>Average</td>\n",
       "      <td>7 Average</td>\n",
       "      <td>2230</td>\n",
       "      <td>0</td>\n",
       "      <td>2004</td>\n",
       "      <td>98065</td>\n",
       "      <td>47.5308</td>\n",
       "      <td>-121.847</td>\n",
       "      <td>2230</td>\n",
       "      <td>6088</td>\n",
       "    </tr>\n",
       "    <tr>\n",
       "      <th>21575</th>\n",
       "      <td>4</td>\n",
       "      <td>2.75</td>\n",
       "      <td>2770</td>\n",
       "      <td>3852</td>\n",
       "      <td>2.0</td>\n",
       "      <td>0.0</td>\n",
       "      <td>NONE</td>\n",
       "      <td>Average</td>\n",
       "      <td>8 Good</td>\n",
       "      <td>2770</td>\n",
       "      <td>0</td>\n",
       "      <td>2014</td>\n",
       "      <td>98178</td>\n",
       "      <td>47.5001</td>\n",
       "      <td>-122.232</td>\n",
       "      <td>1810</td>\n",
       "      <td>5641</td>\n",
       "    </tr>\n",
       "    <tr>\n",
       "      <th>5390</th>\n",
       "      <td>4</td>\n",
       "      <td>1.50</td>\n",
       "      <td>1530</td>\n",
       "      <td>9000</td>\n",
       "      <td>1.0</td>\n",
       "      <td>0.0</td>\n",
       "      <td>NONE</td>\n",
       "      <td>Good</td>\n",
       "      <td>6 Low Average</td>\n",
       "      <td>1530</td>\n",
       "      <td>0</td>\n",
       "      <td>1976</td>\n",
       "      <td>98014</td>\n",
       "      <td>47.6492</td>\n",
       "      <td>-121.908</td>\n",
       "      <td>1520</td>\n",
       "      <td>8500</td>\n",
       "    </tr>\n",
       "    <tr>\n",
       "      <th>860</th>\n",
       "      <td>1</td>\n",
       "      <td>0.75</td>\n",
       "      <td>380</td>\n",
       "      <td>15000</td>\n",
       "      <td>1.0</td>\n",
       "      <td>0.0</td>\n",
       "      <td>NONE</td>\n",
       "      <td>Average</td>\n",
       "      <td>5 Fair</td>\n",
       "      <td>380</td>\n",
       "      <td>0</td>\n",
       "      <td>1963</td>\n",
       "      <td>98168</td>\n",
       "      <td>47.4810</td>\n",
       "      <td>-122.323</td>\n",
       "      <td>1170</td>\n",
       "      <td>15000</td>\n",
       "    </tr>\n",
       "    <tr>\n",
       "      <th>15795</th>\n",
       "      <td>4</td>\n",
       "      <td>2.50</td>\n",
       "      <td>2755</td>\n",
       "      <td>11612</td>\n",
       "      <td>2.0</td>\n",
       "      <td>0.0</td>\n",
       "      <td>NONE</td>\n",
       "      <td>Average</td>\n",
       "      <td>8 Good</td>\n",
       "      <td>2755</td>\n",
       "      <td>0</td>\n",
       "      <td>2001</td>\n",
       "      <td>98019</td>\n",
       "      <td>47.7394</td>\n",
       "      <td>-121.965</td>\n",
       "      <td>2820</td>\n",
       "      <td>12831</td>\n",
       "    </tr>\n",
       "  </tbody>\n",
       "</table>\n",
       "<p>14469 rows × 17 columns</p>\n",
       "</div>"
      ],
      "text/plain": [
       "       bedrooms  bathrooms  sqft_living  sqft_lot  floors  waterfront  \\\n",
       "19709         5       3.75         3330      5042     2.0         0.0   \n",
       "4800          3       2.00         1678     13862     1.0         0.0   \n",
       "13225         4       1.00         1550     15239     1.5         1.0   \n",
       "16111         3       2.50         2760      9471     1.0         0.0   \n",
       "17711         2       1.50         1400      5810     2.0         0.0   \n",
       "...         ...        ...          ...       ...     ...         ...   \n",
       "11964         3       2.50         2230      5800     2.0         0.0   \n",
       "21575         4       2.75         2770      3852     2.0         0.0   \n",
       "5390          4       1.50         1530      9000     1.0         0.0   \n",
       "860           1       0.75          380     15000     1.0         0.0   \n",
       "15795         4       2.50         2755     11612     2.0         0.0   \n",
       "\n",
       "            view condition          grade  sqft_above  sqft_basement  \\\n",
       "19709    AVERAGE   Average       9 Better        2470            860   \n",
       "4800        NONE   Average      7 Average        1678              0   \n",
       "13225  EXCELLENT   Average  6 Low Average        1370            180   \n",
       "16111    AVERAGE   Average         8 Good        1760           1000   \n",
       "17711       NONE   Average      7 Average        1400              0   \n",
       "...          ...       ...            ...         ...            ...   \n",
       "11964       NONE   Average      7 Average        2230              0   \n",
       "21575       NONE   Average         8 Good        2770              0   \n",
       "5390        NONE      Good  6 Low Average        1530              0   \n",
       "860         NONE   Average         5 Fair         380              0   \n",
       "15795       NONE   Average         8 Good        2755              0   \n",
       "\n",
       "       yr_built  zipcode      lat     long  sqft_living15  sqft_lot15  \n",
       "19709      2014    98103  47.6497 -122.339           1780        3990  \n",
       "4800       1994    98030  47.3744 -122.190           1550       11753  \n",
       "13225      1930    98166  47.4502 -122.378           1790       22047  \n",
       "16111      1956    98115  47.6760 -122.272           3040        6765  \n",
       "17711      1940    98103  47.6843 -122.341           1470        3920  \n",
       "...         ...      ...      ...      ...            ...         ...  \n",
       "11964      2004    98065  47.5308 -121.847           2230        6088  \n",
       "21575      2014    98178  47.5001 -122.232           1810        5641  \n",
       "5390       1976    98014  47.6492 -121.908           1520        8500  \n",
       "860        1963    98168  47.4810 -122.323           1170       15000  \n",
       "15795      2001    98019  47.7394 -121.965           2820       12831  \n",
       "\n",
       "[14469 rows x 17 columns]"
      ]
     },
     "execution_count": 12,
     "metadata": {},
     "output_type": "execute_result"
    }
   ],
   "source": [
    "X_train"
   ]
  },
  {
   "cell_type": "code",
   "execution_count": 13,
   "metadata": {
    "ExecuteTime": {
     "end_time": "2022-03-30T15:39:47.223675Z",
     "start_time": "2022-03-30T15:39:47.222304Z"
    }
   },
   "outputs": [],
   "source": [
    "#ohe = OneHotEncoder(sparse=False, handle_unknown=\"ignore\")"
   ]
  },
  {
   "cell_type": "code",
   "execution_count": 20,
   "metadata": {
    "ExecuteTime": {
     "end_time": "2022-03-30T15:40:49.179698Z",
     "start_time": "2022-03-30T15:40:49.170149Z"
    }
   },
   "outputs": [],
   "source": [
    "def ohe(df, df2, column):    \n",
    "    for col in column:\n",
    "        train = df[[col]]\n",
    "        ohe = OneHotEncoder(drop=\"first\", sparse=False, handle_unknown=\"error\")\n",
    "        ohe.fit(train)\n",
    "        encoded_train = ohe.transform(train)\n",
    "        col_names = [f\"{col}_{f}\" for f in ohe.get_feature_names()]\n",
    "        encoded_train = pd.DataFrame(encoded_train,\n",
    "                                     columns=col_names, index=df.index)\n",
    "        df = pd.concat([df, encoded_train], axis=1)\n",
    "        \n",
    "        test = df2[[col]]\n",
    "        encoded_test = ohe.transform(test)\n",
    "        col_names = [f\"{col}_{f}\" for f in ohe.get_feature_names()]\n",
    "        encoded_test = pd.DataFrame(encoded_test, \n",
    "                                    columns=col_names, index=df2.index)\n",
    "        df2 = pd.concat([df2, encoded_test], axis=1)\n",
    "    return df, df2, encoded_train.columns.tolist()"
   ]
  },
  {
   "cell_type": "code",
   "execution_count": 21,
   "metadata": {
    "ExecuteTime": {
     "end_time": "2022-03-30T15:40:49.215548Z",
     "start_time": "2022-03-30T15:40:49.183072Z"
    }
   },
   "outputs": [],
   "source": [
    "X_train, X_test, encoded_view = ohe(X_train, X_test, ['view'])"
   ]
  },
  {
   "cell_type": "code",
   "execution_count": 22,
   "metadata": {
    "ExecuteTime": {
     "end_time": "2022-03-30T15:40:49.223711Z",
     "start_time": "2022-03-30T15:40:49.217988Z"
    }
   },
   "outputs": [],
   "source": [
    "# Change view rating to a numeric value for comparitive purposes.\n",
    "X_train['view'] = X_train['view'].map({'EXCELLENT':5,\n",
    "                             'GOOD':4,\n",
    "                             'AVERAGE':3,\n",
    "                             'FAIR':2,\n",
    "                             'NONE':1})"
   ]
  },
  {
   "cell_type": "code",
   "execution_count": 23,
   "metadata": {
    "ExecuteTime": {
     "end_time": "2022-03-30T15:40:49.229245Z",
     "start_time": "2022-03-30T15:40:49.225297Z"
    }
   },
   "outputs": [],
   "source": [
    "X_test['view'] = X_test['view'].map({'EXCELLENT':5,\n",
    "                             'GOOD':4,\n",
    "                             'AVERAGE':3,\n",
    "                             'FAIR':2,\n",
    "                             'NONE':1})"
   ]
  },
  {
   "cell_type": "markdown",
   "metadata": {},
   "source": [
    "#### Condition "
   ]
  },
  {
   "cell_type": "code",
   "execution_count": 24,
   "metadata": {
    "ExecuteTime": {
     "end_time": "2022-03-30T15:40:49.254961Z",
     "start_time": "2022-03-30T15:40:49.230389Z"
    }
   },
   "outputs": [],
   "source": [
    "X_train, X_test, encoded_condition = ohe(X_train, X_test, ['condition'])"
   ]
  },
  {
   "cell_type": "code",
   "execution_count": 25,
   "metadata": {
    "ExecuteTime": {
     "end_time": "2022-03-30T15:40:49.260613Z",
     "start_time": "2022-03-30T15:40:49.256206Z"
    }
   },
   "outputs": [],
   "source": [
    "# Change condition rating to a numeric value for comparitive purposes.\n",
    "X_train['condition'] = X_train['condition'].map({'Very Good':5,\n",
    "                                       'Good':4,\n",
    "                                       'Average':3,\n",
    "                                       'Fair':2,\n",
    "                                       'Poor':1})"
   ]
  },
  {
   "cell_type": "code",
   "execution_count": 26,
   "metadata": {
    "ExecuteTime": {
     "end_time": "2022-03-30T15:40:49.266004Z",
     "start_time": "2022-03-30T15:40:49.261737Z"
    }
   },
   "outputs": [],
   "source": [
    "X_test['condition'] = X_test['condition'].map({'Very Good':5,\n",
    "                                       'Good':4,\n",
    "                                       'Average':3,\n",
    "                                       'Fair':2,\n",
    "                                       'Poor':1})"
   ]
  },
  {
   "cell_type": "markdown",
   "metadata": {},
   "source": [
    "#### Grade "
   ]
  },
  {
   "cell_type": "code",
   "execution_count": 27,
   "metadata": {
    "ExecuteTime": {
     "end_time": "2022-03-30T15:40:49.284184Z",
     "start_time": "2022-03-30T15:40:49.268901Z"
    }
   },
   "outputs": [],
   "source": [
    "X_train, X_test, encoded_grade = ohe(X_train, X_test, ['grade'])"
   ]
  },
  {
   "cell_type": "markdown",
   "metadata": {},
   "source": [
    "#### Zipcode "
   ]
  },
  {
   "cell_type": "code",
   "execution_count": 28,
   "metadata": {
    "ExecuteTime": {
     "end_time": "2022-03-30T15:40:49.306897Z",
     "start_time": "2022-03-30T15:40:49.285999Z"
    }
   },
   "outputs": [],
   "source": [
    "X_train, X_test, encoded_zipcode = ohe(X_train, X_test, ['zipcode'])"
   ]
  },
  {
   "cell_type": "markdown",
   "metadata": {},
   "source": [
    "### Models"
   ]
  },
  {
   "cell_type": "code",
   "execution_count": 42,
   "metadata": {
    "ExecuteTime": {
     "end_time": "2022-03-30T15:45:18.340924Z",
     "start_time": "2022-03-30T15:45:18.303761Z"
    },
    "scrolled": true
   },
   "outputs": [
    {
     "data": {
      "text/plain": [
       "price            1.000000\n",
       "sqft_living      0.701917\n",
       "sqft_above       0.605368\n",
       "sqft_living15    0.585241\n",
       "bathrooms        0.525906\n",
       "sqft_basement    0.323799\n",
       "bedrooms         0.308787\n",
       "lat              0.306692\n",
       "floors           0.256804\n",
       "sqft_lot         0.089876\n",
       "sqft_lot15       0.082845\n",
       "yr_built         0.053953\n",
       "zipcode          0.053402\n",
       "long             0.022036\n",
       "Name: price, dtype: float64"
      ]
     },
     "execution_count": 42,
     "metadata": {},
     "output_type": "execute_result"
    }
   ],
   "source": [
    "df.corr().price.abs().sort_values(ascending=False)"
   ]
  },
  {
   "cell_type": "markdown",
   "metadata": {},
   "source": [
    "#### Model 1"
   ]
  },
  {
   "cell_type": "markdown",
   "metadata": {},
   "source": [
    "Using columns sqft_living, bedrooms, sqft_living15, and the columns created from encoding 'grade'."
   ]
  },
  {
   "cell_type": "code",
   "execution_count": 43,
   "metadata": {
    "ExecuteTime": {
     "end_time": "2022-03-30T15:45:18.370255Z",
     "start_time": "2022-03-30T15:45:18.361668Z"
    }
   },
   "outputs": [],
   "source": [
    "cols = ['sqft_living', 'bedrooms', 'sqft_living15'] +  encoded_grade\n",
    "y = y_train\n",
    "x = X_train.filter(cols, axis=1)\n",
    "\n",
    "y2 = y_test\n",
    "x2 = X_test.filter(cols, axis=1)"
   ]
  },
  {
   "cell_type": "code",
   "execution_count": 44,
   "metadata": {
    "ExecuteTime": {
     "end_time": "2022-03-30T15:45:18.412140Z",
     "start_time": "2022-03-30T15:45:18.371716Z"
    }
   },
   "outputs": [
    {
     "name": "stdout",
     "output_type": "stream",
     "text": [
      "Training Score: 0.5899636309664652\n",
      "Test Score: 0.5694433258427583\n"
     ]
    }
   ],
   "source": [
    "scaler = StandardScaler()\n",
    "scaler.fit(x)\n",
    "X_train_scaled = scaler.transform(x)\n",
    "X_test_scaled = scaler.transform(x2)\n",
    "\n",
    "lr = LinearRegression()\n",
    "lr.fit(X_train_scaled,y_train)\n",
    "\n",
    "train_preds = lr.predict(X_train_scaled)\n",
    "test_preds = lr.predict(X_test_scaled)\n",
    "\n",
    "print('Training Score:',r2_score(y_train,train_preds))\n",
    "print('Test Score:',r2_score(y_test,test_preds))"
   ]
  },
  {
   "cell_type": "markdown",
   "metadata": {},
   "source": [
    "#### Model 2"
   ]
  },
  {
   "cell_type": "markdown",
   "metadata": {},
   "source": [
    "Using columns sqft_living, 'sqft_living15', 'bathrooms', and the columns created from encoding 'zipcode'.\n",
    "\n",
    "Note the difference between entering the encoding for 'zipcode' and actually entering 'zipcode'. The encoding gives us a higher R2 value, however, it also gives you a much larger RSME Error."
   ]
  },
  {
   "cell_type": "code",
   "execution_count": 45,
   "metadata": {
    "ExecuteTime": {
     "end_time": "2022-03-30T15:45:18.437637Z",
     "start_time": "2022-03-30T15:45:18.414911Z"
    }
   },
   "outputs": [],
   "source": [
    "cols = ['sqft_living', 'bathrooms', 'sqft_living15'] +  encoded_zipcode\n",
    "y = y_train\n",
    "x = X_train.filter(cols, axis=1)\n",
    "\n",
    "y2 = y_test\n",
    "x2 = X_test.filter(cols, axis=1)\n"
   ]
  },
  {
   "cell_type": "code",
   "execution_count": 46,
   "metadata": {
    "ExecuteTime": {
     "end_time": "2022-03-30T15:45:18.681995Z",
     "start_time": "2022-03-30T15:45:18.441113Z"
    }
   },
   "outputs": [
    {
     "name": "stdout",
     "output_type": "stream",
     "text": [
      "Training Score: 0.7361599030747257\n",
      "Test Score: 0.7327111247438015\n"
     ]
    }
   ],
   "source": [
    "scaler = StandardScaler()\n",
    "scaler.fit(x)\n",
    "X_train_scaled = scaler.transform(x)\n",
    "X_test_scaled = scaler.transform(x2)\n",
    "\n",
    "lr = LinearRegression()\n",
    "lr.fit(X_train_scaled,y_train)\n",
    "\n",
    "train_preds = lr.predict(X_train_scaled)\n",
    "test_preds = lr.predict(X_test_scaled)\n",
    "\n",
    "print('Training Score:',r2_score(y_train,train_preds))\n",
    "print('Test Score:',r2_score(y_test,test_preds))"
   ]
  },
  {
   "cell_type": "code",
   "execution_count": 47,
   "metadata": {
    "ExecuteTime": {
     "end_time": "2022-03-30T15:45:18.687811Z",
     "start_time": "2022-03-30T15:45:18.683166Z"
    }
   },
   "outputs": [
    {
     "name": "stdout",
     "output_type": "stream",
     "text": [
      "Training Metrics:\n",
      "R2: 0.736\n",
      "Mean Absolute Error: 112073.633\n",
      "Mean Squared Error: 36151449061.468\n",
      "Root Mean Squared Error: 190135.344\n"
     ]
    }
   ],
   "source": [
    "print(\"Training Metrics:\")\n",
    "print(f\"R2: {r2_score(y_train, train_preds):.3f}\")\n",
    "print(f\"Mean Absolute Error: {mean_absolute_error(y_train, train_preds):.3f}\")\n",
    "print(f\"Mean Squared Error: {mean_squared_error(y_train, train_preds):.3f}\")\n",
    "print(f\"Root Mean Squared Error: {mean_squared_error(y_train, train_preds, squared=False):.3f}\")"
   ]
  },
  {
   "cell_type": "code",
   "execution_count": 48,
   "metadata": {
    "ExecuteTime": {
     "end_time": "2022-03-30T15:45:18.693270Z",
     "start_time": "2022-03-30T15:45:18.688961Z"
    }
   },
   "outputs": [
    {
     "name": "stdout",
     "output_type": "stream",
     "text": [
      "Testing Metrics:\n",
      "R2: 0.733\n",
      "Mean Absolute Error: 109660.014\n",
      "Mean Squared Error: 34944610690.996\n",
      "Root Mean Squared Error: 186934.777\n"
     ]
    }
   ],
   "source": [
    "print(\"Testing Metrics:\")\n",
    "print(f\"R2: {r2_score(y_test, test_preds):.3f}\")\n",
    "print(f\"Mean Absolute Error: {mean_absolute_error(y_test, test_preds):.3f}\")\n",
    "print(f\"Mean Squared Error: {mean_squared_error(y_test, test_preds):.3f}\")\n",
    "print(f\"Root Mean Squared Error: {mean_squared_error(y_test, test_preds, squared=False):.3f}\")"
   ]
  },
  {
   "cell_type": "markdown",
   "metadata": {},
   "source": [
    "Compared to using unencoded zipcode "
   ]
  },
  {
   "cell_type": "code",
   "execution_count": 49,
   "metadata": {
    "ExecuteTime": {
     "end_time": "2022-03-30T15:45:18.698272Z",
     "start_time": "2022-03-30T15:45:18.694600Z"
    }
   },
   "outputs": [],
   "source": [
    "cols = ['sqft_living', 'bathrooms', 'sqft_living15', 'zipcode']\n",
    "y = y_train\n",
    "x = X_train.filter(cols, axis=1)\n",
    "\n",
    "y2 = y_test\n",
    "x2 = X_test.filter(cols, axis=1)"
   ]
  },
  {
   "cell_type": "code",
   "execution_count": 50,
   "metadata": {
    "ExecuteTime": {
     "end_time": "2022-03-30T15:45:18.723411Z",
     "start_time": "2022-03-30T15:45:18.701350Z"
    },
    "scrolled": false
   },
   "outputs": [
    {
     "name": "stdout",
     "output_type": "stream",
     "text": [
      "Training Score: 0.5125951324010141\n",
      "Test Score: 0.5073895822722052\n"
     ]
    }
   ],
   "source": [
    "scaler = StandardScaler()\n",
    "scaler.fit(x)\n",
    "X_train_scaled = scaler.transform(x)\n",
    "X_test_scaled = scaler.transform(x2)\n",
    "\n",
    "lr = LinearRegression()\n",
    "lr.fit(X_train_scaled,y_train)\n",
    "\n",
    "train_preds = lr.predict(X_train_scaled)\n",
    "test_preds = lr.predict(X_test_scaled)\n",
    "\n",
    "print('Training Score:',r2_score(y_train,train_preds))\n",
    "print('Test Score:',r2_score(y_test,test_preds))"
   ]
  },
  {
   "cell_type": "code",
   "execution_count": 51,
   "metadata": {
    "ExecuteTime": {
     "end_time": "2022-03-30T15:45:18.730527Z",
     "start_time": "2022-03-30T15:45:18.726286Z"
    }
   },
   "outputs": [
    {
     "name": "stdout",
     "output_type": "stream",
     "text": [
      "Training Metrics:\n",
      "R2: 0.513\n",
      "Mean Absolute Error: 170407.192\n",
      "Mean Squared Error: 66784360863.493\n",
      "Root Mean Squared Error: 258426.703\n"
     ]
    }
   ],
   "source": [
    "print(\"Training Metrics:\")\n",
    "print(f\"R2: {r2_score(y_train, train_preds):.3f}\")\n",
    "print(f\"Mean Absolute Error: {mean_absolute_error(y_train, train_preds):.3f}\")\n",
    "print(f\"Mean Squared Error: {mean_squared_error(y_train, train_preds):.3f}\")\n",
    "print(f\"Root Mean Squared Error: {mean_squared_error(y_train, train_preds, squared=False):.3f}\")"
   ]
  },
  {
   "cell_type": "code",
   "execution_count": 52,
   "metadata": {
    "ExecuteTime": {
     "end_time": "2022-03-30T15:45:18.737590Z",
     "start_time": "2022-03-30T15:45:18.731505Z"
    }
   },
   "outputs": [
    {
     "name": "stdout",
     "output_type": "stream",
     "text": [
      "Testing Metrics:\n",
      "R2: 0.507\n",
      "Mean Absolute Error: 167299.129\n",
      "Mean Squared Error: 64402527988.966\n",
      "Root Mean Squared Error: 253776.532\n"
     ]
    }
   ],
   "source": [
    "print(\"Testing Metrics:\")\n",
    "print(f\"R2: {r2_score(y_test, test_preds):.3f}\")\n",
    "print(f\"Mean Absolute Error: {mean_absolute_error(y_test, test_preds):.3f}\")\n",
    "print(f\"Mean Squared Error: {mean_squared_error(y_test, test_preds):.3f}\")\n",
    "print(f\"Root Mean Squared Error: {mean_squared_error(y_test, test_preds, squared=False):.3f}\")"
   ]
  },
  {
   "cell_type": "markdown",
   "metadata": {},
   "source": [
    "#### Model 3"
   ]
  },
  {
   "cell_type": "markdown",
   "metadata": {},
   "source": [
    "Using columns  'sqft_living', 'bedrooms', 'sqft_living15', and the columns created from encoding 'zipcode'."
   ]
  },
  {
   "cell_type": "code",
   "execution_count": 53,
   "metadata": {
    "ExecuteTime": {
     "end_time": "2022-03-30T15:45:18.742678Z",
     "start_time": "2022-03-30T15:45:18.738582Z"
    }
   },
   "outputs": [],
   "source": [
    "cols = ['sqft_living', 'bedrooms', 'sqft_living15'] +  encoded_zipcode\n",
    "y = y_train\n",
    "x = X_train.filter(cols, axis=1)\n",
    "\n",
    "y2 = y_test\n",
    "x2 = X_test.filter(cols, axis=1)"
   ]
  },
  {
   "cell_type": "code",
   "execution_count": 54,
   "metadata": {
    "ExecuteTime": {
     "end_time": "2022-03-30T15:45:18.975719Z",
     "start_time": "2022-03-30T15:45:18.743537Z"
    }
   },
   "outputs": [
    {
     "name": "stdout",
     "output_type": "stream",
     "text": [
      "Training Score: 0.742883945094359\n",
      "Test Score: 0.7410110160941886\n"
     ]
    }
   ],
   "source": [
    "scaler = StandardScaler()\n",
    "scaler.fit(x)\n",
    "X_train_scaled = scaler.transform(x)\n",
    "X_test_scaled = scaler.transform(x2)\n",
    "\n",
    "lr = LinearRegression()\n",
    "lr.fit(X_train_scaled,y_train)\n",
    "\n",
    "train_preds = lr.predict(X_train_scaled)\n",
    "test_preds = lr.predict(X_test_scaled)\n",
    "\n",
    "print('Training Score:',r2_score(y_train,train_preds))\n",
    "print('Test Score:',r2_score(y_test,test_preds))"
   ]
  },
  {
   "cell_type": "code",
   "execution_count": 55,
   "metadata": {
    "ExecuteTime": {
     "end_time": "2022-03-30T15:45:18.981220Z",
     "start_time": "2022-03-30T15:45:18.976715Z"
    }
   },
   "outputs": [
    {
     "name": "stdout",
     "output_type": "stream",
     "text": [
      "Training Metrics:\n",
      "R2: 0.743\n",
      "Mean Absolute Error: 111294.639\n",
      "Mean Squared Error: 35230118811.090\n",
      "Root Mean Squared Error: 187696.880\n"
     ]
    }
   ],
   "source": [
    "print(\"Training Metrics:\")\n",
    "print(f\"R2: {r2_score(y, train_preds):.3f}\")\n",
    "print(f\"Mean Absolute Error: {mean_absolute_error(y, train_preds):.3f}\")\n",
    "print(f\"Mean Squared Error: {mean_squared_error(y, train_preds):.3f}\")\n",
    "print(f\"Root Mean Squared Error: {mean_squared_error(y, train_preds, squared=False):.3f}\")"
   ]
  },
  {
   "cell_type": "code",
   "execution_count": 56,
   "metadata": {
    "ExecuteTime": {
     "end_time": "2022-03-30T15:45:18.986320Z",
     "start_time": "2022-03-30T15:45:18.982249Z"
    }
   },
   "outputs": [
    {
     "name": "stdout",
     "output_type": "stream",
     "text": [
      "Testing Metrics:\n",
      "R2: 0.741\n",
      "Mean Absolute Error: 108795.114\n",
      "Mean Squared Error: 33859505776.926\n",
      "Root Mean Squared Error: 184009.526\n"
     ]
    }
   ],
   "source": [
    "print(\"Testing Metrics:\")\n",
    "print(f\"R2: {r2_score(y_test, test_preds):.3f}\")\n",
    "print(f\"Mean Absolute Error: {mean_absolute_error(y_test, test_preds):.3f}\")\n",
    "print(f\"Mean Squared Error: {mean_squared_error(y_test, test_preds):.3f}\")\n",
    "print(f\"Root Mean Squared Error: {mean_squared_error(y_test, test_preds, squared=False):.3f}\")"
   ]
  },
  {
   "cell_type": "markdown",
   "metadata": {},
   "source": [
    "#### Model 4"
   ]
  },
  {
   "cell_type": "markdown",
   "metadata": {},
   "source": [
    "Using columns 'sqft_living', 'bedrooms', and the columns created from encoding 'zipcode' and 'condition'."
   ]
  },
  {
   "cell_type": "code",
   "execution_count": 57,
   "metadata": {
    "ExecuteTime": {
     "end_time": "2022-03-30T15:45:18.993839Z",
     "start_time": "2022-03-30T15:45:18.987278Z"
    }
   },
   "outputs": [],
   "source": [
    "cols = ['sqft_living', 'bedrooms'] +  encoded_zipcode + encoded_condition\n",
    "y = y_train\n",
    "x = X_train.filter(cols, axis=1)\n",
    "\n",
    "y2 = y_test\n",
    "x2 = X_test.filter(cols, axis=1)"
   ]
  },
  {
   "cell_type": "code",
   "execution_count": 58,
   "metadata": {
    "ExecuteTime": {
     "end_time": "2022-03-30T15:45:19.227236Z",
     "start_time": "2022-03-30T15:45:18.995802Z"
    }
   },
   "outputs": [
    {
     "name": "stdout",
     "output_type": "stream",
     "text": [
      "Training Score: 0.7392180814648154\n",
      "Test Score: 0.7409647556468758\n"
     ]
    }
   ],
   "source": [
    "scaler = StandardScaler()\n",
    "scaler.fit(x)\n",
    "X_train_scaled = scaler.transform(x)\n",
    "X_test_scaled = scaler.transform(x2)\n",
    "\n",
    "lr = LinearRegression()\n",
    "lr.fit(X_train_scaled,y_train)\n",
    "\n",
    "train_preds = lr.predict(X_train_scaled)\n",
    "test_preds = lr.predict(X_test_scaled)\n",
    "\n",
    "print('Training Score:',r2_score(y_train,train_preds))\n",
    "print('Test Score:',r2_score(y_test,test_preds))"
   ]
  },
  {
   "cell_type": "code",
   "execution_count": 59,
   "metadata": {
    "ExecuteTime": {
     "end_time": "2022-03-30T15:45:19.232721Z",
     "start_time": "2022-03-30T15:45:19.228291Z"
    }
   },
   "outputs": [
    {
     "name": "stdout",
     "output_type": "stream",
     "text": [
      "Training Metrics:\n",
      "R2: 0.739\n",
      "Mean Absolute Error: 111371.347\n",
      "Mean Squared Error: 35732416542.990\n",
      "Root Mean Squared Error: 189030.200\n"
     ]
    }
   ],
   "source": [
    "print(\"Training Metrics:\")\n",
    "print(f\"R2: {r2_score(y_train, train_preds):.3f}\")\n",
    "print(f\"Mean Absolute Error: {mean_absolute_error(y_train, train_preds):.3f}\")\n",
    "print(f\"Mean Squared Error: {mean_squared_error(y_train, train_preds):.3f}\")\n",
    "print(f\"Root Mean Squared Error: {mean_squared_error(y_train, train_preds, squared=False):.3f}\")"
   ]
  },
  {
   "cell_type": "code",
   "execution_count": 60,
   "metadata": {
    "ExecuteTime": {
     "end_time": "2022-03-30T15:45:19.237924Z",
     "start_time": "2022-03-30T15:45:19.233976Z"
    }
   },
   "outputs": [
    {
     "name": "stdout",
     "output_type": "stream",
     "text": [
      "Testing Metrics:\n",
      "R2: 0.741\n",
      "Mean Absolute Error: 108173.505\n",
      "Mean Squared Error: 33865553740.277\n",
      "Root Mean Squared Error: 184025.959\n"
     ]
    }
   ],
   "source": [
    "print(\"Testing Metrics:\")\n",
    "print(f\"R2: {r2_score(y_test, test_preds):.3f}\")\n",
    "print(f\"Mean Absolute Error: {mean_absolute_error(y_test, test_preds):.3f}\")\n",
    "print(f\"Mean Squared Error: {mean_squared_error(y_test, test_preds):.3f}\")\n",
    "print(f\"Root Mean Squared Error: {mean_squared_error(y_test, test_preds, squared=False):.3f}\")"
   ]
  },
  {
   "cell_type": "markdown",
   "metadata": {},
   "source": [
    "#### Model 5"
   ]
  },
  {
   "cell_type": "markdown",
   "metadata": {},
   "source": [
    "Using columns 'sqft_living', 'bedrooms', 'bathrooms', 'condition', 'view', and the columns created from encoding 'zipcode'. "
   ]
  },
  {
   "cell_type": "code",
   "execution_count": 61,
   "metadata": {
    "ExecuteTime": {
     "end_time": "2022-03-30T15:45:19.243151Z",
     "start_time": "2022-03-30T15:45:19.238846Z"
    }
   },
   "outputs": [],
   "source": [
    "cols = ['sqft_living', 'bedrooms', 'bathrooms', 'condition', 'view'] +  encoded_zipcode\n",
    "y = y_train\n",
    "x = X_train.filter(cols, axis=1)\n",
    "\n",
    "y2 = y_test\n",
    "x2 = X_test.filter(cols, axis=1)"
   ]
  },
  {
   "cell_type": "code",
   "execution_count": 62,
   "metadata": {
    "ExecuteTime": {
     "end_time": "2022-03-30T15:45:19.466707Z",
     "start_time": "2022-03-30T15:45:19.244666Z"
    }
   },
   "outputs": [
    {
     "name": "stdout",
     "output_type": "stream",
     "text": [
      "Training Score: 0.7703318967332109\n",
      "Test Score: 0.7628512788986122\n"
     ]
    }
   ],
   "source": [
    "scaler = StandardScaler()\n",
    "scaler.fit(x)\n",
    "X_train_scaled = scaler.transform(x)\n",
    "X_test_scaled = scaler.transform(x2)\n",
    "\n",
    "lr = LinearRegression()\n",
    "lr.fit(X_train_scaled,y_train)\n",
    "\n",
    "train_preds = lr.predict(X_train_scaled)\n",
    "test_preds = lr.predict(X_test_scaled)\n",
    "\n",
    "print('Training Score:',r2_score(y_train,train_preds))\n",
    "print('Test Score:',r2_score(y_test,test_preds))"
   ]
  },
  {
   "cell_type": "code",
   "execution_count": 63,
   "metadata": {
    "ExecuteTime": {
     "end_time": "2022-03-30T15:45:19.471219Z",
     "start_time": "2022-03-30T15:45:19.467653Z"
    }
   },
   "outputs": [
    {
     "name": "stdout",
     "output_type": "stream",
     "text": [
      "Training Metrics:\n",
      "R2: 0.770\n",
      "Mean Absolute Error: 105420.161\n",
      "Mean Squared Error: 31469192260.966\n",
      "Root Mean Squared Error: 177395.581\n"
     ]
    }
   ],
   "source": [
    "print(\"Training Metrics:\")\n",
    "print(f\"R2: {r2_score(y_train, train_preds):.3f}\")\n",
    "print(f\"Mean Absolute Error: {mean_absolute_error(y_train, train_preds):.3f}\")\n",
    "print(f\"Mean Squared Error: {mean_squared_error(y_train, train_preds):.3f}\")\n",
    "print(f\"Root Mean Squared Error: {mean_squared_error(y_train, train_preds, squared=False):.3f}\")"
   ]
  },
  {
   "cell_type": "code",
   "execution_count": 64,
   "metadata": {
    "ExecuteTime": {
     "end_time": "2022-03-30T15:45:19.475998Z",
     "start_time": "2022-03-30T15:45:19.472145Z"
    }
   },
   "outputs": [
    {
     "name": "stdout",
     "output_type": "stream",
     "text": [
      "Testing Metrics:\n",
      "R2: 0.763\n",
      "Mean Absolute Error: 103148.620\n",
      "Mean Squared Error: 31004170026.951\n",
      "Root Mean Squared Error: 176080.010\n"
     ]
    }
   ],
   "source": [
    "print(\"Testing Metrics:\")\n",
    "print(f\"R2: {r2_score(y_test, test_preds):.3f}\")\n",
    "print(f\"Mean Absolute Error: {mean_absolute_error(y_test, test_preds):.3f}\")\n",
    "print(f\"Mean Squared Error: {mean_squared_error(y_test, test_preds):.3f}\")\n",
    "print(f\"Root Mean Squared Error: {mean_squared_error(y_test, test_preds, squared=False):.3f}\")"
   ]
  },
  {
   "cell_type": "markdown",
   "metadata": {},
   "source": [
    "##### model 5.0"
   ]
  },
  {
   "cell_type": "markdown",
   "metadata": {},
   "source": [
    "Compared to encoded view and condition."
   ]
  },
  {
   "cell_type": "code",
   "execution_count": 69,
   "metadata": {
    "ExecuteTime": {
     "end_time": "2022-03-30T15:51:04.218294Z",
     "start_time": "2022-03-30T15:51:04.180375Z"
    }
   },
   "outputs": [],
   "source": [
    "cols = ['sqft_living', 'bedrooms', 'bathrooms'] + encoded_condition + encoded_view + encoded_zipcode\n",
    "y = y_train\n",
    "x = X_train.filter(cols, axis=1)\n",
    "\n",
    "y2 = y_test\n",
    "x2 = X_test.filter(cols, axis=1)"
   ]
  },
  {
   "cell_type": "code",
   "execution_count": 70,
   "metadata": {
    "ExecuteTime": {
     "end_time": "2022-03-30T15:51:04.920125Z",
     "start_time": "2022-03-30T15:51:04.674120Z"
    }
   },
   "outputs": [
    {
     "name": "stdout",
     "output_type": "stream",
     "text": [
      "Training Score: 0.7801453890155033\n",
      "Test Score: 0.7717335916453081\n"
     ]
    }
   ],
   "source": [
    "scaler = StandardScaler()\n",
    "scaler.fit(x)\n",
    "X_train_scaled = scaler.transform(x)\n",
    "X_test_scaled = scaler.transform(x2)\n",
    "\n",
    "lr = LinearRegression()\n",
    "lr.fit(X_train_scaled,y_train)\n",
    "\n",
    "train_preds = lr.predict(X_train_scaled)\n",
    "test_preds = lr.predict(X_test_scaled)\n",
    "\n",
    "print('Training Score:',r2_score(y_train,train_preds))\n",
    "print('Test Score:',r2_score(y_test,test_preds))"
   ]
  },
  {
   "cell_type": "code",
   "execution_count": 71,
   "metadata": {
    "ExecuteTime": {
     "end_time": "2022-03-30T15:51:06.216578Z",
     "start_time": "2022-03-30T15:51:06.202447Z"
    }
   },
   "outputs": [
    {
     "name": "stdout",
     "output_type": "stream",
     "text": [
      "Training Metrics:\n",
      "R2: 0.780\n",
      "Mean Absolute Error: 103387.581\n",
      "Mean Squared Error: 30124544610.769\n",
      "Root Mean Squared Error: 173564.238\n"
     ]
    }
   ],
   "source": [
    "print(\"Training Metrics:\")\n",
    "print(f\"R2: {r2_score(y_train, train_preds):.3f}\")\n",
    "print(f\"Mean Absolute Error: {mean_absolute_error(y_train, train_preds):.3f}\")\n",
    "print(f\"Mean Squared Error: {mean_squared_error(y_train, train_preds):.3f}\")\n",
    "print(f\"Root Mean Squared Error: {mean_squared_error(y_train, train_preds, squared=False):.3f}\")"
   ]
  },
  {
   "cell_type": "code",
   "execution_count": 72,
   "metadata": {
    "ExecuteTime": {
     "end_time": "2022-03-30T15:51:07.285653Z",
     "start_time": "2022-03-30T15:51:07.275159Z"
    }
   },
   "outputs": [
    {
     "name": "stdout",
     "output_type": "stream",
     "text": [
      "Testing Metrics:\n",
      "R2: 0.772\n",
      "Mean Absolute Error: 101516.559\n",
      "Mean Squared Error: 29842920945.142\n",
      "Root Mean Squared Error: 172751.037\n"
     ]
    }
   ],
   "source": [
    "print(\"Testing Metrics:\")\n",
    "print(f\"R2: {r2_score(y_test, test_preds):.3f}\")\n",
    "print(f\"Mean Absolute Error: {mean_absolute_error(y_test, test_preds):.3f}\")\n",
    "print(f\"Mean Squared Error: {mean_squared_error(y_test, test_preds):.3f}\")\n",
    "print(f\"Root Mean Squared Error: {mean_squared_error(y_test, test_preds, squared=False):.3f}\")"
   ]
  },
  {
   "cell_type": "markdown",
   "metadata": {},
   "source": [
    "#### Model 6"
   ]
  },
  {
   "cell_type": "markdown",
   "metadata": {},
   "source": [
    "Using columns 'sqft_living', 'bedrooms', 'bathrooms', 'sqft_living15', 'yr_built' and the columns created from encoding 'condition', 'view', and 'zipcode'. "
   ]
  },
  {
   "cell_type": "code",
   "execution_count": 87,
   "metadata": {
    "ExecuteTime": {
     "end_time": "2022-03-30T15:55:55.864825Z",
     "start_time": "2022-03-30T15:55:55.842172Z"
    }
   },
   "outputs": [],
   "source": [
    "cols = ['sqft_living', 'bedrooms', 'bathrooms', 'sqft_living15', 'yr_built'] + encoded_condition + encoded_view + encoded_zipcode\n",
    "y = y_train\n",
    "x = X_train.filter(cols, axis=1)\n",
    "\n",
    "y2 = y_test\n",
    "x2 = X_test.filter(cols, axis=1)"
   ]
  },
  {
   "cell_type": "code",
   "execution_count": 88,
   "metadata": {
    "ExecuteTime": {
     "end_time": "2022-03-30T15:55:56.642665Z",
     "start_time": "2022-03-30T15:55:56.403780Z"
    }
   },
   "outputs": [
    {
     "name": "stdout",
     "output_type": "stream",
     "text": [
      "Training Score: 0.7840252943840298\n",
      "Test Score: 0.7723821658601114\n"
     ]
    }
   ],
   "source": [
    "scaler = StandardScaler()\n",
    "scaler.fit(x)\n",
    "X_train_scaled = scaler.transform(x)\n",
    "X_test_scaled = scaler.transform(x2)\n",
    "\n",
    "lr = LinearRegression()\n",
    "lr.fit(X_train_scaled,y_train)\n",
    "\n",
    "train_preds = lr.predict(X_train_scaled)\n",
    "test_preds = lr.predict(X_test_scaled)\n",
    "\n",
    "print('Training Score:',r2_score(y_train,train_preds))\n",
    "print('Test Score:',r2_score(y_test,test_preds))"
   ]
  },
  {
   "cell_type": "code",
   "execution_count": 89,
   "metadata": {
    "ExecuteTime": {
     "end_time": "2022-03-30T15:55:56.835216Z",
     "start_time": "2022-03-30T15:55:56.831098Z"
    }
   },
   "outputs": [
    {
     "name": "stdout",
     "output_type": "stream",
     "text": [
      "Training Metrics:\n",
      "R2: 0.784\n",
      "Mean Absolute Error: 102558.361\n",
      "Mean Squared Error: 29592918815.720\n",
      "Root Mean Squared Error: 172025.925\n"
     ]
    }
   ],
   "source": [
    "print(\"Training Metrics:\")\n",
    "print(f\"R2: {r2_score(y_train, train_preds):.3f}\")\n",
    "print(f\"Mean Absolute Error: {mean_absolute_error(y_train, train_preds):.3f}\")\n",
    "print(f\"Mean Squared Error: {mean_squared_error(y_train, train_preds):.3f}\")\n",
    "print(f\"Root Mean Squared Error: {mean_squared_error(y_train, train_preds, squared=False):.3f}\")"
   ]
  },
  {
   "cell_type": "code",
   "execution_count": 90,
   "metadata": {
    "ExecuteTime": {
     "end_time": "2022-03-30T15:55:57.305442Z",
     "start_time": "2022-03-30T15:55:57.295779Z"
    }
   },
   "outputs": [
    {
     "name": "stdout",
     "output_type": "stream",
     "text": [
      "Testing Metrics:\n",
      "R2: 0.772\n",
      "Mean Absolute Error: 101255.917\n",
      "Mean Squared Error: 29758128140.283\n",
      "Root Mean Squared Error: 172505.444\n"
     ]
    }
   ],
   "source": [
    "print(\"Testing Metrics:\")\n",
    "print(f\"R2: {r2_score(y_test, test_preds):.3f}\")\n",
    "print(f\"Mean Absolute Error: {mean_absolute_error(y_test, test_preds):.3f}\")\n",
    "print(f\"Mean Squared Error: {mean_squared_error(y_test, test_preds):.3f}\")\n",
    "print(f\"Root Mean Squared Error: {mean_squared_error(y_test, test_preds, squared=False):.3f}\")"
   ]
  },
  {
   "cell_type": "code",
   "execution_count": null,
   "metadata": {},
   "outputs": [],
   "source": []
  },
  {
   "cell_type": "code",
   "execution_count": null,
   "metadata": {},
   "outputs": [],
   "source": []
  }
 ],
 "metadata": {
  "kernelspec": {
   "display_name": "Python (learn-env)",
   "language": "python",
   "name": "learn-env"
  },
  "language_info": {
   "codemirror_mode": {
    "name": "ipython",
    "version": 3
   },
   "file_extension": ".py",
   "mimetype": "text/x-python",
   "name": "python",
   "nbconvert_exporter": "python",
   "pygments_lexer": "ipython3",
   "version": "3.8.5"
  },
  "toc": {
   "base_numbering": 1,
   "nav_menu": {},
   "number_sections": true,
   "sideBar": true,
   "skip_h1_title": false,
   "title_cell": "Table of Contents",
   "title_sidebar": "Contents",
   "toc_cell": false,
   "toc_position": {},
   "toc_section_display": true,
   "toc_window_display": false
  }
 },
 "nbformat": 4,
 "nbformat_minor": 4
}
