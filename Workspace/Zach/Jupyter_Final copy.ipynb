{
 "cells": [
  {
   "cell_type": "code",
   "execution_count": null,
   "metadata": {},
   "outputs": [],
   "source": []
  },
  {
   "cell_type": "code",
   "execution_count": null,
   "metadata": {},
   "outputs": [],
   "source": []
  },
  {
   "cell_type": "code",
   "execution_count": null,
   "metadata": {},
   "outputs": [],
   "source": []
  },
  {
   "cell_type": "code",
   "execution_count": null,
   "metadata": {},
   "outputs": [],
   "source": []
  },
  {
   "cell_type": "code",
   "execution_count": null,
   "metadata": {},
   "outputs": [],
   "source": []
  },
  {
   "cell_type": "code",
   "execution_count": null,
   "metadata": {},
   "outputs": [],
   "source": []
  },
  {
   "cell_type": "code",
   "execution_count": null,
   "metadata": {},
   "outputs": [],
   "source": []
  },
  {
   "cell_type": "code",
   "execution_count": null,
   "metadata": {},
   "outputs": [],
   "source": []
  },
  {
   "cell_type": "markdown",
   "metadata": {},
   "source": [
    "### Importing Libraries"
   ]
  },
  {
   "cell_type": "code",
   "execution_count": 1,
   "metadata": {
    "ExecuteTime": {
     "end_time": "2022-03-31T21:31:24.757997Z",
     "start_time": "2022-03-31T21:31:23.712247Z"
    }
   },
   "outputs": [],
   "source": [
    "import pandas as pd\n",
    "import numpy as np\n",
    "import seaborn as sns\n",
    "import warnings\n",
    "warnings.filterwarnings(action='ignore')\n",
    "import matplotlib.pyplot as plt\n",
    "from matplotlib import ticker\n",
    "from yellowbrick.regressor import ResidualsPlot\n",
    "import statsmodels.api as sm\n",
    "from statsmodels.api import OLS\n",
    "\n",
    "\n",
    "\n",
    "#SKLearn stuff\n",
    "from sklearn.model_selection import train_test_split\n",
    "from sklearn.dummy import DummyRegressor\n",
    "from sklearn.pipeline import make_pipeline\n",
    "from sklearn.preprocessing import StandardScaler, PolynomialFeatures, OrdinalEncoder, OneHotEncoder\n",
    "from sklearn.compose import ColumnTransformer\n",
    "from sklearn.linear_model import LinearRegression\n",
    "from sklearn.metrics import r2_score, mean_squared_error, mean_absolute_error"
   ]
  },
  {
   "cell_type": "code",
   "execution_count": 2,
   "metadata": {
    "ExecuteTime": {
     "end_time": "2022-03-31T21:31:24.809546Z",
     "start_time": "2022-03-31T21:31:24.759113Z"
    },
    "scrolled": true
   },
   "outputs": [
    {
     "data": {
      "text/html": [
       "<div>\n",
       "<style scoped>\n",
       "    .dataframe tbody tr th:only-of-type {\n",
       "        vertical-align: middle;\n",
       "    }\n",
       "\n",
       "    .dataframe tbody tr th {\n",
       "        vertical-align: top;\n",
       "    }\n",
       "\n",
       "    .dataframe thead th {\n",
       "        text-align: right;\n",
       "    }\n",
       "</style>\n",
       "<table border=\"1\" class=\"dataframe\">\n",
       "  <thead>\n",
       "    <tr style=\"text-align: right;\">\n",
       "      <th></th>\n",
       "      <th>id</th>\n",
       "      <th>date</th>\n",
       "      <th>price</th>\n",
       "      <th>bedrooms</th>\n",
       "      <th>bathrooms</th>\n",
       "      <th>sqft_living</th>\n",
       "      <th>sqft_lot</th>\n",
       "      <th>floors</th>\n",
       "      <th>waterfront</th>\n",
       "      <th>view</th>\n",
       "      <th>...</th>\n",
       "      <th>grade</th>\n",
       "      <th>sqft_above</th>\n",
       "      <th>sqft_basement</th>\n",
       "      <th>yr_built</th>\n",
       "      <th>yr_renovated</th>\n",
       "      <th>zipcode</th>\n",
       "      <th>lat</th>\n",
       "      <th>long</th>\n",
       "      <th>sqft_living15</th>\n",
       "      <th>sqft_lot15</th>\n",
       "    </tr>\n",
       "  </thead>\n",
       "  <tbody>\n",
       "    <tr>\n",
       "      <th>0</th>\n",
       "      <td>7129300520</td>\n",
       "      <td>10/13/2014</td>\n",
       "      <td>221900.0</td>\n",
       "      <td>3</td>\n",
       "      <td>1.00</td>\n",
       "      <td>1180</td>\n",
       "      <td>5650</td>\n",
       "      <td>1.0</td>\n",
       "      <td>NaN</td>\n",
       "      <td>NONE</td>\n",
       "      <td>...</td>\n",
       "      <td>7 Average</td>\n",
       "      <td>1180</td>\n",
       "      <td>0.0</td>\n",
       "      <td>1955</td>\n",
       "      <td>0.0</td>\n",
       "      <td>98178</td>\n",
       "      <td>47.5112</td>\n",
       "      <td>-122.257</td>\n",
       "      <td>1340</td>\n",
       "      <td>5650</td>\n",
       "    </tr>\n",
       "    <tr>\n",
       "      <th>1</th>\n",
       "      <td>6414100192</td>\n",
       "      <td>12/9/2014</td>\n",
       "      <td>538000.0</td>\n",
       "      <td>3</td>\n",
       "      <td>2.25</td>\n",
       "      <td>2570</td>\n",
       "      <td>7242</td>\n",
       "      <td>2.0</td>\n",
       "      <td>NO</td>\n",
       "      <td>NONE</td>\n",
       "      <td>...</td>\n",
       "      <td>7 Average</td>\n",
       "      <td>2170</td>\n",
       "      <td>400.0</td>\n",
       "      <td>1951</td>\n",
       "      <td>1991.0</td>\n",
       "      <td>98125</td>\n",
       "      <td>47.7210</td>\n",
       "      <td>-122.319</td>\n",
       "      <td>1690</td>\n",
       "      <td>7639</td>\n",
       "    </tr>\n",
       "    <tr>\n",
       "      <th>2</th>\n",
       "      <td>5631500400</td>\n",
       "      <td>2/25/2015</td>\n",
       "      <td>180000.0</td>\n",
       "      <td>2</td>\n",
       "      <td>1.00</td>\n",
       "      <td>770</td>\n",
       "      <td>10000</td>\n",
       "      <td>1.0</td>\n",
       "      <td>NO</td>\n",
       "      <td>NONE</td>\n",
       "      <td>...</td>\n",
       "      <td>6 Low Average</td>\n",
       "      <td>770</td>\n",
       "      <td>0.0</td>\n",
       "      <td>1933</td>\n",
       "      <td>NaN</td>\n",
       "      <td>98028</td>\n",
       "      <td>47.7379</td>\n",
       "      <td>-122.233</td>\n",
       "      <td>2720</td>\n",
       "      <td>8062</td>\n",
       "    </tr>\n",
       "    <tr>\n",
       "      <th>3</th>\n",
       "      <td>2487200875</td>\n",
       "      <td>12/9/2014</td>\n",
       "      <td>604000.0</td>\n",
       "      <td>4</td>\n",
       "      <td>3.00</td>\n",
       "      <td>1960</td>\n",
       "      <td>5000</td>\n",
       "      <td>1.0</td>\n",
       "      <td>NO</td>\n",
       "      <td>NONE</td>\n",
       "      <td>...</td>\n",
       "      <td>7 Average</td>\n",
       "      <td>1050</td>\n",
       "      <td>910.0</td>\n",
       "      <td>1965</td>\n",
       "      <td>0.0</td>\n",
       "      <td>98136</td>\n",
       "      <td>47.5208</td>\n",
       "      <td>-122.393</td>\n",
       "      <td>1360</td>\n",
       "      <td>5000</td>\n",
       "    </tr>\n",
       "    <tr>\n",
       "      <th>4</th>\n",
       "      <td>1954400510</td>\n",
       "      <td>2/18/2015</td>\n",
       "      <td>510000.0</td>\n",
       "      <td>3</td>\n",
       "      <td>2.00</td>\n",
       "      <td>1680</td>\n",
       "      <td>8080</td>\n",
       "      <td>1.0</td>\n",
       "      <td>NO</td>\n",
       "      <td>NONE</td>\n",
       "      <td>...</td>\n",
       "      <td>8 Good</td>\n",
       "      <td>1680</td>\n",
       "      <td>0.0</td>\n",
       "      <td>1987</td>\n",
       "      <td>0.0</td>\n",
       "      <td>98074</td>\n",
       "      <td>47.6168</td>\n",
       "      <td>-122.045</td>\n",
       "      <td>1800</td>\n",
       "      <td>7503</td>\n",
       "    </tr>\n",
       "  </tbody>\n",
       "</table>\n",
       "<p>5 rows × 21 columns</p>\n",
       "</div>"
      ],
      "text/plain": [
       "           id        date     price  bedrooms  bathrooms  sqft_living  \\\n",
       "0  7129300520  10/13/2014  221900.0         3       1.00         1180   \n",
       "1  6414100192   12/9/2014  538000.0         3       2.25         2570   \n",
       "2  5631500400   2/25/2015  180000.0         2       1.00          770   \n",
       "3  2487200875   12/9/2014  604000.0         4       3.00         1960   \n",
       "4  1954400510   2/18/2015  510000.0         3       2.00         1680   \n",
       "\n",
       "   sqft_lot  floors waterfront  view  ...          grade sqft_above  \\\n",
       "0      5650     1.0        NaN  NONE  ...      7 Average       1180   \n",
       "1      7242     2.0         NO  NONE  ...      7 Average       2170   \n",
       "2     10000     1.0         NO  NONE  ...  6 Low Average        770   \n",
       "3      5000     1.0         NO  NONE  ...      7 Average       1050   \n",
       "4      8080     1.0         NO  NONE  ...         8 Good       1680   \n",
       "\n",
       "   sqft_basement yr_built  yr_renovated  zipcode      lat     long  \\\n",
       "0            0.0     1955           0.0    98178  47.5112 -122.257   \n",
       "1          400.0     1951        1991.0    98125  47.7210 -122.319   \n",
       "2            0.0     1933           NaN    98028  47.7379 -122.233   \n",
       "3          910.0     1965           0.0    98136  47.5208 -122.393   \n",
       "4            0.0     1987           0.0    98074  47.6168 -122.045   \n",
       "\n",
       "   sqft_living15  sqft_lot15  \n",
       "0           1340        5650  \n",
       "1           1690        7639  \n",
       "2           2720        8062  \n",
       "3           1360        5000  \n",
       "4           1800        7503  \n",
       "\n",
       "[5 rows x 21 columns]"
      ]
     },
     "execution_count": 2,
     "metadata": {},
     "output_type": "execute_result"
    }
   ],
   "source": [
    "df = pd.read_csv('../../data/kc_house_data.csv')\n",
    "df.head()"
   ]
  },
  {
   "cell_type": "markdown",
   "metadata": {},
   "source": [
    "### Initial Cleaning"
   ]
  },
  {
   "cell_type": "code",
   "execution_count": 3,
   "metadata": {
    "ExecuteTime": {
     "end_time": "2022-03-31T21:31:24.822239Z",
     "start_time": "2022-03-31T21:31:24.810960Z"
    }
   },
   "outputs": [
    {
     "name": "stdout",
     "output_type": "stream",
     "text": [
      "<class 'pandas.core.frame.DataFrame'>\n",
      "RangeIndex: 21597 entries, 0 to 21596\n",
      "Data columns (total 21 columns):\n",
      " #   Column         Non-Null Count  Dtype  \n",
      "---  ------         --------------  -----  \n",
      " 0   id             21597 non-null  int64  \n",
      " 1   date           21597 non-null  object \n",
      " 2   price          21597 non-null  float64\n",
      " 3   bedrooms       21597 non-null  int64  \n",
      " 4   bathrooms      21597 non-null  float64\n",
      " 5   sqft_living    21597 non-null  int64  \n",
      " 6   sqft_lot       21597 non-null  int64  \n",
      " 7   floors         21597 non-null  float64\n",
      " 8   waterfront     19221 non-null  object \n",
      " 9   view           21534 non-null  object \n",
      " 10  condition      21597 non-null  object \n",
      " 11  grade          21597 non-null  object \n",
      " 12  sqft_above     21597 non-null  int64  \n",
      " 13  sqft_basement  21597 non-null  object \n",
      " 14  yr_built       21597 non-null  int64  \n",
      " 15  yr_renovated   17755 non-null  float64\n",
      " 16  zipcode        21597 non-null  int64  \n",
      " 17  lat            21597 non-null  float64\n",
      " 18  long           21597 non-null  float64\n",
      " 19  sqft_living15  21597 non-null  int64  \n",
      " 20  sqft_lot15     21597 non-null  int64  \n",
      "dtypes: float64(6), int64(9), object(6)\n",
      "memory usage: 3.5+ MB\n"
     ]
    }
   ],
   "source": [
    "df.info()"
   ]
  },
  {
   "cell_type": "code",
   "execution_count": 5,
   "metadata": {
    "ExecuteTime": {
     "end_time": "2022-03-31T21:31:47.921206Z",
     "start_time": "2022-03-31T21:31:47.704387Z"
    }
   },
   "outputs": [
    {
     "data": {
      "image/png": "[encoded data removed]",
      "text/plain": [
       "<Figure size 1152x432 with 2 Axes>"
      ]
     },
     "metadata": {},
     "output_type": "display_data"
    }
   ],
   "source": [
    "df2 = df.filter(['price', 'grade'])\n",
    "df2.groupby(['grade']).sum().sort_values(['price'], ascending=False)\n",
    "grade_vs_price = df2.groupby(['grade']).sum().sort_values(['price'], ascending=False)\n",
    "\n",
    "fig, (ax2, ax1) = plt.subplots(figsize=(16,6), ncols=2)\n",
    "ax1.grid(False)\n",
    "ax2.grid(False)\n",
    "\n",
    "ax1.barh(y=grade_vs_price.index, width=grade_vs_price['price'], color=\"navy\")\n",
    "ax1.invert_yaxis()\n",
    "ax1.set_title('Grade and Revenue')\n",
    "#ax1.set_ylabel('Grade')\n",
    "ax1.set_xlabel('Potential Revenue')\n",
    "\n",
    "grade_vs_price = df2.groupby(['grade']).mean().sort_values(['price'], ascending=False)\n",
    "\n",
    "ax2.barh(y=grade_vs_price.index, width=grade_vs_price['price'], color=\"navy\")\n",
    "ax2.invert_yaxis()\n",
    "ax2.set_title('Grade and Average Price')\n",
    "ax2.set_ylabel('Grade')\n",
    "ax2.set_xlabel('Average Price');\n"
   ]
  },
  {
   "cell_type": "markdown",
   "metadata": {},
   "source": [
    "Mansion and luxury homes sell for the most but average and good homes account for more of the total potential revenue. "
   ]
  },
  {
   "cell_type": "markdown",
   "metadata": {},
   "source": [
    "#### Drops"
   ]
  },
  {
   "cell_type": "markdown",
   "metadata": {},
   "source": [
    "Dropping 'id', 'yr_renovated', and 'date'. No use for them and we don't have enough data to use them. Dropped row with 33 bedrooms. Created a bedrooms bin column for later use."
   ]
  },
  {
   "cell_type": "code",
   "execution_count": null,
   "metadata": {
    "ExecuteTime": {
     "end_time": "2022-03-31T21:31:25.063133Z",
     "start_time": "2022-03-31T21:31:23.716Z"
    },
    "scrolled": true
   },
   "outputs": [],
   "source": [
    "df = df[df['bedrooms'] != 33]"
   ]
  },
  {
   "cell_type": "code",
   "execution_count": null,
   "metadata": {
    "ExecuteTime": {
     "end_time": "2022-03-31T21:31:25.063860Z",
     "start_time": "2022-03-31T21:31:23.717Z"
    }
   },
   "outputs": [],
   "source": [
    "#Making a categorical bedroom columns\n",
    "df['bedrooms_bin']=pd.cut(df['bedrooms'], bins = [0,1,2,3,4,5,6,99], labels=['1BR','2BR','3BR','4BR','5BR','6BR','7+BR'])"
   ]
  },
  {
   "cell_type": "code",
   "execution_count": null,
   "metadata": {
    "ExecuteTime": {
     "end_time": "2022-03-31T21:31:25.064639Z",
     "start_time": "2022-03-31T21:31:23.719Z"
    }
   },
   "outputs": [],
   "source": [
    "df = df.drop(['id', 'date', 'yr_renovated','sqft_basement'], axis=1) "
   ]
  },
  {
   "cell_type": "markdown",
   "metadata": {},
   "source": [
    "#### Removing Outliers"
   ]
  },
  {
   "cell_type": "markdown",
   "metadata": {},
   "source": [
    "Removed outliers base on price and sqft_lot. then removed rows with the value of '3 Poor' and '12 Luxury'. "
   ]
  },
  {
   "cell_type": "code",
   "execution_count": null,
   "metadata": {
    "ExecuteTime": {
     "end_time": "2022-03-31T21:31:25.065188Z",
     "start_time": "2022-03-31T21:31:23.720Z"
    }
   },
   "outputs": [],
   "source": [
    "price_q75, price_q25 = np.percentile(df['price'],[75,25])\n",
    "intr_qrt = price_q75-price_q25\n",
    "upper_price = price_q75 + (1.5*intr_qrt)\n",
    "lower_price = price_q25 - (1.5*intr_qrt)\n",
    "lower_price, upper_price\n",
    "df = df[df['price'] <= upper_price]\n",
    "df = df[df['price'] >= lower_price]"
   ]
  },
  {
   "cell_type": "code",
   "execution_count": null,
   "metadata": {
    "ExecuteTime": {
     "end_time": "2022-03-31T21:31:25.065903Z",
     "start_time": "2022-03-31T21:31:23.722Z"
    }
   },
   "outputs": [],
   "source": [
    "df['sqft_lot'].describe()"
   ]
  },
  {
   "cell_type": "code",
   "execution_count": null,
   "metadata": {
    "ExecuteTime": {
     "end_time": "2022-03-31T21:31:25.066496Z",
     "start_time": "2022-03-31T21:31:23.723Z"
    }
   },
   "outputs": [],
   "source": [
    "sqft_lot_q75, sqft_lot_q25 = np.percentile(df['sqft_lot'],[75,25])\n",
    "intr_qrt = sqft_lot_q75-sqft_lot_q25\n",
    "upper_sqft_lot = sqft_lot_q75 + (1.5*intr_qrt)\n",
    "lower_sqft_lot = sqft_lot_q25 - (1.5*intr_qrt)\n",
    "lower_sqft_lot, upper_sqft_lot\n",
    "df = df[df['sqft_lot'] <= upper_sqft_lot]\n",
    "df = df[df['sqft_lot'] >= lower_sqft_lot]"
   ]
  },
  {
   "cell_type": "code",
   "execution_count": null,
   "metadata": {
    "ExecuteTime": {
     "end_time": "2022-03-31T21:31:25.067173Z",
     "start_time": "2022-03-31T21:31:23.724Z"
    },
    "scrolled": true
   },
   "outputs": [],
   "source": [
    "df['grade'].value_counts()"
   ]
  },
  {
   "cell_type": "markdown",
   "metadata": {},
   "source": [
    "1 record each of grade 2 and Luxury"
   ]
  },
  {
   "cell_type": "code",
   "execution_count": null,
   "metadata": {
    "ExecuteTime": {
     "end_time": "2022-03-31T21:31:25.067794Z",
     "start_time": "2022-03-31T21:31:23.725Z"
    }
   },
   "outputs": [],
   "source": [
    "df = df[df['grade'] != '3 Poor']\n",
    "df = df[df['grade'] != '12 Luxury']"
   ]
  },
  {
   "cell_type": "markdown",
   "metadata": {},
   "source": [
    "### Helper Functions"
   ]
  },
  {
   "cell_type": "code",
   "execution_count": null,
   "metadata": {
    "ExecuteTime": {
     "end_time": "2022-03-31T21:31:25.068947Z",
     "start_time": "2022-03-31T21:31:23.726Z"
    }
   },
   "outputs": [],
   "source": [
    "def OHE_scale_lr(X_train,y_train,\n",
    "                 X_test,y_test,\n",
    "                 \n",
    "                 num_col,\n",
    "                 cat_col =[]\n",
    "                ):\n",
    "    \"\"\"\n",
    "    Creates a pipeline to perform a \n",
    "    - One-Hot-Encoding (OHE)\n",
    "    - Standard Scaling\n",
    "    - Linear Regression\n",
    "\n",
    "    cat_col = list of categorical column names to process with OHE. default empty list\n",
    "    num_col = list of numerical column names\n",
    "    \n",
    "    Keep transformations out of this function. Function applid post train-test split\n",
    "    \"\"\"\n",
    "    if not (cat_col or num_col):\n",
    "        print(\"no columns provided to perform operations\")\n",
    "        return None\n",
    "    \n",
    "    #List Comp to get subst of columns\n",
    "    list_cols= [col for sublist_cols in [num_col,cat_col]for col in sublist_cols]\n",
    "    print('Categorical columns:',cat_col,'\\nNumerical Columns: ',num_col)\n",
    "    \n",
    "    #Create subsets of train and test sets\n",
    "    X_train_subset = X_train[list_cols]\n",
    "    X_test_subset = X_test[list_cols]\n",
    "    \n",
    "    \n",
    "    if cat_col:\n",
    "        X_train_subset,X_test_subset = OHEColXFER(cat_col,X_train_subset, X_test_subset)\n",
    "    \n",
    "    pipe = make_pipeline(StandardScaler(), LinearRegression())\n",
    "    pipe.fit(X_train_subset, y_train) \n",
    "    \n",
    "    train_preds= pipe.predict(X_train_subset)\n",
    "    test_preds = pipe.predict(X_test_subset)\n",
    "\n",
    "    print(\"Training Score:\",pipe.score(X_train_subset, y_train))\n",
    "    print(\"Test Score:\",pipe.score(X_test_subset, y_test))\n",
    "    get_train_test_metrics(y_train,train_preds,y_test,test_preds)\n",
    "    \n",
    "\n",
    "    return X_train_enc,X_test_enc"
   ]
  },
  {
   "cell_type": "code",
   "execution_count": null,
   "metadata": {
    "ExecuteTime": {
     "end_time": "2022-03-31T21:31:25.069676Z",
     "start_time": "2022-03-31T21:31:23.727Z"
    }
   },
   "outputs": [],
   "source": [
    "def ohe(df, df2, column):    \n",
    "    for col in column:\n",
    "        train = df[[col]]\n",
    "        ohe = OneHotEncoder(drop=\"first\", sparse=False, handle_unknown=\"error\")\n",
    "        ohe.fit(train)\n",
    "        encoded_train = ohe.transform(train)\n",
    "        col_names = [f\"{col}_{f}\" for f in ohe.get_feature_names()]\n",
    "        encoded_train = pd.DataFrame(encoded_train,\n",
    "                                     columns=col_names, index=df.index)\n",
    "        df = pd.concat([df, encoded_train], axis=1)\n",
    "        \n",
    "        test = df2[[col]]\n",
    "        encoded_test = ohe.transform(test)\n",
    "        col_names = [f\"{col}_{f}\" for f in ohe.get_feature_names()]\n",
    "        encoded_test = pd.DataFrame(encoded_test, \n",
    "                                    columns=col_names, index=df2.index)\n",
    "        df2 = pd.concat([df2, encoded_test], axis=1)\n",
    "    return df, df2, encoded_train.columns.tolist()"
   ]
  },
  {
   "cell_type": "code",
   "execution_count": null,
   "metadata": {
    "ExecuteTime": {
     "end_time": "2022-03-31T21:31:25.070272Z",
     "start_time": "2022-03-31T21:31:23.728Z"
    }
   },
   "outputs": [],
   "source": [
    "def scale_n_score(x,y,x2,y2):        \n",
    "    scaler = StandardScaler()\n",
    "    scaler.fit(x)\n",
    "    X_train_scaled = scaler.transform(x)\n",
    "    X_test_scaled = scaler.transform(x2)\n",
    "\n",
    "    lr = LinearRegression()\n",
    "    lr.fit(X_train_scaled,y_train)\n",
    "\n",
    "    train_preds = lr.predict(X_train_scaled)\n",
    "    test_preds = lr.predict(X_test_scaled)\n",
    "\n",
    "    print('Training Score:',r2_score(y_train,train_preds))\n",
    "    print('Test Score:',r2_score(y_test,test_preds))\n",
    "    return X_train_scaled, X_test_scaled, train_preds, test_preds"
   ]
  },
  {
   "cell_type": "code",
   "execution_count": null,
   "metadata": {
    "ExecuteTime": {
     "end_time": "2022-03-31T21:31:25.071045Z",
     "start_time": "2022-03-31T21:31:23.728Z"
    }
   },
   "outputs": [],
   "source": [
    "def get_train_test_metrics(y_train,train_preds,\n",
    "               y_test,test_preds\n",
    "              ):\n",
    "    \"\"\"\n",
    "    Prints different training and testing metrics, namely R2, MAE, MSE, RMSE\n",
    "    \"\"\"\n",
    "    print(\"\\nTraining Metrics:\")\n",
    "    print(f\"R2: {r2_score(y_train, train_preds):.3f}\")\n",
    "    print(f\"Mean Absolute Error: {mean_absolute_error(y_train, train_preds):.3f}\")\n",
    "    print(f\"Mean Squared Error: {mean_squared_error(y_train, train_preds):.3f}\")\n",
    "    print(f\"Root Mean Squared Error: {mean_squared_error(y_train, train_preds, squared=False):.3f}\")\n",
    "    \n",
    "    print(\"\\nTesting Metrics:\")\n",
    "    print(f\"R2: {r2_score(y_test, test_preds):.3f}\")\n",
    "    print(f\"Mean Absolute Error: {mean_absolute_error(y_test, test_preds):.3f}\")\n",
    "    print(f\"Mean Squared Error: {mean_squared_error(y_test, test_preds):.3f}\")\n",
    "    print(f\"Root Mean Squared Error: {mean_squared_error(y_test, test_preds, squared=False):.3f}\")"
   ]
  },
  {
   "cell_type": "code",
   "execution_count": null,
   "metadata": {},
   "outputs": [],
   "source": []
  },
  {
   "cell_type": "markdown",
   "metadata": {},
   "source": [
    "### Split"
   ]
  },
  {
   "cell_type": "markdown",
   "metadata": {},
   "source": [
    "Using price as a dependent/target variable. "
   ]
  },
  {
   "cell_type": "code",
   "execution_count": null,
   "metadata": {
    "ExecuteTime": {
     "end_time": "2022-03-31T21:31:25.071726Z",
     "start_time": "2022-03-31T21:31:23.730Z"
    }
   },
   "outputs": [],
   "source": [
    "y = df[\"price\"]\n",
    "X = df.drop(\"price\", axis=1)\n",
    "\n",
    "X_train, X_test, y_train, y_test = train_test_split(X, y, random_state=42, test_size=.25)"
   ]
  },
  {
   "cell_type": "markdown",
   "metadata": {},
   "source": [
    "### Categorical Columns"
   ]
  },
  {
   "cell_type": "markdown",
   "metadata": {},
   "source": [
    "The column 'waterfront' is a binomial categorical variable. The columns 'bedroom_bin', 'view', 'zipcode', 'condition', and 'grade' are categorical variables. They will need to be converted into a format that can be modeled. \n"
   ]
  },
  {
   "cell_type": "markdown",
   "metadata": {},
   "source": [
    "#### Waterfront"
   ]
  },
  {
   "cell_type": "markdown",
   "metadata": {},
   "source": [
    "The column contains Yes and No values. I'm assuming NAs are Nos so I will be filling them in as such."
   ]
  },
  {
   "cell_type": "code",
   "execution_count": null,
   "metadata": {
    "ExecuteTime": {
     "end_time": "2022-03-31T21:31:25.072436Z",
     "start_time": "2022-03-31T21:31:23.732Z"
    }
   },
   "outputs": [],
   "source": [
    "X_train['waterfront'].fillna('NO', inplace=True)\n",
    "X_test['waterfront'].fillna('NO', inplace=True)"
   ]
  },
  {
   "cell_type": "code",
   "execution_count": null,
   "metadata": {
    "ExecuteTime": {
     "end_time": "2022-03-31T21:31:25.072962Z",
     "start_time": "2022-03-31T21:31:23.733Z"
    }
   },
   "outputs": [],
   "source": [
    "waterfront_train = X_train[['waterfront']]\n",
    "encoder_waterfront = OrdinalEncoder()\n",
    "encoder_waterfront.fit(waterfront_train)\n",
    "encoder_waterfront.categories_[0]\n",
    "waterfront_encoded_train = encoder_waterfront.transform(waterfront_train)\n",
    "waterfront_encoded_train = waterfront_encoded_train.flatten()\n",
    "X_train[\"waterfront\"] = waterfront_encoded_train"
   ]
  },
  {
   "cell_type": "code",
   "execution_count": null,
   "metadata": {
    "ExecuteTime": {
     "end_time": "2022-03-31T21:31:25.073570Z",
     "start_time": "2022-03-31T21:31:23.734Z"
    }
   },
   "outputs": [],
   "source": [
    "waterfront_test = X_test[['waterfront']]\n",
    "encoder_waterfront = OrdinalEncoder()\n",
    "encoder_waterfront.fit(waterfront_test)\n",
    "encoder_waterfront.categories_[0]\n",
    "waterfront_encoded_test = encoder_waterfront.transform(waterfront_test)\n",
    "waterfront_encoded_test = waterfront_encoded_test.flatten()\n",
    "X_test[\"waterfront\"] = waterfront_encoded_test"
   ]
  },
  {
   "cell_type": "markdown",
   "metadata": {},
   "source": [
    "#### View "
   ]
  },
  {
   "cell_type": "markdown",
   "metadata": {},
   "source": [
    "The column 'view' has 5 categories; NONE, AVERAGE, GOOD, FAIR, and EXCELLENT. I'm assuming NAs are NONE so I will be filling them in as such."
   ]
  },
  {
   "cell_type": "markdown",
   "metadata": {},
   "source": [
    "Created a OneHotEncoder function for the categorical variables. \n",
    "\n",
    "Replaced string values for comparative use later in modeling."
   ]
  },
  {
   "cell_type": "code",
   "execution_count": null,
   "metadata": {
    "ExecuteTime": {
     "end_time": "2022-03-31T21:31:25.074143Z",
     "start_time": "2022-03-31T21:31:23.735Z"
    }
   },
   "outputs": [],
   "source": [
    "X_train['view'].isna().sum()"
   ]
  },
  {
   "cell_type": "code",
   "execution_count": null,
   "metadata": {
    "ExecuteTime": {
     "end_time": "2022-03-31T21:31:25.074724Z",
     "start_time": "2022-03-31T21:31:23.736Z"
    }
   },
   "outputs": [],
   "source": [
    "X_train['view'].fillna(\"NONE\", inplace=True)\n",
    "X_test['view'].fillna(\"NONE\", inplace=True)"
   ]
  },
  {
   "cell_type": "markdown",
   "metadata": {},
   "source": [
    "The ohe() function takes in a training df, 'df', a test df, 'df2', and a column name, ['column_name']. \n",
    "\n",
    "It returns the training df and the test df concatenated with the new encoded columns. It also returns a list of the new encoded column names. \n",
    "\n",
    "Example\n",
    "\n",
    "X_train, X_test, encoded_column_name = ohe(X_train, X_test, ['view'])"
   ]
  },
  {
   "cell_type": "code",
   "execution_count": null,
   "metadata": {
    "ExecuteTime": {
     "end_time": "2022-03-31T21:31:25.075436Z",
     "start_time": "2022-03-31T21:31:23.737Z"
    }
   },
   "outputs": [],
   "source": [
    "X_train, X_test, encoded_view = ohe(X_train, X_test, ['view'])"
   ]
  },
  {
   "cell_type": "code",
   "execution_count": null,
   "metadata": {
    "ExecuteTime": {
     "end_time": "2022-03-31T21:31:25.076123Z",
     "start_time": "2022-03-31T21:31:23.738Z"
    }
   },
   "outputs": [],
   "source": [
    "# Change view rating to a numeric value for comparative purposes.\n",
    "X_train['view'] = X_train['view'].map({'EXCELLENT':5,\n",
    "                             'GOOD':4,\n",
    "                             'AVERAGE':3,\n",
    "                             'FAIR':2,\n",
    "                             'NONE':1})"
   ]
  },
  {
   "cell_type": "code",
   "execution_count": null,
   "metadata": {
    "ExecuteTime": {
     "end_time": "2022-03-31T21:31:25.076698Z",
     "start_time": "2022-03-31T21:31:23.740Z"
    }
   },
   "outputs": [],
   "source": [
    "X_test['view'] = X_test['view'].map({'EXCELLENT':5,\n",
    "                             'GOOD':4,\n",
    "                             'AVERAGE':3,\n",
    "                             'FAIR':2,\n",
    "                             'NONE':1})"
   ]
  },
  {
   "cell_type": "markdown",
   "metadata": {},
   "source": [
    "#### Condition "
   ]
  },
  {
   "cell_type": "markdown",
   "metadata": {
    "ExecuteTime": {
     "end_time": "2022-03-30T19:18:08.596489Z",
     "start_time": "2022-03-30T19:18:08.589154Z"
    }
   },
   "source": [
    "Replaced string values for comparative use later in modeling."
   ]
  },
  {
   "cell_type": "code",
   "execution_count": null,
   "metadata": {
    "ExecuteTime": {
     "end_time": "2022-03-31T21:31:25.077273Z",
     "start_time": "2022-03-31T21:31:23.741Z"
    }
   },
   "outputs": [],
   "source": [
    "X_train, X_test, encoded_condition = ohe(X_train, X_test, ['condition'])"
   ]
  },
  {
   "cell_type": "code",
   "execution_count": null,
   "metadata": {
    "ExecuteTime": {
     "end_time": "2022-03-31T21:31:25.077823Z",
     "start_time": "2022-03-31T21:31:23.742Z"
    }
   },
   "outputs": [],
   "source": [
    "# Change condition rating to a numeric value for comparitive purposes.\n",
    "X_train['condition'] = X_train['condition'].map({'Very Good':5,\n",
    "                                       'Good':4,\n",
    "                                       'Average':3,\n",
    "                                       'Fair':2,\n",
    "                                       'Poor':1})"
   ]
  },
  {
   "cell_type": "code",
   "execution_count": null,
   "metadata": {
    "ExecuteTime": {
     "end_time": "2022-03-31T21:31:25.078374Z",
     "start_time": "2022-03-31T21:31:23.743Z"
    }
   },
   "outputs": [],
   "source": [
    "X_test['condition'] = X_test['condition'].map({'Very Good':5,\n",
    "                                       'Good':4,\n",
    "                                       'Average':3,\n",
    "                                       'Fair':2,\n",
    "                                       'Poor':1})"
   ]
  },
  {
   "cell_type": "markdown",
   "metadata": {},
   "source": [
    "#### Grade "
   ]
  },
  {
   "cell_type": "code",
   "execution_count": null,
   "metadata": {
    "ExecuteTime": {
     "end_time": "2022-03-31T21:31:25.079004Z",
     "start_time": "2022-03-31T21:31:23.744Z"
    }
   },
   "outputs": [],
   "source": [
    "X_train, X_test, encoded_grade = ohe(X_train, X_test, ['grade'])"
   ]
  },
  {
   "cell_type": "markdown",
   "metadata": {},
   "source": [
    "#### Zipcode "
   ]
  },
  {
   "cell_type": "code",
   "execution_count": null,
   "metadata": {
    "ExecuteTime": {
     "end_time": "2022-03-31T21:31:25.079503Z",
     "start_time": "2022-03-31T21:31:23.745Z"
    }
   },
   "outputs": [],
   "source": [
    "X_train, X_test, encoded_zipcode = ohe(X_train, X_test, ['zipcode'])"
   ]
  },
  {
   "cell_type": "markdown",
   "metadata": {},
   "source": [
    "#### Bedroom_bins"
   ]
  },
  {
   "cell_type": "code",
   "execution_count": null,
   "metadata": {
    "ExecuteTime": {
     "end_time": "2022-03-31T21:31:25.080076Z",
     "start_time": "2022-03-31T21:31:23.747Z"
    }
   },
   "outputs": [],
   "source": [
    "X_train, X_test, encoded_bedroom_bin = ohe(X_train, X_test, ['bedrooms_bin'])"
   ]
  },
  {
   "cell_type": "markdown",
   "metadata": {},
   "source": [
    "### Models"
   ]
  },
  {
   "cell_type": "markdown",
   "metadata": {},
   "source": [
    "#### Base Model - Dummy Regressor"
   ]
  },
  {
   "cell_type": "code",
   "execution_count": null,
   "metadata": {
    "ExecuteTime": {
     "end_time": "2022-03-31T21:31:25.080613Z",
     "start_time": "2022-03-31T21:31:23.748Z"
    }
   },
   "outputs": [],
   "source": [
    "dummy = DummyRegressor() #mean strategy\n",
    "dummy.fit(X_train,y_train)\n",
    "dummy.score(X_train,y_train)"
   ]
  },
  {
   "cell_type": "code",
   "execution_count": null,
   "metadata": {
    "ExecuteTime": {
     "end_time": "2022-03-31T21:31:25.081272Z",
     "start_time": "2022-03-31T21:31:23.749Z"
    },
    "scrolled": true
   },
   "outputs": [],
   "source": [
    "dummy.score(X_test,y_test)"
   ]
  },
  {
   "cell_type": "markdown",
   "metadata": {},
   "source": [
    "#### Model 1"
   ]
  },
  {
   "cell_type": "code",
   "execution_count": null,
   "metadata": {
    "ExecuteTime": {
     "end_time": "2022-03-31T21:31:25.081902Z",
     "start_time": "2022-03-31T21:31:23.751Z"
    }
   },
   "outputs": [],
   "source": [
    "cols = ['sqft_living']\n",
    "y = y_train\n",
    "x = X_train.filter(cols, axis=1)\n",
    "\n",
    "y2 = y_test\n",
    "x2 = X_test.filter(cols, axis=1)"
   ]
  },
  {
   "cell_type": "code",
   "execution_count": null,
   "metadata": {
    "ExecuteTime": {
     "end_time": "2022-03-31T21:31:25.082389Z",
     "start_time": "2022-03-31T21:31:23.752Z"
    },
    "scrolled": true
   },
   "outputs": [],
   "source": [
    "X_train_scaled, X_test_scaled, train_preds, test_preds = scale_n_score(x,y,x2,y2)"
   ]
  },
  {
   "cell_type": "markdown",
   "metadata": {},
   "source": [
    "#### Model 2"
   ]
  },
  {
   "cell_type": "markdown",
   "metadata": {},
   "source": [
    "Using columns sqft_living, 'sqft_living15', 'bathrooms', and the columns created from encoding 'zipcode'.\n",
    "\n",
    "Note the difference between entering the encoding for 'zipcode' and actually entering 'zipcode'. The encoding gives us a higher R2 value, however, it also gives you a much larger RSME Error."
   ]
  },
  {
   "cell_type": "code",
   "execution_count": null,
   "metadata": {
    "ExecuteTime": {
     "end_time": "2022-03-31T21:31:25.082875Z",
     "start_time": "2022-03-31T21:31:23.753Z"
    }
   },
   "outputs": [],
   "source": [
    "cols = ['sqft_living', 'bathrooms', 'sqft_living15'] +  encoded_zipcode\n",
    "y = y_train\n",
    "x = X_train.filter(cols, axis=1)\n",
    "\n",
    "y2 = y_test\n",
    "x2 = X_test.filter(cols, axis=1)\n"
   ]
  },
  {
   "cell_type": "code",
   "execution_count": null,
   "metadata": {
    "ExecuteTime": {
     "end_time": "2022-03-31T21:31:25.083534Z",
     "start_time": "2022-03-31T21:31:23.755Z"
    },
    "scrolled": true
   },
   "outputs": [],
   "source": [
    "X_train_scaled, X_test_scaled, train_preds, test_preds = scale_n_score(x,y,x2,y2)"
   ]
  },
  {
   "cell_type": "code",
   "execution_count": null,
   "metadata": {
    "ExecuteTime": {
     "end_time": "2022-03-31T21:31:25.084048Z",
     "start_time": "2022-03-31T21:31:23.756Z"
    },
    "scrolled": true
   },
   "outputs": [],
   "source": [
    "get_train_test_metrics(y_train, train_preds, y_test, test_preds)"
   ]
  },
  {
   "cell_type": "markdown",
   "metadata": {
    "ExecuteTime": {
     "end_time": "2022-03-30T23:11:36.131306Z",
     "start_time": "2022-03-30T23:11:36.114302Z"
    }
   },
   "source": [
    "#### Model 3"
   ]
  },
  {
   "cell_type": "markdown",
   "metadata": {
    "ExecuteTime": {
     "end_time": "2022-03-30T23:11:49.401399Z",
     "start_time": "2022-03-30T23:11:49.397398Z"
    }
   },
   "source": [
    "Using columns  'sqft_living', 'bedrooms', 'sqft_living15', and the columns created from encoding 'zipcode'."
   ]
  },
  {
   "cell_type": "code",
   "execution_count": null,
   "metadata": {
    "ExecuteTime": {
     "end_time": "2022-03-31T21:31:25.084668Z",
     "start_time": "2022-03-31T21:31:23.758Z"
    }
   },
   "outputs": [],
   "source": [
    "cols = ['sqft_living', 'bedrooms', 'sqft_living15'] +  encoded_zipcode\n",
    "y = y_train\n",
    "x = X_train.filter(cols, axis=1)\n",
    "\n",
    "y2 = y_test\n",
    "x2 = X_test.filter(cols, axis=1)"
   ]
  },
  {
   "cell_type": "code",
   "execution_count": null,
   "metadata": {
    "ExecuteTime": {
     "end_time": "2022-03-31T21:31:25.085279Z",
     "start_time": "2022-03-31T21:31:23.759Z"
    }
   },
   "outputs": [],
   "source": [
    "X_train_scaled, X_test_scaled, train_preds, test_preds = scale_n_score(x,y,x2,y2)"
   ]
  },
  {
   "cell_type": "code",
   "execution_count": null,
   "metadata": {
    "ExecuteTime": {
     "end_time": "2022-03-31T21:31:25.085912Z",
     "start_time": "2022-03-31T21:31:23.759Z"
    },
    "scrolled": true
   },
   "outputs": [],
   "source": [
    "get_train_test_metrics(y_train, train_preds, y_test, test_preds)"
   ]
  },
  {
   "cell_type": "markdown",
   "metadata": {},
   "source": [
    "#### Model 4"
   ]
  },
  {
   "cell_type": "code",
   "execution_count": null,
   "metadata": {
    "ExecuteTime": {
     "end_time": "2022-03-31T21:31:25.086407Z",
     "start_time": "2022-03-31T21:31:23.760Z"
    }
   },
   "outputs": [],
   "source": [
    "cols = ['sqft_living', 'bedrooms'] +  encoded_zipcode + encoded_condition\n",
    "y = y_train\n",
    "x = X_train.filter(cols, axis=1)\n",
    "\n",
    "y2 = y_test\n",
    "x2 = X_test.filter(cols, axis=1)"
   ]
  },
  {
   "cell_type": "code",
   "execution_count": null,
   "metadata": {
    "ExecuteTime": {
     "end_time": "2022-03-31T21:31:25.087910Z",
     "start_time": "2022-03-31T21:31:23.761Z"
    }
   },
   "outputs": [],
   "source": [
    "X_train_scaled, X_test_scaled, train_preds, test_preds = scale_n_score(x,y,x2,y2)"
   ]
  },
  {
   "cell_type": "code",
   "execution_count": null,
   "metadata": {
    "ExecuteTime": {
     "end_time": "2022-03-31T21:31:25.088746Z",
     "start_time": "2022-03-31T21:31:23.762Z"
    },
    "scrolled": true
   },
   "outputs": [],
   "source": [
    "get_train_test_metrics(y_train, train_preds, y_test, test_preds)"
   ]
  },
  {
   "cell_type": "markdown",
   "metadata": {},
   "source": [
    "#### Model 5"
   ]
  },
  {
   "cell_type": "markdown",
   "metadata": {},
   "source": [
    "Using columns 'sqft_living', 'bedrooms', 'bathrooms', 'condition', 'view', and the columns created from encoding 'zipcode'. "
   ]
  },
  {
   "cell_type": "code",
   "execution_count": null,
   "metadata": {
    "ExecuteTime": {
     "end_time": "2022-03-31T21:31:25.089455Z",
     "start_time": "2022-03-31T21:31:23.763Z"
    }
   },
   "outputs": [],
   "source": [
    "cols = ['sqft_living', 'bedrooms', 'bathrooms', 'condition', 'view'] +  encoded_zipcode\n",
    "y = y_train\n",
    "x = X_train.filter(cols, axis=1)\n",
    "\n",
    "y2 = y_test\n",
    "x2 = X_test.filter(cols, axis=1)"
   ]
  },
  {
   "cell_type": "code",
   "execution_count": null,
   "metadata": {
    "ExecuteTime": {
     "end_time": "2022-03-31T21:31:25.090592Z",
     "start_time": "2022-03-31T21:31:23.764Z"
    }
   },
   "outputs": [],
   "source": [
    "X_train_scaled, X_test_scaled, train_preds, test_preds = scale_n_score(x,y,x2,y2)"
   ]
  },
  {
   "cell_type": "code",
   "execution_count": null,
   "metadata": {
    "ExecuteTime": {
     "end_time": "2022-03-31T21:31:25.091214Z",
     "start_time": "2022-03-31T21:31:23.765Z"
    },
    "scrolled": true
   },
   "outputs": [],
   "source": [
    "get_train_test_metrics(y_train, train_preds, y_test, test_preds)"
   ]
  },
  {
   "cell_type": "markdown",
   "metadata": {},
   "source": [
    "##### model 5"
   ]
  },
  {
   "cell_type": "markdown",
   "metadata": {},
   "source": [
    "Compared to encoded view and condition."
   ]
  },
  {
   "cell_type": "code",
   "execution_count": null,
   "metadata": {
    "ExecuteTime": {
     "end_time": "2022-03-31T21:31:25.091863Z",
     "start_time": "2022-03-31T21:31:23.766Z"
    }
   },
   "outputs": [],
   "source": [
    "cols = ['sqft_living', 'bedrooms', 'bathrooms'] + encoded_condition + encoded_view + encoded_zipcode\n",
    "y = y_train\n",
    "x = X_train.filter(cols, axis=1)\n",
    "\n",
    "y2 = y_test\n",
    "x2 = X_test.filter(cols, axis=1)"
   ]
  },
  {
   "cell_type": "code",
   "execution_count": null,
   "metadata": {
    "ExecuteTime": {
     "end_time": "2022-03-31T21:31:25.092575Z",
     "start_time": "2022-03-31T21:31:23.767Z"
    }
   },
   "outputs": [],
   "source": [
    "X_train_scaled, X_test_scaled, train_preds, test_preds = scale_n_score(x,y,x2,y2)"
   ]
  },
  {
   "cell_type": "code",
   "execution_count": null,
   "metadata": {
    "ExecuteTime": {
     "end_time": "2022-03-31T21:31:25.093241Z",
     "start_time": "2022-03-31T21:31:23.768Z"
    }
   },
   "outputs": [],
   "source": [
    "get_train_test_metrics(y_train, train_preds, y_test, test_preds)"
   ]
  },
  {
   "cell_type": "markdown",
   "metadata": {},
   "source": [
    "#### Model 6"
   ]
  },
  {
   "cell_type": "markdown",
   "metadata": {},
   "source": [
    "Using columns 'sqft_living', 'bedrooms', 'bathrooms', 'yr_built' and the columns created from encoding 'condition', 'view', and 'zipcode'. "
   ]
  },
  {
   "cell_type": "code",
   "execution_count": null,
   "metadata": {
    "ExecuteTime": {
     "end_time": "2022-03-31T21:31:25.093752Z",
     "start_time": "2022-03-31T21:31:23.769Z"
    }
   },
   "outputs": [],
   "source": [
    "cols = ['sqft_living', 'bedrooms', 'bathrooms', 'yr_built'] + encoded_condition + encoded_view + encoded_zipcode\n",
    "y = y_train\n",
    "x = X_train.filter(cols, axis=1)\n",
    "\n",
    "y2 = y_test\n",
    "x2 = X_test.filter(cols, axis=1)"
   ]
  },
  {
   "cell_type": "code",
   "execution_count": null,
   "metadata": {
    "ExecuteTime": {
     "end_time": "2022-03-31T21:31:25.094296Z",
     "start_time": "2022-03-31T21:31:23.770Z"
    }
   },
   "outputs": [],
   "source": [
    "X_train_scaled, X_test_scaled, train_preds, test_preds = scale_n_score(x,y,x2,y2)"
   ]
  },
  {
   "cell_type": "code",
   "execution_count": null,
   "metadata": {
    "ExecuteTime": {
     "end_time": "2022-03-31T21:31:25.094899Z",
     "start_time": "2022-03-31T21:31:23.771Z"
    }
   },
   "outputs": [],
   "source": [
    "get_train_test_metrics(y_train, train_preds, y_test, test_preds)"
   ]
  },
  {
   "cell_type": "code",
   "execution_count": null,
   "metadata": {
    "ExecuteTime": {
     "end_time": "2022-03-31T21:31:25.095423Z",
     "start_time": "2022-03-31T21:31:23.772Z"
    },
    "scrolled": false
   },
   "outputs": [],
   "source": [
    "lr = LinearRegression()\n",
    "visualizer = ResidualsPlot(lr)\n",
    "\n",
    "visualizer.fit(X_train_scaled, y_train)  # Fit the training data to the visualizer\n",
    "visualizer.score(X_test_scaled, y_test)  # Evaluate the model on the test data\n",
    "visualizer.show()  \n",
    "plt.show()"
   ]
  },
  {
   "cell_type": "code",
   "execution_count": null,
   "metadata": {
    "ExecuteTime": {
     "end_time": "2022-03-31T21:31:25.095993Z",
     "start_time": "2022-03-31T21:31:23.773Z"
    }
   },
   "outputs": [],
   "source": [
    "train_residuals = y_train - train_preds\n",
    "test_residuals = y_test - test_preds\n",
    "sm.qqplot(train_residuals, line = 'r');"
   ]
  },
  {
   "cell_type": "markdown",
   "metadata": {},
   "source": [
    "##### Model 6b"
   ]
  },
  {
   "cell_type": "code",
   "execution_count": null,
   "metadata": {
    "ExecuteTime": {
     "end_time": "2022-03-31T21:31:25.096533Z",
     "start_time": "2022-03-31T21:31:23.774Z"
    }
   },
   "outputs": [],
   "source": [
    "cols = ['sqft_living', 'bathrooms', 'yr_built'] + encoded_bedroom_bin + encoded_condition + encoded_view + encoded_zipcode\n",
    "y = y_train\n",
    "x = X_train.filter(cols, axis=1)\n",
    "\n",
    "y2 = y_test\n",
    "x2 = X_test.filter(cols, axis=1)"
   ]
  },
  {
   "cell_type": "code",
   "execution_count": null,
   "metadata": {
    "ExecuteTime": {
     "end_time": "2022-03-31T21:31:25.097190Z",
     "start_time": "2022-03-31T21:31:23.775Z"
    }
   },
   "outputs": [],
   "source": [
    "X_train_scaled, X_test_scaled, train_preds, test_preds = scale_n_score(x,y,x2,y2)"
   ]
  },
  {
   "cell_type": "code",
   "execution_count": null,
   "metadata": {
    "ExecuteTime": {
     "end_time": "2022-03-31T21:31:25.097810Z",
     "start_time": "2022-03-31T21:31:23.776Z"
    }
   },
   "outputs": [],
   "source": [
    "get_train_test_metrics(y_train, train_preds, y_test, test_preds)"
   ]
  },
  {
   "cell_type": "markdown",
   "metadata": {},
   "source": [
    "#### Model 7"
   ]
  },
  {
   "cell_type": "markdown",
   "metadata": {},
   "source": [
    "Using columns 'sqft_living', 'bedrooms', 'bathrooms', 'yr_built' and the columns created from encoding 'condition', 'view', and 'zipcode'. "
   ]
  },
  {
   "cell_type": "code",
   "execution_count": null,
   "metadata": {
    "ExecuteTime": {
     "end_time": "2022-03-31T21:31:25.098465Z",
     "start_time": "2022-03-31T21:31:23.777Z"
    }
   },
   "outputs": [],
   "source": [
    "cols = ['sqft_living', 'sqft_living15', 'bedrooms', 'bathrooms', 'yr_built'] + encoded_condition + encoded_view + encoded_zipcode\n",
    "y = y_train\n",
    "x = X_train.filter(cols, axis=1)\n",
    "\n",
    "y2 = y_test\n",
    "x2 = X_test.filter(cols, axis=1)"
   ]
  },
  {
   "cell_type": "code",
   "execution_count": null,
   "metadata": {
    "ExecuteTime": {
     "end_time": "2022-03-31T21:31:25.099116Z",
     "start_time": "2022-03-31T21:31:23.778Z"
    }
   },
   "outputs": [],
   "source": [
    "X_train_scaled, X_test_scaled, train_preds, test_preds = scale_n_score(x,y,x2,y2)"
   ]
  },
  {
   "cell_type": "code",
   "execution_count": null,
   "metadata": {
    "ExecuteTime": {
     "end_time": "2022-03-31T21:31:25.099656Z",
     "start_time": "2022-03-31T21:31:23.779Z"
    }
   },
   "outputs": [],
   "source": [
    "get_train_test_metrics(y_train, train_preds, y_test, test_preds)"
   ]
  },
  {
   "cell_type": "markdown",
   "metadata": {},
   "source": [
    "I want to take a look at the interaction between sqft_living and sqft_living15."
   ]
  },
  {
   "cell_type": "code",
   "execution_count": null,
   "metadata": {
    "ExecuteTime": {
     "end_time": "2022-03-31T21:31:25.100238Z",
     "start_time": "2022-03-31T21:31:23.780Z"
    }
   },
   "outputs": [],
   "source": [
    "lr = LinearRegression()\n",
    "visualizer = ResidualsPlot(lr)\n",
    "\n",
    "visualizer.fit(X_train_scaled, y_train)  # Fit the training data to the visualizer\n",
    "visualizer.score(X_test_scaled, y_test)  # Evaluate the model on the test data\n",
    "visualizer.show()  \n",
    "plt.show()"
   ]
  },
  {
   "cell_type": "code",
   "execution_count": null,
   "metadata": {
    "ExecuteTime": {
     "end_time": "2022-03-31T21:31:25.100739Z",
     "start_time": "2022-03-31T21:31:23.781Z"
    }
   },
   "outputs": [],
   "source": [
    "train_residuals = y_train - train_preds\n",
    "test_residuals = y_test - test_preds\n",
    "sm.qqplot(train_residuals, line = 'r');"
   ]
  },
  {
   "cell_type": "markdown",
   "metadata": {},
   "source": [
    "##### Model 7b"
   ]
  },
  {
   "cell_type": "markdown",
   "metadata": {},
   "source": [
    "Using columns 'sqft_living', 'bedrooms', 'bathrooms', 'yr_built' and the columns created from encoding 'bedroom_bin', 'condition', 'view', and 'zipcode'."
   ]
  },
  {
   "cell_type": "code",
   "execution_count": null,
   "metadata": {
    "ExecuteTime": {
     "end_time": "2022-03-31T21:31:25.101347Z",
     "start_time": "2022-03-31T21:31:23.782Z"
    }
   },
   "outputs": [],
   "source": [
    "cols = ['sqft_living', 'sqft_living15', 'bathrooms', 'yr_built'] + encoded_bedroom_bin + encoded_condition + encoded_view + encoded_zipcode\n",
    "y = y_train\n",
    "x = X_train.filter(cols, axis=1)\n",
    "\n",
    "y2 = y_test\n",
    "x2 = X_test.filter(cols, axis=1)"
   ]
  },
  {
   "cell_type": "code",
   "execution_count": null,
   "metadata": {
    "ExecuteTime": {
     "end_time": "2022-03-31T21:31:25.101888Z",
     "start_time": "2022-03-31T21:31:23.783Z"
    }
   },
   "outputs": [],
   "source": [
    "X_train_scaled, X_test_scaled, train_preds, test_preds = scale_n_score(x,y,x2,y2)"
   ]
  },
  {
   "cell_type": "code",
   "execution_count": null,
   "metadata": {
    "ExecuteTime": {
     "end_time": "2022-03-31T21:31:25.102713Z",
     "start_time": "2022-03-31T21:31:23.784Z"
    },
    "scrolled": true
   },
   "outputs": [],
   "source": [
    "get_train_test_metrics(y_train, train_preds, y_test, test_preds)"
   ]
  },
  {
   "cell_type": "code",
   "execution_count": null,
   "metadata": {
    "ExecuteTime": {
     "end_time": "2022-03-31T21:31:25.103408Z",
     "start_time": "2022-03-31T21:31:23.785Z"
    }
   },
   "outputs": [],
   "source": [
    "lr = LinearRegression()\n",
    "visualizer = ResidualsPlot(lr)\n",
    "\n",
    "visualizer.fit(X_train_scaled, y_train)  # Fit the training data to the visualizer\n",
    "visualizer.score(X_test_scaled, y_test)  # Evaluate the model on the test data\n",
    "visualizer.show()  \n",
    "plt.show()\n"
   ]
  },
  {
   "cell_type": "code",
   "execution_count": null,
   "metadata": {
    "ExecuteTime": {
     "end_time": "2022-03-31T21:31:25.104645Z",
     "start_time": "2022-03-31T21:31:23.786Z"
    }
   },
   "outputs": [],
   "source": [
    "train_residuals = y_train - train_preds\n",
    "test_residuals = y_test - test_preds\n",
    "sm.qqplot(train_residuals, line = 'r');"
   ]
  },
  {
   "cell_type": "markdown",
   "metadata": {},
   "source": [
    "#### Model 8"
   ]
  },
  {
   "cell_type": "markdown",
   "metadata": {},
   "source": [
    "Using columns 'sqft_living', 'bedrooms', 'bathrooms', 'yr_built', 'waterfront' and the columns created from encoding 'bedroom_bin', 'condition', 'view', and 'zipcode'."
   ]
  },
  {
   "cell_type": "code",
   "execution_count": null,
   "metadata": {
    "ExecuteTime": {
     "end_time": "2022-03-31T21:31:25.105337Z",
     "start_time": "2022-03-31T21:31:23.788Z"
    }
   },
   "outputs": [],
   "source": [
    "# + encoded_view  , 'waterfront'"
   ]
  },
  {
   "cell_type": "code",
   "execution_count": null,
   "metadata": {
    "ExecuteTime": {
     "end_time": "2022-03-31T21:31:25.106088Z",
     "start_time": "2022-03-31T21:31:23.789Z"
    }
   },
   "outputs": [],
   "source": [
    "cols = ['sqft_living', 'sqft_living15','bathrooms', 'yr_built'] + encoded_bedroom_bin + encoded_condition+ encoded_zipcode \n",
    "y = y_train\n",
    "x = X_train.filter(cols, axis=1)\n",
    "\n",
    "y2 = y_test\n",
    "x2 = X_test.filter(cols, axis=1)"
   ]
  },
  {
   "cell_type": "code",
   "execution_count": null,
   "metadata": {
    "ExecuteTime": {
     "end_time": "2022-03-31T21:31:25.106922Z",
     "start_time": "2022-03-31T21:31:23.790Z"
    }
   },
   "outputs": [],
   "source": [
    "X_train_scaled, X_test_scaled, train_preds, test_preds = scale_n_score(x,y,x2,y2)"
   ]
  },
  {
   "cell_type": "code",
   "execution_count": null,
   "metadata": {
    "ExecuteTime": {
     "end_time": "2022-03-31T21:31:25.107494Z",
     "start_time": "2022-03-31T21:31:23.791Z"
    }
   },
   "outputs": [],
   "source": [
    "get_train_test_metrics(y_train, train_preds, y_test, test_preds)"
   ]
  },
  {
   "cell_type": "code",
   "execution_count": null,
   "metadata": {
    "ExecuteTime": {
     "end_time": "2022-03-31T21:31:25.108169Z",
     "start_time": "2022-03-31T21:31:23.792Z"
    },
    "scrolled": false
   },
   "outputs": [],
   "source": [
    "lr = LinearRegression()\n",
    "visualizer = ResidualsPlot(lr)\n",
    "\n",
    "visualizer.fit(X_train_scaled, y_train)  # Fit the training data to the visualizer\n",
    "visualizer.score(X_test_scaled, y_test)  # Evaluate the model on the test data\n",
    "visualizer.show()  \n",
    "plt.show()"
   ]
  },
  {
   "cell_type": "code",
   "execution_count": null,
   "metadata": {
    "ExecuteTime": {
     "end_time": "2022-03-31T21:31:25.108745Z",
     "start_time": "2022-03-31T21:31:23.793Z"
    }
   },
   "outputs": [],
   "source": [
    "train_residuals = y_train - train_preds\n",
    "test_residuals = y_test - test_preds\n",
    "sm.qqplot(train_residuals, line = 'r');"
   ]
  },
  {
   "cell_type": "code",
   "execution_count": null,
   "metadata": {
    "ExecuteTime": {
     "end_time": "2022-03-31T21:31:25.109319Z",
     "start_time": "2022-03-31T21:31:23.794Z"
    },
    "scrolled": false
   },
   "outputs": [],
   "source": [
    "y = y_train\n",
    "x = X_train.filter(cols, axis=1)\n",
    "x = sm.add_constant(x)\n",
    "model = sm.OLS(y, x).fit()\n",
    "model.summary()"
   ]
  },
  {
   "cell_type": "code",
   "execution_count": null,
   "metadata": {
    "ExecuteTime": {
     "end_time": "2022-03-31T21:31:25.109988Z",
     "start_time": "2022-03-31T21:31:23.795Z"
    }
   },
   "outputs": [],
   "source": [
    "X_potentials = pd.DataFrame(columns = X_train.columns)"
   ]
  },
  {
   "cell_type": "code",
   "execution_count": null,
   "metadata": {
    "ExecuteTime": {
     "end_time": "2022-03-31T21:31:25.110608Z",
     "start_time": "2022-03-31T21:31:23.796Z"
    }
   },
   "outputs": [],
   "source": [
    "for num in range(0,1):\n",
    "    X_potentials = X_potentials.append(\n",
    "    pd.Series(0, index=X_potentials.columns), \n",
    "    ignore_index=True)"
   ]
  },
  {
   "cell_type": "code",
   "execution_count": null,
   "metadata": {
    "ExecuteTime": {
     "end_time": "2022-03-31T21:31:25.111167Z",
     "start_time": "2022-03-31T21:31:23.797Z"
    }
   },
   "outputs": [],
   "source": [
    "X_potentials['sqft_living'].replace(0,df['sqft_living'].median(),inplace=True)\n",
    "X_potentials['sqft_living15'].replace(0,df['sqft_living15'].median(),inplace=True)\n",
    "X_potentials['bathrooms'].replace(0,df.bathrooms.value_counts().index[0],inplace=True)\n",
    "X_potentials['yr_built'].replace(0,df.yr_built.value_counts().index[0],inplace=True)\n",
    "\n",
    "X_potentials['bedrooms_bin_x0_3BR'].replace(0,1,inplace=True)\n",
    "\n",
    "#condition not needed. By default average\n",
    "\n",
    "X_potentials['zipcode_x0_98103'].replace(0,1,inplace=True)\n",
    "\n",
    "\n",
    "X_potentials2 = X_potentials"
   ]
  },
  {
   "cell_type": "code",
   "execution_count": null,
   "metadata": {
    "ExecuteTime": {
     "end_time": "2022-03-31T21:31:25.111723Z",
     "start_time": "2022-03-31T21:31:23.798Z"
    },
    "scrolled": true
   },
   "outputs": [],
   "source": [
    "X_potentials[cols].columns"
   ]
  },
  {
   "cell_type": "code",
   "execution_count": null,
   "metadata": {
    "ExecuteTime": {
     "end_time": "2022-03-31T21:31:25.112310Z",
     "start_time": "2022-03-31T21:31:23.799Z"
    },
    "scrolled": true
   },
   "outputs": [],
   "source": [
    "X_potentials.filter(cols, axis=1).head(1)"
   ]
  },
  {
   "cell_type": "code",
   "execution_count": null,
   "metadata": {
    "ExecuteTime": {
     "end_time": "2022-03-31T21:31:25.112983Z",
     "start_time": "2022-03-31T21:31:23.800Z"
    }
   },
   "outputs": [],
   "source": [
    "visualizer.predict(X_potentials[cols])"
   ]
  },
  {
   "cell_type": "code",
   "execution_count": null,
   "metadata": {
    "ExecuteTime": {
     "end_time": "2022-03-31T21:31:25.113568Z",
     "start_time": "2022-03-31T21:31:23.802Z"
    }
   },
   "outputs": [],
   "source": [
    "lr.predict(X_potentials[cols])"
   ]
  },
  {
   "cell_type": "code",
   "execution_count": null,
   "metadata": {
    "ExecuteTime": {
     "end_time": "2022-03-31T21:31:25.114269Z",
     "start_time": "2022-03-31T21:31:23.803Z"
    },
    "scrolled": true
   },
   "outputs": [],
   "source": [
    "df['yr_built'].value_counts().head(10)"
   ]
  },
  {
   "cell_type": "code",
   "execution_count": null,
   "metadata": {
    "ExecuteTime": {
     "end_time": "2022-03-31T21:31:25.114851Z",
     "start_time": "2022-03-31T21:31:23.804Z"
    }
   },
   "outputs": [],
   "source": [
    "vis_data2 = y_test.to_frame().value_counts()\n",
    "vis_data2"
   ]
  },
  {
   "cell_type": "code",
   "execution_count": null,
   "metadata": {
    "ExecuteTime": {
     "end_time": "2022-03-31T21:31:25.115609Z",
     "start_time": "2022-03-31T21:31:23.805Z"
    },
    "scrolled": false
   },
   "outputs": [],
   "source": [
    "vis_data = y_test.to_frame().sort_values(by='price', ascending=False)\n",
    "vis_data['prediction'] = test_preds\n",
    "vis_data[920:930]"
   ]
  },
  {
   "cell_type": "code",
   "execution_count": null,
   "metadata": {},
   "outputs": [],
   "source": []
  },
  {
   "cell_type": "code",
   "execution_count": null,
   "metadata": {
    "ExecuteTime": {
     "end_time": "2022-03-31T21:31:25.116356Z",
     "start_time": "2022-03-31T21:31:23.807Z"
    },
    "scrolled": true
   },
   "outputs": [],
   "source": [
    "vis_data = y_test.to_frame()\n",
    "vis_data['prediction'] = test_preds\n",
    "vis_data.sort_values(by='price', ascending=False)[925:930]"
   ]
  },
  {
   "cell_type": "code",
   "execution_count": null,
   "metadata": {
    "ExecuteTime": {
     "end_time": "2022-03-31T21:31:25.116959Z",
     "start_time": "2022-03-31T21:31:23.808Z"
    }
   },
   "outputs": [],
   "source": [
    "# Visualization\n",
    "y = np.arange(5)\n",
    "h = 0.6\n",
    "\n",
    "fig, ax = plt.subplots(figsize=(10,10))\n",
    "\n",
    "\n",
    "ax.set_title(f'Price vs Predictions')\n",
    "ax.set_ylabel('Price')\n",
    "ax.set_xlabel('Examples')\n",
    "\n",
    "ax.yaxis.set_major_formatter(ticker.StrMethodFormatter('${x:,.0f}'))\n",
    "ax.bar(y-h/3, vis_data.sort_values(by='price', ascending=False)[925:930]['price'], h/1.5)\n",
    "ax.bar(y+h/3, vis_data.sort_values(by='price', ascending=False)[925:930]['prediction'], h/1.5, color='orange')\n",
    "\n",
    "ax.legend(['Actual Price', 'Predicted Price']);\n",
    "ax.grid(False)\n",
    "\n",
    "fig.savefig('../../images/price_vs_preds.jpg',\n",
    "            transparent = False,bbox_inches=\"tight\");"
   ]
  },
  {
   "cell_type": "code",
   "execution_count": null,
   "metadata": {
    "ExecuteTime": {
     "end_time": "2022-03-31T21:31:25.117615Z",
     "start_time": "2022-03-31T21:31:23.809Z"
    }
   },
   "outputs": [],
   "source": [
    "df['bedrooms'].value_counts()"
   ]
  },
  {
   "cell_type": "code",
   "execution_count": null,
   "metadata": {
    "ExecuteTime": {
     "end_time": "2022-03-31T21:31:25.118071Z",
     "start_time": "2022-03-31T21:31:23.810Z"
    }
   },
   "outputs": [],
   "source": [
    "df['condition'].value_counts()"
   ]
  },
  {
   "cell_type": "code",
   "execution_count": null,
   "metadata": {
    "ExecuteTime": {
     "end_time": "2022-03-31T21:31:25.118654Z",
     "start_time": "2022-03-31T21:31:23.810Z"
    },
    "scrolled": true
   },
   "outputs": [],
   "source": [
    "df2 = df.filter(['condition', 'yr_built'])\n",
    "df2.groupby('condition').median()['yr_built']"
   ]
  },
  {
   "cell_type": "code",
   "execution_count": null,
   "metadata": {},
   "outputs": [],
   "source": []
  },
  {
   "cell_type": "code",
   "execution_count": null,
   "metadata": {},
   "outputs": [],
   "source": []
  },
  {
   "cell_type": "code",
   "execution_count": null,
   "metadata": {},
   "outputs": [],
   "source": []
  },
  {
   "cell_type": "code",
   "execution_count": null,
   "metadata": {},
   "outputs": [],
   "source": []
  },
  {
   "cell_type": "code",
   "execution_count": null,
   "metadata": {},
   "outputs": [],
   "source": []
  },
  {
   "cell_type": "code",
   "execution_count": null,
   "metadata": {},
   "outputs": [],
   "source": []
  }
 ],
 "metadata": {
  "kernelspec": {
   "display_name": "Python (learn-env)",
   "language": "python",
   "name": "learn-env"
  },
  "language_info": {
   "codemirror_mode": {
    "name": "ipython",
    "version": 3
   },
   "file_extension": ".py",
   "mimetype": "text/x-python",
   "name": "python",
   "nbconvert_exporter": "python",
   "pygments_lexer": "ipython3",
   "version": "3.8.5"
  },
  "toc": {
   "base_numbering": 1,
   "nav_menu": {},
   "number_sections": true,
   "sideBar": true,
   "skip_h1_title": false,
   "title_cell": "Table of Contents",
   "title_sidebar": "Contents",
   "toc_cell": false,
   "toc_position": {
    "height": "calc(100% - 180px)",
    "left": "10px",
    "top": "150px",
    "width": "298.094px"
   },
   "toc_section_display": true,
   "toc_window_display": false
  }
 },
 "nbformat": 4,
 "nbformat_minor": 4
}
