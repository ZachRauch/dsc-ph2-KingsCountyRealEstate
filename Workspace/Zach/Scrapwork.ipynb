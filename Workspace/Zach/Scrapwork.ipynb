{
 "cells": [
  {
   "cell_type": "markdown",
   "metadata": {},
   "source": [
    "# Imports"
   ]
  },
  {
   "cell_type": "code",
   "execution_count": 1,
   "metadata": {
    "ExecuteTime": {
     "end_time": "2022-03-31T19:52:09.796992Z",
     "start_time": "2022-03-31T19:52:08.743616Z"
    }
   },
   "outputs": [],
   "source": [
    "import pandas as pd\n",
    "import numpy as np\n",
    "import seaborn as sns\n",
    "import statsmodels.api as sm\n",
    "from statsmodels.formula.api import ols\n",
    "import matplotlib.pyplot as plt\n",
    "from sklearn.preprocessing import MinMaxScaler\n",
    "from scipy import stats"
   ]
  },
  {
   "cell_type": "code",
   "execution_count": 2,
   "metadata": {
    "ExecuteTime": {
     "end_time": "2022-03-31T19:52:09.849327Z",
     "start_time": "2022-03-31T19:52:09.798024Z"
    }
   },
   "outputs": [
    {
     "data": {
      "text/html": [
       "<div>\n",
       "<style scoped>\n",
       "    .dataframe tbody tr th:only-of-type {\n",
       "        vertical-align: middle;\n",
       "    }\n",
       "\n",
       "    .dataframe tbody tr th {\n",
       "        vertical-align: top;\n",
       "    }\n",
       "\n",
       "    .dataframe thead th {\n",
       "        text-align: right;\n",
       "    }\n",
       "</style>\n",
       "<table border=\"1\" class=\"dataframe\">\n",
       "  <thead>\n",
       "    <tr style=\"text-align: right;\">\n",
       "      <th></th>\n",
       "      <th>id</th>\n",
       "      <th>date</th>\n",
       "      <th>price</th>\n",
       "      <th>bedrooms</th>\n",
       "      <th>bathrooms</th>\n",
       "      <th>sqft_living</th>\n",
       "      <th>sqft_lot</th>\n",
       "      <th>floors</th>\n",
       "      <th>waterfront</th>\n",
       "      <th>view</th>\n",
       "      <th>...</th>\n",
       "      <th>grade</th>\n",
       "      <th>sqft_above</th>\n",
       "      <th>sqft_basement</th>\n",
       "      <th>yr_built</th>\n",
       "      <th>yr_renovated</th>\n",
       "      <th>zipcode</th>\n",
       "      <th>lat</th>\n",
       "      <th>long</th>\n",
       "      <th>sqft_living15</th>\n",
       "      <th>sqft_lot15</th>\n",
       "    </tr>\n",
       "  </thead>\n",
       "  <tbody>\n",
       "    <tr>\n",
       "      <th>0</th>\n",
       "      <td>7129300520</td>\n",
       "      <td>10/13/2014</td>\n",
       "      <td>221900.0</td>\n",
       "      <td>3</td>\n",
       "      <td>1.00</td>\n",
       "      <td>1180</td>\n",
       "      <td>5650</td>\n",
       "      <td>1.0</td>\n",
       "      <td>NaN</td>\n",
       "      <td>NONE</td>\n",
       "      <td>...</td>\n",
       "      <td>7 Average</td>\n",
       "      <td>1180</td>\n",
       "      <td>0.0</td>\n",
       "      <td>1955</td>\n",
       "      <td>0.0</td>\n",
       "      <td>98178</td>\n",
       "      <td>47.5112</td>\n",
       "      <td>-122.257</td>\n",
       "      <td>1340</td>\n",
       "      <td>5650</td>\n",
       "    </tr>\n",
       "    <tr>\n",
       "      <th>1</th>\n",
       "      <td>6414100192</td>\n",
       "      <td>12/9/2014</td>\n",
       "      <td>538000.0</td>\n",
       "      <td>3</td>\n",
       "      <td>2.25</td>\n",
       "      <td>2570</td>\n",
       "      <td>7242</td>\n",
       "      <td>2.0</td>\n",
       "      <td>NO</td>\n",
       "      <td>NONE</td>\n",
       "      <td>...</td>\n",
       "      <td>7 Average</td>\n",
       "      <td>2170</td>\n",
       "      <td>400.0</td>\n",
       "      <td>1951</td>\n",
       "      <td>1991.0</td>\n",
       "      <td>98125</td>\n",
       "      <td>47.7210</td>\n",
       "      <td>-122.319</td>\n",
       "      <td>1690</td>\n",
       "      <td>7639</td>\n",
       "    </tr>\n",
       "    <tr>\n",
       "      <th>2</th>\n",
       "      <td>5631500400</td>\n",
       "      <td>2/25/2015</td>\n",
       "      <td>180000.0</td>\n",
       "      <td>2</td>\n",
       "      <td>1.00</td>\n",
       "      <td>770</td>\n",
       "      <td>10000</td>\n",
       "      <td>1.0</td>\n",
       "      <td>NO</td>\n",
       "      <td>NONE</td>\n",
       "      <td>...</td>\n",
       "      <td>6 Low Average</td>\n",
       "      <td>770</td>\n",
       "      <td>0.0</td>\n",
       "      <td>1933</td>\n",
       "      <td>NaN</td>\n",
       "      <td>98028</td>\n",
       "      <td>47.7379</td>\n",
       "      <td>-122.233</td>\n",
       "      <td>2720</td>\n",
       "      <td>8062</td>\n",
       "    </tr>\n",
       "    <tr>\n",
       "      <th>3</th>\n",
       "      <td>2487200875</td>\n",
       "      <td>12/9/2014</td>\n",
       "      <td>604000.0</td>\n",
       "      <td>4</td>\n",
       "      <td>3.00</td>\n",
       "      <td>1960</td>\n",
       "      <td>5000</td>\n",
       "      <td>1.0</td>\n",
       "      <td>NO</td>\n",
       "      <td>NONE</td>\n",
       "      <td>...</td>\n",
       "      <td>7 Average</td>\n",
       "      <td>1050</td>\n",
       "      <td>910.0</td>\n",
       "      <td>1965</td>\n",
       "      <td>0.0</td>\n",
       "      <td>98136</td>\n",
       "      <td>47.5208</td>\n",
       "      <td>-122.393</td>\n",
       "      <td>1360</td>\n",
       "      <td>5000</td>\n",
       "    </tr>\n",
       "    <tr>\n",
       "      <th>4</th>\n",
       "      <td>1954400510</td>\n",
       "      <td>2/18/2015</td>\n",
       "      <td>510000.0</td>\n",
       "      <td>3</td>\n",
       "      <td>2.00</td>\n",
       "      <td>1680</td>\n",
       "      <td>8080</td>\n",
       "      <td>1.0</td>\n",
       "      <td>NO</td>\n",
       "      <td>NONE</td>\n",
       "      <td>...</td>\n",
       "      <td>8 Good</td>\n",
       "      <td>1680</td>\n",
       "      <td>0.0</td>\n",
       "      <td>1987</td>\n",
       "      <td>0.0</td>\n",
       "      <td>98074</td>\n",
       "      <td>47.6168</td>\n",
       "      <td>-122.045</td>\n",
       "      <td>1800</td>\n",
       "      <td>7503</td>\n",
       "    </tr>\n",
       "  </tbody>\n",
       "</table>\n",
       "<p>5 rows × 21 columns</p>\n",
       "</div>"
      ],
      "text/plain": [
       "           id        date     price  bedrooms  bathrooms  sqft_living  \\\n",
       "0  7129300520  10/13/2014  221900.0         3       1.00         1180   \n",
       "1  6414100192   12/9/2014  538000.0         3       2.25         2570   \n",
       "2  5631500400   2/25/2015  180000.0         2       1.00          770   \n",
       "3  2487200875   12/9/2014  604000.0         4       3.00         1960   \n",
       "4  1954400510   2/18/2015  510000.0         3       2.00         1680   \n",
       "\n",
       "   sqft_lot  floors waterfront  view  ...          grade sqft_above  \\\n",
       "0      5650     1.0        NaN  NONE  ...      7 Average       1180   \n",
       "1      7242     2.0         NO  NONE  ...      7 Average       2170   \n",
       "2     10000     1.0         NO  NONE  ...  6 Low Average        770   \n",
       "3      5000     1.0         NO  NONE  ...      7 Average       1050   \n",
       "4      8080     1.0         NO  NONE  ...         8 Good       1680   \n",
       "\n",
       "   sqft_basement yr_built  yr_renovated  zipcode      lat     long  \\\n",
       "0            0.0     1955           0.0    98178  47.5112 -122.257   \n",
       "1          400.0     1951        1991.0    98125  47.7210 -122.319   \n",
       "2            0.0     1933           NaN    98028  47.7379 -122.233   \n",
       "3          910.0     1965           0.0    98136  47.5208 -122.393   \n",
       "4            0.0     1987           0.0    98074  47.6168 -122.045   \n",
       "\n",
       "   sqft_living15  sqft_lot15  \n",
       "0           1340        5650  \n",
       "1           1690        7639  \n",
       "2           2720        8062  \n",
       "3           1360        5000  \n",
       "4           1800        7503  \n",
       "\n",
       "[5 rows x 21 columns]"
      ]
     },
     "execution_count": 2,
     "metadata": {},
     "output_type": "execute_result"
    }
   ],
   "source": [
    "df = pd.read_csv('../../data/kc_house_data.csv')\n",
    "df.head()"
   ]
  },
  {
   "cell_type": "code",
   "execution_count": 3,
   "metadata": {
    "ExecuteTime": {
     "end_time": "2022-03-31T19:52:09.857282Z",
     "start_time": "2022-03-31T19:52:09.850565Z"
    },
    "scrolled": true
   },
   "outputs": [
    {
     "data": {
      "text/plain": [
       "7 Average        8974\n",
       "8 Good           6065\n",
       "9 Better         2615\n",
       "6 Low Average    2038\n",
       "10 Very Good     1134\n",
       "11 Excellent      399\n",
       "5 Fair            242\n",
       "12 Luxury          89\n",
       "4 Low              27\n",
       "13 Mansion         13\n",
       "3 Poor              1\n",
       "Name: grade, dtype: int64"
      ]
     },
     "execution_count": 3,
     "metadata": {},
     "output_type": "execute_result"
    }
   ],
   "source": [
    "df['grade'].value_counts()"
   ]
  },
  {
   "cell_type": "code",
   "execution_count": 4,
   "metadata": {
    "ExecuteTime": {
     "end_time": "2022-03-31T19:52:09.866149Z",
     "start_time": "2022-03-31T19:52:09.858603Z"
    },
    "scrolled": false
   },
   "outputs": [
    {
     "data": {
      "text/html": [
       "<div>\n",
       "<style scoped>\n",
       "    .dataframe tbody tr th:only-of-type {\n",
       "        vertical-align: middle;\n",
       "    }\n",
       "\n",
       "    .dataframe tbody tr th {\n",
       "        vertical-align: top;\n",
       "    }\n",
       "\n",
       "    .dataframe thead th {\n",
       "        text-align: right;\n",
       "    }\n",
       "</style>\n",
       "<table border=\"1\" class=\"dataframe\">\n",
       "  <thead>\n",
       "    <tr style=\"text-align: right;\">\n",
       "      <th></th>\n",
       "      <th>price</th>\n",
       "    </tr>\n",
       "    <tr>\n",
       "      <th>grade</th>\n",
       "      <th></th>\n",
       "    </tr>\n",
       "  </thead>\n",
       "  <tbody>\n",
       "    <tr>\n",
       "      <th>7 Average</th>\n",
       "      <td>3.612884e+09</td>\n",
       "    </tr>\n",
       "    <tr>\n",
       "      <th>8 Good</th>\n",
       "      <td>3.293215e+09</td>\n",
       "    </tr>\n",
       "    <tr>\n",
       "      <th>9 Better</th>\n",
       "      <td>2.023325e+09</td>\n",
       "    </tr>\n",
       "    <tr>\n",
       "      <th>10 Very Good</th>\n",
       "      <td>1.216042e+09</td>\n",
       "    </tr>\n",
       "    <tr>\n",
       "      <th>6 Low Average</th>\n",
       "      <td>6.153060e+08</td>\n",
       "    </tr>\n",
       "    <tr>\n",
       "      <th>11 Excellent</th>\n",
       "      <td>5.976192e+08</td>\n",
       "    </tr>\n",
       "    <tr>\n",
       "      <th>12 Luxury</th>\n",
       "      <td>1.960250e+08</td>\n",
       "    </tr>\n",
       "    <tr>\n",
       "      <th>5 Fair</th>\n",
       "      <td>6.014280e+07</td>\n",
       "    </tr>\n",
       "    <tr>\n",
       "      <th>13 Mansion</th>\n",
       "      <td>4.824000e+07</td>\n",
       "    </tr>\n",
       "    <tr>\n",
       "      <th>4 Low</th>\n",
       "      <td>5.724050e+06</td>\n",
       "    </tr>\n",
       "    <tr>\n",
       "      <th>3 Poor</th>\n",
       "      <td>2.620000e+05</td>\n",
       "    </tr>\n",
       "  </tbody>\n",
       "</table>\n",
       "</div>"
      ],
      "text/plain": [
       "                      price\n",
       "grade                      \n",
       "7 Average      3.612884e+09\n",
       "8 Good         3.293215e+09\n",
       "9 Better       2.023325e+09\n",
       "10 Very Good   1.216042e+09\n",
       "6 Low Average  6.153060e+08\n",
       "11 Excellent   5.976192e+08\n",
       "12 Luxury      1.960250e+08\n",
       "5 Fair         6.014280e+07\n",
       "13 Mansion     4.824000e+07\n",
       "4 Low          5.724050e+06\n",
       "3 Poor         2.620000e+05"
      ]
     },
     "execution_count": 4,
     "metadata": {},
     "output_type": "execute_result"
    }
   ],
   "source": [
    "df2 = df.filter(['price', 'grade'])\n",
    "df2.groupby(['grade']).sum().sort_values(['price'], ascending=False)"
   ]
  },
  {
   "cell_type": "code",
   "execution_count": 5,
   "metadata": {
    "ExecuteTime": {
     "end_time": "2022-03-31T19:52:09.974855Z",
     "start_time": "2022-03-31T19:52:09.867742Z"
    }
   },
   "outputs": [
    {
     "data": {
      "image/png": "[encoded data removed]",
      "text/plain": [
       "<Figure size 720x432 with 1 Axes>"
      ]
     },
     "metadata": {
      "needs_background": "light"
     },
     "output_type": "display_data"
    }
   ],
   "source": [
    "grade_vs_price = df2.groupby(['grade']).sum().sort_values(['price'], ascending=False)\n",
    "\n",
    "fig, ax = plt.subplots(figsize=(10,6))\n",
    "\n",
    "ax.barh(y=grade_vs_price.index, width=grade_vs_price['price'], color=\"navy\")\n",
    "ax.invert_yaxis()\n",
    "ax.set_title('Grade and Revenue')\n",
    "ax.set_ylabel('Grade')\n",
    "ax.set_xlabel('Potential Revenue');"
   ]
  },
  {
   "cell_type": "code",
   "execution_count": 6,
   "metadata": {
    "ExecuteTime": {
     "end_time": "2022-03-31T19:52:10.070834Z",
     "start_time": "2022-03-31T19:52:09.975980Z"
    }
   },
   "outputs": [
    {
     "data": {
      "image/png": "[encoded data removed]",
      "text/plain": [
       "<Figure size 720x432 with 1 Axes>"
      ]
     },
     "metadata": {
      "needs_background": "light"
     },
     "output_type": "display_data"
    }
   ],
   "source": [
    "grade_vs_price = df2.groupby(['grade']).mean().sort_values(['price'], ascending=False)\n",
    "\n",
    "fig, ax = plt.subplots(figsize=(10,6))\n",
    "\n",
    "ax.barh(y=grade_vs_price.index, width=grade_vs_price['price'], color=\"navy\")\n",
    "ax.invert_yaxis()\n",
    "ax.set_title('Grade and Price')\n",
    "ax.set_ylabel('Grade')\n",
    "ax.set_xlabel('Price');"
   ]
  },
  {
   "cell_type": "markdown",
   "metadata": {},
   "source": [
    "#### Cleaning"
   ]
  },
  {
   "cell_type": "code",
   "execution_count": 7,
   "metadata": {
    "ExecuteTime": {
     "end_time": "2022-03-31T19:52:10.083193Z",
     "start_time": "2022-03-31T19:52:10.071930Z"
    },
    "scrolled": true
   },
   "outputs": [
    {
     "name": "stdout",
     "output_type": "stream",
     "text": [
      "<class 'pandas.core.frame.DataFrame'>\n",
      "RangeIndex: 21597 entries, 0 to 21596\n",
      "Data columns (total 21 columns):\n",
      " #   Column         Non-Null Count  Dtype  \n",
      "---  ------         --------------  -----  \n",
      " 0   id             21597 non-null  int64  \n",
      " 1   date           21597 non-null  object \n",
      " 2   price          21597 non-null  float64\n",
      " 3   bedrooms       21597 non-null  int64  \n",
      " 4   bathrooms      21597 non-null  float64\n",
      " 5   sqft_living    21597 non-null  int64  \n",
      " 6   sqft_lot       21597 non-null  int64  \n",
      " 7   floors         21597 non-null  float64\n",
      " 8   waterfront     19221 non-null  object \n",
      " 9   view           21534 non-null  object \n",
      " 10  condition      21597 non-null  object \n",
      " 11  grade          21597 non-null  object \n",
      " 12  sqft_above     21597 non-null  int64  \n",
      " 13  sqft_basement  21597 non-null  object \n",
      " 14  yr_built       21597 non-null  int64  \n",
      " 15  yr_renovated   17755 non-null  float64\n",
      " 16  zipcode        21597 non-null  int64  \n",
      " 17  lat            21597 non-null  float64\n",
      " 18  long           21597 non-null  float64\n",
      " 19  sqft_living15  21597 non-null  int64  \n",
      " 20  sqft_lot15     21597 non-null  int64  \n",
      "dtypes: float64(6), int64(9), object(6)\n",
      "memory usage: 3.5+ MB\n"
     ]
    }
   ],
   "source": [
    "df.info()"
   ]
  },
  {
   "cell_type": "markdown",
   "metadata": {},
   "source": [
    "`sqft_above` - Square footage of house apart from basement\n",
    "\n",
    "`sqft_living15` - The square footage of interior housing living space for the nearest 15 neighbors.\n",
    "\n",
    "`sqft_living` - Square footage of living space in the home.\n"
   ]
  },
  {
   "cell_type": "code",
   "execution_count": 8,
   "metadata": {
    "ExecuteTime": {
     "end_time": "2022-03-31T19:52:10.091832Z",
     "start_time": "2022-03-31T19:52:10.086276Z"
    }
   },
   "outputs": [
    {
     "data": {
      "text/plain": [
       "0.0       12826\n",
       "?           454\n",
       "600.0       217\n",
       "500.0       209\n",
       "700.0       208\n",
       "          ...  \n",
       "1008.0        1\n",
       "374.0         1\n",
       "2180.0        1\n",
       "915.0         1\n",
       "225.0         1\n",
       "Name: sqft_basement, Length: 304, dtype: int64"
      ]
     },
     "execution_count": 8,
     "metadata": {},
     "output_type": "execute_result"
    }
   ],
   "source": [
    "df['sqft_basement'].value_counts()"
   ]
  },
  {
   "cell_type": "code",
   "execution_count": 9,
   "metadata": {
    "ExecuteTime": {
     "end_time": "2022-03-31T19:52:10.094850Z",
     "start_time": "2022-03-31T19:52:10.093538Z"
    }
   },
   "outputs": [],
   "source": [
    "#df['sqft_basement'].replace('?', 0, inplace=True)\n",
    "#df['sqft_basement'] = df['sqft_basement'].astype(float)"
   ]
  },
  {
   "cell_type": "code",
   "execution_count": 10,
   "metadata": {
    "ExecuteTime": {
     "end_time": "2022-03-31T19:52:10.101920Z",
     "start_time": "2022-03-31T19:52:10.096085Z"
    }
   },
   "outputs": [],
   "source": [
    "df['condition'] = df['condition'].map({'Very Good':5,\n",
    "                             'Good':4,\n",
    "                             'Average':3,\n",
    "                             'Fair':2,\n",
    "                             'Poor':1})"
   ]
  },
  {
   "cell_type": "code",
   "execution_count": 11,
   "metadata": {
    "ExecuteTime": {
     "end_time": "2022-03-31T19:52:10.108755Z",
     "start_time": "2022-03-31T19:52:10.103436Z"
    }
   },
   "outputs": [],
   "source": [
    "df['grade'] = df['grade'].map({'EXCELLENT':5,\n",
    "                             'GOOD':4,\n",
    "                             'FAIR':3,\n",
    "                             'AVERAGE':2,\n",
    "                             'NONE':1})"
   ]
  },
  {
   "cell_type": "code",
   "execution_count": 12,
   "metadata": {
    "ExecuteTime": {
     "end_time": "2022-03-31T19:52:10.119219Z",
     "start_time": "2022-03-31T19:52:10.109609Z"
    }
   },
   "outputs": [
    {
     "data": {
      "text/html": [
       "<div>\n",
       "<style scoped>\n",
       "    .dataframe tbody tr th:only-of-type {\n",
       "        vertical-align: middle;\n",
       "    }\n",
       "\n",
       "    .dataframe tbody tr th {\n",
       "        vertical-align: top;\n",
       "    }\n",
       "\n",
       "    .dataframe thead th {\n",
       "        text-align: right;\n",
       "    }\n",
       "</style>\n",
       "<table border=\"1\" class=\"dataframe\">\n",
       "  <thead>\n",
       "    <tr style=\"text-align: right;\">\n",
       "      <th></th>\n",
       "      <th>grade</th>\n",
       "      <th>price</th>\n",
       "    </tr>\n",
       "  </thead>\n",
       "  <tbody>\n",
       "    <tr>\n",
       "      <th>0</th>\n",
       "      <td>NaN</td>\n",
       "      <td>221900.0</td>\n",
       "    </tr>\n",
       "    <tr>\n",
       "      <th>1</th>\n",
       "      <td>NaN</td>\n",
       "      <td>538000.0</td>\n",
       "    </tr>\n",
       "    <tr>\n",
       "      <th>2</th>\n",
       "      <td>NaN</td>\n",
       "      <td>180000.0</td>\n",
       "    </tr>\n",
       "    <tr>\n",
       "      <th>3</th>\n",
       "      <td>NaN</td>\n",
       "      <td>604000.0</td>\n",
       "    </tr>\n",
       "    <tr>\n",
       "      <th>4</th>\n",
       "      <td>NaN</td>\n",
       "      <td>510000.0</td>\n",
       "    </tr>\n",
       "  </tbody>\n",
       "</table>\n",
       "</div>"
      ],
      "text/plain": [
       "   grade     price\n",
       "0    NaN  221900.0\n",
       "1    NaN  538000.0\n",
       "2    NaN  180000.0\n",
       "3    NaN  604000.0\n",
       "4    NaN  510000.0"
      ]
     },
     "execution_count": 12,
     "metadata": {},
     "output_type": "execute_result"
    }
   ],
   "source": [
    "grade_df = df.filter(['grade', 'price'])\n",
    "grade_df.replace('13 Mansion', 13, inplace=True) \n",
    "grade_df.replace('12 Luxury', 12, inplace=True) \n",
    "grade_df.replace('11 Excellent', 11, inplace=True) \n",
    "grade_df.replace('10 Very Good', 10, inplace=True) \n",
    "grade_df.replace('9 Better', 9, inplace=True) \n",
    "grade_df.replace('8 Good', 8, inplace=True) \n",
    "grade_df.replace('7 Average', 7, inplace=True) \n",
    "grade_df.replace('6 Low Average', 6, inplace=True) \n",
    "grade_df.replace('5 Fair', 5, inplace=True) \n",
    "grade_df.replace('4 Low', 4, inplace=True) \n",
    "grade_df.replace('3 Poor', 3, inplace=True) \n",
    "grade_df.head()\n",
    "#make function?"
   ]
  },
  {
   "cell_type": "code",
   "execution_count": 13,
   "metadata": {
    "ExecuteTime": {
     "end_time": "2022-03-31T19:52:10.129305Z",
     "start_time": "2022-03-31T19:52:10.120118Z"
    },
    "scrolled": false
   },
   "outputs": [
    {
     "name": "stdout",
     "output_type": "stream",
     "text": [
      "<class 'pandas.core.frame.DataFrame'>\n",
      "RangeIndex: 21597 entries, 0 to 21596\n",
      "Data columns (total 21 columns):\n",
      " #   Column         Non-Null Count  Dtype  \n",
      "---  ------         --------------  -----  \n",
      " 0   id             21597 non-null  int64  \n",
      " 1   date           21597 non-null  object \n",
      " 2   price          21597 non-null  float64\n",
      " 3   bedrooms       21597 non-null  int64  \n",
      " 4   bathrooms      21597 non-null  float64\n",
      " 5   sqft_living    21597 non-null  int64  \n",
      " 6   sqft_lot       21597 non-null  int64  \n",
      " 7   floors         21597 non-null  float64\n",
      " 8   waterfront     19221 non-null  object \n",
      " 9   view           21534 non-null  object \n",
      " 10  condition      21597 non-null  int64  \n",
      " 11  grade          0 non-null      float64\n",
      " 12  sqft_above     21597 non-null  int64  \n",
      " 13  sqft_basement  21597 non-null  object \n",
      " 14  yr_built       21597 non-null  int64  \n",
      " 15  yr_renovated   17755 non-null  float64\n",
      " 16  zipcode        21597 non-null  int64  \n",
      " 17  lat            21597 non-null  float64\n",
      " 18  long           21597 non-null  float64\n",
      " 19  sqft_living15  21597 non-null  int64  \n",
      " 20  sqft_lot15     21597 non-null  int64  \n",
      "dtypes: float64(7), int64(10), object(4)\n",
      "memory usage: 3.5+ MB\n"
     ]
    }
   ],
   "source": [
    "df.info()"
   ]
  },
  {
   "cell_type": "code",
   "execution_count": 14,
   "metadata": {
    "ExecuteTime": {
     "end_time": "2022-03-31T19:52:10.135319Z",
     "start_time": "2022-03-31T19:52:10.130711Z"
    }
   },
   "outputs": [],
   "source": [
    "df['view'] = df['view'].map({'EXCELLENT':5,\n",
    "                             'GOOD':4,\n",
    "                             'FAIR':3,\n",
    "                             'AVERAGE':2,\n",
    "                             'NONE':1})"
   ]
  },
  {
   "cell_type": "code",
   "execution_count": null,
   "metadata": {},
   "outputs": [],
   "source": []
  },
  {
   "cell_type": "code",
   "execution_count": 15,
   "metadata": {
    "ExecuteTime": {
     "end_time": "2022-03-31T19:52:10.140046Z",
     "start_time": "2022-03-31T19:52:10.136318Z"
    },
    "scrolled": false
   },
   "outputs": [
    {
     "data": {
      "text/plain": [
       "3     9824\n",
       "4     6882\n",
       "2     2760\n",
       "5     1601\n",
       "6      272\n",
       "1      196\n",
       "7       38\n",
       "8       13\n",
       "9        6\n",
       "10       3\n",
       "11       1\n",
       "33       1\n",
       "Name: bedrooms, dtype: int64"
      ]
     },
     "execution_count": 15,
     "metadata": {},
     "output_type": "execute_result"
    }
   ],
   "source": [
    "df['bedrooms'].value_counts()"
   ]
  },
  {
   "cell_type": "code",
   "execution_count": 16,
   "metadata": {
    "ExecuteTime": {
     "end_time": "2022-03-31T19:52:10.148274Z",
     "start_time": "2022-03-31T19:52:10.141045Z"
    }
   },
   "outputs": [],
   "source": [
    "df = df[df['bedrooms'] <=30].copy()"
   ]
  },
  {
   "cell_type": "markdown",
   "metadata": {},
   "source": [
    "Removed row with 33 bedrooms."
   ]
  },
  {
   "cell_type": "code",
   "execution_count": 17,
   "metadata": {
    "ExecuteTime": {
     "end_time": "2022-03-31T19:52:10.162402Z",
     "start_time": "2022-03-31T19:52:10.149265Z"
    }
   },
   "outputs": [
    {
     "data": {
      "text/html": [
       "<div>\n",
       "<style scoped>\n",
       "    .dataframe tbody tr th:only-of-type {\n",
       "        vertical-align: middle;\n",
       "    }\n",
       "\n",
       "    .dataframe tbody tr th {\n",
       "        vertical-align: top;\n",
       "    }\n",
       "\n",
       "    .dataframe thead th {\n",
       "        text-align: right;\n",
       "    }\n",
       "</style>\n",
       "<table border=\"1\" class=\"dataframe\">\n",
       "  <thead>\n",
       "    <tr style=\"text-align: right;\">\n",
       "      <th></th>\n",
       "      <th>id</th>\n",
       "      <th>date</th>\n",
       "      <th>price</th>\n",
       "      <th>bedrooms</th>\n",
       "      <th>bathrooms</th>\n",
       "      <th>sqft_living</th>\n",
       "      <th>sqft_lot</th>\n",
       "      <th>floors</th>\n",
       "      <th>waterfront</th>\n",
       "      <th>view</th>\n",
       "      <th>...</th>\n",
       "      <th>grade</th>\n",
       "      <th>sqft_above</th>\n",
       "      <th>sqft_basement</th>\n",
       "      <th>yr_built</th>\n",
       "      <th>yr_renovated</th>\n",
       "      <th>zipcode</th>\n",
       "      <th>lat</th>\n",
       "      <th>long</th>\n",
       "      <th>sqft_living15</th>\n",
       "      <th>sqft_lot15</th>\n",
       "    </tr>\n",
       "  </thead>\n",
       "  <tbody>\n",
       "    <tr>\n",
       "      <th>0</th>\n",
       "      <td>7129300520</td>\n",
       "      <td>10/13/2014</td>\n",
       "      <td>221900.0</td>\n",
       "      <td>3</td>\n",
       "      <td>1.0</td>\n",
       "      <td>1180</td>\n",
       "      <td>5650</td>\n",
       "      <td>1.0</td>\n",
       "      <td>NaN</td>\n",
       "      <td>1.0</td>\n",
       "      <td>...</td>\n",
       "      <td>NaN</td>\n",
       "      <td>1180</td>\n",
       "      <td>0.0</td>\n",
       "      <td>1955</td>\n",
       "      <td>0.0</td>\n",
       "      <td>98178</td>\n",
       "      <td>47.5112</td>\n",
       "      <td>-122.257</td>\n",
       "      <td>1340</td>\n",
       "      <td>5650</td>\n",
       "    </tr>\n",
       "  </tbody>\n",
       "</table>\n",
       "<p>1 rows × 21 columns</p>\n",
       "</div>"
      ],
      "text/plain": [
       "           id        date     price  bedrooms  bathrooms  sqft_living  \\\n",
       "0  7129300520  10/13/2014  221900.0         3        1.0         1180   \n",
       "\n",
       "   sqft_lot  floors waterfront  view  ...  grade  sqft_above  sqft_basement  \\\n",
       "0      5650     1.0        NaN   1.0  ...    NaN        1180            0.0   \n",
       "\n",
       "  yr_built  yr_renovated  zipcode      lat     long  sqft_living15  sqft_lot15  \n",
       "0     1955           0.0    98178  47.5112 -122.257           1340        5650  \n",
       "\n",
       "[1 rows x 21 columns]"
      ]
     },
     "execution_count": 17,
     "metadata": {},
     "output_type": "execute_result"
    }
   ],
   "source": [
    "df.head(1)"
   ]
  },
  {
   "cell_type": "code",
   "execution_count": 18,
   "metadata": {
    "ExecuteTime": {
     "end_time": "2022-03-31T19:52:10.270237Z",
     "start_time": "2022-03-31T19:52:10.163445Z"
    }
   },
   "outputs": [
    {
     "data": {
      "text/plain": [
       "2014-05    1768\n",
       "2014-06    2177\n",
       "2014-07    2211\n",
       "2014-08    1939\n",
       "2014-09    1771\n",
       "2014-10    1876\n",
       "2014-11    1409\n",
       "2014-12    1470\n",
       "2015-01     978\n",
       "2015-02    1247\n",
       "2015-03    1875\n",
       "2015-04    2229\n",
       "2015-05     646\n",
       "Name: date, dtype: int64"
      ]
     },
     "execution_count": 18,
     "metadata": {},
     "output_type": "execute_result"
    }
   ],
   "source": [
    "df['date'] = pd.to_datetime(df['date'], infer_datetime_format=True)\n",
    "df['date'] = df['date'].dt.strftime('%Y-%m')\n",
    "date_price = df.filter(['date', 'price'])\n",
    "date_price['date'].value_counts().sort_index()"
   ]
  },
  {
   "cell_type": "code",
   "execution_count": 19,
   "metadata": {
    "ExecuteTime": {
     "end_time": "2022-03-31T19:52:10.273511Z",
     "start_time": "2022-03-31T19:52:10.271274Z"
    }
   },
   "outputs": [],
   "source": [
    "date_price = df.filter(['date', 'price'])"
   ]
  },
  {
   "cell_type": "code",
   "execution_count": 20,
   "metadata": {
    "ExecuteTime": {
     "end_time": "2022-03-31T19:52:10.280016Z",
     "start_time": "2022-03-31T19:52:10.274655Z"
    },
    "scrolled": true
   },
   "outputs": [
    {
     "data": {
      "text/plain": [
       "2014-05    1768\n",
       "2014-06    2177\n",
       "2014-07    2211\n",
       "2014-08    1939\n",
       "2014-09    1771\n",
       "2014-10    1876\n",
       "2014-11    1409\n",
       "2014-12    1470\n",
       "2015-01     978\n",
       "2015-02    1247\n",
       "2015-03    1875\n",
       "2015-04    2229\n",
       "2015-05     646\n",
       "Name: date, dtype: int64"
      ]
     },
     "execution_count": 20,
     "metadata": {},
     "output_type": "execute_result"
    }
   ],
   "source": [
    "date_price['date'].value_counts().sort_index()"
   ]
  },
  {
   "cell_type": "code",
   "execution_count": 21,
   "metadata": {
    "ExecuteTime": {
     "end_time": "2022-03-31T19:52:10.375978Z",
     "start_time": "2022-03-31T19:52:10.281054Z"
    }
   },
   "outputs": [
    {
     "data": {
      "image/png": "[encoded data removed]",
      "text/plain": [
       "<Figure size 432x288 with 1 Axes>"
      ]
     },
     "metadata": {
      "needs_background": "light"
     },
     "output_type": "display_data"
    }
   ],
   "source": [
    "fig, ax = plt.subplots()\n",
    "plt.xticks(rotation = 45)\n",
    "ax.set_xlabel('Year-Month')\n",
    "ax.set_ylabel('Sales')\n",
    "\n",
    "ax.plot(date_price['date'].value_counts().sort_index());"
   ]
  },
  {
   "cell_type": "markdown",
   "metadata": {},
   "source": [
    "Plotted number of sales per month."
   ]
  },
  {
   "cell_type": "code",
   "execution_count": 22,
   "metadata": {
    "ExecuteTime": {
     "end_time": "2022-03-31T19:52:10.383605Z",
     "start_time": "2022-03-31T19:52:10.377039Z"
    }
   },
   "outputs": [
    {
     "data": {
      "text/html": [
       "<div>\n",
       "<style scoped>\n",
       "    .dataframe tbody tr th:only-of-type {\n",
       "        vertical-align: middle;\n",
       "    }\n",
       "\n",
       "    .dataframe tbody tr th {\n",
       "        vertical-align: top;\n",
       "    }\n",
       "\n",
       "    .dataframe thead th {\n",
       "        text-align: right;\n",
       "    }\n",
       "</style>\n",
       "<table border=\"1\" class=\"dataframe\">\n",
       "  <thead>\n",
       "    <tr style=\"text-align: right;\">\n",
       "      <th></th>\n",
       "      <th>price</th>\n",
       "    </tr>\n",
       "    <tr>\n",
       "      <th>date</th>\n",
       "      <th></th>\n",
       "    </tr>\n",
       "  </thead>\n",
       "  <tbody>\n",
       "    <tr>\n",
       "      <th>2014-05</th>\n",
       "      <td>548166.600113</td>\n",
       "    </tr>\n",
       "    <tr>\n",
       "      <th>2014-06</th>\n",
       "      <td>557496.437758</td>\n",
       "    </tr>\n",
       "    <tr>\n",
       "      <th>2014-07</th>\n",
       "      <td>544892.161013</td>\n",
       "    </tr>\n",
       "    <tr>\n",
       "      <th>2014-08</th>\n",
       "      <td>536655.212481</td>\n",
       "    </tr>\n",
       "    <tr>\n",
       "      <th>2014-09</th>\n",
       "      <td>529723.517787</td>\n",
       "    </tr>\n",
       "    <tr>\n",
       "      <th>2014-10</th>\n",
       "      <td>539439.447228</td>\n",
       "    </tr>\n",
       "    <tr>\n",
       "      <th>2014-11</th>\n",
       "      <td>522359.903478</td>\n",
       "    </tr>\n",
       "    <tr>\n",
       "      <th>2014-12</th>\n",
       "      <td>524799.902041</td>\n",
       "    </tr>\n",
       "    <tr>\n",
       "      <th>2015-01</th>\n",
       "      <td>525963.251534</td>\n",
       "    </tr>\n",
       "    <tr>\n",
       "      <th>2015-02</th>\n",
       "      <td>508520.051323</td>\n",
       "    </tr>\n",
       "    <tr>\n",
       "      <th>2015-03</th>\n",
       "      <td>544057.683200</td>\n",
       "    </tr>\n",
       "    <tr>\n",
       "      <th>2015-04</th>\n",
       "      <td>562215.615074</td>\n",
       "    </tr>\n",
       "    <tr>\n",
       "      <th>2015-05</th>\n",
       "      <td>558193.095975</td>\n",
       "    </tr>\n",
       "  </tbody>\n",
       "</table>\n",
       "</div>"
      ],
      "text/plain": [
       "                 price\n",
       "date                  \n",
       "2014-05  548166.600113\n",
       "2014-06  557496.437758\n",
       "2014-07  544892.161013\n",
       "2014-08  536655.212481\n",
       "2014-09  529723.517787\n",
       "2014-10  539439.447228\n",
       "2014-11  522359.903478\n",
       "2014-12  524799.902041\n",
       "2015-01  525963.251534\n",
       "2015-02  508520.051323\n",
       "2015-03  544057.683200\n",
       "2015-04  562215.615074\n",
       "2015-05  558193.095975"
      ]
     },
     "execution_count": 22,
     "metadata": {},
     "output_type": "execute_result"
    }
   ],
   "source": [
    "date_price = date_price.groupby(['date']).mean().sort_values(['date'])\n",
    "date_price"
   ]
  },
  {
   "cell_type": "code",
   "execution_count": 23,
   "metadata": {
    "ExecuteTime": {
     "end_time": "2022-03-31T19:52:10.469103Z",
     "start_time": "2022-03-31T19:52:10.388094Z"
    }
   },
   "outputs": [
    {
     "data": {
      "image/png": "[encoded data removed]",
      "text/plain": [
       "<Figure size 432x288 with 1 Axes>"
      ]
     },
     "metadata": {
      "needs_background": "light"
     },
     "output_type": "display_data"
    }
   ],
   "source": [
    "fig, ax = plt.subplots()\n",
    "plt.xticks(rotation = 45)\n",
    "ax.set_xlabel('Year-Month')\n",
    "ax.set_ylabel('Average Price')\n",
    "\n",
    "ax.plot(date_price);"
   ]
  },
  {
   "cell_type": "markdown",
   "metadata": {},
   "source": [
    "Plotted Year-Month against price."
   ]
  },
  {
   "cell_type": "code",
   "execution_count": 24,
   "metadata": {
    "ExecuteTime": {
     "end_time": "2022-03-31T19:52:10.478818Z",
     "start_time": "2022-03-31T19:52:10.471980Z"
    }
   },
   "outputs": [
    {
     "data": {
      "text/plain": [
       "count       21596\n",
       "unique         13\n",
       "top       2015-04\n",
       "freq         2229\n",
       "Name: date, dtype: object"
      ]
     },
     "execution_count": 24,
     "metadata": {},
     "output_type": "execute_result"
    }
   ],
   "source": [
    "df['date'].describe()"
   ]
  },
  {
   "cell_type": "code",
   "execution_count": 25,
   "metadata": {
    "ExecuteTime": {
     "end_time": "2022-03-31T19:52:10.486854Z",
     "start_time": "2022-03-31T19:52:10.479857Z"
    },
    "scrolled": false
   },
   "outputs": [
    {
     "data": {
      "text/plain": [
       "count    21596.000000\n",
       "mean      1788.631506\n",
       "std        827.763251\n",
       "min        370.000000\n",
       "25%       1190.000000\n",
       "50%       1560.000000\n",
       "75%       2210.000000\n",
       "max       9410.000000\n",
       "Name: sqft_above, dtype: float64"
      ]
     },
     "execution_count": 25,
     "metadata": {},
     "output_type": "execute_result"
    }
   ],
   "source": [
    "df['sqft_above'].describe()"
   ]
  },
  {
   "cell_type": "code",
   "execution_count": 26,
   "metadata": {
    "ExecuteTime": {
     "end_time": "2022-03-31T19:52:10.494358Z",
     "start_time": "2022-03-31T19:52:10.489483Z"
    },
    "scrolled": true
   },
   "outputs": [
    {
     "data": {
      "text/plain": [
       "count    21596.000000\n",
       "mean      1986.650722\n",
       "std        685.231768\n",
       "min        399.000000\n",
       "25%       1490.000000\n",
       "50%       1840.000000\n",
       "75%       2360.000000\n",
       "max       6210.000000\n",
       "Name: sqft_living15, dtype: float64"
      ]
     },
     "execution_count": 26,
     "metadata": {},
     "output_type": "execute_result"
    }
   ],
   "source": [
    "df['sqft_living15'].describe()"
   ]
  },
  {
   "cell_type": "code",
   "execution_count": 27,
   "metadata": {
    "ExecuteTime": {
     "end_time": "2022-03-31T19:52:10.500292Z",
     "start_time": "2022-03-31T19:52:10.495274Z"
    },
    "scrolled": true
   },
   "outputs": [
    {
     "data": {
      "text/plain": [
       "count    21596.000000\n",
       "mean      2080.343165\n",
       "std        918.122038\n",
       "min        370.000000\n",
       "25%       1430.000000\n",
       "50%       1910.000000\n",
       "75%       2550.000000\n",
       "max      13540.000000\n",
       "Name: sqft_living, dtype: float64"
      ]
     },
     "execution_count": 27,
     "metadata": {},
     "output_type": "execute_result"
    }
   ],
   "source": [
    "df['sqft_living'].describe()"
   ]
  },
  {
   "cell_type": "code",
   "execution_count": 28,
   "metadata": {
    "ExecuteTime": {
     "end_time": "2022-03-31T19:52:10.516901Z",
     "start_time": "2022-03-31T19:52:10.501194Z"
    }
   },
   "outputs": [],
   "source": [
    "corr = df.corr().abs()\n",
    "corr['price']\n",
    "corr_w_price = corr['price'].sort_values(ascending=False)"
   ]
  },
  {
   "cell_type": "code",
   "execution_count": 29,
   "metadata": {
    "ExecuteTime": {
     "end_time": "2022-03-31T19:52:10.520998Z",
     "start_time": "2022-03-31T19:52:10.517888Z"
    }
   },
   "outputs": [
    {
     "data": {
      "text/plain": [
       "price            1.000000\n",
       "sqft_living      0.701929\n",
       "sqft_above       0.605392\n",
       "sqft_living15    0.585267\n",
       "bathrooms        0.525915\n",
       "view             0.396937\n",
       "bedrooms         0.315961\n",
       "lat              0.306687\n",
       "floors           0.256820\n",
       "yr_renovated     0.129603\n",
       "sqft_lot         0.089879\n",
       "sqft_lot15       0.082849\n",
       "yr_built         0.053965\n",
       "zipcode          0.053409\n",
       "condition        0.036031\n",
       "long             0.022047\n",
       "id               0.016763\n",
       "grade                 NaN\n",
       "Name: price, dtype: float64"
      ]
     },
     "execution_count": 29,
     "metadata": {},
     "output_type": "execute_result"
    }
   ],
   "source": [
    "corr_w_price"
   ]
  },
  {
   "cell_type": "code",
   "execution_count": 30,
   "metadata": {
    "ExecuteTime": {
     "end_time": "2022-03-31T19:52:10.524692Z",
     "start_time": "2022-03-31T19:52:10.522077Z"
    }
   },
   "outputs": [],
   "source": [
    "df2 = df.filter(['price', 'bathrooms', 'sqft_living', 'sqft_above',\n",
    "       'sqft_living15', 'date', 'bedrooms'])"
   ]
  },
  {
   "cell_type": "markdown",
   "metadata": {},
   "source": [
    "Created df2 with items correlated with price with a correlation of >= .5"
   ]
  },
  {
   "cell_type": "code",
   "execution_count": 31,
   "metadata": {
    "ExecuteTime": {
     "end_time": "2022-03-31T19:52:14.783722Z",
     "start_time": "2022-03-31T19:52:10.525666Z"
    }
   },
   "outputs": [
    {
     "data": {
      "text/plain": [
       "<seaborn.axisgrid.PairGrid at 0x7fa01931d760>"
      ]
     },
     "execution_count": 31,
     "metadata": {},
     "output_type": "execute_result"
    },
    {
     "data": {
      "image/png": "[encoded data removed]",
      "text/plain": [
       "<Figure size 1080x1080 with 42 Axes>"
      ]
     },
     "metadata": {
      "needs_background": "light"
     },
     "output_type": "display_data"
    }
   ],
   "source": [
    "sns.pairplot(df2)"
   ]
  },
  {
   "cell_type": "code",
   "execution_count": 32,
   "metadata": {
    "ExecuteTime": {
     "end_time": "2022-03-31T19:52:14.820842Z",
     "start_time": "2022-03-31T19:52:14.784641Z"
    },
    "scrolled": false
   },
   "outputs": [
    {
     "data": {
      "text/html": [
       "<table class=\"simpletable\">\n",
       "<caption>OLS Regression Results</caption>\n",
       "<tr>\n",
       "  <th>Dep. Variable:</th>          <td>price</td>      <th>  R-squared:         </th>  <td>   0.516</td>  \n",
       "</tr>\n",
       "<tr>\n",
       "  <th>Model:</th>                   <td>OLS</td>       <th>  Adj. R-squared:    </th>  <td>   0.516</td>  \n",
       "</tr>\n",
       "<tr>\n",
       "  <th>Method:</th>             <td>Least Squares</td>  <th>  F-statistic:       </th>  <td>   4602.</td>  \n",
       "</tr>\n",
       "<tr>\n",
       "  <th>Date:</th>             <td>Thu, 31 Mar 2022</td> <th>  Prob (F-statistic):</th>   <td>  0.00</td>   \n",
       "</tr>\n",
       "<tr>\n",
       "  <th>Time:</th>                 <td>14:52:14</td>     <th>  Log-Likelihood:    </th> <td>-2.9954e+05</td>\n",
       "</tr>\n",
       "<tr>\n",
       "  <th>No. Observations:</th>      <td> 21596</td>      <th>  AIC:               </th>  <td>5.991e+05</td> \n",
       "</tr>\n",
       "<tr>\n",
       "  <th>Df Residuals:</th>          <td> 21590</td>      <th>  BIC:               </th>  <td>5.991e+05</td> \n",
       "</tr>\n",
       "<tr>\n",
       "  <th>Df Model:</th>              <td>     5</td>      <th>                     </th>      <td> </td>     \n",
       "</tr>\n",
       "<tr>\n",
       "  <th>Covariance Type:</th>      <td>nonrobust</td>    <th>                     </th>      <td> </td>     \n",
       "</tr>\n",
       "</table>\n",
       "<table class=\"simpletable\">\n",
       "<tr>\n",
       "        <td></td>           <th>coef</th>     <th>std err</th>      <th>t</th>      <th>P>|t|</th>  <th>[0.025</th>    <th>0.975]</th>  \n",
       "</tr>\n",
       "<tr>\n",
       "  <th>Intercept</th>     <td> 3.225e+04</td> <td> 7872.032</td> <td>    4.097</td> <td> 0.000</td> <td> 1.68e+04</td> <td> 4.77e+04</td>\n",
       "</tr>\n",
       "<tr>\n",
       "  <th>bathrooms</th>     <td> 1.149e+04</td> <td> 3508.548</td> <td>    3.274</td> <td> 0.001</td> <td> 4610.935</td> <td> 1.84e+04</td>\n",
       "</tr>\n",
       "<tr>\n",
       "  <th>sqft_living</th>   <td>  306.7830</td> <td>    4.861</td> <td>   63.105</td> <td> 0.000</td> <td>  297.254</td> <td>  316.312</td>\n",
       "</tr>\n",
       "<tr>\n",
       "  <th>sqft_above</th>    <td>  -44.7245</td> <td>    4.497</td> <td>   -9.945</td> <td> 0.000</td> <td>  -53.539</td> <td>  -35.910</td>\n",
       "</tr>\n",
       "<tr>\n",
       "  <th>sqft_living15</th> <td>   68.3301</td> <td>    3.987</td> <td>   17.137</td> <td> 0.000</td> <td>   60.515</td> <td>   76.146</td>\n",
       "</tr>\n",
       "<tr>\n",
       "  <th>bedrooms</th>      <td>-6.235e+04</td> <td> 2431.680</td> <td>  -25.640</td> <td> 0.000</td> <td>-6.71e+04</td> <td>-5.76e+04</td>\n",
       "</tr>\n",
       "</table>\n",
       "<table class=\"simpletable\">\n",
       "<tr>\n",
       "  <th>Omnibus:</th>       <td>15008.472</td> <th>  Durbin-Watson:     </th>  <td>   1.983</td> \n",
       "</tr>\n",
       "<tr>\n",
       "  <th>Prob(Omnibus):</th>  <td> 0.000</td>   <th>  Jarque-Bera (JB):  </th> <td>600600.163</td>\n",
       "</tr>\n",
       "<tr>\n",
       "  <th>Skew:</th>           <td> 2.849</td>   <th>  Prob(JB):          </th>  <td>    0.00</td> \n",
       "</tr>\n",
       "<tr>\n",
       "  <th>Kurtosis:</th>       <td>28.199</td>   <th>  Cond. No.          </th>  <td>1.69e+04</td> \n",
       "</tr>\n",
       "</table><br/><br/>Notes:<br/>[1] Standard Errors assume that the covariance matrix of the errors is correctly specified.<br/>[2] The condition number is large, 1.69e+04. This might indicate that there are<br/>strong multicollinearity or other numerical problems."
      ],
      "text/plain": [
       "<class 'statsmodels.iolib.summary.Summary'>\n",
       "\"\"\"\n",
       "                            OLS Regression Results                            \n",
       "==============================================================================\n",
       "Dep. Variable:                  price   R-squared:                       0.516\n",
       "Model:                            OLS   Adj. R-squared:                  0.516\n",
       "Method:                 Least Squares   F-statistic:                     4602.\n",
       "Date:                Thu, 31 Mar 2022   Prob (F-statistic):               0.00\n",
       "Time:                        14:52:14   Log-Likelihood:            -2.9954e+05\n",
       "No. Observations:               21596   AIC:                         5.991e+05\n",
       "Df Residuals:                   21590   BIC:                         5.991e+05\n",
       "Df Model:                           5                                         \n",
       "Covariance Type:            nonrobust                                         \n",
       "=================================================================================\n",
       "                    coef    std err          t      P>|t|      [0.025      0.975]\n",
       "---------------------------------------------------------------------------------\n",
       "Intercept      3.225e+04   7872.032      4.097      0.000    1.68e+04    4.77e+04\n",
       "bathrooms      1.149e+04   3508.548      3.274      0.001    4610.935    1.84e+04\n",
       "sqft_living     306.7830      4.861     63.105      0.000     297.254     316.312\n",
       "sqft_above      -44.7245      4.497     -9.945      0.000     -53.539     -35.910\n",
       "sqft_living15    68.3301      3.987     17.137      0.000      60.515      76.146\n",
       "bedrooms      -6.235e+04   2431.680    -25.640      0.000   -6.71e+04   -5.76e+04\n",
       "==============================================================================\n",
       "Omnibus:                    15008.472   Durbin-Watson:                   1.983\n",
       "Prob(Omnibus):                  0.000   Jarque-Bera (JB):           600600.163\n",
       "Skew:                           2.849   Prob(JB):                         0.00\n",
       "Kurtosis:                      28.199   Cond. No.                     1.69e+04\n",
       "==============================================================================\n",
       "\n",
       "Notes:\n",
       "[1] Standard Errors assume that the covariance matrix of the errors is correctly specified.\n",
       "[2] The condition number is large, 1.69e+04. This might indicate that there are\n",
       "strong multicollinearity or other numerical problems.\n",
       "\"\"\""
      ]
     },
     "execution_count": 32,
     "metadata": {},
     "output_type": "execute_result"
    }
   ],
   "source": [
    "formula = 'price ~ bathrooms + sqft_living + sqft_above + sqft_living15 + bedrooms'\n",
    "model = ols(formula=formula, data=df2).fit()\n",
    "model_summary = model.summary()\n",
    "model_summary"
   ]
  },
  {
   "cell_type": "code",
   "execution_count": 33,
   "metadata": {
    "ExecuteTime": {
     "end_time": "2022-03-31T19:52:14.853270Z",
     "start_time": "2022-03-31T19:52:14.822946Z"
    }
   },
   "outputs": [
    {
     "data": {
      "text/html": [
       "<table class=\"simpletable\">\n",
       "<caption>OLS Regression Results</caption>\n",
       "<tr>\n",
       "  <th>Dep. Variable:</th>          <td>price</td>      <th>  R-squared:         </th>  <td>   0.501</td>  \n",
       "</tr>\n",
       "<tr>\n",
       "  <th>Model:</th>                   <td>OLS</td>       <th>  Adj. R-squared:    </th>  <td>   0.501</td>  \n",
       "</tr>\n",
       "<tr>\n",
       "  <th>Method:</th>             <td>Least Squares</td>  <th>  F-statistic:       </th>  <td>   5423.</td>  \n",
       "</tr>\n",
       "<tr>\n",
       "  <th>Date:</th>             <td>Thu, 31 Mar 2022</td> <th>  Prob (F-statistic):</th>   <td>  0.00</td>   \n",
       "</tr>\n",
       "<tr>\n",
       "  <th>Time:</th>                 <td>14:52:14</td>     <th>  Log-Likelihood:    </th> <td>-2.9987e+05</td>\n",
       "</tr>\n",
       "<tr>\n",
       "  <th>No. Observations:</th>      <td> 21596</td>      <th>  AIC:               </th>  <td>5.997e+05</td> \n",
       "</tr>\n",
       "<tr>\n",
       "  <th>Df Residuals:</th>          <td> 21591</td>      <th>  BIC:               </th>  <td>5.998e+05</td> \n",
       "</tr>\n",
       "<tr>\n",
       "  <th>Df Model:</th>              <td>     4</td>      <th>                     </th>      <td> </td>     \n",
       "</tr>\n",
       "<tr>\n",
       "  <th>Covariance Type:</th>      <td>nonrobust</td>    <th>                     </th>      <td> </td>     \n",
       "</tr>\n",
       "</table>\n",
       "<table class=\"simpletable\">\n",
       "<tr>\n",
       "        <td></td>           <th>coef</th>     <th>std err</th>      <th>t</th>      <th>P>|t|</th>  <th>[0.025</th>    <th>0.975]</th>  \n",
       "</tr>\n",
       "<tr>\n",
       "  <th>Intercept</th>     <td>-9.773e+04</td> <td> 6113.243</td> <td>  -15.987</td> <td> 0.000</td> <td> -1.1e+05</td> <td>-8.58e+04</td>\n",
       "</tr>\n",
       "<tr>\n",
       "  <th>bathrooms</th>     <td>-2557.6057</td> <td> 3517.806</td> <td>   -0.727</td> <td> 0.467</td> <td>-9452.766</td> <td> 4337.554</td>\n",
       "</tr>\n",
       "<tr>\n",
       "  <th>sqft_living</th>   <td>  269.2606</td> <td>    4.706</td> <td>   57.217</td> <td> 0.000</td> <td>  260.037</td> <td>  278.485</td>\n",
       "</tr>\n",
       "<tr>\n",
       "  <th>sqft_above</th>    <td>  -37.0267</td> <td>    4.555</td> <td>   -8.129</td> <td> 0.000</td> <td>  -45.954</td> <td>  -28.099</td>\n",
       "</tr>\n",
       "<tr>\n",
       "  <th>sqft_living15</th> <td>   75.2577</td> <td>    4.038</td> <td>   18.637</td> <td> 0.000</td> <td>   67.343</td> <td>   83.173</td>\n",
       "</tr>\n",
       "</table>\n",
       "<table class=\"simpletable\">\n",
       "<tr>\n",
       "  <th>Omnibus:</th>       <td>15582.810</td> <th>  Durbin-Watson:     </th>  <td>   1.982</td> \n",
       "</tr>\n",
       "<tr>\n",
       "  <th>Prob(Omnibus):</th>  <td> 0.000</td>   <th>  Jarque-Bera (JB):  </th> <td>691805.044</td>\n",
       "</tr>\n",
       "<tr>\n",
       "  <th>Skew:</th>           <td> 2.983</td>   <th>  Prob(JB):          </th>  <td>    0.00</td> \n",
       "</tr>\n",
       "<tr>\n",
       "  <th>Kurtosis:</th>       <td>30.078</td>   <th>  Cond. No.          </th>  <td>1.31e+04</td> \n",
       "</tr>\n",
       "</table><br/><br/>Notes:<br/>[1] Standard Errors assume that the covariance matrix of the errors is correctly specified.<br/>[2] The condition number is large, 1.31e+04. This might indicate that there are<br/>strong multicollinearity or other numerical problems."
      ],
      "text/plain": [
       "<class 'statsmodels.iolib.summary.Summary'>\n",
       "\"\"\"\n",
       "                            OLS Regression Results                            \n",
       "==============================================================================\n",
       "Dep. Variable:                  price   R-squared:                       0.501\n",
       "Model:                            OLS   Adj. R-squared:                  0.501\n",
       "Method:                 Least Squares   F-statistic:                     5423.\n",
       "Date:                Thu, 31 Mar 2022   Prob (F-statistic):               0.00\n",
       "Time:                        14:52:14   Log-Likelihood:            -2.9987e+05\n",
       "No. Observations:               21596   AIC:                         5.997e+05\n",
       "Df Residuals:                   21591   BIC:                         5.998e+05\n",
       "Df Model:                           4                                         \n",
       "Covariance Type:            nonrobust                                         \n",
       "=================================================================================\n",
       "                    coef    std err          t      P>|t|      [0.025      0.975]\n",
       "---------------------------------------------------------------------------------\n",
       "Intercept     -9.773e+04   6113.243    -15.987      0.000    -1.1e+05   -8.58e+04\n",
       "bathrooms     -2557.6057   3517.806     -0.727      0.467   -9452.766    4337.554\n",
       "sqft_living     269.2606      4.706     57.217      0.000     260.037     278.485\n",
       "sqft_above      -37.0267      4.555     -8.129      0.000     -45.954     -28.099\n",
       "sqft_living15    75.2577      4.038     18.637      0.000      67.343      83.173\n",
       "==============================================================================\n",
       "Omnibus:                    15582.810   Durbin-Watson:                   1.982\n",
       "Prob(Omnibus):                  0.000   Jarque-Bera (JB):           691805.044\n",
       "Skew:                           2.983   Prob(JB):                         0.00\n",
       "Kurtosis:                      30.078   Cond. No.                     1.31e+04\n",
       "==============================================================================\n",
       "\n",
       "Notes:\n",
       "[1] Standard Errors assume that the covariance matrix of the errors is correctly specified.\n",
       "[2] The condition number is large, 1.31e+04. This might indicate that there are\n",
       "strong multicollinearity or other numerical problems.\n",
       "\"\"\""
      ]
     },
     "execution_count": 33,
     "metadata": {},
     "output_type": "execute_result"
    }
   ],
   "source": [
    "formula = 'price ~ bathrooms + sqft_living + sqft_above + sqft_living15'\n",
    "model = ols(formula=formula, data=df2).fit()\n",
    "model_summary = model.summary()\n",
    "model_summary"
   ]
  },
  {
   "cell_type": "markdown",
   "metadata": {},
   "source": [
    "Jarque-Bera (JB) is high. skewness and kurtosis need to be addressed. Dropping bathrooms because it is insignificant."
   ]
  },
  {
   "cell_type": "code",
   "execution_count": 34,
   "metadata": {
    "ExecuteTime": {
     "end_time": "2022-03-31T19:52:14.883671Z",
     "start_time": "2022-03-31T19:52:14.854746Z"
    },
    "scrolled": false
   },
   "outputs": [
    {
     "data": {
      "text/html": [
       "<table class=\"simpletable\">\n",
       "<caption>OLS Regression Results</caption>\n",
       "<tr>\n",
       "  <th>Dep. Variable:</th>          <td>price</td>      <th>  R-squared:         </th>  <td>   0.501</td>  \n",
       "</tr>\n",
       "<tr>\n",
       "  <th>Model:</th>                   <td>OLS</td>       <th>  Adj. R-squared:    </th>  <td>   0.501</td>  \n",
       "</tr>\n",
       "<tr>\n",
       "  <th>Method:</th>             <td>Least Squares</td>  <th>  F-statistic:       </th>  <td>   7231.</td>  \n",
       "</tr>\n",
       "<tr>\n",
       "  <th>Date:</th>             <td>Thu, 31 Mar 2022</td> <th>  Prob (F-statistic):</th>   <td>  0.00</td>   \n",
       "</tr>\n",
       "<tr>\n",
       "  <th>Time:</th>                 <td>14:52:14</td>     <th>  Log-Likelihood:    </th> <td>-2.9987e+05</td>\n",
       "</tr>\n",
       "<tr>\n",
       "  <th>No. Observations:</th>      <td> 21596</td>      <th>  AIC:               </th>  <td>5.997e+05</td> \n",
       "</tr>\n",
       "<tr>\n",
       "  <th>Df Residuals:</th>          <td> 21592</td>      <th>  BIC:               </th>  <td>5.998e+05</td> \n",
       "</tr>\n",
       "<tr>\n",
       "  <th>Df Model:</th>              <td>     3</td>      <th>                     </th>      <td> </td>     \n",
       "</tr>\n",
       "<tr>\n",
       "  <th>Covariance Type:</th>      <td>nonrobust</td>    <th>                     </th>      <td> </td>     \n",
       "</tr>\n",
       "</table>\n",
       "<table class=\"simpletable\">\n",
       "<tr>\n",
       "        <td></td>           <th>coef</th>     <th>std err</th>      <th>t</th>      <th>P>|t|</th>  <th>[0.025</th>    <th>0.975]</th>  \n",
       "</tr>\n",
       "<tr>\n",
       "  <th>Intercept</th>     <td>-9.979e+04</td> <td> 5419.369</td> <td>  -18.414</td> <td> 0.000</td> <td> -1.1e+05</td> <td>-8.92e+04</td>\n",
       "</tr>\n",
       "<tr>\n",
       "  <th>sqft_living</th>   <td>  267.8148</td> <td>    4.265</td> <td>   62.792</td> <td> 0.000</td> <td>  259.455</td> <td>  276.175</td>\n",
       "</tr>\n",
       "<tr>\n",
       "  <th>sqft_above</th>    <td>  -37.2911</td> <td>    4.540</td> <td>   -8.214</td> <td> 0.000</td> <td>  -46.190</td> <td>  -28.392</td>\n",
       "</tr>\n",
       "<tr>\n",
       "  <th>sqft_living15</th> <td>   75.3209</td> <td>    4.037</td> <td>   18.657</td> <td> 0.000</td> <td>   67.408</td> <td>   83.234</td>\n",
       "</tr>\n",
       "</table>\n",
       "<table class=\"simpletable\">\n",
       "<tr>\n",
       "  <th>Omnibus:</th>       <td>15592.181</td> <th>  Durbin-Watson:     </th>  <td>   1.982</td> \n",
       "</tr>\n",
       "<tr>\n",
       "  <th>Prob(Omnibus):</th>  <td> 0.000</td>   <th>  Jarque-Bera (JB):  </th> <td>693360.039</td>\n",
       "</tr>\n",
       "<tr>\n",
       "  <th>Skew:</th>           <td> 2.985</td>   <th>  Prob(JB):          </th>  <td>    0.00</td> \n",
       "</tr>\n",
       "<tr>\n",
       "  <th>Kurtosis:</th>       <td>30.109</td>   <th>  Cond. No.          </th>  <td>1.11e+04</td> \n",
       "</tr>\n",
       "</table><br/><br/>Notes:<br/>[1] Standard Errors assume that the covariance matrix of the errors is correctly specified.<br/>[2] The condition number is large, 1.11e+04. This might indicate that there are<br/>strong multicollinearity or other numerical problems."
      ],
      "text/plain": [
       "<class 'statsmodels.iolib.summary.Summary'>\n",
       "\"\"\"\n",
       "                            OLS Regression Results                            \n",
       "==============================================================================\n",
       "Dep. Variable:                  price   R-squared:                       0.501\n",
       "Model:                            OLS   Adj. R-squared:                  0.501\n",
       "Method:                 Least Squares   F-statistic:                     7231.\n",
       "Date:                Thu, 31 Mar 2022   Prob (F-statistic):               0.00\n",
       "Time:                        14:52:14   Log-Likelihood:            -2.9987e+05\n",
       "No. Observations:               21596   AIC:                         5.997e+05\n",
       "Df Residuals:                   21592   BIC:                         5.998e+05\n",
       "Df Model:                           3                                         \n",
       "Covariance Type:            nonrobust                                         \n",
       "=================================================================================\n",
       "                    coef    std err          t      P>|t|      [0.025      0.975]\n",
       "---------------------------------------------------------------------------------\n",
       "Intercept     -9.979e+04   5419.369    -18.414      0.000    -1.1e+05   -8.92e+04\n",
       "sqft_living     267.8148      4.265     62.792      0.000     259.455     276.175\n",
       "sqft_above      -37.2911      4.540     -8.214      0.000     -46.190     -28.392\n",
       "sqft_living15    75.3209      4.037     18.657      0.000      67.408      83.234\n",
       "==============================================================================\n",
       "Omnibus:                    15592.181   Durbin-Watson:                   1.982\n",
       "Prob(Omnibus):                  0.000   Jarque-Bera (JB):           693360.039\n",
       "Skew:                           2.985   Prob(JB):                         0.00\n",
       "Kurtosis:                      30.109   Cond. No.                     1.11e+04\n",
       "==============================================================================\n",
       "\n",
       "Notes:\n",
       "[1] Standard Errors assume that the covariance matrix of the errors is correctly specified.\n",
       "[2] The condition number is large, 1.11e+04. This might indicate that there are\n",
       "strong multicollinearity or other numerical problems.\n",
       "\"\"\""
      ]
     },
     "execution_count": 34,
     "metadata": {},
     "output_type": "execute_result"
    }
   ],
   "source": [
    "df2.drop(['bathrooms'], axis=1, inplace=True)\n",
    "formula = 'price ~ sqft_living + sqft_above + sqft_living15'\n",
    "model = ols(formula=formula, data=df2).fit()\n",
    "model_summary = model.summary()\n",
    "model_summary"
   ]
  },
  {
   "cell_type": "code",
   "execution_count": 35,
   "metadata": {
    "ExecuteTime": {
     "end_time": "2022-03-31T19:52:15.132496Z",
     "start_time": "2022-03-31T19:52:14.884801Z"
    }
   },
   "outputs": [
    {
     "data": {
      "image/png": "[encoded data removed]",
      "text/plain": [
       "<Figure size 576x576 with 4 Axes>"
      ]
     },
     "metadata": {
      "needs_background": "light"
     },
     "output_type": "display_data"
    }
   ],
   "source": [
    "df2[['price', 'sqft_living', 'sqft_above', 'sqft_living15']].hist(figsize  = [8, 8]); "
   ]
  },
  {
   "cell_type": "code",
   "execution_count": 36,
   "metadata": {
    "ExecuteTime": {
     "end_time": "2022-03-31T19:52:15.333292Z",
     "start_time": "2022-03-31T19:52:15.133701Z"
    }
   },
   "outputs": [
    {
     "data": {
      "image/png": "[encoded data removed]",
      "text/plain": [
       "<Figure size 432x432 with 4 Axes>"
      ]
     },
     "metadata": {
      "needs_background": "light"
     },
     "output_type": "display_data"
    }
   ],
   "source": [
    "data_log = pd.DataFrame([])\n",
    "data_log['log_sqft_living'] = np.log(df2['sqft_living'])\n",
    "data_log['log_sqft_above'] = np.log(df2['sqft_above'])\n",
    "data_log['log_sqft_living15'] = np.log(df2['sqft_living15'])\n",
    "data_log['log_price'] = np.log(df2['price'])\n",
    "data_log.hist(figsize  = [6, 6]);\n",
    "#Create a function"
   ]
  },
  {
   "cell_type": "markdown",
   "metadata": {},
   "source": [
    "Used log transformation to normalize values. "
   ]
  },
  {
   "cell_type": "code",
   "execution_count": 37,
   "metadata": {
    "ExecuteTime": {
     "end_time": "2022-03-31T19:52:15.360972Z",
     "start_time": "2022-03-31T19:52:15.334283Z"
    }
   },
   "outputs": [
    {
     "data": {
      "text/html": [
       "<table class=\"simpletable\">\n",
       "<caption>OLS Regression Results</caption>\n",
       "<tr>\n",
       "  <th>Dep. Variable:</th>        <td>log_price</td>    <th>  R-squared:         </th> <td>   0.480</td> \n",
       "</tr>\n",
       "<tr>\n",
       "  <th>Model:</th>                   <td>OLS</td>       <th>  Adj. R-squared:    </th> <td>   0.480</td> \n",
       "</tr>\n",
       "<tr>\n",
       "  <th>Method:</th>             <td>Least Squares</td>  <th>  F-statistic:       </th> <td>   6649.</td> \n",
       "</tr>\n",
       "<tr>\n",
       "  <th>Date:</th>             <td>Thu, 31 Mar 2022</td> <th>  Prob (F-statistic):</th>  <td>  0.00</td>  \n",
       "</tr>\n",
       "<tr>\n",
       "  <th>Time:</th>                 <td>14:52:15</td>     <th>  Log-Likelihood:    </th> <td> -9726.1</td> \n",
       "</tr>\n",
       "<tr>\n",
       "  <th>No. Observations:</th>      <td> 21596</td>      <th>  AIC:               </th> <td>1.946e+04</td>\n",
       "</tr>\n",
       "<tr>\n",
       "  <th>Df Residuals:</th>          <td> 21592</td>      <th>  BIC:               </th> <td>1.949e+04</td>\n",
       "</tr>\n",
       "<tr>\n",
       "  <th>Df Model:</th>              <td>     3</td>      <th>                     </th>     <td> </td>    \n",
       "</tr>\n",
       "<tr>\n",
       "  <th>Covariance Type:</th>      <td>nonrobust</td>    <th>                     </th>     <td> </td>    \n",
       "</tr>\n",
       "</table>\n",
       "<table class=\"simpletable\">\n",
       "<tr>\n",
       "          <td></td>             <th>coef</th>     <th>std err</th>      <th>t</th>      <th>P>|t|</th>  <th>[0.025</th>    <th>0.975]</th>  \n",
       "</tr>\n",
       "<tr>\n",
       "  <th>Intercept</th>         <td>    5.5401</td> <td>    0.060</td> <td>   92.908</td> <td> 0.000</td> <td>    5.423</td> <td>    5.657</td>\n",
       "</tr>\n",
       "<tr>\n",
       "  <th>log_sqft_living</th>   <td>    0.6727</td> <td>    0.013</td> <td>   51.496</td> <td> 0.000</td> <td>    0.647</td> <td>    0.698</td>\n",
       "</tr>\n",
       "<tr>\n",
       "  <th>log_sqft_above</th>    <td>   -0.0679</td> <td>    0.012</td> <td>   -5.517</td> <td> 0.000</td> <td>   -0.092</td> <td>   -0.044</td>\n",
       "</tr>\n",
       "<tr>\n",
       "  <th>log_sqft_living15</th> <td>    0.3888</td> <td>    0.012</td> <td>   32.099</td> <td> 0.000</td> <td>    0.365</td> <td>    0.412</td>\n",
       "</tr>\n",
       "</table>\n",
       "<table class=\"simpletable\">\n",
       "<tr>\n",
       "  <th>Omnibus:</th>       <td>135.373</td> <th>  Durbin-Watson:     </th> <td>   1.975</td>\n",
       "</tr>\n",
       "<tr>\n",
       "  <th>Prob(Omnibus):</th> <td> 0.000</td>  <th>  Jarque-Bera (JB):  </th> <td> 118.072</td>\n",
       "</tr>\n",
       "<tr>\n",
       "  <th>Skew:</th>          <td> 0.130</td>  <th>  Prob(JB):          </th> <td>2.30e-26</td>\n",
       "</tr>\n",
       "<tr>\n",
       "  <th>Kurtosis:</th>      <td> 2.748</td>  <th>  Cond. No.          </th> <td>    303.</td>\n",
       "</tr>\n",
       "</table><br/><br/>Notes:<br/>[1] Standard Errors assume that the covariance matrix of the errors is correctly specified."
      ],
      "text/plain": [
       "<class 'statsmodels.iolib.summary.Summary'>\n",
       "\"\"\"\n",
       "                            OLS Regression Results                            \n",
       "==============================================================================\n",
       "Dep. Variable:              log_price   R-squared:                       0.480\n",
       "Model:                            OLS   Adj. R-squared:                  0.480\n",
       "Method:                 Least Squares   F-statistic:                     6649.\n",
       "Date:                Thu, 31 Mar 2022   Prob (F-statistic):               0.00\n",
       "Time:                        14:52:15   Log-Likelihood:                -9726.1\n",
       "No. Observations:               21596   AIC:                         1.946e+04\n",
       "Df Residuals:                   21592   BIC:                         1.949e+04\n",
       "Df Model:                           3                                         \n",
       "Covariance Type:            nonrobust                                         \n",
       "=====================================================================================\n",
       "                        coef    std err          t      P>|t|      [0.025      0.975]\n",
       "-------------------------------------------------------------------------------------\n",
       "Intercept             5.5401      0.060     92.908      0.000       5.423       5.657\n",
       "log_sqft_living       0.6727      0.013     51.496      0.000       0.647       0.698\n",
       "log_sqft_above       -0.0679      0.012     -5.517      0.000      -0.092      -0.044\n",
       "log_sqft_living15     0.3888      0.012     32.099      0.000       0.365       0.412\n",
       "==============================================================================\n",
       "Omnibus:                      135.373   Durbin-Watson:                   1.975\n",
       "Prob(Omnibus):                  0.000   Jarque-Bera (JB):              118.072\n",
       "Skew:                           0.130   Prob(JB):                     2.30e-26\n",
       "Kurtosis:                       2.748   Cond. No.                         303.\n",
       "==============================================================================\n",
       "\n",
       "Notes:\n",
       "[1] Standard Errors assume that the covariance matrix of the errors is correctly specified.\n",
       "\"\"\""
      ]
     },
     "execution_count": 37,
     "metadata": {},
     "output_type": "execute_result"
    }
   ],
   "source": [
    "formula = 'log_price ~ log_sqft_living + log_sqft_above + log_sqft_living15'\n",
    "model = ols(formula=formula, data=data_log).fit()\n",
    "model_summary = model.summary()\n",
    "model_summary"
   ]
  },
  {
   "cell_type": "code",
   "execution_count": 38,
   "metadata": {
    "ExecuteTime": {
     "end_time": "2022-03-31T19:52:15.368436Z",
     "start_time": "2022-03-31T19:52:15.362044Z"
    },
    "scrolled": true
   },
   "outputs": [
    {
     "data": {
      "text/html": [
       "<div>\n",
       "<style scoped>\n",
       "    .dataframe tbody tr th:only-of-type {\n",
       "        vertical-align: middle;\n",
       "    }\n",
       "\n",
       "    .dataframe tbody tr th {\n",
       "        vertical-align: top;\n",
       "    }\n",
       "\n",
       "    .dataframe thead th {\n",
       "        text-align: right;\n",
       "    }\n",
       "</style>\n",
       "<table border=\"1\" class=\"dataframe\">\n",
       "  <thead>\n",
       "    <tr style=\"text-align: right;\">\n",
       "      <th></th>\n",
       "      <th>log_sqft_living</th>\n",
       "      <th>log_sqft_above</th>\n",
       "      <th>log_sqft_living15</th>\n",
       "      <th>log_price</th>\n",
       "    </tr>\n",
       "  </thead>\n",
       "  <tbody>\n",
       "    <tr>\n",
       "      <th>log_sqft_living</th>\n",
       "      <td>1.000000</td>\n",
       "      <td>0.864986</td>\n",
       "      <td>0.746839</td>\n",
       "      <td>0.674820</td>\n",
       "    </tr>\n",
       "    <tr>\n",
       "      <th>log_sqft_above</th>\n",
       "      <td>0.864986</td>\n",
       "      <td>1.000000</td>\n",
       "      <td>0.713088</td>\n",
       "      <td>0.586062</td>\n",
       "    </tr>\n",
       "    <tr>\n",
       "      <th>log_sqft_living15</th>\n",
       "      <td>0.746839</td>\n",
       "      <td>0.713088</td>\n",
       "      <td>1.000000</td>\n",
       "      <td>0.607205</td>\n",
       "    </tr>\n",
       "    <tr>\n",
       "      <th>log_price</th>\n",
       "      <td>0.674820</td>\n",
       "      <td>0.586062</td>\n",
       "      <td>0.607205</td>\n",
       "      <td>1.000000</td>\n",
       "    </tr>\n",
       "  </tbody>\n",
       "</table>\n",
       "</div>"
      ],
      "text/plain": [
       "                   log_sqft_living  log_sqft_above  log_sqft_living15  \\\n",
       "log_sqft_living           1.000000        0.864986           0.746839   \n",
       "log_sqft_above            0.864986        1.000000           0.713088   \n",
       "log_sqft_living15         0.746839        0.713088           1.000000   \n",
       "log_price                 0.674820        0.586062           0.607205   \n",
       "\n",
       "                   log_price  \n",
       "log_sqft_living     0.674820  \n",
       "log_sqft_above      0.586062  \n",
       "log_sqft_living15   0.607205  \n",
       "log_price           1.000000  "
      ]
     },
     "execution_count": 38,
     "metadata": {},
     "output_type": "execute_result"
    }
   ],
   "source": [
    "data_log.corr()"
   ]
  },
  {
   "cell_type": "code",
   "execution_count": 39,
   "metadata": {
    "ExecuteTime": {
     "end_time": "2022-03-31T19:52:15.388432Z",
     "start_time": "2022-03-31T19:52:15.369351Z"
    }
   },
   "outputs": [
    {
     "data": {
      "text/html": [
       "<table class=\"simpletable\">\n",
       "<caption>OLS Regression Results</caption>\n",
       "<tr>\n",
       "  <th>Dep. Variable:</th>        <td>log_price</td>    <th>  R-squared:         </th> <td>   0.455</td> \n",
       "</tr>\n",
       "<tr>\n",
       "  <th>Model:</th>                   <td>OLS</td>       <th>  Adj. R-squared:    </th> <td>   0.455</td> \n",
       "</tr>\n",
       "<tr>\n",
       "  <th>Method:</th>             <td>Least Squares</td>  <th>  F-statistic:       </th> <td>1.806e+04</td>\n",
       "</tr>\n",
       "<tr>\n",
       "  <th>Date:</th>             <td>Thu, 31 Mar 2022</td> <th>  Prob (F-statistic):</th>  <td>  0.00</td>  \n",
       "</tr>\n",
       "<tr>\n",
       "  <th>Time:</th>                 <td>14:52:15</td>     <th>  Log-Likelihood:    </th> <td> -10230.</td> \n",
       "</tr>\n",
       "<tr>\n",
       "  <th>No. Observations:</th>      <td> 21596</td>      <th>  AIC:               </th> <td>2.046e+04</td>\n",
       "</tr>\n",
       "<tr>\n",
       "  <th>Df Residuals:</th>          <td> 21594</td>      <th>  BIC:               </th> <td>2.048e+04</td>\n",
       "</tr>\n",
       "<tr>\n",
       "  <th>Df Model:</th>              <td>     1</td>      <th>                     </th>     <td> </td>    \n",
       "</tr>\n",
       "<tr>\n",
       "  <th>Covariance Type:</th>      <td>nonrobust</td>    <th>                     </th>     <td> </td>    \n",
       "</tr>\n",
       "</table>\n",
       "<table class=\"simpletable\">\n",
       "<tr>\n",
       "         <td></td>            <th>coef</th>     <th>std err</th>      <th>t</th>      <th>P>|t|</th>  <th>[0.025</th>    <th>0.975]</th>  \n",
       "</tr>\n",
       "<tr>\n",
       "  <th>Intercept</th>       <td>    6.7232</td> <td>    0.047</td> <td>  142.609</td> <td> 0.000</td> <td>    6.631</td> <td>    6.816</td>\n",
       "</tr>\n",
       "<tr>\n",
       "  <th>log_sqft_living</th> <td>    0.8377</td> <td>    0.006</td> <td>  134.372</td> <td> 0.000</td> <td>    0.825</td> <td>    0.850</td>\n",
       "</tr>\n",
       "</table>\n",
       "<table class=\"simpletable\">\n",
       "<tr>\n",
       "  <th>Omnibus:</th>       <td>123.586</td> <th>  Durbin-Watson:     </th> <td>   1.977</td>\n",
       "</tr>\n",
       "<tr>\n",
       "  <th>Prob(Omnibus):</th> <td> 0.000</td>  <th>  Jarque-Bera (JB):  </th> <td> 114.131</td>\n",
       "</tr>\n",
       "<tr>\n",
       "  <th>Skew:</th>          <td> 0.143</td>  <th>  Prob(JB):          </th> <td>1.65e-25</td>\n",
       "</tr>\n",
       "<tr>\n",
       "  <th>Kurtosis:</th>      <td> 2.788</td>  <th>  Cond. No.          </th> <td>    137.</td>\n",
       "</tr>\n",
       "</table><br/><br/>Notes:<br/>[1] Standard Errors assume that the covariance matrix of the errors is correctly specified."
      ],
      "text/plain": [
       "<class 'statsmodels.iolib.summary.Summary'>\n",
       "\"\"\"\n",
       "                            OLS Regression Results                            \n",
       "==============================================================================\n",
       "Dep. Variable:              log_price   R-squared:                       0.455\n",
       "Model:                            OLS   Adj. R-squared:                  0.455\n",
       "Method:                 Least Squares   F-statistic:                 1.806e+04\n",
       "Date:                Thu, 31 Mar 2022   Prob (F-statistic):               0.00\n",
       "Time:                        14:52:15   Log-Likelihood:                -10230.\n",
       "No. Observations:               21596   AIC:                         2.046e+04\n",
       "Df Residuals:                   21594   BIC:                         2.048e+04\n",
       "Df Model:                           1                                         \n",
       "Covariance Type:            nonrobust                                         \n",
       "===================================================================================\n",
       "                      coef    std err          t      P>|t|      [0.025      0.975]\n",
       "-----------------------------------------------------------------------------------\n",
       "Intercept           6.7232      0.047    142.609      0.000       6.631       6.816\n",
       "log_sqft_living     0.8377      0.006    134.372      0.000       0.825       0.850\n",
       "==============================================================================\n",
       "Omnibus:                      123.586   Durbin-Watson:                   1.977\n",
       "Prob(Omnibus):                  0.000   Jarque-Bera (JB):              114.131\n",
       "Skew:                           0.143   Prob(JB):                     1.65e-25\n",
       "Kurtosis:                       2.788   Cond. No.                         137.\n",
       "==============================================================================\n",
       "\n",
       "Notes:\n",
       "[1] Standard Errors assume that the covariance matrix of the errors is correctly specified.\n",
       "\"\"\""
      ]
     },
     "execution_count": 39,
     "metadata": {},
     "output_type": "execute_result"
    }
   ],
   "source": [
    "formula = 'log_price ~ log_sqft_living'\n",
    "model = ols(formula=formula, data=data_log).fit()\n",
    "model_summary = model.summary()\n",
    "model_summary"
   ]
  },
  {
   "cell_type": "markdown",
   "metadata": {},
   "source": [
    "Single sample model is worse than multi sample model."
   ]
  },
  {
   "cell_type": "code",
   "execution_count": null,
   "metadata": {},
   "outputs": [],
   "source": []
  },
  {
   "cell_type": "code",
   "execution_count": null,
   "metadata": {},
   "outputs": [],
   "source": []
  },
  {
   "cell_type": "code",
   "execution_count": null,
   "metadata": {},
   "outputs": [],
   "source": []
  },
  {
   "cell_type": "code",
   "execution_count": 40,
   "metadata": {
    "ExecuteTime": {
     "end_time": "2022-03-31T19:52:15.392490Z",
     "start_time": "2022-03-31T19:52:15.389591Z"
    }
   },
   "outputs": [],
   "source": [
    "category_df = df.filter(['price', 'condition', 'grade'])"
   ]
  },
  {
   "cell_type": "code",
   "execution_count": 41,
   "metadata": {
    "ExecuteTime": {
     "end_time": "2022-03-31T19:52:15.398582Z",
     "start_time": "2022-03-31T19:52:15.393748Z"
    }
   },
   "outputs": [],
   "source": [
    "condition_dummies = pd.get_dummies(category_df['condition'], prefix='con', drop_first=True)\n",
    "grade_dummies = pd.get_dummies(category_df['grade'], prefix='grd', drop_first=True)"
   ]
  },
  {
   "cell_type": "code",
   "execution_count": 42,
   "metadata": {
    "ExecuteTime": {
     "end_time": "2022-03-31T19:52:15.403353Z",
     "start_time": "2022-03-31T19:52:15.400223Z"
    }
   },
   "outputs": [],
   "source": [
    "data = category_df.drop(['condition', 'grade',], axis=1)"
   ]
  },
  {
   "cell_type": "code",
   "execution_count": 43,
   "metadata": {
    "ExecuteTime": {
     "end_time": "2022-03-31T19:52:15.410600Z",
     "start_time": "2022-03-31T19:52:15.404342Z"
    }
   },
   "outputs": [
    {
     "data": {
      "text/html": [
       "<div>\n",
       "<style scoped>\n",
       "    .dataframe tbody tr th:only-of-type {\n",
       "        vertical-align: middle;\n",
       "    }\n",
       "\n",
       "    .dataframe tbody tr th {\n",
       "        vertical-align: top;\n",
       "    }\n",
       "\n",
       "    .dataframe thead th {\n",
       "        text-align: right;\n",
       "    }\n",
       "</style>\n",
       "<table border=\"1\" class=\"dataframe\">\n",
       "  <thead>\n",
       "    <tr style=\"text-align: right;\">\n",
       "      <th></th>\n",
       "      <th>price</th>\n",
       "      <th>con_2</th>\n",
       "      <th>con_3</th>\n",
       "      <th>con_4</th>\n",
       "      <th>con_5</th>\n",
       "    </tr>\n",
       "  </thead>\n",
       "  <tbody>\n",
       "    <tr>\n",
       "      <th>0</th>\n",
       "      <td>221900.0</td>\n",
       "      <td>0</td>\n",
       "      <td>1</td>\n",
       "      <td>0</td>\n",
       "      <td>0</td>\n",
       "    </tr>\n",
       "    <tr>\n",
       "      <th>1</th>\n",
       "      <td>538000.0</td>\n",
       "      <td>0</td>\n",
       "      <td>1</td>\n",
       "      <td>0</td>\n",
       "      <td>0</td>\n",
       "    </tr>\n",
       "    <tr>\n",
       "      <th>2</th>\n",
       "      <td>180000.0</td>\n",
       "      <td>0</td>\n",
       "      <td>1</td>\n",
       "      <td>0</td>\n",
       "      <td>0</td>\n",
       "    </tr>\n",
       "    <tr>\n",
       "      <th>3</th>\n",
       "      <td>604000.0</td>\n",
       "      <td>0</td>\n",
       "      <td>0</td>\n",
       "      <td>0</td>\n",
       "      <td>1</td>\n",
       "    </tr>\n",
       "    <tr>\n",
       "      <th>4</th>\n",
       "      <td>510000.0</td>\n",
       "      <td>0</td>\n",
       "      <td>1</td>\n",
       "      <td>0</td>\n",
       "      <td>0</td>\n",
       "    </tr>\n",
       "  </tbody>\n",
       "</table>\n",
       "</div>"
      ],
      "text/plain": [
       "      price  con_2  con_3  con_4  con_5\n",
       "0  221900.0      0      1      0      0\n",
       "1  538000.0      0      1      0      0\n",
       "2  180000.0      0      1      0      0\n",
       "3  604000.0      0      0      0      1\n",
       "4  510000.0      0      1      0      0"
      ]
     },
     "execution_count": 43,
     "metadata": {},
     "output_type": "execute_result"
    }
   ],
   "source": [
    "data = pd.concat([data, condition_dummies, grade_dummies], axis=1)\n",
    "data.head()"
   ]
  },
  {
   "cell_type": "code",
   "execution_count": 44,
   "metadata": {
    "ExecuteTime": {
     "end_time": "2022-03-31T19:52:15.415311Z",
     "start_time": "2022-03-31T19:52:15.411947Z"
    }
   },
   "outputs": [
    {
     "data": {
      "text/plain": [
       "Index(['price', 'con_2', 'con_3', 'con_4', 'con_5'], dtype='object')"
      ]
     },
     "execution_count": 44,
     "metadata": {},
     "output_type": "execute_result"
    }
   ],
   "source": [
    "data.columns"
   ]
  },
  {
   "cell_type": "code",
   "execution_count": 45,
   "metadata": {
    "ExecuteTime": {
     "end_time": "2022-03-31T19:52:15.426626Z",
     "start_time": "2022-03-31T19:52:15.416330Z"
    }
   },
   "outputs": [
    {
     "data": {
      "text/plain": [
       "0.0"
      ]
     },
     "execution_count": 45,
     "metadata": {},
     "output_type": "execute_result"
    }
   ],
   "source": [
    "chi, p_value, dof, expected = stats.contingency.chi2_contingency(data) \n",
    "p_value"
   ]
  },
  {
   "cell_type": "markdown",
   "metadata": {},
   "source": [
    "Created dummy variable for grade and condition. Not sure what to do with them. "
   ]
  },
  {
   "cell_type": "code",
   "execution_count": null,
   "metadata": {},
   "outputs": [],
   "source": []
  },
  {
   "cell_type": "code",
   "execution_count": 46,
   "metadata": {
    "ExecuteTime": {
     "end_time": "2022-03-31T19:52:15.433933Z",
     "start_time": "2022-03-31T19:52:15.427730Z"
    }
   },
   "outputs": [
    {
     "data": {
      "text/html": [
       "<div>\n",
       "<style scoped>\n",
       "    .dataframe tbody tr th:only-of-type {\n",
       "        vertical-align: middle;\n",
       "    }\n",
       "\n",
       "    .dataframe tbody tr th {\n",
       "        vertical-align: top;\n",
       "    }\n",
       "\n",
       "    .dataframe thead th {\n",
       "        text-align: right;\n",
       "    }\n",
       "</style>\n",
       "<table border=\"1\" class=\"dataframe\">\n",
       "  <thead>\n",
       "    <tr style=\"text-align: right;\">\n",
       "      <th></th>\n",
       "      <th>price</th>\n",
       "      <th>condition</th>\n",
       "      <th>grade</th>\n",
       "    </tr>\n",
       "  </thead>\n",
       "  <tbody>\n",
       "    <tr>\n",
       "      <th>0</th>\n",
       "      <td>221900.0</td>\n",
       "      <td>3</td>\n",
       "      <td>NaN</td>\n",
       "    </tr>\n",
       "    <tr>\n",
       "      <th>1</th>\n",
       "      <td>538000.0</td>\n",
       "      <td>3</td>\n",
       "      <td>NaN</td>\n",
       "    </tr>\n",
       "    <tr>\n",
       "      <th>2</th>\n",
       "      <td>180000.0</td>\n",
       "      <td>3</td>\n",
       "      <td>NaN</td>\n",
       "    </tr>\n",
       "    <tr>\n",
       "      <th>3</th>\n",
       "      <td>604000.0</td>\n",
       "      <td>5</td>\n",
       "      <td>NaN</td>\n",
       "    </tr>\n",
       "    <tr>\n",
       "      <th>4</th>\n",
       "      <td>510000.0</td>\n",
       "      <td>3</td>\n",
       "      <td>NaN</td>\n",
       "    </tr>\n",
       "  </tbody>\n",
       "</table>\n",
       "</div>"
      ],
      "text/plain": [
       "      price  condition  grade\n",
       "0  221900.0          3    NaN\n",
       "1  538000.0          3    NaN\n",
       "2  180000.0          3    NaN\n",
       "3  604000.0          5    NaN\n",
       "4  510000.0          3    NaN"
      ]
     },
     "execution_count": 46,
     "metadata": {},
     "output_type": "execute_result"
    }
   ],
   "source": [
    "category_df.head()"
   ]
  },
  {
   "cell_type": "markdown",
   "metadata": {
    "ExecuteTime": {
     "end_time": "2022-03-31T19:52:15.692368Z",
     "start_time": "2022-03-31T19:52:15.435591Z"
    }
   },
   "source": [
    "import matplotlib.pyplot as plt\n",
    "%matplotlib inline\n",
    "\n",
    "fig, axes = plt.subplots(ncols=2, figsize=(16,10), sharey=True)\n",
    "\n",
    "categoricals = ['condition', 'grade']\n",
    "\n",
    "for col, ax in zip(categoricals, axes.flatten()):\n",
    "    (category_df.groupby(col)               # group values together by column of interest\n",
    "         .mean()['price']        # take the mean of the saleprice for each group\n",
    "         .sort_values()              # sort the groups in ascending order\n",
    "         .plot\n",
    "         .bar(ax=ax))                # create a bar graph on the ax\n",
    "    \n",
    "    ax.set_title(col)                # Make the title the name of the column\n",
    "    ax.set_ylabel('price')\n",
    "fig.tight_layout()"
   ]
  },
  {
   "cell_type": "code",
   "execution_count": 49,
   "metadata": {
    "ExecuteTime": {
     "end_time": "2022-03-31T20:27:47.453690Z",
     "start_time": "2022-03-31T20:27:47.192790Z"
    }
   },
   "outputs": [
    {
     "data": {
      "image/png": "[encoded data removed]",
      "text/plain": [
       "<Figure size 720x432 with 1 Axes>"
      ]
     },
     "metadata": {
      "needs_background": "light"
     },
     "output_type": "display_data"
    }
   ],
   "source": [
    "grade_vs_price = category_df.groupby(['grade']).mean().sort_values(['price'], ascending=False)\n",
    "\n",
    "fig, ax = plt.subplots(figsize=(10,6))\n",
    "\n",
    "ax.barh(y=grade_vs_price.index, width=grade_vs_price['price'], color=\"navy\")\n",
    "ax.invert_yaxis()\n",
    "ax.set_title('Grade and Price')\n",
    "ax.set_ylabel('Grade')\n",
    "ax.set_xlabel('Price');\n"
   ]
  },
  {
   "cell_type": "code",
   "execution_count": null,
   "metadata": {
    "ExecuteTime": {
     "end_time": "2022-03-31T19:52:15.695586Z",
     "start_time": "2022-03-31T19:52:08.811Z"
    }
   },
   "outputs": [],
   "source": [
    "df.groupby(['grade']).mean().sort_values(['price'], ascending=False)"
   ]
  },
  {
   "cell_type": "code",
   "execution_count": null,
   "metadata": {
    "ExecuteTime": {
     "end_time": "2022-03-31T19:52:15.696147Z",
     "start_time": "2022-03-31T19:52:08.813Z"
    },
    "scrolled": false
   },
   "outputs": [],
   "source": [
    "category_df['grade'].value_counts()"
   ]
  },
  {
   "cell_type": "markdown",
   "metadata": {},
   "source": [
    "Clearly the mansions sold for the most but there aren't many of them. In addition there aren't many poor, low and luxury grades either. Perhaps we will drop them. However there is a need to check significance levels."
   ]
  },
  {
   "cell_type": "code",
   "execution_count": null,
   "metadata": {
    "ExecuteTime": {
     "end_time": "2022-03-31T19:52:15.696785Z",
     "start_time": "2022-03-31T19:52:08.815Z"
    }
   },
   "outputs": [],
   "source": [
    "grade_df = category_df.filter(['grade', 'price'])\n",
    "grade_df.replace('13 Mansion', 13, inplace=True) \n",
    "grade_df.replace('12 Luxury', 12, inplace=True) \n",
    "grade_df.replace('11 Excellent', 11, inplace=True) \n",
    "grade_df.replace('10 Very Good', 10, inplace=True) \n",
    "grade_df.replace('9 Better', 9, inplace=True) \n",
    "grade_df.replace('8 Good', 8, inplace=True) \n",
    "grade_df.replace('7 Average', 7, inplace=True) \n",
    "grade_df.replace('6 Low Average', 6, inplace=True) \n",
    "grade_df.replace('5 Fair', 5, inplace=True) \n",
    "grade_df.replace('4 Low', 4, inplace=True) \n",
    "grade_df.replace('3 Poor', 3, inplace=True) \n",
    "grade_df.head()\n",
    "#make function?"
   ]
  },
  {
   "cell_type": "code",
   "execution_count": null,
   "metadata": {
    "ExecuteTime": {
     "end_time": "2022-03-31T19:52:15.697524Z",
     "start_time": "2022-03-31T19:52:08.816Z"
    },
    "scrolled": true
   },
   "outputs": [],
   "source": [
    "grade_df.corr()"
   ]
  },
  {
   "cell_type": "code",
   "execution_count": null,
   "metadata": {
    "ExecuteTime": {
     "end_time": "2022-03-31T19:52:15.698046Z",
     "start_time": "2022-03-31T19:52:08.817Z"
    }
   },
   "outputs": [],
   "source": [
    "stats.contingency.chi2_contingency(grade_df) \n"
   ]
  },
  {
   "cell_type": "code",
   "execution_count": null,
   "metadata": {
    "ExecuteTime": {
     "end_time": "2022-03-31T19:52:15.698624Z",
     "start_time": "2022-03-31T19:52:08.818Z"
    }
   },
   "outputs": [],
   "source": [
    "formula = 'price ~ C(grade)'\n",
    "lm = ols(formula, grade_df).fit()\n",
    "sm.stats.anova_lm(lm)"
   ]
  },
  {
   "cell_type": "markdown",
   "metadata": {},
   "source": [
    "Home grade has a correlation of .67 with a significant p-value of 0.0."
   ]
  },
  {
   "cell_type": "code",
   "execution_count": null,
   "metadata": {
    "ExecuteTime": {
     "end_time": "2022-03-31T19:52:15.699315Z",
     "start_time": "2022-03-31T19:52:08.819Z"
    }
   },
   "outputs": [],
   "source": [
    "condition_vs_price = category_df.groupby(['condition']).mean().sort_values(['price'], ascending=False)\n",
    "\n",
    "fig, ax = plt.subplots(figsize=(10,6))\n",
    "\n",
    "ax.barh(y=condition_vs_price.index, width=condition_vs_price['price'], color=\"navy\")\n",
    "ax.invert_yaxis()\n",
    "ax.set_title('Condition and Price')\n",
    "ax.set_ylabel('Condition')\n",
    "ax.set_xlabel('Price');\n"
   ]
  },
  {
   "cell_type": "code",
   "execution_count": null,
   "metadata": {
    "ExecuteTime": {
     "end_time": "2022-03-31T19:52:15.699864Z",
     "start_time": "2022-03-31T19:52:08.820Z"
    }
   },
   "outputs": [],
   "source": [
    "category_df['condition'].value_counts()"
   ]
  },
  {
   "cell_type": "markdown",
   "metadata": {},
   "source": [
    "Homes in better Condition tend to sell for more. Although there is a need to check significance levels."
   ]
  },
  {
   "cell_type": "code",
   "execution_count": null,
   "metadata": {
    "ExecuteTime": {
     "end_time": "2022-03-31T19:52:15.700529Z",
     "start_time": "2022-03-31T19:52:08.821Z"
    }
   },
   "outputs": [],
   "source": [
    "condition_vs_price"
   ]
  },
  {
   "cell_type": "code",
   "execution_count": null,
   "metadata": {
    "ExecuteTime": {
     "end_time": "2022-03-31T19:52:15.701075Z",
     "start_time": "2022-03-31T19:52:08.821Z"
    }
   },
   "outputs": [],
   "source": [
    "condition_df = category_df.filter(['condition', 'price'])\n",
    "condition_df.replace('Very Good', 5, inplace=True) \n",
    "condition_df.replace('Good', 4, inplace=True) \n",
    "condition_df.replace('Average', 3, inplace=True) \n",
    "condition_df.replace('Fair', 2, inplace=True) \n",
    "condition_df.replace('Poor', 1, inplace=True) \n",
    "condition_df"
   ]
  },
  {
   "cell_type": "code",
   "execution_count": null,
   "metadata": {
    "ExecuteTime": {
     "end_time": "2022-03-31T19:52:15.701738Z",
     "start_time": "2022-03-31T19:52:08.822Z"
    }
   },
   "outputs": [],
   "source": [
    "condition_df.corr()"
   ]
  },
  {
   "cell_type": "code",
   "execution_count": null,
   "metadata": {
    "ExecuteTime": {
     "end_time": "2022-03-31T19:52:15.702375Z",
     "start_time": "2022-03-31T19:52:08.823Z"
    }
   },
   "outputs": [],
   "source": [
    "stats.contingency.chi2_contingency(condition_df) "
   ]
  },
  {
   "cell_type": "code",
   "execution_count": null,
   "metadata": {
    "ExecuteTime": {
     "end_time": "2022-03-31T19:52:15.703027Z",
     "start_time": "2022-03-31T19:52:08.823Z"
    }
   },
   "outputs": [],
   "source": [
    "formula = 'price ~ C(condition)'\n",
    "lm = ols(formula, condition_df).fit()\n",
    "sm.stats.anova_lm(lm)"
   ]
  },
  {
   "cell_type": "markdown",
   "metadata": {},
   "source": [
    "Condition of home has a very weak correlation of .04 with a significance lower than alpha. "
   ]
  },
  {
   "cell_type": "markdown",
   "metadata": {},
   "source": [
    "Trimming the Fat"
   ]
  },
  {
   "cell_type": "code",
   "execution_count": null,
   "metadata": {
    "ExecuteTime": {
     "end_time": "2022-03-31T19:52:15.703620Z",
     "start_time": "2022-03-31T19:52:08.824Z"
    }
   },
   "outputs": [],
   "source": [
    "df2.head()"
   ]
  },
  {
   "cell_type": "code",
   "execution_count": null,
   "metadata": {
    "ExecuteTime": {
     "end_time": "2022-03-31T19:52:15.704201Z",
     "start_time": "2022-03-31T19:52:08.825Z"
    }
   },
   "outputs": [],
   "source": [
    "price_q75, price_q25 = np.percentile(df2['price'],[75,25])\n",
    "intr_qrt = price_q75-price_q25\n",
    "upper_price = price_q75 + (1.5*intr_qrt)\n",
    "lower_price = price_q25 - (1.5*intr_qrt)\n",
    "lower_price, upper_price"
   ]
  },
  {
   "cell_type": "code",
   "execution_count": null,
   "metadata": {
    "ExecuteTime": {
     "end_time": "2022-03-31T19:52:15.704721Z",
     "start_time": "2022-03-31T19:52:08.826Z"
    }
   },
   "outputs": [],
   "source": [
    "df2 = df2[df2['price'] <= upper_price]"
   ]
  },
  {
   "cell_type": "code",
   "execution_count": null,
   "metadata": {
    "ExecuteTime": {
     "end_time": "2022-03-31T19:52:15.705260Z",
     "start_time": "2022-03-31T19:52:08.826Z"
    }
   },
   "outputs": [],
   "source": [
    "formula = 'price ~ sqft_living + sqft_above + sqft_living15'\n",
    "model = ols(formula=formula, data=df2).fit()\n",
    "model_summary = model.summary()\n",
    "model_summary"
   ]
  },
  {
   "cell_type": "code",
   "execution_count": null,
   "metadata": {
    "ExecuteTime": {
     "end_time": "2022-03-31T19:52:15.706008Z",
     "start_time": "2022-03-31T19:52:08.827Z"
    }
   },
   "outputs": [],
   "source": [
    "df2[['price', 'sqft_living', 'sqft_above', 'sqft_living15']].hist(figsize  = [8, 8]); "
   ]
  },
  {
   "cell_type": "code",
   "execution_count": null,
   "metadata": {
    "ExecuteTime": {
     "end_time": "2022-03-31T19:52:15.706689Z",
     "start_time": "2022-03-31T19:52:08.828Z"
    }
   },
   "outputs": [],
   "source": [
    "data_log = pd.DataFrame([])\n",
    "data_log['log_price'] = np.log(df2['price'])\n",
    "data_log['log_sqft_living'] = np.log(df2['sqft_living'])\n",
    "data_log['log_sqft_above'] = np.log(df2['sqft_above'])\n",
    "data_log['log_sqft_living15'] = np.log(df2['sqft_living15'])\n",
    "data_log.hist(figsize  = [6, 6]);"
   ]
  },
  {
   "cell_type": "code",
   "execution_count": null,
   "metadata": {
    "ExecuteTime": {
     "end_time": "2022-03-31T19:52:15.707213Z",
     "start_time": "2022-03-31T19:52:08.829Z"
    }
   },
   "outputs": [],
   "source": [
    "formula = 'log_price ~ log_sqft_living + log_sqft_above + log_sqft_living15'\n",
    "model = ols(formula=formula, data=data_log).fit()\n",
    "model_summary = model.summary()\n",
    "model_summary"
   ]
  },
  {
   "cell_type": "code",
   "execution_count": null,
   "metadata": {
    "ExecuteTime": {
     "end_time": "2022-03-31T19:52:15.707806Z",
     "start_time": "2022-03-31T19:52:08.829Z"
    }
   },
   "outputs": [],
   "source": [
    "formula = 'log_price ~ log_sqft_living'\n",
    "model = ols(formula=formula, data=data_log).fit()\n",
    "model_summary = model.summary()\n",
    "model_summary"
   ]
  },
  {
   "cell_type": "markdown",
   "metadata": {
    "ExecuteTime": {
     "end_time": "2022-03-25T21:04:51.471891Z",
     "start_time": "2022-03-25T21:04:51.450925Z"
    }
   },
   "source": [
    "Getting rid of outliers based on price has made the models worse."
   ]
  },
  {
   "cell_type": "code",
   "execution_count": null,
   "metadata": {
    "ExecuteTime": {
     "end_time": "2022-03-31T19:52:15.708308Z",
     "start_time": "2022-03-31T19:52:08.830Z"
    }
   },
   "outputs": [],
   "source": [
    "df2.head(1)"
   ]
  },
  {
   "cell_type": "code",
   "execution_count": null,
   "metadata": {
    "ExecuteTime": {
     "end_time": "2022-03-31T19:52:15.709093Z",
     "start_time": "2022-03-31T19:52:08.831Z"
    }
   },
   "outputs": [],
   "source": [
    "sqft_living_q75, sqft_living_q25 = np.percentile(df2['sqft_living'],[75,25])\n",
    "sqft_living_intr_qrt = sqft_living_q75-sqft_living_q25\n",
    "upper_sqft_living = sqft_living_q75 + (1.5*sqft_living_intr_qrt)\n",
    "lower_sqft_living = sqft_living_q25 - (1.5*sqft_living_intr_qrt)\n",
    "lower_sqft_living, upper_sqft_living\n",
    "df2 = df2[df2['sqft_living'] <= upper_sqft_living]\n",
    "df2 = df2[df2['sqft_living'] >= lower_sqft_living]\n",
    "\n",
    "sqft_above_q75, sqft_above_q25 = np.percentile(df2['sqft_above'],[75,25])\n",
    "sqft_above_intr_qrt = sqft_above_q75-sqft_above_q25\n",
    "upper_sqft_above = sqft_above_q75 + (1.5*sqft_above_intr_qrt)\n",
    "lower_sqft_above = sqft_above_q25 - (1.5*sqft_above_intr_qrt)\n",
    "lower_sqft_above, upper_sqft_above\n",
    "df2 = df2[df2['sqft_above'] <= upper_sqft_above]\n",
    "df2 = df2[df2['sqft_above'] >= lower_sqft_above]\n",
    "\n",
    "\n",
    "sqft_living15_q75, sqft_living15_q25 = np.percentile(df2['sqft_living15'],[75,25])\n",
    "sqft_living15_intr_qrt = sqft_living15_q75-sqft_living15_q25\n",
    "upper_sqft_living15 = sqft_living15_q75 + (1.5*sqft_living15_intr_qrt)\n",
    "lower_sqft_living15 = sqft_living15_q25 - (1.5*sqft_living15_intr_qrt)\n",
    "lower_sqft_living15, upper_sqft_living15\n",
    "df2 = df2[df2['sqft_living15'] <= upper_sqft_living15]\n",
    "df2 = df2[df2['sqft_living15'] >= lower_sqft_living15]\n",
    "\n",
    "#create a function\n",
    "#def remove_outlier(df):\n",
    "    #for x in df:\n",
    "        #q1 = df[x].quantile(0.25)\n",
    "        #q3 = df[x].quantile(0.75)\n",
    "        #iqr = q3-q1 #Interquartile range\n",
    "        #fence_low  = q1-1.5*iqr\n",
    "        #fence_high = q3+1.5*iqr\n",
    "        #df_out = df.loc[(df[x] > fence_low) & (df[x] < fence_high)]\n",
    "    #return df_out"
   ]
  },
  {
   "cell_type": "code",
   "execution_count": null,
   "metadata": {
    "ExecuteTime": {
     "end_time": "2022-03-31T19:52:15.709644Z",
     "start_time": "2022-03-31T19:52:08.832Z"
    }
   },
   "outputs": [],
   "source": [
    "df2[['price', 'sqft_living', 'sqft_above', 'sqft_living15']].hist(figsize  = [8, 8]); "
   ]
  },
  {
   "cell_type": "code",
   "execution_count": null,
   "metadata": {
    "ExecuteTime": {
     "end_time": "2022-03-31T19:52:15.710223Z",
     "start_time": "2022-03-31T19:52:08.832Z"
    }
   },
   "outputs": [],
   "source": [
    "data_log = pd.DataFrame([])\n",
    "data_log['log_price'] = np.log(df2['price'])\n",
    "data_log['log_sqft_living'] = np.log(df2['sqft_living'])\n",
    "data_log['log_sqft_above'] = np.log(df2['sqft_above'])\n",
    "data_log['log_sqft_living15'] = np.log(df2['sqft_living15'])\n",
    "data_log.hist(figsize  = [6, 6]);"
   ]
  },
  {
   "cell_type": "code",
   "execution_count": null,
   "metadata": {
    "ExecuteTime": {
     "end_time": "2022-03-31T19:52:15.710751Z",
     "start_time": "2022-03-31T19:52:08.833Z"
    }
   },
   "outputs": [],
   "source": [
    "formula = 'log_price ~ log_sqft_living + log_sqft_above + log_sqft_living15'\n",
    "model = ols(formula=formula, data=data_log).fit()\n",
    "model_summary = model.summary()\n",
    "model_summary"
   ]
  },
  {
   "cell_type": "code",
   "execution_count": null,
   "metadata": {
    "ExecuteTime": {
     "end_time": "2022-03-31T19:52:15.711241Z",
     "start_time": "2022-03-31T19:52:08.834Z"
    },
    "scrolled": false
   },
   "outputs": [],
   "source": [
    "formula = 'log_price ~ log_sqft_living'\n",
    "model = ols(formula=formula, data=data_log).fit()\n",
    "model_summary = model.summary()\n",
    "model_summary"
   ]
  },
  {
   "cell_type": "code",
   "execution_count": null,
   "metadata": {
    "ExecuteTime": {
     "end_time": "2022-03-31T19:52:15.711821Z",
     "start_time": "2022-03-31T19:52:08.834Z"
    }
   },
   "outputs": [],
   "source": [
    "data_log.corr()"
   ]
  },
  {
   "cell_type": "markdown",
   "metadata": {},
   "source": [
    "Removing outliers from based on sqft_living, sqft_above, and sqft_living15 has made the models worse. "
   ]
  },
  {
   "cell_type": "code",
   "execution_count": null,
   "metadata": {
    "ExecuteTime": {
     "end_time": "2022-03-31T19:52:15.712322Z",
     "start_time": "2022-03-31T19:52:08.835Z"
    }
   },
   "outputs": [],
   "source": [
    "import requests\n",
    "import time\n",
    "#time.sleep(.5)\n",
    "import json"
   ]
  },
  {
   "cell_type": "code",
   "execution_count": null,
   "metadata": {
    "ExecuteTime": {
     "end_time": "2022-03-31T19:52:15.712908Z",
     "start_time": "2022-03-31T19:52:08.836Z"
    }
   },
   "outputs": [],
   "source": [
    "def get_keys(path):\n",
    "    with open(path) as f:\n",
    "        return json.load(f)\n",
    "    \n",
    "api_keys = get_keys('/Users/zachrauch/.secret/Keys.json')\n",
    "zap_key = api_keys['zap_key']"
   ]
  },
  {
   "cell_type": "code",
   "execution_count": null,
   "metadata": {
    "ExecuteTime": {
     "end_time": "2022-03-31T19:52:15.713474Z",
     "start_time": "2022-03-31T19:52:08.837Z"
    }
   },
   "outputs": [],
   "source": [
    "#url = f'https://api.bridgedataoutput.com/api/v2/zgecon/region?access_token={zap_key}&regionCity=Seattle'\n",
    "#url = f'https://api.bridgedataoutput.com/api/v2/zgecon/marketreport?access_token={zap_key}&metricTypeKey=zhvi&cutTypeKey=uc_sfrcondo&regionTypeID=6&regionCity=Seattle'\n",
    "\n",
    "r = requests.get(url).json()\n",
    "r"
   ]
  },
  {
   "cell_type": "code",
   "execution_count": null,
   "metadata": {
    "ExecuteTime": {
     "end_time": "2022-03-31T19:52:15.714023Z",
     "start_time": "2022-03-31T19:52:08.837Z"
    }
   },
   "outputs": [],
   "source": [
    "date_price2 = df2.filter(['date', 'price'])\n",
    "date_price2 = date_price.groupby(['date']).mean().sort_values(['date'])\n",
    "date_price2"
   ]
  },
  {
   "cell_type": "code",
   "execution_count": null,
   "metadata": {
    "ExecuteTime": {
     "end_time": "2022-03-31T19:52:15.714513Z",
     "start_time": "2022-03-31T19:52:08.838Z"
    }
   },
   "outputs": [],
   "source": [
    "fig, ax = plt.subplots()\n",
    "plt.xticks(rotation = 45)\n",
    "ax.set_xlabel('Year-Month')\n",
    "ax.set_ylabel('Average Price')\n",
    "\n",
    "ax.plot(date_price2);"
   ]
  },
  {
   "cell_type": "code",
   "execution_count": null,
   "metadata": {
    "ExecuteTime": {
     "end_time": "2022-03-31T19:52:15.715284Z",
     "start_time": "2022-03-31T19:52:08.839Z"
    }
   },
   "outputs": [],
   "source": [
    "date_price2['price2'] = date_price2['price']\n",
    "date_price2 = date_price2.filter(['date', 'price2'])"
   ]
  },
  {
   "cell_type": "code",
   "execution_count": null,
   "metadata": {
    "ExecuteTime": {
     "end_time": "2022-03-31T19:52:15.716188Z",
     "start_time": "2022-03-31T19:52:08.839Z"
    }
   },
   "outputs": [],
   "source": [
    "date_comp = [date_price2, date_price]"
   ]
  },
  {
   "cell_type": "code",
   "execution_count": null,
   "metadata": {
    "ExecuteTime": {
     "end_time": "2022-03-31T19:52:15.716816Z",
     "start_time": "2022-03-31T19:52:08.840Z"
    }
   },
   "outputs": [],
   "source": [
    "pd.concat(date_comp,\n",
    "    join=\"inner\", axis=1)"
   ]
  },
  {
   "cell_type": "code",
   "execution_count": null,
   "metadata": {
    "ExecuteTime": {
     "end_time": "2022-03-31T19:52:15.717590Z",
     "start_time": "2022-03-31T19:52:08.841Z"
    }
   },
   "outputs": [],
   "source": [
    "df2['price'].describe()"
   ]
  },
  {
   "cell_type": "code",
   "execution_count": null,
   "metadata": {
    "ExecuteTime": {
     "end_time": "2022-03-31T19:52:15.719004Z",
     "start_time": "2022-03-31T19:52:08.842Z"
    }
   },
   "outputs": [],
   "source": [
    "df['price'].describe()"
   ]
  },
  {
   "cell_type": "markdown",
   "metadata": {},
   "source": [
    "Not sure why but the date-price graphs before and after the removal of price outliers are the same."
   ]
  },
  {
   "cell_type": "markdown",
   "metadata": {},
   "source": [
    "#### Removing outliers via z-score"
   ]
  },
  {
   "cell_type": "code",
   "execution_count": null,
   "metadata": {
    "ExecuteTime": {
     "end_time": "2022-03-31T19:52:15.720484Z",
     "start_time": "2022-03-31T19:52:08.843Z"
    }
   },
   "outputs": [],
   "source": [
    "df = pd.DataFrame(np.random.randn(100, 3))\n",
    "\n",
    "from scipy import stats\n",
    "df2 = df[(np.abs(stats.zscore(df)) < 1).all(axis=1)]"
   ]
  },
  {
   "cell_type": "code",
   "execution_count": null,
   "metadata": {
    "ExecuteTime": {
     "end_time": "2022-03-31T19:52:15.721419Z",
     "start_time": "2022-03-31T19:52:08.844Z"
    }
   },
   "outputs": [],
   "source": [
    "df"
   ]
  },
  {
   "cell_type": "code",
   "execution_count": null,
   "metadata": {
    "ExecuteTime": {
     "end_time": "2022-03-31T19:52:15.722532Z",
     "start_time": "2022-03-31T19:52:08.845Z"
    }
   },
   "outputs": [],
   "source": [
    "df2"
   ]
  },
  {
   "cell_type": "markdown",
   "metadata": {},
   "source": [
    "#### Removing outliers via quantile"
   ]
  },
  {
   "cell_type": "code",
   "execution_count": null,
   "metadata": {
    "ExecuteTime": {
     "end_time": "2022-03-31T19:52:15.723390Z",
     "start_time": "2022-03-31T19:52:08.846Z"
    }
   },
   "outputs": [],
   "source": [
    "df = pd.read_csv('../../data/kc_house_data.csv')\n",
    "df.info()"
   ]
  },
  {
   "cell_type": "code",
   "execution_count": null,
   "metadata": {
    "ExecuteTime": {
     "end_time": "2022-03-31T19:52:15.724000Z",
     "start_time": "2022-03-31T19:52:08.846Z"
    }
   },
   "outputs": [],
   "source": [
    "df_test = df.filter(['price', 'bedrooms', 'bathrooms', 'sqft_living', 'sqft_lot', 'floors', 'sqft_above', 'sqft_living15', 'sqft_lot15'])"
   ]
  },
  {
   "cell_type": "code",
   "execution_count": null,
   "metadata": {},
   "outputs": [],
   "source": []
  },
  {
   "cell_type": "code",
   "execution_count": null,
   "metadata": {
    "ExecuteTime": {
     "end_time": "2022-03-31T19:52:15.724529Z",
     "start_time": "2022-03-31T19:52:08.847Z"
    }
   },
   "outputs": [],
   "source": [
    "def remove_outlier(df):\n",
    "    for x in df:\n",
    "        q1 = df[x].quantile(0.25)\n",
    "        q3 = df[x].quantile(0.75)\n",
    "        iqr = q3-q1 #Interquartile range\n",
    "        fence_low  = q1-1.5*iqr\n",
    "        fence_high = q3+1.5*iqr\n",
    "        df_out = df.loc[(df[x] > fence_low) & (df[x] < fence_high)]\n",
    "    return df_out"
   ]
  },
  {
   "cell_type": "code",
   "execution_count": null,
   "metadata": {
    "ExecuteTime": {
     "end_time": "2022-03-31T19:52:15.725340Z",
     "start_time": "2022-03-31T19:52:08.848Z"
    }
   },
   "outputs": [],
   "source": [
    "remove_outlier(df_test)"
   ]
  },
  {
   "cell_type": "code",
   "execution_count": null,
   "metadata": {
    "ExecuteTime": {
     "end_time": "2022-03-31T19:52:15.726120Z",
     "start_time": "2022-03-31T19:52:08.849Z"
    }
   },
   "outputs": [],
   "source": [
    "df"
   ]
  }
 ],
 "metadata": {
  "kernelspec": {
   "display_name": "Python (learn-env)",
   "language": "python",
   "name": "learn-env"
  },
  "language_info": {
   "codemirror_mode": {
    "name": "ipython",
    "version": 3
   },
   "file_extension": ".py",
   "mimetype": "text/x-python",
   "name": "python",
   "nbconvert_exporter": "python",
   "pygments_lexer": "ipython3",
   "version": "3.8.5"
  },
  "toc": {
   "base_numbering": 1,
   "nav_menu": {},
   "number_sections": true,
   "sideBar": true,
   "skip_h1_title": false,
   "title_cell": "Table of Contents",
   "title_sidebar": "Contents",
   "toc_cell": false,
   "toc_position": {},
   "toc_section_display": true,
   "toc_window_display": false
  }
 },
 "nbformat": 4,
 "nbformat_minor": 4
}
