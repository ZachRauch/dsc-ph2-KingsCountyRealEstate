{
 "cells": [
  {
   "cell_type": "markdown",
   "metadata": {},
   "source": [
    "## Imports"
   ]
  },
  {
   "cell_type": "code",
   "execution_count": 1,
   "metadata": {
    "ExecuteTime": {
     "end_time": "2022-03-31T07:36:53.447511Z",
     "start_time": "2022-03-31T07:36:52.235210Z"
    }
   },
   "outputs": [],
   "source": [
    "import pandas as pd\n",
    "import numpy as np\n",
    "import seaborn as sns\n",
    "import warnings\n",
    "import matplotlib.pyplot as plt\n",
    "import math\n",
    "\n",
    "import statsmodels.api as sm\n",
    "from statsmodels.api import OLS\n",
    "\n",
    "# SKLearn stuff\n",
    "from sklearn.model_selection import train_test_split\n",
    "from sklearn.dummy import DummyRegressor\n",
    "from sklearn.pipeline import make_pipeline\n",
    "from sklearn.preprocessing import RobustScaler,\\\n",
    "    MinMaxScaler,\\\n",
    "    StandardScaler,\\\n",
    "    PolynomialFeatures,\\\n",
    "    OrdinalEncoder,\\\n",
    "    OneHotEncoder,\\\n",
    "    power_transform\n",
    "from sklearn.compose import ColumnTransformer\n",
    "from sklearn.linear_model import LinearRegression\n",
    "from sklearn.metrics import r2_score, mean_squared_error, mean_absolute_error\n",
    "\n",
    "\n",
    "from yellowbrick.regressor import ResidualsPlot\n",
    "\n",
    "warnings.filterwarnings('ignore')"
   ]
  },
  {
   "cell_type": "code",
   "execution_count": 2,
   "metadata": {
    "ExecuteTime": {
     "end_time": "2022-03-31T07:36:53.494522Z",
     "start_time": "2022-03-31T07:36:53.448512Z"
    },
    "scrolled": false
   },
   "outputs": [
    {
     "name": "stdout",
     "output_type": "stream",
     "text": [
      "<class 'pandas.core.frame.DataFrame'>\n",
      "RangeIndex: 21597 entries, 0 to 21596\n",
      "Data columns (total 21 columns):\n",
      " #   Column         Non-Null Count  Dtype  \n",
      "---  ------         --------------  -----  \n",
      " 0   id             21597 non-null  int64  \n",
      " 1   date           21597 non-null  object \n",
      " 2   price          21597 non-null  float64\n",
      " 3   bedrooms       21597 non-null  int64  \n",
      " 4   bathrooms      21597 non-null  float64\n",
      " 5   sqft_living    21597 non-null  int64  \n",
      " 6   sqft_lot       21597 non-null  int64  \n",
      " 7   floors         21597 non-null  float64\n",
      " 8   waterfront     19221 non-null  object \n",
      " 9   view           21534 non-null  object \n",
      " 10  condition      21597 non-null  object \n",
      " 11  grade          21597 non-null  object \n",
      " 12  sqft_above     21597 non-null  int64  \n",
      " 13  sqft_basement  21597 non-null  object \n",
      " 14  yr_built       21597 non-null  int64  \n",
      " 15  yr_renovated   17755 non-null  float64\n",
      " 16  zipcode        21597 non-null  int64  \n",
      " 17  lat            21597 non-null  float64\n",
      " 18  long           21597 non-null  float64\n",
      " 19  sqft_living15  21597 non-null  int64  \n",
      " 20  sqft_lot15     21597 non-null  int64  \n",
      "dtypes: float64(6), int64(9), object(6)\n",
      "memory usage: 3.5+ MB\n"
     ]
    }
   ],
   "source": [
    "df = pd.read_csv('data/kc_house_data.csv')\n",
    "\n",
    "# Header cleaning. More precautionary than anything else\n",
    "df.columns = [x.strip().lower().replace(' ', '').replace('-', '')\n",
    "              for x in df.columns]\n",
    "df.info()"
   ]
  },
  {
   "cell_type": "code",
   "execution_count": 3,
   "metadata": {
    "ExecuteTime": {
     "end_time": "2022-03-31T07:36:53.542533Z",
     "start_time": "2022-03-31T07:36:53.497522Z"
    },
    "scrolled": false
   },
   "outputs": [
    {
     "data": {
      "text/html": [
       "<div>\n",
       "<style scoped>\n",
       "    .dataframe tbody tr th:only-of-type {\n",
       "        vertical-align: middle;\n",
       "    }\n",
       "\n",
       "    .dataframe tbody tr th {\n",
       "        vertical-align: top;\n",
       "    }\n",
       "\n",
       "    .dataframe thead th {\n",
       "        text-align: right;\n",
       "    }\n",
       "</style>\n",
       "<table border=\"1\" class=\"dataframe\">\n",
       "  <thead>\n",
       "    <tr style=\"text-align: right;\">\n",
       "      <th></th>\n",
       "      <th>id</th>\n",
       "      <th>price</th>\n",
       "      <th>bedrooms</th>\n",
       "      <th>bathrooms</th>\n",
       "      <th>sqft_living</th>\n",
       "      <th>sqft_lot</th>\n",
       "      <th>floors</th>\n",
       "      <th>sqft_above</th>\n",
       "      <th>yr_built</th>\n",
       "      <th>yr_renovated</th>\n",
       "      <th>zipcode</th>\n",
       "      <th>lat</th>\n",
       "      <th>long</th>\n",
       "      <th>sqft_living15</th>\n",
       "      <th>sqft_lot15</th>\n",
       "    </tr>\n",
       "  </thead>\n",
       "  <tbody>\n",
       "    <tr>\n",
       "      <th>count</th>\n",
       "      <td>2.159700e+04</td>\n",
       "      <td>2.159700e+04</td>\n",
       "      <td>21597.000000</td>\n",
       "      <td>21597.000000</td>\n",
       "      <td>21597.000000</td>\n",
       "      <td>2.159700e+04</td>\n",
       "      <td>21597.000000</td>\n",
       "      <td>21597.000000</td>\n",
       "      <td>21597.000000</td>\n",
       "      <td>17755.000000</td>\n",
       "      <td>21597.000000</td>\n",
       "      <td>21597.000000</td>\n",
       "      <td>21597.000000</td>\n",
       "      <td>21597.000000</td>\n",
       "      <td>21597.000000</td>\n",
       "    </tr>\n",
       "    <tr>\n",
       "      <th>mean</th>\n",
       "      <td>4.580474e+09</td>\n",
       "      <td>5.402966e+05</td>\n",
       "      <td>3.373200</td>\n",
       "      <td>2.115826</td>\n",
       "      <td>2080.321850</td>\n",
       "      <td>1.509941e+04</td>\n",
       "      <td>1.494096</td>\n",
       "      <td>1788.596842</td>\n",
       "      <td>1970.999676</td>\n",
       "      <td>83.636778</td>\n",
       "      <td>98077.951845</td>\n",
       "      <td>47.560093</td>\n",
       "      <td>-122.213982</td>\n",
       "      <td>1986.620318</td>\n",
       "      <td>12758.283512</td>\n",
       "    </tr>\n",
       "    <tr>\n",
       "      <th>std</th>\n",
       "      <td>2.876736e+09</td>\n",
       "      <td>3.673681e+05</td>\n",
       "      <td>0.926299</td>\n",
       "      <td>0.768984</td>\n",
       "      <td>918.106125</td>\n",
       "      <td>4.141264e+04</td>\n",
       "      <td>0.539683</td>\n",
       "      <td>827.759761</td>\n",
       "      <td>29.375234</td>\n",
       "      <td>399.946414</td>\n",
       "      <td>53.513072</td>\n",
       "      <td>0.138552</td>\n",
       "      <td>0.140724</td>\n",
       "      <td>685.230472</td>\n",
       "      <td>27274.441950</td>\n",
       "    </tr>\n",
       "    <tr>\n",
       "      <th>min</th>\n",
       "      <td>1.000102e+06</td>\n",
       "      <td>7.800000e+04</td>\n",
       "      <td>1.000000</td>\n",
       "      <td>0.500000</td>\n",
       "      <td>370.000000</td>\n",
       "      <td>5.200000e+02</td>\n",
       "      <td>1.000000</td>\n",
       "      <td>370.000000</td>\n",
       "      <td>1900.000000</td>\n",
       "      <td>0.000000</td>\n",
       "      <td>98001.000000</td>\n",
       "      <td>47.155900</td>\n",
       "      <td>-122.519000</td>\n",
       "      <td>399.000000</td>\n",
       "      <td>651.000000</td>\n",
       "    </tr>\n",
       "    <tr>\n",
       "      <th>25%</th>\n",
       "      <td>2.123049e+09</td>\n",
       "      <td>3.220000e+05</td>\n",
       "      <td>3.000000</td>\n",
       "      <td>1.750000</td>\n",
       "      <td>1430.000000</td>\n",
       "      <td>5.040000e+03</td>\n",
       "      <td>1.000000</td>\n",
       "      <td>1190.000000</td>\n",
       "      <td>1951.000000</td>\n",
       "      <td>0.000000</td>\n",
       "      <td>98033.000000</td>\n",
       "      <td>47.471100</td>\n",
       "      <td>-122.328000</td>\n",
       "      <td>1490.000000</td>\n",
       "      <td>5100.000000</td>\n",
       "    </tr>\n",
       "    <tr>\n",
       "      <th>50%</th>\n",
       "      <td>3.904930e+09</td>\n",
       "      <td>4.500000e+05</td>\n",
       "      <td>3.000000</td>\n",
       "      <td>2.250000</td>\n",
       "      <td>1910.000000</td>\n",
       "      <td>7.618000e+03</td>\n",
       "      <td>1.500000</td>\n",
       "      <td>1560.000000</td>\n",
       "      <td>1975.000000</td>\n",
       "      <td>0.000000</td>\n",
       "      <td>98065.000000</td>\n",
       "      <td>47.571800</td>\n",
       "      <td>-122.231000</td>\n",
       "      <td>1840.000000</td>\n",
       "      <td>7620.000000</td>\n",
       "    </tr>\n",
       "    <tr>\n",
       "      <th>75%</th>\n",
       "      <td>7.308900e+09</td>\n",
       "      <td>6.450000e+05</td>\n",
       "      <td>4.000000</td>\n",
       "      <td>2.500000</td>\n",
       "      <td>2550.000000</td>\n",
       "      <td>1.068500e+04</td>\n",
       "      <td>2.000000</td>\n",
       "      <td>2210.000000</td>\n",
       "      <td>1997.000000</td>\n",
       "      <td>0.000000</td>\n",
       "      <td>98118.000000</td>\n",
       "      <td>47.678000</td>\n",
       "      <td>-122.125000</td>\n",
       "      <td>2360.000000</td>\n",
       "      <td>10083.000000</td>\n",
       "    </tr>\n",
       "    <tr>\n",
       "      <th>max</th>\n",
       "      <td>9.900000e+09</td>\n",
       "      <td>7.700000e+06</td>\n",
       "      <td>33.000000</td>\n",
       "      <td>8.000000</td>\n",
       "      <td>13540.000000</td>\n",
       "      <td>1.651359e+06</td>\n",
       "      <td>3.500000</td>\n",
       "      <td>9410.000000</td>\n",
       "      <td>2015.000000</td>\n",
       "      <td>2015.000000</td>\n",
       "      <td>98199.000000</td>\n",
       "      <td>47.777600</td>\n",
       "      <td>-121.315000</td>\n",
       "      <td>6210.000000</td>\n",
       "      <td>871200.000000</td>\n",
       "    </tr>\n",
       "  </tbody>\n",
       "</table>\n",
       "</div>"
      ],
      "text/plain": [
       "                 id         price      bedrooms     bathrooms   sqft_living  \\\n",
       "count  2.159700e+04  2.159700e+04  21597.000000  21597.000000  21597.000000   \n",
       "mean   4.580474e+09  5.402966e+05      3.373200      2.115826   2080.321850   \n",
       "std    2.876736e+09  3.673681e+05      0.926299      0.768984    918.106125   \n",
       "min    1.000102e+06  7.800000e+04      1.000000      0.500000    370.000000   \n",
       "25%    2.123049e+09  3.220000e+05      3.000000      1.750000   1430.000000   \n",
       "50%    3.904930e+09  4.500000e+05      3.000000      2.250000   1910.000000   \n",
       "75%    7.308900e+09  6.450000e+05      4.000000      2.500000   2550.000000   \n",
       "max    9.900000e+09  7.700000e+06     33.000000      8.000000  13540.000000   \n",
       "\n",
       "           sqft_lot        floors    sqft_above      yr_built  yr_renovated  \\\n",
       "count  2.159700e+04  21597.000000  21597.000000  21597.000000  17755.000000   \n",
       "mean   1.509941e+04      1.494096   1788.596842   1970.999676     83.636778   \n",
       "std    4.141264e+04      0.539683    827.759761     29.375234    399.946414   \n",
       "min    5.200000e+02      1.000000    370.000000   1900.000000      0.000000   \n",
       "25%    5.040000e+03      1.000000   1190.000000   1951.000000      0.000000   \n",
       "50%    7.618000e+03      1.500000   1560.000000   1975.000000      0.000000   \n",
       "75%    1.068500e+04      2.000000   2210.000000   1997.000000      0.000000   \n",
       "max    1.651359e+06      3.500000   9410.000000   2015.000000   2015.000000   \n",
       "\n",
       "            zipcode           lat          long  sqft_living15     sqft_lot15  \n",
       "count  21597.000000  21597.000000  21597.000000   21597.000000   21597.000000  \n",
       "mean   98077.951845     47.560093   -122.213982    1986.620318   12758.283512  \n",
       "std       53.513072      0.138552      0.140724     685.230472   27274.441950  \n",
       "min    98001.000000     47.155900   -122.519000     399.000000     651.000000  \n",
       "25%    98033.000000     47.471100   -122.328000    1490.000000    5100.000000  \n",
       "50%    98065.000000     47.571800   -122.231000    1840.000000    7620.000000  \n",
       "75%    98118.000000     47.678000   -122.125000    2360.000000   10083.000000  \n",
       "max    98199.000000     47.777600   -121.315000    6210.000000  871200.000000  "
      ]
     },
     "execution_count": 3,
     "metadata": {},
     "output_type": "execute_result"
    }
   ],
   "source": [
    "df.describe()"
   ]
  },
  {
   "cell_type": "markdown",
   "metadata": {},
   "source": [
    "## Remove outliers"
   ]
  },
  {
   "cell_type": "code",
   "execution_count": 4,
   "metadata": {
    "ExecuteTime": {
     "end_time": "2022-03-31T07:36:53.702569Z",
     "start_time": "2022-03-31T07:36:53.543533Z"
    },
    "scrolled": true
   },
   "outputs": [
    {
     "data": {
      "text/plain": [
       "{'whiskers': [<matplotlib.lines.Line2D at 0x20360d09100>,\n",
       "  <matplotlib.lines.Line2D at 0x20360d09460>],\n",
       " 'caps': [<matplotlib.lines.Line2D at 0x20360d097c0>,\n",
       "  <matplotlib.lines.Line2D at 0x20360d09b20>],\n",
       " 'boxes': [<matplotlib.lines.Line2D at 0x20360cf1d60>],\n",
       " 'medians': [<matplotlib.lines.Line2D at 0x20360d09e80>],\n",
       " 'fliers': [<matplotlib.lines.Line2D at 0x20360d11220>],\n",
       " 'means': []}"
      ]
     },
     "execution_count": 4,
     "metadata": {},
     "output_type": "execute_result"
    },
    {
     "data": {
      "image/png": "[encoded data removed]",
      "text/plain": [
       "<Figure size 576x396 with 1 Axes>"
      ]
     },
     "metadata": {},
     "output_type": "display_data"
    }
   ],
   "source": [
    "plt.boxplot(df.price)"
   ]
  },
  {
   "cell_type": "code",
   "execution_count": 5,
   "metadata": {
    "ExecuteTime": {
     "end_time": "2022-03-31T07:36:53.717572Z",
     "start_time": "2022-03-31T07:36:53.703569Z"
    }
   },
   "outputs": [],
   "source": [
    "# Zach's code\n",
    "price_q75, price_q25 = np.percentile(df['price'],[75,25])\n",
    "intr_qrt = price_q75-price_q25\n",
    "upper_price = price_q75 + (1.5*intr_qrt)\n",
    "lower_price = price_q25 - (1.5*intr_qrt)\n",
    "lower_price, upper_price\n",
    "df = df[df['price'] <= upper_price]\n",
    "df = df[df['price'] >= lower_price]"
   ]
  },
  {
   "cell_type": "code",
   "execution_count": 6,
   "metadata": {
    "ExecuteTime": {
     "end_time": "2022-03-31T07:36:53.733576Z",
     "start_time": "2022-03-31T07:36:53.719574Z"
    },
    "scrolled": true
   },
   "outputs": [],
   "source": [
    "# Removing outliers\n",
    "df = df[df['bedrooms'] <=15] #2 records remove. 33 BR home\n",
    "df = df[df['grade'] != '3 Poor'] #only 1 instance of this exists\n"
   ]
  },
  {
   "cell_type": "code",
   "execution_count": 7,
   "metadata": {
    "ExecuteTime": {
     "end_time": "2022-03-31T07:36:53.749579Z",
     "start_time": "2022-03-31T07:36:53.734576Z"
    }
   },
   "outputs": [
    {
     "data": {
      "text/plain": [
       "58"
      ]
     },
     "execution_count": 7,
     "metadata": {},
     "output_type": "execute_result"
    }
   ],
   "source": [
    "df.view.isna().sum()"
   ]
  },
  {
   "cell_type": "markdown",
   "metadata": {},
   "source": [
    "## Data Cleaning"
   ]
  },
  {
   "cell_type": "code",
   "execution_count": 8,
   "metadata": {
    "ExecuteTime": {
     "end_time": "2022-03-31T07:36:53.764582Z",
     "start_time": "2022-03-31T07:36:53.750580Z"
    },
    "scrolled": true
   },
   "outputs": [
    {
     "data": {
      "text/plain": [
       "0        3\n",
       "1        3\n",
       "2        2\n",
       "3        4\n",
       "4        3\n",
       "        ..\n",
       "21592    3\n",
       "21593    4\n",
       "21594    2\n",
       "21595    3\n",
       "21596    2\n",
       "Name: bedrooms, Length: 20437, dtype: int64"
      ]
     },
     "execution_count": 8,
     "metadata": {},
     "output_type": "execute_result"
    }
   ],
   "source": [
    "df.bedrooms"
   ]
  },
  {
   "cell_type": "code",
   "execution_count": 9,
   "metadata": {
    "ExecuteTime": {
     "end_time": "2022-03-31T07:36:53.780586Z",
     "start_time": "2022-03-31T07:36:53.768583Z"
    }
   },
   "outputs": [],
   "source": [
    "# Making a categorical bedroom columns\n",
    "df['bedrooms_bin'] = pd.cut(df['bedrooms'], \n",
    "                            bins=[0, 1, 2, 3, 4, 5, 6, 99], \n",
    "                            labels=['1BR', '2BR', '3BR', '4BR', '5BR', '6BR', '7+BR'])"
   ]
  },
  {
   "cell_type": "code",
   "execution_count": 10,
   "metadata": {
    "ExecuteTime": {
     "end_time": "2022-03-31T07:36:53.796590Z",
     "start_time": "2022-03-31T07:36:53.781587Z"
    },
    "scrolled": true
   },
   "outputs": [
    {
     "data": {
      "text/plain": [
       "0        3BR\n",
       "1        3BR\n",
       "2        2BR\n",
       "3        4BR\n",
       "4        3BR\n",
       "        ... \n",
       "21592    3BR\n",
       "21593    4BR\n",
       "21594    2BR\n",
       "21595    3BR\n",
       "21596    2BR\n",
       "Name: bedrooms_bin, Length: 20437, dtype: category\n",
       "Categories (7, object): ['1BR' < '2BR' < '3BR' < '4BR' < '5BR' < '6BR' < '7+BR']"
      ]
     },
     "execution_count": 10,
     "metadata": {},
     "output_type": "execute_result"
    }
   ],
   "source": [
    "df['bedrooms_bin']"
   ]
  },
  {
   "cell_type": "code",
   "execution_count": 11,
   "metadata": {
    "ExecuteTime": {
     "end_time": "2022-03-31T07:36:53.812594Z",
     "start_time": "2022-03-31T07:36:53.797591Z"
    }
   },
   "outputs": [
    {
     "data": {
      "text/plain": [
       "3BR     9597\n",
       "4BR     6304\n",
       "2BR     2736\n",
       "5BR     1335\n",
       "6BR      225\n",
       "1BR      194\n",
       "7+BR      46\n",
       "Name: bedrooms_bin, dtype: int64"
      ]
     },
     "execution_count": 11,
     "metadata": {},
     "output_type": "execute_result"
    }
   ],
   "source": [
    "df.bedrooms_bin.value_counts()"
   ]
  },
  {
   "cell_type": "code",
   "execution_count": 12,
   "metadata": {
    "ExecuteTime": {
     "end_time": "2022-03-31T07:36:54.004637Z",
     "start_time": "2022-03-31T07:36:53.813594Z"
    },
    "scrolled": false
   },
   "outputs": [
    {
     "data": {
      "image/png": "[encoded data removed]",
      "text/plain": [
       "<Figure size 720x576 with 1 Axes>"
      ]
     },
     "metadata": {},
     "output_type": "display_data"
    }
   ],
   "source": [
    "plt.figure(figsize = (10,8))\n",
    "plt.hist(df.bedrooms_bin.sort_values(),bins = 7);"
   ]
  },
  {
   "cell_type": "markdown",
   "metadata": {},
   "source": [
    "sqft_basement is an object?"
   ]
  },
  {
   "cell_type": "code",
   "execution_count": 13,
   "metadata": {
    "ExecuteTime": {
     "end_time": "2022-03-31T07:36:54.020641Z",
     "start_time": "2022-03-31T07:36:54.005638Z"
    },
    "scrolled": false
   },
   "outputs": [
    {
     "data": {
      "text/plain": [
       "0        0.0\n",
       "12682    0.0\n",
       "12685    0.0\n",
       "12686    0.0\n",
       "12687    0.0\n",
       "        ... \n",
       "1205       ?\n",
       "9715       ?\n",
       "12933      ?\n",
       "19777      ?\n",
       "4171       ?\n",
       "Name: sqft_basement, Length: 20437, dtype: object"
      ]
     },
     "execution_count": 13,
     "metadata": {},
     "output_type": "execute_result"
    }
   ],
   "source": [
    "df.sqft_basement.sort_values()"
   ]
  },
  {
   "cell_type": "markdown",
   "metadata": {
    "ExecuteTime": {
     "end_time": "2022-03-29T00:09:18.368318Z",
     "start_time": "2022-03-29T00:09:18.351315Z"
    }
   },
   "source": [
    "sqft_basement is a list of strings that include some unknowns marked as '?'"
   ]
  },
  {
   "cell_type": "code",
   "execution_count": 14,
   "metadata": {
    "ExecuteTime": {
     "end_time": "2022-03-31T07:36:54.036644Z",
     "start_time": "2022-03-31T07:36:54.021641Z"
    },
    "scrolled": true
   },
   "outputs": [
    {
     "data": {
      "text/plain": [
       "0.02113813181973871"
      ]
     },
     "execution_count": 14,
     "metadata": {},
     "output_type": "execute_result"
    }
   ],
   "source": [
    "len(df[df.sqft_basement=='?']) /len(df)"
   ]
  },
  {
   "cell_type": "code",
   "execution_count": 15,
   "metadata": {
    "ExecuteTime": {
     "end_time": "2022-03-31T07:36:54.052648Z",
     "start_time": "2022-03-31T07:36:54.037645Z"
    }
   },
   "outputs": [],
   "source": [
    "df_subset_basement = df[df.sqft_basement !='?'] #subset of  records where sqft_basement is not '?'\n",
    "df_subset_basement.sqft_basement = df_subset_basement.sqft_basement.astype(float)"
   ]
  },
  {
   "cell_type": "code",
   "execution_count": 16,
   "metadata": {
    "ExecuteTime": {
     "end_time": "2022-03-31T07:36:54.067651Z",
     "start_time": "2022-03-31T07:36:54.053648Z"
    }
   },
   "outputs": [
    {
     "data": {
      "text/plain": [
       "1.0"
      ]
     },
     "execution_count": 16,
     "metadata": {},
     "output_type": "execute_result"
    }
   ],
   "source": [
    "# check to see how much of the current sqft_basement (excluding '?') can be explained by (sqft_living-sqft_above)\n",
    "living=df_subset_basement.sqft_living\n",
    "above=df_subset_basement.sqft_above\n",
    "basement = df_subset_basement.sqft_basement\n",
    "(living-above == basement).sum() /basement.shape[0]"
   ]
  },
  {
   "cell_type": "markdown",
   "metadata": {},
   "source": [
    "So, 98% of the sqft_basement data has a value in it which can be explained using this math. The remaining missing data is filled with '?'. Fill using this math"
   ]
  },
  {
   "cell_type": "code",
   "execution_count": 17,
   "metadata": {
    "ExecuteTime": {
     "end_time": "2022-03-31T07:36:54.083655Z",
     "start_time": "2022-03-31T07:36:54.068652Z"
    }
   },
   "outputs": [],
   "source": [
    "df['sqft_basement'] = df['sqft_living'] - df['sqft_above']"
   ]
  },
  {
   "cell_type": "code",
   "execution_count": 18,
   "metadata": {
    "ExecuteTime": {
     "end_time": "2022-03-31T07:36:54.099658Z",
     "start_time": "2022-03-31T07:36:54.084656Z"
    }
   },
   "outputs": [],
   "source": [
    "#OBSOLETE. Using OneHot Encoding to map these\n",
    "\n",
    "# # Change view rating to a numeric value. Probably don't need it\n",
    "# df['view'] = df['view'].map({'EXCELLENT':5,\n",
    "#                              'GOOD':4,\n",
    "#                              'AVERAGE':3,\n",
    "#                              'FAIR':2,\n",
    "#                              'NONE':1})\n",
    "\n",
    "# # Change condition rating to a numeric value. Probably don't need it\n",
    "# df['condition'] = df['condition'].map({'Very Good':5,\n",
    "#                                        'Good':4,\n",
    "#                                        'Average':3,\n",
    "#                                        'Fair':2,\n",
    "#                                        'Poor':1})\n",
    "\n",
    "# # Changing grade to just the numeric value of the grade\n",
    "# df['grade'] = df['grade'].str.split(' ').str[0].astype(int)"
   ]
  },
  {
   "cell_type": "code",
   "execution_count": 19,
   "metadata": {
    "ExecuteTime": {
     "end_time": "2022-03-31T07:36:54.179677Z",
     "start_time": "2022-03-31T07:36:54.100659Z"
    },
    "scrolled": false
   },
   "outputs": [
    {
     "name": "stdout",
     "output_type": "stream",
     "text": [
      "<class 'pandas.core.frame.DataFrame'>\n",
      "Int64Index: 20437 entries, 0 to 21596\n",
      "Data columns (total 22 columns):\n",
      " #   Column         Non-Null Count  Dtype   \n",
      "---  ------         --------------  -----   \n",
      " 0   id             20437 non-null  int64   \n",
      " 1   date           20437 non-null  object  \n",
      " 2   price          20437 non-null  float64 \n",
      " 3   bedrooms       20437 non-null  int64   \n",
      " 4   bathrooms      20437 non-null  float64 \n",
      " 5   sqft_living    20437 non-null  int64   \n",
      " 6   sqft_lot       20437 non-null  int64   \n",
      " 7   floors         20437 non-null  float64 \n",
      " 8   waterfront     18168 non-null  object  \n",
      " 9   view           20379 non-null  object  \n",
      " 10  condition      20437 non-null  object  \n",
      " 11  grade          20437 non-null  object  \n",
      " 12  sqft_above     20437 non-null  int64   \n",
      " 13  sqft_basement  20437 non-null  int64   \n",
      " 14  yr_built       20437 non-null  int64   \n",
      " 15  yr_renovated   16810 non-null  float64 \n",
      " 16  zipcode        20437 non-null  int64   \n",
      " 17  lat            20437 non-null  float64 \n",
      " 18  long           20437 non-null  float64 \n",
      " 19  sqft_living15  20437 non-null  int64   \n",
      " 20  sqft_lot15     20437 non-null  int64   \n",
      " 21  bedrooms_bin   20437 non-null  category\n",
      "dtypes: category(1), float64(6), int64(10), object(5)\n",
      "memory usage: 3.5+ MB\n"
     ]
    }
   ],
   "source": [
    "df.info()"
   ]
  },
  {
   "cell_type": "code",
   "execution_count": 20,
   "metadata": {
    "ExecuteTime": {
     "end_time": "2022-03-31T07:36:54.195680Z",
     "start_time": "2022-03-31T07:36:54.180677Z"
    }
   },
   "outputs": [
    {
     "name": "stdout",
     "output_type": "stream",
     "text": [
      "0.002837989920242697\n"
     ]
    }
   ],
   "source": [
    "#The number of records where view is nan is 0.29% of the dataset. Hence dropped\n",
    "print(df.view.isna().sum() /df.shape[0])\n",
    "df.dropna(subset=['view'],inplace=True)"
   ]
  },
  {
   "cell_type": "markdown",
   "metadata": {},
   "source": [
    "## Analyzing Corelations"
   ]
  },
  {
   "cell_type": "code",
   "execution_count": 21,
   "metadata": {
    "ExecuteTime": {
     "end_time": "2022-03-31T07:36:54.211683Z",
     "start_time": "2022-03-31T07:36:54.198681Z"
    },
    "scrolled": false
   },
   "outputs": [
    {
     "data": {
      "text/plain": [
       "zipcode         -0.018555\n",
       "id               0.010250\n",
       "yr_built         0.061387\n",
       "long             0.072725\n",
       "sqft_lot15       0.082488\n",
       "yr_renovated     0.089741\n",
       "sqft_lot         0.093572\n",
       "sqft_basement    0.233010\n",
       "floors           0.273611\n",
       "bedrooms         0.300831\n",
       "lat              0.431021\n",
       "bathrooms        0.455204\n",
       "sqft_above       0.530569\n",
       "sqft_living15    0.561947\n",
       "sqft_living      0.621509\n",
       "price            1.000000\n",
       "Name: price, dtype: float64"
      ]
     },
     "execution_count": 21,
     "metadata": {},
     "output_type": "execute_result"
    }
   ],
   "source": [
    "df.corr().price.sort_values()"
   ]
  },
  {
   "cell_type": "markdown",
   "metadata": {
    "ExecuteTime": {
     "end_time": "2022-03-29T06:00:45.088970Z",
     "start_time": "2022-03-29T06:00:43.843600Z"
    }
   },
   "source": [
    "dropping yr_renovated . not enough records\n",
    "\n",
    "dropping id, yr_built, floors, date, sqft_lot, sqft_lot15. Not enough correlation. Making predictions based on other columns\n",
    "\n",
    "stakeholder: potential investor, homebuyer\n",
    "\n",
    "keeping zipcode, lat, long for the purpose of potential visualizations"
   ]
  },
  {
   "cell_type": "code",
   "execution_count": 22,
   "metadata": {
    "ExecuteTime": {
     "end_time": "2022-03-31T07:36:54.227687Z",
     "start_time": "2022-03-31T07:36:54.213684Z"
    }
   },
   "outputs": [],
   "source": [
    "df = df.drop(columns = ['id','yr_renovated','floors','date'],axis =1)"
   ]
  },
  {
   "cell_type": "code",
   "execution_count": 23,
   "metadata": {
    "ExecuteTime": {
     "end_time": "2022-03-31T07:36:55.509977Z",
     "start_time": "2022-03-31T07:36:54.228688Z"
    },
    "scrolled": false
   },
   "outputs": [
    {
     "data": {
      "image/png": "[encoded data removed]",
      "text/plain": [
       "<Figure size 720x576 with 2 Axes>"
      ]
     },
     "metadata": {},
     "output_type": "display_data"
    }
   ],
   "source": [
    "# sns.heatmap(df.corr(),annot=True)\n",
    "with sns.axes_style(\"darkgrid\"):\n",
    "    f, ax = plt.subplots(figsize=(10, 8))\n",
    "    \n",
    "    mask = np.triu(np.ones_like(df.corr(), dtype=bool))\n",
    "    ax = sns.heatmap(abs(df.corr()),mask=mask,annot=True)\n",
    "    f.savefig('../../images/Corelation Heatmap',bbox_inches=\"tight\")"
   ]
  },
  {
   "cell_type": "markdown",
   "metadata": {},
   "source": [
    "Note the corelation between\n",
    "- sqft_living and sqft_above (because sqft_living = sqft_above + sqft_basement). In fact a lot of the sqft are highly corelated\n",
    "    - try feature engineering between them, or just pick 1 or 2\n",
    "- grade to sqft_living15, sqft_above\n",
    "- bathrooms to grade\n",
    "- grade and sqft_living has highest impact on target (price)"
   ]
  },
  {
   "cell_type": "code",
   "execution_count": 24,
   "metadata": {
    "ExecuteTime": {
     "end_time": "2022-03-31T07:36:55.525980Z",
     "start_time": "2022-03-31T07:36:55.510977Z"
    }
   },
   "outputs": [
    {
     "name": "stdout",
     "output_type": "stream",
     "text": [
      "<class 'pandas.core.frame.DataFrame'>\n",
      "Int64Index: 20379 entries, 0 to 21596\n",
      "Data columns (total 18 columns):\n",
      " #   Column         Non-Null Count  Dtype   \n",
      "---  ------         --------------  -----   \n",
      " 0   price          20379 non-null  float64 \n",
      " 1   bedrooms       20379 non-null  int64   \n",
      " 2   bathrooms      20379 non-null  float64 \n",
      " 3   sqft_living    20379 non-null  int64   \n",
      " 4   sqft_lot       20379 non-null  int64   \n",
      " 5   waterfront     18115 non-null  object  \n",
      " 6   view           20379 non-null  object  \n",
      " 7   condition      20379 non-null  object  \n",
      " 8   grade          20379 non-null  object  \n",
      " 9   sqft_above     20379 non-null  int64   \n",
      " 10  sqft_basement  20379 non-null  int64   \n",
      " 11  yr_built       20379 non-null  int64   \n",
      " 12  zipcode        20379 non-null  int64   \n",
      " 13  lat            20379 non-null  float64 \n",
      " 14  long           20379 non-null  float64 \n",
      " 15  sqft_living15  20379 non-null  int64   \n",
      " 16  sqft_lot15     20379 non-null  int64   \n",
      " 17  bedrooms_bin   20379 non-null  category\n",
      "dtypes: category(1), float64(4), int64(9), object(4)\n",
      "memory usage: 2.8+ MB\n"
     ]
    }
   ],
   "source": [
    "df.info()"
   ]
  },
  {
   "cell_type": "code",
   "execution_count": 25,
   "metadata": {
    "ExecuteTime": {
     "end_time": "2022-03-31T07:36:55.541987Z",
     "start_time": "2022-03-31T07:36:55.526981Z"
    },
    "scrolled": false
   },
   "outputs": [
    {
     "data": {
      "text/plain": [
       "price               0\n",
       "bedrooms            0\n",
       "bathrooms           0\n",
       "sqft_living         0\n",
       "sqft_lot            0\n",
       "waterfront       2264\n",
       "view                0\n",
       "condition           0\n",
       "grade               0\n",
       "sqft_above          0\n",
       "sqft_basement       0\n",
       "yr_built            0\n",
       "zipcode             0\n",
       "lat                 0\n",
       "long                0\n",
       "sqft_living15       0\n",
       "sqft_lot15          0\n",
       "bedrooms_bin        0\n",
       "dtype: int64"
      ]
     },
     "execution_count": 25,
     "metadata": {},
     "output_type": "execute_result"
    }
   ],
   "source": [
    "df.isna().sum()"
   ]
  },
  {
   "cell_type": "code",
   "execution_count": 26,
   "metadata": {
    "ExecuteTime": {
     "end_time": "2022-03-31T07:36:55.556990Z",
     "start_time": "2022-03-31T07:36:55.542988Z"
    }
   },
   "outputs": [
    {
     "data": {
      "text/plain": [
       "0.11109475440404337"
      ]
     },
     "execution_count": 26,
     "metadata": {},
     "output_type": "execute_result"
    }
   ],
   "source": [
    "df.waterfront.isna().sum() / len(df)"
   ]
  },
  {
   "cell_type": "markdown",
   "metadata": {},
   "source": [
    "We'll have to keep an eye on the waterfront. Maybe drop the values? ~11% of data. Fill with 'NO'"
   ]
  },
  {
   "cell_type": "code",
   "execution_count": 27,
   "metadata": {
    "ExecuteTime": {
     "end_time": "2022-03-31T07:36:55.573000Z",
     "start_time": "2022-03-31T07:36:55.557991Z"
    }
   },
   "outputs": [],
   "source": [
    "df.waterfront = df.waterfront.fillna('NO')"
   ]
  },
  {
   "cell_type": "code",
   "execution_count": 28,
   "metadata": {
    "ExecuteTime": {
     "end_time": "2022-03-31T07:36:55.589004Z",
     "start_time": "2022-03-31T07:36:55.574001Z"
    }
   },
   "outputs": [
    {
     "data": {
      "text/plain": [
       "price            0\n",
       "bedrooms         0\n",
       "bathrooms        0\n",
       "sqft_living      0\n",
       "sqft_lot         0\n",
       "waterfront       0\n",
       "view             0\n",
       "condition        0\n",
       "grade            0\n",
       "sqft_above       0\n",
       "sqft_basement    0\n",
       "yr_built         0\n",
       "zipcode          0\n",
       "lat              0\n",
       "long             0\n",
       "sqft_living15    0\n",
       "sqft_lot15       0\n",
       "bedrooms_bin     0\n",
       "dtype: int64"
      ]
     },
     "execution_count": 28,
     "metadata": {},
     "output_type": "execute_result"
    }
   ],
   "source": [
    "df.isna().sum()"
   ]
  },
  {
   "cell_type": "markdown",
   "metadata": {
    "ExecuteTime": {
     "end_time": "2022-03-30T12:37:24.159699Z",
     "start_time": "2022-03-30T12:37:24.145717Z"
    }
   },
   "source": [
    "## Helper Functions"
   ]
  },
  {
   "cell_type": "code",
   "execution_count": 29,
   "metadata": {
    "ExecuteTime": {
     "end_time": "2022-03-31T07:36:55.605008Z",
     "start_time": "2022-03-31T07:36:55.591005Z"
    }
   },
   "outputs": [],
   "source": [
    "def OHE_scale_lr(X_train, y_train,\n",
    "                 X_test, y_test,\n",
    "\n",
    "                 num_col,\n",
    "                 cat_col=[]\n",
    "                 ):\n",
    "    \"\"\"\n",
    "    Creates a pipeline to perform a \n",
    "    - One-Hot-Encoding (OHE)\n",
    "    - Standard Scaling\n",
    "    - Linear Regression\n",
    "\n",
    "    cat_col = list of categorical column names to process with OHE. default empty list\n",
    "    num_col = list of numerical column names\n",
    "\n",
    "    Function applid post train-test split\n",
    "    \"\"\"\n",
    "    if not (cat_col or num_col):\n",
    "        print(\"no columns provided to perform operations\")\n",
    "        return None\n",
    "\n",
    "    # List Comp to get subset of columns\n",
    "    list_cols = [col \n",
    "                 for sublist_cols in [num_col, cat_col]\n",
    "                 for col in sublist_cols]\n",
    "    print('Categorical columns:', cat_col, '\\nNumerical Columns: ', num_col)\n",
    "\n",
    "    # Create subsets of train and test sets\n",
    "    X_train_subset = X_train[list_cols]\n",
    "    X_test_subset = X_test[list_cols]\n",
    "\n",
    "    encoder = OneHotEncoder(handle_unknown='error',\n",
    "                            drop='first',\n",
    "                            categories='auto')\n",
    "\n",
    "    scaler = MinMaxScaler(feature_range=(0, 1))\n",
    "\n",
    "    preprocessor = ColumnTransformer(transformers=[(\"num\", scaler, num_col),\n",
    "                                                   (\"cat\", encoder, cat_col)],\n",
    "                                     remainder='passthrough'\n",
    "                                     )\n",
    "\n",
    "    preprocessor.fit(X_train_subset)\n",
    "    try:\n",
    "        X_train_enc_arr = preprocessor.transform(X_train_subset).todense()\n",
    "    except:\n",
    "        X_train_enc_arr = preprocessor.transform(X_train_subset)\n",
    "    \n",
    "    try:\n",
    "        X_test_enc_arr = preprocessor.transform(X_test_subset).todense()\n",
    "    except:\n",
    "        X_test_enc_arr = preprocessor.transform(X_test_subset)\n",
    "\n",
    "        \n",
    "    X_train_enc_scaled = pd.DataFrame(X_train_enc_arr, \n",
    "                                      columns = preprocessor.get_feature_names_out(),\n",
    "                                      index = X_train_subset.index\n",
    "                                     )\n",
    "    X_test_enc_scaled = pd.DataFrame(X_test_enc_arr, \n",
    "                                      columns = preprocessor.get_feature_names_out(),\n",
    "                                      index = X_test_subset.index\n",
    "                                     )\n",
    "\n",
    "        \n",
    "        \n",
    "    pipe = make_pipeline(preprocessor, LinearRegression())\n",
    "    pipe.fit(X_train_subset, y_train)\n",
    "\n",
    "    train_preds = pipe.predict(X_train_subset)\n",
    "    test_preds = pipe.predict(X_test_subset)\n",
    "\n",
    "    print(\"Training Score:\", pipe.score(X_train_subset, y_train))\n",
    "    print(\"Test Score:\", pipe.score(X_test_subset, y_test))\n",
    "    \n",
    "    get_train_test_metrics(y_train, train_preds, y_test, test_preds)\n",
    "\n",
    "    return X_train_enc_scaled, X_test_enc_scaled, train_preds, test_preds"
   ]
  },
  {
   "cell_type": "code",
   "execution_count": 30,
   "metadata": {
    "ExecuteTime": {
     "end_time": "2022-03-31T07:36:55.621012Z",
     "start_time": "2022-03-31T07:36:55.607008Z"
    }
   },
   "outputs": [],
   "source": [
    "#OBSOLETE. combined into func above\n",
    "\n",
    "# def OHEColXFER(cat_col,X_train_subset, X_test_subset):\n",
    "#     \"\"\"\n",
    "#     In place column transformation using One Hot Encoding \n",
    "#     \"\"\" \n",
    "    \n",
    "#     #Instantiate Encoder\n",
    "#     encoder = OneHotEncoder(handle_unknown='error',\n",
    "#                             drop='first',\n",
    "#                             categories='auto')\n",
    "    \n",
    "#     #Instantiate Column Transformer\n",
    "#     ct = ColumnTransformer(transformers=[('ohe', encoder, cat_col)],\n",
    "#                            remainder='passthrough')\n",
    "\n",
    "#     #Fit Column Transformer\n",
    "#     ct.fit(X_train_subset)\n",
    "\n",
    "#     #Get your encoded Training and Test sets. Sometimes need to force todens(0) depending upon size of output\n",
    "#     try:\n",
    "#         X_train_enc = ct.transform(X_train_subset).todense()\n",
    "#     except:\n",
    "#         X_train_enc = ct.transform(X_train_subset)\n",
    "    \n",
    "#     try:\n",
    "#         X_test_enc = ct.transform(X_test_subset).todense()\n",
    "#     except:\n",
    "#         X_test_enc = ct.transform(X_test_subset)\n",
    "    \n",
    "#     # Get a nice dataframe\n",
    "#     X_train_enc = pd.DataFrame(X_train_enc, columns=ct.get_feature_names())\n",
    "#     X_test_enc = pd.DataFrame(X_test_enc, columns=ct.get_feature_names())\n",
    "    "
   ]
  },
  {
   "cell_type": "code",
   "execution_count": 31,
   "metadata": {
    "ExecuteTime": {
     "end_time": "2022-03-31T07:36:55.637015Z",
     "start_time": "2022-03-31T07:36:55.622012Z"
    }
   },
   "outputs": [],
   "source": [
    "def get_train_test_metrics(y_train,train_preds,\n",
    "               y_test,test_preds\n",
    "              ):\n",
    "    \"\"\"\n",
    "    Prints different training and testing metrics, namely R2, MAE, MSE, RMSE\n",
    "    \"\"\"\n",
    "    print(\"\\nTraining Metrics:\")\n",
    "    # R2\n",
    "    print(f\"R2: {r2_score(y_train, train_preds):.3f}\")\n",
    "    # MAE\n",
    "    print(f\"Mean Absolute Error: {mean_absolute_error(y_train, train_preds):.3f}\")\n",
    "    # MSE\n",
    "    print(f\"Mean Squared Error: {mean_squared_error(y_train, train_preds):.3f}\")\n",
    "    # RMSE - just MSE but set squared=False\n",
    "    print(f\"Root Mean Squared Error: {mean_squared_error(y_train, train_preds, squared=False):.3f}\")\n",
    "    \n",
    "    print(\"\\nTesting Metrics:\")\n",
    "    # R2\n",
    "    print(f\"R2: {r2_score(y_test, test_preds):.3f}\")\n",
    "    # MAE\n",
    "    print(f\"Mean Absolute Error: {mean_absolute_error(y_test, test_preds):.3f}\")\n",
    "    # MSE\n",
    "    print(f\"Mean Squared Error: {mean_squared_error(y_test, test_preds):.3f}\")\n",
    "    # RMSE - just MSE but set squared=False\n",
    "    print(f\"Root Mean Squared Error: {mean_squared_error(y_test, test_preds, squared=False):.3f}\")"
   ]
  },
  {
   "cell_type": "code",
   "execution_count": 32,
   "metadata": {
    "ExecuteTime": {
     "end_time": "2022-03-31T07:36:55.653018Z",
     "start_time": "2022-03-31T07:36:55.638015Z"
    }
   },
   "outputs": [],
   "source": [
    "# def ohe(df, df2, column):    \n",
    "#     for col in column:\n",
    "#         train = df[[col]]\n",
    "#         ohe = OneHotEncoder(drop=\"first\", sparse=False, handle_unknown=\"error\")\n",
    "#         ohe.fit(train)\n",
    "#         encoded_train = ohe.transform(train)\n",
    "#         col_names = [f\"{col}_{f}\" for f in ohe.get_feature_names()]\n",
    "#         encoded_train = pd.DataFrame(encoded_train,\n",
    "#                                      columns=col_names, index=df.index)\n",
    "#         df = pd.concat([df, encoded_train], axis=1)\n",
    "        \n",
    "#         test = df2[[col]]\n",
    "#         encoded_test = ohe.transform(test)\n",
    "#         col_names = [f\"{col}_{f}\" for f in ohe.get_feature_names()]\n",
    "#         encoded_test = pd.DataFrame(encoded_test, \n",
    "#                                     columns=col_names, index=df2.index)\n",
    "#         df2 = pd.concat([df2, encoded_test], axis=1)\n",
    "#     return df, df2, encoded_train.columns.tolist()"
   ]
  },
  {
   "cell_type": "markdown",
   "metadata": {},
   "source": [
    "## Train Test split"
   ]
  },
  {
   "cell_type": "code",
   "execution_count": 33,
   "metadata": {
    "ExecuteTime": {
     "end_time": "2022-03-31T07:36:55.669022Z",
     "start_time": "2022-03-31T07:36:55.654019Z"
    }
   },
   "outputs": [],
   "source": [
    "# Define our X and y\n",
    "X = df.drop(columns='price')\n",
    "y = df['price']"
   ]
  },
  {
   "cell_type": "code",
   "execution_count": 34,
   "metadata": {
    "ExecuteTime": {
     "end_time": "2022-03-31T07:36:55.685026Z",
     "start_time": "2022-03-31T07:36:55.670022Z"
    }
   },
   "outputs": [],
   "source": [
    "# Train test split\n",
    "X_train, X_test, y_train, y_test = train_test_split(\n",
    "    X, y, test_size=0.30, random_state=42)"
   ]
  },
  {
   "cell_type": "markdown",
   "metadata": {},
   "source": [
    "## Models"
   ]
  },
  {
   "cell_type": "markdown",
   "metadata": {},
   "source": [
    "### Model 00. Dummy Regressor"
   ]
  },
  {
   "cell_type": "code",
   "execution_count": 35,
   "metadata": {
    "ExecuteTime": {
     "end_time": "2022-03-31T07:36:55.700030Z",
     "start_time": "2022-03-31T07:36:55.686027Z"
    }
   },
   "outputs": [],
   "source": [
    "dummy = DummyRegressor() #mean strategy"
   ]
  },
  {
   "cell_type": "code",
   "execution_count": 36,
   "metadata": {
    "ExecuteTime": {
     "end_time": "2022-03-31T07:36:55.715032Z",
     "start_time": "2022-03-31T07:36:55.701030Z"
    }
   },
   "outputs": [
    {
     "data": {
      "text/plain": [
       "DummyRegressor()"
      ]
     },
     "execution_count": 36,
     "metadata": {},
     "output_type": "execute_result"
    }
   ],
   "source": [
    "dummy.fit(X_train,y_train)"
   ]
  },
  {
   "cell_type": "code",
   "execution_count": 37,
   "metadata": {
    "ExecuteTime": {
     "end_time": "2022-03-31T07:36:55.730036Z",
     "start_time": "2022-03-31T07:36:55.716035Z"
    }
   },
   "outputs": [
    {
     "data": {
      "text/plain": [
       "0.0"
      ]
     },
     "execution_count": 37,
     "metadata": {},
     "output_type": "execute_result"
    }
   ],
   "source": [
    "dummy.score(X_train,y_train)"
   ]
  },
  {
   "cell_type": "code",
   "execution_count": 38,
   "metadata": {
    "ExecuteTime": {
     "end_time": "2022-03-31T07:36:55.746040Z",
     "start_time": "2022-03-31T07:36:55.731036Z"
    }
   },
   "outputs": [
    {
     "data": {
      "text/plain": [
       "-8.727889404758216e-06"
      ]
     },
     "execution_count": 38,
     "metadata": {},
     "output_type": "execute_result"
    }
   ],
   "source": [
    "dummy.score(X_test,y_test)"
   ]
  },
  {
   "cell_type": "markdown",
   "metadata": {},
   "source": [
    "Dummy Regressor has a 0 R^2 score?"
   ]
  },
  {
   "cell_type": "markdown",
   "metadata": {},
   "source": [
    "### Model 0. Using highest corr coefficient feature: sqft_living"
   ]
  },
  {
   "cell_type": "code",
   "execution_count": 39,
   "metadata": {
    "ExecuteTime": {
     "end_time": "2022-03-31T07:36:55.761043Z",
     "start_time": "2022-03-31T07:36:55.747040Z"
    }
   },
   "outputs": [
    {
     "data": {
      "text/plain": [
       "sqft_living    0.621509\n",
       "price          1.000000\n",
       "Name: price, dtype: float64"
      ]
     },
     "execution_count": 39,
     "metadata": {},
     "output_type": "execute_result"
    }
   ],
   "source": [
    "df.corr().price.sort_values()[-2:]"
   ]
  },
  {
   "cell_type": "code",
   "execution_count": 40,
   "metadata": {
    "ExecuteTime": {
     "end_time": "2022-03-31T07:36:55.809054Z",
     "start_time": "2022-03-31T07:36:55.762043Z"
    }
   },
   "outputs": [
    {
     "name": "stdout",
     "output_type": "stream",
     "text": [
      "Categorical columns: [] \n",
      "Numerical Columns:  ['sqft_living']\n",
      "Training Score: 0.38724291100841735\n",
      "Test Score: 0.383954425521002\n",
      "\n",
      "Training Metrics:\n",
      "R2: 0.387\n",
      "Mean Absolute Error: 131306.631\n",
      "Mean Squared Error: 26535522450.985\n",
      "Root Mean Squared Error: 162897.276\n",
      "\n",
      "Testing Metrics:\n",
      "R2: 0.384\n",
      "Mean Absolute Error: 130433.433\n",
      "Mean Squared Error: 26429196077.413\n",
      "Root Mean Squared Error: 162570.588\n"
     ]
    }
   ],
   "source": [
    "OHE_scale_lr(X_train,y_train,\n",
    "                 X_test,y_test,                 \n",
    "                 num_col = ['sqft_living'],\n",
    "                 cat_col =[]\n",
    "                );"
   ]
  },
  {
   "cell_type": "markdown",
   "metadata": {
    "ExecuteTime": {
     "end_time": "2022-03-29T16:23:11.564096Z",
     "start_time": "2022-03-29T16:23:11.559095Z"
    }
   },
   "source": [
    "Any chosen model **should perform better than this**"
   ]
  },
  {
   "cell_type": "markdown",
   "metadata": {
    "ExecuteTime": {
     "end_time": "2022-03-29T06:10:22.705829Z",
     "start_time": "2022-03-29T06:10:22.698828Z"
    }
   },
   "source": [
    "###  Model 1 : Sqft_living, grade"
   ]
  },
  {
   "cell_type": "markdown",
   "metadata": {},
   "source": [
    "Note: These should have a high colinearity. Just curious"
   ]
  },
  {
   "cell_type": "code",
   "execution_count": 41,
   "metadata": {
    "ExecuteTime": {
     "end_time": "2022-03-31T07:36:55.873067Z",
     "start_time": "2022-03-31T07:36:55.810054Z"
    },
    "scrolled": false
   },
   "outputs": [
    {
     "name": "stdout",
     "output_type": "stream",
     "text": [
      "Categorical columns: ['grade'] \n",
      "Numerical Columns:  ['sqft_living']\n",
      "Training Score: 0.4648671683087158\n",
      "Test Score: 0.4625422103764061\n",
      "\n",
      "Training Metrics:\n",
      "R2: 0.465\n",
      "Mean Absolute Error: 120082.686\n",
      "Mean Squared Error: 23173994270.670\n",
      "Root Mean Squared Error: 152230.070\n",
      "\n",
      "Testing Metrics:\n",
      "R2: 0.463\n",
      "Mean Absolute Error: 119705.232\n",
      "Mean Squared Error: 23057672830.956\n",
      "Root Mean Squared Error: 151847.532\n"
     ]
    }
   ],
   "source": [
    "OHE_scale_lr(X_train,y_train,\n",
    "                 X_test,y_test,                 \n",
    "                 num_col = ['sqft_living'],\n",
    "                 cat_col =['grade']\n",
    "                );"
   ]
  },
  {
   "cell_type": "markdown",
   "metadata": {},
   "source": [
    "### Model 2: Sqft_living/Sqft_living15, grade"
   ]
  },
  {
   "cell_type": "markdown",
   "metadata": {},
   "source": [
    "Feature engineering a ratio of living area to that of the neighborhood. Thinking: biggest house in the neighborhood is a good predicter"
   ]
  },
  {
   "cell_type": "code",
   "execution_count": 42,
   "metadata": {
    "ExecuteTime": {
     "end_time": "2022-03-31T07:36:55.889072Z",
     "start_time": "2022-03-31T07:36:55.874068Z"
    }
   },
   "outputs": [],
   "source": [
    "X_train['sqft_living/sqft_living15'] = X_train.sqft_living / X_train.sqft_living15\n",
    "X_test['sqft_living/sqft_living15'] = X_test.sqft_living / X_test.sqft_living15"
   ]
  },
  {
   "cell_type": "code",
   "execution_count": 43,
   "metadata": {
    "ExecuteTime": {
     "end_time": "2022-03-31T07:36:55.953086Z",
     "start_time": "2022-03-31T07:36:55.890072Z"
    }
   },
   "outputs": [
    {
     "name": "stdout",
     "output_type": "stream",
     "text": [
      "Categorical columns: ['grade'] \n",
      "Numerical Columns:  ['sqft_living/sqft_living15']\n",
      "Training Score: 0.4196360624662394\n",
      "Test Score: 0.41602860644570516\n",
      "\n",
      "Training Metrics:\n",
      "R2: 0.420\n",
      "Mean Absolute Error: 125151.232\n",
      "Mean Squared Error: 25132732971.745\n",
      "Root Mean Squared Error: 158533.066\n",
      "\n",
      "Testing Metrics:\n",
      "R2: 0.416\n",
      "Mean Absolute Error: 124985.048\n",
      "Mean Squared Error: 25053169932.921\n",
      "Root Mean Squared Error: 158281.932\n"
     ]
    }
   ],
   "source": [
    "OHE_scale_lr(X_train,y_train,\n",
    "                 X_test,y_test,                 \n",
    "                 num_col = ['sqft_living/sqft_living15'],\n",
    "                 cat_col =['grade']\n",
    "                );"
   ]
  },
  {
   "cell_type": "markdown",
   "metadata": {},
   "source": [
    "yeesh"
   ]
  },
  {
   "cell_type": "markdown",
   "metadata": {},
   "source": [
    "### Model 3: Sqft_living, Sqft_lot,grade"
   ]
  },
  {
   "cell_type": "markdown",
   "metadata": {},
   "source": [
    "Trying variations of Sqft_living and Sqft_lot\n",
    "Thinking: Either individually, an addition or a ratio of the living/lot might be a good predicter"
   ]
  },
  {
   "cell_type": "markdown",
   "metadata": {},
   "source": [
    "#### Model 3a: Sqft_living, Sqft_lot"
   ]
  },
  {
   "cell_type": "code",
   "execution_count": 44,
   "metadata": {
    "ExecuteTime": {
     "end_time": "2022-03-31T07:36:56.000096Z",
     "start_time": "2022-03-31T07:36:55.954086Z"
    }
   },
   "outputs": [
    {
     "name": "stdout",
     "output_type": "stream",
     "text": [
      "Categorical columns: [] \n",
      "Numerical Columns:  ['sqft_living', 'sqft_lot']\n",
      "Training Score: 0.3872454358288966\n",
      "Test Score: 0.38399515410064355\n",
      "\n",
      "Training Metrics:\n",
      "R2: 0.387\n",
      "Mean Absolute Error: 131302.720\n",
      "Mean Squared Error: 26535413113.318\n",
      "Root Mean Squared Error: 162896.940\n",
      "\n",
      "Testing Metrics:\n",
      "R2: 0.384\n",
      "Mean Absolute Error: 130426.689\n",
      "Mean Squared Error: 26427448765.750\n",
      "Root Mean Squared Error: 162565.214\n"
     ]
    }
   ],
   "source": [
    "OHE_scale_lr(X_train,y_train,\n",
    "                 X_test,y_test,                 \n",
    "                 num_col = ['sqft_living','sqft_lot'],\n",
    "                 cat_col =[]\n",
    "                );"
   ]
  },
  {
   "cell_type": "markdown",
   "metadata": {},
   "source": [
    "probably also has high multicolinarity. Also, not much better than Model 0"
   ]
  },
  {
   "cell_type": "markdown",
   "metadata": {},
   "source": [
    "#### Model 3b: Sqft_living + Sqft_lot, grade"
   ]
  },
  {
   "cell_type": "code",
   "execution_count": 45,
   "metadata": {
    "ExecuteTime": {
     "end_time": "2022-03-31T07:36:56.016100Z",
     "start_time": "2022-03-31T07:36:56.002097Z"
    }
   },
   "outputs": [],
   "source": [
    "X_train['sqft_living + sqft_lot'] = X_train['sqft_living'] + X_train['sqft_lot']\n",
    "X_test['sqft_living + sqft_lot'] = X_test['sqft_living'] + X_test['sqft_lot']"
   ]
  },
  {
   "cell_type": "code",
   "execution_count": 46,
   "metadata": {
    "ExecuteTime": {
     "end_time": "2022-03-31T07:36:56.095118Z",
     "start_time": "2022-03-31T07:36:56.017101Z"
    }
   },
   "outputs": [
    {
     "name": "stdout",
     "output_type": "stream",
     "text": [
      "Categorical columns: ['grade'] \n",
      "Numerical Columns:  ['sqft_living + sqft_lot']\n",
      "Training Score: 0.4079769573259925\n",
      "Test Score: 0.40356186381685866\n",
      "\n",
      "Training Metrics:\n",
      "R2: 0.408\n",
      "Mean Absolute Error: 126169.336\n",
      "Mean Squared Error: 25637631979.469\n",
      "Root Mean Squared Error: 160117.557\n",
      "\n",
      "Testing Metrics:\n",
      "R2: 0.404\n",
      "Mean Absolute Error: 126117.183\n",
      "Mean Squared Error: 25588010209.411\n",
      "Root Mean Squared Error: 159962.528\n"
     ]
    }
   ],
   "source": [
    "OHE_scale_lr(X_train,y_train,\n",
    "                 X_test,y_test,                 \n",
    "                 num_col = ['sqft_living + sqft_lot'],\n",
    "                 cat_col =['grade']\n",
    "                );"
   ]
  },
  {
   "cell_type": "markdown",
   "metadata": {},
   "source": [
    "#### Model 3c: Sqft_living / Sqft_lot, grade"
   ]
  },
  {
   "cell_type": "code",
   "execution_count": 47,
   "metadata": {
    "ExecuteTime": {
     "end_time": "2022-03-31T07:36:56.111121Z",
     "start_time": "2022-03-31T07:36:56.097119Z"
    }
   },
   "outputs": [],
   "source": [
    "X_train['sqft_living/sqft_lot'] = X_train['sqft_living'] / X_train['sqft_lot']\n",
    "X_test['sqft_living/sqft_lot'] = X_test['sqft_living'] / X_test['sqft_lot']"
   ]
  },
  {
   "cell_type": "code",
   "execution_count": 48,
   "metadata": {
    "ExecuteTime": {
     "end_time": "2022-03-31T07:36:56.189139Z",
     "start_time": "2022-03-31T07:36:56.112121Z"
    },
    "scrolled": true
   },
   "outputs": [
    {
     "name": "stdout",
     "output_type": "stream",
     "text": [
      "Categorical columns: ['grade'] \n",
      "Numerical Columns:  ['sqft_living/sqft_lot']\n",
      "Training Score: 0.41033622239101974\n",
      "Test Score: 0.40469873178636184\n",
      "\n",
      "Training Metrics:\n",
      "R2: 0.410\n",
      "Mean Absolute Error: 126162.077\n",
      "Mean Squared Error: 25535463710.467\n",
      "Root Mean Squared Error: 159798.197\n",
      "\n",
      "Testing Metrics:\n",
      "R2: 0.405\n",
      "Mean Absolute Error: 126204.669\n",
      "Mean Squared Error: 25539237021.639\n",
      "Root Mean Squared Error: 159810.003\n"
     ]
    }
   ],
   "source": [
    "OHE_scale_lr(X_train,y_train,\n",
    "                 X_test,y_test,                 \n",
    "                 num_col = ['sqft_living/sqft_lot'],\n",
    "                 cat_col =['grade']\n",
    "                );"
   ]
  },
  {
   "cell_type": "markdown",
   "metadata": {},
   "source": [
    "Feature engineering betwen sqft_living and sqft_lot makes no diff"
   ]
  },
  {
   "cell_type": "markdown",
   "metadata": {},
   "source": [
    "### Model 4: View, Waterfront, Grade"
   ]
  },
  {
   "cell_type": "markdown",
   "metadata": {},
   "source": [
    "Something different. No square footage. Based on view, waterfront, grade. Will require little more work, since waterfront has a bunch of nulls"
   ]
  },
  {
   "cell_type": "code",
   "execution_count": 49,
   "metadata": {
    "ExecuteTime": {
     "end_time": "2022-03-31T07:36:56.268157Z",
     "start_time": "2022-03-31T07:36:56.190140Z"
    },
    "scrolled": true
   },
   "outputs": [
    {
     "name": "stdout",
     "output_type": "stream",
     "text": [
      "Categorical columns: ['view', 'waterfront', 'grade'] \n",
      "Numerical Columns:  []\n",
      "Training Score: 0.43041301439845836\n",
      "Test Score: 0.43331507157385574\n",
      "\n",
      "Training Metrics:\n",
      "R2: 0.430\n",
      "Mean Absolute Error: 123896.487\n",
      "Mean Squared Error: 24666035719.134\n",
      "Root Mean Squared Error: 157054.245\n",
      "\n",
      "Testing Metrics:\n",
      "R2: 0.433\n",
      "Mean Absolute Error: 123385.669\n",
      "Mean Squared Error: 24311556982.055\n",
      "Root Mean Squared Error: 155921.637\n"
     ]
    }
   ],
   "source": [
    "OHE_scale_lr(X_train,y_train,\n",
    "                 X_test,y_test,                 \n",
    "                 num_col = [],\n",
    "                 cat_col =['view','waterfront','grade']\n",
    "                );"
   ]
  },
  {
   "cell_type": "markdown",
   "metadata": {},
   "source": [
    "Better, but meh. Marginally better than Model 0"
   ]
  },
  {
   "cell_type": "markdown",
   "metadata": {},
   "source": [
    "### Model 5: Bedroom, Bathroom, sqft_living"
   ]
  },
  {
   "cell_type": "markdown",
   "metadata": {},
   "source": [
    "ok. ignoring square footage probably not a good idea. Using room counts as a predicter"
   ]
  },
  {
   "cell_type": "markdown",
   "metadata": {},
   "source": [
    "#### Model 5a"
   ]
  },
  {
   "cell_type": "code",
   "execution_count": 50,
   "metadata": {
    "ExecuteTime": {
     "end_time": "2022-03-31T07:36:56.315168Z",
     "start_time": "2022-03-31T07:36:56.269157Z"
    },
    "scrolled": true
   },
   "outputs": [
    {
     "name": "stdout",
     "output_type": "stream",
     "text": [
      "Categorical columns: [] \n",
      "Numerical Columns:  ['bedrooms', 'bathrooms', 'sqft_living']\n",
      "Training Score: 0.3954060646579909\n",
      "Test Score: 0.3950108279294229\n",
      "\n",
      "Training Metrics:\n",
      "R2: 0.395\n",
      "Mean Absolute Error: 129877.861\n",
      "Mean Squared Error: 26182016060.230\n",
      "Root Mean Squared Error: 161808.578\n",
      "\n",
      "Testing Metrics:\n",
      "R2: 0.395\n",
      "Mean Absolute Error: 128775.430\n",
      "Mean Squared Error: 25954861321.563\n",
      "Root Mean Squared Error: 161105.125\n"
     ]
    }
   ],
   "source": [
    "OHE_scale_lr(X_train,y_train,\n",
    "                 X_test,y_test,                 \n",
    "                 num_col = ['bedrooms','bathrooms','sqft_living'],\n",
    "                 cat_col =[]\n",
    "                );"
   ]
  },
  {
   "cell_type": "markdown",
   "metadata": {},
   "source": [
    "#### Model 5b"
   ]
  },
  {
   "cell_type": "code",
   "execution_count": 51,
   "metadata": {
    "ExecuteTime": {
     "end_time": "2022-03-31T07:36:56.394185Z",
     "start_time": "2022-03-31T07:36:56.316169Z"
    },
    "scrolled": true
   },
   "outputs": [
    {
     "name": "stdout",
     "output_type": "stream",
     "text": [
      "Categorical columns: ['bedrooms_bin'] \n",
      "Numerical Columns:  ['bathrooms', 'sqft_living']\n",
      "Training Score: 0.3973287992862705\n",
      "Test Score: 0.397852392603639\n",
      "\n",
      "Training Metrics:\n",
      "R2: 0.397\n",
      "Mean Absolute Error: 129560.556\n",
      "Mean Squared Error: 26098751796.442\n",
      "Root Mean Squared Error: 161551.081\n",
      "\n",
      "Testing Metrics:\n",
      "R2: 0.398\n",
      "Mean Absolute Error: 128346.720\n",
      "Mean Squared Error: 25832954318.164\n",
      "Root Mean Squared Error: 160726.334\n"
     ]
    }
   ],
   "source": [
    "OHE_scale_lr(X_train,y_train,\n",
    "                 X_test,y_test,                 \n",
    "                 num_col = ['bathrooms','sqft_living'],\n",
    "                 cat_col =['bedrooms_bin']\n",
    "                );"
   ]
  },
  {
   "cell_type": "markdown",
   "metadata": {
    "ExecuteTime": {
     "end_time": "2022-03-30T17:32:41.809780Z",
     "start_time": "2022-03-30T17:32:41.797755Z"
    }
   },
   "source": [
    "Binning bedrooms has a marginal improvement"
   ]
  },
  {
   "cell_type": "markdown",
   "metadata": {},
   "source": [
    "### Model 6: Bedroom, Bathroom, sqft_living, grade"
   ]
  },
  {
   "cell_type": "markdown",
   "metadata": {},
   "source": [
    "#### Model 6a"
   ]
  },
  {
   "cell_type": "code",
   "execution_count": 52,
   "metadata": {
    "ExecuteTime": {
     "end_time": "2022-03-31T07:36:56.472202Z",
     "start_time": "2022-03-31T07:36:56.395187Z"
    },
    "scrolled": false
   },
   "outputs": [
    {
     "name": "stdout",
     "output_type": "stream",
     "text": [
      "Categorical columns: ['grade'] \n",
      "Numerical Columns:  ['sqft_living', 'bedrooms', 'bathrooms']\n",
      "Training Score: 0.4674614117485075\n",
      "Test Score: 0.4648366264961634\n",
      "\n",
      "Training Metrics:\n",
      "R2: 0.467\n",
      "Mean Absolute Error: 119673.272\n",
      "Mean Squared Error: 23061650233.732\n",
      "Root Mean Squared Error: 151860.628\n",
      "\n",
      "Testing Metrics:\n",
      "R2: 0.465\n",
      "Mean Absolute Error: 119344.193\n",
      "Mean Squared Error: 22959239247.428\n",
      "Root Mean Squared Error: 151523.065\n"
     ]
    }
   ],
   "source": [
    "OHE_scale_lr(X_train,y_train,\n",
    "                 X_test,y_test,                 \n",
    "                 num_col = ['sqft_living','bedrooms','bathrooms'],\n",
    "                 cat_col =['grade']\n",
    "                );"
   ]
  },
  {
   "cell_type": "code",
   "execution_count": 53,
   "metadata": {
    "ExecuteTime": {
     "end_time": "2022-03-31T07:36:56.581228Z",
     "start_time": "2022-03-31T07:36:56.473204Z"
    },
    "scrolled": true
   },
   "outputs": [
    {
     "name": "stdout",
     "output_type": "stream",
     "text": [
      "Categorical columns: ['grade', 'bedrooms_bin'] \n",
      "Numerical Columns:  ['bathrooms', 'sqft_living']\n",
      "Training Score: 0.4709729891310259\n",
      "Test Score: 0.46927766246616276\n",
      "\n",
      "Training Metrics:\n",
      "R2: 0.471\n",
      "Mean Absolute Error: 119076.255\n",
      "Mean Squared Error: 22909580935.561\n",
      "Root Mean Squared Error: 151359.112\n",
      "\n",
      "Testing Metrics:\n",
      "R2: 0.469\n",
      "Mean Absolute Error: 118664.878\n",
      "Mean Squared Error: 22768712742.084\n",
      "Root Mean Squared Error: 150893.051\n"
     ]
    }
   ],
   "source": [
    "OHE_scale_lr(X_train,y_train,\n",
    "                 X_test,y_test,                 \n",
    "                 num_col = ['bathrooms','sqft_living'],\n",
    "                 cat_col =['grade','bedrooms_bin']\n",
    "                );"
   ]
  },
  {
   "cell_type": "markdown",
   "metadata": {},
   "source": [
    "Getting better. Seems like better off treating bedrooms as cateogrical."
   ]
  },
  {
   "cell_type": "markdown",
   "metadata": {},
   "source": [
    "Hmmm... Including sqft_living AND grade increased scores. But their corelation is high. Probably high multicolinearity. Check a few more models"
   ]
  },
  {
   "cell_type": "markdown",
   "metadata": {},
   "source": [
    "#### Model 6b: Bedroom/Bathroom, sqft_living, grade"
   ]
  },
  {
   "cell_type": "markdown",
   "metadata": {},
   "source": [
    "Slight feature engineering. Ratio of bedrooms to bathrooms"
   ]
  },
  {
   "cell_type": "code",
   "execution_count": 54,
   "metadata": {
    "ExecuteTime": {
     "end_time": "2022-03-31T07:36:56.597231Z",
     "start_time": "2022-03-31T07:36:56.582228Z"
    }
   },
   "outputs": [],
   "source": [
    "X_train['bedrooms/bathrooms'] = X_train['bedrooms']/X_train['bathrooms']\n",
    "X_test['bedrooms/bathrooms'] = X_test['bedrooms']/X_test['bathrooms']"
   ]
  },
  {
   "cell_type": "code",
   "execution_count": 55,
   "metadata": {
    "ExecuteTime": {
     "end_time": "2022-03-31T07:36:56.676105Z",
     "start_time": "2022-03-31T07:36:56.598232Z"
    },
    "scrolled": true
   },
   "outputs": [
    {
     "name": "stdout",
     "output_type": "stream",
     "text": [
      "Categorical columns: ['grade'] \n",
      "Numerical Columns:  ['bedrooms/bathrooms', 'sqft_living']\n",
      "Training Score: 0.4651352462013624\n",
      "Test Score: 0.4622957990378661\n",
      "\n",
      "Training Metrics:\n",
      "R2: 0.465\n",
      "Mean Absolute Error: 120089.391\n",
      "Mean Squared Error: 23162385123.968\n",
      "Root Mean Squared Error: 152191.935\n",
      "\n",
      "Testing Metrics:\n",
      "R2: 0.462\n",
      "Mean Absolute Error: 119751.891\n",
      "Mean Squared Error: 23068244213.742\n",
      "Root Mean Squared Error: 151882.337\n"
     ]
    }
   ],
   "source": [
    "OHE_scale_lr(X_train,y_train,\n",
    "                 X_test,y_test,                 \n",
    "                 num_col = ['bedrooms/bathrooms','sqft_living'],\n",
    "                 cat_col =['grade']\n",
    "                );"
   ]
  },
  {
   "cell_type": "markdown",
   "metadata": {},
   "source": [
    "Not that much better"
   ]
  },
  {
   "cell_type": "markdown",
   "metadata": {},
   "source": [
    "## Ze Kitchen Sink"
   ]
  },
  {
   "cell_type": "code",
   "execution_count": 56,
   "metadata": {
    "ExecuteTime": {
     "end_time": "2022-03-31T07:36:56.818137Z",
     "start_time": "2022-03-31T07:36:56.677105Z"
    },
    "scrolled": true
   },
   "outputs": [
    {
     "data": {
      "text/plain": [
       "<matplotlib.collections.PathCollection at 0x20360f74310>"
      ]
     },
     "execution_count": 56,
     "metadata": {},
     "output_type": "execute_result"
    },
    {
     "data": {
      "image/png": "[encoded data removed]",
      "text/plain": [
       "<Figure size 576x396 with 1 Axes>"
      ]
     },
     "metadata": {},
     "output_type": "display_data"
    }
   ],
   "source": [
    "fig, ax = plt.subplots()\n",
    "ax.scatter(df['zipcode'],df['price'])"
   ]
  },
  {
   "cell_type": "markdown",
   "metadata": {},
   "source": [
    "If considering zip code, I think it should be considered as a categorical"
   ]
  },
  {
   "cell_type": "markdown",
   "metadata": {},
   "source": [
    "### Model 7: zipcode included"
   ]
  },
  {
   "cell_type": "markdown",
   "metadata": {},
   "source": [
    "#### Model 7a"
   ]
  },
  {
   "cell_type": "code",
   "execution_count": 57,
   "metadata": {
    "ExecuteTime": {
     "end_time": "2022-03-31T07:36:56.929161Z",
     "start_time": "2022-03-31T07:36:56.822138Z"
    },
    "scrolled": true
   },
   "outputs": [
    {
     "name": "stdout",
     "output_type": "stream",
     "text": [
      "Categorical columns: ['condition', 'bedrooms_bin'] \n",
      "Numerical Columns:  ['zipcode', 'sqft_living', 'bathrooms']\n",
      "Training Score: 0.41807267453836305\n",
      "Test Score: 0.41988591068317516\n",
      "\n",
      "Training Metrics:\n",
      "R2: 0.418\n",
      "Mean Absolute Error: 127075.544\n",
      "Mean Squared Error: 25200435681.685\n",
      "Root Mean Squared Error: 158746.451\n",
      "\n",
      "Testing Metrics:\n",
      "R2: 0.420\n",
      "Mean Absolute Error: 126061.119\n",
      "Mean Squared Error: 24887686315.725\n",
      "Root Mean Squared Error: 157758.316\n"
     ]
    }
   ],
   "source": [
    "OHE_scale_lr(X_train,y_train,\n",
    "                 X_test,y_test,                 \n",
    "                 num_col = ['zipcode','sqft_living','bathrooms',],\n",
    "                 cat_col =['condition','bedrooms_bin',]\n",
    "                );"
   ]
  },
  {
   "cell_type": "markdown",
   "metadata": {},
   "source": [
    "#### Model 7b"
   ]
  },
  {
   "cell_type": "code",
   "execution_count": 58,
   "metadata": {
    "ExecuteTime": {
     "end_time": "2022-03-31T07:36:57.072193Z",
     "start_time": "2022-03-31T07:36:56.930162Z"
    },
    "scrolled": true
   },
   "outputs": [
    {
     "name": "stdout",
     "output_type": "stream",
     "text": [
      "Categorical columns: ['bedrooms_bin', 'zipcode', 'condition'] \n",
      "Numerical Columns:  ['sqft_living', 'bathrooms']\n",
      "Training Score: 0.7816866799105303\n",
      "Test Score: 0.7793184858928225\n",
      "\n",
      "Training Metrics:\n",
      "R2: 0.782\n",
      "Mean Absolute Error: 70556.144\n",
      "Mean Squared Error: 9454085657.527\n",
      "Root Mean Squared Error: 97232.123\n",
      "\n",
      "Testing Metrics:\n",
      "R2: 0.779\n",
      "Mean Absolute Error: 70530.559\n",
      "Mean Squared Error: 9467538196.231\n",
      "Root Mean Squared Error: 97301.275\n"
     ]
    }
   ],
   "source": [
    "OHE_scale_lr(X_train,y_train,\n",
    "                 X_test,y_test,                 \n",
    "                 num_col = ['sqft_living','bathrooms',],\n",
    "                 cat_col =['bedrooms_bin','zipcode','condition']\n",
    "                );"
   ]
  },
  {
   "cell_type": "markdown",
   "metadata": {},
   "source": [
    "PROMISING! \n",
    "\n",
    "$_{only~thing~so~far}$"
   ]
  },
  {
   "cell_type": "markdown",
   "metadata": {},
   "source": [
    "#### Model 7c"
   ]
  },
  {
   "cell_type": "code",
   "execution_count": 59,
   "metadata": {
    "ExecuteTime": {
     "end_time": "2022-03-31T07:36:57.183220Z",
     "start_time": "2022-03-31T07:36:57.073194Z"
    },
    "scrolled": true
   },
   "outputs": [
    {
     "name": "stdout",
     "output_type": "stream",
     "text": [
      "Categorical columns: ['zipcode', 'condition'] \n",
      "Numerical Columns:  ['bedrooms', 'bathrooms', 'sqft_living']\n",
      "Training Score: 0.7802146757403421\n",
      "Test Score: 0.7776438042988089\n",
      "\n",
      "Training Metrics:\n",
      "R2: 0.780\n",
      "Mean Absolute Error: 70839.793\n",
      "Mean Squared Error: 9517830982.400\n",
      "Root Mean Squared Error: 97559.372\n",
      "\n",
      "Testing Metrics:\n",
      "R2: 0.778\n",
      "Mean Absolute Error: 70752.915\n",
      "Mean Squared Error: 9539384322.636\n",
      "Root Mean Squared Error: 97669.772\n"
     ]
    }
   ],
   "source": [
    "OHE_scale_lr(X_train,y_train,\n",
    "                 X_test,y_test,                 \n",
    "                 num_col = ['bedrooms','bathrooms','sqft_living'],\n",
    "                 cat_col =['zipcode','condition']\n",
    "                );"
   ]
  },
  {
   "cell_type": "markdown",
   "metadata": {},
   "source": [
    "#### Model 7d"
   ]
  },
  {
   "cell_type": "code",
   "execution_count": 60,
   "metadata": {
    "ExecuteTime": {
     "end_time": "2022-03-31T07:36:57.310248Z",
     "start_time": "2022-03-31T07:36:57.185220Z"
    },
    "scrolled": false
   },
   "outputs": [
    {
     "name": "stdout",
     "output_type": "stream",
     "text": [
      "Categorical columns: ['zipcode', 'condition', 'view', 'waterfront'] \n",
      "Numerical Columns:  ['sqft_living']\n",
      "Training Score: 0.7931173026009078\n",
      "Test Score: 0.7917688580768633\n",
      "\n",
      "Training Metrics:\n",
      "R2: 0.793\n",
      "Mean Absolute Error: 69062.111\n",
      "Mean Squared Error: 8959081110.899\n",
      "Root Mean Squared Error: 94652.423\n",
      "\n",
      "Testing Metrics:\n",
      "R2: 0.792\n",
      "Mean Absolute Error: 69274.233\n",
      "Mean Squared Error: 8933400234.170\n",
      "Root Mean Squared Error: 94516.666\n"
     ]
    }
   ],
   "source": [
    "OHE_scale_lr(X_train,y_train,\n",
    "                 X_test,y_test,                 \n",
    "                 num_col = ['sqft_living'],\n",
    "                 cat_col =['zipcode','condition','view','waterfront']\n",
    "                );"
   ]
  },
  {
   "cell_type": "markdown",
   "metadata": {},
   "source": [
    "#### Model 7e"
   ]
  },
  {
   "cell_type": "code",
   "execution_count": 61,
   "metadata": {
    "ExecuteTime": {
     "end_time": "2022-03-31T07:36:57.437281Z",
     "start_time": "2022-03-31T07:36:57.311248Z"
    },
    "scrolled": true
   },
   "outputs": [
    {
     "name": "stdout",
     "output_type": "stream",
     "text": [
      "Categorical columns: ['zipcode', 'condition', 'view'] \n",
      "Numerical Columns:  ['bedrooms', 'bathrooms', 'sqft_living']\n",
      "Training Score: 0.7945302524189543\n",
      "Test Score: 0.7935742182526972\n",
      "\n",
      "Training Metrics:\n",
      "R2: 0.795\n",
      "Mean Absolute Error: 68766.994\n",
      "Mean Squared Error: 8897893142.139\n",
      "Root Mean Squared Error: 94328.644\n",
      "\n",
      "Testing Metrics:\n",
      "R2: 0.794\n",
      "Mean Absolute Error: 68947.547\n",
      "Mean Squared Error: 8855947818.222\n",
      "Root Mean Squared Error: 94106.046\n"
     ]
    }
   ],
   "source": [
    "OHE_scale_lr(X_train,y_train,\n",
    "                 X_test,y_test,                 \n",
    "                 num_col = ['bedrooms','bathrooms','sqft_living'],\n",
    "                 cat_col =['zipcode','condition','view']\n",
    "                );"
   ]
  },
  {
   "cell_type": "markdown",
   "metadata": {},
   "source": [
    "#### Model 7f"
   ]
  },
  {
   "cell_type": "code",
   "execution_count": 62,
   "metadata": {
    "ExecuteTime": {
     "end_time": "2022-03-31T07:36:57.578313Z",
     "start_time": "2022-03-31T07:36:57.438283Z"
    },
    "scrolled": false
   },
   "outputs": [
    {
     "name": "stdout",
     "output_type": "stream",
     "text": [
      "Categorical columns: ['zipcode', 'condition', 'view', 'bedrooms_bin'] \n",
      "Numerical Columns:  ['bathrooms', 'sqft_living', 'sqft_living15']\n",
      "Training Score: 0.8065356057116292\n",
      "Test Score: 0.8076516480125171\n",
      "\n",
      "Training Metrics:\n",
      "R2: 0.807\n",
      "Mean Absolute Error: 66597.849\n",
      "Mean Squared Error: 8377999814.827\n",
      "Root Mean Squared Error: 91531.414\n",
      "\n",
      "Testing Metrics:\n",
      "R2: 0.808\n",
      "Mean Absolute Error: 66378.232\n",
      "Mean Squared Error: 8252006865.147\n",
      "Root Mean Squared Error: 90840.557\n"
     ]
    }
   ],
   "source": [
    "OHE_scale_lr(X_train,y_train,\n",
    "                 X_test,y_test,                 \n",
    "                 num_col = ['bathrooms','sqft_living','sqft_living15'],\n",
    "                 cat_col =['zipcode','condition','view','bedrooms_bin',]\n",
    "                );"
   ]
  },
  {
   "cell_type": "markdown",
   "metadata": {},
   "source": [
    "Best one yet"
   ]
  },
  {
   "cell_type": "code",
   "execution_count": 63,
   "metadata": {
    "ExecuteTime": {
     "end_time": "2022-03-31T07:36:57.594317Z",
     "start_time": "2022-03-31T07:36:57.579314Z"
    },
    "scrolled": true
   },
   "outputs": [
    {
     "data": {
      "text/plain": [
       "0"
      ]
     },
     "execution_count": 63,
     "metadata": {},
     "output_type": "execute_result"
    }
   ],
   "source": [
    "df.yr_built.isna().sum()"
   ]
  },
  {
   "cell_type": "markdown",
   "metadata": {},
   "source": [
    "#### Model 7g"
   ]
  },
  {
   "cell_type": "code",
   "execution_count": 64,
   "metadata": {
    "ExecuteTime": {
     "end_time": "2022-03-31T07:36:57.752353Z",
     "start_time": "2022-03-31T07:36:57.595317Z"
    },
    "scrolled": true
   },
   "outputs": [
    {
     "name": "stdout",
     "output_type": "stream",
     "text": [
      "Categorical columns: ['zipcode', 'condition', 'view', 'bedrooms_bin'] \n",
      "Numerical Columns:  ['sqft_living', 'sqft_living15']\n",
      "Training Score: 0.8060652678972806\n",
      "Test Score: 0.8070565871682078\n",
      "\n",
      "Training Metrics:\n",
      "R2: 0.806\n",
      "Mean Absolute Error: 66638.380\n",
      "Mean Squared Error: 8398367852.760\n",
      "Root Mean Squared Error: 91642.609\n",
      "\n",
      "Testing Metrics:\n",
      "R2: 0.807\n",
      "Mean Absolute Error: 66438.684\n",
      "Mean Squared Error: 8277535787.655\n",
      "Root Mean Squared Error: 90980.964\n"
     ]
    }
   ],
   "source": [
    "OHE_scale_lr(X_train,y_train,\n",
    "                 X_test,y_test,                 \n",
    "                 num_col = ['sqft_living','sqft_living15'],\n",
    "                 cat_col =['zipcode','condition','view','bedrooms_bin']\n",
    "                );"
   ]
  },
  {
   "cell_type": "code",
   "execution_count": null,
   "metadata": {},
   "outputs": [],
   "source": []
  },
  {
   "cell_type": "code",
   "execution_count": null,
   "metadata": {},
   "outputs": [],
   "source": []
  },
  {
   "cell_type": "code",
   "execution_count": null,
   "metadata": {},
   "outputs": [],
   "source": []
  },
  {
   "cell_type": "code",
   "execution_count": null,
   "metadata": {},
   "outputs": [],
   "source": []
  },
  {
   "cell_type": "markdown",
   "metadata": {},
   "source": [
    "## Deepdive in Model 7f"
   ]
  },
  {
   "cell_type": "markdown",
   "metadata": {},
   "source": [
    "Get all the necessary variables (R^2, Condition No, p-values, coeffiencts, intercept)"
   ]
  },
  {
   "cell_type": "code",
   "execution_count": 65,
   "metadata": {
    "ExecuteTime": {
     "end_time": "2022-03-31T07:36:57.896385Z",
     "start_time": "2022-03-31T07:36:57.753353Z"
    },
    "scrolled": true
   },
   "outputs": [
    {
     "name": "stdout",
     "output_type": "stream",
     "text": [
      "Categorical columns: ['zipcode', 'condition', 'view', 'bedrooms_bin'] \n",
      "Numerical Columns:  ['bathrooms', 'sqft_living', 'sqft_living15']\n",
      "Training Score: 0.8065356057116292\n",
      "Test Score: 0.8076516480125171\n",
      "\n",
      "Training Metrics:\n",
      "R2: 0.807\n",
      "Mean Absolute Error: 66597.849\n",
      "Mean Squared Error: 8377999814.827\n",
      "Root Mean Squared Error: 91531.414\n",
      "\n",
      "Testing Metrics:\n",
      "R2: 0.808\n",
      "Mean Absolute Error: 66378.232\n",
      "Mean Squared Error: 8252006865.147\n",
      "Root Mean Squared Error: 90840.557\n"
     ]
    }
   ],
   "source": [
    "X_train_xformed, X_test_xformed, train_preds, test_preds = OHE_scale_lr(X_train, y_train,\n",
    "                                                                        X_test, y_test,\n",
    "                                                                        num_col=[\n",
    "                                                                            'bathrooms', 'sqft_living', 'sqft_living15'],\n",
    "                                                                        cat_col=[\n",
    "                                                                            'zipcode', 'condition', 'view', 'bedrooms_bin']\n",
    "                                                                        )"
   ]
  },
  {
   "cell_type": "code",
   "execution_count": 66,
   "metadata": {
    "ExecuteTime": {
     "end_time": "2022-03-31T07:36:57.976404Z",
     "start_time": "2022-03-31T07:36:57.900386Z"
    },
    "scrolled": true
   },
   "outputs": [],
   "source": [
    "num_col = ['bathrooms', 'sqft_living', 'sqft_living15']\n",
    "cat_col = ['zipcode', 'condition', 'view', 'bedrooms_bin', ]\n",
    "\n",
    "# List Comp to get subset of columns\n",
    "list_cols = [col\n",
    "             for sublist_cols in [num_col, cat_col]\n",
    "             for col in sublist_cols]\n",
    "# print('Categorical columns:', cat_col, '\\nNumerical Columns: ', num_col)\n",
    "\n",
    "# Create subsets of train and test sets\n",
    "X_train_subset = X_train[list_cols]\n",
    "X_test_subset = X_test[list_cols]\n",
    "\n",
    "encoder = OneHotEncoder(handle_unknown='error',\n",
    "                        drop='first',\n",
    "                        categories='auto')\n",
    "\n",
    "scaler = MinMaxScaler(feature_range=(0, 1))\n",
    "\n",
    "preprocessor = ColumnTransformer(transformers=[(\"num\", scaler, num_col),\n",
    "                                               (\"cat\", encoder, cat_col)],\n",
    "                                 remainder='passthrough'\n",
    "                                 )\n",
    "\n",
    "\n",
    "pipe = make_pipeline(preprocessor, LinearRegression())\n",
    "pipe.fit(X_train_subset, y_train)\n",
    "\n",
    "train_preds = pipe.predict(X_train_subset)\n",
    "test_preds = pipe.predict(X_test_subset)"
   ]
  },
  {
   "cell_type": "code",
   "execution_count": 67,
   "metadata": {
    "ExecuteTime": {
     "end_time": "2022-03-31T07:36:57.992410Z",
     "start_time": "2022-03-31T07:36:57.977405Z"
    },
    "scrolled": true
   },
   "outputs": [
    {
     "name": "stdout",
     "output_type": "stream",
     "text": [
      "\n",
      "Training Metrics:\n",
      "R2: 0.807\n",
      "Mean Absolute Error: 66597.849\n",
      "Mean Squared Error: 8377999814.827\n",
      "Root Mean Squared Error: 91531.414\n",
      "\n",
      "Testing Metrics:\n",
      "R2: 0.808\n",
      "Mean Absolute Error: 66378.232\n",
      "Mean Squared Error: 8252006865.147\n",
      "Root Mean Squared Error: 90840.557\n"
     ]
    }
   ],
   "source": [
    "get_train_test_metrics(y_train,train_preds,y_test,test_preds)"
   ]
  },
  {
   "cell_type": "code",
   "execution_count": 68,
   "metadata": {
    "ExecuteTime": {
     "end_time": "2022-03-31T07:36:58.008414Z",
     "start_time": "2022-03-31T07:36:57.993410Z"
    }
   },
   "outputs": [
    {
     "data": {
      "text/plain": [
       "0.20763555885714285"
      ]
     },
     "execution_count": 68,
     "metadata": {},
     "output_type": "execute_result"
    }
   ],
   "source": [
    "90840.557/df.price.median()"
   ]
  },
  {
   "cell_type": "code",
   "execution_count": 69,
   "metadata": {
    "ExecuteTime": {
     "end_time": "2022-03-31T07:36:58.024417Z",
     "start_time": "2022-03-31T07:36:58.009414Z"
    },
    "scrolled": false
   },
   "outputs": [
    {
     "data": {
      "text/plain": [
       "0.19056400690343123"
      ]
     },
     "execution_count": 69,
     "metadata": {},
     "output_type": "execute_result"
    }
   ],
   "source": [
    "90840.557/df.price.mean()"
   ]
  },
  {
   "cell_type": "markdown",
   "metadata": {
    "ExecuteTime": {
     "end_time": "2022-03-30T19:11:00.712904Z",
     "start_time": "2022-03-30T19:11:00.695909Z"
    }
   },
   "source": [
    "Roughly 20% error predicting prices when compared to median house price"
   ]
  },
  {
   "cell_type": "markdown",
   "metadata": {},
   "source": [
    "### OLS Summary"
   ]
  },
  {
   "cell_type": "code",
   "execution_count": 70,
   "metadata": {
    "ExecuteTime": {
     "end_time": "2022-03-31T07:36:58.200457Z",
     "start_time": "2022-03-31T07:36:58.026418Z"
    },
    "scrolled": true
   },
   "outputs": [
    {
     "data": {
      "text/html": [
       "<table class=\"simpletable\">\n",
       "<caption>OLS Regression Results</caption>\n",
       "<tr>\n",
       "  <th>Dep. Variable:</th>          <td>price</td>      <th>  R-squared:         </th>  <td>   0.807</td>  \n",
       "</tr>\n",
       "<tr>\n",
       "  <th>Model:</th>                   <td>OLS</td>       <th>  Adj. R-squared:    </th>  <td>   0.805</td>  \n",
       "</tr>\n",
       "<tr>\n",
       "  <th>Method:</th>             <td>Least Squares</td>  <th>  F-statistic:       </th>  <td>   687.3</td>  \n",
       "</tr>\n",
       "<tr>\n",
       "  <th>Date:</th>             <td>Thu, 31 Mar 2022</td> <th>  Prob (F-statistic):</th>   <td>  0.00</td>   \n",
       "</tr>\n",
       "<tr>\n",
       "  <th>Time:</th>                 <td>02:36:58</td>     <th>  Log-Likelihood:    </th> <td>-1.8321e+05</td>\n",
       "</tr>\n",
       "<tr>\n",
       "  <th>No. Observations:</th>      <td> 14265</td>      <th>  AIC:               </th>  <td>3.666e+05</td> \n",
       "</tr>\n",
       "<tr>\n",
       "  <th>Df Residuals:</th>          <td> 14178</td>      <th>  BIC:               </th>  <td>3.673e+05</td> \n",
       "</tr>\n",
       "<tr>\n",
       "  <th>Df Model:</th>              <td>    86</td>      <th>                     </th>      <td> </td>     \n",
       "</tr>\n",
       "<tr>\n",
       "  <th>Covariance Type:</th>      <td>nonrobust</td>    <th>                     </th>      <td> </td>     \n",
       "</tr>\n",
       "</table>\n",
       "<table class=\"simpletable\">\n",
       "<tr>\n",
       "              <td></td>                <th>coef</th>     <th>std err</th>      <th>t</th>      <th>P>|t|</th>  <th>[0.025</th>    <th>0.975]</th>  \n",
       "</tr>\n",
       "<tr>\n",
       "  <th>const</th>                    <td> 2.786e+04</td> <td>  1.1e+04</td> <td>    2.536</td> <td> 0.011</td> <td> 6329.832</td> <td> 4.94e+04</td>\n",
       "</tr>\n",
       "<tr>\n",
       "  <th>num__bathrooms</th>           <td> 6.796e+04</td> <td> 1.16e+04</td> <td>    5.871</td> <td> 0.000</td> <td> 4.53e+04</td> <td> 9.07e+04</td>\n",
       "</tr>\n",
       "<tr>\n",
       "  <th>num__sqft_living</th>         <td> 8.882e+05</td> <td> 1.41e+04</td> <td>   62.994</td> <td> 0.000</td> <td> 8.61e+05</td> <td> 9.16e+05</td>\n",
       "</tr>\n",
       "<tr>\n",
       "  <th>num__sqft_living15</th>       <td> 2.876e+05</td> <td> 1.05e+04</td> <td>   27.455</td> <td> 0.000</td> <td> 2.67e+05</td> <td> 3.08e+05</td>\n",
       "</tr>\n",
       "<tr>\n",
       "  <th>cat__zipcode_98002</th>       <td> 1.058e+04</td> <td> 9693.944</td> <td>    1.091</td> <td> 0.275</td> <td>-8422.665</td> <td> 2.96e+04</td>\n",
       "</tr>\n",
       "<tr>\n",
       "  <th>cat__zipcode_98003</th>       <td>-1869.8699</td> <td> 8711.816</td> <td>   -0.215</td> <td> 0.830</td> <td>-1.89e+04</td> <td> 1.52e+04</td>\n",
       "</tr>\n",
       "<tr>\n",
       "  <th>cat__zipcode_98004</th>       <td>  5.11e+05</td> <td> 1.04e+04</td> <td>   49.232</td> <td> 0.000</td> <td> 4.91e+05</td> <td> 5.31e+05</td>\n",
       "</tr>\n",
       "<tr>\n",
       "  <th>cat__zipcode_98005</th>       <td> 3.414e+05</td> <td>  1.1e+04</td> <td>   30.928</td> <td> 0.000</td> <td>  3.2e+05</td> <td> 3.63e+05</td>\n",
       "</tr>\n",
       "<tr>\n",
       "  <th>cat__zipcode_98006</th>       <td> 2.818e+05</td> <td> 8139.612</td> <td>   34.618</td> <td> 0.000</td> <td> 2.66e+05</td> <td> 2.98e+05</td>\n",
       "</tr>\n",
       "<tr>\n",
       "  <th>cat__zipcode_98007</th>       <td>  2.76e+05</td> <td> 1.12e+04</td> <td>   24.629</td> <td> 0.000</td> <td> 2.54e+05</td> <td> 2.98e+05</td>\n",
       "</tr>\n",
       "<tr>\n",
       "  <th>cat__zipcode_98008</th>       <td> 2.478e+05</td> <td> 9104.398</td> <td>   27.218</td> <td> 0.000</td> <td>  2.3e+05</td> <td> 2.66e+05</td>\n",
       "</tr>\n",
       "<tr>\n",
       "  <th>cat__zipcode_98010</th>       <td> 9.386e+04</td> <td> 1.22e+04</td> <td>    7.668</td> <td> 0.000</td> <td> 6.99e+04</td> <td> 1.18e+05</td>\n",
       "</tr>\n",
       "<tr>\n",
       "  <th>cat__zipcode_98011</th>       <td> 1.458e+05</td> <td> 9806.379</td> <td>   14.872</td> <td> 0.000</td> <td> 1.27e+05</td> <td> 1.65e+05</td>\n",
       "</tr>\n",
       "<tr>\n",
       "  <th>cat__zipcode_98014</th>       <td> 1.331e+05</td> <td> 1.12e+04</td> <td>   11.845</td> <td> 0.000</td> <td> 1.11e+05</td> <td> 1.55e+05</td>\n",
       "</tr>\n",
       "<tr>\n",
       "  <th>cat__zipcode_98019</th>       <td> 9.746e+04</td> <td> 9730.203</td> <td>   10.017</td> <td> 0.000</td> <td> 7.84e+04</td> <td> 1.17e+05</td>\n",
       "</tr>\n",
       "<tr>\n",
       "  <th>cat__zipcode_98022</th>       <td> 2.517e+04</td> <td> 9346.277</td> <td>    2.693</td> <td> 0.007</td> <td> 6852.468</td> <td> 4.35e+04</td>\n",
       "</tr>\n",
       "<tr>\n",
       "  <th>cat__zipcode_98023</th>       <td>-1.719e+04</td> <td> 7596.613</td> <td>   -2.263</td> <td> 0.024</td> <td>-3.21e+04</td> <td>-2298.460</td>\n",
       "</tr>\n",
       "<tr>\n",
       "  <th>cat__zipcode_98024</th>       <td> 1.841e+05</td> <td> 1.45e+04</td> <td>   12.704</td> <td> 0.000</td> <td> 1.56e+05</td> <td> 2.13e+05</td>\n",
       "</tr>\n",
       "<tr>\n",
       "  <th>cat__zipcode_98027</th>       <td> 1.993e+05</td> <td> 8172.720</td> <td>   24.392</td> <td> 0.000</td> <td> 1.83e+05</td> <td> 2.15e+05</td>\n",
       "</tr>\n",
       "<tr>\n",
       "  <th>cat__zipcode_98028</th>       <td> 1.338e+05</td> <td> 8691.693</td> <td>   15.393</td> <td> 0.000</td> <td> 1.17e+05</td> <td> 1.51e+05</td>\n",
       "</tr>\n",
       "<tr>\n",
       "  <th>cat__zipcode_98029</th>       <td> 2.457e+05</td> <td> 8452.424</td> <td>   29.074</td> <td> 0.000</td> <td> 2.29e+05</td> <td> 2.62e+05</td>\n",
       "</tr>\n",
       "<tr>\n",
       "  <th>cat__zipcode_98030</th>       <td> 1319.6180</td> <td> 8967.423</td> <td>    0.147</td> <td> 0.883</td> <td>-1.63e+04</td> <td> 1.89e+04</td>\n",
       "</tr>\n",
       "<tr>\n",
       "  <th>cat__zipcode_98031</th>       <td>  1.15e+04</td> <td> 9015.407</td> <td>    1.275</td> <td> 0.202</td> <td>-6174.390</td> <td> 2.92e+04</td>\n",
       "</tr>\n",
       "<tr>\n",
       "  <th>cat__zipcode_98032</th>       <td> 5259.9864</td> <td> 1.13e+04</td> <td>    0.465</td> <td> 0.642</td> <td>-1.69e+04</td> <td> 2.74e+04</td>\n",
       "</tr>\n",
       "<tr>\n",
       "  <th>cat__zipcode_98033</th>       <td> 3.274e+05</td> <td> 8187.544</td> <td>   39.993</td> <td> 0.000</td> <td> 3.11e+05</td> <td> 3.43e+05</td>\n",
       "</tr>\n",
       "<tr>\n",
       "  <th>cat__zipcode_98034</th>       <td> 1.907e+05</td> <td> 7560.899</td> <td>   25.223</td> <td> 0.000</td> <td> 1.76e+05</td> <td> 2.06e+05</td>\n",
       "</tr>\n",
       "<tr>\n",
       "  <th>cat__zipcode_98038</th>       <td>   3.8e+04</td> <td> 7401.443</td> <td>    5.134</td> <td> 0.000</td> <td> 2.35e+04</td> <td> 5.25e+04</td>\n",
       "</tr>\n",
       "<tr>\n",
       "  <th>cat__zipcode_98039</th>       <td> 6.526e+05</td> <td> 5.34e+04</td> <td>   12.226</td> <td> 0.000</td> <td> 5.48e+05</td> <td> 7.57e+05</td>\n",
       "</tr>\n",
       "<tr>\n",
       "  <th>cat__zipcode_98040</th>       <td> 4.263e+05</td> <td> 1.04e+04</td> <td>   41.008</td> <td> 0.000</td> <td> 4.06e+05</td> <td> 4.47e+05</td>\n",
       "</tr>\n",
       "<tr>\n",
       "  <th>cat__zipcode_98042</th>       <td> 1.111e+04</td> <td> 7443.886</td> <td>    1.492</td> <td> 0.136</td> <td>-3481.883</td> <td> 2.57e+04</td>\n",
       "</tr>\n",
       "<tr>\n",
       "  <th>cat__zipcode_98045</th>       <td> 1.297e+05</td> <td> 9400.298</td> <td>   13.800</td> <td> 0.000</td> <td> 1.11e+05</td> <td> 1.48e+05</td>\n",
       "</tr>\n",
       "<tr>\n",
       "  <th>cat__zipcode_98052</th>       <td> 2.694e+05</td> <td> 7500.459</td> <td>   35.922</td> <td> 0.000</td> <td> 2.55e+05</td> <td> 2.84e+05</td>\n",
       "</tr>\n",
       "<tr>\n",
       "  <th>cat__zipcode_98053</th>       <td> 2.551e+05</td> <td> 8202.746</td> <td>   31.100</td> <td> 0.000</td> <td> 2.39e+05</td> <td> 2.71e+05</td>\n",
       "</tr>\n",
       "<tr>\n",
       "  <th>cat__zipcode_98055</th>       <td> 4.379e+04</td> <td> 8877.677</td> <td>    4.933</td> <td> 0.000</td> <td> 2.64e+04</td> <td> 6.12e+04</td>\n",
       "</tr>\n",
       "<tr>\n",
       "  <th>cat__zipcode_98056</th>       <td> 9.807e+04</td> <td> 8024.888</td> <td>   12.221</td> <td> 0.000</td> <td> 8.23e+04</td> <td> 1.14e+05</td>\n",
       "</tr>\n",
       "<tr>\n",
       "  <th>cat__zipcode_98058</th>       <td> 4.842e+04</td> <td> 7871.917</td> <td>    6.151</td> <td> 0.000</td> <td>  3.3e+04</td> <td> 6.39e+04</td>\n",
       "</tr>\n",
       "<tr>\n",
       "  <th>cat__zipcode_98059</th>       <td> 1.117e+05</td> <td> 7824.239</td> <td>   14.280</td> <td> 0.000</td> <td> 9.64e+04</td> <td> 1.27e+05</td>\n",
       "</tr>\n",
       "<tr>\n",
       "  <th>cat__zipcode_98065</th>       <td> 1.098e+05</td> <td> 8843.915</td> <td>   12.414</td> <td> 0.000</td> <td> 9.24e+04</td> <td> 1.27e+05</td>\n",
       "</tr>\n",
       "<tr>\n",
       "  <th>cat__zipcode_98070</th>       <td> 1.612e+05</td> <td> 1.17e+04</td> <td>   13.719</td> <td> 0.000</td> <td> 1.38e+05</td> <td> 1.84e+05</td>\n",
       "</tr>\n",
       "<tr>\n",
       "  <th>cat__zipcode_98072</th>       <td> 1.912e+05</td> <td> 9022.161</td> <td>   21.191</td> <td> 0.000</td> <td> 1.74e+05</td> <td> 2.09e+05</td>\n",
       "</tr>\n",
       "<tr>\n",
       "  <th>cat__zipcode_98074</th>       <td> 2.453e+05</td> <td> 7983.891</td> <td>   30.724</td> <td> 0.000</td> <td>  2.3e+05</td> <td> 2.61e+05</td>\n",
       "</tr>\n",
       "<tr>\n",
       "  <th>cat__zipcode_98075</th>       <td>  2.55e+05</td> <td> 8568.751</td> <td>   29.756</td> <td> 0.000</td> <td> 2.38e+05</td> <td> 2.72e+05</td>\n",
       "</tr>\n",
       "<tr>\n",
       "  <th>cat__zipcode_98077</th>       <td> 2.049e+05</td> <td> 9999.404</td> <td>   20.487</td> <td> 0.000</td> <td> 1.85e+05</td> <td> 2.24e+05</td>\n",
       "</tr>\n",
       "<tr>\n",
       "  <th>cat__zipcode_98092</th>       <td>-3333.8333</td> <td> 8170.645</td> <td>   -0.408</td> <td> 0.683</td> <td>-1.93e+04</td> <td> 1.27e+04</td>\n",
       "</tr>\n",
       "<tr>\n",
       "  <th>cat__zipcode_98102</th>       <td> 4.211e+05</td> <td> 1.31e+04</td> <td>   32.021</td> <td> 0.000</td> <td> 3.95e+05</td> <td> 4.47e+05</td>\n",
       "</tr>\n",
       "<tr>\n",
       "  <th>cat__zipcode_98103</th>       <td> 3.345e+05</td> <td> 7392.851</td> <td>   45.247</td> <td> 0.000</td> <td>  3.2e+05</td> <td> 3.49e+05</td>\n",
       "</tr>\n",
       "<tr>\n",
       "  <th>cat__zipcode_98105</th>       <td>  3.95e+05</td> <td> 1.04e+04</td> <td>   38.123</td> <td> 0.000</td> <td> 3.75e+05</td> <td> 4.15e+05</td>\n",
       "</tr>\n",
       "<tr>\n",
       "  <th>cat__zipcode_98106</th>       <td>  1.21e+05</td> <td> 8478.567</td> <td>   14.268</td> <td> 0.000</td> <td> 1.04e+05</td> <td> 1.38e+05</td>\n",
       "</tr>\n",
       "<tr>\n",
       "  <th>cat__zipcode_98107</th>       <td>  3.32e+05</td> <td> 9092.618</td> <td>   36.510</td> <td> 0.000</td> <td> 3.14e+05</td> <td>  3.5e+05</td>\n",
       "</tr>\n",
       "<tr>\n",
       "  <th>cat__zipcode_98108</th>       <td> 1.154e+05</td> <td> 9645.410</td> <td>   11.963</td> <td> 0.000</td> <td> 9.65e+04</td> <td> 1.34e+05</td>\n",
       "</tr>\n",
       "<tr>\n",
       "  <th>cat__zipcode_98109</th>       <td>  4.48e+05</td> <td> 1.36e+04</td> <td>   32.923</td> <td> 0.000</td> <td> 4.21e+05</td> <td> 4.75e+05</td>\n",
       "</tr>\n",
       "<tr>\n",
       "  <th>cat__zipcode_98112</th>       <td> 4.501e+05</td> <td> 1.01e+04</td> <td>   44.483</td> <td> 0.000</td> <td>  4.3e+05</td> <td>  4.7e+05</td>\n",
       "</tr>\n",
       "<tr>\n",
       "  <th>cat__zipcode_98115</th>       <td> 3.326e+05</td> <td> 7535.346</td> <td>   44.145</td> <td> 0.000</td> <td> 3.18e+05</td> <td> 3.47e+05</td>\n",
       "</tr>\n",
       "<tr>\n",
       "  <th>cat__zipcode_98116</th>       <td> 3.062e+05</td> <td> 8802.426</td> <td>   34.789</td> <td> 0.000</td> <td> 2.89e+05</td> <td> 3.23e+05</td>\n",
       "</tr>\n",
       "<tr>\n",
       "  <th>cat__zipcode_98117</th>       <td> 3.256e+05</td> <td> 7502.463</td> <td>   43.398</td> <td> 0.000</td> <td> 3.11e+05</td> <td>  3.4e+05</td>\n",
       "</tr>\n",
       "<tr>\n",
       "  <th>cat__zipcode_98118</th>       <td> 1.587e+05</td> <td> 7624.857</td> <td>   20.808</td> <td> 0.000</td> <td> 1.44e+05</td> <td> 1.74e+05</td>\n",
       "</tr>\n",
       "<tr>\n",
       "  <th>cat__zipcode_98119</th>       <td> 4.278e+05</td> <td> 1.03e+04</td> <td>   41.555</td> <td> 0.000</td> <td> 4.08e+05</td> <td> 4.48e+05</td>\n",
       "</tr>\n",
       "<tr>\n",
       "  <th>cat__zipcode_98122</th>       <td> 3.322e+05</td> <td> 8883.949</td> <td>   37.394</td> <td> 0.000</td> <td> 3.15e+05</td> <td>  3.5e+05</td>\n",
       "</tr>\n",
       "<tr>\n",
       "  <th>cat__zipcode_98125</th>       <td> 1.985e+05</td> <td> 8170.882</td> <td>   24.289</td> <td> 0.000</td> <td> 1.82e+05</td> <td> 2.14e+05</td>\n",
       "</tr>\n",
       "<tr>\n",
       "  <th>cat__zipcode_98126</th>       <td> 2.055e+05</td> <td> 8279.078</td> <td>   24.819</td> <td> 0.000</td> <td> 1.89e+05</td> <td> 2.22e+05</td>\n",
       "</tr>\n",
       "<tr>\n",
       "  <th>cat__zipcode_98133</th>       <td> 1.553e+05</td> <td> 7679.239</td> <td>   20.219</td> <td> 0.000</td> <td>  1.4e+05</td> <td>  1.7e+05</td>\n",
       "</tr>\n",
       "<tr>\n",
       "  <th>cat__zipcode_98136</th>       <td> 2.617e+05</td> <td> 9111.014</td> <td>   28.722</td> <td> 0.000</td> <td> 2.44e+05</td> <td>  2.8e+05</td>\n",
       "</tr>\n",
       "<tr>\n",
       "  <th>cat__zipcode_98144</th>       <td> 2.463e+05</td> <td> 8614.903</td> <td>   28.591</td> <td> 0.000</td> <td> 2.29e+05</td> <td> 2.63e+05</td>\n",
       "</tr>\n",
       "<tr>\n",
       "  <th>cat__zipcode_98146</th>       <td> 1.137e+05</td> <td> 8778.007</td> <td>   12.954</td> <td> 0.000</td> <td> 9.65e+04</td> <td> 1.31e+05</td>\n",
       "</tr>\n",
       "<tr>\n",
       "  <th>cat__zipcode_98148</th>       <td> 6.008e+04</td> <td> 1.54e+04</td> <td>    3.911</td> <td> 0.000</td> <td>    3e+04</td> <td> 9.02e+04</td>\n",
       "</tr>\n",
       "<tr>\n",
       "  <th>cat__zipcode_98155</th>       <td> 1.446e+05</td> <td> 7894.049</td> <td>   18.316</td> <td> 0.000</td> <td> 1.29e+05</td> <td>  1.6e+05</td>\n",
       "</tr>\n",
       "<tr>\n",
       "  <th>cat__zipcode_98166</th>       <td> 1.133e+05</td> <td> 9180.562</td> <td>   12.343</td> <td> 0.000</td> <td> 9.53e+04</td> <td> 1.31e+05</td>\n",
       "</tr>\n",
       "<tr>\n",
       "  <th>cat__zipcode_98168</th>       <td> 4.163e+04</td> <td> 8786.808</td> <td>    4.738</td> <td> 0.000</td> <td> 2.44e+04</td> <td> 5.89e+04</td>\n",
       "</tr>\n",
       "<tr>\n",
       "  <th>cat__zipcode_98177</th>       <td> 2.177e+05</td> <td> 9511.608</td> <td>   22.888</td> <td> 0.000</td> <td> 1.99e+05</td> <td> 2.36e+05</td>\n",
       "</tr>\n",
       "<tr>\n",
       "  <th>cat__zipcode_98178</th>       <td> 4.168e+04</td> <td> 9108.670</td> <td>    4.576</td> <td> 0.000</td> <td> 2.38e+04</td> <td> 5.95e+04</td>\n",
       "</tr>\n",
       "<tr>\n",
       "  <th>cat__zipcode_98188</th>       <td> 3.528e+04</td> <td>  1.1e+04</td> <td>    3.205</td> <td> 0.001</td> <td> 1.37e+04</td> <td> 5.69e+04</td>\n",
       "</tr>\n",
       "<tr>\n",
       "  <th>cat__zipcode_98198</th>       <td> 3.011e+04</td> <td> 8798.183</td> <td>    3.423</td> <td> 0.001</td> <td> 1.29e+04</td> <td> 4.74e+04</td>\n",
       "</tr>\n",
       "<tr>\n",
       "  <th>cat__zipcode_98199</th>       <td> 3.707e+05</td> <td> 8822.779</td> <td>   42.021</td> <td> 0.000</td> <td> 3.53e+05</td> <td> 3.88e+05</td>\n",
       "</tr>\n",
       "<tr>\n",
       "  <th>cat__condition_Fair</th>      <td>-2.734e+04</td> <td> 8421.503</td> <td>   -3.246</td> <td> 0.001</td> <td>-4.38e+04</td> <td>-1.08e+04</td>\n",
       "</tr>\n",
       "<tr>\n",
       "  <th>cat__condition_Good</th>      <td> 1.503e+04</td> <td> 1890.339</td> <td>    7.951</td> <td> 0.000</td> <td> 1.13e+04</td> <td> 1.87e+04</td>\n",
       "</tr>\n",
       "<tr>\n",
       "  <th>cat__condition_Poor</th>      <td>-9.346e+04</td> <td> 2.07e+04</td> <td>   -4.514</td> <td> 0.000</td> <td>-1.34e+05</td> <td>-5.29e+04</td>\n",
       "</tr>\n",
       "<tr>\n",
       "  <th>cat__condition_Very Good</th> <td> 4.504e+04</td> <td> 2997.250</td> <td>   15.026</td> <td> 0.000</td> <td> 3.92e+04</td> <td> 5.09e+04</td>\n",
       "</tr>\n",
       "<tr>\n",
       "  <th>cat__view_EXCELLENT</th>      <td> 1.409e+05</td> <td> 1.02e+04</td> <td>   13.849</td> <td> 0.000</td> <td> 1.21e+05</td> <td> 1.61e+05</td>\n",
       "</tr>\n",
       "<tr>\n",
       "  <th>cat__view_FAIR</th>           <td>-3040.3082</td> <td> 7631.555</td> <td>   -0.398</td> <td> 0.690</td> <td> -1.8e+04</td> <td> 1.19e+04</td>\n",
       "</tr>\n",
       "<tr>\n",
       "  <th>cat__view_GOOD</th>           <td> 3.692e+04</td> <td> 7028.203</td> <td>    5.253</td> <td> 0.000</td> <td> 2.31e+04</td> <td> 5.07e+04</td>\n",
       "</tr>\n",
       "<tr>\n",
       "  <th>cat__view_NONE</th>           <td>-5.362e+04</td> <td> 4153.663</td> <td>  -12.908</td> <td> 0.000</td> <td>-6.18e+04</td> <td>-4.55e+04</td>\n",
       "</tr>\n",
       "<tr>\n",
       "  <th>cat__bedrooms_bin_2BR</th>    <td> 1.314e+04</td> <td> 8147.106</td> <td>    1.613</td> <td> 0.107</td> <td>-2825.651</td> <td> 2.91e+04</td>\n",
       "</tr>\n",
       "<tr>\n",
       "  <th>cat__bedrooms_bin_3BR</th>    <td> 1.404e+04</td> <td> 8070.725</td> <td>    1.740</td> <td> 0.082</td> <td>-1778.939</td> <td> 2.99e+04</td>\n",
       "</tr>\n",
       "<tr>\n",
       "  <th>cat__bedrooms_bin_4BR</th>    <td> 7334.5219</td> <td> 8280.770</td> <td>    0.886</td> <td> 0.376</td> <td>-8896.876</td> <td> 2.36e+04</td>\n",
       "</tr>\n",
       "<tr>\n",
       "  <th>cat__bedrooms_bin_5BR</th>    <td>-2.026e+04</td> <td> 8855.585</td> <td>   -2.287</td> <td> 0.022</td> <td>-3.76e+04</td> <td>-2897.847</td>\n",
       "</tr>\n",
       "<tr>\n",
       "  <th>cat__bedrooms_bin_6BR</th>    <td>-4.438e+04</td> <td> 1.13e+04</td> <td>   -3.927</td> <td> 0.000</td> <td>-6.65e+04</td> <td>-2.22e+04</td>\n",
       "</tr>\n",
       "<tr>\n",
       "  <th>cat__bedrooms_bin_7+BR</th>   <td>-9.084e+04</td> <td> 1.82e+04</td> <td>   -5.001</td> <td> 0.000</td> <td>-1.26e+05</td> <td>-5.52e+04</td>\n",
       "</tr>\n",
       "</table>\n",
       "<table class=\"simpletable\">\n",
       "<tr>\n",
       "  <th>Omnibus:</th>       <td>1543.026</td> <th>  Durbin-Watson:     </th> <td>   2.018</td>\n",
       "</tr>\n",
       "<tr>\n",
       "  <th>Prob(Omnibus):</th>  <td> 0.000</td>  <th>  Jarque-Bera (JB):  </th> <td>5060.246</td>\n",
       "</tr>\n",
       "<tr>\n",
       "  <th>Skew:</th>           <td> 0.550</td>  <th>  Prob(JB):          </th> <td>    0.00</td>\n",
       "</tr>\n",
       "<tr>\n",
       "  <th>Kurtosis:</th>       <td> 5.702</td>  <th>  Cond. No.          </th> <td>    113.</td>\n",
       "</tr>\n",
       "</table><br/><br/>Notes:<br/>[1] Standard Errors assume that the covariance matrix of the errors is correctly specified."
      ],
      "text/plain": [
       "<class 'statsmodels.iolib.summary.Summary'>\n",
       "\"\"\"\n",
       "                            OLS Regression Results                            \n",
       "==============================================================================\n",
       "Dep. Variable:                  price   R-squared:                       0.807\n",
       "Model:                            OLS   Adj. R-squared:                  0.805\n",
       "Method:                 Least Squares   F-statistic:                     687.3\n",
       "Date:                Thu, 31 Mar 2022   Prob (F-statistic):               0.00\n",
       "Time:                        02:36:58   Log-Likelihood:            -1.8321e+05\n",
       "No. Observations:               14265   AIC:                         3.666e+05\n",
       "Df Residuals:                   14178   BIC:                         3.673e+05\n",
       "Df Model:                          86                                         \n",
       "Covariance Type:            nonrobust                                         \n",
       "============================================================================================\n",
       "                               coef    std err          t      P>|t|      [0.025      0.975]\n",
       "--------------------------------------------------------------------------------------------\n",
       "const                     2.786e+04    1.1e+04      2.536      0.011    6329.832    4.94e+04\n",
       "num__bathrooms            6.796e+04   1.16e+04      5.871      0.000    4.53e+04    9.07e+04\n",
       "num__sqft_living          8.882e+05   1.41e+04     62.994      0.000    8.61e+05    9.16e+05\n",
       "num__sqft_living15        2.876e+05   1.05e+04     27.455      0.000    2.67e+05    3.08e+05\n",
       "cat__zipcode_98002        1.058e+04   9693.944      1.091      0.275   -8422.665    2.96e+04\n",
       "cat__zipcode_98003       -1869.8699   8711.816     -0.215      0.830   -1.89e+04    1.52e+04\n",
       "cat__zipcode_98004         5.11e+05   1.04e+04     49.232      0.000    4.91e+05    5.31e+05\n",
       "cat__zipcode_98005        3.414e+05    1.1e+04     30.928      0.000     3.2e+05    3.63e+05\n",
       "cat__zipcode_98006        2.818e+05   8139.612     34.618      0.000    2.66e+05    2.98e+05\n",
       "cat__zipcode_98007         2.76e+05   1.12e+04     24.629      0.000    2.54e+05    2.98e+05\n",
       "cat__zipcode_98008        2.478e+05   9104.398     27.218      0.000     2.3e+05    2.66e+05\n",
       "cat__zipcode_98010        9.386e+04   1.22e+04      7.668      0.000    6.99e+04    1.18e+05\n",
       "cat__zipcode_98011        1.458e+05   9806.379     14.872      0.000    1.27e+05    1.65e+05\n",
       "cat__zipcode_98014        1.331e+05   1.12e+04     11.845      0.000    1.11e+05    1.55e+05\n",
       "cat__zipcode_98019        9.746e+04   9730.203     10.017      0.000    7.84e+04    1.17e+05\n",
       "cat__zipcode_98022        2.517e+04   9346.277      2.693      0.007    6852.468    4.35e+04\n",
       "cat__zipcode_98023       -1.719e+04   7596.613     -2.263      0.024   -3.21e+04   -2298.460\n",
       "cat__zipcode_98024        1.841e+05   1.45e+04     12.704      0.000    1.56e+05    2.13e+05\n",
       "cat__zipcode_98027        1.993e+05   8172.720     24.392      0.000    1.83e+05    2.15e+05\n",
       "cat__zipcode_98028        1.338e+05   8691.693     15.393      0.000    1.17e+05    1.51e+05\n",
       "cat__zipcode_98029        2.457e+05   8452.424     29.074      0.000    2.29e+05    2.62e+05\n",
       "cat__zipcode_98030        1319.6180   8967.423      0.147      0.883   -1.63e+04    1.89e+04\n",
       "cat__zipcode_98031         1.15e+04   9015.407      1.275      0.202   -6174.390    2.92e+04\n",
       "cat__zipcode_98032        5259.9864   1.13e+04      0.465      0.642   -1.69e+04    2.74e+04\n",
       "cat__zipcode_98033        3.274e+05   8187.544     39.993      0.000    3.11e+05    3.43e+05\n",
       "cat__zipcode_98034        1.907e+05   7560.899     25.223      0.000    1.76e+05    2.06e+05\n",
       "cat__zipcode_98038          3.8e+04   7401.443      5.134      0.000    2.35e+04    5.25e+04\n",
       "cat__zipcode_98039        6.526e+05   5.34e+04     12.226      0.000    5.48e+05    7.57e+05\n",
       "cat__zipcode_98040        4.263e+05   1.04e+04     41.008      0.000    4.06e+05    4.47e+05\n",
       "cat__zipcode_98042        1.111e+04   7443.886      1.492      0.136   -3481.883    2.57e+04\n",
       "cat__zipcode_98045        1.297e+05   9400.298     13.800      0.000    1.11e+05    1.48e+05\n",
       "cat__zipcode_98052        2.694e+05   7500.459     35.922      0.000    2.55e+05    2.84e+05\n",
       "cat__zipcode_98053        2.551e+05   8202.746     31.100      0.000    2.39e+05    2.71e+05\n",
       "cat__zipcode_98055        4.379e+04   8877.677      4.933      0.000    2.64e+04    6.12e+04\n",
       "cat__zipcode_98056        9.807e+04   8024.888     12.221      0.000    8.23e+04    1.14e+05\n",
       "cat__zipcode_98058        4.842e+04   7871.917      6.151      0.000     3.3e+04    6.39e+04\n",
       "cat__zipcode_98059        1.117e+05   7824.239     14.280      0.000    9.64e+04    1.27e+05\n",
       "cat__zipcode_98065        1.098e+05   8843.915     12.414      0.000    9.24e+04    1.27e+05\n",
       "cat__zipcode_98070        1.612e+05   1.17e+04     13.719      0.000    1.38e+05    1.84e+05\n",
       "cat__zipcode_98072        1.912e+05   9022.161     21.191      0.000    1.74e+05    2.09e+05\n",
       "cat__zipcode_98074        2.453e+05   7983.891     30.724      0.000     2.3e+05    2.61e+05\n",
       "cat__zipcode_98075         2.55e+05   8568.751     29.756      0.000    2.38e+05    2.72e+05\n",
       "cat__zipcode_98077        2.049e+05   9999.404     20.487      0.000    1.85e+05    2.24e+05\n",
       "cat__zipcode_98092       -3333.8333   8170.645     -0.408      0.683   -1.93e+04    1.27e+04\n",
       "cat__zipcode_98102        4.211e+05   1.31e+04     32.021      0.000    3.95e+05    4.47e+05\n",
       "cat__zipcode_98103        3.345e+05   7392.851     45.247      0.000     3.2e+05    3.49e+05\n",
       "cat__zipcode_98105         3.95e+05   1.04e+04     38.123      0.000    3.75e+05    4.15e+05\n",
       "cat__zipcode_98106         1.21e+05   8478.567     14.268      0.000    1.04e+05    1.38e+05\n",
       "cat__zipcode_98107         3.32e+05   9092.618     36.510      0.000    3.14e+05     3.5e+05\n",
       "cat__zipcode_98108        1.154e+05   9645.410     11.963      0.000    9.65e+04    1.34e+05\n",
       "cat__zipcode_98109         4.48e+05   1.36e+04     32.923      0.000    4.21e+05    4.75e+05\n",
       "cat__zipcode_98112        4.501e+05   1.01e+04     44.483      0.000     4.3e+05     4.7e+05\n",
       "cat__zipcode_98115        3.326e+05   7535.346     44.145      0.000    3.18e+05    3.47e+05\n",
       "cat__zipcode_98116        3.062e+05   8802.426     34.789      0.000    2.89e+05    3.23e+05\n",
       "cat__zipcode_98117        3.256e+05   7502.463     43.398      0.000    3.11e+05     3.4e+05\n",
       "cat__zipcode_98118        1.587e+05   7624.857     20.808      0.000    1.44e+05    1.74e+05\n",
       "cat__zipcode_98119        4.278e+05   1.03e+04     41.555      0.000    4.08e+05    4.48e+05\n",
       "cat__zipcode_98122        3.322e+05   8883.949     37.394      0.000    3.15e+05     3.5e+05\n",
       "cat__zipcode_98125        1.985e+05   8170.882     24.289      0.000    1.82e+05    2.14e+05\n",
       "cat__zipcode_98126        2.055e+05   8279.078     24.819      0.000    1.89e+05    2.22e+05\n",
       "cat__zipcode_98133        1.553e+05   7679.239     20.219      0.000     1.4e+05     1.7e+05\n",
       "cat__zipcode_98136        2.617e+05   9111.014     28.722      0.000    2.44e+05     2.8e+05\n",
       "cat__zipcode_98144        2.463e+05   8614.903     28.591      0.000    2.29e+05    2.63e+05\n",
       "cat__zipcode_98146        1.137e+05   8778.007     12.954      0.000    9.65e+04    1.31e+05\n",
       "cat__zipcode_98148        6.008e+04   1.54e+04      3.911      0.000       3e+04    9.02e+04\n",
       "cat__zipcode_98155        1.446e+05   7894.049     18.316      0.000    1.29e+05     1.6e+05\n",
       "cat__zipcode_98166        1.133e+05   9180.562     12.343      0.000    9.53e+04    1.31e+05\n",
       "cat__zipcode_98168        4.163e+04   8786.808      4.738      0.000    2.44e+04    5.89e+04\n",
       "cat__zipcode_98177        2.177e+05   9511.608     22.888      0.000    1.99e+05    2.36e+05\n",
       "cat__zipcode_98178        4.168e+04   9108.670      4.576      0.000    2.38e+04    5.95e+04\n",
       "cat__zipcode_98188        3.528e+04    1.1e+04      3.205      0.001    1.37e+04    5.69e+04\n",
       "cat__zipcode_98198        3.011e+04   8798.183      3.423      0.001    1.29e+04    4.74e+04\n",
       "cat__zipcode_98199        3.707e+05   8822.779     42.021      0.000    3.53e+05    3.88e+05\n",
       "cat__condition_Fair      -2.734e+04   8421.503     -3.246      0.001   -4.38e+04   -1.08e+04\n",
       "cat__condition_Good       1.503e+04   1890.339      7.951      0.000    1.13e+04    1.87e+04\n",
       "cat__condition_Poor      -9.346e+04   2.07e+04     -4.514      0.000   -1.34e+05   -5.29e+04\n",
       "cat__condition_Very Good  4.504e+04   2997.250     15.026      0.000    3.92e+04    5.09e+04\n",
       "cat__view_EXCELLENT       1.409e+05   1.02e+04     13.849      0.000    1.21e+05    1.61e+05\n",
       "cat__view_FAIR           -3040.3082   7631.555     -0.398      0.690    -1.8e+04    1.19e+04\n",
       "cat__view_GOOD            3.692e+04   7028.203      5.253      0.000    2.31e+04    5.07e+04\n",
       "cat__view_NONE           -5.362e+04   4153.663    -12.908      0.000   -6.18e+04   -4.55e+04\n",
       "cat__bedrooms_bin_2BR     1.314e+04   8147.106      1.613      0.107   -2825.651    2.91e+04\n",
       "cat__bedrooms_bin_3BR     1.404e+04   8070.725      1.740      0.082   -1778.939    2.99e+04\n",
       "cat__bedrooms_bin_4BR     7334.5219   8280.770      0.886      0.376   -8896.876    2.36e+04\n",
       "cat__bedrooms_bin_5BR    -2.026e+04   8855.585     -2.287      0.022   -3.76e+04   -2897.847\n",
       "cat__bedrooms_bin_6BR    -4.438e+04   1.13e+04     -3.927      0.000   -6.65e+04   -2.22e+04\n",
       "cat__bedrooms_bin_7+BR   -9.084e+04   1.82e+04     -5.001      0.000   -1.26e+05   -5.52e+04\n",
       "==============================================================================\n",
       "Omnibus:                     1543.026   Durbin-Watson:                   2.018\n",
       "Prob(Omnibus):                  0.000   Jarque-Bera (JB):             5060.246\n",
       "Skew:                           0.550   Prob(JB):                         0.00\n",
       "Kurtosis:                       5.702   Cond. No.                         113.\n",
       "==============================================================================\n",
       "\n",
       "Notes:\n",
       "[1] Standard Errors assume that the covariance matrix of the errors is correctly specified.\n",
       "\"\"\""
      ]
     },
     "execution_count": 70,
     "metadata": {},
     "output_type": "execute_result"
    }
   ],
   "source": [
    "#Just to get summary\n",
    "model = sm.OLS(endog=y_train, exog=sm.add_constant(X_train_xformed)).fit()\n",
    "model.summary()"
   ]
  },
  {
   "cell_type": "markdown",
   "metadata": {},
   "source": [
    "Makes intuitive sense. Some zip codes have a much higher impact on prices. pricier neighborhoods"
   ]
  },
  {
   "cell_type": "code",
   "execution_count": 71,
   "metadata": {
    "ExecuteTime": {
     "end_time": "2022-03-31T07:36:58.216461Z",
     "start_time": "2022-03-31T07:36:58.201458Z"
    },
    "scrolled": false
   },
   "outputs": [
    {
     "data": {
      "text/plain": [
       "const                      27860.795472\n",
       "num__bathrooms             67963.064185\n",
       "num__sqft_living          888157.553427\n",
       "num__sqft_living15        287613.126738\n",
       "cat__zipcode_98002         10578.738217\n",
       "                              ...      \n",
       "cat__bedrooms_bin_3BR      14040.741392\n",
       "cat__bedrooms_bin_4BR       7334.521887\n",
       "cat__bedrooms_bin_5BR     -20255.955927\n",
       "cat__bedrooms_bin_6BR     -44380.273211\n",
       "cat__bedrooms_bin_7+BR    -90837.263538\n",
       "Length: 87, dtype: float64"
      ]
     },
     "execution_count": 71,
     "metadata": {},
     "output_type": "execute_result"
    }
   ],
   "source": [
    "model.params"
   ]
  },
  {
   "cell_type": "code",
   "execution_count": 72,
   "metadata": {
    "ExecuteTime": {
     "end_time": "2022-03-31T07:36:58.965630Z",
     "start_time": "2022-03-31T07:36:58.217462Z"
    },
    "scrolled": false
   },
   "outputs": [
    {
     "data": {
      "image/png": "[encoded data removed]",
      "text/plain": [
       "<Figure size 576x396 with 2 Axes>"
      ]
     },
     "metadata": {},
     "output_type": "display_data"
    }
   ],
   "source": [
    "# visualizing our residuals \n",
    "# https://www.scikit-yb.org/en/latest/api/regressor/residuals.html\n",
    "lr = LinearRegression()\n",
    "visualizer = ResidualsPlot(lr)\n",
    "\n",
    "visualizer.fit(X_train_xformed, y_train)  # Fit the training data to the visualizer\n",
    "visualizer.score(X_test_xformed, y_test)  # Evaluate the model on the test data\n",
    "visualizer.show()  \n",
    "plt.show()"
   ]
  },
  {
   "cell_type": "code",
   "execution_count": 73,
   "metadata": {
    "ExecuteTime": {
     "end_time": "2022-03-31T07:36:59.093662Z",
     "start_time": "2022-03-31T07:36:58.966631Z"
    },
    "scrolled": false
   },
   "outputs": [
    {
     "data": {
      "image/png": "[encoded data removed]",
      "text/plain": [
       "<Figure size 576x396 with 1 Axes>"
      ]
     },
     "metadata": {},
     "output_type": "display_data"
    }
   ],
   "source": [
    "sm.qqplot(y_train-train_preds, line = 'r');"
   ]
  },
  {
   "cell_type": "code",
   "execution_count": null,
   "metadata": {},
   "outputs": [],
   "source": []
  },
  {
   "cell_type": "code",
   "execution_count": null,
   "metadata": {},
   "outputs": [],
   "source": []
  },
  {
   "cell_type": "markdown",
   "metadata": {},
   "source": [
    "## LOG (Price)"
   ]
  },
  {
   "cell_type": "code",
   "execution_count": 74,
   "metadata": {
    "ExecuteTime": {
     "end_time": "2022-03-31T07:36:59.410733Z",
     "start_time": "2022-03-31T07:36:59.094662Z"
    },
    "scrolled": false
   },
   "outputs": [
    {
     "data": {
      "image/png": "[encoded data removed]",
      "text/plain": [
       "<Figure size 576x396 with 1 Axes>"
      ]
     },
     "metadata": {},
     "output_type": "display_data"
    }
   ],
   "source": [
    "plt.hist(y_train,bins = 50)\n",
    "plt.hist(y_test,bins = 50);"
   ]
  },
  {
   "cell_type": "code",
   "execution_count": 75,
   "metadata": {
    "ExecuteTime": {
     "end_time": "2022-03-31T07:36:59.658788Z",
     "start_time": "2022-03-31T07:36:59.411733Z"
    },
    "scrolled": true
   },
   "outputs": [
    {
     "data": {
      "image/png": "[encoded data removed]",
      "text/plain": [
       "<Figure size 576x396 with 1 Axes>"
      ]
     },
     "metadata": {},
     "output_type": "display_data"
    }
   ],
   "source": [
    "plt.hist(np.log(y_train),bins = 50)\n",
    "plt.hist(np.log(y_test),bins = 50);"
   ]
  },
  {
   "cell_type": "code",
   "execution_count": 76,
   "metadata": {
    "ExecuteTime": {
     "end_time": "2022-03-31T07:36:59.802823Z",
     "start_time": "2022-03-31T07:36:59.659789Z"
    },
    "scrolled": true
   },
   "outputs": [
    {
     "name": "stdout",
     "output_type": "stream",
     "text": [
      "Categorical columns: ['zipcode', 'condition', 'view', 'bedrooms_bin'] \n",
      "Numerical Columns:  ['bathrooms', 'sqft_living', 'sqft_living15']\n",
      "Training Score: 0.8189234720834138\n",
      "Test Score: 0.8178415326133166\n",
      "\n",
      "Training Metrics:\n",
      "R2: 0.819\n",
      "Mean Absolute Error: 0.139\n",
      "Mean Squared Error: 0.036\n",
      "Root Mean Squared Error: 0.190\n",
      "\n",
      "Testing Metrics:\n",
      "R2: 0.818\n",
      "Mean Absolute Error: 0.139\n",
      "Mean Squared Error: 0.036\n",
      "Root Mean Squared Error: 0.190\n"
     ]
    }
   ],
   "source": [
    "log_y_train = np.log(y_train)\n",
    "log_y_test = np.log(y_test)\n",
    "\n",
    "X_train_xformed, X_test_xformed, train_preds, test_preds = OHE_scale_lr(X_train, log_y_train,\n",
    "                                                                        X_test, log_y_test,\n",
    "                                                                        num_col=[\n",
    "                                                                            'bathrooms', 'sqft_living', 'sqft_living15'],\n",
    "                                                                        cat_col=[\n",
    "                                                                            'zipcode', 'condition', 'view', 'bedrooms_bin']\n",
    "                                                                        )"
   ]
  },
  {
   "cell_type": "code",
   "execution_count": 77,
   "metadata": {
    "ExecuteTime": {
     "end_time": "2022-03-31T07:36:59.818827Z",
     "start_time": "2022-03-31T07:36:59.803824Z"
    },
    "scrolled": true
   },
   "outputs": [
    {
     "data": {
      "text/plain": [
       "1.2092495976572515"
      ]
     },
     "execution_count": 77,
     "metadata": {},
     "output_type": "execute_result"
    }
   ],
   "source": [
    "np.exp(0.190)"
   ]
  },
  {
   "cell_type": "markdown",
   "metadata": {},
   "source": [
    "$1.20? Doesn't sound right"
   ]
  },
  {
   "cell_type": "code",
   "execution_count": 78,
   "metadata": {
    "ExecuteTime": {
     "end_time": "2022-03-31T07:36:59.834834Z",
     "start_time": "2022-03-31T07:36:59.819827Z"
    }
   },
   "outputs": [],
   "source": [
    "train_residuals = log_y_train - train_preds\n",
    "test_residuals = log_y_test - test_preds"
   ]
  },
  {
   "cell_type": "code",
   "execution_count": 79,
   "metadata": {
    "ExecuteTime": {
     "end_time": "2022-03-31T07:36:59.850838Z",
     "start_time": "2022-03-31T07:36:59.835836Z"
    },
    "scrolled": false
   },
   "outputs": [
    {
     "name": "stdout",
     "output_type": "stream",
     "text": [
      "\n",
      "Training Metrics:\n",
      "R2: 0.776\n",
      "Mean Absolute Error: 65635.002\n",
      "Mean Squared Error: 9720975122.556\n",
      "Root Mean Squared Error: 98595.006\n",
      "\n",
      "Testing Metrics:\n",
      "R2: 0.793\n",
      "Mean Absolute Error: 64959.771\n",
      "Mean Squared Error: 8881355310.103\n",
      "Root Mean Squared Error: 94240.943\n"
     ]
    }
   ],
   "source": [
    "get_train_test_metrics(np.exp(log_y_train),np.exp(train_preds),\n",
    "                      np.exp(log_y_test),np.exp(test_preds))"
   ]
  },
  {
   "cell_type": "markdown",
   "metadata": {
    "ExecuteTime": {
     "end_time": "2022-03-31T06:59:42.829858Z",
     "start_time": "2022-03-31T06:59:42.814856Z"
    }
   },
   "source": [
    "that RMSE is more likely"
   ]
  },
  {
   "cell_type": "code",
   "execution_count": 80,
   "metadata": {
    "ExecuteTime": {
     "end_time": "2022-03-31T07:37:00.008058Z",
     "start_time": "2022-03-31T07:36:59.851839Z"
    },
    "scrolled": false
   },
   "outputs": [
    {
     "data": {
      "text/html": [
       "<table class=\"simpletable\">\n",
       "<caption>OLS Regression Results</caption>\n",
       "<tr>\n",
       "  <th>Dep. Variable:</th>          <td>price</td>      <th>  R-squared:         </th> <td>   0.819</td>\n",
       "</tr>\n",
       "<tr>\n",
       "  <th>Model:</th>                   <td>OLS</td>       <th>  Adj. R-squared:    </th> <td>   0.818</td>\n",
       "</tr>\n",
       "<tr>\n",
       "  <th>Method:</th>             <td>Least Squares</td>  <th>  F-statistic:       </th> <td>   745.6</td>\n",
       "</tr>\n",
       "<tr>\n",
       "  <th>Date:</th>             <td>Thu, 31 Mar 2022</td> <th>  Prob (F-statistic):</th>  <td>  0.00</td> \n",
       "</tr>\n",
       "<tr>\n",
       "  <th>Time:</th>                 <td>02:36:59</td>     <th>  Log-Likelihood:    </th> <td>  3481.6</td>\n",
       "</tr>\n",
       "<tr>\n",
       "  <th>No. Observations:</th>      <td> 14265</td>      <th>  AIC:               </th> <td>  -6789.</td>\n",
       "</tr>\n",
       "<tr>\n",
       "  <th>Df Residuals:</th>          <td> 14178</td>      <th>  BIC:               </th> <td>  -6131.</td>\n",
       "</tr>\n",
       "<tr>\n",
       "  <th>Df Model:</th>              <td>    86</td>      <th>                     </th>     <td> </td>   \n",
       "</tr>\n",
       "<tr>\n",
       "  <th>Covariance Type:</th>      <td>nonrobust</td>    <th>                     </th>     <td> </td>   \n",
       "</tr>\n",
       "</table>\n",
       "<table class=\"simpletable\">\n",
       "<tr>\n",
       "              <td></td>                <th>coef</th>     <th>std err</th>      <th>t</th>      <th>P>|t|</th>  <th>[0.025</th>    <th>0.975]</th>  \n",
       "</tr>\n",
       "<tr>\n",
       "  <th>const</th>                    <td>   11.8698</td> <td>    0.023</td> <td>  521.761</td> <td> 0.000</td> <td>   11.825</td> <td>   11.914</td>\n",
       "</tr>\n",
       "<tr>\n",
       "  <th>num__bathrooms</th>           <td>    0.2976</td> <td>    0.024</td> <td>   12.411</td> <td> 0.000</td> <td>    0.251</td> <td>    0.345</td>\n",
       "</tr>\n",
       "<tr>\n",
       "  <th>num__sqft_living</th>         <td>    1.6695</td> <td>    0.029</td> <td>   57.176</td> <td> 0.000</td> <td>    1.612</td> <td>    1.727</td>\n",
       "</tr>\n",
       "<tr>\n",
       "  <th>num__sqft_living15</th>       <td>    0.6102</td> <td>    0.022</td> <td>   28.124</td> <td> 0.000</td> <td>    0.568</td> <td>    0.653</td>\n",
       "</tr>\n",
       "<tr>\n",
       "  <th>cat__zipcode_98002</th>       <td>   -0.0398</td> <td>    0.020</td> <td>   -1.980</td> <td> 0.048</td> <td>   -0.079</td> <td>   -0.000</td>\n",
       "</tr>\n",
       "<tr>\n",
       "  <th>cat__zipcode_98003</th>       <td>    0.0208</td> <td>    0.018</td> <td>    1.153</td> <td> 0.249</td> <td>   -0.015</td> <td>    0.056</td>\n",
       "</tr>\n",
       "<tr>\n",
       "  <th>cat__zipcode_98004</th>       <td>    1.0333</td> <td>    0.021</td> <td>   48.069</td> <td> 0.000</td> <td>    0.991</td> <td>    1.075</td>\n",
       "</tr>\n",
       "<tr>\n",
       "  <th>cat__zipcode_98005</th>       <td>    0.7450</td> <td>    0.023</td> <td>   32.589</td> <td> 0.000</td> <td>    0.700</td> <td>    0.790</td>\n",
       "</tr>\n",
       "<tr>\n",
       "  <th>cat__zipcode_98006</th>       <td>    0.6440</td> <td>    0.017</td> <td>   38.202</td> <td> 0.000</td> <td>    0.611</td> <td>    0.677</td>\n",
       "</tr>\n",
       "<tr>\n",
       "  <th>cat__zipcode_98007</th>       <td>    0.6847</td> <td>    0.023</td> <td>   29.500</td> <td> 0.000</td> <td>    0.639</td> <td>    0.730</td>\n",
       "</tr>\n",
       "<tr>\n",
       "  <th>cat__zipcode_98008</th>       <td>    0.6475</td> <td>    0.019</td> <td>   34.342</td> <td> 0.000</td> <td>    0.611</td> <td>    0.685</td>\n",
       "</tr>\n",
       "<tr>\n",
       "  <th>cat__zipcode_98010</th>       <td>    0.2695</td> <td>    0.025</td> <td>   10.632</td> <td> 0.000</td> <td>    0.220</td> <td>    0.319</td>\n",
       "</tr>\n",
       "<tr>\n",
       "  <th>cat__zipcode_98011</th>       <td>    0.4418</td> <td>    0.020</td> <td>   21.752</td> <td> 0.000</td> <td>    0.402</td> <td>    0.482</td>\n",
       "</tr>\n",
       "<tr>\n",
       "  <th>cat__zipcode_98014</th>       <td>    0.3599</td> <td>    0.023</td> <td>   15.463</td> <td> 0.000</td> <td>    0.314</td> <td>    0.406</td>\n",
       "</tr>\n",
       "<tr>\n",
       "  <th>cat__zipcode_98019</th>       <td>    0.3225</td> <td>    0.020</td> <td>   16.004</td> <td> 0.000</td> <td>    0.283</td> <td>    0.362</td>\n",
       "</tr>\n",
       "<tr>\n",
       "  <th>cat__zipcode_98022</th>       <td>    0.0889</td> <td>    0.019</td> <td>    4.591</td> <td> 0.000</td> <td>    0.051</td> <td>    0.127</td>\n",
       "</tr>\n",
       "<tr>\n",
       "  <th>cat__zipcode_98023</th>       <td>   -0.0259</td> <td>    0.016</td> <td>   -1.648</td> <td> 0.099</td> <td>   -0.057</td> <td>    0.005</td>\n",
       "</tr>\n",
       "<tr>\n",
       "  <th>cat__zipcode_98024</th>       <td>    0.4758</td> <td>    0.030</td> <td>   15.851</td> <td> 0.000</td> <td>    0.417</td> <td>    0.535</td>\n",
       "</tr>\n",
       "<tr>\n",
       "  <th>cat__zipcode_98027</th>       <td>    0.5187</td> <td>    0.017</td> <td>   30.646</td> <td> 0.000</td> <td>    0.486</td> <td>    0.552</td>\n",
       "</tr>\n",
       "<tr>\n",
       "  <th>cat__zipcode_98028</th>       <td>    0.4106</td> <td>    0.018</td> <td>   22.810</td> <td> 0.000</td> <td>    0.375</td> <td>    0.446</td>\n",
       "</tr>\n",
       "<tr>\n",
       "  <th>cat__zipcode_98029</th>       <td>    0.6282</td> <td>    0.018</td> <td>   35.886</td> <td> 0.000</td> <td>    0.594</td> <td>    0.663</td>\n",
       "</tr>\n",
       "<tr>\n",
       "  <th>cat__zipcode_98030</th>       <td>    0.0350</td> <td>    0.019</td> <td>    1.885</td> <td> 0.059</td> <td>   -0.001</td> <td>    0.071</td>\n",
       "</tr>\n",
       "<tr>\n",
       "  <th>cat__zipcode_98031</th>       <td>    0.0711</td> <td>    0.019</td> <td>    3.807</td> <td> 0.000</td> <td>    0.034</td> <td>    0.108</td>\n",
       "</tr>\n",
       "<tr>\n",
       "  <th>cat__zipcode_98032</th>       <td>   -0.0137</td> <td>    0.023</td> <td>   -0.583</td> <td> 0.560</td> <td>   -0.060</td> <td>    0.032</td>\n",
       "</tr>\n",
       "<tr>\n",
       "  <th>cat__zipcode_98033</th>       <td>    0.7566</td> <td>    0.017</td> <td>   44.619</td> <td> 0.000</td> <td>    0.723</td> <td>    0.790</td>\n",
       "</tr>\n",
       "<tr>\n",
       "  <th>cat__zipcode_98034</th>       <td>    0.5210</td> <td>    0.016</td> <td>   33.269</td> <td> 0.000</td> <td>    0.490</td> <td>    0.552</td>\n",
       "</tr>\n",
       "<tr>\n",
       "  <th>cat__zipcode_98038</th>       <td>    0.1626</td> <td>    0.015</td> <td>   10.607</td> <td> 0.000</td> <td>    0.133</td> <td>    0.193</td>\n",
       "</tr>\n",
       "<tr>\n",
       "  <th>cat__zipcode_98039</th>       <td>    1.2906</td> <td>    0.111</td> <td>   11.675</td> <td> 0.000</td> <td>    1.074</td> <td>    1.507</td>\n",
       "</tr>\n",
       "<tr>\n",
       "  <th>cat__zipcode_98040</th>       <td>    0.8562</td> <td>    0.022</td> <td>   39.769</td> <td> 0.000</td> <td>    0.814</td> <td>    0.898</td>\n",
       "</tr>\n",
       "<tr>\n",
       "  <th>cat__zipcode_98042</th>       <td>    0.0595</td> <td>    0.015</td> <td>    3.861</td> <td> 0.000</td> <td>    0.029</td> <td>    0.090</td>\n",
       "</tr>\n",
       "<tr>\n",
       "  <th>cat__zipcode_98045</th>       <td>    0.3681</td> <td>    0.019</td> <td>   18.909</td> <td> 0.000</td> <td>    0.330</td> <td>    0.406</td>\n",
       "</tr>\n",
       "<tr>\n",
       "  <th>cat__zipcode_98052</th>       <td>    0.6538</td> <td>    0.016</td> <td>   42.090</td> <td> 0.000</td> <td>    0.623</td> <td>    0.684</td>\n",
       "</tr>\n",
       "<tr>\n",
       "  <th>cat__zipcode_98053</th>       <td>    0.6219</td> <td>    0.017</td> <td>   36.610</td> <td> 0.000</td> <td>    0.589</td> <td>    0.655</td>\n",
       "</tr>\n",
       "<tr>\n",
       "  <th>cat__zipcode_98055</th>       <td>    0.1175</td> <td>    0.018</td> <td>    6.393</td> <td> 0.000</td> <td>    0.082</td> <td>    0.154</td>\n",
       "</tr>\n",
       "<tr>\n",
       "  <th>cat__zipcode_98056</th>       <td>    0.2938</td> <td>    0.017</td> <td>   17.678</td> <td> 0.000</td> <td>    0.261</td> <td>    0.326</td>\n",
       "</tr>\n",
       "<tr>\n",
       "  <th>cat__zipcode_98058</th>       <td>    0.1898</td> <td>    0.016</td> <td>   11.644</td> <td> 0.000</td> <td>    0.158</td> <td>    0.222</td>\n",
       "</tr>\n",
       "<tr>\n",
       "  <th>cat__zipcode_98059</th>       <td>    0.3377</td> <td>    0.016</td> <td>   20.838</td> <td> 0.000</td> <td>    0.306</td> <td>    0.369</td>\n",
       "</tr>\n",
       "<tr>\n",
       "  <th>cat__zipcode_98065</th>       <td>    0.3538</td> <td>    0.018</td> <td>   19.314</td> <td> 0.000</td> <td>    0.318</td> <td>    0.390</td>\n",
       "</tr>\n",
       "<tr>\n",
       "  <th>cat__zipcode_98070</th>       <td>    0.4604</td> <td>    0.024</td> <td>   18.920</td> <td> 0.000</td> <td>    0.413</td> <td>    0.508</td>\n",
       "</tr>\n",
       "<tr>\n",
       "  <th>cat__zipcode_98072</th>       <td>    0.5114</td> <td>    0.019</td> <td>   27.371</td> <td> 0.000</td> <td>    0.475</td> <td>    0.548</td>\n",
       "</tr>\n",
       "<tr>\n",
       "  <th>cat__zipcode_98074</th>       <td>    0.5987</td> <td>    0.017</td> <td>   36.209</td> <td> 0.000</td> <td>    0.566</td> <td>    0.631</td>\n",
       "</tr>\n",
       "<tr>\n",
       "  <th>cat__zipcode_98075</th>       <td>    0.5810</td> <td>    0.018</td> <td>   32.738</td> <td> 0.000</td> <td>    0.546</td> <td>    0.616</td>\n",
       "</tr>\n",
       "<tr>\n",
       "  <th>cat__zipcode_98077</th>       <td>    0.5081</td> <td>    0.021</td> <td>   24.537</td> <td> 0.000</td> <td>    0.468</td> <td>    0.549</td>\n",
       "</tr>\n",
       "<tr>\n",
       "  <th>cat__zipcode_98092</th>       <td>    0.0474</td> <td>    0.017</td> <td>    2.799</td> <td> 0.005</td> <td>    0.014</td> <td>    0.081</td>\n",
       "</tr>\n",
       "<tr>\n",
       "  <th>cat__zipcode_98102</th>       <td>    0.9387</td> <td>    0.027</td> <td>   34.467</td> <td> 0.000</td> <td>    0.885</td> <td>    0.992</td>\n",
       "</tr>\n",
       "<tr>\n",
       "  <th>cat__zipcode_98103</th>       <td>    0.8133</td> <td>    0.015</td> <td>   53.116</td> <td> 0.000</td> <td>    0.783</td> <td>    0.843</td>\n",
       "</tr>\n",
       "<tr>\n",
       "  <th>cat__zipcode_98105</th>       <td>    0.9061</td> <td>    0.021</td> <td>   42.221</td> <td> 0.000</td> <td>    0.864</td> <td>    0.948</td>\n",
       "</tr>\n",
       "<tr>\n",
       "  <th>cat__zipcode_98106</th>       <td>    0.3021</td> <td>    0.018</td> <td>   17.203</td> <td> 0.000</td> <td>    0.268</td> <td>    0.337</td>\n",
       "</tr>\n",
       "<tr>\n",
       "  <th>cat__zipcode_98107</th>       <td>    0.8242</td> <td>    0.019</td> <td>   43.770</td> <td> 0.000</td> <td>    0.787</td> <td>    0.861</td>\n",
       "</tr>\n",
       "<tr>\n",
       "  <th>cat__zipcode_98108</th>       <td>    0.3273</td> <td>    0.020</td> <td>   16.384</td> <td> 0.000</td> <td>    0.288</td> <td>    0.366</td>\n",
       "</tr>\n",
       "<tr>\n",
       "  <th>cat__zipcode_98109</th>       <td>    0.9658</td> <td>    0.028</td> <td>   34.270</td> <td> 0.000</td> <td>    0.911</td> <td>    1.021</td>\n",
       "</tr>\n",
       "<tr>\n",
       "  <th>cat__zipcode_98112</th>       <td>    0.9755</td> <td>    0.021</td> <td>   46.548</td> <td> 0.000</td> <td>    0.934</td> <td>    1.017</td>\n",
       "</tr>\n",
       "<tr>\n",
       "  <th>cat__zipcode_98115</th>       <td>    0.8080</td> <td>    0.016</td> <td>   51.772</td> <td> 0.000</td> <td>    0.777</td> <td>    0.839</td>\n",
       "</tr>\n",
       "<tr>\n",
       "  <th>cat__zipcode_98116</th>       <td>    0.7576</td> <td>    0.018</td> <td>   41.558</td> <td> 0.000</td> <td>    0.722</td> <td>    0.793</td>\n",
       "</tr>\n",
       "<tr>\n",
       "  <th>cat__zipcode_98117</th>       <td>    0.7992</td> <td>    0.016</td> <td>   51.437</td> <td> 0.000</td> <td>    0.769</td> <td>    0.830</td>\n",
       "</tr>\n",
       "<tr>\n",
       "  <th>cat__zipcode_98118</th>       <td>    0.4131</td> <td>    0.016</td> <td>   26.157</td> <td> 0.000</td> <td>    0.382</td> <td>    0.444</td>\n",
       "</tr>\n",
       "<tr>\n",
       "  <th>cat__zipcode_98119</th>       <td>    0.9564</td> <td>    0.021</td> <td>   44.861</td> <td> 0.000</td> <td>    0.915</td> <td>    0.998</td>\n",
       "</tr>\n",
       "<tr>\n",
       "  <th>cat__zipcode_98122</th>       <td>    0.8042</td> <td>    0.018</td> <td>   43.707</td> <td> 0.000</td> <td>    0.768</td> <td>    0.840</td>\n",
       "</tr>\n",
       "<tr>\n",
       "  <th>cat__zipcode_98125</th>       <td>    0.5446</td> <td>    0.017</td> <td>   32.182</td> <td> 0.000</td> <td>    0.511</td> <td>    0.578</td>\n",
       "</tr>\n",
       "<tr>\n",
       "  <th>cat__zipcode_98126</th>       <td>    0.5422</td> <td>    0.017</td> <td>   31.619</td> <td> 0.000</td> <td>    0.509</td> <td>    0.576</td>\n",
       "</tr>\n",
       "<tr>\n",
       "  <th>cat__zipcode_98133</th>       <td>    0.4416</td> <td>    0.016</td> <td>   27.769</td> <td> 0.000</td> <td>    0.410</td> <td>    0.473</td>\n",
       "</tr>\n",
       "<tr>\n",
       "  <th>cat__zipcode_98136</th>       <td>    0.6759</td> <td>    0.019</td> <td>   35.819</td> <td> 0.000</td> <td>    0.639</td> <td>    0.713</td>\n",
       "</tr>\n",
       "<tr>\n",
       "  <th>cat__zipcode_98144</th>       <td>    0.6265</td> <td>    0.018</td> <td>   35.111</td> <td> 0.000</td> <td>    0.591</td> <td>    0.661</td>\n",
       "</tr>\n",
       "<tr>\n",
       "  <th>cat__zipcode_98146</th>       <td>    0.2744</td> <td>    0.018</td> <td>   15.096</td> <td> 0.000</td> <td>    0.239</td> <td>    0.310</td>\n",
       "</tr>\n",
       "<tr>\n",
       "  <th>cat__zipcode_98148</th>       <td>    0.1502</td> <td>    0.032</td> <td>    4.720</td> <td> 0.000</td> <td>    0.088</td> <td>    0.213</td>\n",
       "</tr>\n",
       "<tr>\n",
       "  <th>cat__zipcode_98155</th>       <td>    0.4163</td> <td>    0.016</td> <td>   25.466</td> <td> 0.000</td> <td>    0.384</td> <td>    0.448</td>\n",
       "</tr>\n",
       "<tr>\n",
       "  <th>cat__zipcode_98166</th>       <td>    0.3304</td> <td>    0.019</td> <td>   17.379</td> <td> 0.000</td> <td>    0.293</td> <td>    0.368</td>\n",
       "</tr>\n",
       "<tr>\n",
       "  <th>cat__zipcode_98168</th>       <td>    0.0248</td> <td>    0.018</td> <td>    1.361</td> <td> 0.174</td> <td>   -0.011</td> <td>    0.060</td>\n",
       "</tr>\n",
       "<tr>\n",
       "  <th>cat__zipcode_98177</th>       <td>    0.5742</td> <td>    0.020</td> <td>   29.150</td> <td> 0.000</td> <td>    0.536</td> <td>    0.613</td>\n",
       "</tr>\n",
       "<tr>\n",
       "  <th>cat__zipcode_98178</th>       <td>    0.1086</td> <td>    0.019</td> <td>    5.759</td> <td> 0.000</td> <td>    0.072</td> <td>    0.146</td>\n",
       "</tr>\n",
       "<tr>\n",
       "  <th>cat__zipcode_98188</th>       <td>    0.0817</td> <td>    0.023</td> <td>    3.585</td> <td> 0.000</td> <td>    0.037</td> <td>    0.126</td>\n",
       "</tr>\n",
       "<tr>\n",
       "  <th>cat__zipcode_98198</th>       <td>    0.0623</td> <td>    0.018</td> <td>    3.421</td> <td> 0.001</td> <td>    0.027</td> <td>    0.098</td>\n",
       "</tr>\n",
       "<tr>\n",
       "  <th>cat__zipcode_98199</th>       <td>    0.8408</td> <td>    0.018</td> <td>   46.015</td> <td> 0.000</td> <td>    0.805</td> <td>    0.877</td>\n",
       "</tr>\n",
       "<tr>\n",
       "  <th>cat__condition_Fair</th>      <td>   -0.1564</td> <td>    0.017</td> <td>   -8.966</td> <td> 0.000</td> <td>   -0.191</td> <td>   -0.122</td>\n",
       "</tr>\n",
       "<tr>\n",
       "  <th>cat__condition_Good</th>      <td>    0.0345</td> <td>    0.004</td> <td>    8.803</td> <td> 0.000</td> <td>    0.027</td> <td>    0.042</td>\n",
       "</tr>\n",
       "<tr>\n",
       "  <th>cat__condition_Poor</th>      <td>   -0.3582</td> <td>    0.043</td> <td>   -8.355</td> <td> 0.000</td> <td>   -0.442</td> <td>   -0.274</td>\n",
       "</tr>\n",
       "<tr>\n",
       "  <th>cat__condition_Very Good</th> <td>    0.0832</td> <td>    0.006</td> <td>   13.398</td> <td> 0.000</td> <td>    0.071</td> <td>    0.095</td>\n",
       "</tr>\n",
       "<tr>\n",
       "  <th>cat__view_EXCELLENT</th>      <td>    0.2441</td> <td>    0.021</td> <td>   11.580</td> <td> 0.000</td> <td>    0.203</td> <td>    0.285</td>\n",
       "</tr>\n",
       "<tr>\n",
       "  <th>cat__view_FAIR</th>           <td>    0.0015</td> <td>    0.016</td> <td>    0.092</td> <td> 0.926</td> <td>   -0.030</td> <td>    0.032</td>\n",
       "</tr>\n",
       "<tr>\n",
       "  <th>cat__view_GOOD</th>           <td>    0.0756</td> <td>    0.015</td> <td>    5.193</td> <td> 0.000</td> <td>    0.047</td> <td>    0.104</td>\n",
       "</tr>\n",
       "<tr>\n",
       "  <th>cat__view_NONE</th>           <td>   -0.0975</td> <td>    0.009</td> <td>  -11.332</td> <td> 0.000</td> <td>   -0.114</td> <td>   -0.081</td>\n",
       "</tr>\n",
       "<tr>\n",
       "  <th>cat__bedrooms_bin_2BR</th>    <td>    0.0899</td> <td>    0.017</td> <td>    5.328</td> <td> 0.000</td> <td>    0.057</td> <td>    0.123</td>\n",
       "</tr>\n",
       "<tr>\n",
       "  <th>cat__bedrooms_bin_3BR</th>    <td>    0.1170</td> <td>    0.017</td> <td>    6.998</td> <td> 0.000</td> <td>    0.084</td> <td>    0.150</td>\n",
       "</tr>\n",
       "<tr>\n",
       "  <th>cat__bedrooms_bin_4BR</th>    <td>    0.1122</td> <td>    0.017</td> <td>    6.543</td> <td> 0.000</td> <td>    0.079</td> <td>    0.146</td>\n",
       "</tr>\n",
       "<tr>\n",
       "  <th>cat__bedrooms_bin_5BR</th>    <td>    0.0505</td> <td>    0.018</td> <td>    2.753</td> <td> 0.006</td> <td>    0.015</td> <td>    0.086</td>\n",
       "</tr>\n",
       "<tr>\n",
       "  <th>cat__bedrooms_bin_6BR</th>    <td>    0.0031</td> <td>    0.023</td> <td>    0.132</td> <td> 0.895</td> <td>   -0.043</td> <td>    0.049</td>\n",
       "</tr>\n",
       "<tr>\n",
       "  <th>cat__bedrooms_bin_7+BR</th>   <td>   -0.1225</td> <td>    0.038</td> <td>   -3.255</td> <td> 0.001</td> <td>   -0.196</td> <td>   -0.049</td>\n",
       "</tr>\n",
       "</table>\n",
       "<table class=\"simpletable\">\n",
       "<tr>\n",
       "  <th>Omnibus:</th>       <td>980.592</td> <th>  Durbin-Watson:     </th> <td>   2.008</td>\n",
       "</tr>\n",
       "<tr>\n",
       "  <th>Prob(Omnibus):</th> <td> 0.000</td>  <th>  Jarque-Bera (JB):  </th> <td>3996.960</td>\n",
       "</tr>\n",
       "<tr>\n",
       "  <th>Skew:</th>          <td>-0.228</td>  <th>  Prob(JB):          </th> <td>    0.00</td>\n",
       "</tr>\n",
       "<tr>\n",
       "  <th>Kurtosis:</th>      <td> 5.553</td>  <th>  Cond. No.          </th> <td>    113.</td>\n",
       "</tr>\n",
       "</table><br/><br/>Notes:<br/>[1] Standard Errors assume that the covariance matrix of the errors is correctly specified."
      ],
      "text/plain": [
       "<class 'statsmodels.iolib.summary.Summary'>\n",
       "\"\"\"\n",
       "                            OLS Regression Results                            \n",
       "==============================================================================\n",
       "Dep. Variable:                  price   R-squared:                       0.819\n",
       "Model:                            OLS   Adj. R-squared:                  0.818\n",
       "Method:                 Least Squares   F-statistic:                     745.6\n",
       "Date:                Thu, 31 Mar 2022   Prob (F-statistic):               0.00\n",
       "Time:                        02:36:59   Log-Likelihood:                 3481.6\n",
       "No. Observations:               14265   AIC:                            -6789.\n",
       "Df Residuals:                   14178   BIC:                            -6131.\n",
       "Df Model:                          86                                         \n",
       "Covariance Type:            nonrobust                                         \n",
       "============================================================================================\n",
       "                               coef    std err          t      P>|t|      [0.025      0.975]\n",
       "--------------------------------------------------------------------------------------------\n",
       "const                       11.8698      0.023    521.761      0.000      11.825      11.914\n",
       "num__bathrooms               0.2976      0.024     12.411      0.000       0.251       0.345\n",
       "num__sqft_living             1.6695      0.029     57.176      0.000       1.612       1.727\n",
       "num__sqft_living15           0.6102      0.022     28.124      0.000       0.568       0.653\n",
       "cat__zipcode_98002          -0.0398      0.020     -1.980      0.048      -0.079      -0.000\n",
       "cat__zipcode_98003           0.0208      0.018      1.153      0.249      -0.015       0.056\n",
       "cat__zipcode_98004           1.0333      0.021     48.069      0.000       0.991       1.075\n",
       "cat__zipcode_98005           0.7450      0.023     32.589      0.000       0.700       0.790\n",
       "cat__zipcode_98006           0.6440      0.017     38.202      0.000       0.611       0.677\n",
       "cat__zipcode_98007           0.6847      0.023     29.500      0.000       0.639       0.730\n",
       "cat__zipcode_98008           0.6475      0.019     34.342      0.000       0.611       0.685\n",
       "cat__zipcode_98010           0.2695      0.025     10.632      0.000       0.220       0.319\n",
       "cat__zipcode_98011           0.4418      0.020     21.752      0.000       0.402       0.482\n",
       "cat__zipcode_98014           0.3599      0.023     15.463      0.000       0.314       0.406\n",
       "cat__zipcode_98019           0.3225      0.020     16.004      0.000       0.283       0.362\n",
       "cat__zipcode_98022           0.0889      0.019      4.591      0.000       0.051       0.127\n",
       "cat__zipcode_98023          -0.0259      0.016     -1.648      0.099      -0.057       0.005\n",
       "cat__zipcode_98024           0.4758      0.030     15.851      0.000       0.417       0.535\n",
       "cat__zipcode_98027           0.5187      0.017     30.646      0.000       0.486       0.552\n",
       "cat__zipcode_98028           0.4106      0.018     22.810      0.000       0.375       0.446\n",
       "cat__zipcode_98029           0.6282      0.018     35.886      0.000       0.594       0.663\n",
       "cat__zipcode_98030           0.0350      0.019      1.885      0.059      -0.001       0.071\n",
       "cat__zipcode_98031           0.0711      0.019      3.807      0.000       0.034       0.108\n",
       "cat__zipcode_98032          -0.0137      0.023     -0.583      0.560      -0.060       0.032\n",
       "cat__zipcode_98033           0.7566      0.017     44.619      0.000       0.723       0.790\n",
       "cat__zipcode_98034           0.5210      0.016     33.269      0.000       0.490       0.552\n",
       "cat__zipcode_98038           0.1626      0.015     10.607      0.000       0.133       0.193\n",
       "cat__zipcode_98039           1.2906      0.111     11.675      0.000       1.074       1.507\n",
       "cat__zipcode_98040           0.8562      0.022     39.769      0.000       0.814       0.898\n",
       "cat__zipcode_98042           0.0595      0.015      3.861      0.000       0.029       0.090\n",
       "cat__zipcode_98045           0.3681      0.019     18.909      0.000       0.330       0.406\n",
       "cat__zipcode_98052           0.6538      0.016     42.090      0.000       0.623       0.684\n",
       "cat__zipcode_98053           0.6219      0.017     36.610      0.000       0.589       0.655\n",
       "cat__zipcode_98055           0.1175      0.018      6.393      0.000       0.082       0.154\n",
       "cat__zipcode_98056           0.2938      0.017     17.678      0.000       0.261       0.326\n",
       "cat__zipcode_98058           0.1898      0.016     11.644      0.000       0.158       0.222\n",
       "cat__zipcode_98059           0.3377      0.016     20.838      0.000       0.306       0.369\n",
       "cat__zipcode_98065           0.3538      0.018     19.314      0.000       0.318       0.390\n",
       "cat__zipcode_98070           0.4604      0.024     18.920      0.000       0.413       0.508\n",
       "cat__zipcode_98072           0.5114      0.019     27.371      0.000       0.475       0.548\n",
       "cat__zipcode_98074           0.5987      0.017     36.209      0.000       0.566       0.631\n",
       "cat__zipcode_98075           0.5810      0.018     32.738      0.000       0.546       0.616\n",
       "cat__zipcode_98077           0.5081      0.021     24.537      0.000       0.468       0.549\n",
       "cat__zipcode_98092           0.0474      0.017      2.799      0.005       0.014       0.081\n",
       "cat__zipcode_98102           0.9387      0.027     34.467      0.000       0.885       0.992\n",
       "cat__zipcode_98103           0.8133      0.015     53.116      0.000       0.783       0.843\n",
       "cat__zipcode_98105           0.9061      0.021     42.221      0.000       0.864       0.948\n",
       "cat__zipcode_98106           0.3021      0.018     17.203      0.000       0.268       0.337\n",
       "cat__zipcode_98107           0.8242      0.019     43.770      0.000       0.787       0.861\n",
       "cat__zipcode_98108           0.3273      0.020     16.384      0.000       0.288       0.366\n",
       "cat__zipcode_98109           0.9658      0.028     34.270      0.000       0.911       1.021\n",
       "cat__zipcode_98112           0.9755      0.021     46.548      0.000       0.934       1.017\n",
       "cat__zipcode_98115           0.8080      0.016     51.772      0.000       0.777       0.839\n",
       "cat__zipcode_98116           0.7576      0.018     41.558      0.000       0.722       0.793\n",
       "cat__zipcode_98117           0.7992      0.016     51.437      0.000       0.769       0.830\n",
       "cat__zipcode_98118           0.4131      0.016     26.157      0.000       0.382       0.444\n",
       "cat__zipcode_98119           0.9564      0.021     44.861      0.000       0.915       0.998\n",
       "cat__zipcode_98122           0.8042      0.018     43.707      0.000       0.768       0.840\n",
       "cat__zipcode_98125           0.5446      0.017     32.182      0.000       0.511       0.578\n",
       "cat__zipcode_98126           0.5422      0.017     31.619      0.000       0.509       0.576\n",
       "cat__zipcode_98133           0.4416      0.016     27.769      0.000       0.410       0.473\n",
       "cat__zipcode_98136           0.6759      0.019     35.819      0.000       0.639       0.713\n",
       "cat__zipcode_98144           0.6265      0.018     35.111      0.000       0.591       0.661\n",
       "cat__zipcode_98146           0.2744      0.018     15.096      0.000       0.239       0.310\n",
       "cat__zipcode_98148           0.1502      0.032      4.720      0.000       0.088       0.213\n",
       "cat__zipcode_98155           0.4163      0.016     25.466      0.000       0.384       0.448\n",
       "cat__zipcode_98166           0.3304      0.019     17.379      0.000       0.293       0.368\n",
       "cat__zipcode_98168           0.0248      0.018      1.361      0.174      -0.011       0.060\n",
       "cat__zipcode_98177           0.5742      0.020     29.150      0.000       0.536       0.613\n",
       "cat__zipcode_98178           0.1086      0.019      5.759      0.000       0.072       0.146\n",
       "cat__zipcode_98188           0.0817      0.023      3.585      0.000       0.037       0.126\n",
       "cat__zipcode_98198           0.0623      0.018      3.421      0.001       0.027       0.098\n",
       "cat__zipcode_98199           0.8408      0.018     46.015      0.000       0.805       0.877\n",
       "cat__condition_Fair         -0.1564      0.017     -8.966      0.000      -0.191      -0.122\n",
       "cat__condition_Good          0.0345      0.004      8.803      0.000       0.027       0.042\n",
       "cat__condition_Poor         -0.3582      0.043     -8.355      0.000      -0.442      -0.274\n",
       "cat__condition_Very Good     0.0832      0.006     13.398      0.000       0.071       0.095\n",
       "cat__view_EXCELLENT          0.2441      0.021     11.580      0.000       0.203       0.285\n",
       "cat__view_FAIR               0.0015      0.016      0.092      0.926      -0.030       0.032\n",
       "cat__view_GOOD               0.0756      0.015      5.193      0.000       0.047       0.104\n",
       "cat__view_NONE              -0.0975      0.009    -11.332      0.000      -0.114      -0.081\n",
       "cat__bedrooms_bin_2BR        0.0899      0.017      5.328      0.000       0.057       0.123\n",
       "cat__bedrooms_bin_3BR        0.1170      0.017      6.998      0.000       0.084       0.150\n",
       "cat__bedrooms_bin_4BR        0.1122      0.017      6.543      0.000       0.079       0.146\n",
       "cat__bedrooms_bin_5BR        0.0505      0.018      2.753      0.006       0.015       0.086\n",
       "cat__bedrooms_bin_6BR        0.0031      0.023      0.132      0.895      -0.043       0.049\n",
       "cat__bedrooms_bin_7+BR      -0.1225      0.038     -3.255      0.001      -0.196      -0.049\n",
       "==============================================================================\n",
       "Omnibus:                      980.592   Durbin-Watson:                   2.008\n",
       "Prob(Omnibus):                  0.000   Jarque-Bera (JB):             3996.960\n",
       "Skew:                          -0.228   Prob(JB):                         0.00\n",
       "Kurtosis:                       5.553   Cond. No.                         113.\n",
       "==============================================================================\n",
       "\n",
       "Notes:\n",
       "[1] Standard Errors assume that the covariance matrix of the errors is correctly specified.\n",
       "\"\"\""
      ]
     },
     "execution_count": 80,
     "metadata": {},
     "output_type": "execute_result"
    }
   ],
   "source": [
    "#Just to get summary\n",
    "model = sm.OLS(endog=log_y_train, exog=sm.add_constant(X_train_xformed)).fit()\n",
    "model.summary()"
   ]
  },
  {
   "cell_type": "code",
   "execution_count": 81,
   "metadata": {
    "ExecuteTime": {
     "end_time": "2022-03-31T07:37:00.659712Z",
     "start_time": "2022-03-31T07:37:00.010059Z"
    },
    "scrolled": false
   },
   "outputs": [
    {
     "data": {
      "image/png": "[encoded data removed]",
      "text/plain": [
       "<Figure size 576x396 with 2 Axes>"
      ]
     },
     "metadata": {},
     "output_type": "display_data"
    }
   ],
   "source": [
    "# visualizing our residuals \n",
    "# https://www.scikit-yb.org/en/latest/api/regressor/residuals.html\n",
    "lr = LinearRegression()\n",
    "visualizer = ResidualsPlot(lr)\n",
    "\n",
    "visualizer.fit(X_train_xformed, log_y_train)  # Fit the training data to the visualizer\n",
    "visualizer.score(X_test_xformed, log_y_test)  # Evaluate the model on the test data\n",
    "visualizer.show()  \n",
    "plt.show()"
   ]
  },
  {
   "cell_type": "code",
   "execution_count": 82,
   "metadata": {
    "ExecuteTime": {
     "end_time": "2022-03-31T07:37:00.769737Z",
     "start_time": "2022-03-31T07:37:00.660713Z"
    },
    "scrolled": false
   },
   "outputs": [
    {
     "data": {
      "image/png": "[encoded data removed]",
      "text/plain": [
       "<Figure size 576x396 with 1 Axes>"
      ]
     },
     "metadata": {},
     "output_type": "display_data"
    }
   ],
   "source": [
    "sm.qqplot(train_residuals, line = 'r');"
   ]
  },
  {
   "cell_type": "markdown",
   "metadata": {},
   "source": [
    "WORSE!"
   ]
  },
  {
   "cell_type": "code",
   "execution_count": null,
   "metadata": {},
   "outputs": [],
   "source": []
  },
  {
   "cell_type": "code",
   "execution_count": null,
   "metadata": {},
   "outputs": [],
   "source": []
  },
  {
   "cell_type": "code",
   "execution_count": null,
   "metadata": {},
   "outputs": [],
   "source": []
  },
  {
   "cell_type": "code",
   "execution_count": null,
   "metadata": {},
   "outputs": [],
   "source": []
  },
  {
   "cell_type": "code",
   "execution_count": null,
   "metadata": {},
   "outputs": [],
   "source": []
  },
  {
   "cell_type": "markdown",
   "metadata": {},
   "source": [
    "## FINAL MODEL"
   ]
  },
  {
   "cell_type": "code",
   "execution_count": 100,
   "metadata": {
    "ExecuteTime": {
     "end_time": "2022-03-31T07:39:04.062640Z",
     "start_time": "2022-03-31T07:39:04.048636Z"
    }
   },
   "outputs": [],
   "source": [
    "num_col = ['bathrooms', 'sqft_living', 'sqft_living15']\n",
    "cat_col = ['zipcode', 'condition', 'view', 'bedrooms_bin']\n",
    "list_cols = [col\n",
    "             for sublist_cols in [num_col, cat_col]\n",
    "             for col in sublist_cols]"
   ]
  },
  {
   "cell_type": "code",
   "execution_count": 101,
   "metadata": {
    "ExecuteTime": {
     "end_time": "2022-03-31T07:39:04.422508Z",
     "start_time": "2022-03-31T07:39:04.415507Z"
    }
   },
   "outputs": [
    {
     "data": {
      "text/plain": [
       "['bathrooms',\n",
       " 'sqft_living',\n",
       " 'sqft_living15',\n",
       " 'zipcode',\n",
       " 'condition',\n",
       " 'view',\n",
       " 'bedrooms_bin']"
      ]
     },
     "execution_count": 101,
     "metadata": {},
     "output_type": "execute_result"
    }
   ],
   "source": [
    "list_cols"
   ]
  },
  {
   "cell_type": "code",
   "execution_count": 102,
   "metadata": {
    "ExecuteTime": {
     "end_time": "2022-03-31T07:39:14.026946Z",
     "start_time": "2022-03-31T07:39:13.998940Z"
    }
   },
   "outputs": [],
   "source": [
    "X = pd.concat([X_train,X_test]).sort_index()[list_cols]\n",
    "y = pd.concat([y_train,y_test]).sort_index() \n"
   ]
  },
  {
   "cell_type": "code",
   "execution_count": 105,
   "metadata": {
    "ExecuteTime": {
     "end_time": "2022-03-31T07:39:18.261819Z",
     "start_time": "2022-03-31T07:39:18.255818Z"
    }
   },
   "outputs": [],
   "source": [
    "X_potentials = pd.DataFrame(columns=X.columns)\n",
    "for num in range(0,3):\n",
    "    X_potentials = X_potentials.append(\n",
    "    pd.Series(0, index=X_potentials.columns), \n",
    "    ignore_index=True)\n",
    "    \n",
    "y_empty = pd.DataFrame(index=X_potentials.index,columns = ['price'])\n",
    "y_empty.fillna(0,inplace=True)"
   ]
  },
  {
   "cell_type": "code",
   "execution_count": 108,
   "metadata": {
    "ExecuteTime": {
     "end_time": "2022-03-31T07:40:17.141847Z",
     "start_time": "2022-03-31T07:40:17.119842Z"
    }
   },
   "outputs": [],
   "source": [
    "#Creating a potential feature matrix\n",
    "#Filling these with median/most common home features\n",
    "X_potentials.bathrooms.replace(0,df.bathrooms.value_counts().index[0],inplace=True)\n",
    "X_potentials.sqft_living.replace(0,df['sqft_living'].median(),inplace=True)\n",
    "X_potentials.sqft_living15.replace(0,df['sqft_living15'].median(),inplace=True)\n",
    "X_potentials.zipcode.replace(0,df.zipcode.value_counts().index[0],inplace=True)\n",
    "X_potentials.condition.replace(0,df.condition.value_counts().index[0],inplace=True)\n",
    "X_potentials.view.replace(0,df.view.value_counts().index[0],inplace=True)\n",
    "X_potentials.bedrooms_bin.replace(0,df.bedrooms_bin.value_counts().index[0],inplace=True)\n"
   ]
  },
  {
   "cell_type": "code",
   "execution_count": 109,
   "metadata": {
    "ExecuteTime": {
     "end_time": "2022-03-31T07:40:17.558373Z",
     "start_time": "2022-03-31T07:40:17.544385Z"
    },
    "scrolled": true
   },
   "outputs": [],
   "source": [
    "X_potentials.bathrooms = [1,2,2.5]"
   ]
  },
  {
   "cell_type": "code",
   "execution_count": 110,
   "metadata": {
    "ExecuteTime": {
     "end_time": "2022-03-31T07:40:19.362567Z",
     "start_time": "2022-03-31T07:40:19.343057Z"
    },
    "scrolled": true
   },
   "outputs": [
    {
     "data": {
      "text/html": [
       "<div>\n",
       "<style scoped>\n",
       "    .dataframe tbody tr th:only-of-type {\n",
       "        vertical-align: middle;\n",
       "    }\n",
       "\n",
       "    .dataframe tbody tr th {\n",
       "        vertical-align: top;\n",
       "    }\n",
       "\n",
       "    .dataframe thead th {\n",
       "        text-align: right;\n",
       "    }\n",
       "</style>\n",
       "<table border=\"1\" class=\"dataframe\">\n",
       "  <thead>\n",
       "    <tr style=\"text-align: right;\">\n",
       "      <th></th>\n",
       "      <th>bathrooms</th>\n",
       "      <th>sqft_living</th>\n",
       "      <th>sqft_living15</th>\n",
       "      <th>zipcode</th>\n",
       "      <th>condition</th>\n",
       "      <th>view</th>\n",
       "      <th>bedrooms_bin</th>\n",
       "    </tr>\n",
       "  </thead>\n",
       "  <tbody>\n",
       "    <tr>\n",
       "      <th>0</th>\n",
       "      <td>1.0</td>\n",
       "      <td>1860.0</td>\n",
       "      <td>1800.0</td>\n",
       "      <td>98103</td>\n",
       "      <td>Average</td>\n",
       "      <td>NONE</td>\n",
       "      <td>3BR</td>\n",
       "    </tr>\n",
       "    <tr>\n",
       "      <th>1</th>\n",
       "      <td>2.0</td>\n",
       "      <td>1860.0</td>\n",
       "      <td>1800.0</td>\n",
       "      <td>98103</td>\n",
       "      <td>Average</td>\n",
       "      <td>NONE</td>\n",
       "      <td>3BR</td>\n",
       "    </tr>\n",
       "    <tr>\n",
       "      <th>2</th>\n",
       "      <td>2.5</td>\n",
       "      <td>1860.0</td>\n",
       "      <td>1800.0</td>\n",
       "      <td>98103</td>\n",
       "      <td>Average</td>\n",
       "      <td>NONE</td>\n",
       "      <td>3BR</td>\n",
       "    </tr>\n",
       "  </tbody>\n",
       "</table>\n",
       "</div>"
      ],
      "text/plain": [
       "   bathrooms  sqft_living  sqft_living15  zipcode condition  view bedrooms_bin\n",
       "0        1.0       1860.0         1800.0    98103   Average  NONE          3BR\n",
       "1        2.0       1860.0         1800.0    98103   Average  NONE          3BR\n",
       "2        2.5       1860.0         1800.0    98103   Average  NONE          3BR"
      ]
     },
     "execution_count": 110,
     "metadata": {},
     "output_type": "execute_result"
    }
   ],
   "source": [
    "X_potentials"
   ]
  },
  {
   "cell_type": "code",
   "execution_count": 113,
   "metadata": {
    "ExecuteTime": {
     "end_time": "2022-03-31T07:41:00.395951Z",
     "start_time": "2022-03-31T07:41:00.239912Z"
    }
   },
   "outputs": [
    {
     "name": "stdout",
     "output_type": "stream",
     "text": [
      "Categorical columns: ['zipcode', 'condition', 'view', 'bedrooms_bin'] \n",
      "Numerical Columns:  ['bathrooms', 'sqft_living', 'sqft_living15']\n",
      "Training Score: 0.8071957746986202\n",
      "Test Score: 0.0\n",
      "\n",
      "Training Metrics:\n",
      "R2: 0.807\n",
      "Mean Absolute Error: 66497.449\n",
      "Mean Squared Error: 8326071130.754\n",
      "Root Mean Squared Error: 91247.308\n",
      "\n",
      "Testing Metrics:\n",
      "R2: 0.000\n",
      "Mean Absolute Error: 603603.479\n",
      "Mean Squared Error: 364375880659.399\n",
      "Root Mean Squared Error: 603635.553\n"
     ]
    }
   ],
   "source": [
    "X_xformed, X_potential_xformed, X_preds, potential_preds = OHE_scale_lr(X, y,\n",
    "                                                                        X_potentials, y_empty,\n",
    "                                                                        num_col=[\n",
    "                                                                            'bathrooms', 'sqft_living', 'sqft_living15'],\n",
    "                                                                        cat_col=[\n",
    "                                                                            'zipcode', 'condition', 'view', 'bedrooms_bin']\n",
    "                                                                        )"
   ]
  },
  {
   "cell_type": "code",
   "execution_count": 114,
   "metadata": {
    "ExecuteTime": {
     "end_time": "2022-03-31T07:41:20.780500Z",
     "start_time": "2022-03-31T07:41:20.775507Z"
    },
    "scrolled": true
   },
   "outputs": [
    {
     "data": {
      "text/plain": [
       "array([595288.11469076, 605266.55130914, 610255.76961833])"
      ]
     },
     "execution_count": 114,
     "metadata": {},
     "output_type": "execute_result"
    }
   ],
   "source": [
    "potential_preds"
   ]
  },
  {
   "cell_type": "code",
   "execution_count": null,
   "metadata": {},
   "outputs": [],
   "source": []
  },
  {
   "cell_type": "markdown",
   "metadata": {},
   "source": [
    "## Some weird plots"
   ]
  },
  {
   "cell_type": "code",
   "execution_count": null,
   "metadata": {
    "ExecuteTime": {
     "end_time": "2022-03-31T07:37:01.185882Z",
     "start_time": "2022-03-31T07:36:52.386Z"
    }
   },
   "outputs": [],
   "source": [
    "df_pairplotting1 = df.filter(['bedrooms','bathrooms','floors','view','condition','price'])\n",
    "df_pairplotting2 = df.filter(['bedrooms','sqft_living', 'sqft_lot','sqft_above','sqft_living15', 'sqft_lot15','price'])"
   ]
  },
  {
   "cell_type": "code",
   "execution_count": null,
   "metadata": {
    "ExecuteTime": {
     "end_time": "2022-03-31T07:37:01.186883Z",
     "start_time": "2022-03-31T07:36:52.388Z"
    },
    "scrolled": false
   },
   "outputs": [],
   "source": [
    "sns.pairplot(df_pairplotting1)"
   ]
  },
  {
   "cell_type": "code",
   "execution_count": null,
   "metadata": {
    "ExecuteTime": {
     "end_time": "2022-03-31T07:37:01.186883Z",
     "start_time": "2022-03-31T07:36:52.389Z"
    },
    "scrolled": false
   },
   "outputs": [],
   "source": [
    "sns.pairplot(df_pairplotting2)"
   ]
  },
  {
   "cell_type": "code",
   "execution_count": null,
   "metadata": {},
   "outputs": [],
   "source": []
  },
  {
   "cell_type": "code",
   "execution_count": null,
   "metadata": {},
   "outputs": [],
   "source": []
  },
  {
   "cell_type": "code",
   "execution_count": null,
   "metadata": {},
   "outputs": [],
   "source": []
  }
 ],
 "metadata": {
  "kernelspec": {
   "display_name": "Python (learn-env)",
   "language": "python",
   "name": "learn-env"
  },
  "language_info": {
   "codemirror_mode": {
    "name": "ipython",
    "version": 3
   },
   "file_extension": ".py",
   "mimetype": "text/x-python",
   "name": "python",
   "nbconvert_exporter": "python",
   "pygments_lexer": "ipython3",
   "version": "3.8.5"
  },
  "toc": {
   "base_numbering": 1,
   "nav_menu": {},
   "number_sections": true,
   "sideBar": true,
   "skip_h1_title": false,
   "title_cell": "Table of Contents",
   "title_sidebar": "Contents",
   "toc_cell": false,
   "toc_position": {
    "height": "calc(100% - 180px)",
    "left": "10px",
    "top": "150px",
    "width": "234.46px"
   },
   "toc_section_display": true,
   "toc_window_display": true
  }
 },
 "nbformat": 4,
 "nbformat_minor": 4
}
