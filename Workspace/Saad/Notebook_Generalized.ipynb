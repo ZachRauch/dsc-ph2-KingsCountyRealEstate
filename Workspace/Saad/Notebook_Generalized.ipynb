{
 "cells": [
  {
   "cell_type": "markdown",
   "metadata": {},
   "source": [
    "## Imports"
   ]
  },
  {
   "cell_type": "code",
   "execution_count": 1,
   "metadata": {
    "ExecuteTime": {
     "end_time": "2022-03-30T20:16:13.457612Z",
     "start_time": "2022-03-30T20:16:11.891258Z"
    }
   },
   "outputs": [],
   "source": [
    "import pandas as pd\n",
    "import numpy as np\n",
    "import seaborn as sns\n",
    "import warnings\n",
    "import matplotlib.pyplot as plt\n",
    "import math\n",
    "\n",
    "import statsmodels.api as sm\n",
    "from statsmodels.api import OLS\n",
    "\n",
    "#SKLearn stuff\n",
    "from sklearn.model_selection import train_test_split\n",
    "from sklearn.dummy import DummyRegressor\n",
    "from sklearn.pipeline import make_pipeline\n",
    "from sklearn.preprocessing import RobustScaler, StandardScaler,PolynomialFeatures,OrdinalEncoder,OneHotEncoder,power_transform\n",
    "from sklearn.compose import ColumnTransformer\n",
    "from sklearn.linear_model import LinearRegression\n",
    "from sklearn.metrics import r2_score, mean_squared_error, mean_absolute_error\n",
    "\n",
    "warnings.filterwarnings('ignore')"
   ]
  },
  {
   "cell_type": "code",
   "execution_count": 2,
   "metadata": {
    "ExecuteTime": {
     "end_time": "2022-03-30T20:16:13.533629Z",
     "start_time": "2022-03-30T20:16:13.460614Z"
    },
    "scrolled": false
   },
   "outputs": [
    {
     "name": "stdout",
     "output_type": "stream",
     "text": [
      "<class 'pandas.core.frame.DataFrame'>\n",
      "RangeIndex: 21597 entries, 0 to 21596\n",
      "Data columns (total 21 columns):\n",
      " #   Column         Non-Null Count  Dtype  \n",
      "---  ------         --------------  -----  \n",
      " 0   id             21597 non-null  int64  \n",
      " 1   date           21597 non-null  object \n",
      " 2   price          21597 non-null  float64\n",
      " 3   bedrooms       21597 non-null  int64  \n",
      " 4   bathrooms      21597 non-null  float64\n",
      " 5   sqft_living    21597 non-null  int64  \n",
      " 6   sqft_lot       21597 non-null  int64  \n",
      " 7   floors         21597 non-null  float64\n",
      " 8   waterfront     19221 non-null  object \n",
      " 9   view           21534 non-null  object \n",
      " 10  condition      21597 non-null  object \n",
      " 11  grade          21597 non-null  object \n",
      " 12  sqft_above     21597 non-null  int64  \n",
      " 13  sqft_basement  21597 non-null  object \n",
      " 14  yr_built       21597 non-null  int64  \n",
      " 15  yr_renovated   17755 non-null  float64\n",
      " 16  zipcode        21597 non-null  int64  \n",
      " 17  lat            21597 non-null  float64\n",
      " 18  long           21597 non-null  float64\n",
      " 19  sqft_living15  21597 non-null  int64  \n",
      " 20  sqft_lot15     21597 non-null  int64  \n",
      "dtypes: float64(6), int64(9), object(6)\n",
      "memory usage: 3.5+ MB\n"
     ]
    }
   ],
   "source": [
    "df = pd.read_csv('data/kc_house_data.csv')\n",
    "\n",
    "# Header cleaning. More precautionary than anything else\n",
    "df.columns = [x.strip().lower().replace(' ','').replace('-','') for x in df.columns]\n",
    "df.info()"
   ]
  },
  {
   "cell_type": "code",
   "execution_count": 3,
   "metadata": {
    "ExecuteTime": {
     "end_time": "2022-03-30T20:16:13.594643Z",
     "start_time": "2022-03-30T20:16:13.535630Z"
    },
    "scrolled": false
   },
   "outputs": [
    {
     "data": {
      "text/html": [
       "<div>\n",
       "<style scoped>\n",
       "    .dataframe tbody tr th:only-of-type {\n",
       "        vertical-align: middle;\n",
       "    }\n",
       "\n",
       "    .dataframe tbody tr th {\n",
       "        vertical-align: top;\n",
       "    }\n",
       "\n",
       "    .dataframe thead th {\n",
       "        text-align: right;\n",
       "    }\n",
       "</style>\n",
       "<table border=\"1\" class=\"dataframe\">\n",
       "  <thead>\n",
       "    <tr style=\"text-align: right;\">\n",
       "      <th></th>\n",
       "      <th>id</th>\n",
       "      <th>price</th>\n",
       "      <th>bedrooms</th>\n",
       "      <th>bathrooms</th>\n",
       "      <th>sqft_living</th>\n",
       "      <th>sqft_lot</th>\n",
       "      <th>floors</th>\n",
       "      <th>sqft_above</th>\n",
       "      <th>yr_built</th>\n",
       "      <th>yr_renovated</th>\n",
       "      <th>zipcode</th>\n",
       "      <th>lat</th>\n",
       "      <th>long</th>\n",
       "      <th>sqft_living15</th>\n",
       "      <th>sqft_lot15</th>\n",
       "    </tr>\n",
       "  </thead>\n",
       "  <tbody>\n",
       "    <tr>\n",
       "      <th>count</th>\n",
       "      <td>2.159700e+04</td>\n",
       "      <td>2.159700e+04</td>\n",
       "      <td>21597.000000</td>\n",
       "      <td>21597.000000</td>\n",
       "      <td>21597.000000</td>\n",
       "      <td>2.159700e+04</td>\n",
       "      <td>21597.000000</td>\n",
       "      <td>21597.000000</td>\n",
       "      <td>21597.000000</td>\n",
       "      <td>17755.000000</td>\n",
       "      <td>21597.000000</td>\n",
       "      <td>21597.000000</td>\n",
       "      <td>21597.000000</td>\n",
       "      <td>21597.000000</td>\n",
       "      <td>21597.000000</td>\n",
       "    </tr>\n",
       "    <tr>\n",
       "      <th>mean</th>\n",
       "      <td>4.580474e+09</td>\n",
       "      <td>5.402966e+05</td>\n",
       "      <td>3.373200</td>\n",
       "      <td>2.115826</td>\n",
       "      <td>2080.321850</td>\n",
       "      <td>1.509941e+04</td>\n",
       "      <td>1.494096</td>\n",
       "      <td>1788.596842</td>\n",
       "      <td>1970.999676</td>\n",
       "      <td>83.636778</td>\n",
       "      <td>98077.951845</td>\n",
       "      <td>47.560093</td>\n",
       "      <td>-122.213982</td>\n",
       "      <td>1986.620318</td>\n",
       "      <td>12758.283512</td>\n",
       "    </tr>\n",
       "    <tr>\n",
       "      <th>std</th>\n",
       "      <td>2.876736e+09</td>\n",
       "      <td>3.673681e+05</td>\n",
       "      <td>0.926299</td>\n",
       "      <td>0.768984</td>\n",
       "      <td>918.106125</td>\n",
       "      <td>4.141264e+04</td>\n",
       "      <td>0.539683</td>\n",
       "      <td>827.759761</td>\n",
       "      <td>29.375234</td>\n",
       "      <td>399.946414</td>\n",
       "      <td>53.513072</td>\n",
       "      <td>0.138552</td>\n",
       "      <td>0.140724</td>\n",
       "      <td>685.230472</td>\n",
       "      <td>27274.441950</td>\n",
       "    </tr>\n",
       "    <tr>\n",
       "      <th>min</th>\n",
       "      <td>1.000102e+06</td>\n",
       "      <td>7.800000e+04</td>\n",
       "      <td>1.000000</td>\n",
       "      <td>0.500000</td>\n",
       "      <td>370.000000</td>\n",
       "      <td>5.200000e+02</td>\n",
       "      <td>1.000000</td>\n",
       "      <td>370.000000</td>\n",
       "      <td>1900.000000</td>\n",
       "      <td>0.000000</td>\n",
       "      <td>98001.000000</td>\n",
       "      <td>47.155900</td>\n",
       "      <td>-122.519000</td>\n",
       "      <td>399.000000</td>\n",
       "      <td>651.000000</td>\n",
       "    </tr>\n",
       "    <tr>\n",
       "      <th>25%</th>\n",
       "      <td>2.123049e+09</td>\n",
       "      <td>3.220000e+05</td>\n",
       "      <td>3.000000</td>\n",
       "      <td>1.750000</td>\n",
       "      <td>1430.000000</td>\n",
       "      <td>5.040000e+03</td>\n",
       "      <td>1.000000</td>\n",
       "      <td>1190.000000</td>\n",
       "      <td>1951.000000</td>\n",
       "      <td>0.000000</td>\n",
       "      <td>98033.000000</td>\n",
       "      <td>47.471100</td>\n",
       "      <td>-122.328000</td>\n",
       "      <td>1490.000000</td>\n",
       "      <td>5100.000000</td>\n",
       "    </tr>\n",
       "    <tr>\n",
       "      <th>50%</th>\n",
       "      <td>3.904930e+09</td>\n",
       "      <td>4.500000e+05</td>\n",
       "      <td>3.000000</td>\n",
       "      <td>2.250000</td>\n",
       "      <td>1910.000000</td>\n",
       "      <td>7.618000e+03</td>\n",
       "      <td>1.500000</td>\n",
       "      <td>1560.000000</td>\n",
       "      <td>1975.000000</td>\n",
       "      <td>0.000000</td>\n",
       "      <td>98065.000000</td>\n",
       "      <td>47.571800</td>\n",
       "      <td>-122.231000</td>\n",
       "      <td>1840.000000</td>\n",
       "      <td>7620.000000</td>\n",
       "    </tr>\n",
       "    <tr>\n",
       "      <th>75%</th>\n",
       "      <td>7.308900e+09</td>\n",
       "      <td>6.450000e+05</td>\n",
       "      <td>4.000000</td>\n",
       "      <td>2.500000</td>\n",
       "      <td>2550.000000</td>\n",
       "      <td>1.068500e+04</td>\n",
       "      <td>2.000000</td>\n",
       "      <td>2210.000000</td>\n",
       "      <td>1997.000000</td>\n",
       "      <td>0.000000</td>\n",
       "      <td>98118.000000</td>\n",
       "      <td>47.678000</td>\n",
       "      <td>-122.125000</td>\n",
       "      <td>2360.000000</td>\n",
       "      <td>10083.000000</td>\n",
       "    </tr>\n",
       "    <tr>\n",
       "      <th>max</th>\n",
       "      <td>9.900000e+09</td>\n",
       "      <td>7.700000e+06</td>\n",
       "      <td>33.000000</td>\n",
       "      <td>8.000000</td>\n",
       "      <td>13540.000000</td>\n",
       "      <td>1.651359e+06</td>\n",
       "      <td>3.500000</td>\n",
       "      <td>9410.000000</td>\n",
       "      <td>2015.000000</td>\n",
       "      <td>2015.000000</td>\n",
       "      <td>98199.000000</td>\n",
       "      <td>47.777600</td>\n",
       "      <td>-121.315000</td>\n",
       "      <td>6210.000000</td>\n",
       "      <td>871200.000000</td>\n",
       "    </tr>\n",
       "  </tbody>\n",
       "</table>\n",
       "</div>"
      ],
      "text/plain": [
       "                 id         price      bedrooms     bathrooms   sqft_living  \\\n",
       "count  2.159700e+04  2.159700e+04  21597.000000  21597.000000  21597.000000   \n",
       "mean   4.580474e+09  5.402966e+05      3.373200      2.115826   2080.321850   \n",
       "std    2.876736e+09  3.673681e+05      0.926299      0.768984    918.106125   \n",
       "min    1.000102e+06  7.800000e+04      1.000000      0.500000    370.000000   \n",
       "25%    2.123049e+09  3.220000e+05      3.000000      1.750000   1430.000000   \n",
       "50%    3.904930e+09  4.500000e+05      3.000000      2.250000   1910.000000   \n",
       "75%    7.308900e+09  6.450000e+05      4.000000      2.500000   2550.000000   \n",
       "max    9.900000e+09  7.700000e+06     33.000000      8.000000  13540.000000   \n",
       "\n",
       "           sqft_lot        floors    sqft_above      yr_built  yr_renovated  \\\n",
       "count  2.159700e+04  21597.000000  21597.000000  21597.000000  17755.000000   \n",
       "mean   1.509941e+04      1.494096   1788.596842   1970.999676     83.636778   \n",
       "std    4.141264e+04      0.539683    827.759761     29.375234    399.946414   \n",
       "min    5.200000e+02      1.000000    370.000000   1900.000000      0.000000   \n",
       "25%    5.040000e+03      1.000000   1190.000000   1951.000000      0.000000   \n",
       "50%    7.618000e+03      1.500000   1560.000000   1975.000000      0.000000   \n",
       "75%    1.068500e+04      2.000000   2210.000000   1997.000000      0.000000   \n",
       "max    1.651359e+06      3.500000   9410.000000   2015.000000   2015.000000   \n",
       "\n",
       "            zipcode           lat          long  sqft_living15     sqft_lot15  \n",
       "count  21597.000000  21597.000000  21597.000000   21597.000000   21597.000000  \n",
       "mean   98077.951845     47.560093   -122.213982    1986.620318   12758.283512  \n",
       "std       53.513072      0.138552      0.140724     685.230472   27274.441950  \n",
       "min    98001.000000     47.155900   -122.519000     399.000000     651.000000  \n",
       "25%    98033.000000     47.471100   -122.328000    1490.000000    5100.000000  \n",
       "50%    98065.000000     47.571800   -122.231000    1840.000000    7620.000000  \n",
       "75%    98118.000000     47.678000   -122.125000    2360.000000   10083.000000  \n",
       "max    98199.000000     47.777600   -121.315000    6210.000000  871200.000000  "
      ]
     },
     "execution_count": 3,
     "metadata": {},
     "output_type": "execute_result"
    }
   ],
   "source": [
    "df.describe()"
   ]
  },
  {
   "cell_type": "markdown",
   "metadata": {},
   "source": [
    "## Remove outliers"
   ]
  },
  {
   "cell_type": "code",
   "execution_count": 4,
   "metadata": {
    "ExecuteTime": {
     "end_time": "2022-03-30T20:16:13.808691Z",
     "start_time": "2022-03-30T20:16:13.596644Z"
    },
    "scrolled": true
   },
   "outputs": [
    {
     "data": {
      "text/plain": [
       "{'whiskers': [<matplotlib.lines.Line2D at 0x2c775b377f0>,\n",
       "  <matplotlib.lines.Line2D at 0x2c775b37b50>],\n",
       " 'caps': [<matplotlib.lines.Line2D at 0x2c775b37eb0>,\n",
       "  <matplotlib.lines.Line2D at 0x2c775b4e250>],\n",
       " 'boxes': [<matplotlib.lines.Line2D at 0x2c775b37490>],\n",
       " 'medians': [<matplotlib.lines.Line2D at 0x2c775b4e5b0>],\n",
       " 'fliers': [<matplotlib.lines.Line2D at 0x2c775b4e910>],\n",
       " 'means': []}"
      ]
     },
     "execution_count": 4,
     "metadata": {},
     "output_type": "execute_result"
    },
    {
     "data": {
      "image/png": "[encoded data removed]",
      "text/plain": [
       "<Figure size 432x288 with 1 Axes>"
      ]
     },
     "metadata": {
      "needs_background": "light"
     },
     "output_type": "display_data"
    }
   ],
   "source": [
    "plt.boxplot(df.price)"
   ]
  },
  {
   "cell_type": "code",
   "execution_count": 5,
   "metadata": {
    "ExecuteTime": {
     "end_time": "2022-03-30T20:16:13.824695Z",
     "start_time": "2022-03-30T20:16:13.809691Z"
    }
   },
   "outputs": [
    {
     "data": {
      "text/plain": [
       "63"
      ]
     },
     "execution_count": 5,
     "metadata": {},
     "output_type": "execute_result"
    }
   ],
   "source": [
    "df.view.isna().sum()"
   ]
  },
  {
   "cell_type": "code",
   "execution_count": 6,
   "metadata": {
    "ExecuteTime": {
     "end_time": "2022-03-30T20:16:13.858708Z",
     "start_time": "2022-03-30T20:16:13.827695Z"
    }
   },
   "outputs": [],
   "source": [
    "# Zach's code\n",
    "price_q75, price_q25 = np.percentile(df['price'],[75,25])\n",
    "intr_qrt = price_q75-price_q25\n",
    "upper_price = price_q75 + (1.5*intr_qrt)\n",
    "lower_price = price_q25 - (1.5*intr_qrt)\n",
    "lower_price, upper_price\n",
    "df = df[df['price'] <= upper_price]\n",
    "df = df[df['price'] >= lower_price]"
   ]
  },
  {
   "cell_type": "code",
   "execution_count": 7,
   "metadata": {
    "ExecuteTime": {
     "end_time": "2022-03-30T20:16:13.888709Z",
     "start_time": "2022-03-30T20:16:13.862704Z"
    },
    "scrolled": true
   },
   "outputs": [],
   "source": [
    "# Removing outliers\n",
    "df = df[df['bedrooms'] <=15] #2 records remove. 33 BR home\n",
    "df = df[df['grade'] != '3 Poor'] #only 1 instance of this exists\n"
   ]
  },
  {
   "cell_type": "markdown",
   "metadata": {},
   "source": [
    "## Data Cleaning"
   ]
  },
  {
   "cell_type": "code",
   "execution_count": 8,
   "metadata": {
    "ExecuteTime": {
     "end_time": "2022-03-30T20:16:13.904713Z",
     "start_time": "2022-03-30T20:16:13.894711Z"
    },
    "scrolled": true
   },
   "outputs": [
    {
     "data": {
      "text/plain": [
       "0        3\n",
       "1        3\n",
       "2        2\n",
       "3        4\n",
       "4        3\n",
       "        ..\n",
       "21592    3\n",
       "21593    4\n",
       "21594    2\n",
       "21595    3\n",
       "21596    2\n",
       "Name: bedrooms, Length: 20437, dtype: int64"
      ]
     },
     "execution_count": 8,
     "metadata": {},
     "output_type": "execute_result"
    }
   ],
   "source": [
    "df.bedrooms"
   ]
  },
  {
   "cell_type": "code",
   "execution_count": 9,
   "metadata": {
    "ExecuteTime": {
     "end_time": "2022-03-30T20:16:13.920717Z",
     "start_time": "2022-03-30T20:16:13.907715Z"
    }
   },
   "outputs": [],
   "source": [
    "#Making a categorical bedroom columns\n",
    "df['bedrooms_bin']=pd.cut(df['bedrooms'], bins = [0,1,2,3,4,5,6,99], labels=['1BR','2BR','3BR','4BR','5BR','6BR','7+BR'])"
   ]
  },
  {
   "cell_type": "code",
   "execution_count": 10,
   "metadata": {
    "ExecuteTime": {
     "end_time": "2022-03-30T20:16:13.936719Z",
     "start_time": "2022-03-30T20:16:13.921717Z"
    },
    "scrolled": true
   },
   "outputs": [
    {
     "data": {
      "text/plain": [
       "0        3BR\n",
       "1        3BR\n",
       "2        2BR\n",
       "3        4BR\n",
       "4        3BR\n",
       "        ... \n",
       "21592    3BR\n",
       "21593    4BR\n",
       "21594    2BR\n",
       "21595    3BR\n",
       "21596    2BR\n",
       "Name: bedrooms_bin, Length: 20437, dtype: category\n",
       "Categories (7, object): ['1BR' < '2BR' < '3BR' < '4BR' < '5BR' < '6BR' < '7+BR']"
      ]
     },
     "execution_count": 10,
     "metadata": {},
     "output_type": "execute_result"
    }
   ],
   "source": [
    "df['bedrooms_bin']"
   ]
  },
  {
   "cell_type": "code",
   "execution_count": 11,
   "metadata": {
    "ExecuteTime": {
     "end_time": "2022-03-30T20:16:13.952724Z",
     "start_time": "2022-03-30T20:16:13.939722Z"
    }
   },
   "outputs": [
    {
     "data": {
      "text/plain": [
       "3BR     9597\n",
       "4BR     6304\n",
       "2BR     2736\n",
       "5BR     1335\n",
       "6BR      225\n",
       "1BR      194\n",
       "7+BR      46\n",
       "Name: bedrooms_bin, dtype: int64"
      ]
     },
     "execution_count": 11,
     "metadata": {},
     "output_type": "execute_result"
    }
   ],
   "source": [
    "df.bedrooms_bin.value_counts()"
   ]
  },
  {
   "cell_type": "code",
   "execution_count": 12,
   "metadata": {
    "ExecuteTime": {
     "end_time": "2022-03-30T20:16:14.172774Z",
     "start_time": "2022-03-30T20:16:13.953725Z"
    },
    "scrolled": false
   },
   "outputs": [
    {
     "data": {
      "text/plain": [
       "(array([ 194., 2736., 9597., 6304., 1335.,  225.,   46.]),\n",
       " array([0.        , 0.85714286, 1.71428571, 2.57142857, 3.42857143,\n",
       "        4.28571429, 5.14285714, 6.        ]),\n",
       " <BarContainer object of 7 artists>)"
      ]
     },
     "execution_count": 12,
     "metadata": {},
     "output_type": "execute_result"
    },
    {
     "data": {
      "image/png": "[encoded data removed]",
      "text/plain": [
       "<Figure size 432x288 with 1 Axes>"
      ]
     },
     "metadata": {
      "needs_background": "light"
     },
     "output_type": "display_data"
    }
   ],
   "source": [
    "plt.hist(df.bedrooms_bin.sort_values(),bins = 7)"
   ]
  },
  {
   "cell_type": "markdown",
   "metadata": {},
   "source": [
    "sqft_basement is an object?"
   ]
  },
  {
   "cell_type": "code",
   "execution_count": 13,
   "metadata": {
    "ExecuteTime": {
     "end_time": "2022-03-30T20:16:14.203781Z",
     "start_time": "2022-03-30T20:16:14.173774Z"
    },
    "scrolled": false
   },
   "outputs": [
    {
     "data": {
      "text/plain": [
       "0        0.0\n",
       "12682    0.0\n",
       "12685    0.0\n",
       "12686    0.0\n",
       "12687    0.0\n",
       "        ... \n",
       "1205       ?\n",
       "9715       ?\n",
       "12933      ?\n",
       "19777      ?\n",
       "4171       ?\n",
       "Name: sqft_basement, Length: 20437, dtype: object"
      ]
     },
     "execution_count": 13,
     "metadata": {},
     "output_type": "execute_result"
    }
   ],
   "source": [
    "df.sqft_basement.sort_values()"
   ]
  },
  {
   "cell_type": "markdown",
   "metadata": {
    "ExecuteTime": {
     "end_time": "2022-03-29T00:09:18.368318Z",
     "start_time": "2022-03-29T00:09:18.351315Z"
    }
   },
   "source": [
    "sqft_basement is a list of strings that include some unknowns marked as '?'"
   ]
  },
  {
   "cell_type": "code",
   "execution_count": 14,
   "metadata": {
    "ExecuteTime": {
     "end_time": "2022-03-30T20:16:14.219784Z",
     "start_time": "2022-03-30T20:16:14.205782Z"
    }
   },
   "outputs": [
    {
     "data": {
      "text/plain": [
       "0.02113813181973871"
      ]
     },
     "execution_count": 14,
     "metadata": {},
     "output_type": "execute_result"
    }
   ],
   "source": [
    "len(df[df.sqft_basement=='?']) /len(df)"
   ]
  },
  {
   "cell_type": "code",
   "execution_count": 15,
   "metadata": {
    "ExecuteTime": {
     "end_time": "2022-03-30T20:16:14.235787Z",
     "start_time": "2022-03-30T20:16:14.221784Z"
    }
   },
   "outputs": [],
   "source": [
    "df_subset_basement = df[df.sqft_basement !='?'] #subset of  records where sqft_basement is not '?'\n",
    "df_subset_basement.sqft_basement = df_subset_basement.sqft_basement.astype(float,)"
   ]
  },
  {
   "cell_type": "code",
   "execution_count": 16,
   "metadata": {
    "ExecuteTime": {
     "end_time": "2022-03-30T20:16:14.251791Z",
     "start_time": "2022-03-30T20:16:14.236787Z"
    }
   },
   "outputs": [
    {
     "data": {
      "text/plain": [
       "1.0"
      ]
     },
     "execution_count": 16,
     "metadata": {},
     "output_type": "execute_result"
    }
   ],
   "source": [
    "#check to see how much of the current sqft_basement (excluding '?') can be explained by (sqft_living-sqft_above)\n",
    "\n",
    "(df_subset_basement.sqft_living - df_subset_basement.sqft_above == df_subset_basement.sqft_basement).sum()/df_subset_basement.shape[0]"
   ]
  },
  {
   "cell_type": "markdown",
   "metadata": {},
   "source": [
    "So, 98% of the sqft_basement data has a value in it which can be explained using this math. The remaining missing data is filled with '?'. Fill using this math"
   ]
  },
  {
   "cell_type": "code",
   "execution_count": 17,
   "metadata": {
    "ExecuteTime": {
     "end_time": "2022-03-30T20:16:14.267866Z",
     "start_time": "2022-03-30T20:16:14.253792Z"
    }
   },
   "outputs": [],
   "source": [
    "df['sqft_basement'] = df['sqft_living'] - df['sqft_above']"
   ]
  },
  {
   "cell_type": "code",
   "execution_count": 18,
   "metadata": {
    "ExecuteTime": {
     "end_time": "2022-03-30T20:16:14.283798Z",
     "start_time": "2022-03-30T20:16:14.271796Z"
    }
   },
   "outputs": [],
   "source": [
    "# # Change view rating to a numeric value. Probably don't need it\n",
    "# df['view'] = df['view'].map({'EXCELLENT':5,\n",
    "#                              'GOOD':4,\n",
    "#                              'AVERAGE':3,\n",
    "#                              'FAIR':2,\n",
    "#                              'NONE':1})\n",
    "\n",
    "# # Change condition rating to a numeric value. Probably don't need it\n",
    "# df['condition'] = df['condition'].map({'Very Good':5,\n",
    "#                                        'Good':4,\n",
    "#                                        'Average':3,\n",
    "#                                        'Fair':2,\n",
    "#                                        'Poor':1})\n",
    "\n",
    "# # Changing grade to just the numeric value of the grade\n",
    "# df['grade'] = df['grade'].str.split(' ').str[0].astype(int)"
   ]
  },
  {
   "cell_type": "code",
   "execution_count": 19,
   "metadata": {
    "ExecuteTime": {
     "end_time": "2022-03-30T20:16:14.314806Z",
     "start_time": "2022-03-30T20:16:14.286800Z"
    },
    "scrolled": false
   },
   "outputs": [
    {
     "name": "stdout",
     "output_type": "stream",
     "text": [
      "<class 'pandas.core.frame.DataFrame'>\n",
      "Int64Index: 20437 entries, 0 to 21596\n",
      "Data columns (total 22 columns):\n",
      " #   Column         Non-Null Count  Dtype   \n",
      "---  ------         --------------  -----   \n",
      " 0   id             20437 non-null  int64   \n",
      " 1   date           20437 non-null  object  \n",
      " 2   price          20437 non-null  float64 \n",
      " 3   bedrooms       20437 non-null  int64   \n",
      " 4   bathrooms      20437 non-null  float64 \n",
      " 5   sqft_living    20437 non-null  int64   \n",
      " 6   sqft_lot       20437 non-null  int64   \n",
      " 7   floors         20437 non-null  float64 \n",
      " 8   waterfront     18168 non-null  object  \n",
      " 9   view           20379 non-null  object  \n",
      " 10  condition      20437 non-null  object  \n",
      " 11  grade          20437 non-null  object  \n",
      " 12  sqft_above     20437 non-null  int64   \n",
      " 13  sqft_basement  20437 non-null  int64   \n",
      " 14  yr_built       20437 non-null  int64   \n",
      " 15  yr_renovated   16810 non-null  float64 \n",
      " 16  zipcode        20437 non-null  int64   \n",
      " 17  lat            20437 non-null  float64 \n",
      " 18  long           20437 non-null  float64 \n",
      " 19  sqft_living15  20437 non-null  int64   \n",
      " 20  sqft_lot15     20437 non-null  int64   \n",
      " 21  bedrooms_bin   20437 non-null  category\n",
      "dtypes: category(1), float64(6), int64(10), object(5)\n",
      "memory usage: 3.5+ MB\n"
     ]
    }
   ],
   "source": [
    "df.info()"
   ]
  },
  {
   "cell_type": "code",
   "execution_count": 20,
   "metadata": {
    "ExecuteTime": {
     "end_time": "2022-03-30T20:16:14.330809Z",
     "start_time": "2022-03-30T20:16:14.316807Z"
    }
   },
   "outputs": [
    {
     "name": "stdout",
     "output_type": "stream",
     "text": [
      "0.002837989920242697\n"
     ]
    }
   ],
   "source": [
    "#The number of records where view is nan is 0.29% of the dataset. Hence dropped\n",
    "print(df.view.isna().sum() /df.shape[0])\n",
    "df.dropna(subset=['view'],inplace=True)"
   ]
  },
  {
   "cell_type": "markdown",
   "metadata": {},
   "source": [
    "## Analyzing Corelations"
   ]
  },
  {
   "cell_type": "code",
   "execution_count": 21,
   "metadata": {
    "ExecuteTime": {
     "end_time": "2022-03-30T20:16:14.361817Z",
     "start_time": "2022-03-30T20:16:14.336810Z"
    },
    "scrolled": false
   },
   "outputs": [
    {
     "data": {
      "text/plain": [
       "zipcode         -0.018555\n",
       "id               0.010250\n",
       "yr_built         0.061387\n",
       "long             0.072725\n",
       "sqft_lot15       0.082488\n",
       "yr_renovated     0.089741\n",
       "sqft_lot         0.093572\n",
       "sqft_basement    0.233010\n",
       "floors           0.273611\n",
       "bedrooms         0.300831\n",
       "lat              0.431021\n",
       "bathrooms        0.455204\n",
       "sqft_above       0.530569\n",
       "sqft_living15    0.561947\n",
       "sqft_living      0.621509\n",
       "price            1.000000\n",
       "Name: price, dtype: float64"
      ]
     },
     "execution_count": 21,
     "metadata": {},
     "output_type": "execute_result"
    }
   ],
   "source": [
    "df.corr().price.sort_values()"
   ]
  },
  {
   "cell_type": "markdown",
   "metadata": {
    "ExecuteTime": {
     "end_time": "2022-03-29T06:00:45.088970Z",
     "start_time": "2022-03-29T06:00:43.843600Z"
    }
   },
   "source": [
    "dropping yr_renovated . not enough records\n",
    "\n",
    "dropping id, yr_built, floors, date, sqft_lot, sqft_lot15. Not enough correlation. Making predictions based on other columns\n",
    "\n",
    "stakeholder: potential investor, homebuyer\n",
    "\n",
    "keeping zipcode, lat, long for the purpose of potential visualizations"
   ]
  },
  {
   "cell_type": "code",
   "execution_count": 22,
   "metadata": {
    "ExecuteTime": {
     "end_time": "2022-03-30T20:16:14.379842Z",
     "start_time": "2022-03-30T20:16:14.363816Z"
    }
   },
   "outputs": [],
   "source": [
    "df = df.drop(columns = ['id','yr_renovated','floors','date'],axis =1)"
   ]
  },
  {
   "cell_type": "code",
   "execution_count": 23,
   "metadata": {
    "ExecuteTime": {
     "end_time": "2022-03-30T20:16:14.393823Z",
     "start_time": "2022-03-30T20:16:14.385822Z"
    }
   },
   "outputs": [
    {
     "data": {
      "text/plain": [
       "7 Average        8935\n",
       "8 Good           5931\n",
       "9 Better         2308\n",
       "6 Low Average    2030\n",
       "10 Very Good      764\n",
       "5 Fair            242\n",
       "11 Excellent      137\n",
       "4 Low              27\n",
       "12 Luxury           5\n",
       "Name: grade, dtype: int64"
      ]
     },
     "execution_count": 23,
     "metadata": {},
     "output_type": "execute_result"
    }
   ],
   "source": [
    "df.grade.value_counts()"
   ]
  },
  {
   "cell_type": "code",
   "execution_count": 24,
   "metadata": {
    "ExecuteTime": {
     "end_time": "2022-03-30T20:16:15.898165Z",
     "start_time": "2022-03-30T20:16:14.396823Z"
    },
    "scrolled": false
   },
   "outputs": [
    {
     "data": {
      "image/png": "[encoded data removed]",
      "text/plain": [
       "<Figure size 1080x720 with 2 Axes>"
      ]
     },
     "metadata": {},
     "output_type": "display_data"
    }
   ],
   "source": [
    "# sns.heatmap(df.corr(),annot=True)\n",
    "with sns.axes_style(\"white\"):\n",
    "    f, ax = plt.subplots(figsize=(15, 10))\n",
    "    ax = sns.heatmap(abs(df.corr()),annot=True)"
   ]
  },
  {
   "cell_type": "markdown",
   "metadata": {},
   "source": [
    "Note the corelation between\n",
    "- sqft_living and sqft_above (because sqft_living = sqft_above + sqft_basement). In fact a lot of the sqft are highly corelated\n",
    "    - try feature engineering between them, or just pick 1 or 2\n",
    "- grade to sqft_living15, sqft_above\n",
    "- bathrooms to grade\n",
    "- grade and sqft_living has highest impact on target (price)"
   ]
  },
  {
   "cell_type": "code",
   "execution_count": 25,
   "metadata": {
    "ExecuteTime": {
     "end_time": "2022-03-30T20:16:15.932191Z",
     "start_time": "2022-03-30T20:16:15.902164Z"
    }
   },
   "outputs": [
    {
     "name": "stdout",
     "output_type": "stream",
     "text": [
      "<class 'pandas.core.frame.DataFrame'>\n",
      "Int64Index: 20379 entries, 0 to 21596\n",
      "Data columns (total 18 columns):\n",
      " #   Column         Non-Null Count  Dtype   \n",
      "---  ------         --------------  -----   \n",
      " 0   price          20379 non-null  float64 \n",
      " 1   bedrooms       20379 non-null  int64   \n",
      " 2   bathrooms      20379 non-null  float64 \n",
      " 3   sqft_living    20379 non-null  int64   \n",
      " 4   sqft_lot       20379 non-null  int64   \n",
      " 5   waterfront     18115 non-null  object  \n",
      " 6   view           20379 non-null  object  \n",
      " 7   condition      20379 non-null  object  \n",
      " 8   grade          20379 non-null  object  \n",
      " 9   sqft_above     20379 non-null  int64   \n",
      " 10  sqft_basement  20379 non-null  int64   \n",
      " 11  yr_built       20379 non-null  int64   \n",
      " 12  zipcode        20379 non-null  int64   \n",
      " 13  lat            20379 non-null  float64 \n",
      " 14  long           20379 non-null  float64 \n",
      " 15  sqft_living15  20379 non-null  int64   \n",
      " 16  sqft_lot15     20379 non-null  int64   \n",
      " 17  bedrooms_bin   20379 non-null  category\n",
      "dtypes: category(1), float64(4), int64(9), object(4)\n",
      "memory usage: 2.8+ MB\n"
     ]
    }
   ],
   "source": [
    "df.info()"
   ]
  },
  {
   "cell_type": "code",
   "execution_count": 26,
   "metadata": {
    "ExecuteTime": {
     "end_time": "2022-03-30T20:16:15.946174Z",
     "start_time": "2022-03-30T20:16:15.934171Z"
    },
    "scrolled": false
   },
   "outputs": [
    {
     "data": {
      "text/plain": [
       "price               0\n",
       "bedrooms            0\n",
       "bathrooms           0\n",
       "sqft_living         0\n",
       "sqft_lot            0\n",
       "waterfront       2264\n",
       "view                0\n",
       "condition           0\n",
       "grade               0\n",
       "sqft_above          0\n",
       "sqft_basement       0\n",
       "yr_built            0\n",
       "zipcode             0\n",
       "lat                 0\n",
       "long                0\n",
       "sqft_living15       0\n",
       "sqft_lot15          0\n",
       "bedrooms_bin        0\n",
       "dtype: int64"
      ]
     },
     "execution_count": 26,
     "metadata": {},
     "output_type": "execute_result"
    }
   ],
   "source": [
    "df.isna().sum()"
   ]
  },
  {
   "cell_type": "code",
   "execution_count": 27,
   "metadata": {
    "ExecuteTime": {
     "end_time": "2022-03-30T20:16:15.962179Z",
     "start_time": "2022-03-30T20:16:15.949175Z"
    }
   },
   "outputs": [
    {
     "data": {
      "text/plain": [
       "0.11109475440404337"
      ]
     },
     "execution_count": 27,
     "metadata": {},
     "output_type": "execute_result"
    }
   ],
   "source": [
    "df.waterfront.isna().sum() / len(df)"
   ]
  },
  {
   "cell_type": "markdown",
   "metadata": {},
   "source": [
    "We'll have to keep an eye on the waterfront. Maybe drop the values? ~11% of data. Fill with 'NO'"
   ]
  },
  {
   "cell_type": "code",
   "execution_count": 28,
   "metadata": {
    "ExecuteTime": {
     "end_time": "2022-03-30T20:16:15.978182Z",
     "start_time": "2022-03-30T20:16:15.967178Z"
    }
   },
   "outputs": [],
   "source": [
    "df.waterfront = df.waterfront.fillna('NO')"
   ]
  },
  {
   "cell_type": "code",
   "execution_count": 29,
   "metadata": {
    "ExecuteTime": {
     "end_time": "2022-03-30T20:16:15.994184Z",
     "start_time": "2022-03-30T20:16:15.980183Z"
    }
   },
   "outputs": [
    {
     "data": {
      "text/plain": [
       "price            0\n",
       "bedrooms         0\n",
       "bathrooms        0\n",
       "sqft_living      0\n",
       "sqft_lot         0\n",
       "waterfront       0\n",
       "view             0\n",
       "condition        0\n",
       "grade            0\n",
       "sqft_above       0\n",
       "sqft_basement    0\n",
       "yr_built         0\n",
       "zipcode          0\n",
       "lat              0\n",
       "long             0\n",
       "sqft_living15    0\n",
       "sqft_lot15       0\n",
       "bedrooms_bin     0\n",
       "dtype: int64"
      ]
     },
     "execution_count": 29,
     "metadata": {},
     "output_type": "execute_result"
    }
   ],
   "source": [
    "df.isna().sum()"
   ]
  },
  {
   "cell_type": "markdown",
   "metadata": {
    "ExecuteTime": {
     "end_time": "2022-03-30T12:37:24.159699Z",
     "start_time": "2022-03-30T12:37:24.145717Z"
    }
   },
   "source": [
    "## Helper Functions"
   ]
  },
  {
   "cell_type": "code",
   "execution_count": 30,
   "metadata": {
    "ExecuteTime": {
     "end_time": "2022-03-30T20:16:16.010188Z",
     "start_time": "2022-03-30T20:16:15.995185Z"
    }
   },
   "outputs": [],
   "source": [
    "def OHE_scale_lr(X_train,y_train,\n",
    "                 X_test,y_test,\n",
    "                 \n",
    "                 num_col,\n",
    "                 cat_col =[]\n",
    "                ):\n",
    "    \"\"\"\n",
    "    Creates a pipeline to perform a \n",
    "    - One-Hot-Encoding (OHE)\n",
    "    - Standard Scaling\n",
    "    - Linear Regression\n",
    "\n",
    "    cat_col = list of categorical column names to process with OHE. default empty list\n",
    "    num_col = list of numerical column names\n",
    "    \n",
    "    Keep transformations out of this function. Function applid post train-test split\n",
    "    \"\"\"\n",
    "    if not (cat_col or num_col):\n",
    "        print(\"no columns provided to perform operations\")\n",
    "        return None\n",
    "    \n",
    "    #List Comp to get subst of columns\n",
    "    list_cols= [col for sublist_cols in [num_col,cat_col]for col in sublist_cols]\n",
    "    print('Categorical columns:',cat_col,'\\nNumerical Columns: ',num_col)\n",
    "    \n",
    "    #Create subsets of train and test sets\n",
    "    X_train_subset = X_train[list_cols]\n",
    "    X_test_subset = X_test[list_cols]\n",
    "    \n",
    "    \n",
    "    if cat_col:\n",
    "        X_train_subset,X_test_subset = OHEColXFER(cat_col,X_train_subset, X_test_subset)\n",
    "    \n",
    "    pipe = make_pipeline(StandardScaler(), LinearRegression())\n",
    "    pipe.fit(X_train_subset, y_train) \n",
    "    \n",
    "    train_preds= pipe.predict(X_train_subset)\n",
    "    test_preds = pipe.predict(X_test_subset)\n",
    "\n",
    "    print(\"Training Score:\",pipe.score(X_train_subset, y_train))\n",
    "    print(\"Test Score:\",pipe.score(X_test_subset, y_test))\n",
    "    get_train_test_metrics(y_train,train_preds,y_test,test_preds)\n",
    "    \n",
    "\n",
    "    return X_train_enc,X_test_enc"
   ]
  },
  {
   "cell_type": "code",
   "execution_count": 31,
   "metadata": {
    "ExecuteTime": {
     "end_time": "2022-03-30T20:16:16.025191Z",
     "start_time": "2022-03-30T20:16:16.011189Z"
    }
   },
   "outputs": [],
   "source": [
    "def OHEColXFER(cat_col,X_train_subset, X_test_subset):\n",
    "    \"\"\"\n",
    "    In place column transformation using One Hot Encoding \n",
    "    \"\"\" \n",
    "    \n",
    "    #Instantiate Encoder\n",
    "    encoder = OneHotEncoder(handle_unknown='error',\n",
    "                            drop='first',\n",
    "                            categories='auto')\n",
    "    \n",
    "    #Instantiate Column Transformer\n",
    "    ct = ColumnTransformer(transformers=[('ohe', encoder, cat_col)],\n",
    "                           remainder='passthrough')\n",
    "\n",
    "    #Fit Column Transformer\n",
    "    ct.fit(X_train_subset)\n",
    "\n",
    "    #Get your encoded Training and Test sets. Sometimes need to force todens(0) depending upon size of output\n",
    "    try:\n",
    "        X_train_enc = ct.transform(X_train_subset).todense()\n",
    "    except:\n",
    "        X_train_enc = ct.transform(X_train_subset)\n",
    "    \n",
    "    try:\n",
    "        X_test_enc = ct.transform(X_test_subset).todense()\n",
    "    except:\n",
    "        X_test_enc = ct.transform(X_test_subset)\n",
    "    \n",
    "    # Get a nice dataframe\n",
    "    X_train_enc = pd.DataFrame(X_train_enc, columns=ct.get_feature_names())\n",
    "    X_test_enc = pd.DataFrame(X_test_enc, columns=ct.get_feature_names())\n",
    "    "
   ]
  },
  {
   "cell_type": "code",
   "execution_count": 32,
   "metadata": {
    "ExecuteTime": {
     "end_time": "2022-03-30T20:16:16.041195Z",
     "start_time": "2022-03-30T20:16:16.028192Z"
    }
   },
   "outputs": [],
   "source": [
    "def get_train_test_metrics(y_train,train_preds,\n",
    "               y_test,test_preds\n",
    "              ):\n",
    "    \"\"\"\n",
    "    Prints different training and testing metrics, namely R2, MAE, MSE, RMSE\n",
    "    \"\"\"\n",
    "    print(\"\\nTraining Metrics:\")\n",
    "    # R2\n",
    "    print(f\"R2: {r2_score(y_train, train_preds):.3f}\")\n",
    "    # MAE\n",
    "    print(f\"Mean Absolute Error: {mean_absolute_error(y_train, train_preds):.3f}\")\n",
    "    # MSE\n",
    "    print(f\"Mean Squared Error: {mean_squared_error(y_train, train_preds):.3f}\")\n",
    "    # RMSE - just MSE but set squared=False\n",
    "    print(f\"Root Mean Squared Error: {mean_squared_error(y_train, train_preds, squared=False):.3f}\")\n",
    "    \n",
    "    print(\"\\nTesting Metrics:\")\n",
    "    # R2\n",
    "    print(f\"R2: {r2_score(y_test, test_preds):.3f}\")\n",
    "    # MAE\n",
    "    print(f\"Mean Absolute Error: {mean_absolute_error(y_test, test_preds):.3f}\")\n",
    "    # MSE\n",
    "    print(f\"Mean Squared Error: {mean_squared_error(y_test, test_preds):.3f}\")\n",
    "    # RMSE - just MSE but set squared=False\n",
    "    print(f\"Root Mean Squared Error: {mean_squared_error(y_test, test_preds, squared=False):.3f}\")"
   ]
  },
  {
   "cell_type": "code",
   "execution_count": 33,
   "metadata": {
    "ExecuteTime": {
     "end_time": "2022-03-30T20:16:16.057199Z",
     "start_time": "2022-03-30T20:16:16.043196Z"
    }
   },
   "outputs": [],
   "source": [
    "def ohe(df, df2, column):    \n",
    "    for col in column:\n",
    "        train = df[[col]]\n",
    "        ohe = OneHotEncoder(drop=\"first\", sparse=False, handle_unknown=\"error\")\n",
    "        ohe.fit(train)\n",
    "        encoded_train = ohe.transform(train)\n",
    "        col_names = [f\"{col}_{f}\" for f in ohe.get_feature_names()]\n",
    "        encoded_train = pd.DataFrame(encoded_train,\n",
    "                                     columns=col_names, index=df.index)\n",
    "        df = pd.concat([df, encoded_train], axis=1)\n",
    "        \n",
    "        test = df2[[col]]\n",
    "        encoded_test = ohe.transform(test)\n",
    "        col_names = [f\"{col}_{f}\" for f in ohe.get_feature_names()]\n",
    "        encoded_test = pd.DataFrame(encoded_test, \n",
    "                                    columns=col_names, index=df2.index)\n",
    "        df2 = pd.concat([df2, encoded_test], axis=1)\n",
    "    return df, df2, encoded_train.columns.tolist()"
   ]
  },
  {
   "cell_type": "markdown",
   "metadata": {},
   "source": [
    "## Train Test split"
   ]
  },
  {
   "cell_type": "code",
   "execution_count": 34,
   "metadata": {
    "ExecuteTime": {
     "end_time": "2022-03-30T20:16:16.072202Z",
     "start_time": "2022-03-30T20:16:16.059201Z"
    }
   },
   "outputs": [],
   "source": [
    "# Define our X and y\n",
    "X = df.drop(columns='price')\n",
    "y = df['price']"
   ]
  },
  {
   "cell_type": "code",
   "execution_count": 35,
   "metadata": {
    "ExecuteTime": {
     "end_time": "2022-03-30T20:16:16.087206Z",
     "start_time": "2022-03-30T20:16:16.074202Z"
    }
   },
   "outputs": [],
   "source": [
    "# Train test split\n",
    "X_train, X_test, y_train, y_test = train_test_split(\n",
    "    X, y, test_size=0.30, random_state=42)"
   ]
  },
  {
   "cell_type": "markdown",
   "metadata": {},
   "source": [
    "## Models"
   ]
  },
  {
   "cell_type": "markdown",
   "metadata": {},
   "source": [
    "### Model 00. Dummy Regressor"
   ]
  },
  {
   "cell_type": "code",
   "execution_count": 36,
   "metadata": {
    "ExecuteTime": {
     "end_time": "2022-03-30T20:16:16.102265Z",
     "start_time": "2022-03-30T20:16:16.088206Z"
    }
   },
   "outputs": [],
   "source": [
    "dummy = DummyRegressor() #mean strategy"
   ]
  },
  {
   "cell_type": "code",
   "execution_count": 37,
   "metadata": {
    "ExecuteTime": {
     "end_time": "2022-03-30T20:16:16.118212Z",
     "start_time": "2022-03-30T20:16:16.105210Z"
    }
   },
   "outputs": [
    {
     "data": {
      "text/plain": [
       "DummyRegressor()"
      ]
     },
     "execution_count": 37,
     "metadata": {},
     "output_type": "execute_result"
    }
   ],
   "source": [
    "dummy.fit(X_train,y_train)"
   ]
  },
  {
   "cell_type": "code",
   "execution_count": 38,
   "metadata": {
    "ExecuteTime": {
     "end_time": "2022-03-30T20:16:16.138219Z",
     "start_time": "2022-03-30T20:16:16.119213Z"
    }
   },
   "outputs": [
    {
     "data": {
      "text/plain": [
       "0.0"
      ]
     },
     "execution_count": 38,
     "metadata": {},
     "output_type": "execute_result"
    }
   ],
   "source": [
    "dummy.score(X_train,y_train)"
   ]
  },
  {
   "cell_type": "code",
   "execution_count": 39,
   "metadata": {
    "ExecuteTime": {
     "end_time": "2022-03-30T20:16:16.150220Z",
     "start_time": "2022-03-30T20:16:16.141218Z"
    }
   },
   "outputs": [
    {
     "data": {
      "text/plain": [
       "-8.727889404758216e-06"
      ]
     },
     "execution_count": 39,
     "metadata": {},
     "output_type": "execute_result"
    }
   ],
   "source": [
    "dummy.score(X_test,y_test)"
   ]
  },
  {
   "cell_type": "markdown",
   "metadata": {},
   "source": [
    "Dummy Regressor has a 0 R^2 score?"
   ]
  },
  {
   "cell_type": "markdown",
   "metadata": {},
   "source": [
    "### Model 0. Using highest corr coefficient feature: sqft_living"
   ]
  },
  {
   "cell_type": "code",
   "execution_count": 42,
   "metadata": {
    "ExecuteTime": {
     "end_time": "2022-03-30T20:16:26.206224Z",
     "start_time": "2022-03-30T20:16:26.183219Z"
    }
   },
   "outputs": [
    {
     "data": {
      "text/plain": [
       "sqft_living    0.621509\n",
       "price          1.000000\n",
       "Name: price, dtype: float64"
      ]
     },
     "execution_count": 42,
     "metadata": {},
     "output_type": "execute_result"
    }
   ],
   "source": [
    "df.corr().price.sort_values()[-2:]"
   ]
  },
  {
   "cell_type": "code",
   "execution_count": 43,
   "metadata": {
    "ExecuteTime": {
     "end_time": "2022-03-30T20:16:26.720119Z",
     "start_time": "2022-03-30T20:16:26.688113Z"
    }
   },
   "outputs": [
    {
     "name": "stdout",
     "output_type": "stream",
     "text": [
      "Categorical columns: [] \n",
      "Numerical Columns:  ['sqft_living']\n",
      "Training Score: 0.38724291100841735\n",
      "Test Score: 0.383954425521002\n",
      "\n",
      "Training Metrics:\n",
      "R2: 0.387\n",
      "Mean Absolute Error: 131306.631\n",
      "Mean Squared Error: 26535522450.985\n",
      "Root Mean Squared Error: 162897.276\n",
      "\n",
      "Testing Metrics:\n",
      "R2: 0.384\n",
      "Mean Absolute Error: 130433.433\n",
      "Mean Squared Error: 26429196077.413\n",
      "Root Mean Squared Error: 162570.588\n"
     ]
    },
    {
     "ename": "NameError",
     "evalue": "name 'X_train_enc' is not defined",
     "output_type": "error",
     "traceback": [
      "\u001b[1;31m---------------------------------------------------------------------------\u001b[0m",
      "\u001b[1;31mNameError\u001b[0m                                 Traceback (most recent call last)",
      "\u001b[1;32m<ipython-input-43-95bb384e78a9>\u001b[0m in \u001b[0;36m<module>\u001b[1;34m\u001b[0m\n\u001b[1;32m----> 1\u001b[1;33m OHE_scale_lr(X_train,y_train,\n\u001b[0m\u001b[0;32m      2\u001b[0m                  \u001b[0mX_test\u001b[0m\u001b[1;33m,\u001b[0m\u001b[0my_test\u001b[0m\u001b[1;33m,\u001b[0m\u001b[1;33m\u001b[0m\u001b[1;33m\u001b[0m\u001b[0m\n\u001b[0;32m      3\u001b[0m                  \u001b[0mnum_col\u001b[0m \u001b[1;33m=\u001b[0m \u001b[1;33m[\u001b[0m\u001b[1;34m'sqft_living'\u001b[0m\u001b[1;33m]\u001b[0m\u001b[1;33m,\u001b[0m\u001b[1;33m\u001b[0m\u001b[1;33m\u001b[0m\u001b[0m\n\u001b[0;32m      4\u001b[0m                  \u001b[0mcat_col\u001b[0m \u001b[1;33m=\u001b[0m\u001b[1;33m[\u001b[0m\u001b[1;33m]\u001b[0m\u001b[1;33m\u001b[0m\u001b[1;33m\u001b[0m\u001b[0m\n\u001b[0;32m      5\u001b[0m                 )\n",
      "\u001b[1;32m<ipython-input-30-007d32c4f980>\u001b[0m in \u001b[0;36mOHE_scale_lr\u001b[1;34m(X_train, y_train, X_test, y_test, num_col, cat_col)\u001b[0m\n\u001b[0;32m     43\u001b[0m \u001b[1;33m\u001b[0m\u001b[0m\n\u001b[0;32m     44\u001b[0m \u001b[1;33m\u001b[0m\u001b[0m\n\u001b[1;32m---> 45\u001b[1;33m     \u001b[1;32mreturn\u001b[0m \u001b[0mX_train_enc\u001b[0m\u001b[1;33m,\u001b[0m\u001b[0mX_test_enc\u001b[0m\u001b[1;33m\u001b[0m\u001b[1;33m\u001b[0m\u001b[0m\n\u001b[0m",
      "\u001b[1;31mNameError\u001b[0m: name 'X_train_enc' is not defined"
     ]
    }
   ],
   "source": [
    "OHE_scale_lr(X_train,y_train,\n",
    "                 X_test,y_test,                 \n",
    "                 num_col = ['sqft_living'],\n",
    "                 cat_col =[]\n",
    "                )"
   ]
  },
  {
   "cell_type": "markdown",
   "metadata": {
    "ExecuteTime": {
     "end_time": "2022-03-29T16:23:11.564096Z",
     "start_time": "2022-03-29T16:23:11.559095Z"
    }
   },
   "source": [
    "Any chosen model **should perform better than this**"
   ]
  },
  {
   "cell_type": "markdown",
   "metadata": {
    "ExecuteTime": {
     "end_time": "2022-03-29T06:10:22.705829Z",
     "start_time": "2022-03-29T06:10:22.698828Z"
    }
   },
   "source": [
    "###  Model 1 : Sqft_living, grade"
   ]
  },
  {
   "cell_type": "markdown",
   "metadata": {},
   "source": [
    "Note: These should have a high colinearity. Just curious"
   ]
  },
  {
   "cell_type": "code",
   "execution_count": 44,
   "metadata": {
    "ExecuteTime": {
     "end_time": "2022-03-30T20:16:29.580419Z",
     "start_time": "2022-03-30T20:16:29.535409Z"
    },
    "scrolled": false
   },
   "outputs": [
    {
     "name": "stdout",
     "output_type": "stream",
     "text": [
      "Categorical columns: ['grade'] \n",
      "Numerical Columns:  ['sqft_living']\n"
     ]
    },
    {
     "ename": "TypeError",
     "evalue": "cannot unpack non-iterable NoneType object",
     "output_type": "error",
     "traceback": [
      "\u001b[1;31m---------------------------------------------------------------------------\u001b[0m",
      "\u001b[1;31mTypeError\u001b[0m                                 Traceback (most recent call last)",
      "\u001b[1;32m<ipython-input-44-06a26bd6cc25>\u001b[0m in \u001b[0;36m<module>\u001b[1;34m\u001b[0m\n\u001b[1;32m----> 1\u001b[1;33m OHE_scale_lr(X_train,y_train,\n\u001b[0m\u001b[0;32m      2\u001b[0m                  \u001b[0mX_test\u001b[0m\u001b[1;33m,\u001b[0m\u001b[0my_test\u001b[0m\u001b[1;33m,\u001b[0m\u001b[1;33m\u001b[0m\u001b[1;33m\u001b[0m\u001b[0m\n\u001b[0;32m      3\u001b[0m                  \u001b[0mnum_col\u001b[0m \u001b[1;33m=\u001b[0m \u001b[1;33m[\u001b[0m\u001b[1;34m'sqft_living'\u001b[0m\u001b[1;33m]\u001b[0m\u001b[1;33m,\u001b[0m\u001b[1;33m\u001b[0m\u001b[1;33m\u001b[0m\u001b[0m\n\u001b[0;32m      4\u001b[0m                  \u001b[0mcat_col\u001b[0m \u001b[1;33m=\u001b[0m\u001b[1;33m[\u001b[0m\u001b[1;34m'grade'\u001b[0m\u001b[1;33m]\u001b[0m\u001b[1;33m\u001b[0m\u001b[1;33m\u001b[0m\u001b[0m\n\u001b[0;32m      5\u001b[0m                 )\n",
      "\u001b[1;32m<ipython-input-30-007d32c4f980>\u001b[0m in \u001b[0;36mOHE_scale_lr\u001b[1;34m(X_train, y_train, X_test, y_test, num_col, cat_col)\u001b[0m\n\u001b[0;32m     30\u001b[0m \u001b[1;33m\u001b[0m\u001b[0m\n\u001b[0;32m     31\u001b[0m     \u001b[1;32mif\u001b[0m \u001b[0mcat_col\u001b[0m\u001b[1;33m:\u001b[0m\u001b[1;33m\u001b[0m\u001b[1;33m\u001b[0m\u001b[0m\n\u001b[1;32m---> 32\u001b[1;33m         \u001b[0mX_train_subset\u001b[0m\u001b[1;33m,\u001b[0m\u001b[0mX_test_subset\u001b[0m \u001b[1;33m=\u001b[0m \u001b[0mOHEColXFER\u001b[0m\u001b[1;33m(\u001b[0m\u001b[0mcat_col\u001b[0m\u001b[1;33m,\u001b[0m\u001b[0mX_train_subset\u001b[0m\u001b[1;33m,\u001b[0m \u001b[0mX_test_subset\u001b[0m\u001b[1;33m)\u001b[0m\u001b[1;33m\u001b[0m\u001b[1;33m\u001b[0m\u001b[0m\n\u001b[0m\u001b[0;32m     33\u001b[0m \u001b[1;33m\u001b[0m\u001b[0m\n\u001b[0;32m     34\u001b[0m     \u001b[0mpipe\u001b[0m \u001b[1;33m=\u001b[0m \u001b[0mmake_pipeline\u001b[0m\u001b[1;33m(\u001b[0m\u001b[0mStandardScaler\u001b[0m\u001b[1;33m(\u001b[0m\u001b[1;33m)\u001b[0m\u001b[1;33m,\u001b[0m \u001b[0mLinearRegression\u001b[0m\u001b[1;33m(\u001b[0m\u001b[1;33m)\u001b[0m\u001b[1;33m)\u001b[0m\u001b[1;33m\u001b[0m\u001b[1;33m\u001b[0m\u001b[0m\n",
      "\u001b[1;31mTypeError\u001b[0m: cannot unpack non-iterable NoneType object"
     ]
    }
   ],
   "source": [
    "OHE_scale_lr(X_train,y_train,\n",
    "                 X_test,y_test,                 \n",
    "                 num_col = ['sqft_living'],\n",
    "                 cat_col =['grade']\n",
    "                )"
   ]
  },
  {
   "cell_type": "markdown",
   "metadata": {},
   "source": [
    "### Model 2: Sqft_living/Sqft_living15, grade"
   ]
  },
  {
   "cell_type": "markdown",
   "metadata": {},
   "source": [
    "Feature engineering a ratio of living area to that of the neighborhood. Thinking: biggest house in the neighborhood is a good predicter"
   ]
  },
  {
   "cell_type": "code",
   "execution_count": 45,
   "metadata": {
    "ExecuteTime": {
     "end_time": "2022-03-30T20:16:29.959339Z",
     "start_time": "2022-03-30T20:16:29.952298Z"
    }
   },
   "outputs": [],
   "source": [
    "X_train['sqft_living/sqft_living15'] = X_train.sqft_living / X_train.sqft_living15\n",
    "X_test['sqft_living/sqft_living15'] = X_test.sqft_living / X_test.sqft_living15"
   ]
  },
  {
   "cell_type": "code",
   "execution_count": 46,
   "metadata": {
    "ExecuteTime": {
     "end_time": "2022-03-30T20:16:30.145409Z",
     "start_time": "2022-03-30T20:16:30.087396Z"
    }
   },
   "outputs": [
    {
     "name": "stdout",
     "output_type": "stream",
     "text": [
      "Categorical columns: ['grade'] \n",
      "Numerical Columns:  ['sqft_living/sqft_living15']\n"
     ]
    },
    {
     "ename": "TypeError",
     "evalue": "cannot unpack non-iterable NoneType object",
     "output_type": "error",
     "traceback": [
      "\u001b[1;31m---------------------------------------------------------------------------\u001b[0m",
      "\u001b[1;31mTypeError\u001b[0m                                 Traceback (most recent call last)",
      "\u001b[1;32m<ipython-input-46-8a905c81dd82>\u001b[0m in \u001b[0;36m<module>\u001b[1;34m\u001b[0m\n\u001b[1;32m----> 1\u001b[1;33m OHE_scale_lr(X_train,y_train,\n\u001b[0m\u001b[0;32m      2\u001b[0m                  \u001b[0mX_test\u001b[0m\u001b[1;33m,\u001b[0m\u001b[0my_test\u001b[0m\u001b[1;33m,\u001b[0m\u001b[1;33m\u001b[0m\u001b[1;33m\u001b[0m\u001b[0m\n\u001b[0;32m      3\u001b[0m                  \u001b[0mnum_col\u001b[0m \u001b[1;33m=\u001b[0m \u001b[1;33m[\u001b[0m\u001b[1;34m'sqft_living/sqft_living15'\u001b[0m\u001b[1;33m]\u001b[0m\u001b[1;33m,\u001b[0m\u001b[1;33m\u001b[0m\u001b[1;33m\u001b[0m\u001b[0m\n\u001b[0;32m      4\u001b[0m                  \u001b[0mcat_col\u001b[0m \u001b[1;33m=\u001b[0m\u001b[1;33m[\u001b[0m\u001b[1;34m'grade'\u001b[0m\u001b[1;33m]\u001b[0m\u001b[1;33m\u001b[0m\u001b[1;33m\u001b[0m\u001b[0m\n\u001b[0;32m      5\u001b[0m                 )\n",
      "\u001b[1;32m<ipython-input-30-007d32c4f980>\u001b[0m in \u001b[0;36mOHE_scale_lr\u001b[1;34m(X_train, y_train, X_test, y_test, num_col, cat_col)\u001b[0m\n\u001b[0;32m     30\u001b[0m \u001b[1;33m\u001b[0m\u001b[0m\n\u001b[0;32m     31\u001b[0m     \u001b[1;32mif\u001b[0m \u001b[0mcat_col\u001b[0m\u001b[1;33m:\u001b[0m\u001b[1;33m\u001b[0m\u001b[1;33m\u001b[0m\u001b[0m\n\u001b[1;32m---> 32\u001b[1;33m         \u001b[0mX_train_subset\u001b[0m\u001b[1;33m,\u001b[0m\u001b[0mX_test_subset\u001b[0m \u001b[1;33m=\u001b[0m \u001b[0mOHEColXFER\u001b[0m\u001b[1;33m(\u001b[0m\u001b[0mcat_col\u001b[0m\u001b[1;33m,\u001b[0m\u001b[0mX_train_subset\u001b[0m\u001b[1;33m,\u001b[0m \u001b[0mX_test_subset\u001b[0m\u001b[1;33m)\u001b[0m\u001b[1;33m\u001b[0m\u001b[1;33m\u001b[0m\u001b[0m\n\u001b[0m\u001b[0;32m     33\u001b[0m \u001b[1;33m\u001b[0m\u001b[0m\n\u001b[0;32m     34\u001b[0m     \u001b[0mpipe\u001b[0m \u001b[1;33m=\u001b[0m \u001b[0mmake_pipeline\u001b[0m\u001b[1;33m(\u001b[0m\u001b[0mStandardScaler\u001b[0m\u001b[1;33m(\u001b[0m\u001b[1;33m)\u001b[0m\u001b[1;33m,\u001b[0m \u001b[0mLinearRegression\u001b[0m\u001b[1;33m(\u001b[0m\u001b[1;33m)\u001b[0m\u001b[1;33m)\u001b[0m\u001b[1;33m\u001b[0m\u001b[1;33m\u001b[0m\u001b[0m\n",
      "\u001b[1;31mTypeError\u001b[0m: cannot unpack non-iterable NoneType object"
     ]
    }
   ],
   "source": [
    "OHE_scale_lr(X_train,y_train,\n",
    "                 X_test,y_test,                 \n",
    "                 num_col = ['sqft_living/sqft_living15'],\n",
    "                 cat_col =['grade']\n",
    "                )"
   ]
  },
  {
   "cell_type": "markdown",
   "metadata": {},
   "source": [
    "yeesh"
   ]
  },
  {
   "cell_type": "markdown",
   "metadata": {},
   "source": [
    "### Model 3: Sqft_living, Sqft_lot,grade"
   ]
  },
  {
   "cell_type": "markdown",
   "metadata": {},
   "source": [
    "Trying variations of Sqft_living and Sqft_lot\n",
    "Thinking: Either individually, an addition or a ratio of the living/lot might be a good predicter"
   ]
  },
  {
   "cell_type": "markdown",
   "metadata": {},
   "source": [
    "#### Model 3a: Sqft_living, Sqft_lot"
   ]
  },
  {
   "cell_type": "code",
   "execution_count": 47,
   "metadata": {
    "ExecuteTime": {
     "end_time": "2022-03-30T20:16:31.036433Z",
     "start_time": "2022-03-30T20:16:30.993424Z"
    }
   },
   "outputs": [
    {
     "name": "stdout",
     "output_type": "stream",
     "text": [
      "Categorical columns: [] \n",
      "Numerical Columns:  ['sqft_living', 'sqft_lot']\n",
      "Training Score: 0.3872454358288966\n",
      "Test Score: 0.38399515410064355\n",
      "\n",
      "Training Metrics:\n",
      "R2: 0.387\n",
      "Mean Absolute Error: 131302.720\n",
      "Mean Squared Error: 26535413113.318\n",
      "Root Mean Squared Error: 162896.940\n",
      "\n",
      "Testing Metrics:\n",
      "R2: 0.384\n",
      "Mean Absolute Error: 130426.689\n",
      "Mean Squared Error: 26427448765.750\n",
      "Root Mean Squared Error: 162565.214\n"
     ]
    },
    {
     "ename": "NameError",
     "evalue": "name 'X_train_enc' is not defined",
     "output_type": "error",
     "traceback": [
      "\u001b[1;31m---------------------------------------------------------------------------\u001b[0m",
      "\u001b[1;31mNameError\u001b[0m                                 Traceback (most recent call last)",
      "\u001b[1;32m<ipython-input-47-bd36806522f1>\u001b[0m in \u001b[0;36m<module>\u001b[1;34m\u001b[0m\n\u001b[1;32m----> 1\u001b[1;33m OHE_scale_lr(X_train,y_train,\n\u001b[0m\u001b[0;32m      2\u001b[0m                  \u001b[0mX_test\u001b[0m\u001b[1;33m,\u001b[0m\u001b[0my_test\u001b[0m\u001b[1;33m,\u001b[0m\u001b[1;33m\u001b[0m\u001b[1;33m\u001b[0m\u001b[0m\n\u001b[0;32m      3\u001b[0m                  \u001b[0mnum_col\u001b[0m \u001b[1;33m=\u001b[0m \u001b[1;33m[\u001b[0m\u001b[1;34m'sqft_living'\u001b[0m\u001b[1;33m,\u001b[0m\u001b[1;34m'sqft_lot'\u001b[0m\u001b[1;33m]\u001b[0m\u001b[1;33m,\u001b[0m\u001b[1;33m\u001b[0m\u001b[1;33m\u001b[0m\u001b[0m\n\u001b[0;32m      4\u001b[0m                  \u001b[0mcat_col\u001b[0m \u001b[1;33m=\u001b[0m\u001b[1;33m[\u001b[0m\u001b[1;33m]\u001b[0m\u001b[1;33m\u001b[0m\u001b[1;33m\u001b[0m\u001b[0m\n\u001b[0;32m      5\u001b[0m                 )\n",
      "\u001b[1;32m<ipython-input-30-007d32c4f980>\u001b[0m in \u001b[0;36mOHE_scale_lr\u001b[1;34m(X_train, y_train, X_test, y_test, num_col, cat_col)\u001b[0m\n\u001b[0;32m     43\u001b[0m \u001b[1;33m\u001b[0m\u001b[0m\n\u001b[0;32m     44\u001b[0m \u001b[1;33m\u001b[0m\u001b[0m\n\u001b[1;32m---> 45\u001b[1;33m     \u001b[1;32mreturn\u001b[0m \u001b[0mX_train_enc\u001b[0m\u001b[1;33m,\u001b[0m\u001b[0mX_test_enc\u001b[0m\u001b[1;33m\u001b[0m\u001b[1;33m\u001b[0m\u001b[0m\n\u001b[0m",
      "\u001b[1;31mNameError\u001b[0m: name 'X_train_enc' is not defined"
     ]
    }
   ],
   "source": [
    "OHE_scale_lr(X_train,y_train,\n",
    "                 X_test,y_test,                 \n",
    "                 num_col = ['sqft_living','sqft_lot'],\n",
    "                 cat_col =[]\n",
    "                )"
   ]
  },
  {
   "cell_type": "markdown",
   "metadata": {},
   "source": [
    "probably also has high multicolinarity. Also, not much better than Model 0"
   ]
  },
  {
   "cell_type": "markdown",
   "metadata": {},
   "source": [
    "#### Model 3b: Sqft_living + Sqft_lot, grade"
   ]
  },
  {
   "cell_type": "code",
   "execution_count": 48,
   "metadata": {
    "ExecuteTime": {
     "end_time": "2022-03-30T20:16:31.145457Z",
     "start_time": "2022-03-30T20:16:31.140455Z"
    }
   },
   "outputs": [],
   "source": [
    "X_train['sqft_living + sqft_lot'] = X_train['sqft_living'] + X_train['sqft_lot']\n",
    "X_test['sqft_living + sqft_lot'] = X_test['sqft_living'] + X_test['sqft_lot']"
   ]
  },
  {
   "cell_type": "code",
   "execution_count": 49,
   "metadata": {
    "ExecuteTime": {
     "end_time": "2022-03-30T20:16:31.208472Z",
     "start_time": "2022-03-30T20:16:31.146458Z"
    }
   },
   "outputs": [
    {
     "name": "stdout",
     "output_type": "stream",
     "text": [
      "Categorical columns: ['grade'] \n",
      "Numerical Columns:  ['sqft_living + sqft_lot']\n"
     ]
    },
    {
     "ename": "TypeError",
     "evalue": "cannot unpack non-iterable NoneType object",
     "output_type": "error",
     "traceback": [
      "\u001b[1;31m---------------------------------------------------------------------------\u001b[0m",
      "\u001b[1;31mTypeError\u001b[0m                                 Traceback (most recent call last)",
      "\u001b[1;32m<ipython-input-49-6585b6a65781>\u001b[0m in \u001b[0;36m<module>\u001b[1;34m\u001b[0m\n\u001b[1;32m----> 1\u001b[1;33m OHE_scale_lr(X_train,y_train,\n\u001b[0m\u001b[0;32m      2\u001b[0m                  \u001b[0mX_test\u001b[0m\u001b[1;33m,\u001b[0m\u001b[0my_test\u001b[0m\u001b[1;33m,\u001b[0m\u001b[1;33m\u001b[0m\u001b[1;33m\u001b[0m\u001b[0m\n\u001b[0;32m      3\u001b[0m                  \u001b[0mnum_col\u001b[0m \u001b[1;33m=\u001b[0m \u001b[1;33m[\u001b[0m\u001b[1;34m'sqft_living + sqft_lot'\u001b[0m\u001b[1;33m]\u001b[0m\u001b[1;33m,\u001b[0m\u001b[1;33m\u001b[0m\u001b[1;33m\u001b[0m\u001b[0m\n\u001b[0;32m      4\u001b[0m                  \u001b[0mcat_col\u001b[0m \u001b[1;33m=\u001b[0m\u001b[1;33m[\u001b[0m\u001b[1;34m'grade'\u001b[0m\u001b[1;33m]\u001b[0m\u001b[1;33m\u001b[0m\u001b[1;33m\u001b[0m\u001b[0m\n\u001b[0;32m      5\u001b[0m                 )\n",
      "\u001b[1;32m<ipython-input-30-007d32c4f980>\u001b[0m in \u001b[0;36mOHE_scale_lr\u001b[1;34m(X_train, y_train, X_test, y_test, num_col, cat_col)\u001b[0m\n\u001b[0;32m     30\u001b[0m \u001b[1;33m\u001b[0m\u001b[0m\n\u001b[0;32m     31\u001b[0m     \u001b[1;32mif\u001b[0m \u001b[0mcat_col\u001b[0m\u001b[1;33m:\u001b[0m\u001b[1;33m\u001b[0m\u001b[1;33m\u001b[0m\u001b[0m\n\u001b[1;32m---> 32\u001b[1;33m         \u001b[0mX_train_subset\u001b[0m\u001b[1;33m,\u001b[0m\u001b[0mX_test_subset\u001b[0m \u001b[1;33m=\u001b[0m \u001b[0mOHEColXFER\u001b[0m\u001b[1;33m(\u001b[0m\u001b[0mcat_col\u001b[0m\u001b[1;33m,\u001b[0m\u001b[0mX_train_subset\u001b[0m\u001b[1;33m,\u001b[0m \u001b[0mX_test_subset\u001b[0m\u001b[1;33m)\u001b[0m\u001b[1;33m\u001b[0m\u001b[1;33m\u001b[0m\u001b[0m\n\u001b[0m\u001b[0;32m     33\u001b[0m \u001b[1;33m\u001b[0m\u001b[0m\n\u001b[0;32m     34\u001b[0m     \u001b[0mpipe\u001b[0m \u001b[1;33m=\u001b[0m \u001b[0mmake_pipeline\u001b[0m\u001b[1;33m(\u001b[0m\u001b[0mStandardScaler\u001b[0m\u001b[1;33m(\u001b[0m\u001b[1;33m)\u001b[0m\u001b[1;33m,\u001b[0m \u001b[0mLinearRegression\u001b[0m\u001b[1;33m(\u001b[0m\u001b[1;33m)\u001b[0m\u001b[1;33m)\u001b[0m\u001b[1;33m\u001b[0m\u001b[1;33m\u001b[0m\u001b[0m\n",
      "\u001b[1;31mTypeError\u001b[0m: cannot unpack non-iterable NoneType object"
     ]
    }
   ],
   "source": [
    "OHE_scale_lr(X_train,y_train,\n",
    "                 X_test,y_test,                 \n",
    "                 num_col = ['sqft_living + sqft_lot'],\n",
    "                 cat_col =['grade']\n",
    "                )"
   ]
  },
  {
   "cell_type": "markdown",
   "metadata": {},
   "source": [
    "#### Model 3c: Sqft_living / Sqft_lot, grade"
   ]
  },
  {
   "cell_type": "code",
   "execution_count": 50,
   "metadata": {
    "ExecuteTime": {
     "end_time": "2022-03-30T20:16:31.332503Z",
     "start_time": "2022-03-30T20:16:31.318497Z"
    }
   },
   "outputs": [],
   "source": [
    "X_train['sqft_living/sqft_lot'] = X_train['sqft_living'] / X_train['sqft_lot']\n",
    "X_test['sqft_living/sqft_lot'] = X_test['sqft_living'] / X_test['sqft_lot']"
   ]
  },
  {
   "cell_type": "code",
   "execution_count": 51,
   "metadata": {
    "ExecuteTime": {
     "end_time": "2022-03-30T20:16:31.379510Z",
     "start_time": "2022-03-30T20:16:31.334500Z"
    },
    "scrolled": true
   },
   "outputs": [
    {
     "name": "stdout",
     "output_type": "stream",
     "text": [
      "Categorical columns: ['grade'] \n",
      "Numerical Columns:  ['sqft_living/sqft_lot']\n"
     ]
    },
    {
     "ename": "TypeError",
     "evalue": "cannot unpack non-iterable NoneType object",
     "output_type": "error",
     "traceback": [
      "\u001b[1;31m---------------------------------------------------------------------------\u001b[0m",
      "\u001b[1;31mTypeError\u001b[0m                                 Traceback (most recent call last)",
      "\u001b[1;32m<ipython-input-51-bb078a992987>\u001b[0m in \u001b[0;36m<module>\u001b[1;34m\u001b[0m\n\u001b[1;32m----> 1\u001b[1;33m OHE_scale_lr(X_train,y_train,\n\u001b[0m\u001b[0;32m      2\u001b[0m                  \u001b[0mX_test\u001b[0m\u001b[1;33m,\u001b[0m\u001b[0my_test\u001b[0m\u001b[1;33m,\u001b[0m\u001b[1;33m\u001b[0m\u001b[1;33m\u001b[0m\u001b[0m\n\u001b[0;32m      3\u001b[0m                  \u001b[0mnum_col\u001b[0m \u001b[1;33m=\u001b[0m \u001b[1;33m[\u001b[0m\u001b[1;34m'sqft_living/sqft_lot'\u001b[0m\u001b[1;33m]\u001b[0m\u001b[1;33m,\u001b[0m\u001b[1;33m\u001b[0m\u001b[1;33m\u001b[0m\u001b[0m\n\u001b[0;32m      4\u001b[0m                  \u001b[0mcat_col\u001b[0m \u001b[1;33m=\u001b[0m\u001b[1;33m[\u001b[0m\u001b[1;34m'grade'\u001b[0m\u001b[1;33m]\u001b[0m\u001b[1;33m\u001b[0m\u001b[1;33m\u001b[0m\u001b[0m\n\u001b[0;32m      5\u001b[0m                 )\n",
      "\u001b[1;32m<ipython-input-30-007d32c4f980>\u001b[0m in \u001b[0;36mOHE_scale_lr\u001b[1;34m(X_train, y_train, X_test, y_test, num_col, cat_col)\u001b[0m\n\u001b[0;32m     30\u001b[0m \u001b[1;33m\u001b[0m\u001b[0m\n\u001b[0;32m     31\u001b[0m     \u001b[1;32mif\u001b[0m \u001b[0mcat_col\u001b[0m\u001b[1;33m:\u001b[0m\u001b[1;33m\u001b[0m\u001b[1;33m\u001b[0m\u001b[0m\n\u001b[1;32m---> 32\u001b[1;33m         \u001b[0mX_train_subset\u001b[0m\u001b[1;33m,\u001b[0m\u001b[0mX_test_subset\u001b[0m \u001b[1;33m=\u001b[0m \u001b[0mOHEColXFER\u001b[0m\u001b[1;33m(\u001b[0m\u001b[0mcat_col\u001b[0m\u001b[1;33m,\u001b[0m\u001b[0mX_train_subset\u001b[0m\u001b[1;33m,\u001b[0m \u001b[0mX_test_subset\u001b[0m\u001b[1;33m)\u001b[0m\u001b[1;33m\u001b[0m\u001b[1;33m\u001b[0m\u001b[0m\n\u001b[0m\u001b[0;32m     33\u001b[0m \u001b[1;33m\u001b[0m\u001b[0m\n\u001b[0;32m     34\u001b[0m     \u001b[0mpipe\u001b[0m \u001b[1;33m=\u001b[0m \u001b[0mmake_pipeline\u001b[0m\u001b[1;33m(\u001b[0m\u001b[0mStandardScaler\u001b[0m\u001b[1;33m(\u001b[0m\u001b[1;33m)\u001b[0m\u001b[1;33m,\u001b[0m \u001b[0mLinearRegression\u001b[0m\u001b[1;33m(\u001b[0m\u001b[1;33m)\u001b[0m\u001b[1;33m)\u001b[0m\u001b[1;33m\u001b[0m\u001b[1;33m\u001b[0m\u001b[0m\n",
      "\u001b[1;31mTypeError\u001b[0m: cannot unpack non-iterable NoneType object"
     ]
    }
   ],
   "source": [
    "OHE_scale_lr(X_train,y_train,\n",
    "                 X_test,y_test,                 \n",
    "                 num_col = ['sqft_living/sqft_lot'],\n",
    "                 cat_col =['grade']\n",
    "                )"
   ]
  },
  {
   "cell_type": "markdown",
   "metadata": {},
   "source": [
    "Feature engineering betwen sqft_living and sqft_lot makes no diff"
   ]
  },
  {
   "cell_type": "markdown",
   "metadata": {},
   "source": [
    "### Model 4: View, Waterfront, Grade"
   ]
  },
  {
   "cell_type": "markdown",
   "metadata": {},
   "source": [
    "Something different. No square footage. Based on view, waterfront, grade. Will require little more work, since waterfront has a bunch of nulls"
   ]
  },
  {
   "cell_type": "code",
   "execution_count": null,
   "metadata": {
    "ExecuteTime": {
     "end_time": "2022-03-30T20:16:31.380511Z",
     "start_time": "2022-03-30T20:16:31.365Z"
    },
    "scrolled": true
   },
   "outputs": [],
   "source": [
    "OHE_scale_lr(X_train,y_train,\n",
    "                 X_test,y_test,                 \n",
    "                 num_col = [],\n",
    "                 cat_col =['view','waterfront','grade']\n",
    "                )"
   ]
  },
  {
   "cell_type": "markdown",
   "metadata": {},
   "source": [
    "Better, but meh. Marginally better than Model 0"
   ]
  },
  {
   "cell_type": "markdown",
   "metadata": {},
   "source": [
    "### Model 5: Bedroom, Bathroom, sqft_living"
   ]
  },
  {
   "cell_type": "markdown",
   "metadata": {},
   "source": [
    "ok. ignoring square footage probably not a good idea. Using room counts as a predicter"
   ]
  },
  {
   "cell_type": "markdown",
   "metadata": {},
   "source": [
    "#### Model 5a"
   ]
  },
  {
   "cell_type": "code",
   "execution_count": 52,
   "metadata": {
    "ExecuteTime": {
     "end_time": "2022-03-30T20:16:31.580555Z",
     "start_time": "2022-03-30T20:16:31.531546Z"
    },
    "scrolled": true
   },
   "outputs": [
    {
     "name": "stdout",
     "output_type": "stream",
     "text": [
      "Categorical columns: [] \n",
      "Numerical Columns:  ['bedrooms', 'bathrooms', 'sqft_living']\n",
      "Training Score: 0.3954060646579909\n",
      "Test Score: 0.395010827929423\n",
      "\n",
      "Training Metrics:\n",
      "R2: 0.395\n",
      "Mean Absolute Error: 129877.861\n",
      "Mean Squared Error: 26182016060.230\n",
      "Root Mean Squared Error: 161808.578\n",
      "\n",
      "Testing Metrics:\n",
      "R2: 0.395\n",
      "Mean Absolute Error: 128775.430\n",
      "Mean Squared Error: 25954861321.563\n",
      "Root Mean Squared Error: 161105.125\n"
     ]
    },
    {
     "ename": "NameError",
     "evalue": "name 'X_train_enc' is not defined",
     "output_type": "error",
     "traceback": [
      "\u001b[1;31m---------------------------------------------------------------------------\u001b[0m",
      "\u001b[1;31mNameError\u001b[0m                                 Traceback (most recent call last)",
      "\u001b[1;32m<ipython-input-52-28488789ec32>\u001b[0m in \u001b[0;36m<module>\u001b[1;34m\u001b[0m\n\u001b[1;32m----> 1\u001b[1;33m OHE_scale_lr(X_train,y_train,\n\u001b[0m\u001b[0;32m      2\u001b[0m                  \u001b[0mX_test\u001b[0m\u001b[1;33m,\u001b[0m\u001b[0my_test\u001b[0m\u001b[1;33m,\u001b[0m\u001b[1;33m\u001b[0m\u001b[1;33m\u001b[0m\u001b[0m\n\u001b[0;32m      3\u001b[0m                  \u001b[0mnum_col\u001b[0m \u001b[1;33m=\u001b[0m \u001b[1;33m[\u001b[0m\u001b[1;34m'bedrooms'\u001b[0m\u001b[1;33m,\u001b[0m\u001b[1;34m'bathrooms'\u001b[0m\u001b[1;33m,\u001b[0m\u001b[1;34m'sqft_living'\u001b[0m\u001b[1;33m]\u001b[0m\u001b[1;33m,\u001b[0m\u001b[1;33m\u001b[0m\u001b[1;33m\u001b[0m\u001b[0m\n\u001b[0;32m      4\u001b[0m                  \u001b[0mcat_col\u001b[0m \u001b[1;33m=\u001b[0m\u001b[1;33m[\u001b[0m\u001b[1;33m]\u001b[0m\u001b[1;33m\u001b[0m\u001b[1;33m\u001b[0m\u001b[0m\n\u001b[0;32m      5\u001b[0m                 )\n",
      "\u001b[1;32m<ipython-input-30-007d32c4f980>\u001b[0m in \u001b[0;36mOHE_scale_lr\u001b[1;34m(X_train, y_train, X_test, y_test, num_col, cat_col)\u001b[0m\n\u001b[0;32m     43\u001b[0m \u001b[1;33m\u001b[0m\u001b[0m\n\u001b[0;32m     44\u001b[0m \u001b[1;33m\u001b[0m\u001b[0m\n\u001b[1;32m---> 45\u001b[1;33m     \u001b[1;32mreturn\u001b[0m \u001b[0mX_train_enc\u001b[0m\u001b[1;33m,\u001b[0m\u001b[0mX_test_enc\u001b[0m\u001b[1;33m\u001b[0m\u001b[1;33m\u001b[0m\u001b[0m\n\u001b[0m",
      "\u001b[1;31mNameError\u001b[0m: name 'X_train_enc' is not defined"
     ]
    }
   ],
   "source": [
    "OHE_scale_lr(X_train,y_train,\n",
    "                 X_test,y_test,                 \n",
    "                 num_col = ['bedrooms','bathrooms','sqft_living'],\n",
    "                 cat_col =[]\n",
    "                )"
   ]
  },
  {
   "cell_type": "markdown",
   "metadata": {},
   "source": [
    "#### Model 5b"
   ]
  },
  {
   "cell_type": "code",
   "execution_count": 53,
   "metadata": {
    "ExecuteTime": {
     "end_time": "2022-03-30T20:16:31.750594Z",
     "start_time": "2022-03-30T20:16:31.694619Z"
    },
    "scrolled": true
   },
   "outputs": [
    {
     "name": "stdout",
     "output_type": "stream",
     "text": [
      "Categorical columns: ['bedrooms_bin'] \n",
      "Numerical Columns:  ['bathrooms', 'sqft_living']\n"
     ]
    },
    {
     "ename": "TypeError",
     "evalue": "cannot unpack non-iterable NoneType object",
     "output_type": "error",
     "traceback": [
      "\u001b[1;31m---------------------------------------------------------------------------\u001b[0m",
      "\u001b[1;31mTypeError\u001b[0m                                 Traceback (most recent call last)",
      "\u001b[1;32m<ipython-input-53-3624128e6a9b>\u001b[0m in \u001b[0;36m<module>\u001b[1;34m\u001b[0m\n\u001b[1;32m----> 1\u001b[1;33m OHE_scale_lr(X_train,y_train,\n\u001b[0m\u001b[0;32m      2\u001b[0m                  \u001b[0mX_test\u001b[0m\u001b[1;33m,\u001b[0m\u001b[0my_test\u001b[0m\u001b[1;33m,\u001b[0m\u001b[1;33m\u001b[0m\u001b[1;33m\u001b[0m\u001b[0m\n\u001b[0;32m      3\u001b[0m                  \u001b[0mnum_col\u001b[0m \u001b[1;33m=\u001b[0m \u001b[1;33m[\u001b[0m\u001b[1;34m'bathrooms'\u001b[0m\u001b[1;33m,\u001b[0m\u001b[1;34m'sqft_living'\u001b[0m\u001b[1;33m]\u001b[0m\u001b[1;33m,\u001b[0m\u001b[1;33m\u001b[0m\u001b[1;33m\u001b[0m\u001b[0m\n\u001b[0;32m      4\u001b[0m                  \u001b[0mcat_col\u001b[0m \u001b[1;33m=\u001b[0m\u001b[1;33m[\u001b[0m\u001b[1;34m'bedrooms_bin'\u001b[0m\u001b[1;33m]\u001b[0m\u001b[1;33m\u001b[0m\u001b[1;33m\u001b[0m\u001b[0m\n\u001b[0;32m      5\u001b[0m                 )\n",
      "\u001b[1;32m<ipython-input-30-007d32c4f980>\u001b[0m in \u001b[0;36mOHE_scale_lr\u001b[1;34m(X_train, y_train, X_test, y_test, num_col, cat_col)\u001b[0m\n\u001b[0;32m     30\u001b[0m \u001b[1;33m\u001b[0m\u001b[0m\n\u001b[0;32m     31\u001b[0m     \u001b[1;32mif\u001b[0m \u001b[0mcat_col\u001b[0m\u001b[1;33m:\u001b[0m\u001b[1;33m\u001b[0m\u001b[1;33m\u001b[0m\u001b[0m\n\u001b[1;32m---> 32\u001b[1;33m         \u001b[0mX_train_subset\u001b[0m\u001b[1;33m,\u001b[0m\u001b[0mX_test_subset\u001b[0m \u001b[1;33m=\u001b[0m \u001b[0mOHEColXFER\u001b[0m\u001b[1;33m(\u001b[0m\u001b[0mcat_col\u001b[0m\u001b[1;33m,\u001b[0m\u001b[0mX_train_subset\u001b[0m\u001b[1;33m,\u001b[0m \u001b[0mX_test_subset\u001b[0m\u001b[1;33m)\u001b[0m\u001b[1;33m\u001b[0m\u001b[1;33m\u001b[0m\u001b[0m\n\u001b[0m\u001b[0;32m     33\u001b[0m \u001b[1;33m\u001b[0m\u001b[0m\n\u001b[0;32m     34\u001b[0m     \u001b[0mpipe\u001b[0m \u001b[1;33m=\u001b[0m \u001b[0mmake_pipeline\u001b[0m\u001b[1;33m(\u001b[0m\u001b[0mStandardScaler\u001b[0m\u001b[1;33m(\u001b[0m\u001b[1;33m)\u001b[0m\u001b[1;33m,\u001b[0m \u001b[0mLinearRegression\u001b[0m\u001b[1;33m(\u001b[0m\u001b[1;33m)\u001b[0m\u001b[1;33m)\u001b[0m\u001b[1;33m\u001b[0m\u001b[1;33m\u001b[0m\u001b[0m\n",
      "\u001b[1;31mTypeError\u001b[0m: cannot unpack non-iterable NoneType object"
     ]
    }
   ],
   "source": [
    "OHE_scale_lr(X_train,y_train,\n",
    "                 X_test,y_test,                 \n",
    "                 num_col = ['bathrooms','sqft_living'],\n",
    "                 cat_col =['bedrooms_bin']\n",
    "                )"
   ]
  },
  {
   "cell_type": "markdown",
   "metadata": {
    "ExecuteTime": {
     "end_time": "2022-03-30T17:32:41.809780Z",
     "start_time": "2022-03-30T17:32:41.797755Z"
    }
   },
   "source": [
    "Binning bedrooms has a marginal improvement"
   ]
  },
  {
   "cell_type": "markdown",
   "metadata": {},
   "source": [
    "### Model 6: Bedroom, Bathroom, sqft_living, grade"
   ]
  },
  {
   "cell_type": "markdown",
   "metadata": {},
   "source": [
    "#### Model 6a"
   ]
  },
  {
   "cell_type": "code",
   "execution_count": null,
   "metadata": {
    "ExecuteTime": {
     "end_time": "2022-03-30T20:16:31.751594Z",
     "start_time": "2022-03-30T20:16:31.739Z"
    },
    "scrolled": false
   },
   "outputs": [],
   "source": [
    "OHE_scale_lr(X_train,y_train,\n",
    "                 X_test,y_test,                 \n",
    "                 num_col = ['sqft_living','bedrooms','bathrooms'],\n",
    "                 cat_col =['grade']\n",
    "                )"
   ]
  },
  {
   "cell_type": "code",
   "execution_count": 54,
   "metadata": {
    "ExecuteTime": {
     "end_time": "2022-03-30T20:16:31.923633Z",
     "start_time": "2022-03-30T20:16:31.866622Z"
    },
    "scrolled": true
   },
   "outputs": [
    {
     "name": "stdout",
     "output_type": "stream",
     "text": [
      "Categorical columns: ['grade', 'bedrooms_bin'] \n",
      "Numerical Columns:  ['bathrooms', 'sqft_living']\n"
     ]
    },
    {
     "ename": "TypeError",
     "evalue": "cannot unpack non-iterable NoneType object",
     "output_type": "error",
     "traceback": [
      "\u001b[1;31m---------------------------------------------------------------------------\u001b[0m",
      "\u001b[1;31mTypeError\u001b[0m                                 Traceback (most recent call last)",
      "\u001b[1;32m<ipython-input-54-1adcf399e2d1>\u001b[0m in \u001b[0;36m<module>\u001b[1;34m\u001b[0m\n\u001b[1;32m----> 1\u001b[1;33m OHE_scale_lr(X_train,y_train,\n\u001b[0m\u001b[0;32m      2\u001b[0m                  \u001b[0mX_test\u001b[0m\u001b[1;33m,\u001b[0m\u001b[0my_test\u001b[0m\u001b[1;33m,\u001b[0m\u001b[1;33m\u001b[0m\u001b[1;33m\u001b[0m\u001b[0m\n\u001b[0;32m      3\u001b[0m                  \u001b[0mnum_col\u001b[0m \u001b[1;33m=\u001b[0m \u001b[1;33m[\u001b[0m\u001b[1;34m'bathrooms'\u001b[0m\u001b[1;33m,\u001b[0m\u001b[1;34m'sqft_living'\u001b[0m\u001b[1;33m]\u001b[0m\u001b[1;33m,\u001b[0m\u001b[1;33m\u001b[0m\u001b[1;33m\u001b[0m\u001b[0m\n\u001b[0;32m      4\u001b[0m                  \u001b[0mcat_col\u001b[0m \u001b[1;33m=\u001b[0m\u001b[1;33m[\u001b[0m\u001b[1;34m'grade'\u001b[0m\u001b[1;33m,\u001b[0m\u001b[1;34m'bedrooms_bin'\u001b[0m\u001b[1;33m]\u001b[0m\u001b[1;33m\u001b[0m\u001b[1;33m\u001b[0m\u001b[0m\n\u001b[0;32m      5\u001b[0m                 )\n",
      "\u001b[1;32m<ipython-input-30-007d32c4f980>\u001b[0m in \u001b[0;36mOHE_scale_lr\u001b[1;34m(X_train, y_train, X_test, y_test, num_col, cat_col)\u001b[0m\n\u001b[0;32m     30\u001b[0m \u001b[1;33m\u001b[0m\u001b[0m\n\u001b[0;32m     31\u001b[0m     \u001b[1;32mif\u001b[0m \u001b[0mcat_col\u001b[0m\u001b[1;33m:\u001b[0m\u001b[1;33m\u001b[0m\u001b[1;33m\u001b[0m\u001b[0m\n\u001b[1;32m---> 32\u001b[1;33m         \u001b[0mX_train_subset\u001b[0m\u001b[1;33m,\u001b[0m\u001b[0mX_test_subset\u001b[0m \u001b[1;33m=\u001b[0m \u001b[0mOHEColXFER\u001b[0m\u001b[1;33m(\u001b[0m\u001b[0mcat_col\u001b[0m\u001b[1;33m,\u001b[0m\u001b[0mX_train_subset\u001b[0m\u001b[1;33m,\u001b[0m \u001b[0mX_test_subset\u001b[0m\u001b[1;33m)\u001b[0m\u001b[1;33m\u001b[0m\u001b[1;33m\u001b[0m\u001b[0m\n\u001b[0m\u001b[0;32m     33\u001b[0m \u001b[1;33m\u001b[0m\u001b[0m\n\u001b[0;32m     34\u001b[0m     \u001b[0mpipe\u001b[0m \u001b[1;33m=\u001b[0m \u001b[0mmake_pipeline\u001b[0m\u001b[1;33m(\u001b[0m\u001b[0mStandardScaler\u001b[0m\u001b[1;33m(\u001b[0m\u001b[1;33m)\u001b[0m\u001b[1;33m,\u001b[0m \u001b[0mLinearRegression\u001b[0m\u001b[1;33m(\u001b[0m\u001b[1;33m)\u001b[0m\u001b[1;33m)\u001b[0m\u001b[1;33m\u001b[0m\u001b[1;33m\u001b[0m\u001b[0m\n",
      "\u001b[1;31mTypeError\u001b[0m: cannot unpack non-iterable NoneType object"
     ]
    }
   ],
   "source": [
    "OHE_scale_lr(X_train,y_train,\n",
    "                 X_test,y_test,                 \n",
    "                 num_col = ['bathrooms','sqft_living'],\n",
    "                 cat_col =['grade','bedrooms_bin']\n",
    "                )"
   ]
  },
  {
   "cell_type": "markdown",
   "metadata": {},
   "source": [
    "Getting better. Seems like better off treating bedrooms as cateogrical."
   ]
  },
  {
   "cell_type": "markdown",
   "metadata": {},
   "source": [
    "Hmmm... Including sqft_living AND grade increased scores. But their corelation is high. Probably high multicolinearity. Check a few more models"
   ]
  },
  {
   "cell_type": "markdown",
   "metadata": {},
   "source": [
    "#### Model 6b: Bedroom/Bathroom, sqft_living, grade"
   ]
  },
  {
   "cell_type": "markdown",
   "metadata": {},
   "source": [
    "Slight feature engineering. Ratio of bedrooms to bathrooms"
   ]
  },
  {
   "cell_type": "code",
   "execution_count": null,
   "metadata": {
    "ExecuteTime": {
     "end_time": "2022-03-30T20:16:31.924633Z",
     "start_time": "2022-03-30T20:16:31.921Z"
    }
   },
   "outputs": [],
   "source": [
    "X_train['bedrooms/bathrooms'] = X_train['bedrooms']/X_train['bathrooms']\n",
    "X_test['bedrooms/bathrooms'] = X_test['bedrooms']/X_test['bathrooms']"
   ]
  },
  {
   "cell_type": "code",
   "execution_count": 55,
   "metadata": {
    "ExecuteTime": {
     "end_time": "2022-03-30T20:16:32.061664Z",
     "start_time": "2022-03-30T20:16:32.032658Z"
    },
    "scrolled": true
   },
   "outputs": [
    {
     "name": "stdout",
     "output_type": "stream",
     "text": [
      "Categorical columns: ['grade'] \n",
      "Numerical Columns:  ['bedrooms/bathrooms', 'sqft_living']\n"
     ]
    },
    {
     "ename": "KeyError",
     "evalue": "\"['bedrooms/bathrooms'] not in index\"",
     "output_type": "error",
     "traceback": [
      "\u001b[1;31m---------------------------------------------------------------------------\u001b[0m",
      "\u001b[1;31mKeyError\u001b[0m                                  Traceback (most recent call last)",
      "\u001b[1;32m<ipython-input-55-34795535a7a0>\u001b[0m in \u001b[0;36m<module>\u001b[1;34m\u001b[0m\n\u001b[1;32m----> 1\u001b[1;33m OHE_scale_lr(X_train,y_train,\n\u001b[0m\u001b[0;32m      2\u001b[0m                  \u001b[0mX_test\u001b[0m\u001b[1;33m,\u001b[0m\u001b[0my_test\u001b[0m\u001b[1;33m,\u001b[0m\u001b[1;33m\u001b[0m\u001b[1;33m\u001b[0m\u001b[0m\n\u001b[0;32m      3\u001b[0m                  \u001b[0mnum_col\u001b[0m \u001b[1;33m=\u001b[0m \u001b[1;33m[\u001b[0m\u001b[1;34m'bedrooms/bathrooms'\u001b[0m\u001b[1;33m,\u001b[0m\u001b[1;34m'sqft_living'\u001b[0m\u001b[1;33m]\u001b[0m\u001b[1;33m,\u001b[0m\u001b[1;33m\u001b[0m\u001b[1;33m\u001b[0m\u001b[0m\n\u001b[0;32m      4\u001b[0m                  \u001b[0mcat_col\u001b[0m \u001b[1;33m=\u001b[0m\u001b[1;33m[\u001b[0m\u001b[1;34m'grade'\u001b[0m\u001b[1;33m]\u001b[0m\u001b[1;33m\u001b[0m\u001b[1;33m\u001b[0m\u001b[0m\n\u001b[0;32m      5\u001b[0m                 )\n",
      "\u001b[1;32m<ipython-input-30-007d32c4f980>\u001b[0m in \u001b[0;36mOHE_scale_lr\u001b[1;34m(X_train, y_train, X_test, y_test, num_col, cat_col)\u001b[0m\n\u001b[0;32m     25\u001b[0m \u001b[1;33m\u001b[0m\u001b[0m\n\u001b[0;32m     26\u001b[0m     \u001b[1;31m#Create subsets of train and test sets\u001b[0m\u001b[1;33m\u001b[0m\u001b[1;33m\u001b[0m\u001b[1;33m\u001b[0m\u001b[0m\n\u001b[1;32m---> 27\u001b[1;33m     \u001b[0mX_train_subset\u001b[0m \u001b[1;33m=\u001b[0m \u001b[0mX_train\u001b[0m\u001b[1;33m[\u001b[0m\u001b[0mlist_cols\u001b[0m\u001b[1;33m]\u001b[0m\u001b[1;33m\u001b[0m\u001b[1;33m\u001b[0m\u001b[0m\n\u001b[0m\u001b[0;32m     28\u001b[0m     \u001b[0mX_test_subset\u001b[0m \u001b[1;33m=\u001b[0m \u001b[0mX_test\u001b[0m\u001b[1;33m[\u001b[0m\u001b[0mlist_cols\u001b[0m\u001b[1;33m]\u001b[0m\u001b[1;33m\u001b[0m\u001b[1;33m\u001b[0m\u001b[0m\n\u001b[0;32m     29\u001b[0m \u001b[1;33m\u001b[0m\u001b[0m\n",
      "\u001b[1;32m~\\anaconda3\\envs\\learn-env\\lib\\site-packages\\pandas\\core\\frame.py\u001b[0m in \u001b[0;36m__getitem__\u001b[1;34m(self, key)\u001b[0m\n\u001b[0;32m   2906\u001b[0m             \u001b[1;32mif\u001b[0m \u001b[0mis_iterator\u001b[0m\u001b[1;33m(\u001b[0m\u001b[0mkey\u001b[0m\u001b[1;33m)\u001b[0m\u001b[1;33m:\u001b[0m\u001b[1;33m\u001b[0m\u001b[1;33m\u001b[0m\u001b[0m\n\u001b[0;32m   2907\u001b[0m                 \u001b[0mkey\u001b[0m \u001b[1;33m=\u001b[0m \u001b[0mlist\u001b[0m\u001b[1;33m(\u001b[0m\u001b[0mkey\u001b[0m\u001b[1;33m)\u001b[0m\u001b[1;33m\u001b[0m\u001b[1;33m\u001b[0m\u001b[0m\n\u001b[1;32m-> 2908\u001b[1;33m             \u001b[0mindexer\u001b[0m \u001b[1;33m=\u001b[0m \u001b[0mself\u001b[0m\u001b[1;33m.\u001b[0m\u001b[0mloc\u001b[0m\u001b[1;33m.\u001b[0m\u001b[0m_get_listlike_indexer\u001b[0m\u001b[1;33m(\u001b[0m\u001b[0mkey\u001b[0m\u001b[1;33m,\u001b[0m \u001b[0maxis\u001b[0m\u001b[1;33m=\u001b[0m\u001b[1;36m1\u001b[0m\u001b[1;33m,\u001b[0m \u001b[0mraise_missing\u001b[0m\u001b[1;33m=\u001b[0m\u001b[1;32mTrue\u001b[0m\u001b[1;33m)\u001b[0m\u001b[1;33m[\u001b[0m\u001b[1;36m1\u001b[0m\u001b[1;33m]\u001b[0m\u001b[1;33m\u001b[0m\u001b[1;33m\u001b[0m\u001b[0m\n\u001b[0m\u001b[0;32m   2909\u001b[0m \u001b[1;33m\u001b[0m\u001b[0m\n\u001b[0;32m   2910\u001b[0m         \u001b[1;31m# take() does not accept boolean indexers\u001b[0m\u001b[1;33m\u001b[0m\u001b[1;33m\u001b[0m\u001b[1;33m\u001b[0m\u001b[0m\n",
      "\u001b[1;32m~\\anaconda3\\envs\\learn-env\\lib\\site-packages\\pandas\\core\\indexing.py\u001b[0m in \u001b[0;36m_get_listlike_indexer\u001b[1;34m(self, key, axis, raise_missing)\u001b[0m\n\u001b[0;32m   1252\u001b[0m             \u001b[0mkeyarr\u001b[0m\u001b[1;33m,\u001b[0m \u001b[0mindexer\u001b[0m\u001b[1;33m,\u001b[0m \u001b[0mnew_indexer\u001b[0m \u001b[1;33m=\u001b[0m \u001b[0max\u001b[0m\u001b[1;33m.\u001b[0m\u001b[0m_reindex_non_unique\u001b[0m\u001b[1;33m(\u001b[0m\u001b[0mkeyarr\u001b[0m\u001b[1;33m)\u001b[0m\u001b[1;33m\u001b[0m\u001b[1;33m\u001b[0m\u001b[0m\n\u001b[0;32m   1253\u001b[0m \u001b[1;33m\u001b[0m\u001b[0m\n\u001b[1;32m-> 1254\u001b[1;33m         \u001b[0mself\u001b[0m\u001b[1;33m.\u001b[0m\u001b[0m_validate_read_indexer\u001b[0m\u001b[1;33m(\u001b[0m\u001b[0mkeyarr\u001b[0m\u001b[1;33m,\u001b[0m \u001b[0mindexer\u001b[0m\u001b[1;33m,\u001b[0m \u001b[0maxis\u001b[0m\u001b[1;33m,\u001b[0m \u001b[0mraise_missing\u001b[0m\u001b[1;33m=\u001b[0m\u001b[0mraise_missing\u001b[0m\u001b[1;33m)\u001b[0m\u001b[1;33m\u001b[0m\u001b[1;33m\u001b[0m\u001b[0m\n\u001b[0m\u001b[0;32m   1255\u001b[0m         \u001b[1;32mreturn\u001b[0m \u001b[0mkeyarr\u001b[0m\u001b[1;33m,\u001b[0m \u001b[0mindexer\u001b[0m\u001b[1;33m\u001b[0m\u001b[1;33m\u001b[0m\u001b[0m\n\u001b[0;32m   1256\u001b[0m \u001b[1;33m\u001b[0m\u001b[0m\n",
      "\u001b[1;32m~\\anaconda3\\envs\\learn-env\\lib\\site-packages\\pandas\\core\\indexing.py\u001b[0m in \u001b[0;36m_validate_read_indexer\u001b[1;34m(self, key, indexer, axis, raise_missing)\u001b[0m\n\u001b[0;32m   1302\u001b[0m             \u001b[1;32mif\u001b[0m \u001b[0mraise_missing\u001b[0m\u001b[1;33m:\u001b[0m\u001b[1;33m\u001b[0m\u001b[1;33m\u001b[0m\u001b[0m\n\u001b[0;32m   1303\u001b[0m                 \u001b[0mnot_found\u001b[0m \u001b[1;33m=\u001b[0m \u001b[0mlist\u001b[0m\u001b[1;33m(\u001b[0m\u001b[0mset\u001b[0m\u001b[1;33m(\u001b[0m\u001b[0mkey\u001b[0m\u001b[1;33m)\u001b[0m \u001b[1;33m-\u001b[0m \u001b[0mset\u001b[0m\u001b[1;33m(\u001b[0m\u001b[0max\u001b[0m\u001b[1;33m)\u001b[0m\u001b[1;33m)\u001b[0m\u001b[1;33m\u001b[0m\u001b[1;33m\u001b[0m\u001b[0m\n\u001b[1;32m-> 1304\u001b[1;33m                 \u001b[1;32mraise\u001b[0m \u001b[0mKeyError\u001b[0m\u001b[1;33m(\u001b[0m\u001b[1;34mf\"{not_found} not in index\"\u001b[0m\u001b[1;33m)\u001b[0m\u001b[1;33m\u001b[0m\u001b[1;33m\u001b[0m\u001b[0m\n\u001b[0m\u001b[0;32m   1305\u001b[0m \u001b[1;33m\u001b[0m\u001b[0m\n\u001b[0;32m   1306\u001b[0m             \u001b[1;31m# we skip the warning on Categorical\u001b[0m\u001b[1;33m\u001b[0m\u001b[1;33m\u001b[0m\u001b[1;33m\u001b[0m\u001b[0m\n",
      "\u001b[1;31mKeyError\u001b[0m: \"['bedrooms/bathrooms'] not in index\""
     ]
    }
   ],
   "source": [
    "OHE_scale_lr(X_train,y_train,\n",
    "                 X_test,y_test,                 \n",
    "                 num_col = ['bedrooms/bathrooms','sqft_living'],\n",
    "                 cat_col =['grade']\n",
    "                )"
   ]
  },
  {
   "cell_type": "markdown",
   "metadata": {},
   "source": [
    "Not that much better"
   ]
  },
  {
   "cell_type": "markdown",
   "metadata": {},
   "source": [
    "## Ze Kitchen Sink"
   ]
  },
  {
   "cell_type": "code",
   "execution_count": null,
   "metadata": {
    "ExecuteTime": {
     "end_time": "2022-03-30T20:16:32.065665Z",
     "start_time": "2022-03-30T20:16:32.050Z"
    },
    "scrolled": true
   },
   "outputs": [],
   "source": [
    "fig, ax = plt.subplots()\n",
    "ax.scatter(df['zipcode'],df['price'])"
   ]
  },
  {
   "cell_type": "markdown",
   "metadata": {},
   "source": [
    "If considering zip code, I think it should be considered as a categorical"
   ]
  },
  {
   "cell_type": "markdown",
   "metadata": {},
   "source": [
    "### Model 7: zipcode included"
   ]
  },
  {
   "cell_type": "markdown",
   "metadata": {},
   "source": [
    "#### Model 7a"
   ]
  },
  {
   "cell_type": "code",
   "execution_count": 56,
   "metadata": {
    "ExecuteTime": {
     "end_time": "2022-03-30T20:16:32.235705Z",
     "start_time": "2022-03-30T20:16:32.177690Z"
    },
    "scrolled": true
   },
   "outputs": [
    {
     "name": "stdout",
     "output_type": "stream",
     "text": [
      "Categorical columns: ['condition', 'bedrooms_bin'] \n",
      "Numerical Columns:  ['zipcode', 'sqft_living', 'bathrooms']\n"
     ]
    },
    {
     "ename": "TypeError",
     "evalue": "cannot unpack non-iterable NoneType object",
     "output_type": "error",
     "traceback": [
      "\u001b[1;31m---------------------------------------------------------------------------\u001b[0m",
      "\u001b[1;31mTypeError\u001b[0m                                 Traceback (most recent call last)",
      "\u001b[1;32m<ipython-input-56-8ba7d2ab42ba>\u001b[0m in \u001b[0;36m<module>\u001b[1;34m\u001b[0m\n\u001b[1;32m----> 1\u001b[1;33m OHE_scale_lr(X_train,y_train,\n\u001b[0m\u001b[0;32m      2\u001b[0m                  \u001b[0mX_test\u001b[0m\u001b[1;33m,\u001b[0m\u001b[0my_test\u001b[0m\u001b[1;33m,\u001b[0m\u001b[1;33m\u001b[0m\u001b[1;33m\u001b[0m\u001b[0m\n\u001b[0;32m      3\u001b[0m                  \u001b[0mnum_col\u001b[0m \u001b[1;33m=\u001b[0m \u001b[1;33m[\u001b[0m\u001b[1;34m'zipcode'\u001b[0m\u001b[1;33m,\u001b[0m\u001b[1;34m'sqft_living'\u001b[0m\u001b[1;33m,\u001b[0m\u001b[1;34m'bathrooms'\u001b[0m\u001b[1;33m,\u001b[0m\u001b[1;33m]\u001b[0m\u001b[1;33m,\u001b[0m\u001b[1;33m\u001b[0m\u001b[1;33m\u001b[0m\u001b[0m\n\u001b[0;32m      4\u001b[0m                  \u001b[0mcat_col\u001b[0m \u001b[1;33m=\u001b[0m\u001b[1;33m[\u001b[0m\u001b[1;34m'condition'\u001b[0m\u001b[1;33m,\u001b[0m\u001b[1;34m'bedrooms_bin'\u001b[0m\u001b[1;33m,\u001b[0m\u001b[1;33m]\u001b[0m\u001b[1;33m\u001b[0m\u001b[1;33m\u001b[0m\u001b[0m\n\u001b[0;32m      5\u001b[0m                 )\n",
      "\u001b[1;32m<ipython-input-30-007d32c4f980>\u001b[0m in \u001b[0;36mOHE_scale_lr\u001b[1;34m(X_train, y_train, X_test, y_test, num_col, cat_col)\u001b[0m\n\u001b[0;32m     30\u001b[0m \u001b[1;33m\u001b[0m\u001b[0m\n\u001b[0;32m     31\u001b[0m     \u001b[1;32mif\u001b[0m \u001b[0mcat_col\u001b[0m\u001b[1;33m:\u001b[0m\u001b[1;33m\u001b[0m\u001b[1;33m\u001b[0m\u001b[0m\n\u001b[1;32m---> 32\u001b[1;33m         \u001b[0mX_train_subset\u001b[0m\u001b[1;33m,\u001b[0m\u001b[0mX_test_subset\u001b[0m \u001b[1;33m=\u001b[0m \u001b[0mOHEColXFER\u001b[0m\u001b[1;33m(\u001b[0m\u001b[0mcat_col\u001b[0m\u001b[1;33m,\u001b[0m\u001b[0mX_train_subset\u001b[0m\u001b[1;33m,\u001b[0m \u001b[0mX_test_subset\u001b[0m\u001b[1;33m)\u001b[0m\u001b[1;33m\u001b[0m\u001b[1;33m\u001b[0m\u001b[0m\n\u001b[0m\u001b[0;32m     33\u001b[0m \u001b[1;33m\u001b[0m\u001b[0m\n\u001b[0;32m     34\u001b[0m     \u001b[0mpipe\u001b[0m \u001b[1;33m=\u001b[0m \u001b[0mmake_pipeline\u001b[0m\u001b[1;33m(\u001b[0m\u001b[0mStandardScaler\u001b[0m\u001b[1;33m(\u001b[0m\u001b[1;33m)\u001b[0m\u001b[1;33m,\u001b[0m \u001b[0mLinearRegression\u001b[0m\u001b[1;33m(\u001b[0m\u001b[1;33m)\u001b[0m\u001b[1;33m)\u001b[0m\u001b[1;33m\u001b[0m\u001b[1;33m\u001b[0m\u001b[0m\n",
      "\u001b[1;31mTypeError\u001b[0m: cannot unpack non-iterable NoneType object"
     ]
    }
   ],
   "source": [
    "OHE_scale_lr(X_train,y_train,\n",
    "                 X_test,y_test,                 \n",
    "                 num_col = ['zipcode','sqft_living','bathrooms',],\n",
    "                 cat_col =['condition','bedrooms_bin',]\n",
    "                )"
   ]
  },
  {
   "cell_type": "markdown",
   "metadata": {},
   "source": [
    "#### Model 7b"
   ]
  },
  {
   "cell_type": "code",
   "execution_count": 57,
   "metadata": {
    "ExecuteTime": {
     "end_time": "2022-03-30T20:16:32.420745Z",
     "start_time": "2022-03-30T20:16:32.344728Z"
    },
    "scrolled": true
   },
   "outputs": [
    {
     "name": "stdout",
     "output_type": "stream",
     "text": [
      "Categorical columns: ['bedrooms_bin', 'zipcode', 'condition'] \n",
      "Numerical Columns:  ['sqft_living', 'bathrooms']\n"
     ]
    },
    {
     "ename": "TypeError",
     "evalue": "cannot unpack non-iterable NoneType object",
     "output_type": "error",
     "traceback": [
      "\u001b[1;31m---------------------------------------------------------------------------\u001b[0m",
      "\u001b[1;31mTypeError\u001b[0m                                 Traceback (most recent call last)",
      "\u001b[1;32m<ipython-input-57-609e49eefb07>\u001b[0m in \u001b[0;36m<module>\u001b[1;34m\u001b[0m\n\u001b[1;32m----> 1\u001b[1;33m OHE_scale_lr(X_train,y_train,\n\u001b[0m\u001b[0;32m      2\u001b[0m                  \u001b[0mX_test\u001b[0m\u001b[1;33m,\u001b[0m\u001b[0my_test\u001b[0m\u001b[1;33m,\u001b[0m\u001b[1;33m\u001b[0m\u001b[1;33m\u001b[0m\u001b[0m\n\u001b[0;32m      3\u001b[0m                  \u001b[0mnum_col\u001b[0m \u001b[1;33m=\u001b[0m \u001b[1;33m[\u001b[0m\u001b[1;34m'sqft_living'\u001b[0m\u001b[1;33m,\u001b[0m\u001b[1;34m'bathrooms'\u001b[0m\u001b[1;33m,\u001b[0m\u001b[1;33m]\u001b[0m\u001b[1;33m,\u001b[0m\u001b[1;33m\u001b[0m\u001b[1;33m\u001b[0m\u001b[0m\n\u001b[0;32m      4\u001b[0m                  \u001b[0mcat_col\u001b[0m \u001b[1;33m=\u001b[0m\u001b[1;33m[\u001b[0m\u001b[1;34m'bedrooms_bin'\u001b[0m\u001b[1;33m,\u001b[0m\u001b[1;34m'zipcode'\u001b[0m\u001b[1;33m,\u001b[0m\u001b[1;34m'condition'\u001b[0m\u001b[1;33m]\u001b[0m\u001b[1;33m\u001b[0m\u001b[1;33m\u001b[0m\u001b[0m\n\u001b[0;32m      5\u001b[0m                 )\n",
      "\u001b[1;32m<ipython-input-30-007d32c4f980>\u001b[0m in \u001b[0;36mOHE_scale_lr\u001b[1;34m(X_train, y_train, X_test, y_test, num_col, cat_col)\u001b[0m\n\u001b[0;32m     30\u001b[0m \u001b[1;33m\u001b[0m\u001b[0m\n\u001b[0;32m     31\u001b[0m     \u001b[1;32mif\u001b[0m \u001b[0mcat_col\u001b[0m\u001b[1;33m:\u001b[0m\u001b[1;33m\u001b[0m\u001b[1;33m\u001b[0m\u001b[0m\n\u001b[1;32m---> 32\u001b[1;33m         \u001b[0mX_train_subset\u001b[0m\u001b[1;33m,\u001b[0m\u001b[0mX_test_subset\u001b[0m \u001b[1;33m=\u001b[0m \u001b[0mOHEColXFER\u001b[0m\u001b[1;33m(\u001b[0m\u001b[0mcat_col\u001b[0m\u001b[1;33m,\u001b[0m\u001b[0mX_train_subset\u001b[0m\u001b[1;33m,\u001b[0m \u001b[0mX_test_subset\u001b[0m\u001b[1;33m)\u001b[0m\u001b[1;33m\u001b[0m\u001b[1;33m\u001b[0m\u001b[0m\n\u001b[0m\u001b[0;32m     33\u001b[0m \u001b[1;33m\u001b[0m\u001b[0m\n\u001b[0;32m     34\u001b[0m     \u001b[0mpipe\u001b[0m \u001b[1;33m=\u001b[0m \u001b[0mmake_pipeline\u001b[0m\u001b[1;33m(\u001b[0m\u001b[0mStandardScaler\u001b[0m\u001b[1;33m(\u001b[0m\u001b[1;33m)\u001b[0m\u001b[1;33m,\u001b[0m \u001b[0mLinearRegression\u001b[0m\u001b[1;33m(\u001b[0m\u001b[1;33m)\u001b[0m\u001b[1;33m)\u001b[0m\u001b[1;33m\u001b[0m\u001b[1;33m\u001b[0m\u001b[0m\n",
      "\u001b[1;31mTypeError\u001b[0m: cannot unpack non-iterable NoneType object"
     ]
    }
   ],
   "source": [
    "OHE_scale_lr(X_train,y_train,\n",
    "                 X_test,y_test,                 \n",
    "                 num_col = ['sqft_living','bathrooms',],\n",
    "                 cat_col =['bedrooms_bin','zipcode','condition']\n",
    "                )"
   ]
  },
  {
   "cell_type": "markdown",
   "metadata": {},
   "source": [
    "PROMISING! \n",
    "\n",
    "$_{only~thing~so~far}$"
   ]
  },
  {
   "cell_type": "markdown",
   "metadata": {},
   "source": [
    "#### Model 7c"
   ]
  },
  {
   "cell_type": "code",
   "execution_count": null,
   "metadata": {
    "ExecuteTime": {
     "end_time": "2022-03-30T20:16:32.421745Z",
     "start_time": "2022-03-30T20:16:32.375Z"
    },
    "scrolled": true
   },
   "outputs": [],
   "source": [
    "OHE_scale_lr(X_train,y_train,\n",
    "                 X_test,y_test,                 \n",
    "                 num_col = ['bedrooms','bathrooms','sqft_living'],\n",
    "                 cat_col =['zipcode','condition']\n",
    "                )"
   ]
  },
  {
   "cell_type": "markdown",
   "metadata": {},
   "source": [
    "#### Model 7d"
   ]
  },
  {
   "cell_type": "code",
   "execution_count": 58,
   "metadata": {
    "ExecuteTime": {
     "end_time": "2022-03-30T20:16:32.610823Z",
     "start_time": "2022-03-30T20:16:32.532770Z"
    },
    "scrolled": false
   },
   "outputs": [
    {
     "name": "stdout",
     "output_type": "stream",
     "text": [
      "Categorical columns: ['zipcode', 'condition', 'view', 'waterfront'] \n",
      "Numerical Columns:  ['sqft_living']\n"
     ]
    },
    {
     "ename": "TypeError",
     "evalue": "cannot unpack non-iterable NoneType object",
     "output_type": "error",
     "traceback": [
      "\u001b[1;31m---------------------------------------------------------------------------\u001b[0m",
      "\u001b[1;31mTypeError\u001b[0m                                 Traceback (most recent call last)",
      "\u001b[1;32m<ipython-input-58-ffd549d9192f>\u001b[0m in \u001b[0;36m<module>\u001b[1;34m\u001b[0m\n\u001b[1;32m----> 1\u001b[1;33m OHE_scale_lr(X_train,y_train,\n\u001b[0m\u001b[0;32m      2\u001b[0m                  \u001b[0mX_test\u001b[0m\u001b[1;33m,\u001b[0m\u001b[0my_test\u001b[0m\u001b[1;33m,\u001b[0m\u001b[1;33m\u001b[0m\u001b[1;33m\u001b[0m\u001b[0m\n\u001b[0;32m      3\u001b[0m                  \u001b[0mnum_col\u001b[0m \u001b[1;33m=\u001b[0m \u001b[1;33m[\u001b[0m\u001b[1;34m'sqft_living'\u001b[0m\u001b[1;33m]\u001b[0m\u001b[1;33m,\u001b[0m\u001b[1;33m\u001b[0m\u001b[1;33m\u001b[0m\u001b[0m\n\u001b[0;32m      4\u001b[0m                  \u001b[0mcat_col\u001b[0m \u001b[1;33m=\u001b[0m\u001b[1;33m[\u001b[0m\u001b[1;34m'zipcode'\u001b[0m\u001b[1;33m,\u001b[0m\u001b[1;34m'condition'\u001b[0m\u001b[1;33m,\u001b[0m\u001b[1;34m'view'\u001b[0m\u001b[1;33m,\u001b[0m\u001b[1;34m'waterfront'\u001b[0m\u001b[1;33m]\u001b[0m\u001b[1;33m\u001b[0m\u001b[1;33m\u001b[0m\u001b[0m\n\u001b[0;32m      5\u001b[0m                 )\n",
      "\u001b[1;32m<ipython-input-30-007d32c4f980>\u001b[0m in \u001b[0;36mOHE_scale_lr\u001b[1;34m(X_train, y_train, X_test, y_test, num_col, cat_col)\u001b[0m\n\u001b[0;32m     30\u001b[0m \u001b[1;33m\u001b[0m\u001b[0m\n\u001b[0;32m     31\u001b[0m     \u001b[1;32mif\u001b[0m \u001b[0mcat_col\u001b[0m\u001b[1;33m:\u001b[0m\u001b[1;33m\u001b[0m\u001b[1;33m\u001b[0m\u001b[0m\n\u001b[1;32m---> 32\u001b[1;33m         \u001b[0mX_train_subset\u001b[0m\u001b[1;33m,\u001b[0m\u001b[0mX_test_subset\u001b[0m \u001b[1;33m=\u001b[0m \u001b[0mOHEColXFER\u001b[0m\u001b[1;33m(\u001b[0m\u001b[0mcat_col\u001b[0m\u001b[1;33m,\u001b[0m\u001b[0mX_train_subset\u001b[0m\u001b[1;33m,\u001b[0m \u001b[0mX_test_subset\u001b[0m\u001b[1;33m)\u001b[0m\u001b[1;33m\u001b[0m\u001b[1;33m\u001b[0m\u001b[0m\n\u001b[0m\u001b[0;32m     33\u001b[0m \u001b[1;33m\u001b[0m\u001b[0m\n\u001b[0;32m     34\u001b[0m     \u001b[0mpipe\u001b[0m \u001b[1;33m=\u001b[0m \u001b[0mmake_pipeline\u001b[0m\u001b[1;33m(\u001b[0m\u001b[0mStandardScaler\u001b[0m\u001b[1;33m(\u001b[0m\u001b[1;33m)\u001b[0m\u001b[1;33m,\u001b[0m \u001b[0mLinearRegression\u001b[0m\u001b[1;33m(\u001b[0m\u001b[1;33m)\u001b[0m\u001b[1;33m)\u001b[0m\u001b[1;33m\u001b[0m\u001b[1;33m\u001b[0m\u001b[0m\n",
      "\u001b[1;31mTypeError\u001b[0m: cannot unpack non-iterable NoneType object"
     ]
    }
   ],
   "source": [
    "OHE_scale_lr(X_train,y_train,\n",
    "                 X_test,y_test,                 \n",
    "                 num_col = ['sqft_living'],\n",
    "                 cat_col =['zipcode','condition','view','waterfront']\n",
    "                )"
   ]
  },
  {
   "cell_type": "markdown",
   "metadata": {},
   "source": [
    "#### Model 7e"
   ]
  },
  {
   "cell_type": "code",
   "execution_count": null,
   "metadata": {
    "ExecuteTime": {
     "end_time": "2022-03-30T20:16:32.612789Z",
     "start_time": "2022-03-30T20:16:32.487Z"
    },
    "scrolled": true
   },
   "outputs": [],
   "source": [
    "OHE_scale_lr(X_train,y_train,\n",
    "                 X_test,y_test,                 \n",
    "                 num_col = ['bedrooms','bathrooms','sqft_living'],\n",
    "                 cat_col =['zipcode','condition','view']\n",
    "                )"
   ]
  },
  {
   "cell_type": "markdown",
   "metadata": {},
   "source": [
    "#### Model 7f"
   ]
  },
  {
   "cell_type": "code",
   "execution_count": null,
   "metadata": {
    "ExecuteTime": {
     "end_time": "2022-03-30T20:16:32.613789Z",
     "start_time": "2022-03-30T20:16:32.555Z"
    },
    "scrolled": false
   },
   "outputs": [],
   "source": [
    "OHE_scale_lr(X_train,y_train,\n",
    "                 X_test,y_test,                 \n",
    "                 num_col = ['bathrooms','sqft_living','sqft_living15'],\n",
    "                 cat_col =['zipcode','condition','view','bedrooms_bin',]\n",
    "                )"
   ]
  },
  {
   "cell_type": "markdown",
   "metadata": {},
   "source": [
    "Best one yet"
   ]
  },
  {
   "cell_type": "code",
   "execution_count": 59,
   "metadata": {
    "ExecuteTime": {
     "end_time": "2022-03-30T20:16:32.737817Z",
     "start_time": "2022-03-30T20:16:32.722813Z"
    },
    "scrolled": true
   },
   "outputs": [
    {
     "data": {
      "text/plain": [
       "0"
      ]
     },
     "execution_count": 59,
     "metadata": {},
     "output_type": "execute_result"
    }
   ],
   "source": [
    "df.yr_built.isna().sum()"
   ]
  },
  {
   "cell_type": "code",
   "execution_count": 60,
   "metadata": {
    "ExecuteTime": {
     "end_time": "2022-03-30T20:16:32.814834Z",
     "start_time": "2022-03-30T20:16:32.738817Z"
    },
    "scrolled": true
   },
   "outputs": [
    {
     "name": "stdout",
     "output_type": "stream",
     "text": [
      "Categorical columns: ['zipcode', 'condition', 'view', 'bedrooms_bin'] \n",
      "Numerical Columns:  ['sqft_living', 'sqft_living15']\n"
     ]
    },
    {
     "ename": "TypeError",
     "evalue": "cannot unpack non-iterable NoneType object",
     "output_type": "error",
     "traceback": [
      "\u001b[1;31m---------------------------------------------------------------------------\u001b[0m",
      "\u001b[1;31mTypeError\u001b[0m                                 Traceback (most recent call last)",
      "\u001b[1;32m<ipython-input-60-8e8145b1e8d0>\u001b[0m in \u001b[0;36m<module>\u001b[1;34m\u001b[0m\n\u001b[1;32m----> 1\u001b[1;33m OHE_scale_lr(X_train,y_train,\n\u001b[0m\u001b[0;32m      2\u001b[0m                  \u001b[0mX_test\u001b[0m\u001b[1;33m,\u001b[0m\u001b[0my_test\u001b[0m\u001b[1;33m,\u001b[0m\u001b[1;33m\u001b[0m\u001b[1;33m\u001b[0m\u001b[0m\n\u001b[0;32m      3\u001b[0m                  \u001b[0mnum_col\u001b[0m \u001b[1;33m=\u001b[0m \u001b[1;33m[\u001b[0m\u001b[1;34m'sqft_living'\u001b[0m\u001b[1;33m,\u001b[0m\u001b[1;34m'sqft_living15'\u001b[0m\u001b[1;33m]\u001b[0m\u001b[1;33m,\u001b[0m\u001b[1;33m\u001b[0m\u001b[1;33m\u001b[0m\u001b[0m\n\u001b[0;32m      4\u001b[0m                  \u001b[0mcat_col\u001b[0m \u001b[1;33m=\u001b[0m\u001b[1;33m[\u001b[0m\u001b[1;34m'zipcode'\u001b[0m\u001b[1;33m,\u001b[0m\u001b[1;34m'condition'\u001b[0m\u001b[1;33m,\u001b[0m\u001b[1;34m'view'\u001b[0m\u001b[1;33m,\u001b[0m\u001b[1;34m'bedrooms_bin'\u001b[0m\u001b[1;33m]\u001b[0m\u001b[1;33m\u001b[0m\u001b[1;33m\u001b[0m\u001b[0m\n\u001b[0;32m      5\u001b[0m                 )\n",
      "\u001b[1;32m<ipython-input-30-007d32c4f980>\u001b[0m in \u001b[0;36mOHE_scale_lr\u001b[1;34m(X_train, y_train, X_test, y_test, num_col, cat_col)\u001b[0m\n\u001b[0;32m     30\u001b[0m \u001b[1;33m\u001b[0m\u001b[0m\n\u001b[0;32m     31\u001b[0m     \u001b[1;32mif\u001b[0m \u001b[0mcat_col\u001b[0m\u001b[1;33m:\u001b[0m\u001b[1;33m\u001b[0m\u001b[1;33m\u001b[0m\u001b[0m\n\u001b[1;32m---> 32\u001b[1;33m         \u001b[0mX_train_subset\u001b[0m\u001b[1;33m,\u001b[0m\u001b[0mX_test_subset\u001b[0m \u001b[1;33m=\u001b[0m \u001b[0mOHEColXFER\u001b[0m\u001b[1;33m(\u001b[0m\u001b[0mcat_col\u001b[0m\u001b[1;33m,\u001b[0m\u001b[0mX_train_subset\u001b[0m\u001b[1;33m,\u001b[0m \u001b[0mX_test_subset\u001b[0m\u001b[1;33m)\u001b[0m\u001b[1;33m\u001b[0m\u001b[1;33m\u001b[0m\u001b[0m\n\u001b[0m\u001b[0;32m     33\u001b[0m \u001b[1;33m\u001b[0m\u001b[0m\n\u001b[0;32m     34\u001b[0m     \u001b[0mpipe\u001b[0m \u001b[1;33m=\u001b[0m \u001b[0mmake_pipeline\u001b[0m\u001b[1;33m(\u001b[0m\u001b[0mStandardScaler\u001b[0m\u001b[1;33m(\u001b[0m\u001b[1;33m)\u001b[0m\u001b[1;33m,\u001b[0m \u001b[0mLinearRegression\u001b[0m\u001b[1;33m(\u001b[0m\u001b[1;33m)\u001b[0m\u001b[1;33m)\u001b[0m\u001b[1;33m\u001b[0m\u001b[1;33m\u001b[0m\u001b[0m\n",
      "\u001b[1;31mTypeError\u001b[0m: cannot unpack non-iterable NoneType object"
     ]
    }
   ],
   "source": [
    "OHE_scale_lr(X_train,y_train,\n",
    "                 X_test,y_test,                 \n",
    "                 num_col = ['sqft_living','sqft_living15'],\n",
    "                 cat_col =['zipcode','condition','view','bedrooms_bin']\n",
    "                )"
   ]
  },
  {
   "cell_type": "code",
   "execution_count": null,
   "metadata": {},
   "outputs": [],
   "source": []
  },
  {
   "cell_type": "code",
   "execution_count": null,
   "metadata": {},
   "outputs": [],
   "source": []
  },
  {
   "cell_type": "code",
   "execution_count": null,
   "metadata": {},
   "outputs": [],
   "source": []
  },
  {
   "cell_type": "code",
   "execution_count": null,
   "metadata": {},
   "outputs": [],
   "source": []
  },
  {
   "cell_type": "code",
   "execution_count": null,
   "metadata": {},
   "outputs": [],
   "source": []
  },
  {
   "cell_type": "code",
   "execution_count": null,
   "metadata": {},
   "outputs": [],
   "source": []
  },
  {
   "cell_type": "code",
   "execution_count": null,
   "metadata": {},
   "outputs": [],
   "source": []
  },
  {
   "cell_type": "markdown",
   "metadata": {},
   "source": [
    "## Deepdive in Model 7f"
   ]
  },
  {
   "cell_type": "markdown",
   "metadata": {},
   "source": [
    "Get all the necessary variables (R^2, Condition No, p-values, coeffiencts, intercept)"
   ]
  },
  {
   "cell_type": "markdown",
   "metadata": {},
   "source": [
    "### First a sanity check. Manual Run of methods"
   ]
  },
  {
   "cell_type": "code",
   "execution_count": 61,
   "metadata": {
    "ExecuteTime": {
     "end_time": "2022-03-30T20:16:35.946488Z",
     "start_time": "2022-03-30T20:16:35.940486Z"
    }
   },
   "outputs": [],
   "source": [
    "cols = ['sqft_living','sqft_living15','zipcode','condition','view','bedrooms_bin']\n",
    "cat_col =['zipcode','condition','view','bedrooms_bin']\n",
    "X_train_subset = X_train[cols]\n",
    "X_test_subset = X_test[cols]"
   ]
  },
  {
   "cell_type": "code",
   "execution_count": 62,
   "metadata": {
    "ExecuteTime": {
     "end_time": "2022-03-30T20:16:36.071516Z",
     "start_time": "2022-03-30T20:16:35.974493Z"
    }
   },
   "outputs": [],
   "source": [
    "cs=[]\n",
    "\n",
    "X_train_subset,X_test_subset,c = ohe(X_train_subset,X_test_subset,['zipcode'])\n",
    "cs = cs + c\n",
    "X_train_subset,X_test_subset,c = ohe(X_train_subset,X_test_subset,['condition'])\n",
    "cs = cs + c\n",
    "X_train_subset,X_test_subset,c = ohe(X_train_subset,X_test_subset,['view'])\n",
    "cs = cs + c\n",
    "X_train_subset,X_test_subset,c = ohe(X_train_subset,X_test_subset,['bedrooms_bin'])\n",
    "cs = cs + c\n",
    "\n",
    "cs = cs +['sqft_living','sqft_living15']\n",
    "X_train_enc = X_train_subset[cs]\n",
    "X_test_enc = X_test_subset[cs]"
   ]
  },
  {
   "cell_type": "code",
   "execution_count": 63,
   "metadata": {
    "ExecuteTime": {
     "end_time": "2022-03-30T20:16:36.105550Z",
     "start_time": "2022-03-30T20:16:36.072516Z"
    }
   },
   "outputs": [
    {
     "data": {
      "text/html": [
       "<div>\n",
       "<style scoped>\n",
       "    .dataframe tbody tr th:only-of-type {\n",
       "        vertical-align: middle;\n",
       "    }\n",
       "\n",
       "    .dataframe tbody tr th {\n",
       "        vertical-align: top;\n",
       "    }\n",
       "\n",
       "    .dataframe thead th {\n",
       "        text-align: right;\n",
       "    }\n",
       "</style>\n",
       "<table border=\"1\" class=\"dataframe\">\n",
       "  <thead>\n",
       "    <tr style=\"text-align: right;\">\n",
       "      <th></th>\n",
       "      <th>zipcode_x0_98002</th>\n",
       "      <th>zipcode_x0_98003</th>\n",
       "      <th>zipcode_x0_98004</th>\n",
       "      <th>zipcode_x0_98005</th>\n",
       "      <th>zipcode_x0_98006</th>\n",
       "      <th>zipcode_x0_98007</th>\n",
       "      <th>zipcode_x0_98008</th>\n",
       "      <th>zipcode_x0_98010</th>\n",
       "      <th>zipcode_x0_98011</th>\n",
       "      <th>zipcode_x0_98014</th>\n",
       "      <th>...</th>\n",
       "      <th>view_x0_GOOD</th>\n",
       "      <th>view_x0_NONE</th>\n",
       "      <th>bedrooms_bin_x0_2BR</th>\n",
       "      <th>bedrooms_bin_x0_3BR</th>\n",
       "      <th>bedrooms_bin_x0_4BR</th>\n",
       "      <th>bedrooms_bin_x0_5BR</th>\n",
       "      <th>bedrooms_bin_x0_6BR</th>\n",
       "      <th>bedrooms_bin_x0_7+BR</th>\n",
       "      <th>sqft_living</th>\n",
       "      <th>sqft_living15</th>\n",
       "    </tr>\n",
       "  </thead>\n",
       "  <tbody>\n",
       "    <tr>\n",
       "      <th>4535</th>\n",
       "      <td>0.0</td>\n",
       "      <td>0.0</td>\n",
       "      <td>0.0</td>\n",
       "      <td>0.0</td>\n",
       "      <td>0.0</td>\n",
       "      <td>0.0</td>\n",
       "      <td>0.0</td>\n",
       "      <td>0.0</td>\n",
       "      <td>0.0</td>\n",
       "      <td>0.0</td>\n",
       "      <td>...</td>\n",
       "      <td>0.0</td>\n",
       "      <td>1.0</td>\n",
       "      <td>0.0</td>\n",
       "      <td>1.0</td>\n",
       "      <td>0.0</td>\n",
       "      <td>0.0</td>\n",
       "      <td>0.0</td>\n",
       "      <td>0.0</td>\n",
       "      <td>3380</td>\n",
       "      <td>2250</td>\n",
       "    </tr>\n",
       "    <tr>\n",
       "      <th>14745</th>\n",
       "      <td>0.0</td>\n",
       "      <td>0.0</td>\n",
       "      <td>0.0</td>\n",
       "      <td>0.0</td>\n",
       "      <td>0.0</td>\n",
       "      <td>0.0</td>\n",
       "      <td>0.0</td>\n",
       "      <td>0.0</td>\n",
       "      <td>0.0</td>\n",
       "      <td>0.0</td>\n",
       "      <td>...</td>\n",
       "      <td>0.0</td>\n",
       "      <td>1.0</td>\n",
       "      <td>0.0</td>\n",
       "      <td>1.0</td>\n",
       "      <td>0.0</td>\n",
       "      <td>0.0</td>\n",
       "      <td>0.0</td>\n",
       "      <td>0.0</td>\n",
       "      <td>1330</td>\n",
       "      <td>1400</td>\n",
       "    </tr>\n",
       "    <tr>\n",
       "      <th>19299</th>\n",
       "      <td>0.0</td>\n",
       "      <td>0.0</td>\n",
       "      <td>0.0</td>\n",
       "      <td>0.0</td>\n",
       "      <td>0.0</td>\n",
       "      <td>0.0</td>\n",
       "      <td>0.0</td>\n",
       "      <td>0.0</td>\n",
       "      <td>0.0</td>\n",
       "      <td>0.0</td>\n",
       "      <td>...</td>\n",
       "      <td>0.0</td>\n",
       "      <td>0.0</td>\n",
       "      <td>0.0</td>\n",
       "      <td>1.0</td>\n",
       "      <td>0.0</td>\n",
       "      <td>0.0</td>\n",
       "      <td>0.0</td>\n",
       "      <td>0.0</td>\n",
       "      <td>1120</td>\n",
       "      <td>1620</td>\n",
       "    </tr>\n",
       "    <tr>\n",
       "      <th>20872</th>\n",
       "      <td>0.0</td>\n",
       "      <td>0.0</td>\n",
       "      <td>0.0</td>\n",
       "      <td>0.0</td>\n",
       "      <td>0.0</td>\n",
       "      <td>0.0</td>\n",
       "      <td>0.0</td>\n",
       "      <td>0.0</td>\n",
       "      <td>0.0</td>\n",
       "      <td>0.0</td>\n",
       "      <td>...</td>\n",
       "      <td>0.0</td>\n",
       "      <td>1.0</td>\n",
       "      <td>1.0</td>\n",
       "      <td>0.0</td>\n",
       "      <td>0.0</td>\n",
       "      <td>0.0</td>\n",
       "      <td>0.0</td>\n",
       "      <td>0.0</td>\n",
       "      <td>1230</td>\n",
       "      <td>1230</td>\n",
       "    </tr>\n",
       "    <tr>\n",
       "      <th>9182</th>\n",
       "      <td>0.0</td>\n",
       "      <td>0.0</td>\n",
       "      <td>0.0</td>\n",
       "      <td>0.0</td>\n",
       "      <td>0.0</td>\n",
       "      <td>0.0</td>\n",
       "      <td>0.0</td>\n",
       "      <td>0.0</td>\n",
       "      <td>0.0</td>\n",
       "      <td>0.0</td>\n",
       "      <td>...</td>\n",
       "      <td>0.0</td>\n",
       "      <td>1.0</td>\n",
       "      <td>0.0</td>\n",
       "      <td>0.0</td>\n",
       "      <td>0.0</td>\n",
       "      <td>0.0</td>\n",
       "      <td>0.0</td>\n",
       "      <td>0.0</td>\n",
       "      <td>1110</td>\n",
       "      <td>1230</td>\n",
       "    </tr>\n",
       "    <tr>\n",
       "      <th>...</th>\n",
       "      <td>...</td>\n",
       "      <td>...</td>\n",
       "      <td>...</td>\n",
       "      <td>...</td>\n",
       "      <td>...</td>\n",
       "      <td>...</td>\n",
       "      <td>...</td>\n",
       "      <td>...</td>\n",
       "      <td>...</td>\n",
       "      <td>...</td>\n",
       "      <td>...</td>\n",
       "      <td>...</td>\n",
       "      <td>...</td>\n",
       "      <td>...</td>\n",
       "      <td>...</td>\n",
       "      <td>...</td>\n",
       "      <td>...</td>\n",
       "      <td>...</td>\n",
       "      <td>...</td>\n",
       "      <td>...</td>\n",
       "      <td>...</td>\n",
       "    </tr>\n",
       "    <tr>\n",
       "      <th>11933</th>\n",
       "      <td>0.0</td>\n",
       "      <td>0.0</td>\n",
       "      <td>0.0</td>\n",
       "      <td>0.0</td>\n",
       "      <td>0.0</td>\n",
       "      <td>0.0</td>\n",
       "      <td>0.0</td>\n",
       "      <td>0.0</td>\n",
       "      <td>0.0</td>\n",
       "      <td>0.0</td>\n",
       "      <td>...</td>\n",
       "      <td>0.0</td>\n",
       "      <td>0.0</td>\n",
       "      <td>0.0</td>\n",
       "      <td>0.0</td>\n",
       "      <td>1.0</td>\n",
       "      <td>0.0</td>\n",
       "      <td>0.0</td>\n",
       "      <td>0.0</td>\n",
       "      <td>4690</td>\n",
       "      <td>2910</td>\n",
       "    </tr>\n",
       "    <tr>\n",
       "      <th>12650</th>\n",
       "      <td>0.0</td>\n",
       "      <td>0.0</td>\n",
       "      <td>0.0</td>\n",
       "      <td>0.0</td>\n",
       "      <td>0.0</td>\n",
       "      <td>0.0</td>\n",
       "      <td>0.0</td>\n",
       "      <td>0.0</td>\n",
       "      <td>0.0</td>\n",
       "      <td>0.0</td>\n",
       "      <td>...</td>\n",
       "      <td>0.0</td>\n",
       "      <td>1.0</td>\n",
       "      <td>0.0</td>\n",
       "      <td>1.0</td>\n",
       "      <td>0.0</td>\n",
       "      <td>0.0</td>\n",
       "      <td>0.0</td>\n",
       "      <td>0.0</td>\n",
       "      <td>1740</td>\n",
       "      <td>1260</td>\n",
       "    </tr>\n",
       "    <tr>\n",
       "      <th>5700</th>\n",
       "      <td>0.0</td>\n",
       "      <td>0.0</td>\n",
       "      <td>0.0</td>\n",
       "      <td>0.0</td>\n",
       "      <td>0.0</td>\n",
       "      <td>0.0</td>\n",
       "      <td>0.0</td>\n",
       "      <td>0.0</td>\n",
       "      <td>0.0</td>\n",
       "      <td>0.0</td>\n",
       "      <td>...</td>\n",
       "      <td>0.0</td>\n",
       "      <td>1.0</td>\n",
       "      <td>0.0</td>\n",
       "      <td>1.0</td>\n",
       "      <td>0.0</td>\n",
       "      <td>0.0</td>\n",
       "      <td>0.0</td>\n",
       "      <td>0.0</td>\n",
       "      <td>1880</td>\n",
       "      <td>2520</td>\n",
       "    </tr>\n",
       "    <tr>\n",
       "      <th>909</th>\n",
       "      <td>1.0</td>\n",
       "      <td>0.0</td>\n",
       "      <td>0.0</td>\n",
       "      <td>0.0</td>\n",
       "      <td>0.0</td>\n",
       "      <td>0.0</td>\n",
       "      <td>0.0</td>\n",
       "      <td>0.0</td>\n",
       "      <td>0.0</td>\n",
       "      <td>0.0</td>\n",
       "      <td>...</td>\n",
       "      <td>0.0</td>\n",
       "      <td>1.0</td>\n",
       "      <td>0.0</td>\n",
       "      <td>1.0</td>\n",
       "      <td>0.0</td>\n",
       "      <td>0.0</td>\n",
       "      <td>0.0</td>\n",
       "      <td>0.0</td>\n",
       "      <td>1420</td>\n",
       "      <td>1660</td>\n",
       "    </tr>\n",
       "    <tr>\n",
       "      <th>16714</th>\n",
       "      <td>0.0</td>\n",
       "      <td>0.0</td>\n",
       "      <td>0.0</td>\n",
       "      <td>0.0</td>\n",
       "      <td>0.0</td>\n",
       "      <td>0.0</td>\n",
       "      <td>0.0</td>\n",
       "      <td>0.0</td>\n",
       "      <td>0.0</td>\n",
       "      <td>0.0</td>\n",
       "      <td>...</td>\n",
       "      <td>0.0</td>\n",
       "      <td>1.0</td>\n",
       "      <td>0.0</td>\n",
       "      <td>0.0</td>\n",
       "      <td>1.0</td>\n",
       "      <td>0.0</td>\n",
       "      <td>0.0</td>\n",
       "      <td>0.0</td>\n",
       "      <td>1730</td>\n",
       "      <td>1360</td>\n",
       "    </tr>\n",
       "  </tbody>\n",
       "</table>\n",
       "<p>14265 rows × 85 columns</p>\n",
       "</div>"
      ],
      "text/plain": [
       "       zipcode_x0_98002  zipcode_x0_98003  zipcode_x0_98004  zipcode_x0_98005  \\\n",
       "4535                0.0               0.0               0.0               0.0   \n",
       "14745               0.0               0.0               0.0               0.0   \n",
       "19299               0.0               0.0               0.0               0.0   \n",
       "20872               0.0               0.0               0.0               0.0   \n",
       "9182                0.0               0.0               0.0               0.0   \n",
       "...                 ...               ...               ...               ...   \n",
       "11933               0.0               0.0               0.0               0.0   \n",
       "12650               0.0               0.0               0.0               0.0   \n",
       "5700                0.0               0.0               0.0               0.0   \n",
       "909                 1.0               0.0               0.0               0.0   \n",
       "16714               0.0               0.0               0.0               0.0   \n",
       "\n",
       "       zipcode_x0_98006  zipcode_x0_98007  zipcode_x0_98008  zipcode_x0_98010  \\\n",
       "4535                0.0               0.0               0.0               0.0   \n",
       "14745               0.0               0.0               0.0               0.0   \n",
       "19299               0.0               0.0               0.0               0.0   \n",
       "20872               0.0               0.0               0.0               0.0   \n",
       "9182                0.0               0.0               0.0               0.0   \n",
       "...                 ...               ...               ...               ...   \n",
       "11933               0.0               0.0               0.0               0.0   \n",
       "12650               0.0               0.0               0.0               0.0   \n",
       "5700                0.0               0.0               0.0               0.0   \n",
       "909                 0.0               0.0               0.0               0.0   \n",
       "16714               0.0               0.0               0.0               0.0   \n",
       "\n",
       "       zipcode_x0_98011  zipcode_x0_98014  ...  view_x0_GOOD  view_x0_NONE  \\\n",
       "4535                0.0               0.0  ...           0.0           1.0   \n",
       "14745               0.0               0.0  ...           0.0           1.0   \n",
       "19299               0.0               0.0  ...           0.0           0.0   \n",
       "20872               0.0               0.0  ...           0.0           1.0   \n",
       "9182                0.0               0.0  ...           0.0           1.0   \n",
       "...                 ...               ...  ...           ...           ...   \n",
       "11933               0.0               0.0  ...           0.0           0.0   \n",
       "12650               0.0               0.0  ...           0.0           1.0   \n",
       "5700                0.0               0.0  ...           0.0           1.0   \n",
       "909                 0.0               0.0  ...           0.0           1.0   \n",
       "16714               0.0               0.0  ...           0.0           1.0   \n",
       "\n",
       "       bedrooms_bin_x0_2BR  bedrooms_bin_x0_3BR  bedrooms_bin_x0_4BR  \\\n",
       "4535                   0.0                  1.0                  0.0   \n",
       "14745                  0.0                  1.0                  0.0   \n",
       "19299                  0.0                  1.0                  0.0   \n",
       "20872                  1.0                  0.0                  0.0   \n",
       "9182                   0.0                  0.0                  0.0   \n",
       "...                    ...                  ...                  ...   \n",
       "11933                  0.0                  0.0                  1.0   \n",
       "12650                  0.0                  1.0                  0.0   \n",
       "5700                   0.0                  1.0                  0.0   \n",
       "909                    0.0                  1.0                  0.0   \n",
       "16714                  0.0                  0.0                  1.0   \n",
       "\n",
       "       bedrooms_bin_x0_5BR  bedrooms_bin_x0_6BR  bedrooms_bin_x0_7+BR  \\\n",
       "4535                   0.0                  0.0                   0.0   \n",
       "14745                  0.0                  0.0                   0.0   \n",
       "19299                  0.0                  0.0                   0.0   \n",
       "20872                  0.0                  0.0                   0.0   \n",
       "9182                   0.0                  0.0                   0.0   \n",
       "...                    ...                  ...                   ...   \n",
       "11933                  0.0                  0.0                   0.0   \n",
       "12650                  0.0                  0.0                   0.0   \n",
       "5700                   0.0                  0.0                   0.0   \n",
       "909                    0.0                  0.0                   0.0   \n",
       "16714                  0.0                  0.0                   0.0   \n",
       "\n",
       "       sqft_living  sqft_living15  \n",
       "4535          3380           2250  \n",
       "14745         1330           1400  \n",
       "19299         1120           1620  \n",
       "20872         1230           1230  \n",
       "9182          1110           1230  \n",
       "...            ...            ...  \n",
       "11933         4690           2910  \n",
       "12650         1740           1260  \n",
       "5700          1880           2520  \n",
       "909           1420           1660  \n",
       "16714         1730           1360  \n",
       "\n",
       "[14265 rows x 85 columns]"
      ]
     },
     "execution_count": 63,
     "metadata": {},
     "output_type": "execute_result"
    }
   ],
   "source": [
    "X_train_enc"
   ]
  },
  {
   "cell_type": "code",
   "execution_count": 64,
   "metadata": {
    "ExecuteTime": {
     "end_time": "2022-03-30T20:16:36.244555Z",
     "start_time": "2022-03-30T20:16:36.108524Z"
    }
   },
   "outputs": [],
   "source": [
    "encoder = OneHotEncoder(handle_unknown='error',\n",
    "                        drop='first',\n",
    "                        categories='auto')\n",
    "ct = ColumnTransformer(transformers=[('ohe', encoder, cat_col)],\n",
    "                           remainder='passthrough')\n",
    "\n",
    "#Fit Column Transformer\n",
    "ct.fit(X_train_subset)\n",
    "\n",
    "#Get your encoded Training and Test sets. Sometimes need to force todens(0) depending upon size of output\n",
    "try:\n",
    "    X_train_enc = ct.transform(X_train_subset).todense()    \n",
    "except:\n",
    "    X_train_enc = ct.transform(X_train_subset)\n",
    "\n",
    "try:\n",
    "    X_test_enc = ct.transform(X_test_subset).todense()\n",
    "except:\n",
    "    X_test_enc = ct.transform(X_test_subset)\n"
   ]
  },
  {
   "cell_type": "code",
   "execution_count": 65,
   "metadata": {
    "ExecuteTime": {
     "end_time": "2022-03-30T20:16:36.291565Z",
     "start_time": "2022-03-30T20:16:36.245554Z"
    }
   },
   "outputs": [],
   "source": [
    "#Scale\n",
    "scaler = StandardScaler() #IQR and scaled\n",
    "scaler.fit(X_train_enc)\n",
    "X_train_scaled = scaler.transform(X_train_enc)\n",
    "X_test_scaled = scaler.transform(X_test_enc)"
   ]
  },
  {
   "cell_type": "code",
   "execution_count": 66,
   "metadata": {
    "ExecuteTime": {
     "end_time": "2022-03-30T20:16:36.370582Z",
     "start_time": "2022-03-30T20:16:36.293566Z"
    }
   },
   "outputs": [
    {
     "data": {
      "text/plain": [
       "LinearRegression()"
      ]
     },
     "execution_count": 66,
     "metadata": {},
     "output_type": "execute_result"
    }
   ],
   "source": [
    "#Linear Regression\n",
    "lr = LinearRegression()\n",
    "lr.fit(X_train_scaled,y_train)"
   ]
  },
  {
   "cell_type": "code",
   "execution_count": 67,
   "metadata": {
    "ExecuteTime": {
     "end_time": "2022-03-30T20:16:36.386586Z",
     "start_time": "2022-03-30T20:16:36.371582Z"
    },
    "scrolled": true
   },
   "outputs": [],
   "source": [
    "train_preds=lr.predict(X_train_scaled)\n",
    "test_preds=lr.predict(X_test_scaled)\n",
    "\n",
    "train_residuals = y_train - train_preds\n",
    "test_residuals = y_test - test_preds"
   ]
  },
  {
   "cell_type": "code",
   "execution_count": 68,
   "metadata": {
    "ExecuteTime": {
     "end_time": "2022-03-30T20:16:36.402590Z",
     "start_time": "2022-03-30T20:16:36.387587Z"
    },
    "scrolled": false
   },
   "outputs": [
    {
     "name": "stdout",
     "output_type": "stream",
     "text": [
      "\n",
      "Training Metrics:\n",
      "R2: 0.805\n",
      "Mean Absolute Error: 66932.149\n",
      "Mean Squared Error: 8446142367.882\n",
      "Root Mean Squared Error: 91902.896\n",
      "\n",
      "Testing Metrics:\n",
      "R2: 0.806\n",
      "Mean Absolute Error: 66687.939\n",
      "Mean Squared Error: 8333691661.519\n",
      "Root Mean Squared Error: 91289.056\n"
     ]
    }
   ],
   "source": [
    "get_train_test_metrics(y_train,train_preds,y_test,test_preds)"
   ]
  },
  {
   "cell_type": "code",
   "execution_count": 69,
   "metadata": {
    "ExecuteTime": {
     "end_time": "2022-03-30T20:16:36.418594Z",
     "start_time": "2022-03-30T20:16:36.403590Z"
    }
   },
   "outputs": [
    {
     "data": {
      "text/plain": [
       "0.20795648914285716"
      ]
     },
     "execution_count": 69,
     "metadata": {},
     "output_type": "execute_result"
    }
   ],
   "source": [
    "90980.964/df.price.median()"
   ]
  },
  {
   "cell_type": "code",
   "execution_count": 70,
   "metadata": {
    "ExecuteTime": {
     "end_time": "2022-03-30T20:16:36.433597Z",
     "start_time": "2022-03-30T20:16:36.420594Z"
    },
    "scrolled": false
   },
   "outputs": [
    {
     "data": {
      "text/plain": [
       "0.1908585506777202"
      ]
     },
     "execution_count": 70,
     "metadata": {},
     "output_type": "execute_result"
    }
   ],
   "source": [
    "90980.964/df.price.mean()"
   ]
  },
  {
   "cell_type": "markdown",
   "metadata": {
    "ExecuteTime": {
     "end_time": "2022-03-30T19:11:00.712904Z",
     "start_time": "2022-03-30T19:11:00.695909Z"
    }
   },
   "source": [
    "Roughly 20% error predicting prices when compared to meadian house price"
   ]
  },
  {
   "cell_type": "code",
   "execution_count": 71,
   "metadata": {
    "ExecuteTime": {
     "end_time": "2022-03-30T20:16:36.465604Z",
     "start_time": "2022-03-30T20:16:36.434597Z"
    }
   },
   "outputs": [
    {
     "ename": "ValueError",
     "evalue": "Shape of passed values is (14265, 168), indices imply (14265, 85)",
     "output_type": "error",
     "traceback": [
      "\u001b[1;31m---------------------------------------------------------------------------\u001b[0m",
      "\u001b[1;31mValueError\u001b[0m                                Traceback (most recent call last)",
      "\u001b[1;32m~\\anaconda3\\envs\\learn-env\\lib\\site-packages\\pandas\\core\\internals\\managers.py\u001b[0m in \u001b[0;36mcreate_block_manager_from_blocks\u001b[1;34m(blocks, axes)\u001b[0m\n\u001b[0;32m   1661\u001b[0m                 blocks = [\n\u001b[1;32m-> 1662\u001b[1;33m                     \u001b[0mmake_block\u001b[0m\u001b[1;33m(\u001b[0m\u001b[0mvalues\u001b[0m\u001b[1;33m=\u001b[0m\u001b[0mblocks\u001b[0m\u001b[1;33m[\u001b[0m\u001b[1;36m0\u001b[0m\u001b[1;33m]\u001b[0m\u001b[1;33m,\u001b[0m \u001b[0mplacement\u001b[0m\u001b[1;33m=\u001b[0m\u001b[0mslice\u001b[0m\u001b[1;33m(\u001b[0m\u001b[1;36m0\u001b[0m\u001b[1;33m,\u001b[0m \u001b[0mlen\u001b[0m\u001b[1;33m(\u001b[0m\u001b[0maxes\u001b[0m\u001b[1;33m[\u001b[0m\u001b[1;36m0\u001b[0m\u001b[1;33m]\u001b[0m\u001b[1;33m)\u001b[0m\u001b[1;33m)\u001b[0m\u001b[1;33m)\u001b[0m\u001b[1;33m\u001b[0m\u001b[1;33m\u001b[0m\u001b[0m\n\u001b[0m\u001b[0;32m   1663\u001b[0m                 ]\n",
      "\u001b[1;32m~\\anaconda3\\envs\\learn-env\\lib\\site-packages\\pandas\\core\\internals\\blocks.py\u001b[0m in \u001b[0;36mmake_block\u001b[1;34m(values, placement, klass, ndim, dtype)\u001b[0m\n\u001b[0;32m   2721\u001b[0m \u001b[1;33m\u001b[0m\u001b[0m\n\u001b[1;32m-> 2722\u001b[1;33m     \u001b[1;32mreturn\u001b[0m \u001b[0mklass\u001b[0m\u001b[1;33m(\u001b[0m\u001b[0mvalues\u001b[0m\u001b[1;33m,\u001b[0m \u001b[0mndim\u001b[0m\u001b[1;33m=\u001b[0m\u001b[0mndim\u001b[0m\u001b[1;33m,\u001b[0m \u001b[0mplacement\u001b[0m\u001b[1;33m=\u001b[0m\u001b[0mplacement\u001b[0m\u001b[1;33m)\u001b[0m\u001b[1;33m\u001b[0m\u001b[1;33m\u001b[0m\u001b[0m\n\u001b[0m\u001b[0;32m   2723\u001b[0m \u001b[1;33m\u001b[0m\u001b[0m\n",
      "\u001b[1;32m~\\anaconda3\\envs\\learn-env\\lib\\site-packages\\pandas\\core\\internals\\blocks.py\u001b[0m in \u001b[0;36m__init__\u001b[1;34m(self, values, placement, ndim)\u001b[0m\n\u001b[0;32m    129\u001b[0m         \u001b[1;32mif\u001b[0m \u001b[0mself\u001b[0m\u001b[1;33m.\u001b[0m\u001b[0m_validate_ndim\u001b[0m \u001b[1;32mand\u001b[0m \u001b[0mself\u001b[0m\u001b[1;33m.\u001b[0m\u001b[0mndim\u001b[0m \u001b[1;32mand\u001b[0m \u001b[0mlen\u001b[0m\u001b[1;33m(\u001b[0m\u001b[0mself\u001b[0m\u001b[1;33m.\u001b[0m\u001b[0mmgr_locs\u001b[0m\u001b[1;33m)\u001b[0m \u001b[1;33m!=\u001b[0m \u001b[0mlen\u001b[0m\u001b[1;33m(\u001b[0m\u001b[0mself\u001b[0m\u001b[1;33m.\u001b[0m\u001b[0mvalues\u001b[0m\u001b[1;33m)\u001b[0m\u001b[1;33m:\u001b[0m\u001b[1;33m\u001b[0m\u001b[1;33m\u001b[0m\u001b[0m\n\u001b[1;32m--> 130\u001b[1;33m             raise ValueError(\n\u001b[0m\u001b[0;32m    131\u001b[0m                 \u001b[1;34mf\"Wrong number of items passed {len(self.values)}, \"\u001b[0m\u001b[1;33m\u001b[0m\u001b[1;33m\u001b[0m\u001b[0m\n",
      "\u001b[1;31mValueError\u001b[0m: Wrong number of items passed 168, placement implies 85",
      "\nDuring handling of the above exception, another exception occurred:\n",
      "\u001b[1;31mValueError\u001b[0m                                Traceback (most recent call last)",
      "\u001b[1;32m<ipython-input-71-65f8dbee36ef>\u001b[0m in \u001b[0;36m<module>\u001b[1;34m\u001b[0m\n\u001b[1;32m----> 1\u001b[1;33m \u001b[0mX_train_scaled\u001b[0m \u001b[1;33m=\u001b[0m \u001b[0mpd\u001b[0m\u001b[1;33m.\u001b[0m\u001b[0mDataFrame\u001b[0m\u001b[1;33m(\u001b[0m\u001b[0mX_train_scaled\u001b[0m\u001b[1;33m,\u001b[0m \u001b[0mindex\u001b[0m\u001b[1;33m=\u001b[0m\u001b[0mX_train_subset\u001b[0m\u001b[1;33m.\u001b[0m\u001b[0mindex\u001b[0m\u001b[1;33m,\u001b[0m \u001b[0mcolumns\u001b[0m\u001b[1;33m=\u001b[0m\u001b[0mcs\u001b[0m\u001b[1;33m)\u001b[0m\u001b[1;33m\u001b[0m\u001b[1;33m\u001b[0m\u001b[0m\n\u001b[0m\u001b[0;32m      2\u001b[0m \u001b[0mX_test_scaled\u001b[0m \u001b[1;33m=\u001b[0m \u001b[0mpd\u001b[0m\u001b[1;33m.\u001b[0m\u001b[0mDataFrame\u001b[0m\u001b[1;33m(\u001b[0m\u001b[0mX_test_scaled\u001b[0m\u001b[1;33m,\u001b[0m \u001b[0mindex\u001b[0m\u001b[1;33m=\u001b[0m\u001b[0mX_test_subset\u001b[0m\u001b[1;33m.\u001b[0m\u001b[0mindex\u001b[0m\u001b[1;33m,\u001b[0m \u001b[0mcolumns\u001b[0m\u001b[1;33m=\u001b[0m\u001b[0mcs\u001b[0m\u001b[1;33m)\u001b[0m\u001b[1;33m\u001b[0m\u001b[1;33m\u001b[0m\u001b[0m\n",
      "\u001b[1;32m~\\anaconda3\\envs\\learn-env\\lib\\site-packages\\pandas\\core\\frame.py\u001b[0m in \u001b[0;36m__init__\u001b[1;34m(self, data, index, columns, dtype, copy)\u001b[0m\n\u001b[0;32m    495\u001b[0m                 \u001b[0mmgr\u001b[0m \u001b[1;33m=\u001b[0m \u001b[0minit_dict\u001b[0m\u001b[1;33m(\u001b[0m\u001b[1;33m{\u001b[0m\u001b[0mdata\u001b[0m\u001b[1;33m.\u001b[0m\u001b[0mname\u001b[0m\u001b[1;33m:\u001b[0m \u001b[0mdata\u001b[0m\u001b[1;33m}\u001b[0m\u001b[1;33m,\u001b[0m \u001b[0mindex\u001b[0m\u001b[1;33m,\u001b[0m \u001b[0mcolumns\u001b[0m\u001b[1;33m,\u001b[0m \u001b[0mdtype\u001b[0m\u001b[1;33m=\u001b[0m\u001b[0mdtype\u001b[0m\u001b[1;33m)\u001b[0m\u001b[1;33m\u001b[0m\u001b[1;33m\u001b[0m\u001b[0m\n\u001b[0;32m    496\u001b[0m             \u001b[1;32melse\u001b[0m\u001b[1;33m:\u001b[0m\u001b[1;33m\u001b[0m\u001b[1;33m\u001b[0m\u001b[0m\n\u001b[1;32m--> 497\u001b[1;33m                 \u001b[0mmgr\u001b[0m \u001b[1;33m=\u001b[0m \u001b[0minit_ndarray\u001b[0m\u001b[1;33m(\u001b[0m\u001b[0mdata\u001b[0m\u001b[1;33m,\u001b[0m \u001b[0mindex\u001b[0m\u001b[1;33m,\u001b[0m \u001b[0mcolumns\u001b[0m\u001b[1;33m,\u001b[0m \u001b[0mdtype\u001b[0m\u001b[1;33m=\u001b[0m\u001b[0mdtype\u001b[0m\u001b[1;33m,\u001b[0m \u001b[0mcopy\u001b[0m\u001b[1;33m=\u001b[0m\u001b[0mcopy\u001b[0m\u001b[1;33m)\u001b[0m\u001b[1;33m\u001b[0m\u001b[1;33m\u001b[0m\u001b[0m\n\u001b[0m\u001b[0;32m    498\u001b[0m \u001b[1;33m\u001b[0m\u001b[0m\n\u001b[0;32m    499\u001b[0m         \u001b[1;31m# For data is list-like, or Iterable (will consume into list)\u001b[0m\u001b[1;33m\u001b[0m\u001b[1;33m\u001b[0m\u001b[1;33m\u001b[0m\u001b[0m\n",
      "\u001b[1;32m~\\anaconda3\\envs\\learn-env\\lib\\site-packages\\pandas\\core\\internals\\construction.py\u001b[0m in \u001b[0;36minit_ndarray\u001b[1;34m(values, index, columns, dtype, copy)\u001b[0m\n\u001b[0;32m    232\u001b[0m         \u001b[0mblock_values\u001b[0m \u001b[1;33m=\u001b[0m \u001b[1;33m[\u001b[0m\u001b[0mvalues\u001b[0m\u001b[1;33m]\u001b[0m\u001b[1;33m\u001b[0m\u001b[1;33m\u001b[0m\u001b[0m\n\u001b[0;32m    233\u001b[0m \u001b[1;33m\u001b[0m\u001b[0m\n\u001b[1;32m--> 234\u001b[1;33m     \u001b[1;32mreturn\u001b[0m \u001b[0mcreate_block_manager_from_blocks\u001b[0m\u001b[1;33m(\u001b[0m\u001b[0mblock_values\u001b[0m\u001b[1;33m,\u001b[0m \u001b[1;33m[\u001b[0m\u001b[0mcolumns\u001b[0m\u001b[1;33m,\u001b[0m \u001b[0mindex\u001b[0m\u001b[1;33m]\u001b[0m\u001b[1;33m)\u001b[0m\u001b[1;33m\u001b[0m\u001b[1;33m\u001b[0m\u001b[0m\n\u001b[0m\u001b[0;32m    235\u001b[0m \u001b[1;33m\u001b[0m\u001b[0m\n\u001b[0;32m    236\u001b[0m \u001b[1;33m\u001b[0m\u001b[0m\n",
      "\u001b[1;32m~\\anaconda3\\envs\\learn-env\\lib\\site-packages\\pandas\\core\\internals\\managers.py\u001b[0m in \u001b[0;36mcreate_block_manager_from_blocks\u001b[1;34m(blocks, axes)\u001b[0m\n\u001b[0;32m   1670\u001b[0m         \u001b[0mblocks\u001b[0m \u001b[1;33m=\u001b[0m \u001b[1;33m[\u001b[0m\u001b[0mgetattr\u001b[0m\u001b[1;33m(\u001b[0m\u001b[0mb\u001b[0m\u001b[1;33m,\u001b[0m \u001b[1;34m\"values\"\u001b[0m\u001b[1;33m,\u001b[0m \u001b[0mb\u001b[0m\u001b[1;33m)\u001b[0m \u001b[1;32mfor\u001b[0m \u001b[0mb\u001b[0m \u001b[1;32min\u001b[0m \u001b[0mblocks\u001b[0m\u001b[1;33m]\u001b[0m\u001b[1;33m\u001b[0m\u001b[1;33m\u001b[0m\u001b[0m\n\u001b[0;32m   1671\u001b[0m         \u001b[0mtot_items\u001b[0m \u001b[1;33m=\u001b[0m \u001b[0msum\u001b[0m\u001b[1;33m(\u001b[0m\u001b[0mb\u001b[0m\u001b[1;33m.\u001b[0m\u001b[0mshape\u001b[0m\u001b[1;33m[\u001b[0m\u001b[1;36m0\u001b[0m\u001b[1;33m]\u001b[0m \u001b[1;32mfor\u001b[0m \u001b[0mb\u001b[0m \u001b[1;32min\u001b[0m \u001b[0mblocks\u001b[0m\u001b[1;33m)\u001b[0m\u001b[1;33m\u001b[0m\u001b[1;33m\u001b[0m\u001b[0m\n\u001b[1;32m-> 1672\u001b[1;33m         \u001b[1;32mraise\u001b[0m \u001b[0mconstruction_error\u001b[0m\u001b[1;33m(\u001b[0m\u001b[0mtot_items\u001b[0m\u001b[1;33m,\u001b[0m \u001b[0mblocks\u001b[0m\u001b[1;33m[\u001b[0m\u001b[1;36m0\u001b[0m\u001b[1;33m]\u001b[0m\u001b[1;33m.\u001b[0m\u001b[0mshape\u001b[0m\u001b[1;33m[\u001b[0m\u001b[1;36m1\u001b[0m\u001b[1;33m:\u001b[0m\u001b[1;33m]\u001b[0m\u001b[1;33m,\u001b[0m \u001b[0maxes\u001b[0m\u001b[1;33m,\u001b[0m \u001b[0me\u001b[0m\u001b[1;33m)\u001b[0m\u001b[1;33m\u001b[0m\u001b[1;33m\u001b[0m\u001b[0m\n\u001b[0m\u001b[0;32m   1673\u001b[0m \u001b[1;33m\u001b[0m\u001b[0m\n\u001b[0;32m   1674\u001b[0m \u001b[1;33m\u001b[0m\u001b[0m\n",
      "\u001b[1;31mValueError\u001b[0m: Shape of passed values is (14265, 168), indices imply (14265, 85)"
     ]
    }
   ],
   "source": [
    "X_train_scaled = pd.DataFrame(X_train_scaled, index=X_train_subset.index, columns=cs)\n",
    "X_test_scaled = pd.DataFrame(X_test_scaled, index=X_test_subset.index, columns=cs)"
   ]
  },
  {
   "cell_type": "code",
   "execution_count": 79,
   "metadata": {
    "ExecuteTime": {
     "end_time": "2022-03-30T20:17:02.445029Z",
     "start_time": "2022-03-30T20:17:02.433027Z"
    }
   },
   "outputs": [
    {
     "data": {
      "text/plain": [
       "array([[-0.10027223, -0.11984963, -0.09054534, ..., -0.26454111,\n",
       "        -0.10308731, -0.04887894],\n",
       "       [-0.10027223, -0.11984963, -0.09054534, ..., -0.26454111,\n",
       "        -0.10308731, -0.04887894],\n",
       "       [-0.10027223, -0.11984963, -0.09054534, ..., -0.26454111,\n",
       "        -0.10308731, -0.04887894],\n",
       "       ...,\n",
       "       [-0.10027223, -0.11984963, -0.09054534, ..., -0.26454111,\n",
       "        -0.10308731, -0.04887894],\n",
       "       [ 9.97285047, -0.11984963, -0.09054534, ..., -0.26454111,\n",
       "        -0.10308731, -0.04887894],\n",
       "       [-0.10027223, -0.11984963, -0.09054534, ..., -0.26454111,\n",
       "        -0.10308731, -0.04887894]])"
      ]
     },
     "execution_count": 79,
     "metadata": {},
     "output_type": "execute_result"
    }
   ],
   "source": [
    "X_train_scaled"
   ]
  },
  {
   "cell_type": "markdown",
   "metadata": {},
   "source": [
    "### OLS Summary"
   ]
  },
  {
   "cell_type": "code",
   "execution_count": 80,
   "metadata": {
    "ExecuteTime": {
     "end_time": "2022-03-30T20:17:04.114111Z",
     "start_time": "2022-03-30T20:17:03.739913Z"
    },
    "scrolled": true
   },
   "outputs": [
    {
     "data": {
      "text/html": [
       "<table class=\"simpletable\">\n",
       "<caption>OLS Regression Results</caption>\n",
       "<tr>\n",
       "  <th>Dep. Variable:</th>          <td>price</td>      <th>  R-squared:         </th>  <td>   0.801</td>  \n",
       "</tr>\n",
       "<tr>\n",
       "  <th>Model:</th>                   <td>OLS</td>       <th>  Adj. R-squared:    </th>  <td>   0.800</td>  \n",
       "</tr>\n",
       "<tr>\n",
       "  <th>Method:</th>             <td>Least Squares</td>  <th>  F-statistic:       </th>  <td>   672.2</td>  \n",
       "</tr>\n",
       "<tr>\n",
       "  <th>Date:</th>             <td>Wed, 30 Mar 2022</td> <th>  Prob (F-statistic):</th>   <td>  0.00</td>   \n",
       "</tr>\n",
       "<tr>\n",
       "  <th>Time:</th>                 <td>15:17:04</td>     <th>  Log-Likelihood:    </th> <td>-1.8341e+05</td>\n",
       "</tr>\n",
       "<tr>\n",
       "  <th>No. Observations:</th>      <td> 14265</td>      <th>  AIC:               </th>  <td>3.670e+05</td> \n",
       "</tr>\n",
       "<tr>\n",
       "  <th>Df Residuals:</th>          <td> 14179</td>      <th>  BIC:               </th>  <td>3.676e+05</td> \n",
       "</tr>\n",
       "<tr>\n",
       "  <th>Df Model:</th>              <td>    85</td>      <th>                     </th>      <td> </td>     \n",
       "</tr>\n",
       "<tr>\n",
       "  <th>Covariance Type:</th>      <td>nonrobust</td>    <th>                     </th>      <td> </td>     \n",
       "</tr>\n",
       "</table>\n",
       "<table class=\"simpletable\">\n",
       "<tr>\n",
       "    <td></td>       <th>coef</th>     <th>std err</th>      <th>t</th>      <th>P>|t|</th>  <th>[0.025</th>    <th>0.975]</th>  \n",
       "</tr>\n",
       "<tr>\n",
       "  <th>const</th> <td> 4.764e+05</td> <td>  791.974</td> <td>  601.563</td> <td> 0.000</td> <td> 4.75e+05</td> <td> 4.78e+05</td>\n",
       "</tr>\n",
       "<tr>\n",
       "  <th>x1</th>    <td>-8.278e+14</td> <td>  1.2e+16</td> <td>   -0.069</td> <td> 0.945</td> <td>-2.44e+16</td> <td> 2.27e+16</td>\n",
       "</tr>\n",
       "<tr>\n",
       "  <th>x2</th>    <td> 1.724e+16</td> <td> 1.46e+16</td> <td>    1.179</td> <td> 0.238</td> <td>-1.14e+16</td> <td> 4.59e+16</td>\n",
       "</tr>\n",
       "<tr>\n",
       "  <th>x3</th>    <td>-2.965e+16</td> <td> 1.67e+16</td> <td>   -1.773</td> <td> 0.076</td> <td>-6.24e+16</td> <td> 3.14e+15</td>\n",
       "</tr>\n",
       "<tr>\n",
       "  <th>x4</th>    <td> 7.996e+15</td> <td>    1e+16</td> <td>    0.797</td> <td> 0.425</td> <td>-1.17e+16</td> <td> 2.77e+16</td>\n",
       "</tr>\n",
       "<tr>\n",
       "  <th>x5</th>    <td> 8.798e+15</td> <td> 3.58e+16</td> <td>    0.246</td> <td> 0.806</td> <td>-6.13e+16</td> <td> 7.89e+16</td>\n",
       "</tr>\n",
       "<tr>\n",
       "  <th>x6</th>    <td>-2.605e+16</td> <td> 1.57e+16</td> <td>   -1.661</td> <td> 0.097</td> <td>-5.68e+16</td> <td> 4.69e+15</td>\n",
       "</tr>\n",
       "<tr>\n",
       "  <th>x7</th>    <td> 1.333e+16</td> <td> 1.64e+16</td> <td>    0.814</td> <td> 0.416</td> <td>-1.88e+16</td> <td> 4.54e+16</td>\n",
       "</tr>\n",
       "<tr>\n",
       "  <th>x8</th>    <td> 3.294e+16</td> <td> 3.43e+16</td> <td>    0.960</td> <td> 0.337</td> <td>-3.43e+16</td> <td>    1e+17</td>\n",
       "</tr>\n",
       "<tr>\n",
       "  <th>x9</th>    <td>-3.694e+15</td> <td> 1.55e+16</td> <td>   -0.238</td> <td> 0.812</td> <td>-3.41e+16</td> <td> 2.67e+16</td>\n",
       "</tr>\n",
       "<tr>\n",
       "  <th>x10</th>   <td> 1.901e+16</td> <td> 2.25e+16</td> <td>    0.844</td> <td> 0.399</td> <td>-2.51e+16</td> <td> 6.31e+16</td>\n",
       "</tr>\n",
       "<tr>\n",
       "  <th>x11</th>   <td> 1.906e+16</td> <td> 1.51e+16</td> <td>    1.266</td> <td> 0.206</td> <td>-1.05e+16</td> <td> 4.86e+16</td>\n",
       "</tr>\n",
       "<tr>\n",
       "  <th>x12</th>   <td> 1.908e+16</td> <td> 1.28e+16</td> <td>    1.495</td> <td> 0.135</td> <td>-5.94e+15</td> <td> 4.41e+16</td>\n",
       "</tr>\n",
       "<tr>\n",
       "  <th>x13</th>   <td>  6.71e+15</td> <td> 1.37e+16</td> <td>    0.488</td> <td> 0.625</td> <td>-2.02e+16</td> <td> 3.36e+16</td>\n",
       "</tr>\n",
       "<tr>\n",
       "  <th>x14</th>   <td>-5.007e+16</td> <td>  5.3e+16</td> <td>   -0.945</td> <td> 0.345</td> <td>-1.54e+17</td> <td> 5.38e+16</td>\n",
       "</tr>\n",
       "<tr>\n",
       "  <th>x15</th>   <td> 1.883e+16</td> <td> 2.68e+16</td> <td>    0.701</td> <td> 0.483</td> <td>-3.38e+16</td> <td> 7.15e+16</td>\n",
       "</tr>\n",
       "<tr>\n",
       "  <th>x16</th>   <td> 8.632e+16</td> <td> 7.31e+16</td> <td>    1.180</td> <td> 0.238</td> <td> -5.7e+16</td> <td>  2.3e+17</td>\n",
       "</tr>\n",
       "<tr>\n",
       "  <th>x17</th>   <td>-9.373e+15</td> <td> 2.32e+16</td> <td>   -0.403</td> <td> 0.687</td> <td>-5.49e+16</td> <td> 3.62e+16</td>\n",
       "</tr>\n",
       "<tr>\n",
       "  <th>x18</th>   <td>-2.098e+16</td> <td> 1.82e+16</td> <td>   -1.156</td> <td> 0.248</td> <td>-5.66e+16</td> <td> 1.46e+16</td>\n",
       "</tr>\n",
       "<tr>\n",
       "  <th>x19</th>   <td> 1.201e+16</td> <td> 3.84e+16</td> <td>    0.313</td> <td> 0.754</td> <td>-6.32e+16</td> <td> 8.72e+16</td>\n",
       "</tr>\n",
       "<tr>\n",
       "  <th>x20</th>   <td>-1.421e+16</td> <td> 1.67e+16</td> <td>   -0.849</td> <td> 0.396</td> <td> -4.7e+16</td> <td> 1.86e+16</td>\n",
       "</tr>\n",
       "<tr>\n",
       "  <th>x21</th>   <td> 9.288e+15</td> <td> 1.86e+16</td> <td>    0.499</td> <td> 0.618</td> <td>-2.72e+16</td> <td> 4.58e+16</td>\n",
       "</tr>\n",
       "<tr>\n",
       "  <th>x22</th>   <td>-3.467e+16</td> <td> 2.13e+16</td> <td>   -1.630</td> <td> 0.103</td> <td>-7.64e+16</td> <td> 7.02e+15</td>\n",
       "</tr>\n",
       "<tr>\n",
       "  <th>x23</th>   <td> 1.479e+15</td> <td> 1.62e+16</td> <td>    0.091</td> <td> 0.927</td> <td>-3.04e+16</td> <td> 3.33e+16</td>\n",
       "</tr>\n",
       "<tr>\n",
       "  <th>x24</th>   <td> 8.991e+15</td> <td>    2e+16</td> <td>    0.450</td> <td> 0.653</td> <td>-3.01e+16</td> <td> 4.81e+16</td>\n",
       "</tr>\n",
       "<tr>\n",
       "  <th>x25</th>   <td> 3.638e+16</td> <td> 2.34e+16</td> <td>    1.558</td> <td> 0.119</td> <td> -9.4e+15</td> <td> 8.22e+16</td>\n",
       "</tr>\n",
       "<tr>\n",
       "  <th>x26</th>   <td> 2.503e+16</td> <td> 3.63e+16</td> <td>    0.689</td> <td> 0.491</td> <td>-4.62e+16</td> <td> 9.62e+16</td>\n",
       "</tr>\n",
       "<tr>\n",
       "  <th>x27</th>   <td> 1.512e+17</td> <td> 1.41e+17</td> <td>    1.073</td> <td> 0.283</td> <td>-1.25e+17</td> <td> 4.27e+17</td>\n",
       "</tr>\n",
       "<tr>\n",
       "  <th>x28</th>   <td> 1.397e+15</td> <td> 1.76e+16</td> <td>    0.079</td> <td> 0.937</td> <td>-3.31e+16</td> <td> 3.59e+16</td>\n",
       "</tr>\n",
       "<tr>\n",
       "  <th>x29</th>   <td> 3.332e+15</td> <td> 2.02e+16</td> <td>    0.165</td> <td> 0.869</td> <td>-3.62e+16</td> <td> 4.29e+16</td>\n",
       "</tr>\n",
       "<tr>\n",
       "  <th>x30</th>   <td> 5.181e+16</td> <td> 4.54e+16</td> <td>    1.140</td> <td> 0.254</td> <td>-3.72e+16</td> <td> 1.41e+17</td>\n",
       "</tr>\n",
       "<tr>\n",
       "  <th>x31</th>   <td> 1.079e+17</td> <td> 8.16e+16</td> <td>    1.322</td> <td> 0.186</td> <td>-5.21e+16</td> <td> 2.68e+17</td>\n",
       "</tr>\n",
       "<tr>\n",
       "  <th>x32</th>   <td>-5.105e+14</td> <td> 4.58e+16</td> <td>   -0.011</td> <td> 0.991</td> <td>-9.03e+16</td> <td> 8.93e+16</td>\n",
       "</tr>\n",
       "<tr>\n",
       "  <th>x33</th>   <td> 4.692e+16</td> <td> 3.76e+16</td> <td>    1.247</td> <td> 0.212</td> <td>-2.68e+16</td> <td> 1.21e+17</td>\n",
       "</tr>\n",
       "<tr>\n",
       "  <th>x34</th>   <td> -7.91e+16</td> <td> 6.99e+16</td> <td>   -1.131</td> <td> 0.258</td> <td>-2.16e+17</td> <td>  5.8e+16</td>\n",
       "</tr>\n",
       "<tr>\n",
       "  <th>x35</th>   <td> 8.825e+16</td> <td> 4.99e+16</td> <td>    1.769</td> <td> 0.077</td> <td>-9.55e+15</td> <td> 1.86e+17</td>\n",
       "</tr>\n",
       "<tr>\n",
       "  <th>x36</th>   <td> 2.695e+16</td> <td> 1.18e+17</td> <td>    0.228</td> <td> 0.820</td> <td>-2.05e+17</td> <td> 2.59e+17</td>\n",
       "</tr>\n",
       "<tr>\n",
       "  <th>x37</th>   <td>-5.842e+15</td> <td> 3.05e+16</td> <td>   -0.191</td> <td> 0.848</td> <td>-6.57e+16</td> <td>  5.4e+16</td>\n",
       "</tr>\n",
       "<tr>\n",
       "  <th>x38</th>   <td> 3.002e+16</td> <td> 4.12e+16</td> <td>    0.729</td> <td> 0.466</td> <td>-5.08e+16</td> <td> 1.11e+17</td>\n",
       "</tr>\n",
       "<tr>\n",
       "  <th>x39</th>   <td>-3.296e+16</td> <td> 4.69e+16</td> <td>   -0.702</td> <td> 0.483</td> <td>-1.25e+17</td> <td>  5.9e+16</td>\n",
       "</tr>\n",
       "<tr>\n",
       "  <th>x40</th>   <td> 1.021e+17</td> <td> 1.29e+17</td> <td>    0.789</td> <td> 0.430</td> <td>-1.52e+17</td> <td> 3.56e+17</td>\n",
       "</tr>\n",
       "<tr>\n",
       "  <th>x41</th>   <td> 6.603e+16</td> <td>  7.9e+16</td> <td>    0.835</td> <td> 0.403</td> <td>-8.89e+16</td> <td> 2.21e+17</td>\n",
       "</tr>\n",
       "<tr>\n",
       "  <th>x42</th>   <td> 4.532e+16</td> <td> 4.64e+16</td> <td>    0.977</td> <td> 0.329</td> <td>-4.56e+16</td> <td> 1.36e+17</td>\n",
       "</tr>\n",
       "<tr>\n",
       "  <th>x43</th>   <td> 1.286e+17</td> <td>  1.3e+17</td> <td>    0.990</td> <td> 0.322</td> <td>-1.26e+17</td> <td> 3.83e+17</td>\n",
       "</tr>\n",
       "<tr>\n",
       "  <th>x44</th>   <td> -2.85e+15</td> <td> 3.45e+16</td> <td>   -0.083</td> <td> 0.934</td> <td>-7.05e+16</td> <td> 6.48e+16</td>\n",
       "</tr>\n",
       "<tr>\n",
       "  <th>x45</th>   <td> 1.899e+16</td> <td> 7.11e+16</td> <td>    0.267</td> <td> 0.789</td> <td> -1.2e+17</td> <td> 1.58e+17</td>\n",
       "</tr>\n",
       "<tr>\n",
       "  <th>x46</th>   <td> 6.456e+15</td> <td> 2.76e+16</td> <td>    0.234</td> <td> 0.815</td> <td>-4.76e+16</td> <td> 6.05e+16</td>\n",
       "</tr>\n",
       "<tr>\n",
       "  <th>x47</th>   <td>-2.586e+16</td> <td> 3.43e+16</td> <td>   -0.754</td> <td> 0.451</td> <td>-9.31e+16</td> <td> 4.14e+16</td>\n",
       "</tr>\n",
       "<tr>\n",
       "  <th>x48</th>   <td> 3.316e+16</td> <td> 9.23e+16</td> <td>    0.359</td> <td> 0.719</td> <td>-1.48e+17</td> <td> 2.14e+17</td>\n",
       "</tr>\n",
       "<tr>\n",
       "  <th>x49</th>   <td> 4.411e+15</td> <td> 9.68e+16</td> <td>    0.046</td> <td> 0.964</td> <td>-1.85e+17</td> <td> 1.94e+17</td>\n",
       "</tr>\n",
       "<tr>\n",
       "  <th>x50</th>   <td> 2.039e+16</td> <td> 7.78e+16</td> <td>    0.262</td> <td> 0.793</td> <td>-1.32e+17</td> <td> 1.73e+17</td>\n",
       "</tr>\n",
       "<tr>\n",
       "  <th>x51</th>   <td>-9.936e+16</td> <td> 7.78e+16</td> <td>   -1.277</td> <td> 0.202</td> <td>-2.52e+17</td> <td> 5.32e+16</td>\n",
       "</tr>\n",
       "<tr>\n",
       "  <th>x52</th>   <td>  7.53e+16</td> <td> 6.39e+16</td> <td>    1.177</td> <td> 0.239</td> <td>   -5e+16</td> <td> 2.01e+17</td>\n",
       "</tr>\n",
       "<tr>\n",
       "  <th>x53</th>   <td> 1.071e+17</td> <td> 1.55e+17</td> <td>    0.693</td> <td> 0.488</td> <td>-1.96e+17</td> <td>  4.1e+17</td>\n",
       "</tr>\n",
       "<tr>\n",
       "  <th>x54</th>   <td>-1.253e+17</td> <td> 1.72e+17</td> <td>   -0.727</td> <td> 0.467</td> <td>-4.63e+17</td> <td> 2.12e+17</td>\n",
       "</tr>\n",
       "<tr>\n",
       "  <th>x55</th>   <td>-1.799e+15</td> <td> 8.29e+16</td> <td>   -0.022</td> <td> 0.983</td> <td>-1.64e+17</td> <td> 1.61e+17</td>\n",
       "</tr>\n",
       "<tr>\n",
       "  <th>x56</th>   <td> 6.891e+16</td> <td> 9.25e+16</td> <td>    0.745</td> <td> 0.456</td> <td>-1.12e+17</td> <td>  2.5e+17</td>\n",
       "</tr>\n",
       "<tr>\n",
       "  <th>x57</th>   <td>-1.537e+15</td> <td> 1.11e+17</td> <td>   -0.014</td> <td> 0.989</td> <td> -2.2e+17</td> <td> 2.17e+17</td>\n",
       "</tr>\n",
       "<tr>\n",
       "  <th>x58</th>   <td>-7.199e+16</td> <td> 1.24e+17</td> <td>   -0.582</td> <td> 0.560</td> <td>-3.14e+17</td> <td>  1.7e+17</td>\n",
       "</tr>\n",
       "<tr>\n",
       "  <th>x59</th>   <td> 2.364e+16</td> <td>  7.7e+16</td> <td>    0.307</td> <td> 0.759</td> <td>-1.27e+17</td> <td> 1.74e+17</td>\n",
       "</tr>\n",
       "<tr>\n",
       "  <th>x60</th>   <td> 1.072e+17</td> <td> 1.03e+17</td> <td>    1.038</td> <td> 0.299</td> <td>-9.52e+16</td> <td>  3.1e+17</td>\n",
       "</tr>\n",
       "<tr>\n",
       "  <th>x61</th>   <td> 1.078e+16</td> <td> 8.36e+16</td> <td>    0.129</td> <td> 0.897</td> <td>-1.53e+17</td> <td> 1.75e+17</td>\n",
       "</tr>\n",
       "<tr>\n",
       "  <th>x62</th>   <td> 1.497e+17</td> <td> 1.12e+17</td> <td>    1.334</td> <td> 0.182</td> <td>-7.03e+16</td> <td>  3.7e+17</td>\n",
       "</tr>\n",
       "<tr>\n",
       "  <th>x63</th>   <td>-4.463e+16</td> <td> 1.33e+17</td> <td>   -0.335</td> <td> 0.738</td> <td>-3.06e+17</td> <td> 2.17e+17</td>\n",
       "</tr>\n",
       "<tr>\n",
       "  <th>x64</th>   <td>  2.11e+16</td> <td> 3.31e+16</td> <td>    0.637</td> <td> 0.524</td> <td>-4.38e+16</td> <td>  8.6e+16</td>\n",
       "</tr>\n",
       "<tr>\n",
       "  <th>x65</th>   <td>-5.568e+16</td> <td> 4.23e+16</td> <td>   -1.316</td> <td> 0.188</td> <td>-1.39e+17</td> <td> 2.72e+16</td>\n",
       "</tr>\n",
       "<tr>\n",
       "  <th>x66</th>   <td> 7.131e+16</td> <td> 3.95e+16</td> <td>    1.804</td> <td> 0.071</td> <td>-6.18e+15</td> <td> 1.49e+17</td>\n",
       "</tr>\n",
       "<tr>\n",
       "  <th>x67</th>   <td>-1.428e+16</td> <td> 3.86e+16</td> <td>   -0.370</td> <td> 0.712</td> <td>   -9e+16</td> <td> 6.15e+16</td>\n",
       "</tr>\n",
       "<tr>\n",
       "  <th>x68</th>   <td> -1.77e+16</td> <td> 5.13e+16</td> <td>   -0.345</td> <td> 0.730</td> <td>-1.18e+17</td> <td> 8.29e+16</td>\n",
       "</tr>\n",
       "<tr>\n",
       "  <th>x69</th>   <td> 8.561e+16</td> <td> 7.89e+16</td> <td>    1.085</td> <td> 0.278</td> <td>-6.91e+16</td> <td>  2.4e+17</td>\n",
       "</tr>\n",
       "<tr>\n",
       "  <th>x70</th>   <td> 1.151e+16</td> <td> 5.06e+16</td> <td>    0.227</td> <td> 0.820</td> <td>-8.77e+16</td> <td> 1.11e+17</td>\n",
       "</tr>\n",
       "<tr>\n",
       "  <th>x71</th>   <td>-4.543e+16</td> <td> 7.49e+16</td> <td>   -0.606</td> <td> 0.544</td> <td>-1.92e+17</td> <td> 1.01e+17</td>\n",
       "</tr>\n",
       "<tr>\n",
       "  <th>x72</th>   <td> 3.525e+16</td> <td> 8.72e+16</td> <td>    0.404</td> <td> 0.686</td> <td>-1.36e+17</td> <td> 2.06e+17</td>\n",
       "</tr>\n",
       "<tr>\n",
       "  <th>x73</th>   <td>-2.103e+16</td> <td> 1.11e+17</td> <td>   -0.189</td> <td> 0.850</td> <td>-2.39e+17</td> <td> 1.97e+17</td>\n",
       "</tr>\n",
       "<tr>\n",
       "  <th>x74</th>   <td>-1.528e+17</td> <td> 1.36e+17</td> <td>   -1.124</td> <td> 0.261</td> <td>-4.19e+17</td> <td> 1.14e+17</td>\n",
       "</tr>\n",
       "<tr>\n",
       "  <th>x75</th>   <td>-2.885e+16</td> <td> 5.12e+16</td> <td>   -0.564</td> <td> 0.573</td> <td>-1.29e+17</td> <td> 7.14e+16</td>\n",
       "</tr>\n",
       "<tr>\n",
       "  <th>x76</th>   <td>-1.193e+17</td> <td> 1.98e+17</td> <td>   -0.604</td> <td> 0.546</td> <td>-5.07e+17</td> <td> 2.68e+17</td>\n",
       "</tr>\n",
       "<tr>\n",
       "  <th>x77</th>   <td> 2.875e+16</td> <td> 4.07e+16</td> <td>    0.706</td> <td> 0.480</td> <td>-5.11e+16</td> <td> 1.09e+17</td>\n",
       "</tr>\n",
       "<tr>\n",
       "  <th>x78</th>   <td> 2.633e+16</td> <td> 1.57e+17</td> <td>    0.168</td> <td> 0.867</td> <td>-2.81e+17</td> <td> 3.34e+17</td>\n",
       "</tr>\n",
       "<tr>\n",
       "  <th>x79</th>   <td> -8.21e+16</td> <td> 8.43e+16</td> <td>   -0.974</td> <td> 0.330</td> <td>-2.47e+17</td> <td> 8.31e+16</td>\n",
       "</tr>\n",
       "<tr>\n",
       "  <th>x80</th>   <td>-3.805e+16</td> <td>  6.7e+16</td> <td>   -0.568</td> <td> 0.570</td> <td>-1.69e+17</td> <td> 9.32e+16</td>\n",
       "</tr>\n",
       "<tr>\n",
       "  <th>x81</th>   <td>-1.107e+17</td> <td> 1.58e+17</td> <td>   -0.702</td> <td> 0.483</td> <td> -4.2e+17</td> <td> 1.98e+17</td>\n",
       "</tr>\n",
       "<tr>\n",
       "  <th>x82</th>   <td>  2.32e+17</td> <td> 1.74e+17</td> <td>    1.330</td> <td> 0.184</td> <td> -1.1e+17</td> <td> 5.74e+17</td>\n",
       "</tr>\n",
       "<tr>\n",
       "  <th>x83</th>   <td>  1.43e+17</td> <td> 1.32e+17</td> <td>    1.082</td> <td> 0.279</td> <td>-1.16e+17</td> <td> 4.02e+17</td>\n",
       "</tr>\n",
       "<tr>\n",
       "  <th>x84</th>   <td> 1.014e+05</td> <td> 1369.166</td> <td>   74.089</td> <td> 0.000</td> <td> 9.88e+04</td> <td> 1.04e+05</td>\n",
       "</tr>\n",
       "<tr>\n",
       "  <th>x85</th>   <td> 3.527e+04</td> <td> 1319.525</td> <td>   26.726</td> <td> 0.000</td> <td> 3.27e+04</td> <td> 3.79e+04</td>\n",
       "</tr>\n",
       "<tr>\n",
       "  <th>x86</th>   <td> 8.278e+14</td> <td>  1.2e+16</td> <td>    0.069</td> <td> 0.945</td> <td>-2.27e+16</td> <td> 2.44e+16</td>\n",
       "</tr>\n",
       "<tr>\n",
       "  <th>x87</th>   <td>-1.724e+16</td> <td> 1.46e+16</td> <td>   -1.179</td> <td> 0.238</td> <td>-4.59e+16</td> <td> 1.14e+16</td>\n",
       "</tr>\n",
       "<tr>\n",
       "  <th>x88</th>   <td> 2.965e+16</td> <td> 1.67e+16</td> <td>    1.773</td> <td> 0.076</td> <td>-3.14e+15</td> <td> 6.24e+16</td>\n",
       "</tr>\n",
       "<tr>\n",
       "  <th>x89</th>   <td>-7.996e+15</td> <td>    1e+16</td> <td>   -0.797</td> <td> 0.425</td> <td>-2.77e+16</td> <td> 1.17e+16</td>\n",
       "</tr>\n",
       "<tr>\n",
       "  <th>x90</th>   <td>-8.798e+15</td> <td> 3.58e+16</td> <td>   -0.246</td> <td> 0.806</td> <td>-7.89e+16</td> <td> 6.13e+16</td>\n",
       "</tr>\n",
       "<tr>\n",
       "  <th>x91</th>   <td> 2.605e+16</td> <td> 1.57e+16</td> <td>    1.661</td> <td> 0.097</td> <td>-4.69e+15</td> <td> 5.68e+16</td>\n",
       "</tr>\n",
       "<tr>\n",
       "  <th>x92</th>   <td>-1.333e+16</td> <td> 1.64e+16</td> <td>   -0.814</td> <td> 0.416</td> <td>-4.54e+16</td> <td> 1.88e+16</td>\n",
       "</tr>\n",
       "<tr>\n",
       "  <th>x93</th>   <td>-3.294e+16</td> <td> 3.43e+16</td> <td>   -0.960</td> <td> 0.337</td> <td>   -1e+17</td> <td> 3.43e+16</td>\n",
       "</tr>\n",
       "<tr>\n",
       "  <th>x94</th>   <td> 3.694e+15</td> <td> 1.55e+16</td> <td>    0.238</td> <td> 0.812</td> <td>-2.67e+16</td> <td> 3.41e+16</td>\n",
       "</tr>\n",
       "<tr>\n",
       "  <th>x95</th>   <td>-1.901e+16</td> <td> 2.25e+16</td> <td>   -0.844</td> <td> 0.399</td> <td>-6.31e+16</td> <td> 2.51e+16</td>\n",
       "</tr>\n",
       "<tr>\n",
       "  <th>x96</th>   <td>-1.906e+16</td> <td> 1.51e+16</td> <td>   -1.266</td> <td> 0.206</td> <td>-4.86e+16</td> <td> 1.05e+16</td>\n",
       "</tr>\n",
       "<tr>\n",
       "  <th>x97</th>   <td>-1.908e+16</td> <td> 1.28e+16</td> <td>   -1.495</td> <td> 0.135</td> <td>-4.41e+16</td> <td> 5.94e+15</td>\n",
       "</tr>\n",
       "<tr>\n",
       "  <th>x98</th>   <td> -6.71e+15</td> <td> 1.37e+16</td> <td>   -0.488</td> <td> 0.625</td> <td>-3.36e+16</td> <td> 2.02e+16</td>\n",
       "</tr>\n",
       "<tr>\n",
       "  <th>x99</th>   <td> 5.007e+16</td> <td>  5.3e+16</td> <td>    0.945</td> <td> 0.345</td> <td>-5.38e+16</td> <td> 1.54e+17</td>\n",
       "</tr>\n",
       "<tr>\n",
       "  <th>x100</th>  <td>-1.883e+16</td> <td> 2.68e+16</td> <td>   -0.701</td> <td> 0.483</td> <td>-7.15e+16</td> <td> 3.38e+16</td>\n",
       "</tr>\n",
       "<tr>\n",
       "  <th>x101</th>  <td>-8.632e+16</td> <td> 7.31e+16</td> <td>   -1.180</td> <td> 0.238</td> <td> -2.3e+17</td> <td>  5.7e+16</td>\n",
       "</tr>\n",
       "<tr>\n",
       "  <th>x102</th>  <td> 9.373e+15</td> <td> 2.32e+16</td> <td>    0.403</td> <td> 0.687</td> <td>-3.62e+16</td> <td> 5.49e+16</td>\n",
       "</tr>\n",
       "<tr>\n",
       "  <th>x103</th>  <td> 2.098e+16</td> <td> 1.82e+16</td> <td>    1.156</td> <td> 0.248</td> <td>-1.46e+16</td> <td> 5.66e+16</td>\n",
       "</tr>\n",
       "<tr>\n",
       "  <th>x104</th>  <td>-1.201e+16</td> <td> 3.84e+16</td> <td>   -0.313</td> <td> 0.754</td> <td>-8.72e+16</td> <td> 6.32e+16</td>\n",
       "</tr>\n",
       "<tr>\n",
       "  <th>x105</th>  <td> 1.421e+16</td> <td> 1.67e+16</td> <td>    0.849</td> <td> 0.396</td> <td>-1.86e+16</td> <td>  4.7e+16</td>\n",
       "</tr>\n",
       "<tr>\n",
       "  <th>x106</th>  <td>-9.288e+15</td> <td> 1.86e+16</td> <td>   -0.499</td> <td> 0.618</td> <td>-4.58e+16</td> <td> 2.72e+16</td>\n",
       "</tr>\n",
       "<tr>\n",
       "  <th>x107</th>  <td> 3.467e+16</td> <td> 2.13e+16</td> <td>    1.630</td> <td> 0.103</td> <td>-7.02e+15</td> <td> 7.64e+16</td>\n",
       "</tr>\n",
       "<tr>\n",
       "  <th>x108</th>  <td>-1.479e+15</td> <td> 1.62e+16</td> <td>   -0.091</td> <td> 0.927</td> <td>-3.33e+16</td> <td> 3.04e+16</td>\n",
       "</tr>\n",
       "<tr>\n",
       "  <th>x109</th>  <td>-8.991e+15</td> <td>    2e+16</td> <td>   -0.450</td> <td> 0.653</td> <td>-4.81e+16</td> <td> 3.01e+16</td>\n",
       "</tr>\n",
       "<tr>\n",
       "  <th>x110</th>  <td>-3.638e+16</td> <td> 2.34e+16</td> <td>   -1.558</td> <td> 0.119</td> <td>-8.22e+16</td> <td>  9.4e+15</td>\n",
       "</tr>\n",
       "<tr>\n",
       "  <th>x111</th>  <td>-2.503e+16</td> <td> 3.63e+16</td> <td>   -0.689</td> <td> 0.491</td> <td>-9.62e+16</td> <td> 4.62e+16</td>\n",
       "</tr>\n",
       "<tr>\n",
       "  <th>x112</th>  <td>-1.512e+17</td> <td> 1.41e+17</td> <td>   -1.073</td> <td> 0.283</td> <td>-4.27e+17</td> <td> 1.25e+17</td>\n",
       "</tr>\n",
       "<tr>\n",
       "  <th>x113</th>  <td>-1.397e+15</td> <td> 1.76e+16</td> <td>   -0.079</td> <td> 0.937</td> <td>-3.59e+16</td> <td> 3.31e+16</td>\n",
       "</tr>\n",
       "<tr>\n",
       "  <th>x114</th>  <td>-3.332e+15</td> <td> 2.02e+16</td> <td>   -0.165</td> <td> 0.869</td> <td>-4.29e+16</td> <td> 3.62e+16</td>\n",
       "</tr>\n",
       "<tr>\n",
       "  <th>x115</th>  <td>-5.181e+16</td> <td> 4.54e+16</td> <td>   -1.140</td> <td> 0.254</td> <td>-1.41e+17</td> <td> 3.72e+16</td>\n",
       "</tr>\n",
       "<tr>\n",
       "  <th>x116</th>  <td>-1.079e+17</td> <td> 8.16e+16</td> <td>   -1.322</td> <td> 0.186</td> <td>-2.68e+17</td> <td> 5.21e+16</td>\n",
       "</tr>\n",
       "<tr>\n",
       "  <th>x117</th>  <td> 5.105e+14</td> <td> 4.58e+16</td> <td>    0.011</td> <td> 0.991</td> <td>-8.93e+16</td> <td> 9.03e+16</td>\n",
       "</tr>\n",
       "<tr>\n",
       "  <th>x118</th>  <td>-4.692e+16</td> <td> 3.76e+16</td> <td>   -1.247</td> <td> 0.212</td> <td>-1.21e+17</td> <td> 2.68e+16</td>\n",
       "</tr>\n",
       "<tr>\n",
       "  <th>x119</th>  <td>  7.91e+16</td> <td> 6.99e+16</td> <td>    1.131</td> <td> 0.258</td> <td> -5.8e+16</td> <td> 2.16e+17</td>\n",
       "</tr>\n",
       "<tr>\n",
       "  <th>x120</th>  <td>-8.825e+16</td> <td> 4.99e+16</td> <td>   -1.769</td> <td> 0.077</td> <td>-1.86e+17</td> <td> 9.55e+15</td>\n",
       "</tr>\n",
       "<tr>\n",
       "  <th>x121</th>  <td>-2.695e+16</td> <td> 1.18e+17</td> <td>   -0.228</td> <td> 0.820</td> <td>-2.59e+17</td> <td> 2.05e+17</td>\n",
       "</tr>\n",
       "<tr>\n",
       "  <th>x122</th>  <td> 5.842e+15</td> <td> 3.05e+16</td> <td>    0.191</td> <td> 0.848</td> <td> -5.4e+16</td> <td> 6.57e+16</td>\n",
       "</tr>\n",
       "<tr>\n",
       "  <th>x123</th>  <td>-3.002e+16</td> <td> 4.12e+16</td> <td>   -0.729</td> <td> 0.466</td> <td>-1.11e+17</td> <td> 5.08e+16</td>\n",
       "</tr>\n",
       "<tr>\n",
       "  <th>x124</th>  <td> 3.296e+16</td> <td> 4.69e+16</td> <td>    0.702</td> <td> 0.483</td> <td> -5.9e+16</td> <td> 1.25e+17</td>\n",
       "</tr>\n",
       "<tr>\n",
       "  <th>x125</th>  <td>-1.021e+17</td> <td> 1.29e+17</td> <td>   -0.789</td> <td> 0.430</td> <td>-3.56e+17</td> <td> 1.52e+17</td>\n",
       "</tr>\n",
       "<tr>\n",
       "  <th>x126</th>  <td>-6.603e+16</td> <td>  7.9e+16</td> <td>   -0.835</td> <td> 0.403</td> <td>-2.21e+17</td> <td> 8.89e+16</td>\n",
       "</tr>\n",
       "<tr>\n",
       "  <th>x127</th>  <td>-4.532e+16</td> <td> 4.64e+16</td> <td>   -0.977</td> <td> 0.329</td> <td>-1.36e+17</td> <td> 4.56e+16</td>\n",
       "</tr>\n",
       "<tr>\n",
       "  <th>x128</th>  <td>-1.286e+17</td> <td>  1.3e+17</td> <td>   -0.990</td> <td> 0.322</td> <td>-3.83e+17</td> <td> 1.26e+17</td>\n",
       "</tr>\n",
       "<tr>\n",
       "  <th>x129</th>  <td>  2.85e+15</td> <td> 3.45e+16</td> <td>    0.083</td> <td> 0.934</td> <td>-6.48e+16</td> <td> 7.05e+16</td>\n",
       "</tr>\n",
       "<tr>\n",
       "  <th>x130</th>  <td>-1.899e+16</td> <td> 7.11e+16</td> <td>   -0.267</td> <td> 0.789</td> <td>-1.58e+17</td> <td>  1.2e+17</td>\n",
       "</tr>\n",
       "<tr>\n",
       "  <th>x131</th>  <td>-6.456e+15</td> <td> 2.76e+16</td> <td>   -0.234</td> <td> 0.815</td> <td>-6.05e+16</td> <td> 4.76e+16</td>\n",
       "</tr>\n",
       "<tr>\n",
       "  <th>x132</th>  <td> 2.586e+16</td> <td> 3.43e+16</td> <td>    0.754</td> <td> 0.451</td> <td>-4.14e+16</td> <td> 9.31e+16</td>\n",
       "</tr>\n",
       "<tr>\n",
       "  <th>x133</th>  <td>-3.316e+16</td> <td> 9.23e+16</td> <td>   -0.359</td> <td> 0.719</td> <td>-2.14e+17</td> <td> 1.48e+17</td>\n",
       "</tr>\n",
       "<tr>\n",
       "  <th>x134</th>  <td>-4.411e+15</td> <td> 9.68e+16</td> <td>   -0.046</td> <td> 0.964</td> <td>-1.94e+17</td> <td> 1.85e+17</td>\n",
       "</tr>\n",
       "<tr>\n",
       "  <th>x135</th>  <td>-2.039e+16</td> <td> 7.78e+16</td> <td>   -0.262</td> <td> 0.793</td> <td>-1.73e+17</td> <td> 1.32e+17</td>\n",
       "</tr>\n",
       "<tr>\n",
       "  <th>x136</th>  <td> 9.936e+16</td> <td> 7.78e+16</td> <td>    1.277</td> <td> 0.202</td> <td>-5.32e+16</td> <td> 2.52e+17</td>\n",
       "</tr>\n",
       "<tr>\n",
       "  <th>x137</th>  <td> -7.53e+16</td> <td> 6.39e+16</td> <td>   -1.177</td> <td> 0.239</td> <td>-2.01e+17</td> <td>    5e+16</td>\n",
       "</tr>\n",
       "<tr>\n",
       "  <th>x138</th>  <td>-1.071e+17</td> <td> 1.55e+17</td> <td>   -0.693</td> <td> 0.488</td> <td> -4.1e+17</td> <td> 1.96e+17</td>\n",
       "</tr>\n",
       "<tr>\n",
       "  <th>x139</th>  <td> 1.253e+17</td> <td> 1.72e+17</td> <td>    0.727</td> <td> 0.467</td> <td>-2.12e+17</td> <td> 4.63e+17</td>\n",
       "</tr>\n",
       "<tr>\n",
       "  <th>x140</th>  <td> 1.799e+15</td> <td> 8.29e+16</td> <td>    0.022</td> <td> 0.983</td> <td>-1.61e+17</td> <td> 1.64e+17</td>\n",
       "</tr>\n",
       "<tr>\n",
       "  <th>x141</th>  <td>-6.891e+16</td> <td> 9.25e+16</td> <td>   -0.745</td> <td> 0.456</td> <td> -2.5e+17</td> <td> 1.12e+17</td>\n",
       "</tr>\n",
       "<tr>\n",
       "  <th>x142</th>  <td> 1.537e+15</td> <td> 1.11e+17</td> <td>    0.014</td> <td> 0.989</td> <td>-2.17e+17</td> <td>  2.2e+17</td>\n",
       "</tr>\n",
       "<tr>\n",
       "  <th>x143</th>  <td> 7.199e+16</td> <td> 1.24e+17</td> <td>    0.582</td> <td> 0.560</td> <td> -1.7e+17</td> <td> 3.14e+17</td>\n",
       "</tr>\n",
       "<tr>\n",
       "  <th>x144</th>  <td>-2.364e+16</td> <td>  7.7e+16</td> <td>   -0.307</td> <td> 0.759</td> <td>-1.74e+17</td> <td> 1.27e+17</td>\n",
       "</tr>\n",
       "<tr>\n",
       "  <th>x145</th>  <td>-1.072e+17</td> <td> 1.03e+17</td> <td>   -1.038</td> <td> 0.299</td> <td> -3.1e+17</td> <td> 9.52e+16</td>\n",
       "</tr>\n",
       "<tr>\n",
       "  <th>x146</th>  <td>-1.078e+16</td> <td> 8.36e+16</td> <td>   -0.129</td> <td> 0.897</td> <td>-1.75e+17</td> <td> 1.53e+17</td>\n",
       "</tr>\n",
       "<tr>\n",
       "  <th>x147</th>  <td>-1.497e+17</td> <td> 1.12e+17</td> <td>   -1.334</td> <td> 0.182</td> <td> -3.7e+17</td> <td> 7.03e+16</td>\n",
       "</tr>\n",
       "<tr>\n",
       "  <th>x148</th>  <td> 4.463e+16</td> <td> 1.33e+17</td> <td>    0.335</td> <td> 0.738</td> <td>-2.17e+17</td> <td> 3.06e+17</td>\n",
       "</tr>\n",
       "<tr>\n",
       "  <th>x149</th>  <td> -2.11e+16</td> <td> 3.31e+16</td> <td>   -0.637</td> <td> 0.524</td> <td> -8.6e+16</td> <td> 4.38e+16</td>\n",
       "</tr>\n",
       "<tr>\n",
       "  <th>x150</th>  <td> 5.568e+16</td> <td> 4.23e+16</td> <td>    1.316</td> <td> 0.188</td> <td>-2.72e+16</td> <td> 1.39e+17</td>\n",
       "</tr>\n",
       "<tr>\n",
       "  <th>x151</th>  <td>-7.131e+16</td> <td> 3.95e+16</td> <td>   -1.804</td> <td> 0.071</td> <td>-1.49e+17</td> <td> 6.18e+15</td>\n",
       "</tr>\n",
       "<tr>\n",
       "  <th>x152</th>  <td> 1.428e+16</td> <td> 3.86e+16</td> <td>    0.370</td> <td> 0.712</td> <td>-6.15e+16</td> <td>    9e+16</td>\n",
       "</tr>\n",
       "<tr>\n",
       "  <th>x153</th>  <td>  1.77e+16</td> <td> 5.13e+16</td> <td>    0.345</td> <td> 0.730</td> <td>-8.29e+16</td> <td> 1.18e+17</td>\n",
       "</tr>\n",
       "<tr>\n",
       "  <th>x154</th>  <td>-8.561e+16</td> <td> 7.89e+16</td> <td>   -1.085</td> <td> 0.278</td> <td> -2.4e+17</td> <td> 6.91e+16</td>\n",
       "</tr>\n",
       "<tr>\n",
       "  <th>x155</th>  <td>-1.151e+16</td> <td> 5.06e+16</td> <td>   -0.227</td> <td> 0.820</td> <td>-1.11e+17</td> <td> 8.77e+16</td>\n",
       "</tr>\n",
       "<tr>\n",
       "  <th>x156</th>  <td> 4.543e+16</td> <td> 7.49e+16</td> <td>    0.606</td> <td> 0.544</td> <td>-1.01e+17</td> <td> 1.92e+17</td>\n",
       "</tr>\n",
       "<tr>\n",
       "  <th>x157</th>  <td>-3.525e+16</td> <td> 8.72e+16</td> <td>   -0.404</td> <td> 0.686</td> <td>-2.06e+17</td> <td> 1.36e+17</td>\n",
       "</tr>\n",
       "<tr>\n",
       "  <th>x158</th>  <td> 2.103e+16</td> <td> 1.11e+17</td> <td>    0.189</td> <td> 0.850</td> <td>-1.97e+17</td> <td> 2.39e+17</td>\n",
       "</tr>\n",
       "<tr>\n",
       "  <th>x159</th>  <td> 1.528e+17</td> <td> 1.36e+17</td> <td>    1.124</td> <td> 0.261</td> <td>-1.14e+17</td> <td> 4.19e+17</td>\n",
       "</tr>\n",
       "<tr>\n",
       "  <th>x160</th>  <td> 2.885e+16</td> <td> 5.12e+16</td> <td>    0.564</td> <td> 0.573</td> <td>-7.14e+16</td> <td> 1.29e+17</td>\n",
       "</tr>\n",
       "<tr>\n",
       "  <th>x161</th>  <td> 1.193e+17</td> <td> 1.98e+17</td> <td>    0.604</td> <td> 0.546</td> <td>-2.68e+17</td> <td> 5.07e+17</td>\n",
       "</tr>\n",
       "<tr>\n",
       "  <th>x162</th>  <td>-2.875e+16</td> <td> 4.07e+16</td> <td>   -0.706</td> <td> 0.480</td> <td>-1.09e+17</td> <td> 5.11e+16</td>\n",
       "</tr>\n",
       "<tr>\n",
       "  <th>x163</th>  <td>-2.633e+16</td> <td> 1.57e+17</td> <td>   -0.168</td> <td> 0.867</td> <td>-3.34e+17</td> <td> 2.81e+17</td>\n",
       "</tr>\n",
       "<tr>\n",
       "  <th>x164</th>  <td>  8.21e+16</td> <td> 8.43e+16</td> <td>    0.974</td> <td> 0.330</td> <td>-8.31e+16</td> <td> 2.47e+17</td>\n",
       "</tr>\n",
       "<tr>\n",
       "  <th>x165</th>  <td> 3.805e+16</td> <td>  6.7e+16</td> <td>    0.568</td> <td> 0.570</td> <td>-9.32e+16</td> <td> 1.69e+17</td>\n",
       "</tr>\n",
       "<tr>\n",
       "  <th>x166</th>  <td> 1.107e+17</td> <td> 1.58e+17</td> <td>    0.702</td> <td> 0.483</td> <td>-1.98e+17</td> <td>  4.2e+17</td>\n",
       "</tr>\n",
       "<tr>\n",
       "  <th>x167</th>  <td> -2.32e+17</td> <td> 1.74e+17</td> <td>   -1.330</td> <td> 0.184</td> <td>-5.74e+17</td> <td>  1.1e+17</td>\n",
       "</tr>\n",
       "<tr>\n",
       "  <th>x168</th>  <td> -1.43e+17</td> <td> 1.32e+17</td> <td>   -1.082</td> <td> 0.279</td> <td>-4.02e+17</td> <td> 1.16e+17</td>\n",
       "</tr>\n",
       "</table>\n",
       "<table class=\"simpletable\">\n",
       "<tr>\n",
       "  <th>Omnibus:</th>       <td>1535.967</td> <th>  Durbin-Watson:     </th> <td>   2.013</td>\n",
       "</tr>\n",
       "<tr>\n",
       "  <th>Prob(Omnibus):</th>  <td> 0.000</td>  <th>  Jarque-Bera (JB):  </th> <td>4936.695</td>\n",
       "</tr>\n",
       "<tr>\n",
       "  <th>Skew:</th>           <td> 0.554</td>  <th>  Prob(JB):          </th> <td>    0.00</td>\n",
       "</tr>\n",
       "<tr>\n",
       "  <th>Kurtosis:</th>       <td> 5.661</td>  <th>  Cond. No.          </th> <td>1.81e+16</td>\n",
       "</tr>\n",
       "</table><br/><br/>Notes:<br/>[1] Standard Errors assume that the covariance matrix of the errors is correctly specified.<br/>[2] The smallest eigenvalue is 1.84e-28. This might indicate that there are<br/>strong multicollinearity problems or that the design matrix is singular."
      ],
      "text/plain": [
       "<class 'statsmodels.iolib.summary.Summary'>\n",
       "\"\"\"\n",
       "                            OLS Regression Results                            \n",
       "==============================================================================\n",
       "Dep. Variable:                  price   R-squared:                       0.801\n",
       "Model:                            OLS   Adj. R-squared:                  0.800\n",
       "Method:                 Least Squares   F-statistic:                     672.2\n",
       "Date:                Wed, 30 Mar 2022   Prob (F-statistic):               0.00\n",
       "Time:                        15:17:04   Log-Likelihood:            -1.8341e+05\n",
       "No. Observations:               14265   AIC:                         3.670e+05\n",
       "Df Residuals:                   14179   BIC:                         3.676e+05\n",
       "Df Model:                          85                                         \n",
       "Covariance Type:            nonrobust                                         \n",
       "==============================================================================\n",
       "                 coef    std err          t      P>|t|      [0.025      0.975]\n",
       "------------------------------------------------------------------------------\n",
       "const       4.764e+05    791.974    601.563      0.000    4.75e+05    4.78e+05\n",
       "x1         -8.278e+14    1.2e+16     -0.069      0.945   -2.44e+16    2.27e+16\n",
       "x2          1.724e+16   1.46e+16      1.179      0.238   -1.14e+16    4.59e+16\n",
       "x3         -2.965e+16   1.67e+16     -1.773      0.076   -6.24e+16    3.14e+15\n",
       "x4          7.996e+15      1e+16      0.797      0.425   -1.17e+16    2.77e+16\n",
       "x5          8.798e+15   3.58e+16      0.246      0.806   -6.13e+16    7.89e+16\n",
       "x6         -2.605e+16   1.57e+16     -1.661      0.097   -5.68e+16    4.69e+15\n",
       "x7          1.333e+16   1.64e+16      0.814      0.416   -1.88e+16    4.54e+16\n",
       "x8          3.294e+16   3.43e+16      0.960      0.337   -3.43e+16       1e+17\n",
       "x9         -3.694e+15   1.55e+16     -0.238      0.812   -3.41e+16    2.67e+16\n",
       "x10         1.901e+16   2.25e+16      0.844      0.399   -2.51e+16    6.31e+16\n",
       "x11         1.906e+16   1.51e+16      1.266      0.206   -1.05e+16    4.86e+16\n",
       "x12         1.908e+16   1.28e+16      1.495      0.135   -5.94e+15    4.41e+16\n",
       "x13          6.71e+15   1.37e+16      0.488      0.625   -2.02e+16    3.36e+16\n",
       "x14        -5.007e+16    5.3e+16     -0.945      0.345   -1.54e+17    5.38e+16\n",
       "x15         1.883e+16   2.68e+16      0.701      0.483   -3.38e+16    7.15e+16\n",
       "x16         8.632e+16   7.31e+16      1.180      0.238    -5.7e+16     2.3e+17\n",
       "x17        -9.373e+15   2.32e+16     -0.403      0.687   -5.49e+16    3.62e+16\n",
       "x18        -2.098e+16   1.82e+16     -1.156      0.248   -5.66e+16    1.46e+16\n",
       "x19         1.201e+16   3.84e+16      0.313      0.754   -6.32e+16    8.72e+16\n",
       "x20        -1.421e+16   1.67e+16     -0.849      0.396    -4.7e+16    1.86e+16\n",
       "x21         9.288e+15   1.86e+16      0.499      0.618   -2.72e+16    4.58e+16\n",
       "x22        -3.467e+16   2.13e+16     -1.630      0.103   -7.64e+16    7.02e+15\n",
       "x23         1.479e+15   1.62e+16      0.091      0.927   -3.04e+16    3.33e+16\n",
       "x24         8.991e+15      2e+16      0.450      0.653   -3.01e+16    4.81e+16\n",
       "x25         3.638e+16   2.34e+16      1.558      0.119    -9.4e+15    8.22e+16\n",
       "x26         2.503e+16   3.63e+16      0.689      0.491   -4.62e+16    9.62e+16\n",
       "x27         1.512e+17   1.41e+17      1.073      0.283   -1.25e+17    4.27e+17\n",
       "x28         1.397e+15   1.76e+16      0.079      0.937   -3.31e+16    3.59e+16\n",
       "x29         3.332e+15   2.02e+16      0.165      0.869   -3.62e+16    4.29e+16\n",
       "x30         5.181e+16   4.54e+16      1.140      0.254   -3.72e+16    1.41e+17\n",
       "x31         1.079e+17   8.16e+16      1.322      0.186   -5.21e+16    2.68e+17\n",
       "x32        -5.105e+14   4.58e+16     -0.011      0.991   -9.03e+16    8.93e+16\n",
       "x33         4.692e+16   3.76e+16      1.247      0.212   -2.68e+16    1.21e+17\n",
       "x34         -7.91e+16   6.99e+16     -1.131      0.258   -2.16e+17     5.8e+16\n",
       "x35         8.825e+16   4.99e+16      1.769      0.077   -9.55e+15    1.86e+17\n",
       "x36         2.695e+16   1.18e+17      0.228      0.820   -2.05e+17    2.59e+17\n",
       "x37        -5.842e+15   3.05e+16     -0.191      0.848   -6.57e+16     5.4e+16\n",
       "x38         3.002e+16   4.12e+16      0.729      0.466   -5.08e+16    1.11e+17\n",
       "x39        -3.296e+16   4.69e+16     -0.702      0.483   -1.25e+17     5.9e+16\n",
       "x40         1.021e+17   1.29e+17      0.789      0.430   -1.52e+17    3.56e+17\n",
       "x41         6.603e+16    7.9e+16      0.835      0.403   -8.89e+16    2.21e+17\n",
       "x42         4.532e+16   4.64e+16      0.977      0.329   -4.56e+16    1.36e+17\n",
       "x43         1.286e+17    1.3e+17      0.990      0.322   -1.26e+17    3.83e+17\n",
       "x44         -2.85e+15   3.45e+16     -0.083      0.934   -7.05e+16    6.48e+16\n",
       "x45         1.899e+16   7.11e+16      0.267      0.789    -1.2e+17    1.58e+17\n",
       "x46         6.456e+15   2.76e+16      0.234      0.815   -4.76e+16    6.05e+16\n",
       "x47        -2.586e+16   3.43e+16     -0.754      0.451   -9.31e+16    4.14e+16\n",
       "x48         3.316e+16   9.23e+16      0.359      0.719   -1.48e+17    2.14e+17\n",
       "x49         4.411e+15   9.68e+16      0.046      0.964   -1.85e+17    1.94e+17\n",
       "x50         2.039e+16   7.78e+16      0.262      0.793   -1.32e+17    1.73e+17\n",
       "x51        -9.936e+16   7.78e+16     -1.277      0.202   -2.52e+17    5.32e+16\n",
       "x52          7.53e+16   6.39e+16      1.177      0.239      -5e+16    2.01e+17\n",
       "x53         1.071e+17   1.55e+17      0.693      0.488   -1.96e+17     4.1e+17\n",
       "x54        -1.253e+17   1.72e+17     -0.727      0.467   -4.63e+17    2.12e+17\n",
       "x55        -1.799e+15   8.29e+16     -0.022      0.983   -1.64e+17    1.61e+17\n",
       "x56         6.891e+16   9.25e+16      0.745      0.456   -1.12e+17     2.5e+17\n",
       "x57        -1.537e+15   1.11e+17     -0.014      0.989    -2.2e+17    2.17e+17\n",
       "x58        -7.199e+16   1.24e+17     -0.582      0.560   -3.14e+17     1.7e+17\n",
       "x59         2.364e+16    7.7e+16      0.307      0.759   -1.27e+17    1.74e+17\n",
       "x60         1.072e+17   1.03e+17      1.038      0.299   -9.52e+16     3.1e+17\n",
       "x61         1.078e+16   8.36e+16      0.129      0.897   -1.53e+17    1.75e+17\n",
       "x62         1.497e+17   1.12e+17      1.334      0.182   -7.03e+16     3.7e+17\n",
       "x63        -4.463e+16   1.33e+17     -0.335      0.738   -3.06e+17    2.17e+17\n",
       "x64          2.11e+16   3.31e+16      0.637      0.524   -4.38e+16     8.6e+16\n",
       "x65        -5.568e+16   4.23e+16     -1.316      0.188   -1.39e+17    2.72e+16\n",
       "x66         7.131e+16   3.95e+16      1.804      0.071   -6.18e+15    1.49e+17\n",
       "x67        -1.428e+16   3.86e+16     -0.370      0.712      -9e+16    6.15e+16\n",
       "x68         -1.77e+16   5.13e+16     -0.345      0.730   -1.18e+17    8.29e+16\n",
       "x69         8.561e+16   7.89e+16      1.085      0.278   -6.91e+16     2.4e+17\n",
       "x70         1.151e+16   5.06e+16      0.227      0.820   -8.77e+16    1.11e+17\n",
       "x71        -4.543e+16   7.49e+16     -0.606      0.544   -1.92e+17    1.01e+17\n",
       "x72         3.525e+16   8.72e+16      0.404      0.686   -1.36e+17    2.06e+17\n",
       "x73        -2.103e+16   1.11e+17     -0.189      0.850   -2.39e+17    1.97e+17\n",
       "x74        -1.528e+17   1.36e+17     -1.124      0.261   -4.19e+17    1.14e+17\n",
       "x75        -2.885e+16   5.12e+16     -0.564      0.573   -1.29e+17    7.14e+16\n",
       "x76        -1.193e+17   1.98e+17     -0.604      0.546   -5.07e+17    2.68e+17\n",
       "x77         2.875e+16   4.07e+16      0.706      0.480   -5.11e+16    1.09e+17\n",
       "x78         2.633e+16   1.57e+17      0.168      0.867   -2.81e+17    3.34e+17\n",
       "x79         -8.21e+16   8.43e+16     -0.974      0.330   -2.47e+17    8.31e+16\n",
       "x80        -3.805e+16    6.7e+16     -0.568      0.570   -1.69e+17    9.32e+16\n",
       "x81        -1.107e+17   1.58e+17     -0.702      0.483    -4.2e+17    1.98e+17\n",
       "x82          2.32e+17   1.74e+17      1.330      0.184    -1.1e+17    5.74e+17\n",
       "x83          1.43e+17   1.32e+17      1.082      0.279   -1.16e+17    4.02e+17\n",
       "x84         1.014e+05   1369.166     74.089      0.000    9.88e+04    1.04e+05\n",
       "x85         3.527e+04   1319.525     26.726      0.000    3.27e+04    3.79e+04\n",
       "x86         8.278e+14    1.2e+16      0.069      0.945   -2.27e+16    2.44e+16\n",
       "x87        -1.724e+16   1.46e+16     -1.179      0.238   -4.59e+16    1.14e+16\n",
       "x88         2.965e+16   1.67e+16      1.773      0.076   -3.14e+15    6.24e+16\n",
       "x89        -7.996e+15      1e+16     -0.797      0.425   -2.77e+16    1.17e+16\n",
       "x90        -8.798e+15   3.58e+16     -0.246      0.806   -7.89e+16    6.13e+16\n",
       "x91         2.605e+16   1.57e+16      1.661      0.097   -4.69e+15    5.68e+16\n",
       "x92        -1.333e+16   1.64e+16     -0.814      0.416   -4.54e+16    1.88e+16\n",
       "x93        -3.294e+16   3.43e+16     -0.960      0.337      -1e+17    3.43e+16\n",
       "x94         3.694e+15   1.55e+16      0.238      0.812   -2.67e+16    3.41e+16\n",
       "x95        -1.901e+16   2.25e+16     -0.844      0.399   -6.31e+16    2.51e+16\n",
       "x96        -1.906e+16   1.51e+16     -1.266      0.206   -4.86e+16    1.05e+16\n",
       "x97        -1.908e+16   1.28e+16     -1.495      0.135   -4.41e+16    5.94e+15\n",
       "x98         -6.71e+15   1.37e+16     -0.488      0.625   -3.36e+16    2.02e+16\n",
       "x99         5.007e+16    5.3e+16      0.945      0.345   -5.38e+16    1.54e+17\n",
       "x100       -1.883e+16   2.68e+16     -0.701      0.483   -7.15e+16    3.38e+16\n",
       "x101       -8.632e+16   7.31e+16     -1.180      0.238    -2.3e+17     5.7e+16\n",
       "x102        9.373e+15   2.32e+16      0.403      0.687   -3.62e+16    5.49e+16\n",
       "x103        2.098e+16   1.82e+16      1.156      0.248   -1.46e+16    5.66e+16\n",
       "x104       -1.201e+16   3.84e+16     -0.313      0.754   -8.72e+16    6.32e+16\n",
       "x105        1.421e+16   1.67e+16      0.849      0.396   -1.86e+16     4.7e+16\n",
       "x106       -9.288e+15   1.86e+16     -0.499      0.618   -4.58e+16    2.72e+16\n",
       "x107        3.467e+16   2.13e+16      1.630      0.103   -7.02e+15    7.64e+16\n",
       "x108       -1.479e+15   1.62e+16     -0.091      0.927   -3.33e+16    3.04e+16\n",
       "x109       -8.991e+15      2e+16     -0.450      0.653   -4.81e+16    3.01e+16\n",
       "x110       -3.638e+16   2.34e+16     -1.558      0.119   -8.22e+16     9.4e+15\n",
       "x111       -2.503e+16   3.63e+16     -0.689      0.491   -9.62e+16    4.62e+16\n",
       "x112       -1.512e+17   1.41e+17     -1.073      0.283   -4.27e+17    1.25e+17\n",
       "x113       -1.397e+15   1.76e+16     -0.079      0.937   -3.59e+16    3.31e+16\n",
       "x114       -3.332e+15   2.02e+16     -0.165      0.869   -4.29e+16    3.62e+16\n",
       "x115       -5.181e+16   4.54e+16     -1.140      0.254   -1.41e+17    3.72e+16\n",
       "x116       -1.079e+17   8.16e+16     -1.322      0.186   -2.68e+17    5.21e+16\n",
       "x117        5.105e+14   4.58e+16      0.011      0.991   -8.93e+16    9.03e+16\n",
       "x118       -4.692e+16   3.76e+16     -1.247      0.212   -1.21e+17    2.68e+16\n",
       "x119         7.91e+16   6.99e+16      1.131      0.258    -5.8e+16    2.16e+17\n",
       "x120       -8.825e+16   4.99e+16     -1.769      0.077   -1.86e+17    9.55e+15\n",
       "x121       -2.695e+16   1.18e+17     -0.228      0.820   -2.59e+17    2.05e+17\n",
       "x122        5.842e+15   3.05e+16      0.191      0.848    -5.4e+16    6.57e+16\n",
       "x123       -3.002e+16   4.12e+16     -0.729      0.466   -1.11e+17    5.08e+16\n",
       "x124        3.296e+16   4.69e+16      0.702      0.483    -5.9e+16    1.25e+17\n",
       "x125       -1.021e+17   1.29e+17     -0.789      0.430   -3.56e+17    1.52e+17\n",
       "x126       -6.603e+16    7.9e+16     -0.835      0.403   -2.21e+17    8.89e+16\n",
       "x127       -4.532e+16   4.64e+16     -0.977      0.329   -1.36e+17    4.56e+16\n",
       "x128       -1.286e+17    1.3e+17     -0.990      0.322   -3.83e+17    1.26e+17\n",
       "x129         2.85e+15   3.45e+16      0.083      0.934   -6.48e+16    7.05e+16\n",
       "x130       -1.899e+16   7.11e+16     -0.267      0.789   -1.58e+17     1.2e+17\n",
       "x131       -6.456e+15   2.76e+16     -0.234      0.815   -6.05e+16    4.76e+16\n",
       "x132        2.586e+16   3.43e+16      0.754      0.451   -4.14e+16    9.31e+16\n",
       "x133       -3.316e+16   9.23e+16     -0.359      0.719   -2.14e+17    1.48e+17\n",
       "x134       -4.411e+15   9.68e+16     -0.046      0.964   -1.94e+17    1.85e+17\n",
       "x135       -2.039e+16   7.78e+16     -0.262      0.793   -1.73e+17    1.32e+17\n",
       "x136        9.936e+16   7.78e+16      1.277      0.202   -5.32e+16    2.52e+17\n",
       "x137        -7.53e+16   6.39e+16     -1.177      0.239   -2.01e+17       5e+16\n",
       "x138       -1.071e+17   1.55e+17     -0.693      0.488    -4.1e+17    1.96e+17\n",
       "x139        1.253e+17   1.72e+17      0.727      0.467   -2.12e+17    4.63e+17\n",
       "x140        1.799e+15   8.29e+16      0.022      0.983   -1.61e+17    1.64e+17\n",
       "x141       -6.891e+16   9.25e+16     -0.745      0.456    -2.5e+17    1.12e+17\n",
       "x142        1.537e+15   1.11e+17      0.014      0.989   -2.17e+17     2.2e+17\n",
       "x143        7.199e+16   1.24e+17      0.582      0.560    -1.7e+17    3.14e+17\n",
       "x144       -2.364e+16    7.7e+16     -0.307      0.759   -1.74e+17    1.27e+17\n",
       "x145       -1.072e+17   1.03e+17     -1.038      0.299    -3.1e+17    9.52e+16\n",
       "x146       -1.078e+16   8.36e+16     -0.129      0.897   -1.75e+17    1.53e+17\n",
       "x147       -1.497e+17   1.12e+17     -1.334      0.182    -3.7e+17    7.03e+16\n",
       "x148        4.463e+16   1.33e+17      0.335      0.738   -2.17e+17    3.06e+17\n",
       "x149        -2.11e+16   3.31e+16     -0.637      0.524    -8.6e+16    4.38e+16\n",
       "x150        5.568e+16   4.23e+16      1.316      0.188   -2.72e+16    1.39e+17\n",
       "x151       -7.131e+16   3.95e+16     -1.804      0.071   -1.49e+17    6.18e+15\n",
       "x152        1.428e+16   3.86e+16      0.370      0.712   -6.15e+16       9e+16\n",
       "x153         1.77e+16   5.13e+16      0.345      0.730   -8.29e+16    1.18e+17\n",
       "x154       -8.561e+16   7.89e+16     -1.085      0.278    -2.4e+17    6.91e+16\n",
       "x155       -1.151e+16   5.06e+16     -0.227      0.820   -1.11e+17    8.77e+16\n",
       "x156        4.543e+16   7.49e+16      0.606      0.544   -1.01e+17    1.92e+17\n",
       "x157       -3.525e+16   8.72e+16     -0.404      0.686   -2.06e+17    1.36e+17\n",
       "x158        2.103e+16   1.11e+17      0.189      0.850   -1.97e+17    2.39e+17\n",
       "x159        1.528e+17   1.36e+17      1.124      0.261   -1.14e+17    4.19e+17\n",
       "x160        2.885e+16   5.12e+16      0.564      0.573   -7.14e+16    1.29e+17\n",
       "x161        1.193e+17   1.98e+17      0.604      0.546   -2.68e+17    5.07e+17\n",
       "x162       -2.875e+16   4.07e+16     -0.706      0.480   -1.09e+17    5.11e+16\n",
       "x163       -2.633e+16   1.57e+17     -0.168      0.867   -3.34e+17    2.81e+17\n",
       "x164         8.21e+16   8.43e+16      0.974      0.330   -8.31e+16    2.47e+17\n",
       "x165        3.805e+16    6.7e+16      0.568      0.570   -9.32e+16    1.69e+17\n",
       "x166        1.107e+17   1.58e+17      0.702      0.483   -1.98e+17     4.2e+17\n",
       "x167        -2.32e+17   1.74e+17     -1.330      0.184   -5.74e+17     1.1e+17\n",
       "x168        -1.43e+17   1.32e+17     -1.082      0.279   -4.02e+17    1.16e+17\n",
       "==============================================================================\n",
       "Omnibus:                     1535.967   Durbin-Watson:                   2.013\n",
       "Prob(Omnibus):                  0.000   Jarque-Bera (JB):             4936.695\n",
       "Skew:                           0.554   Prob(JB):                         0.00\n",
       "Kurtosis:                       5.661   Cond. No.                     1.81e+16\n",
       "==============================================================================\n",
       "\n",
       "Notes:\n",
       "[1] Standard Errors assume that the covariance matrix of the errors is correctly specified.\n",
       "[2] The smallest eigenvalue is 1.84e-28. This might indicate that there are\n",
       "strong multicollinearity problems or that the design matrix is singular.\n",
       "\"\"\""
      ]
     },
     "execution_count": 80,
     "metadata": {},
     "output_type": "execute_result"
    }
   ],
   "source": [
    "#Just to get summary\n",
    "model = sm.OLS(endog=y_train, exog=sm.add_constant(X_train_scaled)).fit()\n",
    "model.summary()"
   ]
  },
  {
   "cell_type": "code",
   "execution_count": 72,
   "metadata": {
    "ExecuteTime": {
     "end_time": "2022-03-30T20:16:36.763672Z",
     "start_time": "2022-03-30T20:16:36.551624Z"
    },
    "scrolled": false
   },
   "outputs": [
    {
     "data": {
      "text/html": [
       "<table class=\"simpletable\">\n",
       "<caption>OLS Regression Results</caption>\n",
       "<tr>\n",
       "  <th>Dep. Variable:</th>          <td>price</td>      <th>  R-squared:         </th> <td>   0.804</td> \n",
       "</tr>\n",
       "<tr>\n",
       "  <th>Model:</th>                   <td>OLS</td>       <th>  Adj. R-squared:    </th> <td>   0.802</td> \n",
       "</tr>\n",
       "<tr>\n",
       "  <th>Method:</th>             <td>Least Squares</td>  <th>  F-statistic:       </th> <td>   291.8</td> \n",
       "</tr>\n",
       "<tr>\n",
       "  <th>Date:</th>             <td>Wed, 30 Mar 2022</td> <th>  Prob (F-statistic):</th>  <td>  0.00</td>  \n",
       "</tr>\n",
       "<tr>\n",
       "  <th>Time:</th>                 <td>15:16:36</td>     <th>  Log-Likelihood:    </th> <td> -78528.</td> \n",
       "</tr>\n",
       "<tr>\n",
       "  <th>No. Observations:</th>      <td>  6114</td>      <th>  AIC:               </th> <td>1.572e+05</td>\n",
       "</tr>\n",
       "<tr>\n",
       "  <th>Df Residuals:</th>          <td>  6028</td>      <th>  BIC:               </th> <td>1.578e+05</td>\n",
       "</tr>\n",
       "<tr>\n",
       "  <th>Df Model:</th>              <td>    85</td>      <th>                     </th>     <td> </td>    \n",
       "</tr>\n",
       "<tr>\n",
       "  <th>Covariance Type:</th>      <td>nonrobust</td>    <th>                     </th>     <td> </td>    \n",
       "</tr>\n",
       "</table>\n",
       "<table class=\"simpletable\">\n",
       "<tr>\n",
       "    <td></td>       <th>coef</th>     <th>std err</th>      <th>t</th>      <th>P>|t|</th>  <th>[0.025</th>    <th>0.975]</th>  \n",
       "</tr>\n",
       "<tr>\n",
       "  <th>const</th> <td> 4.763e+05</td> <td> 1319.104</td> <td>  361.097</td> <td> 0.000</td> <td> 4.74e+05</td> <td> 4.79e+05</td>\n",
       "</tr>\n",
       "<tr>\n",
       "  <th>x1</th>    <td> 1.216e+17</td> <td> 9.28e+16</td> <td>    1.310</td> <td> 0.190</td> <td>-6.04e+16</td> <td> 3.04e+17</td>\n",
       "</tr>\n",
       "<tr>\n",
       "  <th>x2</th>    <td>-6.469e+16</td> <td> 1.71e+17</td> <td>   -0.378</td> <td> 0.705</td> <td>   -4e+17</td> <td>  2.7e+17</td>\n",
       "</tr>\n",
       "<tr>\n",
       "  <th>x3</th>    <td> 8.898e+16</td> <td> 1.78e+17</td> <td>    0.499</td> <td> 0.618</td> <td>-2.61e+17</td> <td> 4.39e+17</td>\n",
       "</tr>\n",
       "<tr>\n",
       "  <th>x4</th>    <td> 3.796e+16</td> <td> 5.79e+16</td> <td>    0.656</td> <td> 0.512</td> <td>-7.55e+16</td> <td> 1.51e+17</td>\n",
       "</tr>\n",
       "<tr>\n",
       "  <th>x5</th>    <td>-4.931e+16</td> <td> 6.52e+16</td> <td>   -0.756</td> <td> 0.450</td> <td>-1.77e+17</td> <td> 7.86e+16</td>\n",
       "</tr>\n",
       "<tr>\n",
       "  <th>x6</th>    <td>-4.063e+16</td> <td> 7.27e+16</td> <td>   -0.559</td> <td> 0.576</td> <td>-1.83e+17</td> <td> 1.02e+17</td>\n",
       "</tr>\n",
       "<tr>\n",
       "  <th>x7</th>    <td> 4.629e+16</td> <td>  5.9e+16</td> <td>    0.785</td> <td> 0.433</td> <td>-6.93e+16</td> <td> 1.62e+17</td>\n",
       "</tr>\n",
       "<tr>\n",
       "  <th>x8</th>    <td>-3.884e+15</td> <td>  5.1e+16</td> <td>   -0.076</td> <td> 0.939</td> <td>-1.04e+17</td> <td> 9.61e+16</td>\n",
       "</tr>\n",
       "<tr>\n",
       "  <th>x9</th>    <td> -6.83e+16</td> <td> 5.54e+16</td> <td>   -1.233</td> <td> 0.218</td> <td>-1.77e+17</td> <td> 4.03e+16</td>\n",
       "</tr>\n",
       "<tr>\n",
       "  <th>x10</th>   <td>-1.178e+16</td> <td> 2.11e+17</td> <td>   -0.056</td> <td> 0.955</td> <td>-4.25e+17</td> <td> 4.02e+17</td>\n",
       "</tr>\n",
       "<tr>\n",
       "  <th>x11</th>   <td>-9.845e+16</td> <td> 1.77e+17</td> <td>   -0.555</td> <td> 0.579</td> <td>-4.46e+17</td> <td> 2.49e+17</td>\n",
       "</tr>\n",
       "<tr>\n",
       "  <th>x12</th>   <td> 1.706e+16</td> <td> 5.82e+16</td> <td>    0.293</td> <td> 0.769</td> <td> -9.7e+16</td> <td> 1.31e+17</td>\n",
       "</tr>\n",
       "<tr>\n",
       "  <th>x13</th>   <td> 4.908e+16</td> <td> 1.91e+17</td> <td>    0.257</td> <td> 0.797</td> <td>-3.25e+17</td> <td> 4.23e+17</td>\n",
       "</tr>\n",
       "<tr>\n",
       "  <th>x14</th>   <td> 1.468e+16</td> <td> 5.56e+16</td> <td>    0.264</td> <td> 0.792</td> <td>-9.43e+16</td> <td> 1.24e+17</td>\n",
       "</tr>\n",
       "<tr>\n",
       "  <th>x15</th>   <td> 1.337e+17</td> <td> 9.25e+16</td> <td>    1.444</td> <td> 0.149</td> <td>-4.78e+16</td> <td> 3.15e+17</td>\n",
       "</tr>\n",
       "<tr>\n",
       "  <th>x16</th>   <td>-1.951e+16</td> <td> 4.94e+16</td> <td>   -0.395</td> <td> 0.693</td> <td>-1.16e+17</td> <td> 7.74e+16</td>\n",
       "</tr>\n",
       "<tr>\n",
       "  <th>x17</th>   <td> 4.596e+16</td> <td> 9.93e+16</td> <td>    0.463</td> <td> 0.644</td> <td>-1.49e+17</td> <td> 2.41e+17</td>\n",
       "</tr>\n",
       "<tr>\n",
       "  <th>x18</th>   <td> 6.205e+16</td> <td> 8.01e+16</td> <td>    0.775</td> <td> 0.439</td> <td> -9.5e+16</td> <td> 2.19e+17</td>\n",
       "</tr>\n",
       "<tr>\n",
       "  <th>x19</th>   <td> 1.249e+17</td> <td> 1.43e+17</td> <td>    0.874</td> <td> 0.382</td> <td>-1.55e+17</td> <td> 4.05e+17</td>\n",
       "</tr>\n",
       "<tr>\n",
       "  <th>x20</th>   <td> 2.046e+17</td> <td> 1.95e+17</td> <td>    1.049</td> <td> 0.294</td> <td>-1.78e+17</td> <td> 5.87e+17</td>\n",
       "</tr>\n",
       "<tr>\n",
       "  <th>x21</th>   <td> 2.255e+17</td> <td> 1.51e+17</td> <td>    1.490</td> <td> 0.136</td> <td>-7.12e+16</td> <td> 5.22e+17</td>\n",
       "</tr>\n",
       "<tr>\n",
       "  <th>x22</th>   <td> 1.379e+17</td> <td> 1.98e+17</td> <td>    0.696</td> <td> 0.487</td> <td>-2.51e+17</td> <td> 5.27e+17</td>\n",
       "</tr>\n",
       "<tr>\n",
       "  <th>x23</th>   <td> 1.094e+17</td> <td> 1.45e+17</td> <td>    0.756</td> <td> 0.449</td> <td>-1.74e+17</td> <td> 3.93e+17</td>\n",
       "</tr>\n",
       "<tr>\n",
       "  <th>x24</th>   <td> 9.047e+15</td> <td> 2.23e+16</td> <td>    0.407</td> <td> 0.684</td> <td>-3.46e+16</td> <td> 5.27e+16</td>\n",
       "</tr>\n",
       "<tr>\n",
       "  <th>x25</th>   <td> 1.312e+17</td> <td> 1.66e+17</td> <td>    0.790</td> <td> 0.429</td> <td>-1.94e+17</td> <td> 4.57e+17</td>\n",
       "</tr>\n",
       "<tr>\n",
       "  <th>x26</th>   <td> 1.032e+17</td> <td> 1.43e+17</td> <td>    0.719</td> <td> 0.472</td> <td>-1.78e+17</td> <td> 3.84e+17</td>\n",
       "</tr>\n",
       "<tr>\n",
       "  <th>x27</th>   <td> 9.064e+16</td> <td>  1.1e+17</td> <td>    0.822</td> <td> 0.411</td> <td>-1.26e+17</td> <td> 3.07e+17</td>\n",
       "</tr>\n",
       "<tr>\n",
       "  <th>x28</th>   <td>-2.348e+16</td> <td> 8.53e+16</td> <td>   -0.275</td> <td> 0.783</td> <td>-1.91e+17</td> <td> 1.44e+17</td>\n",
       "</tr>\n",
       "<tr>\n",
       "  <th>x29</th>   <td>-6.429e+16</td> <td> 7.03e+16</td> <td>   -0.915</td> <td> 0.360</td> <td>-2.02e+17</td> <td> 7.35e+16</td>\n",
       "</tr>\n",
       "<tr>\n",
       "  <th>x30</th>   <td> 1.844e+17</td> <td> 2.57e+17</td> <td>    0.717</td> <td> 0.474</td> <td> -3.2e+17</td> <td> 6.89e+17</td>\n",
       "</tr>\n",
       "<tr>\n",
       "  <th>x31</th>   <td> 7.488e+16</td> <td> 1.76e+17</td> <td>    0.426</td> <td> 0.670</td> <td> -2.7e+17</td> <td> 4.19e+17</td>\n",
       "</tr>\n",
       "<tr>\n",
       "  <th>x32</th>   <td>-1.335e+17</td> <td> 1.53e+17</td> <td>   -0.872</td> <td> 0.383</td> <td>-4.34e+17</td> <td> 1.67e+17</td>\n",
       "</tr>\n",
       "<tr>\n",
       "  <th>x33</th>   <td> 1.257e+15</td> <td> 4.98e+16</td> <td>    0.025</td> <td> 0.980</td> <td>-9.64e+16</td> <td> 9.89e+16</td>\n",
       "</tr>\n",
       "<tr>\n",
       "  <th>x34</th>   <td> 2.936e+17</td> <td> 1.53e+17</td> <td>    1.914</td> <td> 0.056</td> <td>-7.05e+15</td> <td> 5.94e+17</td>\n",
       "</tr>\n",
       "<tr>\n",
       "  <th>x35</th>   <td>-5.584e+15</td> <td> 1.79e+17</td> <td>   -0.031</td> <td> 0.975</td> <td>-3.57e+17</td> <td> 3.46e+17</td>\n",
       "</tr>\n",
       "<tr>\n",
       "  <th>x36</th>   <td> 1.563e+17</td> <td> 2.08e+17</td> <td>    0.750</td> <td> 0.453</td> <td>-2.52e+17</td> <td> 5.65e+17</td>\n",
       "</tr>\n",
       "<tr>\n",
       "  <th>x37</th>   <td>-6.004e+16</td> <td> 8.38e+16</td> <td>   -0.716</td> <td> 0.474</td> <td>-2.24e+17</td> <td> 1.04e+17</td>\n",
       "</tr>\n",
       "<tr>\n",
       "  <th>x38</th>   <td>-1.951e+17</td> <td> 2.16e+17</td> <td>   -0.905</td> <td> 0.365</td> <td>-6.18e+17</td> <td> 2.27e+17</td>\n",
       "</tr>\n",
       "<tr>\n",
       "  <th>x39</th>   <td>-5.195e+16</td> <td> 1.48e+17</td> <td>   -0.352</td> <td> 0.725</td> <td>-3.42e+17</td> <td> 2.38e+17</td>\n",
       "</tr>\n",
       "<tr>\n",
       "  <th>x40</th>   <td>-1.165e+16</td> <td> 7.48e+16</td> <td>   -0.156</td> <td> 0.876</td> <td>-1.58e+17</td> <td> 1.35e+17</td>\n",
       "</tr>\n",
       "<tr>\n",
       "  <th>x41</th>   <td> 1.011e+17</td> <td> 6.24e+16</td> <td>    1.620</td> <td> 0.105</td> <td>-2.12e+16</td> <td> 2.23e+17</td>\n",
       "</tr>\n",
       "<tr>\n",
       "  <th>x42</th>   <td> 1.407e+17</td> <td> 1.62e+17</td> <td>    0.870</td> <td> 0.384</td> <td>-1.76e+17</td> <td> 4.58e+17</td>\n",
       "</tr>\n",
       "<tr>\n",
       "  <th>x43</th>   <td> 9.018e+16</td> <td>  6.6e+16</td> <td>    1.367</td> <td> 0.172</td> <td>-3.91e+16</td> <td> 2.19e+17</td>\n",
       "</tr>\n",
       "<tr>\n",
       "  <th>x44</th>   <td>-2.542e+17</td> <td>  9.5e+16</td> <td>   -2.677</td> <td> 0.007</td> <td> -4.4e+17</td> <td> -6.8e+16</td>\n",
       "</tr>\n",
       "<tr>\n",
       "  <th>x45</th>   <td>-1.655e+17</td> <td> 2.56e+17</td> <td>   -0.648</td> <td> 0.517</td> <td>-6.66e+17</td> <td> 3.35e+17</td>\n",
       "</tr>\n",
       "<tr>\n",
       "  <th>x46</th>   <td> 4.724e+16</td> <td> 2.17e+17</td> <td>    0.217</td> <td> 0.828</td> <td>-3.79e+17</td> <td> 4.73e+17</td>\n",
       "</tr>\n",
       "<tr>\n",
       "  <th>x47</th>   <td>-2.052e+17</td> <td> 1.52e+17</td> <td>   -1.350</td> <td> 0.177</td> <td>-5.03e+17</td> <td> 9.27e+16</td>\n",
       "</tr>\n",
       "<tr>\n",
       "  <th>x48</th>   <td> 2.338e+17</td> <td>  1.5e+17</td> <td>    1.562</td> <td> 0.118</td> <td>-5.96e+16</td> <td> 5.27e+17</td>\n",
       "</tr>\n",
       "<tr>\n",
       "  <th>x49</th>   <td>-6.453e+16</td> <td> 1.13e+17</td> <td>   -0.571</td> <td> 0.568</td> <td>-2.86e+17</td> <td> 1.57e+17</td>\n",
       "</tr>\n",
       "<tr>\n",
       "  <th>x50</th>   <td>-1.729e+17</td> <td> 2.76e+17</td> <td>   -0.627</td> <td> 0.531</td> <td>-7.13e+17</td> <td> 3.67e+17</td>\n",
       "</tr>\n",
       "<tr>\n",
       "  <th>x51</th>   <td>-2.175e+17</td> <td> 1.47e+17</td> <td>   -1.480</td> <td> 0.139</td> <td>-5.06e+17</td> <td> 7.06e+16</td>\n",
       "</tr>\n",
       "<tr>\n",
       "  <th>x52</th>   <td>   4.5e+16</td> <td> 8.89e+16</td> <td>    0.506</td> <td> 0.613</td> <td>-1.29e+17</td> <td> 2.19e+17</td>\n",
       "</tr>\n",
       "<tr>\n",
       "  <th>x53</th>   <td> 3.349e+17</td> <td> 2.92e+17</td> <td>    1.146</td> <td> 0.252</td> <td>-2.38e+17</td> <td> 9.07e+17</td>\n",
       "</tr>\n",
       "<tr>\n",
       "  <th>x54</th>   <td>-1.682e+17</td> <td> 1.97e+17</td> <td>   -0.854</td> <td> 0.393</td> <td>-5.54e+17</td> <td> 2.18e+17</td>\n",
       "</tr>\n",
       "<tr>\n",
       "  <th>x55</th>   <td>-1.401e+17</td> <td> 1.36e+17</td> <td>   -1.033</td> <td> 0.302</td> <td>-4.06e+17</td> <td> 1.26e+17</td>\n",
       "</tr>\n",
       "<tr>\n",
       "  <th>x56</th>   <td> 5.052e+16</td> <td> 1.24e+17</td> <td>    0.407</td> <td> 0.684</td> <td>-1.93e+17</td> <td> 2.94e+17</td>\n",
       "</tr>\n",
       "<tr>\n",
       "  <th>x57</th>   <td> 4.005e+16</td> <td> 1.81e+17</td> <td>    0.221</td> <td> 0.825</td> <td>-3.15e+17</td> <td> 3.95e+17</td>\n",
       "</tr>\n",
       "<tr>\n",
       "  <th>x58</th>   <td>  4.33e+16</td> <td> 2.13e+17</td> <td>    0.203</td> <td> 0.839</td> <td>-3.75e+17</td> <td> 4.61e+17</td>\n",
       "</tr>\n",
       "<tr>\n",
       "  <th>x59</th>   <td>-5.116e+15</td> <td> 1.43e+17</td> <td>   -0.036</td> <td> 0.971</td> <td>-2.85e+17</td> <td> 2.74e+17</td>\n",
       "</tr>\n",
       "<tr>\n",
       "  <th>x60</th>   <td>-7.943e+16</td> <td> 1.25e+17</td> <td>   -0.634</td> <td> 0.526</td> <td>-3.25e+17</td> <td> 1.66e+17</td>\n",
       "</tr>\n",
       "<tr>\n",
       "  <th>x61</th>   <td> 2.239e+16</td> <td> 2.03e+17</td> <td>    0.110</td> <td> 0.912</td> <td>-3.75e+17</td> <td>  4.2e+17</td>\n",
       "</tr>\n",
       "<tr>\n",
       "  <th>x62</th>   <td>-5.829e+16</td> <td> 1.44e+17</td> <td>   -0.406</td> <td> 0.685</td> <td> -3.4e+17</td> <td> 2.23e+17</td>\n",
       "</tr>\n",
       "<tr>\n",
       "  <th>x63</th>   <td> 7.975e+16</td> <td> 1.01e+17</td> <td>    0.787</td> <td> 0.431</td> <td>-1.19e+17</td> <td> 2.78e+17</td>\n",
       "</tr>\n",
       "<tr>\n",
       "  <th>x64</th>   <td> 6.108e+16</td> <td> 1.28e+17</td> <td>    0.477</td> <td> 0.634</td> <td> -1.9e+17</td> <td> 3.12e+17</td>\n",
       "</tr>\n",
       "<tr>\n",
       "  <th>x65</th>   <td>-5.318e+16</td> <td> 6.37e+16</td> <td>   -0.835</td> <td> 0.404</td> <td>-1.78e+17</td> <td> 7.17e+16</td>\n",
       "</tr>\n",
       "<tr>\n",
       "  <th>x66</th>   <td>-2.761e+16</td> <td> 5.58e+16</td> <td>   -0.495</td> <td> 0.621</td> <td>-1.37e+17</td> <td> 8.18e+16</td>\n",
       "</tr>\n",
       "<tr>\n",
       "  <th>x67</th>   <td>-2.846e+15</td> <td> 1.16e+17</td> <td>   -0.025</td> <td> 0.980</td> <td> -2.3e+17</td> <td> 2.24e+17</td>\n",
       "</tr>\n",
       "<tr>\n",
       "  <th>x68</th>   <td> 2.912e+17</td> <td> 3.28e+17</td> <td>    0.888</td> <td> 0.375</td> <td>-3.52e+17</td> <td> 9.34e+17</td>\n",
       "</tr>\n",
       "<tr>\n",
       "  <th>x69</th>   <td> 8.204e+15</td> <td>  2.3e+17</td> <td>    0.036</td> <td> 0.972</td> <td>-4.43e+17</td> <td>  4.6e+17</td>\n",
       "</tr>\n",
       "<tr>\n",
       "  <th>x70</th>   <td>-1.292e+17</td> <td> 1.12e+17</td> <td>   -1.158</td> <td> 0.247</td> <td>-3.48e+17</td> <td> 8.95e+16</td>\n",
       "</tr>\n",
       "<tr>\n",
       "  <th>x71</th>   <td> 2.733e+16</td> <td> 3.88e+16</td> <td>    0.704</td> <td> 0.481</td> <td>-4.88e+16</td> <td> 1.03e+17</td>\n",
       "</tr>\n",
       "<tr>\n",
       "  <th>x72</th>   <td> -6.67e+16</td> <td> 3.09e+17</td> <td>   -0.216</td> <td> 0.829</td> <td>-6.73e+17</td> <td>  5.4e+17</td>\n",
       "</tr>\n",
       "<tr>\n",
       "  <th>x73</th>   <td>-1.868e+17</td> <td> 2.24e+17</td> <td>   -0.835</td> <td> 0.404</td> <td>-6.25e+17</td> <td> 2.52e+17</td>\n",
       "</tr>\n",
       "<tr>\n",
       "  <th>x74</th>   <td> 1.019e+17</td> <td> 1.38e+17</td> <td>    0.738</td> <td> 0.461</td> <td>-1.69e+17</td> <td> 3.73e+17</td>\n",
       "</tr>\n",
       "<tr>\n",
       "  <th>x75</th>   <td>-6.289e+16</td> <td> 1.51e+17</td> <td>   -0.415</td> <td> 0.678</td> <td> -3.6e+17</td> <td> 2.34e+17</td>\n",
       "</tr>\n",
       "<tr>\n",
       "  <th>x76</th>   <td>-4.302e+16</td> <td> 1.56e+17</td> <td>   -0.275</td> <td> 0.783</td> <td> -3.5e+17</td> <td> 2.64e+17</td>\n",
       "</tr>\n",
       "<tr>\n",
       "  <th>x77</th>   <td> 3.995e+16</td> <td> 7.76e+16</td> <td>    0.515</td> <td> 0.607</td> <td>-1.12e+17</td> <td> 1.92e+17</td>\n",
       "</tr>\n",
       "<tr>\n",
       "  <th>x78</th>   <td>-1.665e+16</td> <td> 2.18e+16</td> <td>   -0.763</td> <td> 0.445</td> <td>-5.94e+16</td> <td> 2.61e+16</td>\n",
       "</tr>\n",
       "<tr>\n",
       "  <th>x79</th>   <td> 1.788e+17</td> <td> 3.18e+17</td> <td>    0.562</td> <td> 0.574</td> <td>-4.44e+17</td> <td> 8.02e+17</td>\n",
       "</tr>\n",
       "<tr>\n",
       "  <th>x80</th>   <td>-2.213e+16</td> <td> 2.37e+16</td> <td>   -0.932</td> <td> 0.351</td> <td>-6.87e+16</td> <td> 2.44e+16</td>\n",
       "</tr>\n",
       "<tr>\n",
       "  <th>x81</th>   <td>-1.347e+16</td> <td> 2.87e+16</td> <td>   -0.469</td> <td> 0.639</td> <td>-6.98e+16</td> <td> 4.29e+16</td>\n",
       "</tr>\n",
       "<tr>\n",
       "  <th>x82</th>   <td>-3.443e+16</td> <td> 4.18e+16</td> <td>   -0.823</td> <td> 0.410</td> <td>-1.16e+17</td> <td> 4.75e+16</td>\n",
       "</tr>\n",
       "<tr>\n",
       "  <th>x83</th>   <td> 4.239e+16</td> <td> 4.73e+16</td> <td>    0.895</td> <td> 0.371</td> <td>-5.04e+16</td> <td> 1.35e+17</td>\n",
       "</tr>\n",
       "<tr>\n",
       "  <th>x84</th>   <td> 1.013e+05</td> <td> 2132.108</td> <td>   47.520</td> <td> 0.000</td> <td> 9.71e+04</td> <td> 1.05e+05</td>\n",
       "</tr>\n",
       "<tr>\n",
       "  <th>x85</th>   <td> 3.873e+04</td> <td> 2049.729</td> <td>   18.896</td> <td> 0.000</td> <td> 3.47e+04</td> <td> 4.27e+04</td>\n",
       "</tr>\n",
       "<tr>\n",
       "  <th>x86</th>   <td>-1.216e+17</td> <td> 9.28e+16</td> <td>   -1.310</td> <td> 0.190</td> <td>-3.04e+17</td> <td> 6.04e+16</td>\n",
       "</tr>\n",
       "<tr>\n",
       "  <th>x87</th>   <td> 6.469e+16</td> <td> 1.71e+17</td> <td>    0.378</td> <td> 0.705</td> <td> -2.7e+17</td> <td>    4e+17</td>\n",
       "</tr>\n",
       "<tr>\n",
       "  <th>x88</th>   <td>-8.898e+16</td> <td> 1.78e+17</td> <td>   -0.499</td> <td> 0.618</td> <td>-4.39e+17</td> <td> 2.61e+17</td>\n",
       "</tr>\n",
       "<tr>\n",
       "  <th>x89</th>   <td>-3.796e+16</td> <td> 5.79e+16</td> <td>   -0.656</td> <td> 0.512</td> <td>-1.51e+17</td> <td> 7.55e+16</td>\n",
       "</tr>\n",
       "<tr>\n",
       "  <th>x90</th>   <td> 4.931e+16</td> <td> 6.52e+16</td> <td>    0.756</td> <td> 0.450</td> <td>-7.86e+16</td> <td> 1.77e+17</td>\n",
       "</tr>\n",
       "<tr>\n",
       "  <th>x91</th>   <td> 4.063e+16</td> <td> 7.27e+16</td> <td>    0.559</td> <td> 0.576</td> <td>-1.02e+17</td> <td> 1.83e+17</td>\n",
       "</tr>\n",
       "<tr>\n",
       "  <th>x92</th>   <td>-4.629e+16</td> <td>  5.9e+16</td> <td>   -0.785</td> <td> 0.433</td> <td>-1.62e+17</td> <td> 6.93e+16</td>\n",
       "</tr>\n",
       "<tr>\n",
       "  <th>x93</th>   <td> 3.884e+15</td> <td>  5.1e+16</td> <td>    0.076</td> <td> 0.939</td> <td>-9.61e+16</td> <td> 1.04e+17</td>\n",
       "</tr>\n",
       "<tr>\n",
       "  <th>x94</th>   <td>  6.83e+16</td> <td> 5.54e+16</td> <td>    1.233</td> <td> 0.218</td> <td>-4.03e+16</td> <td> 1.77e+17</td>\n",
       "</tr>\n",
       "<tr>\n",
       "  <th>x95</th>   <td> 1.178e+16</td> <td> 2.11e+17</td> <td>    0.056</td> <td> 0.955</td> <td>-4.02e+17</td> <td> 4.25e+17</td>\n",
       "</tr>\n",
       "<tr>\n",
       "  <th>x96</th>   <td> 9.845e+16</td> <td> 1.77e+17</td> <td>    0.555</td> <td> 0.579</td> <td>-2.49e+17</td> <td> 4.46e+17</td>\n",
       "</tr>\n",
       "<tr>\n",
       "  <th>x97</th>   <td>-1.706e+16</td> <td> 5.82e+16</td> <td>   -0.293</td> <td> 0.769</td> <td>-1.31e+17</td> <td>  9.7e+16</td>\n",
       "</tr>\n",
       "<tr>\n",
       "  <th>x98</th>   <td>-4.908e+16</td> <td> 1.91e+17</td> <td>   -0.257</td> <td> 0.797</td> <td>-4.23e+17</td> <td> 3.25e+17</td>\n",
       "</tr>\n",
       "<tr>\n",
       "  <th>x99</th>   <td>-1.468e+16</td> <td> 5.56e+16</td> <td>   -0.264</td> <td> 0.792</td> <td>-1.24e+17</td> <td> 9.43e+16</td>\n",
       "</tr>\n",
       "<tr>\n",
       "  <th>x100</th>  <td>-1.337e+17</td> <td> 9.25e+16</td> <td>   -1.444</td> <td> 0.149</td> <td>-3.15e+17</td> <td> 4.78e+16</td>\n",
       "</tr>\n",
       "<tr>\n",
       "  <th>x101</th>  <td> 1.951e+16</td> <td> 4.94e+16</td> <td>    0.395</td> <td> 0.693</td> <td>-7.74e+16</td> <td> 1.16e+17</td>\n",
       "</tr>\n",
       "<tr>\n",
       "  <th>x102</th>  <td>-4.596e+16</td> <td> 9.93e+16</td> <td>   -0.463</td> <td> 0.644</td> <td>-2.41e+17</td> <td> 1.49e+17</td>\n",
       "</tr>\n",
       "<tr>\n",
       "  <th>x103</th>  <td>-6.205e+16</td> <td> 8.01e+16</td> <td>   -0.775</td> <td> 0.439</td> <td>-2.19e+17</td> <td>  9.5e+16</td>\n",
       "</tr>\n",
       "<tr>\n",
       "  <th>x104</th>  <td>-1.249e+17</td> <td> 1.43e+17</td> <td>   -0.874</td> <td> 0.382</td> <td>-4.05e+17</td> <td> 1.55e+17</td>\n",
       "</tr>\n",
       "<tr>\n",
       "  <th>x105</th>  <td>-2.046e+17</td> <td> 1.95e+17</td> <td>   -1.049</td> <td> 0.294</td> <td>-5.87e+17</td> <td> 1.78e+17</td>\n",
       "</tr>\n",
       "<tr>\n",
       "  <th>x106</th>  <td>-2.255e+17</td> <td> 1.51e+17</td> <td>   -1.490</td> <td> 0.136</td> <td>-5.22e+17</td> <td> 7.12e+16</td>\n",
       "</tr>\n",
       "<tr>\n",
       "  <th>x107</th>  <td>-1.379e+17</td> <td> 1.98e+17</td> <td>   -0.696</td> <td> 0.487</td> <td>-5.27e+17</td> <td> 2.51e+17</td>\n",
       "</tr>\n",
       "<tr>\n",
       "  <th>x108</th>  <td>-1.094e+17</td> <td> 1.45e+17</td> <td>   -0.756</td> <td> 0.449</td> <td>-3.93e+17</td> <td> 1.74e+17</td>\n",
       "</tr>\n",
       "<tr>\n",
       "  <th>x109</th>  <td>-9.047e+15</td> <td> 2.23e+16</td> <td>   -0.407</td> <td> 0.684</td> <td>-5.27e+16</td> <td> 3.46e+16</td>\n",
       "</tr>\n",
       "<tr>\n",
       "  <th>x110</th>  <td>-1.312e+17</td> <td> 1.66e+17</td> <td>   -0.790</td> <td> 0.429</td> <td>-4.57e+17</td> <td> 1.94e+17</td>\n",
       "</tr>\n",
       "<tr>\n",
       "  <th>x111</th>  <td>-1.032e+17</td> <td> 1.43e+17</td> <td>   -0.719</td> <td> 0.472</td> <td>-3.84e+17</td> <td> 1.78e+17</td>\n",
       "</tr>\n",
       "<tr>\n",
       "  <th>x112</th>  <td>-9.064e+16</td> <td>  1.1e+17</td> <td>   -0.822</td> <td> 0.411</td> <td>-3.07e+17</td> <td> 1.26e+17</td>\n",
       "</tr>\n",
       "<tr>\n",
       "  <th>x113</th>  <td> 2.348e+16</td> <td> 8.53e+16</td> <td>    0.275</td> <td> 0.783</td> <td>-1.44e+17</td> <td> 1.91e+17</td>\n",
       "</tr>\n",
       "<tr>\n",
       "  <th>x114</th>  <td> 6.429e+16</td> <td> 7.03e+16</td> <td>    0.915</td> <td> 0.360</td> <td>-7.35e+16</td> <td> 2.02e+17</td>\n",
       "</tr>\n",
       "<tr>\n",
       "  <th>x115</th>  <td>-1.844e+17</td> <td> 2.57e+17</td> <td>   -0.717</td> <td> 0.474</td> <td>-6.89e+17</td> <td>  3.2e+17</td>\n",
       "</tr>\n",
       "<tr>\n",
       "  <th>x116</th>  <td>-7.488e+16</td> <td> 1.76e+17</td> <td>   -0.426</td> <td> 0.670</td> <td>-4.19e+17</td> <td>  2.7e+17</td>\n",
       "</tr>\n",
       "<tr>\n",
       "  <th>x117</th>  <td> 1.335e+17</td> <td> 1.53e+17</td> <td>    0.872</td> <td> 0.383</td> <td>-1.67e+17</td> <td> 4.34e+17</td>\n",
       "</tr>\n",
       "<tr>\n",
       "  <th>x118</th>  <td>-1.257e+15</td> <td> 4.98e+16</td> <td>   -0.025</td> <td> 0.980</td> <td>-9.89e+16</td> <td> 9.64e+16</td>\n",
       "</tr>\n",
       "<tr>\n",
       "  <th>x119</th>  <td>-2.936e+17</td> <td> 1.53e+17</td> <td>   -1.914</td> <td> 0.056</td> <td>-5.94e+17</td> <td> 7.05e+15</td>\n",
       "</tr>\n",
       "<tr>\n",
       "  <th>x120</th>  <td> 5.584e+15</td> <td> 1.79e+17</td> <td>    0.031</td> <td> 0.975</td> <td>-3.46e+17</td> <td> 3.57e+17</td>\n",
       "</tr>\n",
       "<tr>\n",
       "  <th>x121</th>  <td>-1.563e+17</td> <td> 2.08e+17</td> <td>   -0.750</td> <td> 0.453</td> <td>-5.65e+17</td> <td> 2.52e+17</td>\n",
       "</tr>\n",
       "<tr>\n",
       "  <th>x122</th>  <td> 6.004e+16</td> <td> 8.38e+16</td> <td>    0.716</td> <td> 0.474</td> <td>-1.04e+17</td> <td> 2.24e+17</td>\n",
       "</tr>\n",
       "<tr>\n",
       "  <th>x123</th>  <td> 1.951e+17</td> <td> 2.16e+17</td> <td>    0.905</td> <td> 0.365</td> <td>-2.27e+17</td> <td> 6.18e+17</td>\n",
       "</tr>\n",
       "<tr>\n",
       "  <th>x124</th>  <td> 5.195e+16</td> <td> 1.48e+17</td> <td>    0.352</td> <td> 0.725</td> <td>-2.38e+17</td> <td> 3.42e+17</td>\n",
       "</tr>\n",
       "<tr>\n",
       "  <th>x125</th>  <td> 1.165e+16</td> <td> 7.48e+16</td> <td>    0.156</td> <td> 0.876</td> <td>-1.35e+17</td> <td> 1.58e+17</td>\n",
       "</tr>\n",
       "<tr>\n",
       "  <th>x126</th>  <td>-1.011e+17</td> <td> 6.24e+16</td> <td>   -1.620</td> <td> 0.105</td> <td>-2.23e+17</td> <td> 2.12e+16</td>\n",
       "</tr>\n",
       "<tr>\n",
       "  <th>x127</th>  <td>-1.407e+17</td> <td> 1.62e+17</td> <td>   -0.870</td> <td> 0.384</td> <td>-4.58e+17</td> <td> 1.76e+17</td>\n",
       "</tr>\n",
       "<tr>\n",
       "  <th>x128</th>  <td>-9.018e+16</td> <td>  6.6e+16</td> <td>   -1.367</td> <td> 0.172</td> <td>-2.19e+17</td> <td> 3.91e+16</td>\n",
       "</tr>\n",
       "<tr>\n",
       "  <th>x129</th>  <td> 2.542e+17</td> <td>  9.5e+16</td> <td>    2.677</td> <td> 0.007</td> <td>  6.8e+16</td> <td>  4.4e+17</td>\n",
       "</tr>\n",
       "<tr>\n",
       "  <th>x130</th>  <td> 1.655e+17</td> <td> 2.56e+17</td> <td>    0.648</td> <td> 0.517</td> <td>-3.35e+17</td> <td> 6.66e+17</td>\n",
       "</tr>\n",
       "<tr>\n",
       "  <th>x131</th>  <td>-4.724e+16</td> <td> 2.17e+17</td> <td>   -0.217</td> <td> 0.828</td> <td>-4.73e+17</td> <td> 3.79e+17</td>\n",
       "</tr>\n",
       "<tr>\n",
       "  <th>x132</th>  <td> 2.052e+17</td> <td> 1.52e+17</td> <td>    1.350</td> <td> 0.177</td> <td>-9.27e+16</td> <td> 5.03e+17</td>\n",
       "</tr>\n",
       "<tr>\n",
       "  <th>x133</th>  <td>-2.338e+17</td> <td>  1.5e+17</td> <td>   -1.562</td> <td> 0.118</td> <td>-5.27e+17</td> <td> 5.96e+16</td>\n",
       "</tr>\n",
       "<tr>\n",
       "  <th>x134</th>  <td> 6.453e+16</td> <td> 1.13e+17</td> <td>    0.571</td> <td> 0.568</td> <td>-1.57e+17</td> <td> 2.86e+17</td>\n",
       "</tr>\n",
       "<tr>\n",
       "  <th>x135</th>  <td> 1.729e+17</td> <td> 2.76e+17</td> <td>    0.627</td> <td> 0.531</td> <td>-3.67e+17</td> <td> 7.13e+17</td>\n",
       "</tr>\n",
       "<tr>\n",
       "  <th>x136</th>  <td> 2.175e+17</td> <td> 1.47e+17</td> <td>    1.480</td> <td> 0.139</td> <td>-7.06e+16</td> <td> 5.06e+17</td>\n",
       "</tr>\n",
       "<tr>\n",
       "  <th>x137</th>  <td>  -4.5e+16</td> <td> 8.89e+16</td> <td>   -0.506</td> <td> 0.613</td> <td>-2.19e+17</td> <td> 1.29e+17</td>\n",
       "</tr>\n",
       "<tr>\n",
       "  <th>x138</th>  <td>-3.349e+17</td> <td> 2.92e+17</td> <td>   -1.146</td> <td> 0.252</td> <td>-9.07e+17</td> <td> 2.38e+17</td>\n",
       "</tr>\n",
       "<tr>\n",
       "  <th>x139</th>  <td> 1.682e+17</td> <td> 1.97e+17</td> <td>    0.854</td> <td> 0.393</td> <td>-2.18e+17</td> <td> 5.54e+17</td>\n",
       "</tr>\n",
       "<tr>\n",
       "  <th>x140</th>  <td> 1.401e+17</td> <td> 1.36e+17</td> <td>    1.033</td> <td> 0.302</td> <td>-1.26e+17</td> <td> 4.06e+17</td>\n",
       "</tr>\n",
       "<tr>\n",
       "  <th>x141</th>  <td>-5.052e+16</td> <td> 1.24e+17</td> <td>   -0.407</td> <td> 0.684</td> <td>-2.94e+17</td> <td> 1.93e+17</td>\n",
       "</tr>\n",
       "<tr>\n",
       "  <th>x142</th>  <td>-4.005e+16</td> <td> 1.81e+17</td> <td>   -0.221</td> <td> 0.825</td> <td>-3.95e+17</td> <td> 3.15e+17</td>\n",
       "</tr>\n",
       "<tr>\n",
       "  <th>x143</th>  <td> -4.33e+16</td> <td> 2.13e+17</td> <td>   -0.203</td> <td> 0.839</td> <td>-4.61e+17</td> <td> 3.75e+17</td>\n",
       "</tr>\n",
       "<tr>\n",
       "  <th>x144</th>  <td> 5.116e+15</td> <td> 1.43e+17</td> <td>    0.036</td> <td> 0.971</td> <td>-2.74e+17</td> <td> 2.85e+17</td>\n",
       "</tr>\n",
       "<tr>\n",
       "  <th>x145</th>  <td> 7.943e+16</td> <td> 1.25e+17</td> <td>    0.634</td> <td> 0.526</td> <td>-1.66e+17</td> <td> 3.25e+17</td>\n",
       "</tr>\n",
       "<tr>\n",
       "  <th>x146</th>  <td>-2.239e+16</td> <td> 2.03e+17</td> <td>   -0.110</td> <td> 0.912</td> <td> -4.2e+17</td> <td> 3.75e+17</td>\n",
       "</tr>\n",
       "<tr>\n",
       "  <th>x147</th>  <td> 5.829e+16</td> <td> 1.44e+17</td> <td>    0.406</td> <td> 0.685</td> <td>-2.23e+17</td> <td>  3.4e+17</td>\n",
       "</tr>\n",
       "<tr>\n",
       "  <th>x148</th>  <td>-7.975e+16</td> <td> 1.01e+17</td> <td>   -0.787</td> <td> 0.431</td> <td>-2.78e+17</td> <td> 1.19e+17</td>\n",
       "</tr>\n",
       "<tr>\n",
       "  <th>x149</th>  <td>-6.108e+16</td> <td> 1.28e+17</td> <td>   -0.477</td> <td> 0.634</td> <td>-3.12e+17</td> <td>  1.9e+17</td>\n",
       "</tr>\n",
       "<tr>\n",
       "  <th>x150</th>  <td> 5.318e+16</td> <td> 6.37e+16</td> <td>    0.835</td> <td> 0.404</td> <td>-7.17e+16</td> <td> 1.78e+17</td>\n",
       "</tr>\n",
       "<tr>\n",
       "  <th>x151</th>  <td> 2.761e+16</td> <td> 5.58e+16</td> <td>    0.495</td> <td> 0.621</td> <td>-8.18e+16</td> <td> 1.37e+17</td>\n",
       "</tr>\n",
       "<tr>\n",
       "  <th>x152</th>  <td> 2.846e+15</td> <td> 1.16e+17</td> <td>    0.025</td> <td> 0.980</td> <td>-2.24e+17</td> <td>  2.3e+17</td>\n",
       "</tr>\n",
       "<tr>\n",
       "  <th>x153</th>  <td>-2.912e+17</td> <td> 3.28e+17</td> <td>   -0.888</td> <td> 0.375</td> <td>-9.34e+17</td> <td> 3.52e+17</td>\n",
       "</tr>\n",
       "<tr>\n",
       "  <th>x154</th>  <td>-8.204e+15</td> <td>  2.3e+17</td> <td>   -0.036</td> <td> 0.972</td> <td> -4.6e+17</td> <td> 4.43e+17</td>\n",
       "</tr>\n",
       "<tr>\n",
       "  <th>x155</th>  <td> 1.292e+17</td> <td> 1.12e+17</td> <td>    1.158</td> <td> 0.247</td> <td>-8.95e+16</td> <td> 3.48e+17</td>\n",
       "</tr>\n",
       "<tr>\n",
       "  <th>x156</th>  <td>-2.733e+16</td> <td> 3.88e+16</td> <td>   -0.704</td> <td> 0.481</td> <td>-1.03e+17</td> <td> 4.88e+16</td>\n",
       "</tr>\n",
       "<tr>\n",
       "  <th>x157</th>  <td>  6.67e+16</td> <td> 3.09e+17</td> <td>    0.216</td> <td> 0.829</td> <td> -5.4e+17</td> <td> 6.73e+17</td>\n",
       "</tr>\n",
       "<tr>\n",
       "  <th>x158</th>  <td> 1.868e+17</td> <td> 2.24e+17</td> <td>    0.835</td> <td> 0.404</td> <td>-2.52e+17</td> <td> 6.25e+17</td>\n",
       "</tr>\n",
       "<tr>\n",
       "  <th>x159</th>  <td>-1.019e+17</td> <td> 1.38e+17</td> <td>   -0.738</td> <td> 0.461</td> <td>-3.73e+17</td> <td> 1.69e+17</td>\n",
       "</tr>\n",
       "<tr>\n",
       "  <th>x160</th>  <td> 6.289e+16</td> <td> 1.51e+17</td> <td>    0.415</td> <td> 0.678</td> <td>-2.34e+17</td> <td>  3.6e+17</td>\n",
       "</tr>\n",
       "<tr>\n",
       "  <th>x161</th>  <td> 4.302e+16</td> <td> 1.56e+17</td> <td>    0.275</td> <td> 0.783</td> <td>-2.64e+17</td> <td>  3.5e+17</td>\n",
       "</tr>\n",
       "<tr>\n",
       "  <th>x162</th>  <td>-3.995e+16</td> <td> 7.76e+16</td> <td>   -0.515</td> <td> 0.607</td> <td>-1.92e+17</td> <td> 1.12e+17</td>\n",
       "</tr>\n",
       "<tr>\n",
       "  <th>x163</th>  <td> 1.665e+16</td> <td> 2.18e+16</td> <td>    0.763</td> <td> 0.445</td> <td>-2.61e+16</td> <td> 5.94e+16</td>\n",
       "</tr>\n",
       "<tr>\n",
       "  <th>x164</th>  <td>-1.788e+17</td> <td> 3.18e+17</td> <td>   -0.562</td> <td> 0.574</td> <td>-8.02e+17</td> <td> 4.44e+17</td>\n",
       "</tr>\n",
       "<tr>\n",
       "  <th>x165</th>  <td> 2.213e+16</td> <td> 2.37e+16</td> <td>    0.932</td> <td> 0.351</td> <td>-2.44e+16</td> <td> 6.87e+16</td>\n",
       "</tr>\n",
       "<tr>\n",
       "  <th>x166</th>  <td> 1.347e+16</td> <td> 2.87e+16</td> <td>    0.469</td> <td> 0.639</td> <td>-4.29e+16</td> <td> 6.98e+16</td>\n",
       "</tr>\n",
       "<tr>\n",
       "  <th>x167</th>  <td> 3.443e+16</td> <td> 4.18e+16</td> <td>    0.823</td> <td> 0.410</td> <td>-4.75e+16</td> <td> 1.16e+17</td>\n",
       "</tr>\n",
       "<tr>\n",
       "  <th>x168</th>  <td>-4.239e+16</td> <td> 4.73e+16</td> <td>   -0.895</td> <td> 0.371</td> <td>-1.35e+17</td> <td> 5.04e+16</td>\n",
       "</tr>\n",
       "</table>\n",
       "<table class=\"simpletable\">\n",
       "<tr>\n",
       "  <th>Omnibus:</th>       <td>544.554</td> <th>  Durbin-Watson:     </th> <td>   1.997</td>\n",
       "</tr>\n",
       "<tr>\n",
       "  <th>Prob(Omnibus):</th> <td> 0.000</td>  <th>  Jarque-Bera (JB):  </th> <td>1505.686</td>\n",
       "</tr>\n",
       "<tr>\n",
       "  <th>Skew:</th>          <td> 0.494</td>  <th>  Prob(JB):          </th> <td>    0.00</td>\n",
       "</tr>\n",
       "<tr>\n",
       "  <th>Kurtosis:</th>      <td> 5.221</td>  <th>  Cond. No.          </th> <td>2.34e+17</td>\n",
       "</tr>\n",
       "</table><br/><br/>Notes:<br/>[1] Standard Errors assume that the covariance matrix of the errors is correctly specified.<br/>[2] The smallest eigenvalue is 5.22e-31. This might indicate that there are<br/>strong multicollinearity problems or that the design matrix is singular."
      ],
      "text/plain": [
       "<class 'statsmodels.iolib.summary.Summary'>\n",
       "\"\"\"\n",
       "                            OLS Regression Results                            \n",
       "==============================================================================\n",
       "Dep. Variable:                  price   R-squared:                       0.804\n",
       "Model:                            OLS   Adj. R-squared:                  0.802\n",
       "Method:                 Least Squares   F-statistic:                     291.8\n",
       "Date:                Wed, 30 Mar 2022   Prob (F-statistic):               0.00\n",
       "Time:                        15:16:36   Log-Likelihood:                -78528.\n",
       "No. Observations:                6114   AIC:                         1.572e+05\n",
       "Df Residuals:                    6028   BIC:                         1.578e+05\n",
       "Df Model:                          85                                         \n",
       "Covariance Type:            nonrobust                                         \n",
       "==============================================================================\n",
       "                 coef    std err          t      P>|t|      [0.025      0.975]\n",
       "------------------------------------------------------------------------------\n",
       "const       4.763e+05   1319.104    361.097      0.000    4.74e+05    4.79e+05\n",
       "x1          1.216e+17   9.28e+16      1.310      0.190   -6.04e+16    3.04e+17\n",
       "x2         -6.469e+16   1.71e+17     -0.378      0.705      -4e+17     2.7e+17\n",
       "x3          8.898e+16   1.78e+17      0.499      0.618   -2.61e+17    4.39e+17\n",
       "x4          3.796e+16   5.79e+16      0.656      0.512   -7.55e+16    1.51e+17\n",
       "x5         -4.931e+16   6.52e+16     -0.756      0.450   -1.77e+17    7.86e+16\n",
       "x6         -4.063e+16   7.27e+16     -0.559      0.576   -1.83e+17    1.02e+17\n",
       "x7          4.629e+16    5.9e+16      0.785      0.433   -6.93e+16    1.62e+17\n",
       "x8         -3.884e+15    5.1e+16     -0.076      0.939   -1.04e+17    9.61e+16\n",
       "x9          -6.83e+16   5.54e+16     -1.233      0.218   -1.77e+17    4.03e+16\n",
       "x10        -1.178e+16   2.11e+17     -0.056      0.955   -4.25e+17    4.02e+17\n",
       "x11        -9.845e+16   1.77e+17     -0.555      0.579   -4.46e+17    2.49e+17\n",
       "x12         1.706e+16   5.82e+16      0.293      0.769    -9.7e+16    1.31e+17\n",
       "x13         4.908e+16   1.91e+17      0.257      0.797   -3.25e+17    4.23e+17\n",
       "x14         1.468e+16   5.56e+16      0.264      0.792   -9.43e+16    1.24e+17\n",
       "x15         1.337e+17   9.25e+16      1.444      0.149   -4.78e+16    3.15e+17\n",
       "x16        -1.951e+16   4.94e+16     -0.395      0.693   -1.16e+17    7.74e+16\n",
       "x17         4.596e+16   9.93e+16      0.463      0.644   -1.49e+17    2.41e+17\n",
       "x18         6.205e+16   8.01e+16      0.775      0.439    -9.5e+16    2.19e+17\n",
       "x19         1.249e+17   1.43e+17      0.874      0.382   -1.55e+17    4.05e+17\n",
       "x20         2.046e+17   1.95e+17      1.049      0.294   -1.78e+17    5.87e+17\n",
       "x21         2.255e+17   1.51e+17      1.490      0.136   -7.12e+16    5.22e+17\n",
       "x22         1.379e+17   1.98e+17      0.696      0.487   -2.51e+17    5.27e+17\n",
       "x23         1.094e+17   1.45e+17      0.756      0.449   -1.74e+17    3.93e+17\n",
       "x24         9.047e+15   2.23e+16      0.407      0.684   -3.46e+16    5.27e+16\n",
       "x25         1.312e+17   1.66e+17      0.790      0.429   -1.94e+17    4.57e+17\n",
       "x26         1.032e+17   1.43e+17      0.719      0.472   -1.78e+17    3.84e+17\n",
       "x27         9.064e+16    1.1e+17      0.822      0.411   -1.26e+17    3.07e+17\n",
       "x28        -2.348e+16   8.53e+16     -0.275      0.783   -1.91e+17    1.44e+17\n",
       "x29        -6.429e+16   7.03e+16     -0.915      0.360   -2.02e+17    7.35e+16\n",
       "x30         1.844e+17   2.57e+17      0.717      0.474    -3.2e+17    6.89e+17\n",
       "x31         7.488e+16   1.76e+17      0.426      0.670    -2.7e+17    4.19e+17\n",
       "x32        -1.335e+17   1.53e+17     -0.872      0.383   -4.34e+17    1.67e+17\n",
       "x33         1.257e+15   4.98e+16      0.025      0.980   -9.64e+16    9.89e+16\n",
       "x34         2.936e+17   1.53e+17      1.914      0.056   -7.05e+15    5.94e+17\n",
       "x35        -5.584e+15   1.79e+17     -0.031      0.975   -3.57e+17    3.46e+17\n",
       "x36         1.563e+17   2.08e+17      0.750      0.453   -2.52e+17    5.65e+17\n",
       "x37        -6.004e+16   8.38e+16     -0.716      0.474   -2.24e+17    1.04e+17\n",
       "x38        -1.951e+17   2.16e+17     -0.905      0.365   -6.18e+17    2.27e+17\n",
       "x39        -5.195e+16   1.48e+17     -0.352      0.725   -3.42e+17    2.38e+17\n",
       "x40        -1.165e+16   7.48e+16     -0.156      0.876   -1.58e+17    1.35e+17\n",
       "x41         1.011e+17   6.24e+16      1.620      0.105   -2.12e+16    2.23e+17\n",
       "x42         1.407e+17   1.62e+17      0.870      0.384   -1.76e+17    4.58e+17\n",
       "x43         9.018e+16    6.6e+16      1.367      0.172   -3.91e+16    2.19e+17\n",
       "x44        -2.542e+17    9.5e+16     -2.677      0.007    -4.4e+17    -6.8e+16\n",
       "x45        -1.655e+17   2.56e+17     -0.648      0.517   -6.66e+17    3.35e+17\n",
       "x46         4.724e+16   2.17e+17      0.217      0.828   -3.79e+17    4.73e+17\n",
       "x47        -2.052e+17   1.52e+17     -1.350      0.177   -5.03e+17    9.27e+16\n",
       "x48         2.338e+17    1.5e+17      1.562      0.118   -5.96e+16    5.27e+17\n",
       "x49        -6.453e+16   1.13e+17     -0.571      0.568   -2.86e+17    1.57e+17\n",
       "x50        -1.729e+17   2.76e+17     -0.627      0.531   -7.13e+17    3.67e+17\n",
       "x51        -2.175e+17   1.47e+17     -1.480      0.139   -5.06e+17    7.06e+16\n",
       "x52           4.5e+16   8.89e+16      0.506      0.613   -1.29e+17    2.19e+17\n",
       "x53         3.349e+17   2.92e+17      1.146      0.252   -2.38e+17    9.07e+17\n",
       "x54        -1.682e+17   1.97e+17     -0.854      0.393   -5.54e+17    2.18e+17\n",
       "x55        -1.401e+17   1.36e+17     -1.033      0.302   -4.06e+17    1.26e+17\n",
       "x56         5.052e+16   1.24e+17      0.407      0.684   -1.93e+17    2.94e+17\n",
       "x57         4.005e+16   1.81e+17      0.221      0.825   -3.15e+17    3.95e+17\n",
       "x58          4.33e+16   2.13e+17      0.203      0.839   -3.75e+17    4.61e+17\n",
       "x59        -5.116e+15   1.43e+17     -0.036      0.971   -2.85e+17    2.74e+17\n",
       "x60        -7.943e+16   1.25e+17     -0.634      0.526   -3.25e+17    1.66e+17\n",
       "x61         2.239e+16   2.03e+17      0.110      0.912   -3.75e+17     4.2e+17\n",
       "x62        -5.829e+16   1.44e+17     -0.406      0.685    -3.4e+17    2.23e+17\n",
       "x63         7.975e+16   1.01e+17      0.787      0.431   -1.19e+17    2.78e+17\n",
       "x64         6.108e+16   1.28e+17      0.477      0.634    -1.9e+17    3.12e+17\n",
       "x65        -5.318e+16   6.37e+16     -0.835      0.404   -1.78e+17    7.17e+16\n",
       "x66        -2.761e+16   5.58e+16     -0.495      0.621   -1.37e+17    8.18e+16\n",
       "x67        -2.846e+15   1.16e+17     -0.025      0.980    -2.3e+17    2.24e+17\n",
       "x68         2.912e+17   3.28e+17      0.888      0.375   -3.52e+17    9.34e+17\n",
       "x69         8.204e+15    2.3e+17      0.036      0.972   -4.43e+17     4.6e+17\n",
       "x70        -1.292e+17   1.12e+17     -1.158      0.247   -3.48e+17    8.95e+16\n",
       "x71         2.733e+16   3.88e+16      0.704      0.481   -4.88e+16    1.03e+17\n",
       "x72         -6.67e+16   3.09e+17     -0.216      0.829   -6.73e+17     5.4e+17\n",
       "x73        -1.868e+17   2.24e+17     -0.835      0.404   -6.25e+17    2.52e+17\n",
       "x74         1.019e+17   1.38e+17      0.738      0.461   -1.69e+17    3.73e+17\n",
       "x75        -6.289e+16   1.51e+17     -0.415      0.678    -3.6e+17    2.34e+17\n",
       "x76        -4.302e+16   1.56e+17     -0.275      0.783    -3.5e+17    2.64e+17\n",
       "x77         3.995e+16   7.76e+16      0.515      0.607   -1.12e+17    1.92e+17\n",
       "x78        -1.665e+16   2.18e+16     -0.763      0.445   -5.94e+16    2.61e+16\n",
       "x79         1.788e+17   3.18e+17      0.562      0.574   -4.44e+17    8.02e+17\n",
       "x80        -2.213e+16   2.37e+16     -0.932      0.351   -6.87e+16    2.44e+16\n",
       "x81        -1.347e+16   2.87e+16     -0.469      0.639   -6.98e+16    4.29e+16\n",
       "x82        -3.443e+16   4.18e+16     -0.823      0.410   -1.16e+17    4.75e+16\n",
       "x83         4.239e+16   4.73e+16      0.895      0.371   -5.04e+16    1.35e+17\n",
       "x84         1.013e+05   2132.108     47.520      0.000    9.71e+04    1.05e+05\n",
       "x85         3.873e+04   2049.729     18.896      0.000    3.47e+04    4.27e+04\n",
       "x86        -1.216e+17   9.28e+16     -1.310      0.190   -3.04e+17    6.04e+16\n",
       "x87         6.469e+16   1.71e+17      0.378      0.705    -2.7e+17       4e+17\n",
       "x88        -8.898e+16   1.78e+17     -0.499      0.618   -4.39e+17    2.61e+17\n",
       "x89        -3.796e+16   5.79e+16     -0.656      0.512   -1.51e+17    7.55e+16\n",
       "x90         4.931e+16   6.52e+16      0.756      0.450   -7.86e+16    1.77e+17\n",
       "x91         4.063e+16   7.27e+16      0.559      0.576   -1.02e+17    1.83e+17\n",
       "x92        -4.629e+16    5.9e+16     -0.785      0.433   -1.62e+17    6.93e+16\n",
       "x93         3.884e+15    5.1e+16      0.076      0.939   -9.61e+16    1.04e+17\n",
       "x94          6.83e+16   5.54e+16      1.233      0.218   -4.03e+16    1.77e+17\n",
       "x95         1.178e+16   2.11e+17      0.056      0.955   -4.02e+17    4.25e+17\n",
       "x96         9.845e+16   1.77e+17      0.555      0.579   -2.49e+17    4.46e+17\n",
       "x97        -1.706e+16   5.82e+16     -0.293      0.769   -1.31e+17     9.7e+16\n",
       "x98        -4.908e+16   1.91e+17     -0.257      0.797   -4.23e+17    3.25e+17\n",
       "x99        -1.468e+16   5.56e+16     -0.264      0.792   -1.24e+17    9.43e+16\n",
       "x100       -1.337e+17   9.25e+16     -1.444      0.149   -3.15e+17    4.78e+16\n",
       "x101        1.951e+16   4.94e+16      0.395      0.693   -7.74e+16    1.16e+17\n",
       "x102       -4.596e+16   9.93e+16     -0.463      0.644   -2.41e+17    1.49e+17\n",
       "x103       -6.205e+16   8.01e+16     -0.775      0.439   -2.19e+17     9.5e+16\n",
       "x104       -1.249e+17   1.43e+17     -0.874      0.382   -4.05e+17    1.55e+17\n",
       "x105       -2.046e+17   1.95e+17     -1.049      0.294   -5.87e+17    1.78e+17\n",
       "x106       -2.255e+17   1.51e+17     -1.490      0.136   -5.22e+17    7.12e+16\n",
       "x107       -1.379e+17   1.98e+17     -0.696      0.487   -5.27e+17    2.51e+17\n",
       "x108       -1.094e+17   1.45e+17     -0.756      0.449   -3.93e+17    1.74e+17\n",
       "x109       -9.047e+15   2.23e+16     -0.407      0.684   -5.27e+16    3.46e+16\n",
       "x110       -1.312e+17   1.66e+17     -0.790      0.429   -4.57e+17    1.94e+17\n",
       "x111       -1.032e+17   1.43e+17     -0.719      0.472   -3.84e+17    1.78e+17\n",
       "x112       -9.064e+16    1.1e+17     -0.822      0.411   -3.07e+17    1.26e+17\n",
       "x113        2.348e+16   8.53e+16      0.275      0.783   -1.44e+17    1.91e+17\n",
       "x114        6.429e+16   7.03e+16      0.915      0.360   -7.35e+16    2.02e+17\n",
       "x115       -1.844e+17   2.57e+17     -0.717      0.474   -6.89e+17     3.2e+17\n",
       "x116       -7.488e+16   1.76e+17     -0.426      0.670   -4.19e+17     2.7e+17\n",
       "x117        1.335e+17   1.53e+17      0.872      0.383   -1.67e+17    4.34e+17\n",
       "x118       -1.257e+15   4.98e+16     -0.025      0.980   -9.89e+16    9.64e+16\n",
       "x119       -2.936e+17   1.53e+17     -1.914      0.056   -5.94e+17    7.05e+15\n",
       "x120        5.584e+15   1.79e+17      0.031      0.975   -3.46e+17    3.57e+17\n",
       "x121       -1.563e+17   2.08e+17     -0.750      0.453   -5.65e+17    2.52e+17\n",
       "x122        6.004e+16   8.38e+16      0.716      0.474   -1.04e+17    2.24e+17\n",
       "x123        1.951e+17   2.16e+17      0.905      0.365   -2.27e+17    6.18e+17\n",
       "x124        5.195e+16   1.48e+17      0.352      0.725   -2.38e+17    3.42e+17\n",
       "x125        1.165e+16   7.48e+16      0.156      0.876   -1.35e+17    1.58e+17\n",
       "x126       -1.011e+17   6.24e+16     -1.620      0.105   -2.23e+17    2.12e+16\n",
       "x127       -1.407e+17   1.62e+17     -0.870      0.384   -4.58e+17    1.76e+17\n",
       "x128       -9.018e+16    6.6e+16     -1.367      0.172   -2.19e+17    3.91e+16\n",
       "x129        2.542e+17    9.5e+16      2.677      0.007     6.8e+16     4.4e+17\n",
       "x130        1.655e+17   2.56e+17      0.648      0.517   -3.35e+17    6.66e+17\n",
       "x131       -4.724e+16   2.17e+17     -0.217      0.828   -4.73e+17    3.79e+17\n",
       "x132        2.052e+17   1.52e+17      1.350      0.177   -9.27e+16    5.03e+17\n",
       "x133       -2.338e+17    1.5e+17     -1.562      0.118   -5.27e+17    5.96e+16\n",
       "x134        6.453e+16   1.13e+17      0.571      0.568   -1.57e+17    2.86e+17\n",
       "x135        1.729e+17   2.76e+17      0.627      0.531   -3.67e+17    7.13e+17\n",
       "x136        2.175e+17   1.47e+17      1.480      0.139   -7.06e+16    5.06e+17\n",
       "x137         -4.5e+16   8.89e+16     -0.506      0.613   -2.19e+17    1.29e+17\n",
       "x138       -3.349e+17   2.92e+17     -1.146      0.252   -9.07e+17    2.38e+17\n",
       "x139        1.682e+17   1.97e+17      0.854      0.393   -2.18e+17    5.54e+17\n",
       "x140        1.401e+17   1.36e+17      1.033      0.302   -1.26e+17    4.06e+17\n",
       "x141       -5.052e+16   1.24e+17     -0.407      0.684   -2.94e+17    1.93e+17\n",
       "x142       -4.005e+16   1.81e+17     -0.221      0.825   -3.95e+17    3.15e+17\n",
       "x143        -4.33e+16   2.13e+17     -0.203      0.839   -4.61e+17    3.75e+17\n",
       "x144        5.116e+15   1.43e+17      0.036      0.971   -2.74e+17    2.85e+17\n",
       "x145        7.943e+16   1.25e+17      0.634      0.526   -1.66e+17    3.25e+17\n",
       "x146       -2.239e+16   2.03e+17     -0.110      0.912    -4.2e+17    3.75e+17\n",
       "x147        5.829e+16   1.44e+17      0.406      0.685   -2.23e+17     3.4e+17\n",
       "x148       -7.975e+16   1.01e+17     -0.787      0.431   -2.78e+17    1.19e+17\n",
       "x149       -6.108e+16   1.28e+17     -0.477      0.634   -3.12e+17     1.9e+17\n",
       "x150        5.318e+16   6.37e+16      0.835      0.404   -7.17e+16    1.78e+17\n",
       "x151        2.761e+16   5.58e+16      0.495      0.621   -8.18e+16    1.37e+17\n",
       "x152        2.846e+15   1.16e+17      0.025      0.980   -2.24e+17     2.3e+17\n",
       "x153       -2.912e+17   3.28e+17     -0.888      0.375   -9.34e+17    3.52e+17\n",
       "x154       -8.204e+15    2.3e+17     -0.036      0.972    -4.6e+17    4.43e+17\n",
       "x155        1.292e+17   1.12e+17      1.158      0.247   -8.95e+16    3.48e+17\n",
       "x156       -2.733e+16   3.88e+16     -0.704      0.481   -1.03e+17    4.88e+16\n",
       "x157         6.67e+16   3.09e+17      0.216      0.829    -5.4e+17    6.73e+17\n",
       "x158        1.868e+17   2.24e+17      0.835      0.404   -2.52e+17    6.25e+17\n",
       "x159       -1.019e+17   1.38e+17     -0.738      0.461   -3.73e+17    1.69e+17\n",
       "x160        6.289e+16   1.51e+17      0.415      0.678   -2.34e+17     3.6e+17\n",
       "x161        4.302e+16   1.56e+17      0.275      0.783   -2.64e+17     3.5e+17\n",
       "x162       -3.995e+16   7.76e+16     -0.515      0.607   -1.92e+17    1.12e+17\n",
       "x163        1.665e+16   2.18e+16      0.763      0.445   -2.61e+16    5.94e+16\n",
       "x164       -1.788e+17   3.18e+17     -0.562      0.574   -8.02e+17    4.44e+17\n",
       "x165        2.213e+16   2.37e+16      0.932      0.351   -2.44e+16    6.87e+16\n",
       "x166        1.347e+16   2.87e+16      0.469      0.639   -4.29e+16    6.98e+16\n",
       "x167        3.443e+16   4.18e+16      0.823      0.410   -4.75e+16    1.16e+17\n",
       "x168       -4.239e+16   4.73e+16     -0.895      0.371   -1.35e+17    5.04e+16\n",
       "==============================================================================\n",
       "Omnibus:                      544.554   Durbin-Watson:                   1.997\n",
       "Prob(Omnibus):                  0.000   Jarque-Bera (JB):             1505.686\n",
       "Skew:                           0.494   Prob(JB):                         0.00\n",
       "Kurtosis:                       5.221   Cond. No.                     2.34e+17\n",
       "==============================================================================\n",
       "\n",
       "Notes:\n",
       "[1] Standard Errors assume that the covariance matrix of the errors is correctly specified.\n",
       "[2] The smallest eigenvalue is 5.22e-31. This might indicate that there are\n",
       "strong multicollinearity problems or that the design matrix is singular.\n",
       "\"\"\""
      ]
     },
     "execution_count": 72,
     "metadata": {},
     "output_type": "execute_result"
    }
   ],
   "source": [
    "#Just to get summary\n",
    "model = sm.OLS(endog=y_test, exog=sm.add_constant(X_test_scaled)).fit()\n",
    "model.summary()"
   ]
  },
  {
   "cell_type": "code",
   "execution_count": 73,
   "metadata": {
    "ExecuteTime": {
     "end_time": "2022-03-30T20:16:36.778675Z",
     "start_time": "2022-03-30T20:16:36.764673Z"
    },
    "scrolled": false
   },
   "outputs": [
    {
     "data": {
      "text/plain": [
       "const    4.763244e+05\n",
       "x1       1.216134e+17\n",
       "x2      -6.468925e+16\n",
       "x3       8.897531e+16\n",
       "x4       3.795569e+16\n",
       "             ...     \n",
       "x164    -1.787505e+17\n",
       "x165     2.213261e+16\n",
       "x166     1.347470e+16\n",
       "x167     3.443161e+16\n",
       "x168    -4.238528e+16\n",
       "Length: 169, dtype: float64"
      ]
     },
     "execution_count": 73,
     "metadata": {},
     "output_type": "execute_result"
    }
   ],
   "source": [
    "model.params"
   ]
  },
  {
   "cell_type": "code",
   "execution_count": 74,
   "metadata": {
    "ExecuteTime": {
     "end_time": "2022-03-30T20:16:37.702359Z",
     "start_time": "2022-03-30T20:16:36.779676Z"
    },
    "scrolled": false
   },
   "outputs": [
    {
     "data": {
      "image/png": "[encoded data removed]",
      "text/plain": [
       "<Figure size 576x396 with 2 Axes>"
      ]
     },
     "metadata": {},
     "output_type": "display_data"
    }
   ],
   "source": [
    "# visualizing our residuals \n",
    "# https://www.scikit-yb.org/en/latest/api/regressor/residuals.html\n",
    "from yellowbrick.regressor import ResidualsPlot\n",
    "\n",
    "visualizer = ResidualsPlot(lr)\n",
    "\n",
    "visualizer.fit(X_train_scaled, y_train)  # Fit the training data to the visualizer\n",
    "visualizer.score(X_test_scaled, y_test)  # Evaluate the model on the test data\n",
    "visualizer.show()  \n",
    "plt.show()"
   ]
  },
  {
   "cell_type": "code",
   "execution_count": 75,
   "metadata": {
    "ExecuteTime": {
     "end_time": "2022-03-30T20:16:37.858373Z",
     "start_time": "2022-03-30T20:16:37.706327Z"
    },
    "scrolled": false
   },
   "outputs": [
    {
     "data": {
      "image/png": "[encoded data removed]",
      "text/plain": [
       "<Figure size 576x396 with 1 Axes>"
      ]
     },
     "metadata": {},
     "output_type": "display_data"
    }
   ],
   "source": [
    "sm.qqplot(train_residuals, line = 'r');"
   ]
  },
  {
   "cell_type": "markdown",
   "metadata": {},
   "source": [
    "Makes intuitive sense. Intercept around 470k. Houses around King County are expensive: mean 540k, median: 450k\n",
    "\n",
    "Some zip codes have a much higher impact on prices. pricier neighborhoods"
   ]
  },
  {
   "cell_type": "code",
   "execution_count": 76,
   "metadata": {
    "ExecuteTime": {
     "end_time": "2022-03-30T20:16:37.873387Z",
     "start_time": "2022-03-30T20:16:37.863362Z"
    }
   },
   "outputs": [
    {
     "data": {
      "text/plain": [
       "4535     3380\n",
       "14745    1330\n",
       "19299    1120\n",
       "20872    1230\n",
       "9182     1110\n",
       "         ... \n",
       "11933    4690\n",
       "12650    1740\n",
       "5700     1880\n",
       "909      1420\n",
       "16714    1730\n",
       "Name: sqft_living, Length: 14265, dtype: int64"
      ]
     },
     "execution_count": 76,
     "metadata": {},
     "output_type": "execute_result"
    }
   ],
   "source": [
    "X_train_subset.sqft_living"
   ]
  },
  {
   "cell_type": "code",
   "execution_count": null,
   "metadata": {},
   "outputs": [],
   "source": []
  },
  {
   "cell_type": "code",
   "execution_count": null,
   "metadata": {},
   "outputs": [],
   "source": []
  },
  {
   "cell_type": "markdown",
   "metadata": {},
   "source": [
    "## LOG (Price)"
   ]
  },
  {
   "cell_type": "code",
   "execution_count": 77,
   "metadata": {
    "ExecuteTime": {
     "end_time": "2022-03-30T20:16:38.171432Z",
     "start_time": "2022-03-30T20:16:37.875365Z"
    },
    "scrolled": false
   },
   "outputs": [
    {
     "data": {
      "image/png": "[encoded data removed]",
      "text/plain": [
       "<Figure size 576x396 with 1 Axes>"
      ]
     },
     "metadata": {},
     "output_type": "display_data"
    }
   ],
   "source": [
    "plt.hist(y_train,bins = 50)\n",
    "plt.hist(y_test,bins = 50);"
   ]
  },
  {
   "cell_type": "code",
   "execution_count": 78,
   "metadata": {
    "ExecuteTime": {
     "end_time": "2022-03-30T20:16:38.587005Z",
     "start_time": "2022-03-30T20:16:38.173433Z"
    },
    "scrolled": true
   },
   "outputs": [
    {
     "data": {
      "image/png": "[encoded data removed]",
      "text/plain": [
       "<Figure size 576x396 with 1 Axes>"
      ]
     },
     "metadata": {},
     "output_type": "display_data"
    }
   ],
   "source": [
    "plt.hist(np.log(y_train),bins = 50)\n",
    "plt.hist(np.log(y_test),bins = 50);"
   ]
  },
  {
   "cell_type": "code",
   "execution_count": null,
   "metadata": {
    "ExecuteTime": {
     "end_time": "2022-03-30T20:16:16.658334Z",
     "start_time": "2022-03-30T20:16:12.153Z"
    },
    "scrolled": true
   },
   "outputs": [],
   "source": [
    "#USE encoded training and test  sets here!\n",
    "log_y_train = np.log(y_train)\n",
    "log_y_test = np.log(y_test)\n",
    "\n",
    "pipe_log = make_pipeline(RobustScaler(), LinearRegression())\n",
    "pipe_log.fit(X_train_enc, log_y_train) \n",
    "print(\"Training Score:\",pipe_log.score(X_train_enc, log_y_train))\n",
    "print(\"Test Score:\",pipe_log.score(X_test_enc, log_y_test))"
   ]
  },
  {
   "cell_type": "code",
   "execution_count": null,
   "metadata": {
    "ExecuteTime": {
     "end_time": "2022-03-30T20:16:16.658334Z",
     "start_time": "2022-03-30T20:16:12.159Z"
    }
   },
   "outputs": [],
   "source": [
    "train_preds = pipe_log.predict(X_train_enc)\n",
    "test_preds = pipe_log.predict(X_test_enc)\n",
    "\n",
    "train_residuals = log_y_train - train_preds\n",
    "test_residuals = log_y_test - test_preds"
   ]
  },
  {
   "cell_type": "code",
   "execution_count": null,
   "metadata": {
    "ExecuteTime": {
     "end_time": "2022-03-30T20:16:16.659335Z",
     "start_time": "2022-03-30T20:16:12.165Z"
    },
    "scrolled": true
   },
   "outputs": [],
   "source": [
    "get_train_test_metrics(log_y_train,train_preds,\n",
    "                      log_y_test,test_preds)"
   ]
  },
  {
   "cell_type": "code",
   "execution_count": null,
   "metadata": {
    "ExecuteTime": {
     "end_time": "2022-03-30T20:16:16.660335Z",
     "start_time": "2022-03-30T20:16:12.168Z"
    }
   },
   "outputs": [],
   "source": [
    "np.exp(0.191)"
   ]
  },
  {
   "cell_type": "code",
   "execution_count": null,
   "metadata": {
    "ExecuteTime": {
     "end_time": "2022-03-30T20:16:16.661335Z",
     "start_time": "2022-03-30T20:16:12.169Z"
    },
    "scrolled": true
   },
   "outputs": [],
   "source": [
    "get_train_test_metrics(np.exp(log_y_train),np.exp(train_preds),\n",
    "                      np.exp(log_y_test),np.exp(test_preds))"
   ]
  },
  {
   "cell_type": "code",
   "execution_count": null,
   "metadata": {
    "ExecuteTime": {
     "end_time": "2022-03-30T20:16:16.662336Z",
     "start_time": "2022-03-30T20:16:12.172Z"
    },
    "scrolled": true
   },
   "outputs": [],
   "source": [
    "#Just to get summary\n",
    "model = sm.OLS(endog=log_y_train, exog=sm.add_constant(X_train_scaled)).fit()\n",
    "model.summary()"
   ]
  },
  {
   "cell_type": "code",
   "execution_count": null,
   "metadata": {
    "ExecuteTime": {
     "end_time": "2022-03-30T20:16:16.662336Z",
     "start_time": "2022-03-30T20:16:12.177Z"
    },
    "scrolled": false
   },
   "outputs": [],
   "source": [
    "plt.hist(train_residuals,bins = 50);\n",
    "plt.hist(test_residuals,bins = 50);"
   ]
  },
  {
   "cell_type": "code",
   "execution_count": null,
   "metadata": {
    "ExecuteTime": {
     "end_time": "2022-03-30T20:16:16.663335Z",
     "start_time": "2022-03-30T20:16:12.184Z"
    },
    "scrolled": false
   },
   "outputs": [],
   "source": [
    "sm.qqplot(train_residuals, line = 'r');"
   ]
  },
  {
   "cell_type": "markdown",
   "metadata": {},
   "source": [
    "WORSE!"
   ]
  },
  {
   "cell_type": "code",
   "execution_count": null,
   "metadata": {},
   "outputs": [],
   "source": []
  },
  {
   "cell_type": "code",
   "execution_count": null,
   "metadata": {},
   "outputs": [],
   "source": []
  },
  {
   "cell_type": "code",
   "execution_count": null,
   "metadata": {},
   "outputs": [],
   "source": []
  },
  {
   "cell_type": "code",
   "execution_count": null,
   "metadata": {},
   "outputs": [],
   "source": []
  },
  {
   "cell_type": "code",
   "execution_count": null,
   "metadata": {},
   "outputs": [],
   "source": []
  },
  {
   "cell_type": "code",
   "execution_count": null,
   "metadata": {},
   "outputs": [],
   "source": []
  },
  {
   "cell_type": "code",
   "execution_count": null,
   "metadata": {},
   "outputs": [],
   "source": []
  },
  {
   "cell_type": "markdown",
   "metadata": {},
   "source": [
    "## Some weird plots"
   ]
  },
  {
   "cell_type": "code",
   "execution_count": null,
   "metadata": {
    "ExecuteTime": {
     "end_time": "2022-03-30T20:16:16.664336Z",
     "start_time": "2022-03-30T20:16:12.204Z"
    }
   },
   "outputs": [],
   "source": [
    "df_pairplotting1 = df.filter(['bedrooms','bathrooms','floors','view','condition','price'])\n",
    "df_pairplotting2 = df.filter(['bedrooms','sqft_living', 'sqft_lot','sqft_above','sqft_living15', 'sqft_lot15','price'])"
   ]
  },
  {
   "cell_type": "code",
   "execution_count": null,
   "metadata": {
    "ExecuteTime": {
     "end_time": "2022-03-30T20:16:16.664336Z",
     "start_time": "2022-03-30T20:16:12.207Z"
    },
    "scrolled": false
   },
   "outputs": [],
   "source": [
    "sns.pairplot(df_pairplotting1)"
   ]
  },
  {
   "cell_type": "code",
   "execution_count": null,
   "metadata": {
    "ExecuteTime": {
     "end_time": "2022-03-30T20:16:16.665335Z",
     "start_time": "2022-03-30T20:16:12.213Z"
    },
    "scrolled": false
   },
   "outputs": [],
   "source": [
    "sns.pairplot(df_pairplotting2)"
   ]
  },
  {
   "cell_type": "code",
   "execution_count": null,
   "metadata": {},
   "outputs": [],
   "source": []
  },
  {
   "cell_type": "code",
   "execution_count": null,
   "metadata": {},
   "outputs": [],
   "source": []
  },
  {
   "cell_type": "code",
   "execution_count": null,
   "metadata": {},
   "outputs": [],
   "source": []
  }
 ],
 "metadata": {
  "kernelspec": {
   "display_name": "Python (learn-env)",
   "language": "python",
   "name": "learn-env"
  },
  "language_info": {
   "codemirror_mode": {
    "name": "ipython",
    "version": 3
   },
   "file_extension": ".py",
   "mimetype": "text/x-python",
   "name": "python",
   "nbconvert_exporter": "python",
   "pygments_lexer": "ipython3",
   "version": "3.8.5"
  },
  "toc": {
   "base_numbering": 1,
   "nav_menu": {},
   "number_sections": true,
   "sideBar": true,
   "skip_h1_title": false,
   "title_cell": "Table of Contents",
   "title_sidebar": "Contents",
   "toc_cell": false,
   "toc_position": {
    "height": "calc(100% - 180px)",
    "left": "10px",
    "top": "150px",
    "width": "234.474px"
   },
   "toc_section_display": true,
   "toc_window_display": false
  }
 },
 "nbformat": 4,
 "nbformat_minor": 4
}
