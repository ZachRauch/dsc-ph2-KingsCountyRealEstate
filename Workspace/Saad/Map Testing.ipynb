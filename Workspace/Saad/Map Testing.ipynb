{
 "cells": [
  {
   "cell_type": "markdown",
   "metadata": {},
   "source": [
    "https://towardsdatascience.com/visualizing-data-at-the-zip-code-level-with-folium-d07ac983db20"
   ]
  },
  {
   "cell_type": "code",
   "execution_count": 1,
   "metadata": {
    "ExecuteTime": {
     "end_time": "2022-03-25T18:51:11.545943Z",
     "start_time": "2022-03-25T18:51:10.580726Z"
    }
   },
   "outputs": [],
   "source": [
    "import folium\n",
    "import pandas as pd\n",
    "import json\n",
    "\n",
    "KC_coord = (47.560180,-122.213948)"
   ]
  },
  {
   "cell_type": "code",
   "execution_count": 2,
   "metadata": {
    "ExecuteTime": {
     "end_time": "2022-03-25T18:51:11.637964Z",
     "start_time": "2022-03-25T18:51:11.547944Z"
    }
   },
   "outputs": [
    {
     "data": {
      "text/html": [
       "<div>\n",
       "<style scoped>\n",
       "    .dataframe tbody tr th:only-of-type {\n",
       "        vertical-align: middle;\n",
       "    }\n",
       "\n",
       "    .dataframe tbody tr th {\n",
       "        vertical-align: top;\n",
       "    }\n",
       "\n",
       "    .dataframe thead th {\n",
       "        text-align: right;\n",
       "    }\n",
       "</style>\n",
       "<table border=\"1\" class=\"dataframe\">\n",
       "  <thead>\n",
       "    <tr style=\"text-align: right;\">\n",
       "      <th></th>\n",
       "      <th>id</th>\n",
       "      <th>date</th>\n",
       "      <th>price</th>\n",
       "      <th>bedrooms</th>\n",
       "      <th>bathrooms</th>\n",
       "      <th>sqft_living</th>\n",
       "      <th>sqft_lot</th>\n",
       "      <th>floors</th>\n",
       "      <th>waterfront</th>\n",
       "      <th>view</th>\n",
       "      <th>...</th>\n",
       "      <th>grade</th>\n",
       "      <th>sqft_above</th>\n",
       "      <th>sqft_basement</th>\n",
       "      <th>yr_built</th>\n",
       "      <th>yr_renovated</th>\n",
       "      <th>zipcode</th>\n",
       "      <th>lat</th>\n",
       "      <th>long</th>\n",
       "      <th>sqft_living15</th>\n",
       "      <th>sqft_lot15</th>\n",
       "    </tr>\n",
       "  </thead>\n",
       "  <tbody>\n",
       "    <tr>\n",
       "      <th>0</th>\n",
       "      <td>7129300520</td>\n",
       "      <td>10/13/2014</td>\n",
       "      <td>221900.0</td>\n",
       "      <td>3</td>\n",
       "      <td>1.00</td>\n",
       "      <td>1180</td>\n",
       "      <td>5650</td>\n",
       "      <td>1.0</td>\n",
       "      <td>NaN</td>\n",
       "      <td>NONE</td>\n",
       "      <td>...</td>\n",
       "      <td>7 Average</td>\n",
       "      <td>1180</td>\n",
       "      <td>0.0</td>\n",
       "      <td>1955</td>\n",
       "      <td>0.0</td>\n",
       "      <td>98178</td>\n",
       "      <td>47.5112</td>\n",
       "      <td>-122.257</td>\n",
       "      <td>1340</td>\n",
       "      <td>5650</td>\n",
       "    </tr>\n",
       "    <tr>\n",
       "      <th>1</th>\n",
       "      <td>6414100192</td>\n",
       "      <td>12/9/2014</td>\n",
       "      <td>538000.0</td>\n",
       "      <td>3</td>\n",
       "      <td>2.25</td>\n",
       "      <td>2570</td>\n",
       "      <td>7242</td>\n",
       "      <td>2.0</td>\n",
       "      <td>NO</td>\n",
       "      <td>NONE</td>\n",
       "      <td>...</td>\n",
       "      <td>7 Average</td>\n",
       "      <td>2170</td>\n",
       "      <td>400.0</td>\n",
       "      <td>1951</td>\n",
       "      <td>1991.0</td>\n",
       "      <td>98125</td>\n",
       "      <td>47.7210</td>\n",
       "      <td>-122.319</td>\n",
       "      <td>1690</td>\n",
       "      <td>7639</td>\n",
       "    </tr>\n",
       "    <tr>\n",
       "      <th>2</th>\n",
       "      <td>5631500400</td>\n",
       "      <td>2/25/2015</td>\n",
       "      <td>180000.0</td>\n",
       "      <td>2</td>\n",
       "      <td>1.00</td>\n",
       "      <td>770</td>\n",
       "      <td>10000</td>\n",
       "      <td>1.0</td>\n",
       "      <td>NO</td>\n",
       "      <td>NONE</td>\n",
       "      <td>...</td>\n",
       "      <td>6 Low Average</td>\n",
       "      <td>770</td>\n",
       "      <td>0.0</td>\n",
       "      <td>1933</td>\n",
       "      <td>NaN</td>\n",
       "      <td>98028</td>\n",
       "      <td>47.7379</td>\n",
       "      <td>-122.233</td>\n",
       "      <td>2720</td>\n",
       "      <td>8062</td>\n",
       "    </tr>\n",
       "  </tbody>\n",
       "</table>\n",
       "<p>3 rows × 21 columns</p>\n",
       "</div>"
      ],
      "text/plain": [
       "           id        date     price  bedrooms  bathrooms  sqft_living  \\\n",
       "0  7129300520  10/13/2014  221900.0         3       1.00         1180   \n",
       "1  6414100192   12/9/2014  538000.0         3       2.25         2570   \n",
       "2  5631500400   2/25/2015  180000.0         2       1.00          770   \n",
       "\n",
       "   sqft_lot  floors waterfront  view  ...          grade sqft_above  \\\n",
       "0      5650     1.0        NaN  NONE  ...      7 Average       1180   \n",
       "1      7242     2.0         NO  NONE  ...      7 Average       2170   \n",
       "2     10000     1.0         NO  NONE  ...  6 Low Average        770   \n",
       "\n",
       "   sqft_basement yr_built  yr_renovated  zipcode      lat     long  \\\n",
       "0            0.0     1955           0.0    98178  47.5112 -122.257   \n",
       "1          400.0     1951        1991.0    98125  47.7210 -122.319   \n",
       "2            0.0     1933           NaN    98028  47.7379 -122.233   \n",
       "\n",
       "   sqft_living15  sqft_lot15  \n",
       "0           1340        5650  \n",
       "1           1690        7639  \n",
       "2           2720        8062  \n",
       "\n",
       "[3 rows x 21 columns]"
      ]
     },
     "execution_count": 2,
     "metadata": {},
     "output_type": "execute_result"
    }
   ],
   "source": [
    "df = pd.read_csv('data/kc_house_data.csv')\n",
    "\n",
    "# Header cleaning. More precautionary than anything else\n",
    "df.columns = [x.strip().lower().replace(' ','').replace('-','') for x in df.columns]\n",
    "\n",
    "df.head(3)"
   ]
  },
  {
   "cell_type": "code",
   "execution_count": 3,
   "metadata": {
    "ExecuteTime": {
     "end_time": "2022-03-25T18:51:11.669444Z",
     "start_time": "2022-03-25T18:51:11.639964Z"
    }
   },
   "outputs": [],
   "source": [
    "#First pass at cleaning\n",
    "df['waterfront'].fillna('Unknown',inplace= True)\n",
    "df['yr_renovated'].fillna(0,inplace= True)\n",
    "\n",
    "df.dropna(subset=['view'],inplace=True)\n",
    "\n",
    "# Removing outliers\n",
    "df = df[df['bedrooms'] <=15] #Only 1 record remove. 33 Bed, 1.75 Bath?\n",
    "\n",
    "\n",
    "# Change view rating to a numeric value. Probably don't need it\n",
    "df['view'] = df['view'].map({'EXCELLENT':5,\n",
    "                             'GOOD':4,\n",
    "                             'FAIR':3,\n",
    "                             'AVERAGE':2,\n",
    "                             'NONE':1})"
   ]
  },
  {
   "cell_type": "code",
   "execution_count": 4,
   "metadata": {
    "ExecuteTime": {
     "end_time": "2022-03-25T18:51:14.361559Z",
     "start_time": "2022-03-25T18:51:14.147700Z"
    },
    "scrolled": true
   },
   "outputs": [],
   "source": [
    "with open('data/Zipcodes_for_King_County_and_Surrounding_Area___zipcode_area.geojson', 'r') as f:\n",
    "    geoJSON_raw = json.load(f)"
   ]
  },
  {
   "cell_type": "code",
   "execution_count": 5,
   "metadata": {
    "ExecuteTime": {
     "end_time": "2022-03-25T18:51:14.514947Z",
     "start_time": "2022-03-25T18:51:14.507944Z"
    },
    "scrolled": true
   },
   "outputs": [],
   "source": [
    "# first_feature = geoJSON_raw['features'][0]\n",
    "# first_feature['geometry'] = 0 #just so we can see the feature. Too verbose\n",
    "# first_feature"
   ]
  },
  {
   "cell_type": "code",
   "execution_count": 6,
   "metadata": {
    "ExecuteTime": {
     "end_time": "2022-03-25T18:51:25.203437Z",
     "start_time": "2022-03-25T18:51:25.195436Z"
    },
    "scrolled": true
   },
   "outputs": [
    {
     "data": {
      "text/plain": [
       "70"
      ]
     },
     "execution_count": 6,
     "metadata": {},
     "output_type": "execute_result"
    }
   ],
   "source": [
    "len((df['zipcode'].unique())) #total zipcodes in dataframe"
   ]
  },
  {
   "cell_type": "code",
   "execution_count": 7,
   "metadata": {
    "ExecuteTime": {
     "end_time": "2022-03-25T18:51:25.470577Z",
     "start_time": "2022-03-25T18:51:25.435569Z"
    }
   },
   "outputs": [],
   "source": [
    "#Steps to pare down our geoJSON data to zip codes in our dataframe\n",
    "#Make a list of zip in geoJSON data that is also in our dataframe\n",
    "zipcodes_geoJSON = [int(feature['properties']['ZIPCODE'])\n",
    "                    for feature in geoJSON_raw['features']                    \n",
    "                    if (int(feature['properties']['ZIPCODE']) in df['zipcode'].unique())             \n",
    "                   ]"
   ]
  },
  {
   "cell_type": "code",
   "execution_count": 8,
   "metadata": {
    "ExecuteTime": {
     "end_time": "2022-03-25T18:51:28.239672Z",
     "start_time": "2022-03-25T18:51:27.667434Z"
    }
   },
   "outputs": [
    {
     "data": {
      "text/plain": [
       "12459337"
      ]
     },
     "execution_count": 8,
     "metadata": {},
     "output_type": "execute_result"
    }
   ],
   "source": [
    "#Steps to pare down our geoJSON data to zip codes in our dataframe\n",
    "#Make a list of features in geoJSON raw data that is also in our dataframe\n",
    "geoJSON_data = [feature\n",
    "                for feature in geoJSON_raw['features']\n",
    "                if (int(feature['properties']['ZIPCODE']) in df['zipcode'].unique())\n",
    "               ]\n",
    "\n",
    "#Create a JSON file\n",
    "new_json = dict.fromkeys(['type','features'])\n",
    "new_json['type'] = 'FeaturesCollection'\n",
    "new_json['features'] = geoJSON_data\n",
    "open('data/update_GEOJSON.json','w').write(json.dumps(new_json,\n",
    "                                                sort_keys = True,\n",
    "                                                indent = 4,\n",
    "                                                separators = (',',':',)\n",
    "                                               ))"
   ]
  },
  {
   "cell_type": "code",
   "execution_count": 9,
   "metadata": {
    "ExecuteTime": {
     "end_time": "2022-03-25T18:51:28.254377Z",
     "start_time": "2022-03-25T18:51:28.240672Z"
    },
    "scrolled": true
   },
   "outputs": [
    {
     "data": {
      "text/plain": [
       "True"
      ]
     },
     "execution_count": 9,
     "metadata": {},
     "output_type": "execute_result"
    }
   ],
   "source": [
    "# Test to see that all zip codes in our dataframe has geoJSON data\n",
    "len(set(zipcodes_geoJSON)) == len(df['zipcode'].unique())"
   ]
  },
  {
   "cell_type": "code",
   "execution_count": 25,
   "metadata": {
    "ExecuteTime": {
     "end_time": "2022-03-25T19:13:46.810777Z",
     "start_time": "2022-03-25T19:13:46.771768Z"
    }
   },
   "outputs": [
    {
     "data": {
      "text/html": [
       "<div>\n",
       "<style scoped>\n",
       "    .dataframe tbody tr th:only-of-type {\n",
       "        vertical-align: middle;\n",
       "    }\n",
       "\n",
       "    .dataframe tbody tr th {\n",
       "        vertical-align: top;\n",
       "    }\n",
       "\n",
       "    .dataframe thead th {\n",
       "        text-align: right;\n",
       "    }\n",
       "</style>\n",
       "<table border=\"1\" class=\"dataframe\">\n",
       "  <thead>\n",
       "    <tr style=\"text-align: right;\">\n",
       "      <th></th>\n",
       "      <th>id</th>\n",
       "      <th>date</th>\n",
       "      <th>price</th>\n",
       "      <th>bedrooms</th>\n",
       "      <th>bathrooms</th>\n",
       "      <th>sqft_living</th>\n",
       "      <th>sqft_lot</th>\n",
       "      <th>floors</th>\n",
       "      <th>waterfront</th>\n",
       "      <th>view</th>\n",
       "      <th>...</th>\n",
       "      <th>grade</th>\n",
       "      <th>sqft_above</th>\n",
       "      <th>sqft_basement</th>\n",
       "      <th>yr_built</th>\n",
       "      <th>yr_renovated</th>\n",
       "      <th>zipcode</th>\n",
       "      <th>lat</th>\n",
       "      <th>long</th>\n",
       "      <th>sqft_living15</th>\n",
       "      <th>sqft_lot15</th>\n",
       "    </tr>\n",
       "  </thead>\n",
       "  <tbody>\n",
       "    <tr>\n",
       "      <th>21</th>\n",
       "      <td>2524049179</td>\n",
       "      <td>8/26/2014</td>\n",
       "      <td>2000000.0</td>\n",
       "      <td>3</td>\n",
       "      <td>2.75</td>\n",
       "      <td>3050</td>\n",
       "      <td>44867</td>\n",
       "      <td>1.0</td>\n",
       "      <td>NO</td>\n",
       "      <td>5</td>\n",
       "      <td>...</td>\n",
       "      <td>9 Better</td>\n",
       "      <td>2330</td>\n",
       "      <td>720.0</td>\n",
       "      <td>1968</td>\n",
       "      <td>0.0</td>\n",
       "      <td>98040</td>\n",
       "      <td>47.5316</td>\n",
       "      <td>-122.233</td>\n",
       "      <td>4110</td>\n",
       "      <td>20336</td>\n",
       "    </tr>\n",
       "    <tr>\n",
       "      <th>153</th>\n",
       "      <td>7855801670</td>\n",
       "      <td>4/1/2015</td>\n",
       "      <td>2250000.0</td>\n",
       "      <td>4</td>\n",
       "      <td>3.25</td>\n",
       "      <td>5180</td>\n",
       "      <td>19850</td>\n",
       "      <td>2.0</td>\n",
       "      <td>NO</td>\n",
       "      <td>4</td>\n",
       "      <td>...</td>\n",
       "      <td>12 Luxury</td>\n",
       "      <td>3540</td>\n",
       "      <td>1640.0</td>\n",
       "      <td>2006</td>\n",
       "      <td>0.0</td>\n",
       "      <td>98006</td>\n",
       "      <td>47.5620</td>\n",
       "      <td>-122.162</td>\n",
       "      <td>3160</td>\n",
       "      <td>9750</td>\n",
       "    </tr>\n",
       "    <tr>\n",
       "      <th>246</th>\n",
       "      <td>2025069065</td>\n",
       "      <td>9/29/2014</td>\n",
       "      <td>2400000.0</td>\n",
       "      <td>4</td>\n",
       "      <td>2.50</td>\n",
       "      <td>3650</td>\n",
       "      <td>8354</td>\n",
       "      <td>1.0</td>\n",
       "      <td>YES</td>\n",
       "      <td>5</td>\n",
       "      <td>...</td>\n",
       "      <td>9 Better</td>\n",
       "      <td>1830</td>\n",
       "      <td>1820.0</td>\n",
       "      <td>2000</td>\n",
       "      <td>0.0</td>\n",
       "      <td>98074</td>\n",
       "      <td>47.6338</td>\n",
       "      <td>-122.072</td>\n",
       "      <td>3120</td>\n",
       "      <td>18841</td>\n",
       "    </tr>\n",
       "    <tr>\n",
       "      <th>269</th>\n",
       "      <td>7960900060</td>\n",
       "      <td>5/4/2015</td>\n",
       "      <td>2900000.0</td>\n",
       "      <td>4</td>\n",
       "      <td>3.25</td>\n",
       "      <td>5050</td>\n",
       "      <td>20100</td>\n",
       "      <td>1.5</td>\n",
       "      <td>NO</td>\n",
       "      <td>2</td>\n",
       "      <td>...</td>\n",
       "      <td>11 Excellent</td>\n",
       "      <td>4750</td>\n",
       "      <td>300.0</td>\n",
       "      <td>1982</td>\n",
       "      <td>0.0</td>\n",
       "      <td>98004</td>\n",
       "      <td>47.6312</td>\n",
       "      <td>-122.223</td>\n",
       "      <td>3890</td>\n",
       "      <td>20060</td>\n",
       "    </tr>\n",
       "    <tr>\n",
       "      <th>282</th>\n",
       "      <td>7424700045</td>\n",
       "      <td>5/13/2015</td>\n",
       "      <td>2050000.0</td>\n",
       "      <td>5</td>\n",
       "      <td>3.00</td>\n",
       "      <td>3830</td>\n",
       "      <td>8480</td>\n",
       "      <td>2.0</td>\n",
       "      <td>NO</td>\n",
       "      <td>3</td>\n",
       "      <td>...</td>\n",
       "      <td>9 Better</td>\n",
       "      <td>2630</td>\n",
       "      <td>1200.0</td>\n",
       "      <td>1905</td>\n",
       "      <td>1994.0</td>\n",
       "      <td>98122</td>\n",
       "      <td>47.6166</td>\n",
       "      <td>-122.287</td>\n",
       "      <td>3050</td>\n",
       "      <td>7556</td>\n",
       "    </tr>\n",
       "    <tr>\n",
       "      <th>...</th>\n",
       "      <td>...</td>\n",
       "      <td>...</td>\n",
       "      <td>...</td>\n",
       "      <td>...</td>\n",
       "      <td>...</td>\n",
       "      <td>...</td>\n",
       "      <td>...</td>\n",
       "      <td>...</td>\n",
       "      <td>...</td>\n",
       "      <td>...</td>\n",
       "      <td>...</td>\n",
       "      <td>...</td>\n",
       "      <td>...</td>\n",
       "      <td>...</td>\n",
       "      <td>...</td>\n",
       "      <td>...</td>\n",
       "      <td>...</td>\n",
       "      <td>...</td>\n",
       "      <td>...</td>\n",
       "      <td>...</td>\n",
       "      <td>...</td>\n",
       "    </tr>\n",
       "    <tr>\n",
       "      <th>21352</th>\n",
       "      <td>9533100285</td>\n",
       "      <td>6/30/2014</td>\n",
       "      <td>2070000.0</td>\n",
       "      <td>4</td>\n",
       "      <td>3.75</td>\n",
       "      <td>4350</td>\n",
       "      <td>7965</td>\n",
       "      <td>2.0</td>\n",
       "      <td>NO</td>\n",
       "      <td>1</td>\n",
       "      <td>...</td>\n",
       "      <td>10 Very Good</td>\n",
       "      <td>4350</td>\n",
       "      <td>0.0</td>\n",
       "      <td>2013</td>\n",
       "      <td>0.0</td>\n",
       "      <td>98004</td>\n",
       "      <td>47.6289</td>\n",
       "      <td>-122.205</td>\n",
       "      <td>2190</td>\n",
       "      <td>8557</td>\n",
       "    </tr>\n",
       "    <tr>\n",
       "      <th>21451</th>\n",
       "      <td>2311400056</td>\n",
       "      <td>12/1/2014</td>\n",
       "      <td>1990000.0</td>\n",
       "      <td>5</td>\n",
       "      <td>3.50</td>\n",
       "      <td>5230</td>\n",
       "      <td>8960</td>\n",
       "      <td>2.0</td>\n",
       "      <td>NO</td>\n",
       "      <td>1</td>\n",
       "      <td>...</td>\n",
       "      <td>11 Excellent</td>\n",
       "      <td>4450</td>\n",
       "      <td>780.0</td>\n",
       "      <td>2014</td>\n",
       "      <td>0.0</td>\n",
       "      <td>98004</td>\n",
       "      <td>47.5964</td>\n",
       "      <td>-122.201</td>\n",
       "      <td>2310</td>\n",
       "      <td>9603</td>\n",
       "    </tr>\n",
       "    <tr>\n",
       "      <th>21490</th>\n",
       "      <td>2524069097</td>\n",
       "      <td>5/9/2014</td>\n",
       "      <td>2240000.0</td>\n",
       "      <td>5</td>\n",
       "      <td>6.50</td>\n",
       "      <td>7270</td>\n",
       "      <td>130017</td>\n",
       "      <td>2.0</td>\n",
       "      <td>NO</td>\n",
       "      <td>1</td>\n",
       "      <td>...</td>\n",
       "      <td>12 Luxury</td>\n",
       "      <td>6420</td>\n",
       "      <td>850.0</td>\n",
       "      <td>2010</td>\n",
       "      <td>0.0</td>\n",
       "      <td>98027</td>\n",
       "      <td>47.5371</td>\n",
       "      <td>-121.982</td>\n",
       "      <td>1800</td>\n",
       "      <td>44890</td>\n",
       "    </tr>\n",
       "    <tr>\n",
       "      <th>21514</th>\n",
       "      <td>8964800330</td>\n",
       "      <td>4/7/2015</td>\n",
       "      <td>3000000.0</td>\n",
       "      <td>4</td>\n",
       "      <td>3.75</td>\n",
       "      <td>5090</td>\n",
       "      <td>14823</td>\n",
       "      <td>1.0</td>\n",
       "      <td>NO</td>\n",
       "      <td>1</td>\n",
       "      <td>...</td>\n",
       "      <td>11 Excellent</td>\n",
       "      <td>4180</td>\n",
       "      <td>910.0</td>\n",
       "      <td>2013</td>\n",
       "      <td>0.0</td>\n",
       "      <td>98004</td>\n",
       "      <td>47.6200</td>\n",
       "      <td>-122.207</td>\n",
       "      <td>3030</td>\n",
       "      <td>12752</td>\n",
       "    </tr>\n",
       "    <tr>\n",
       "      <th>21560</th>\n",
       "      <td>9253900271</td>\n",
       "      <td>1/7/2015</td>\n",
       "      <td>3570000.0</td>\n",
       "      <td>5</td>\n",
       "      <td>4.50</td>\n",
       "      <td>4850</td>\n",
       "      <td>10584</td>\n",
       "      <td>2.0</td>\n",
       "      <td>YES</td>\n",
       "      <td>5</td>\n",
       "      <td>...</td>\n",
       "      <td>10 Very Good</td>\n",
       "      <td>3540</td>\n",
       "      <td>1310.0</td>\n",
       "      <td>2007</td>\n",
       "      <td>0.0</td>\n",
       "      <td>98008</td>\n",
       "      <td>47.5943</td>\n",
       "      <td>-122.110</td>\n",
       "      <td>3470</td>\n",
       "      <td>18270</td>\n",
       "    </tr>\n",
       "  </tbody>\n",
       "</table>\n",
       "<p>216 rows × 21 columns</p>\n",
       "</div>"
      ],
      "text/plain": [
       "               id       date      price  bedrooms  bathrooms  sqft_living  \\\n",
       "21     2524049179  8/26/2014  2000000.0         3       2.75         3050   \n",
       "153    7855801670   4/1/2015  2250000.0         4       3.25         5180   \n",
       "246    2025069065  9/29/2014  2400000.0         4       2.50         3650   \n",
       "269    7960900060   5/4/2015  2900000.0         4       3.25         5050   \n",
       "282    7424700045  5/13/2015  2050000.0         5       3.00         3830   \n",
       "...           ...        ...        ...       ...        ...          ...   \n",
       "21352  9533100285  6/30/2014  2070000.0         4       3.75         4350   \n",
       "21451  2311400056  12/1/2014  1990000.0         5       3.50         5230   \n",
       "21490  2524069097   5/9/2014  2240000.0         5       6.50         7270   \n",
       "21514  8964800330   4/7/2015  3000000.0         4       3.75         5090   \n",
       "21560  9253900271   1/7/2015  3570000.0         5       4.50         4850   \n",
       "\n",
       "       sqft_lot  floors waterfront  view  ...         grade sqft_above  \\\n",
       "21        44867     1.0         NO     5  ...      9 Better       2330   \n",
       "153       19850     2.0         NO     4  ...     12 Luxury       3540   \n",
       "246        8354     1.0        YES     5  ...      9 Better       1830   \n",
       "269       20100     1.5         NO     2  ...  11 Excellent       4750   \n",
       "282        8480     2.0         NO     3  ...      9 Better       2630   \n",
       "...         ...     ...        ...   ...  ...           ...        ...   \n",
       "21352      7965     2.0         NO     1  ...  10 Very Good       4350   \n",
       "21451      8960     2.0         NO     1  ...  11 Excellent       4450   \n",
       "21490    130017     2.0         NO     1  ...     12 Luxury       6420   \n",
       "21514     14823     1.0         NO     1  ...  11 Excellent       4180   \n",
       "21560     10584     2.0        YES     5  ...  10 Very Good       3540   \n",
       "\n",
       "       sqft_basement yr_built  yr_renovated  zipcode      lat     long  \\\n",
       "21             720.0     1968           0.0    98040  47.5316 -122.233   \n",
       "153           1640.0     2006           0.0    98006  47.5620 -122.162   \n",
       "246           1820.0     2000           0.0    98074  47.6338 -122.072   \n",
       "269            300.0     1982           0.0    98004  47.6312 -122.223   \n",
       "282           1200.0     1905        1994.0    98122  47.6166 -122.287   \n",
       "...              ...      ...           ...      ...      ...      ...   \n",
       "21352            0.0     2013           0.0    98004  47.6289 -122.205   \n",
       "21451          780.0     2014           0.0    98004  47.5964 -122.201   \n",
       "21490          850.0     2010           0.0    98027  47.5371 -121.982   \n",
       "21514          910.0     2013           0.0    98004  47.6200 -122.207   \n",
       "21560         1310.0     2007           0.0    98008  47.5943 -122.110   \n",
       "\n",
       "       sqft_living15  sqft_lot15  \n",
       "21              4110       20336  \n",
       "153             3160        9750  \n",
       "246             3120       18841  \n",
       "269             3890       20060  \n",
       "282             3050        7556  \n",
       "...              ...         ...  \n",
       "21352           2190        8557  \n",
       "21451           2310        9603  \n",
       "21490           1800       44890  \n",
       "21514           3030       12752  \n",
       "21560           3470       18270  \n",
       "\n",
       "[216 rows x 21 columns]"
      ]
     },
     "execution_count": 25,
     "metadata": {},
     "output_type": "execute_result"
    }
   ],
   "source": [
    "df_above_99quantile = df[df['price'] > df['price'].quantile(q=0.99)]\n",
    "df_above_99quantile"
   ]
  },
  {
   "cell_type": "code",
   "execution_count": 55,
   "metadata": {
    "ExecuteTime": {
     "end_time": "2022-03-25T19:33:16.546047Z",
     "start_time": "2022-03-25T19:33:16.364006Z"
    }
   },
   "outputs": [
    {
     "data": {
      "text/html": [
       "<div style=\"width:100%;\"><div style=\"position:relative;width:100%;height:0;padding-bottom:60%;\"><span style=\"color:#565656\">Make this Notebook Trusted to load map: File -> Trust Notebook</span><iframe src=\"about:blank\" style=\"position:absolute;width:100%;height:100%;left:0;top:0;border:none !important;\" data-html=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 onload=\"this.contentDocument.open();this.contentDocument.write(atob(this.getAttribute('data-html')));this.contentDocument.close();\" allowfullscreen webkitallowfullscreen mozallowfullscreen></iframe></div></div>"
      ],
      "text/plain": [
       "<folium.folium.Map at 0x217368844f0>"
      ]
     },
     "execution_count": 55,
     "metadata": {},
     "output_type": "execute_result"
    }
   ],
   "source": [
    "# Example of markers on folium and using cell values to change marker type\n",
    "# Note: Markers above 500 count should be avoided\n",
    "# For this example, plotted houses above the 99th quantile.Super Pricey homes\n",
    "\n",
    "map = folium.Map(location = KC_coord, tiles = \"OpenStreetMap\", zoom_start = 10)\n",
    "number_of_markers = 100\n",
    "i=0\n",
    "for each in df_above_99quantile.iterrows():\n",
    "    if each[1]['waterfront'] == 'YES':\n",
    "        folium.Marker(\n",
    "            location=[each[1]['lat'], each[1]['long']],\n",
    "    #         popup=\"The Waterfront\",\n",
    "            icon=folium.Icon(color=\"blue\",icon=\"tint\", prefix='fa')\n",
    "        ).add_to(map)\n",
    "    else:\n",
    "        folium.Marker(\n",
    "            location=[each[1]['lat'], each[1]['long']],\n",
    "            icon=folium.Icon(color=\"green\",icon=\"money\", prefix='fa')\n",
    "        ).add_to(map)\n",
    "        \n",
    "        \n",
    "#     i+=1\n",
    "#     if i >= number_of_markers:\n",
    "#         break\n",
    "map"
   ]
  },
  {
   "cell_type": "code",
   "execution_count": null,
   "metadata": {},
   "outputs": [],
   "source": [
    "map = folium.Map(location = KC_coord, tiles = \"OpenStreetMap\", zoom_start = 9)\n",
    "number_of_markers = 100\n",
    "i=0\n",
    "for each in df.iterrows():\n",
    "    folium.Marker(radius=100,\n",
    "        location=[each[1]['lat'], each[1]['long']],\n",
    "#         popup=\"The Waterfront\",\n",
    "#         color=\"crimson\",\n",
    "#         fill=False\n",
    "    ).add_to(map)\n",
    "    i+=1\n",
    "    if i >= number_of_markers:\n",
    "        break\n",
    "map"
   ]
  },
  {
   "cell_type": "code",
   "execution_count": null,
   "metadata": {
    "ExecuteTime": {
     "end_time": "2022-03-25T18:05:37.931547Z",
     "start_time": "2022-03-25T18:05:37.916544Z"
    }
   },
   "outputs": [],
   "source": [
    "map = folium.Map(location = KC_coord, tiles = \"Stamen Terrain\", zoom_start = 9)\n",
    "map"
   ]
  },
  {
   "cell_type": "code",
   "execution_count": null,
   "metadata": {
    "ExecuteTime": {
     "end_time": "2022-03-25T18:05:37.961554Z",
     "start_time": "2022-03-25T18:05:37.932548Z"
    }
   },
   "outputs": [],
   "source": [
    "map = folium.Map(location = KC_coord, tiles = \"Stamen Toner\", zoom_start = 9)\n",
    "map"
   ]
  },
  {
   "cell_type": "code",
   "execution_count": null,
   "metadata": {
    "ExecuteTime": {
     "end_time": "2022-03-25T18:05:37.979705Z",
     "start_time": "2022-03-25T18:05:37.962554Z"
    }
   },
   "outputs": [],
   "source": [
    "map = folium.Map(location = KC_coord, tiles = \"OpenStreetMap\", zoom_start = 9)\n",
    "map"
   ]
  },
  {
   "cell_type": "code",
   "execution_count": 49,
   "metadata": {
    "ExecuteTime": {
     "end_time": "2022-03-25T19:32:27.612649Z",
     "start_time": "2022-03-25T19:32:27.602647Z"
    }
   },
   "outputs": [
    {
     "ename": "SyntaxError",
     "evalue": "invalid syntax (<ipython-input-49-d2cf8d6c9c22>, line 2)",
     "output_type": "error",
     "traceback": [
      "\u001b[1;36m  File \u001b[1;32m\"<ipython-input-49-d2cf8d6c9c22>\"\u001b[1;36m, line \u001b[1;32m2\u001b[0m\n\u001b[1;33m    geo_data = ,\u001b[0m\n\u001b[1;37m               ^\u001b[0m\n\u001b[1;31mSyntaxError\u001b[0m\u001b[1;31m:\u001b[0m invalid syntax\n"
     ]
    }
   ],
   "source": [
    "folium.Choropleth(\n",
    "    geo_data = ,\n",
    "    data = df,\n",
    "    )"
   ]
  },
  {
   "cell_type": "code",
   "execution_count": null,
   "metadata": {},
   "outputs": [],
   "source": []
  }
 ],
 "metadata": {
  "kernelspec": {
   "display_name": "Python (learn-env)",
   "language": "python",
   "name": "learn-env"
  },
  "language_info": {
   "codemirror_mode": {
    "name": "ipython",
    "version": 3
   },
   "file_extension": ".py",
   "mimetype": "text/x-python",
   "name": "python",
   "nbconvert_exporter": "python",
   "pygments_lexer": "ipython3",
   "version": "3.8.5"
  },
  "toc": {
   "base_numbering": 1,
   "nav_menu": {},
   "number_sections": true,
   "sideBar": true,
   "skip_h1_title": false,
   "title_cell": "Table of Contents",
   "title_sidebar": "Contents",
   "toc_cell": false,
   "toc_position": {},
   "toc_section_display": true,
   "toc_window_display": false
  }
 },
 "nbformat": 4,
 "nbformat_minor": 4
}
