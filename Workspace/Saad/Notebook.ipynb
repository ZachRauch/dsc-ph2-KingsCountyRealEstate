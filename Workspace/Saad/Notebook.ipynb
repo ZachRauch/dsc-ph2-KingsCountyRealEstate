{
 "cells": [
  {
   "cell_type": "markdown",
   "metadata": {},
   "source": [
    "## Imports"
   ]
  },
  {
   "cell_type": "code",
   "execution_count": 197,
   "metadata": {
    "ExecuteTime": {
     "end_time": "2022-03-29T17:51:24.162369Z",
     "start_time": "2022-03-29T17:51:24.149368Z"
    }
   },
   "outputs": [],
   "source": [
    "import pandas as pd\n",
    "import numpy as np\n",
    "import seaborn as sns\n",
    "import warnings\n",
    "import matplotlib.pyplot as plt\n",
    "\n",
    "import statsmodels.api as sm\n",
    "from statsmodels.api import OLS\n",
    "\n",
    "#SKLearn stuff\n",
    "from sklearn.model_selection import train_test_split\n",
    "from sklearn.dummy import DummyRegressor\n",
    "from sklearn.pipeline import make_pipeline\n",
    "from sklearn.preprocessing import StandardScaler\n",
    "from sklearn.preprocessing import PolynomialFeatures\n",
    "from sklearn.preprocessing import OrdinalEncoder\n",
    "from sklearn.preprocessing import OneHotEncoder\n",
    "from sklearn.compose import ColumnTransformer\n",
    "from sklearn.linear_model import LinearRegression\n",
    "from sklearn.metrics import r2_score, mean_squared_error, mean_absolute_error\n",
    "\n",
    "warnings.filterwarnings('ignore')"
   ]
  },
  {
   "cell_type": "code",
   "execution_count": 17,
   "metadata": {
    "ExecuteTime": {
     "end_time": "2022-03-29T16:19:47.755218Z",
     "start_time": "2022-03-29T16:19:47.697227Z"
    },
    "scrolled": false
   },
   "outputs": [
    {
     "data": {
      "text/html": [
       "<div>\n",
       "<style scoped>\n",
       "    .dataframe tbody tr th:only-of-type {\n",
       "        vertical-align: middle;\n",
       "    }\n",
       "\n",
       "    .dataframe tbody tr th {\n",
       "        vertical-align: top;\n",
       "    }\n",
       "\n",
       "    .dataframe thead th {\n",
       "        text-align: right;\n",
       "    }\n",
       "</style>\n",
       "<table border=\"1\" class=\"dataframe\">\n",
       "  <thead>\n",
       "    <tr style=\"text-align: right;\">\n",
       "      <th></th>\n",
       "      <th>date</th>\n",
       "      <th>price</th>\n",
       "      <th>bedrooms</th>\n",
       "      <th>bathrooms</th>\n",
       "      <th>sqft_living</th>\n",
       "      <th>sqft_lot</th>\n",
       "      <th>floors</th>\n",
       "      <th>waterfront</th>\n",
       "      <th>view</th>\n",
       "      <th>condition</th>\n",
       "      <th>grade</th>\n",
       "      <th>sqft_above</th>\n",
       "      <th>sqft_basement</th>\n",
       "      <th>yr_built</th>\n",
       "      <th>yr_renovated</th>\n",
       "      <th>zipcode</th>\n",
       "      <th>lat</th>\n",
       "      <th>long</th>\n",
       "      <th>sqft_living15</th>\n",
       "      <th>sqft_lot15</th>\n",
       "    </tr>\n",
       "  </thead>\n",
       "  <tbody>\n",
       "    <tr>\n",
       "      <th>0</th>\n",
       "      <td>10/13/2014</td>\n",
       "      <td>221900.0</td>\n",
       "      <td>3</td>\n",
       "      <td>1.00</td>\n",
       "      <td>1180</td>\n",
       "      <td>5650</td>\n",
       "      <td>1.0</td>\n",
       "      <td>NaN</td>\n",
       "      <td>NONE</td>\n",
       "      <td>Average</td>\n",
       "      <td>7 Average</td>\n",
       "      <td>1180</td>\n",
       "      <td>0.0</td>\n",
       "      <td>1955</td>\n",
       "      <td>0.0</td>\n",
       "      <td>98178</td>\n",
       "      <td>47.5112</td>\n",
       "      <td>-122.257</td>\n",
       "      <td>1340</td>\n",
       "      <td>5650</td>\n",
       "    </tr>\n",
       "    <tr>\n",
       "      <th>1</th>\n",
       "      <td>12/9/2014</td>\n",
       "      <td>538000.0</td>\n",
       "      <td>3</td>\n",
       "      <td>2.25</td>\n",
       "      <td>2570</td>\n",
       "      <td>7242</td>\n",
       "      <td>2.0</td>\n",
       "      <td>NO</td>\n",
       "      <td>NONE</td>\n",
       "      <td>Average</td>\n",
       "      <td>7 Average</td>\n",
       "      <td>2170</td>\n",
       "      <td>400.0</td>\n",
       "      <td>1951</td>\n",
       "      <td>1991.0</td>\n",
       "      <td>98125</td>\n",
       "      <td>47.7210</td>\n",
       "      <td>-122.319</td>\n",
       "      <td>1690</td>\n",
       "      <td>7639</td>\n",
       "    </tr>\n",
       "    <tr>\n",
       "      <th>2</th>\n",
       "      <td>2/25/2015</td>\n",
       "      <td>180000.0</td>\n",
       "      <td>2</td>\n",
       "      <td>1.00</td>\n",
       "      <td>770</td>\n",
       "      <td>10000</td>\n",
       "      <td>1.0</td>\n",
       "      <td>NO</td>\n",
       "      <td>NONE</td>\n",
       "      <td>Average</td>\n",
       "      <td>6 Low Average</td>\n",
       "      <td>770</td>\n",
       "      <td>0.0</td>\n",
       "      <td>1933</td>\n",
       "      <td>NaN</td>\n",
       "      <td>98028</td>\n",
       "      <td>47.7379</td>\n",
       "      <td>-122.233</td>\n",
       "      <td>2720</td>\n",
       "      <td>8062</td>\n",
       "    </tr>\n",
       "    <tr>\n",
       "      <th>3</th>\n",
       "      <td>12/9/2014</td>\n",
       "      <td>604000.0</td>\n",
       "      <td>4</td>\n",
       "      <td>3.00</td>\n",
       "      <td>1960</td>\n",
       "      <td>5000</td>\n",
       "      <td>1.0</td>\n",
       "      <td>NO</td>\n",
       "      <td>NONE</td>\n",
       "      <td>Very Good</td>\n",
       "      <td>7 Average</td>\n",
       "      <td>1050</td>\n",
       "      <td>910.0</td>\n",
       "      <td>1965</td>\n",
       "      <td>0.0</td>\n",
       "      <td>98136</td>\n",
       "      <td>47.5208</td>\n",
       "      <td>-122.393</td>\n",
       "      <td>1360</td>\n",
       "      <td>5000</td>\n",
       "    </tr>\n",
       "    <tr>\n",
       "      <th>4</th>\n",
       "      <td>2/18/2015</td>\n",
       "      <td>510000.0</td>\n",
       "      <td>3</td>\n",
       "      <td>2.00</td>\n",
       "      <td>1680</td>\n",
       "      <td>8080</td>\n",
       "      <td>1.0</td>\n",
       "      <td>NO</td>\n",
       "      <td>NONE</td>\n",
       "      <td>Average</td>\n",
       "      <td>8 Good</td>\n",
       "      <td>1680</td>\n",
       "      <td>0.0</td>\n",
       "      <td>1987</td>\n",
       "      <td>0.0</td>\n",
       "      <td>98074</td>\n",
       "      <td>47.6168</td>\n",
       "      <td>-122.045</td>\n",
       "      <td>1800</td>\n",
       "      <td>7503</td>\n",
       "    </tr>\n",
       "  </tbody>\n",
       "</table>\n",
       "</div>"
      ],
      "text/plain": [
       "         date     price  bedrooms  bathrooms  sqft_living  sqft_lot  floors  \\\n",
       "0  10/13/2014  221900.0         3       1.00         1180      5650     1.0   \n",
       "1   12/9/2014  538000.0         3       2.25         2570      7242     2.0   \n",
       "2   2/25/2015  180000.0         2       1.00          770     10000     1.0   \n",
       "3   12/9/2014  604000.0         4       3.00         1960      5000     1.0   \n",
       "4   2/18/2015  510000.0         3       2.00         1680      8080     1.0   \n",
       "\n",
       "  waterfront  view  condition          grade  sqft_above sqft_basement  \\\n",
       "0        NaN  NONE    Average      7 Average        1180           0.0   \n",
       "1         NO  NONE    Average      7 Average        2170         400.0   \n",
       "2         NO  NONE    Average  6 Low Average         770           0.0   \n",
       "3         NO  NONE  Very Good      7 Average        1050         910.0   \n",
       "4         NO  NONE    Average         8 Good        1680           0.0   \n",
       "\n",
       "   yr_built  yr_renovated  zipcode      lat     long  sqft_living15  \\\n",
       "0      1955           0.0    98178  47.5112 -122.257           1340   \n",
       "1      1951        1991.0    98125  47.7210 -122.319           1690   \n",
       "2      1933           NaN    98028  47.7379 -122.233           2720   \n",
       "3      1965           0.0    98136  47.5208 -122.393           1360   \n",
       "4      1987           0.0    98074  47.6168 -122.045           1800   \n",
       "\n",
       "   sqft_lot15  \n",
       "0        5650  \n",
       "1        7639  \n",
       "2        8062  \n",
       "3        5000  \n",
       "4        7503  "
      ]
     },
     "execution_count": 17,
     "metadata": {},
     "output_type": "execute_result"
    }
   ],
   "source": [
    "df = pd.read_csv('data/kc_house_data.csv')\n",
    "\n",
    "# Header cleaning. More precautionary than anything else\n",
    "df.columns = [x.strip().lower().replace(' ','').replace('-','') for x in df.columns]\n",
    "df.head()"
   ]
  },
  {
   "cell_type": "code",
   "execution_count": 18,
   "metadata": {
    "ExecuteTime": {
     "end_time": "2022-03-29T16:19:47.786225Z",
     "start_time": "2022-03-29T16:19:47.756218Z"
    },
    "scrolled": true
   },
   "outputs": [
    {
     "name": "stdout",
     "output_type": "stream",
     "text": [
      "<class 'pandas.core.frame.DataFrame'>\n",
      "RangeIndex: 21597 entries, 0 to 21596\n",
      "Data columns (total 20 columns):\n",
      " #   Column         Non-Null Count  Dtype  \n",
      "---  ------         --------------  -----  \n",
      " 0   date           21597 non-null  object \n",
      " 1   price          21597 non-null  float64\n",
      " 2   bedrooms       21597 non-null  int64  \n",
      " 3   bathrooms      21597 non-null  float64\n",
      " 4   sqft_living    21597 non-null  int64  \n",
      " 5   sqft_lot       21597 non-null  int64  \n",
      " 6   floors         21597 non-null  float64\n",
      " 7   waterfront     19221 non-null  object \n",
      " 8   view           21534 non-null  object \n",
      " 9   condition      21597 non-null  object \n",
      " 10  grade          21597 non-null  object \n",
      " 11  sqft_above     21597 non-null  int64  \n",
      " 12  sqft_basement  21597 non-null  object \n",
      " 13  yr_built       21597 non-null  int64  \n",
      " 14  yr_renovated   17755 non-null  float64\n",
      " 15  zipcode        21597 non-null  int64  \n",
      " 16  lat            21597 non-null  float64\n",
      " 17  long           21597 non-null  float64\n",
      " 18  sqft_living15  21597 non-null  int64  \n",
      " 19  sqft_lot15     21597 non-null  int64  \n",
      "dtypes: float64(6), int64(8), object(6)\n",
      "memory usage: 3.3+ MB\n"
     ]
    }
   ],
   "source": [
    "df.info()"
   ]
  },
  {
   "cell_type": "code",
   "execution_count": 19,
   "metadata": {
    "ExecuteTime": {
     "end_time": "2022-03-29T16:19:47.834235Z",
     "start_time": "2022-03-29T16:19:47.787225Z"
    },
    "scrolled": true
   },
   "outputs": [
    {
     "data": {
      "text/html": [
       "<div>\n",
       "<style scoped>\n",
       "    .dataframe tbody tr th:only-of-type {\n",
       "        vertical-align: middle;\n",
       "    }\n",
       "\n",
       "    .dataframe tbody tr th {\n",
       "        vertical-align: top;\n",
       "    }\n",
       "\n",
       "    .dataframe thead th {\n",
       "        text-align: right;\n",
       "    }\n",
       "</style>\n",
       "<table border=\"1\" class=\"dataframe\">\n",
       "  <thead>\n",
       "    <tr style=\"text-align: right;\">\n",
       "      <th></th>\n",
       "      <th>price</th>\n",
       "      <th>bedrooms</th>\n",
       "      <th>bathrooms</th>\n",
       "      <th>sqft_living</th>\n",
       "      <th>sqft_lot</th>\n",
       "      <th>floors</th>\n",
       "      <th>sqft_above</th>\n",
       "      <th>yr_built</th>\n",
       "      <th>yr_renovated</th>\n",
       "      <th>zipcode</th>\n",
       "      <th>lat</th>\n",
       "      <th>long</th>\n",
       "      <th>sqft_living15</th>\n",
       "      <th>sqft_lot15</th>\n",
       "    </tr>\n",
       "  </thead>\n",
       "  <tbody>\n",
       "    <tr>\n",
       "      <th>count</th>\n",
       "      <td>2.159700e+04</td>\n",
       "      <td>21597.000000</td>\n",
       "      <td>21597.000000</td>\n",
       "      <td>21597.000000</td>\n",
       "      <td>2.159700e+04</td>\n",
       "      <td>21597.000000</td>\n",
       "      <td>21597.000000</td>\n",
       "      <td>21597.000000</td>\n",
       "      <td>17755.000000</td>\n",
       "      <td>21597.000000</td>\n",
       "      <td>21597.000000</td>\n",
       "      <td>21597.000000</td>\n",
       "      <td>21597.000000</td>\n",
       "      <td>21597.000000</td>\n",
       "    </tr>\n",
       "    <tr>\n",
       "      <th>mean</th>\n",
       "      <td>5.402966e+05</td>\n",
       "      <td>3.373200</td>\n",
       "      <td>2.115826</td>\n",
       "      <td>2080.321850</td>\n",
       "      <td>1.509941e+04</td>\n",
       "      <td>1.494096</td>\n",
       "      <td>1788.596842</td>\n",
       "      <td>1970.999676</td>\n",
       "      <td>83.636778</td>\n",
       "      <td>98077.951845</td>\n",
       "      <td>47.560093</td>\n",
       "      <td>-122.213982</td>\n",
       "      <td>1986.620318</td>\n",
       "      <td>12758.283512</td>\n",
       "    </tr>\n",
       "    <tr>\n",
       "      <th>std</th>\n",
       "      <td>3.673681e+05</td>\n",
       "      <td>0.926299</td>\n",
       "      <td>0.768984</td>\n",
       "      <td>918.106125</td>\n",
       "      <td>4.141264e+04</td>\n",
       "      <td>0.539683</td>\n",
       "      <td>827.759761</td>\n",
       "      <td>29.375234</td>\n",
       "      <td>399.946414</td>\n",
       "      <td>53.513072</td>\n",
       "      <td>0.138552</td>\n",
       "      <td>0.140724</td>\n",
       "      <td>685.230472</td>\n",
       "      <td>27274.441950</td>\n",
       "    </tr>\n",
       "    <tr>\n",
       "      <th>min</th>\n",
       "      <td>7.800000e+04</td>\n",
       "      <td>1.000000</td>\n",
       "      <td>0.500000</td>\n",
       "      <td>370.000000</td>\n",
       "      <td>5.200000e+02</td>\n",
       "      <td>1.000000</td>\n",
       "      <td>370.000000</td>\n",
       "      <td>1900.000000</td>\n",
       "      <td>0.000000</td>\n",
       "      <td>98001.000000</td>\n",
       "      <td>47.155900</td>\n",
       "      <td>-122.519000</td>\n",
       "      <td>399.000000</td>\n",
       "      <td>651.000000</td>\n",
       "    </tr>\n",
       "    <tr>\n",
       "      <th>25%</th>\n",
       "      <td>3.220000e+05</td>\n",
       "      <td>3.000000</td>\n",
       "      <td>1.750000</td>\n",
       "      <td>1430.000000</td>\n",
       "      <td>5.040000e+03</td>\n",
       "      <td>1.000000</td>\n",
       "      <td>1190.000000</td>\n",
       "      <td>1951.000000</td>\n",
       "      <td>0.000000</td>\n",
       "      <td>98033.000000</td>\n",
       "      <td>47.471100</td>\n",
       "      <td>-122.328000</td>\n",
       "      <td>1490.000000</td>\n",
       "      <td>5100.000000</td>\n",
       "    </tr>\n",
       "    <tr>\n",
       "      <th>50%</th>\n",
       "      <td>4.500000e+05</td>\n",
       "      <td>3.000000</td>\n",
       "      <td>2.250000</td>\n",
       "      <td>1910.000000</td>\n",
       "      <td>7.618000e+03</td>\n",
       "      <td>1.500000</td>\n",
       "      <td>1560.000000</td>\n",
       "      <td>1975.000000</td>\n",
       "      <td>0.000000</td>\n",
       "      <td>98065.000000</td>\n",
       "      <td>47.571800</td>\n",
       "      <td>-122.231000</td>\n",
       "      <td>1840.000000</td>\n",
       "      <td>7620.000000</td>\n",
       "    </tr>\n",
       "    <tr>\n",
       "      <th>75%</th>\n",
       "      <td>6.450000e+05</td>\n",
       "      <td>4.000000</td>\n",
       "      <td>2.500000</td>\n",
       "      <td>2550.000000</td>\n",
       "      <td>1.068500e+04</td>\n",
       "      <td>2.000000</td>\n",
       "      <td>2210.000000</td>\n",
       "      <td>1997.000000</td>\n",
       "      <td>0.000000</td>\n",
       "      <td>98118.000000</td>\n",
       "      <td>47.678000</td>\n",
       "      <td>-122.125000</td>\n",
       "      <td>2360.000000</td>\n",
       "      <td>10083.000000</td>\n",
       "    </tr>\n",
       "    <tr>\n",
       "      <th>max</th>\n",
       "      <td>7.700000e+06</td>\n",
       "      <td>33.000000</td>\n",
       "      <td>8.000000</td>\n",
       "      <td>13540.000000</td>\n",
       "      <td>1.651359e+06</td>\n",
       "      <td>3.500000</td>\n",
       "      <td>9410.000000</td>\n",
       "      <td>2015.000000</td>\n",
       "      <td>2015.000000</td>\n",
       "      <td>98199.000000</td>\n",
       "      <td>47.777600</td>\n",
       "      <td>-121.315000</td>\n",
       "      <td>6210.000000</td>\n",
       "      <td>871200.000000</td>\n",
       "    </tr>\n",
       "  </tbody>\n",
       "</table>\n",
       "</div>"
      ],
      "text/plain": [
       "              price      bedrooms     bathrooms   sqft_living      sqft_lot  \\\n",
       "count  2.159700e+04  21597.000000  21597.000000  21597.000000  2.159700e+04   \n",
       "mean   5.402966e+05      3.373200      2.115826   2080.321850  1.509941e+04   \n",
       "std    3.673681e+05      0.926299      0.768984    918.106125  4.141264e+04   \n",
       "min    7.800000e+04      1.000000      0.500000    370.000000  5.200000e+02   \n",
       "25%    3.220000e+05      3.000000      1.750000   1430.000000  5.040000e+03   \n",
       "50%    4.500000e+05      3.000000      2.250000   1910.000000  7.618000e+03   \n",
       "75%    6.450000e+05      4.000000      2.500000   2550.000000  1.068500e+04   \n",
       "max    7.700000e+06     33.000000      8.000000  13540.000000  1.651359e+06   \n",
       "\n",
       "             floors    sqft_above      yr_built  yr_renovated       zipcode  \\\n",
       "count  21597.000000  21597.000000  21597.000000  17755.000000  21597.000000   \n",
       "mean       1.494096   1788.596842   1970.999676     83.636778  98077.951845   \n",
       "std        0.539683    827.759761     29.375234    399.946414     53.513072   \n",
       "min        1.000000    370.000000   1900.000000      0.000000  98001.000000   \n",
       "25%        1.000000   1190.000000   1951.000000      0.000000  98033.000000   \n",
       "50%        1.500000   1560.000000   1975.000000      0.000000  98065.000000   \n",
       "75%        2.000000   2210.000000   1997.000000      0.000000  98118.000000   \n",
       "max        3.500000   9410.000000   2015.000000   2015.000000  98199.000000   \n",
       "\n",
       "                lat          long  sqft_living15     sqft_lot15  \n",
       "count  21597.000000  21597.000000   21597.000000   21597.000000  \n",
       "mean      47.560093   -122.213982    1986.620318   12758.283512  \n",
       "std        0.138552      0.140724     685.230472   27274.441950  \n",
       "min       47.155900   -122.519000     399.000000     651.000000  \n",
       "25%       47.471100   -122.328000    1490.000000    5100.000000  \n",
       "50%       47.571800   -122.231000    1840.000000    7620.000000  \n",
       "75%       47.678000   -122.125000    2360.000000   10083.000000  \n",
       "max       47.777600   -121.315000    6210.000000  871200.000000  "
      ]
     },
     "execution_count": 19,
     "metadata": {},
     "output_type": "execute_result"
    }
   ],
   "source": [
    "df.describe()"
   ]
  },
  {
   "cell_type": "markdown",
   "metadata": {},
   "source": [
    "## Remove outliers"
   ]
  },
  {
   "cell_type": "code",
   "execution_count": 20,
   "metadata": {
    "ExecuteTime": {
     "end_time": "2022-03-29T16:19:47.850239Z",
     "start_time": "2022-03-29T16:19:47.836236Z"
    },
    "scrolled": true
   },
   "outputs": [],
   "source": [
    "# Removing outliers\n",
    "df = df[df['bedrooms'] <=15] #Only 1 record remove. 33 Bed, 1.75 Bath?"
   ]
  },
  {
   "cell_type": "markdown",
   "metadata": {},
   "source": [
    "## Data Cleaning"
   ]
  },
  {
   "cell_type": "markdown",
   "metadata": {},
   "source": [
    "sqft_basement is an object?"
   ]
  },
  {
   "cell_type": "code",
   "execution_count": 21,
   "metadata": {
    "ExecuteTime": {
     "end_time": "2022-03-29T16:19:47.882247Z",
     "start_time": "2022-03-29T16:19:47.851239Z"
    },
    "scrolled": true
   },
   "outputs": [
    {
     "data": {
      "text/plain": [
       "0        0.0\n",
       "12644    0.0\n",
       "12645    0.0\n",
       "12646    0.0\n",
       "12648    0.0\n",
       "        ... \n",
       "2126       ?\n",
       "8548       ?\n",
       "4776       ?\n",
       "15185      ?\n",
       "8565       ?\n",
       "Name: sqft_basement, Length: 21596, dtype: object"
      ]
     },
     "execution_count": 21,
     "metadata": {},
     "output_type": "execute_result"
    }
   ],
   "source": [
    "df.sqft_basement.sort_values()"
   ]
  },
  {
   "cell_type": "markdown",
   "metadata": {
    "ExecuteTime": {
     "end_time": "2022-03-29T00:09:18.368318Z",
     "start_time": "2022-03-29T00:09:18.351315Z"
    }
   },
   "source": [
    "sqft_basement is a list of strings that include some unknowns marked as '?'"
   ]
  },
  {
   "cell_type": "code",
   "execution_count": 22,
   "metadata": {
    "ExecuteTime": {
     "end_time": "2022-03-29T16:19:47.899932Z",
     "start_time": "2022-03-29T16:19:47.883247Z"
    }
   },
   "outputs": [],
   "source": [
    "df_subset_basement = df[df.sqft_basement !='?'] #drop records where sqft_basement is not '?'\n",
    "df_subset_basement.sqft_basement = df_subset_basement.sqft_basement.astype(float,)"
   ]
  },
  {
   "cell_type": "code",
   "execution_count": 23,
   "metadata": {
    "ExecuteTime": {
     "end_time": "2022-03-29T16:19:47.913891Z",
     "start_time": "2022-03-29T16:19:47.902889Z"
    }
   },
   "outputs": [
    {
     "data": {
      "text/plain": [
       "1.0"
      ]
     },
     "execution_count": 23,
     "metadata": {},
     "output_type": "execute_result"
    }
   ],
   "source": [
    "#check to see how much of the current sqft_basement (excluding '?') can be explained by (sqft_living-sqft_above)\n",
    "\n",
    "(df_subset_basement.sqft_living - df_subset_basement.sqft_above == df_subset_basement.sqft_basement).sum()/df_subset_basement.shape[0]"
   ]
  },
  {
   "cell_type": "markdown",
   "metadata": {},
   "source": [
    "turns out 100%. Fill na using this math"
   ]
  },
  {
   "cell_type": "code",
   "execution_count": 24,
   "metadata": {
    "ExecuteTime": {
     "end_time": "2022-03-29T16:19:47.929895Z",
     "start_time": "2022-03-29T16:19:47.916892Z"
    }
   },
   "outputs": [],
   "source": [
    "df['sqft_basement'] = df['sqft_living'] - df['sqft_above']"
   ]
  },
  {
   "cell_type": "code",
   "execution_count": 25,
   "metadata": {
    "ExecuteTime": {
     "end_time": "2022-03-29T16:19:47.976905Z",
     "start_time": "2022-03-29T16:19:47.931895Z"
    }
   },
   "outputs": [],
   "source": [
    "# Change view rating to a numeric value. Probably don't need it\n",
    "df['view'] = df['view'].map({'EXCELLENT':5,\n",
    "                             'GOOD':4,\n",
    "                             'AVERAGE':3,\n",
    "                             'FAIR':2,\n",
    "                             'NONE':1})\n",
    "\n",
    "# Change condition rating to a numeric value. Probably don't need it\n",
    "df['condition'] = df['condition'].map({'Very Good':5,\n",
    "                                       'Good':4,\n",
    "                                       'Average':3,\n",
    "                                       'Fair':2,\n",
    "                                       'Poor':1})\n",
    "\n",
    "# Changing grade to just the numeric value of the grade\n",
    "df['grade'] = df['grade'].str.split(' ').str[0].astype(int)"
   ]
  },
  {
   "cell_type": "code",
   "execution_count": 26,
   "metadata": {
    "ExecuteTime": {
     "end_time": "2022-03-29T16:19:47.992909Z",
     "start_time": "2022-03-29T16:19:47.978906Z"
    },
    "scrolled": false
   },
   "outputs": [
    {
     "name": "stdout",
     "output_type": "stream",
     "text": [
      "<class 'pandas.core.frame.DataFrame'>\n",
      "Int64Index: 21596 entries, 0 to 21596\n",
      "Data columns (total 20 columns):\n",
      " #   Column         Non-Null Count  Dtype  \n",
      "---  ------         --------------  -----  \n",
      " 0   date           21596 non-null  object \n",
      " 1   price          21596 non-null  float64\n",
      " 2   bedrooms       21596 non-null  int64  \n",
      " 3   bathrooms      21596 non-null  float64\n",
      " 4   sqft_living    21596 non-null  int64  \n",
      " 5   sqft_lot       21596 non-null  int64  \n",
      " 6   floors         21596 non-null  float64\n",
      " 7   waterfront     19220 non-null  object \n",
      " 8   view           21533 non-null  float64\n",
      " 9   condition      21596 non-null  int64  \n",
      " 10  grade          21596 non-null  int32  \n",
      " 11  sqft_above     21596 non-null  int64  \n",
      " 12  sqft_basement  21596 non-null  int64  \n",
      " 13  yr_built       21596 non-null  int64  \n",
      " 14  yr_renovated   17754 non-null  float64\n",
      " 15  zipcode        21596 non-null  int64  \n",
      " 16  lat            21596 non-null  float64\n",
      " 17  long           21596 non-null  float64\n",
      " 18  sqft_living15  21596 non-null  int64  \n",
      " 19  sqft_lot15     21596 non-null  int64  \n",
      "dtypes: float64(7), int32(1), int64(10), object(2)\n",
      "memory usage: 3.4+ MB\n"
     ]
    }
   ],
   "source": [
    "df.info()"
   ]
  },
  {
   "cell_type": "code",
   "execution_count": 27,
   "metadata": {
    "ExecuteTime": {
     "end_time": "2022-03-29T16:19:48.007912Z",
     "start_time": "2022-03-29T16:19:47.993909Z"
    }
   },
   "outputs": [
    {
     "name": "stdout",
     "output_type": "stream",
     "text": [
      "0.0029172068901648454\n"
     ]
    }
   ],
   "source": [
    "#The number of records where view is nan is 0.29% of the dataset. Hence dropped\n",
    "print(df.view.isna().sum() /df.shape[0])\n",
    "df.dropna(subset=['view'],inplace=True)"
   ]
  },
  {
   "cell_type": "markdown",
   "metadata": {},
   "source": [
    "## Analyzing Corelations"
   ]
  },
  {
   "cell_type": "code",
   "execution_count": 28,
   "metadata": {
    "ExecuteTime": {
     "end_time": "2022-03-29T16:19:48.037963Z",
     "start_time": "2022-03-29T16:19:48.009913Z"
    },
    "scrolled": false
   },
   "outputs": [
    {
     "data": {
      "text/plain": [
       "zipcode         -0.053626\n",
       "long             0.022428\n",
       "condition        0.035367\n",
       "yr_built         0.054284\n",
       "sqft_lot15       0.083194\n",
       "sqft_lot         0.090341\n",
       "yr_renovated     0.129890\n",
       "floors           0.257069\n",
       "lat              0.307863\n",
       "bedrooms         0.315236\n",
       "sqft_basement    0.321812\n",
       "view             0.395739\n",
       "bathrooms        0.525063\n",
       "sqft_living15    0.585329\n",
       "sqft_above       0.605719\n",
       "grade            0.668320\n",
       "sqft_living      0.701599\n",
       "price            1.000000\n",
       "Name: price, dtype: float64"
      ]
     },
     "execution_count": 28,
     "metadata": {},
     "output_type": "execute_result"
    }
   ],
   "source": [
    "df.corr().price.sort_values()"
   ]
  },
  {
   "cell_type": "markdown",
   "metadata": {
    "ExecuteTime": {
     "end_time": "2022-03-29T06:00:45.088970Z",
     "start_time": "2022-03-29T06:00:43.843600Z"
    }
   },
   "source": [
    "dropping yr_renovated . not enough records\n",
    "\n",
    "dropping yr_built, floors, date. Not enough correlation. Making predictions based on other columns\n",
    "\n",
    "keeping zipcode, lat, long for the purpose of potential visualizations"
   ]
  },
  {
   "cell_type": "code",
   "execution_count": 29,
   "metadata": {
    "ExecuteTime": {
     "end_time": "2022-03-29T16:19:48.053922Z",
     "start_time": "2022-03-29T16:19:48.040919Z"
    }
   },
   "outputs": [],
   "source": [
    "df = df.drop(columns = ['id','yr_renovated','yr_built','floors','date'],axis =1)"
   ]
  },
  {
   "cell_type": "code",
   "execution_count": 30,
   "metadata": {
    "ExecuteTime": {
     "end_time": "2022-03-29T16:19:49.806544Z",
     "start_time": "2022-03-29T16:19:48.054923Z"
    },
    "scrolled": false
   },
   "outputs": [
    {
     "data": {
      "image/png": "[encoded data removed]",
      "text/plain": [
       "<Figure size 1080x720 with 2 Axes>"
      ]
     },
     "metadata": {},
     "output_type": "display_data"
    }
   ],
   "source": [
    "# sns.heatmap(df.corr(),annot=True)\n",
    "with sns.axes_style(\"white\"):\n",
    "    f, ax = plt.subplots(figsize=(15, 10))\n",
    "    ax = sns.heatmap(abs(df.corr()),annot=True)"
   ]
  },
  {
   "cell_type": "markdown",
   "metadata": {},
   "source": [
    "Note the corelation between\n",
    "- sqft_living and sqft_above (because sqft_living = sqft_above + sqft_basement). In fact a lot of the sqft are highly corelated\n",
    "    - try feature engineering between them, or just pick 1 or 2\n",
    "- grade to sqft_living15, sqft_above\n",
    "- bathrooms to grade\n",
    "- grade and sqft_living has highest impact on target (price)"
   ]
  },
  {
   "cell_type": "code",
   "execution_count": 31,
   "metadata": {
    "ExecuteTime": {
     "end_time": "2022-03-29T16:19:49.821547Z",
     "start_time": "2022-03-29T16:19:49.808544Z"
    }
   },
   "outputs": [
    {
     "name": "stdout",
     "output_type": "stream",
     "text": [
      "<class 'pandas.core.frame.DataFrame'>\n",
      "Int64Index: 21533 entries, 0 to 21596\n",
      "Data columns (total 16 columns):\n",
      " #   Column         Non-Null Count  Dtype  \n",
      "---  ------         --------------  -----  \n",
      " 0   price          21533 non-null  float64\n",
      " 1   bedrooms       21533 non-null  int64  \n",
      " 2   bathrooms      21533 non-null  float64\n",
      " 3   sqft_living    21533 non-null  int64  \n",
      " 4   sqft_lot       21533 non-null  int64  \n",
      " 5   waterfront     19163 non-null  object \n",
      " 6   view           21533 non-null  float64\n",
      " 7   condition      21533 non-null  int64  \n",
      " 8   grade          21533 non-null  int32  \n",
      " 9   sqft_above     21533 non-null  int64  \n",
      " 10  sqft_basement  21533 non-null  int64  \n",
      " 11  zipcode        21533 non-null  int64  \n",
      " 12  lat            21533 non-null  float64\n",
      " 13  long           21533 non-null  float64\n",
      " 14  sqft_living15  21533 non-null  int64  \n",
      " 15  sqft_lot15     21533 non-null  int64  \n",
      "dtypes: float64(5), int32(1), int64(9), object(1)\n",
      "memory usage: 2.7+ MB\n"
     ]
    }
   ],
   "source": [
    "df.info()"
   ]
  },
  {
   "cell_type": "code",
   "execution_count": 32,
   "metadata": {
    "ExecuteTime": {
     "end_time": "2022-03-29T16:19:49.838579Z",
     "start_time": "2022-03-29T16:19:49.822548Z"
    },
    "scrolled": false
   },
   "outputs": [
    {
     "data": {
      "text/plain": [
       "price               0\n",
       "bedrooms            0\n",
       "bathrooms           0\n",
       "sqft_living         0\n",
       "sqft_lot            0\n",
       "waterfront       2370\n",
       "view                0\n",
       "condition           0\n",
       "grade               0\n",
       "sqft_above          0\n",
       "sqft_basement       0\n",
       "zipcode             0\n",
       "lat                 0\n",
       "long                0\n",
       "sqft_living15       0\n",
       "sqft_lot15          0\n",
       "dtype: int64"
      ]
     },
     "execution_count": 32,
     "metadata": {},
     "output_type": "execute_result"
    }
   ],
   "source": [
    "df.isna().sum()"
   ]
  },
  {
   "cell_type": "markdown",
   "metadata": {},
   "source": [
    "## Train Test split"
   ]
  },
  {
   "cell_type": "code",
   "execution_count": 34,
   "metadata": {
    "ExecuteTime": {
     "end_time": "2022-03-29T16:19:50.077626Z",
     "start_time": "2022-03-29T16:19:50.062601Z"
    }
   },
   "outputs": [],
   "source": [
    "# Define our X and y\n",
    "X = df.drop(columns='price')\n",
    "y = df['price']"
   ]
  },
  {
   "cell_type": "code",
   "execution_count": 35,
   "metadata": {
    "ExecuteTime": {
     "end_time": "2022-03-29T16:19:50.093608Z",
     "start_time": "2022-03-29T16:19:50.080605Z"
    }
   },
   "outputs": [],
   "source": [
    "# Train test split\n",
    "X_train, X_test, y_train, y_test = train_test_split(\n",
    "    X, y, test_size=0.30, random_state=42)"
   ]
  },
  {
   "cell_type": "markdown",
   "metadata": {},
   "source": [
    "## Models"
   ]
  },
  {
   "cell_type": "markdown",
   "metadata": {},
   "source": [
    "### Model 00. Dummy Regressor"
   ]
  },
  {
   "cell_type": "code",
   "execution_count": 36,
   "metadata": {
    "ExecuteTime": {
     "end_time": "2022-03-29T16:19:50.108612Z",
     "start_time": "2022-03-29T16:19:50.094608Z"
    }
   },
   "outputs": [],
   "source": [
    "dummy = DummyRegressor() #mean strategy"
   ]
  },
  {
   "cell_type": "code",
   "execution_count": 37,
   "metadata": {
    "ExecuteTime": {
     "end_time": "2022-03-29T16:19:50.124481Z",
     "start_time": "2022-03-29T16:19:50.110612Z"
    }
   },
   "outputs": [
    {
     "data": {
      "text/plain": [
       "DummyRegressor()"
      ]
     },
     "execution_count": 37,
     "metadata": {},
     "output_type": "execute_result"
    }
   ],
   "source": [
    "dummy.fit(X_train,y_train)"
   ]
  },
  {
   "cell_type": "code",
   "execution_count": 38,
   "metadata": {
    "ExecuteTime": {
     "end_time": "2022-03-29T16:19:50.141526Z",
     "start_time": "2022-03-29T16:19:50.126482Z"
    }
   },
   "outputs": [
    {
     "data": {
      "text/plain": [
       "0.0"
      ]
     },
     "execution_count": 38,
     "metadata": {},
     "output_type": "execute_result"
    }
   ],
   "source": [
    "dummy.score(X_train,y_train)"
   ]
  },
  {
   "cell_type": "code",
   "execution_count": 39,
   "metadata": {
    "ExecuteTime": {
     "end_time": "2022-03-29T16:19:50.156488Z",
     "start_time": "2022-03-29T16:19:50.149486Z"
    }
   },
   "outputs": [
    {
     "data": {
      "text/plain": [
       "-0.0009077283532201719"
      ]
     },
     "execution_count": 39,
     "metadata": {},
     "output_type": "execute_result"
    }
   ],
   "source": [
    "dummy.score(X_test,y_test)"
   ]
  },
  {
   "cell_type": "markdown",
   "metadata": {},
   "source": [
    "Dummy Regressor has a 0 R^2 score?"
   ]
  },
  {
   "cell_type": "markdown",
   "metadata": {},
   "source": [
    "### Model 0. Using highest corr coefficient feature: sqft_living"
   ]
  },
  {
   "cell_type": "code",
   "execution_count": 56,
   "metadata": {
    "ExecuteTime": {
     "end_time": "2022-03-29T16:22:38.216992Z",
     "start_time": "2022-03-29T16:22:38.190987Z"
    }
   },
   "outputs": [
    {
     "data": {
      "text/plain": [
       "sqft_living    0.701599\n",
       "price          1.000000\n",
       "Name: price, dtype: float64"
      ]
     },
     "execution_count": 56,
     "metadata": {},
     "output_type": "execute_result"
    }
   ],
   "source": [
    "df.corr().price.sort_values()[-2:]"
   ]
  },
  {
   "cell_type": "code",
   "execution_count": 57,
   "metadata": {
    "ExecuteTime": {
     "end_time": "2022-03-29T16:22:47.752793Z",
     "start_time": "2022-03-29T16:22:47.745791Z"
    }
   },
   "outputs": [],
   "source": [
    "cols = ['sqft_living']"
   ]
  },
  {
   "cell_type": "code",
   "execution_count": 58,
   "metadata": {
    "ExecuteTime": {
     "end_time": "2022-03-29T16:22:48.360807Z",
     "start_time": "2022-03-29T16:22:48.350805Z"
    }
   },
   "outputs": [],
   "source": [
    "X_train_subset = X_train[cols]\n",
    "X_test_subset = X_test[cols]"
   ]
  },
  {
   "cell_type": "code",
   "execution_count": 62,
   "metadata": {
    "ExecuteTime": {
     "end_time": "2022-03-29T16:29:36.414116Z",
     "start_time": "2022-03-29T16:29:36.390079Z"
    }
   },
   "outputs": [
    {
     "name": "stdout",
     "output_type": "stream",
     "text": [
      "Training Score: 0.4905573788963036\n",
      "Test Score: 0.49583152405969266\n"
     ]
    }
   ],
   "source": [
    "pipe = make_pipeline(StandardScaler(), LinearRegression())\n",
    "pipe.fit(X_train_subset, y_train) \n",
    "print(\"Training Score:\",pipe.score(X_train_subset, y_train))\n",
    "print(\"Test Score:\",pipe.score(X_test_subset, y_test))"
   ]
  },
  {
   "cell_type": "markdown",
   "metadata": {
    "ExecuteTime": {
     "end_time": "2022-03-29T16:23:11.564096Z",
     "start_time": "2022-03-29T16:23:11.559095Z"
    }
   },
   "source": [
    "Any chosen model should perform better than this"
   ]
  },
  {
   "cell_type": "markdown",
   "metadata": {
    "ExecuteTime": {
     "end_time": "2022-03-29T06:10:22.705829Z",
     "start_time": "2022-03-29T06:10:22.698828Z"
    }
   },
   "source": [
    "###  Model 1 : Sqft_living, grade"
   ]
  },
  {
   "cell_type": "markdown",
   "metadata": {},
   "source": [
    "Note: These should have a high colinearity. Just curious"
   ]
  },
  {
   "cell_type": "code",
   "execution_count": 64,
   "metadata": {
    "ExecuteTime": {
     "end_time": "2022-03-29T16:29:51.165404Z",
     "start_time": "2022-03-29T16:29:51.155402Z"
    }
   },
   "outputs": [],
   "source": [
    "cols = ['sqft_living','grade']"
   ]
  },
  {
   "cell_type": "code",
   "execution_count": 65,
   "metadata": {
    "ExecuteTime": {
     "end_time": "2022-03-29T16:29:51.541199Z",
     "start_time": "2022-03-29T16:29:51.537198Z"
    }
   },
   "outputs": [],
   "source": [
    "X_train_subset = X_train[cols]\n",
    "X_test_subset = X_test[cols]"
   ]
  },
  {
   "cell_type": "code",
   "execution_count": 66,
   "metadata": {
    "ExecuteTime": {
     "end_time": "2022-03-29T16:29:51.978095Z",
     "start_time": "2022-03-29T16:29:51.951090Z"
    }
   },
   "outputs": [
    {
     "name": "stdout",
     "output_type": "stream",
     "text": [
      "Training Score: 0.5340719478317577\n",
      "Test Score: 0.5360131874314007\n"
     ]
    }
   ],
   "source": [
    "pipe = make_pipeline(StandardScaler(), LinearRegression())\n",
    "pipe.fit(X_train_subset, y_train) \n",
    "print(\"Training Score:\",pipe.score(X_train_subset, y_train))\n",
    "print(\"Test Score:\",pipe.score(X_test_subset, y_test))"
   ]
  },
  {
   "cell_type": "markdown",
   "metadata": {},
   "source": [
    "### Model 2: Sqft_living/Sqft_living15, grade"
   ]
  },
  {
   "cell_type": "markdown",
   "metadata": {},
   "source": [
    "Feature engineering a ratio of living area to that of the neighborhood. Thinking: biggest house in the neighborhood is a good predicter"
   ]
  },
  {
   "cell_type": "code",
   "execution_count": 71,
   "metadata": {
    "ExecuteTime": {
     "end_time": "2022-03-29T16:34:27.961342Z",
     "start_time": "2022-03-29T16:34:27.950236Z"
    }
   },
   "outputs": [],
   "source": [
    "cols = ['sqft_living','sqft_living15','grade']"
   ]
  },
  {
   "cell_type": "code",
   "execution_count": 72,
   "metadata": {
    "ExecuteTime": {
     "end_time": "2022-03-29T16:34:28.660228Z",
     "start_time": "2022-03-29T16:34:28.655226Z"
    }
   },
   "outputs": [],
   "source": [
    "X_train_subset = X_train[cols]\n",
    "X_train_subset['sqft_living / sqft_living15'] = X_train_subset['sqft_living'] / X_train_subset['sqft_living15']\n",
    "X_train_subset.drop(columns = ['sqft_living', 'sqft_living15'],inplace = True)"
   ]
  },
  {
   "cell_type": "code",
   "execution_count": 73,
   "metadata": {
    "ExecuteTime": {
     "end_time": "2022-03-29T16:34:29.158227Z",
     "start_time": "2022-03-29T16:34:29.142223Z"
    }
   },
   "outputs": [],
   "source": [
    "X_test_subset = X_test[cols]\n",
    "X_test_subset['sqft_living / sqft_living15'] = X_test_subset['sqft_living'] / X_test_subset['sqft_living15']\n",
    "X_test_subset.drop(columns = ['sqft_living', 'sqft_living15'],inplace = True)"
   ]
  },
  {
   "cell_type": "code",
   "execution_count": 74,
   "metadata": {
    "ExecuteTime": {
     "end_time": "2022-03-29T16:35:36.186059Z",
     "start_time": "2022-03-29T16:35:36.167056Z"
    },
    "scrolled": true
   },
   "outputs": [
    {
     "name": "stdout",
     "output_type": "stream",
     "text": [
      "Training Score: 0.4615350734798367\n",
      "Test Score: 0.4568798474890984\n"
     ]
    }
   ],
   "source": [
    "pipe = make_pipeline(StandardScaler(), LinearRegression())\n",
    "pipe.fit(X_train_subset, y_train) \n",
    "print(\"Training Score:\",pipe.score(X_train_subset, y_train))\n",
    "print(\"Test Score:\",pipe.score(X_test_subset, y_test))"
   ]
  },
  {
   "cell_type": "markdown",
   "metadata": {},
   "source": [
    "yeesh"
   ]
  },
  {
   "cell_type": "markdown",
   "metadata": {},
   "source": [
    "### Model 3: Sqft_living, Sqft_lot"
   ]
  },
  {
   "cell_type": "markdown",
   "metadata": {},
   "source": [
    "Trying variations of Sqft_living and Sqft_lot\n",
    "Thinking: Either individually, an addition or a ratio of the living/lot might be a good predicter"
   ]
  },
  {
   "cell_type": "code",
   "execution_count": 78,
   "metadata": {
    "ExecuteTime": {
     "end_time": "2022-03-29T16:37:35.575929Z",
     "start_time": "2022-03-29T16:37:35.573928Z"
    }
   },
   "outputs": [],
   "source": [
    "cols = ['sqft_living','sqft_lot']"
   ]
  },
  {
   "cell_type": "code",
   "execution_count": 79,
   "metadata": {
    "ExecuteTime": {
     "end_time": "2022-03-29T16:37:36.435537Z",
     "start_time": "2022-03-29T16:37:36.422499Z"
    }
   },
   "outputs": [],
   "source": [
    "X_train_subset = X_train[cols]\n",
    "X_test_subset = X_test[cols]"
   ]
  },
  {
   "cell_type": "code",
   "execution_count": 80,
   "metadata": {
    "ExecuteTime": {
     "end_time": "2022-03-29T16:37:37.101312Z",
     "start_time": "2022-03-29T16:37:37.083309Z"
    },
    "scrolled": false
   },
   "outputs": [
    {
     "name": "stdout",
     "output_type": "stream",
     "text": [
      "Training Score: 0.492049768137209\n",
      "Test Score: 0.4954390341075747\n"
     ]
    }
   ],
   "source": [
    "pipe = make_pipeline(StandardScaler(), LinearRegression())\n",
    "pipe.fit(X_train_subset, y_train) \n",
    "print(\"Training Score:\",pipe.score(X_train_subset, y_train))\n",
    "print(\"Test Score:\",pipe.score(X_test_subset, y_test))"
   ]
  },
  {
   "cell_type": "markdown",
   "metadata": {},
   "source": [
    "probably also has high multicolinarity. Also, not much better than Model 0"
   ]
  },
  {
   "cell_type": "markdown",
   "metadata": {},
   "source": [
    "### Model 3a: Sqft_living + Sqft_lot, grade"
   ]
  },
  {
   "cell_type": "code",
   "execution_count": 91,
   "metadata": {
    "ExecuteTime": {
     "end_time": "2022-03-29T16:39:11.877232Z",
     "start_time": "2022-03-29T16:39:11.870233Z"
    }
   },
   "outputs": [],
   "source": [
    "cols = ['sqft_living','sqft_lot','grade']"
   ]
  },
  {
   "cell_type": "code",
   "execution_count": 92,
   "metadata": {
    "ExecuteTime": {
     "end_time": "2022-03-29T16:39:12.144849Z",
     "start_time": "2022-03-29T16:39:12.136846Z"
    }
   },
   "outputs": [],
   "source": [
    "X_train_subset = X_train[cols]\n",
    "X_train_subset['sqft_living + sqft_lot'] = X_train_subset['sqft_living'] + X_train_subset['sqft_lot']\n",
    "X_train_subset.drop(columns = ['sqft_living', 'sqft_lot'],inplace = True)"
   ]
  },
  {
   "cell_type": "code",
   "execution_count": 93,
   "metadata": {
    "ExecuteTime": {
     "end_time": "2022-03-29T16:39:13.204054Z",
     "start_time": "2022-03-29T16:39:13.191051Z"
    }
   },
   "outputs": [],
   "source": [
    "X_test_subset = X_test[cols]\n",
    "X_test_subset['sqft_living + sqft_lot'] = X_test_subset['sqft_living'] + X_test_subset['sqft_lot']\n",
    "X_test_subset.drop(columns = ['sqft_living', 'sqft_lot'],inplace = True)"
   ]
  },
  {
   "cell_type": "code",
   "execution_count": 94,
   "metadata": {
    "ExecuteTime": {
     "end_time": "2022-03-29T16:39:13.672961Z",
     "start_time": "2022-03-29T16:39:13.653958Z"
    },
    "scrolled": true
   },
   "outputs": [
    {
     "name": "stdout",
     "output_type": "stream",
     "text": [
      "Training Score: 0.4480908124949592\n",
      "Test Score: 0.443878395153508\n"
     ]
    }
   ],
   "source": [
    "pipe = make_pipeline(StandardScaler(), LinearRegression())\n",
    "pipe.fit(X_train_subset, y_train) \n",
    "print(\"Training Score:\",pipe.score(X_train_subset, y_train))\n",
    "print(\"Test Score:\",pipe.score(X_test_subset, y_test))"
   ]
  },
  {
   "cell_type": "markdown",
   "metadata": {},
   "source": [
    "blech"
   ]
  },
  {
   "cell_type": "markdown",
   "metadata": {},
   "source": [
    "### Model 4: View, Waterfront, Grade"
   ]
  },
  {
   "cell_type": "markdown",
   "metadata": {},
   "source": [
    "Something different. No square footage. Based on view, waterfront, grade. Will require little more work, since waterfront has a bunch of nulls"
   ]
  },
  {
   "cell_type": "code",
   "execution_count": 101,
   "metadata": {
    "ExecuteTime": {
     "end_time": "2022-03-29T16:41:30.702963Z",
     "start_time": "2022-03-29T16:41:30.696963Z"
    }
   },
   "outputs": [],
   "source": [
    "cols = ['view','waterfront','grade']"
   ]
  },
  {
   "cell_type": "code",
   "execution_count": 102,
   "metadata": {
    "ExecuteTime": {
     "end_time": "2022-03-29T16:41:30.970556Z",
     "start_time": "2022-03-29T16:41:30.958554Z"
    },
    "scrolled": true
   },
   "outputs": [
    {
     "data": {
      "text/plain": [
       "0.1100636232759021"
      ]
     },
     "execution_count": 102,
     "metadata": {},
     "output_type": "execute_result"
    }
   ],
   "source": [
    "df['waterfront'].isna().sum()/df.shape[0]"
   ]
  },
  {
   "cell_type": "markdown",
   "metadata": {},
   "source": [
    "11% of data in original data set is empty for water front. Dropping these for this particular model and re running train/test split"
   ]
  },
  {
   "cell_type": "code",
   "execution_count": 104,
   "metadata": {
    "ExecuteTime": {
     "end_time": "2022-03-29T16:41:39.335089Z",
     "start_time": "2022-03-29T16:41:39.310083Z"
    }
   },
   "outputs": [
    {
     "data": {
      "text/html": [
       "<div>\n",
       "<style scoped>\n",
       "    .dataframe tbody tr th:only-of-type {\n",
       "        vertical-align: middle;\n",
       "    }\n",
       "\n",
       "    .dataframe tbody tr th {\n",
       "        vertical-align: top;\n",
       "    }\n",
       "\n",
       "    .dataframe thead th {\n",
       "        text-align: right;\n",
       "    }\n",
       "</style>\n",
       "<table border=\"1\" class=\"dataframe\">\n",
       "  <thead>\n",
       "    <tr style=\"text-align: right;\">\n",
       "      <th></th>\n",
       "      <th>price</th>\n",
       "      <th>bedrooms</th>\n",
       "      <th>bathrooms</th>\n",
       "      <th>sqft_living</th>\n",
       "      <th>sqft_lot</th>\n",
       "      <th>waterfront</th>\n",
       "      <th>view</th>\n",
       "      <th>condition</th>\n",
       "      <th>grade</th>\n",
       "      <th>sqft_above</th>\n",
       "      <th>sqft_basement</th>\n",
       "      <th>zipcode</th>\n",
       "      <th>lat</th>\n",
       "      <th>long</th>\n",
       "      <th>sqft_living15</th>\n",
       "      <th>sqft_lot15</th>\n",
       "    </tr>\n",
       "  </thead>\n",
       "  <tbody>\n",
       "    <tr>\n",
       "      <th>1</th>\n",
       "      <td>538000.0</td>\n",
       "      <td>3</td>\n",
       "      <td>2.25</td>\n",
       "      <td>2570</td>\n",
       "      <td>7242</td>\n",
       "      <td>NO</td>\n",
       "      <td>1.0</td>\n",
       "      <td>3</td>\n",
       "      <td>7</td>\n",
       "      <td>2170</td>\n",
       "      <td>400</td>\n",
       "      <td>98125</td>\n",
       "      <td>47.7210</td>\n",
       "      <td>-122.319</td>\n",
       "      <td>1690</td>\n",
       "      <td>7639</td>\n",
       "    </tr>\n",
       "    <tr>\n",
       "      <th>2</th>\n",
       "      <td>180000.0</td>\n",
       "      <td>2</td>\n",
       "      <td>1.00</td>\n",
       "      <td>770</td>\n",
       "      <td>10000</td>\n",
       "      <td>NO</td>\n",
       "      <td>1.0</td>\n",
       "      <td>3</td>\n",
       "      <td>6</td>\n",
       "      <td>770</td>\n",
       "      <td>0</td>\n",
       "      <td>98028</td>\n",
       "      <td>47.7379</td>\n",
       "      <td>-122.233</td>\n",
       "      <td>2720</td>\n",
       "      <td>8062</td>\n",
       "    </tr>\n",
       "    <tr>\n",
       "      <th>3</th>\n",
       "      <td>604000.0</td>\n",
       "      <td>4</td>\n",
       "      <td>3.00</td>\n",
       "      <td>1960</td>\n",
       "      <td>5000</td>\n",
       "      <td>NO</td>\n",
       "      <td>1.0</td>\n",
       "      <td>5</td>\n",
       "      <td>7</td>\n",
       "      <td>1050</td>\n",
       "      <td>910</td>\n",
       "      <td>98136</td>\n",
       "      <td>47.5208</td>\n",
       "      <td>-122.393</td>\n",
       "      <td>1360</td>\n",
       "      <td>5000</td>\n",
       "    </tr>\n",
       "    <tr>\n",
       "      <th>4</th>\n",
       "      <td>510000.0</td>\n",
       "      <td>3</td>\n",
       "      <td>2.00</td>\n",
       "      <td>1680</td>\n",
       "      <td>8080</td>\n",
       "      <td>NO</td>\n",
       "      <td>1.0</td>\n",
       "      <td>3</td>\n",
       "      <td>8</td>\n",
       "      <td>1680</td>\n",
       "      <td>0</td>\n",
       "      <td>98074</td>\n",
       "      <td>47.6168</td>\n",
       "      <td>-122.045</td>\n",
       "      <td>1800</td>\n",
       "      <td>7503</td>\n",
       "    </tr>\n",
       "    <tr>\n",
       "      <th>5</th>\n",
       "      <td>1230000.0</td>\n",
       "      <td>4</td>\n",
       "      <td>4.50</td>\n",
       "      <td>5420</td>\n",
       "      <td>101930</td>\n",
       "      <td>NO</td>\n",
       "      <td>1.0</td>\n",
       "      <td>3</td>\n",
       "      <td>11</td>\n",
       "      <td>3890</td>\n",
       "      <td>1530</td>\n",
       "      <td>98053</td>\n",
       "      <td>47.6561</td>\n",
       "      <td>-122.005</td>\n",
       "      <td>4760</td>\n",
       "      <td>101930</td>\n",
       "    </tr>\n",
       "  </tbody>\n",
       "</table>\n",
       "</div>"
      ],
      "text/plain": [
       "       price  bedrooms  bathrooms  sqft_living  sqft_lot waterfront  view  \\\n",
       "1   538000.0         3       2.25         2570      7242         NO   1.0   \n",
       "2   180000.0         2       1.00          770     10000         NO   1.0   \n",
       "3   604000.0         4       3.00         1960      5000         NO   1.0   \n",
       "4   510000.0         3       2.00         1680      8080         NO   1.0   \n",
       "5  1230000.0         4       4.50         5420    101930         NO   1.0   \n",
       "\n",
       "   condition  grade  sqft_above  sqft_basement  zipcode      lat     long  \\\n",
       "1          3      7        2170            400    98125  47.7210 -122.319   \n",
       "2          3      6         770              0    98028  47.7379 -122.233   \n",
       "3          5      7        1050            910    98136  47.5208 -122.393   \n",
       "4          3      8        1680              0    98074  47.6168 -122.045   \n",
       "5          3     11        3890           1530    98053  47.6561 -122.005   \n",
       "\n",
       "   sqft_living15  sqft_lot15  \n",
       "1           1690        7639  \n",
       "2           2720        8062  \n",
       "3           1360        5000  \n",
       "4           1800        7503  \n",
       "5           4760      101930  "
      ]
     },
     "execution_count": 104,
     "metadata": {},
     "output_type": "execute_result"
    }
   ],
   "source": [
    "df_waterfront_model = df.dropna(subset=['waterfront'])\n",
    "df_waterfront_model.head()"
   ]
  },
  {
   "cell_type": "code",
   "execution_count": 105,
   "metadata": {
    "ExecuteTime": {
     "end_time": "2022-03-29T16:41:55.316938Z",
     "start_time": "2022-03-29T16:41:55.293933Z"
    }
   },
   "outputs": [],
   "source": [
    "# Train test split\n",
    "X_train_waterfront, X_test_waterfront, y_train_waterfront, y_test_waterfront = train_test_split(\n",
    "    df_waterfront_model.drop(columns='price'), \n",
    "    df_waterfront_model['price'], \n",
    "    test_size=0.25, \n",
    "    random_state=42)"
   ]
  },
  {
   "cell_type": "code",
   "execution_count": 106,
   "metadata": {
    "ExecuteTime": {
     "end_time": "2022-03-29T16:42:41.335679Z",
     "start_time": "2022-03-29T16:42:41.318684Z"
    }
   },
   "outputs": [],
   "source": [
    "#Going to use Ordinal Encoder to transform waterfront\n",
    "\n",
    "# (1) (Use double brackets [[]] to get the appropriate shape)\n",
    "waterfront_train = X_train_waterfront[['waterfront']]\n",
    "\n",
    "# (2) Instantiate an OrdinalEncoder\n",
    "encoder_waterfront = OrdinalEncoder()\n",
    "\n",
    "# (3) Fit the encoder on street_train\n",
    "encoder_waterfront.fit(waterfront_train)\n",
    "\n",
    "# (4) Transform street_train using the encoder and\n",
    "# assign the result to street_encoded_train\n",
    "waterfront_encoded_train = encoder_waterfront.transform(waterfront_train).flatten()\n",
    "\n",
    "waterfront_test = X_test_waterfront[['waterfront']]\n",
    "waterfront_encoded_test = encoder_waterfront.transform(waterfront_test).flatten()\n",
    "\n",
    "X_train_waterfront['waterfront'] = waterfront_encoded_train\n",
    "X_test_waterfront['waterfront'] = waterfront_encoded_test\n"
   ]
  },
  {
   "cell_type": "code",
   "execution_count": 107,
   "metadata": {
    "ExecuteTime": {
     "end_time": "2022-03-29T16:43:18.500003Z",
     "start_time": "2022-03-29T16:43:18.487000Z"
    }
   },
   "outputs": [],
   "source": [
    "X_train_subset = X_train_waterfront[cols]\n",
    "X_test_subset = X_test_waterfront[cols]"
   ]
  },
  {
   "cell_type": "code",
   "execution_count": 109,
   "metadata": {
    "ExecuteTime": {
     "end_time": "2022-03-29T16:44:37.579749Z",
     "start_time": "2022-03-29T16:44:37.566747Z"
    },
    "scrolled": false
   },
   "outputs": [
    {
     "name": "stdout",
     "output_type": "stream",
     "text": [
      "Training Score: 0.5148790539188103\n",
      "Test Score: 0.5298641528517465\n"
     ]
    }
   ],
   "source": [
    "#NOTE: Cannot use y_train and y_test here.  Use waterfront!\n",
    "\n",
    "pipe = make_pipeline(StandardScaler(), LinearRegression())\n",
    "pipe.fit(X_train_subset, y_train_waterfront) \n",
    "print(\"Training Score:\",pipe.score(X_train_subset, y_train_waterfront))\n",
    "print(\"Test Score:\",pipe.score(X_test_subset, y_test_waterfront))"
   ]
  },
  {
   "cell_type": "markdown",
   "metadata": {},
   "source": [
    "Better, but meh. Marginally better than Model 0"
   ]
  },
  {
   "cell_type": "markdown",
   "metadata": {},
   "source": [
    "### Model 5: Bedroom, Bathroom, sqft_living"
   ]
  },
  {
   "cell_type": "markdown",
   "metadata": {},
   "source": [
    "ok. ignoring square footage probably not a good idea. Using room counts as a predicter"
   ]
  },
  {
   "cell_type": "code",
   "execution_count": 136,
   "metadata": {
    "ExecuteTime": {
     "end_time": "2022-03-29T16:49:25.532525Z",
     "start_time": "2022-03-29T16:49:25.519525Z"
    }
   },
   "outputs": [],
   "source": [
    "cols = ['bedrooms','bathrooms','sqft_living']"
   ]
  },
  {
   "cell_type": "code",
   "execution_count": 137,
   "metadata": {
    "ExecuteTime": {
     "end_time": "2022-03-29T16:49:26.491494Z",
     "start_time": "2022-03-29T16:49:26.477490Z"
    }
   },
   "outputs": [],
   "source": [
    "X_train_subset = X_train[cols]\n",
    "X_test_subset = X_test[cols]"
   ]
  },
  {
   "cell_type": "code",
   "execution_count": 138,
   "metadata": {
    "ExecuteTime": {
     "end_time": "2022-03-29T16:49:26.727489Z",
     "start_time": "2022-03-29T16:49:26.709487Z"
    },
    "scrolled": false
   },
   "outputs": [
    {
     "name": "stdout",
     "output_type": "stream",
     "text": [
      "Training Score: 0.5069510092368094\n",
      "Test Score: 0.5100687713895246\n"
     ]
    }
   ],
   "source": [
    "pipe = make_pipeline(StandardScaler(), LinearRegression())\n",
    "pipe.fit(X_train_subset, y_train) \n",
    "print(\"Training Score:\",pipe.score(X_train_subset, y_train))\n",
    "print(\"Test Score:\",pipe.score(X_test_subset, y_test))"
   ]
  },
  {
   "cell_type": "markdown",
   "metadata": {},
   "source": [
    "### Model 6a: Bedroom, Bathroom, sqft_living, grade"
   ]
  },
  {
   "cell_type": "code",
   "execution_count": 141,
   "metadata": {
    "ExecuteTime": {
     "end_time": "2022-03-29T16:49:50.179552Z",
     "start_time": "2022-03-29T16:49:50.165549Z"
    }
   },
   "outputs": [],
   "source": [
    "cols = ['bedrooms','bathrooms','sqft_living','grade']"
   ]
  },
  {
   "cell_type": "code",
   "execution_count": 142,
   "metadata": {
    "ExecuteTime": {
     "end_time": "2022-03-29T16:49:50.602708Z",
     "start_time": "2022-03-29T16:49:50.597707Z"
    }
   },
   "outputs": [],
   "source": [
    "X_train_subset = X_train[cols]\n",
    "X_test_subset = X_test[cols]"
   ]
  },
  {
   "cell_type": "code",
   "execution_count": 143,
   "metadata": {
    "ExecuteTime": {
     "end_time": "2022-03-29T16:49:52.659891Z",
     "start_time": "2022-03-29T16:49:52.637846Z"
    },
    "scrolled": true
   },
   "outputs": [
    {
     "name": "stdout",
     "output_type": "stream",
     "text": [
      "Training Score: 0.5437295802021231\n",
      "Test Score: 0.5458050736113481\n"
     ]
    }
   ],
   "source": [
    "pipe = make_pipeline(StandardScaler(), LinearRegression())\n",
    "pipe.fit(X_train_subset, y_train) \n",
    "print(\"Training Score:\",pipe.score(X_train_subset, y_train))\n",
    "print(\"Test Score:\",pipe.score(X_test_subset, y_test))"
   ]
  },
  {
   "cell_type": "markdown",
   "metadata": {},
   "source": [
    "Hmmm... Including sqft_living AND grade increased scores. But their corelation is high. Probably high multicolinearity. Check a few more models"
   ]
  },
  {
   "cell_type": "markdown",
   "metadata": {},
   "source": [
    "### Model 6b: Bedroom/Bathroom, sqft_living, grade"
   ]
  },
  {
   "cell_type": "markdown",
   "metadata": {},
   "source": [
    "Slight feature engineering. Ratio of bedrooms to bathrooms"
   ]
  },
  {
   "cell_type": "code",
   "execution_count": 158,
   "metadata": {
    "ExecuteTime": {
     "end_time": "2022-03-29T16:56:36.530636Z",
     "start_time": "2022-03-29T16:56:36.521633Z"
    }
   },
   "outputs": [],
   "source": [
    "cols = ['bedrooms','bathrooms','sqft_living','grade']"
   ]
  },
  {
   "cell_type": "code",
   "execution_count": 159,
   "metadata": {
    "ExecuteTime": {
     "end_time": "2022-03-29T16:56:36.797754Z",
     "start_time": "2022-03-29T16:56:36.788752Z"
    }
   },
   "outputs": [],
   "source": [
    "X_train_subset = X_train[cols]\n",
    "X_test_subset = X_test[cols]\n",
    "\n",
    "X_train_subset['bedrooms/bathrooms'] = X_train_subset['bedrooms']/X_train_subset['bathrooms']\n",
    "X_test_subset['bedrooms/bathrooms'] = X_test_subset['bedrooms']/X_test_subset['bathrooms']\n",
    "\n",
    "X_train_subset.drop(columns = ['bedrooms','bathrooms'],inplace = True)\n",
    "X_test_subset.drop(columns = ['bedrooms','bathrooms'],inplace = True)"
   ]
  },
  {
   "cell_type": "code",
   "execution_count": 160,
   "metadata": {
    "ExecuteTime": {
     "end_time": "2022-03-29T16:56:37.497311Z",
     "start_time": "2022-03-29T16:56:37.477308Z"
    },
    "scrolled": true
   },
   "outputs": [
    {
     "name": "stdout",
     "output_type": "stream",
     "text": [
      "Training Score: 0.5347960565349933\n",
      "Test Score: 0.5371075750878966\n"
     ]
    }
   ],
   "source": [
    "pipe = make_pipeline(StandardScaler(), LinearRegression())\n",
    "pipe.fit(X_train_subset, y_train) \n",
    "print(\"Training Score:\",pipe.score(X_train_subset, y_train))\n",
    "print(\"Test Score:\",pipe.score(X_test_subset, y_test))"
   ]
  },
  {
   "cell_type": "markdown",
   "metadata": {},
   "source": [
    "Not that much better"
   ]
  },
  {
   "cell_type": "markdown",
   "metadata": {},
   "source": [
    "## Ze Kitchen Sink"
   ]
  },
  {
   "cell_type": "code",
   "execution_count": 173,
   "metadata": {
    "ExecuteTime": {
     "end_time": "2022-03-29T17:17:19.661630Z",
     "start_time": "2022-03-29T17:17:19.484996Z"
    },
    "scrolled": true
   },
   "outputs": [
    {
     "data": {
      "text/plain": [
       "<matplotlib.collections.PathCollection at 0x202c8cf5c40>"
      ]
     },
     "execution_count": 173,
     "metadata": {},
     "output_type": "execute_result"
    },
    {
     "data": {
      "image/png": "[encoded data removed]",
      "text/plain": [
       "<Figure size 432x288 with 1 Axes>"
      ]
     },
     "metadata": {
      "needs_background": "light"
     },
     "output_type": "display_data"
    }
   ],
   "source": [
    "fig, ax = plt.subplots()\n",
    "ax.scatter(df['zipcode'],df['price'])"
   ]
  },
  {
   "cell_type": "markdown",
   "metadata": {},
   "source": [
    "If considering zip code, I think it should be considered as a categorical"
   ]
  },
  {
   "cell_type": "markdown",
   "metadata": {},
   "source": [
    "### Model 7a: zipcode included, still as a value"
   ]
  },
  {
   "cell_type": "markdown",
   "metadata": {},
   "source": [
    "Feel like zipcode should be considered a categorical. Its like the name of a neighborhood. Trying it as a value  first"
   ]
  },
  {
   "cell_type": "code",
   "execution_count": 152,
   "metadata": {
    "ExecuteTime": {
     "end_time": "2022-03-29T16:54:57.946285Z",
     "start_time": "2022-03-29T16:54:57.925280Z"
    },
    "scrolled": true
   },
   "outputs": [
    {
     "data": {
      "text/html": [
       "<div>\n",
       "<style scoped>\n",
       "    .dataframe tbody tr th:only-of-type {\n",
       "        vertical-align: middle;\n",
       "    }\n",
       "\n",
       "    .dataframe tbody tr th {\n",
       "        vertical-align: top;\n",
       "    }\n",
       "\n",
       "    .dataframe thead th {\n",
       "        text-align: right;\n",
       "    }\n",
       "</style>\n",
       "<table border=\"1\" class=\"dataframe\">\n",
       "  <thead>\n",
       "    <tr style=\"text-align: right;\">\n",
       "      <th></th>\n",
       "      <th>price</th>\n",
       "      <th>bedrooms</th>\n",
       "      <th>bathrooms</th>\n",
       "      <th>sqft_living</th>\n",
       "      <th>sqft_lot</th>\n",
       "      <th>waterfront</th>\n",
       "      <th>view</th>\n",
       "      <th>condition</th>\n",
       "      <th>grade</th>\n",
       "      <th>sqft_above</th>\n",
       "      <th>sqft_basement</th>\n",
       "      <th>zipcode</th>\n",
       "      <th>lat</th>\n",
       "      <th>long</th>\n",
       "      <th>sqft_living15</th>\n",
       "      <th>sqft_lot15</th>\n",
       "    </tr>\n",
       "  </thead>\n",
       "  <tbody>\n",
       "    <tr>\n",
       "      <th>0</th>\n",
       "      <td>221900.0</td>\n",
       "      <td>3</td>\n",
       "      <td>1.0</td>\n",
       "      <td>1180</td>\n",
       "      <td>5650</td>\n",
       "      <td>NaN</td>\n",
       "      <td>1.0</td>\n",
       "      <td>3</td>\n",
       "      <td>7</td>\n",
       "      <td>1180</td>\n",
       "      <td>0</td>\n",
       "      <td>98178</td>\n",
       "      <td>47.5112</td>\n",
       "      <td>-122.257</td>\n",
       "      <td>1340</td>\n",
       "      <td>5650</td>\n",
       "    </tr>\n",
       "  </tbody>\n",
       "</table>\n",
       "</div>"
      ],
      "text/plain": [
       "      price  bedrooms  bathrooms  sqft_living  sqft_lot waterfront  view  \\\n",
       "0  221900.0         3        1.0         1180      5650        NaN   1.0   \n",
       "\n",
       "   condition  grade  sqft_above  sqft_basement  zipcode      lat     long  \\\n",
       "0          3      7        1180              0    98178  47.5112 -122.257   \n",
       "\n",
       "   sqft_living15  sqft_lot15  \n",
       "0           1340        5650  "
      ]
     },
     "execution_count": 152,
     "metadata": {},
     "output_type": "execute_result"
    }
   ],
   "source": [
    "df.head(1)"
   ]
  },
  {
   "cell_type": "code",
   "execution_count": 161,
   "metadata": {
    "ExecuteTime": {
     "end_time": "2022-03-29T16:57:03.323765Z",
     "start_time": "2022-03-29T16:57:03.309764Z"
    }
   },
   "outputs": [],
   "source": [
    "cols = ['bedrooms','bathrooms','sqft_living','condition','zipcode']"
   ]
  },
  {
   "cell_type": "code",
   "execution_count": 162,
   "metadata": {
    "ExecuteTime": {
     "end_time": "2022-03-29T16:57:03.994512Z",
     "start_time": "2022-03-29T16:57:03.981509Z"
    }
   },
   "outputs": [],
   "source": [
    "X_train_subset = X_train[cols]\n",
    "X_test_subset = X_test[cols]"
   ]
  },
  {
   "cell_type": "code",
   "execution_count": 163,
   "metadata": {
    "ExecuteTime": {
     "end_time": "2022-03-29T16:57:05.135765Z",
     "start_time": "2022-03-29T16:57:05.112773Z"
    },
    "scrolled": true
   },
   "outputs": [
    {
     "name": "stdout",
     "output_type": "stream",
     "text": [
      "Training Score: 0.5221279613417303\n",
      "Test Score: 0.5252101045097386\n"
     ]
    }
   ],
   "source": [
    "pipe = make_pipeline(StandardScaler(), LinearRegression())\n",
    "pipe.fit(X_train_subset, y_train) \n",
    "print(\"Training Score:\",pipe.score(X_train_subset, y_train))\n",
    "print(\"Test Score:\",pipe.score(X_test_subset, y_test))"
   ]
  },
  {
   "cell_type": "markdown",
   "metadata": {},
   "source": [
    "### Model 7b: zipcode included, as a categorical"
   ]
  },
  {
   "cell_type": "code",
   "execution_count": 170,
   "metadata": {
    "ExecuteTime": {
     "end_time": "2022-03-29T17:02:12.238634Z",
     "start_time": "2022-03-29T17:02:12.228632Z"
    }
   },
   "outputs": [],
   "source": [
    "cols = ['bedrooms','bathrooms','sqft_living','view','condition','zipcode']\n",
    "X_train_subset = X_train[cols]\n",
    "X_test_subset = X_test[cols]"
   ]
  },
  {
   "cell_type": "code",
   "execution_count": 171,
   "metadata": {
    "ExecuteTime": {
     "end_time": "2022-03-29T17:02:12.626564Z",
     "start_time": "2022-03-29T17:02:12.581553Z"
    }
   },
   "outputs": [],
   "source": [
    "# Because the number of columns in the encoded matrix, is high, the output has to be made explicitly .toarray() or .todense()\n",
    "\n",
    "encoder = OneHotEncoder(handle_unknown='error',\n",
    "                        drop='first',\n",
    "                        categories='auto')\n",
    "\n",
    "catcols = ['zipcode']\n",
    "ct = ColumnTransformer(transformers=[('ohe', encoder, catcols)],\n",
    "                       remainder='passthrough')\n",
    "\n",
    "\n",
    "\n",
    "ct.fit(X_train_subset)\n",
    "X_train_enc = ct.transform(X_train_subset).todense()\n",
    "X_test_enc = ct.transform(X_test_subset).todense()"
   ]
  },
  {
   "cell_type": "code",
   "execution_count": 172,
   "metadata": {
    "ExecuteTime": {
     "end_time": "2022-03-29T17:02:13.593127Z",
     "start_time": "2022-03-29T17:02:13.493106Z"
    },
    "scrolled": false
   },
   "outputs": [
    {
     "name": "stdout",
     "output_type": "stream",
     "text": [
      "Training Score: 0.7716774865180858\n",
      "Test Score: 0.766401462813862\n"
     ]
    }
   ],
   "source": [
    "#USE encoded training and test  sets here!\n",
    "\n",
    "pipe = make_pipeline(StandardScaler(), LinearRegression())\n",
    "pipe.fit(X_train_enc, y_train) \n",
    "print(\"Training Score:\",pipe.score(X_train_enc, y_train))\n",
    "print(\"Test Score:\",pipe.score(X_test_enc, y_test))"
   ]
  },
  {
   "cell_type": "markdown",
   "metadata": {},
   "source": [
    "PROMISING! \n",
    "\n",
    "$_{only~thing~so~far}$"
   ]
  },
  {
   "cell_type": "markdown",
   "metadata": {},
   "source": [
    "## Deepdive in Model 7b"
   ]
  },
  {
   "cell_type": "markdown",
   "metadata": {},
   "source": [
    "Get all the necessary variables (R^2, Condition No, p-values, coeffiencts, intercept, MAE, RMSE)"
   ]
  },
  {
   "cell_type": "markdown",
   "metadata": {},
   "source": [
    "### First a sanity check. Manual Run of methods"
   ]
  },
  {
   "cell_type": "markdown",
   "metadata": {},
   "source": [
    "OneHotEncoder already applied"
   ]
  },
  {
   "cell_type": "code",
   "execution_count": 186,
   "metadata": {
    "ExecuteTime": {
     "end_time": "2022-03-29T17:42:05.669014Z",
     "start_time": "2022-03-29T17:42:05.630006Z"
    }
   },
   "outputs": [],
   "source": [
    "#Scale\n",
    "scaler = StandardScaler()\n",
    "scaler.fit(X_train_enc,y_train)\n",
    "\n",
    "X_train_scaled = scaler.transform(X_train_enc)\n",
    "X_test_scaled = scaler.transform(X_test_enc)"
   ]
  },
  {
   "cell_type": "code",
   "execution_count": 190,
   "metadata": {
    "ExecuteTime": {
     "end_time": "2022-03-29T17:45:17.955783Z",
     "start_time": "2022-03-29T17:45:17.907773Z"
    }
   },
   "outputs": [],
   "source": [
    "#Linear Regression\n",
    "lr = LinearRegression()\n",
    "lr.fit(X_train_scaled,y_train)\n",
    "\n",
    "train_preds=lr.predict(X_train_scaled)\n",
    "test_preds=lr.predict(X_test_scaled)"
   ]
  },
  {
   "cell_type": "code",
   "execution_count": 192,
   "metadata": {
    "ExecuteTime": {
     "end_time": "2022-03-29T17:46:06.286582Z",
     "start_time": "2022-03-29T17:46:06.277580Z"
    },
    "scrolled": false
   },
   "outputs": [
    {
     "name": "stdout",
     "output_type": "stream",
     "text": [
      "Training Score: 0.7716774865180858\n",
      "Test Score: 0.766401462813862\n"
     ]
    }
   ],
   "source": [
    "print('Training Score:',r2_score(y_train,train_preds))\n",
    "print('Test Score:',r2_score(y_test,test_preds))"
   ]
  },
  {
   "cell_type": "markdown",
   "metadata": {},
   "source": [
    "### OLS Summary"
   ]
  },
  {
   "cell_type": "code",
   "execution_count": 205,
   "metadata": {
    "ExecuteTime": {
     "end_time": "2022-03-29T18:07:16.256169Z",
     "start_time": "2022-03-29T18:07:16.100135Z"
    },
    "scrolled": true
   },
   "outputs": [
    {
     "data": {
      "text/html": [
       "<table class=\"simpletable\">\n",
       "<caption>OLS Regression Results</caption>\n",
       "<tr>\n",
       "  <th>Dep. Variable:</th>          <td>price</td>      <th>  R-squared:         </th>  <td>   0.772</td>  \n",
       "</tr>\n",
       "<tr>\n",
       "  <th>Model:</th>                   <td>OLS</td>       <th>  Adj. R-squared:    </th>  <td>   0.771</td>  \n",
       "</tr>\n",
       "<tr>\n",
       "  <th>Method:</th>             <td>Least Squares</td>  <th>  F-statistic:       </th>  <td>   685.0</td>  \n",
       "</tr>\n",
       "<tr>\n",
       "  <th>Date:</th>             <td>Tue, 29 Mar 2022</td> <th>  Prob (F-statistic):</th>   <td>  0.00</td>   \n",
       "</tr>\n",
       "<tr>\n",
       "  <th>Time:</th>                 <td>13:07:16</td>     <th>  Log-Likelihood:    </th> <td>-2.0339e+05</td>\n",
       "</tr>\n",
       "<tr>\n",
       "  <th>No. Observations:</th>      <td> 15073</td>      <th>  AIC:               </th>  <td>4.069e+05</td> \n",
       "</tr>\n",
       "<tr>\n",
       "  <th>Df Residuals:</th>          <td> 14998</td>      <th>  BIC:               </th>  <td>4.075e+05</td> \n",
       "</tr>\n",
       "<tr>\n",
       "  <th>Df Model:</th>              <td>    74</td>      <th>                     </th>      <td> </td>     \n",
       "</tr>\n",
       "<tr>\n",
       "  <th>Covariance Type:</th>      <td>nonrobust</td>    <th>                     </th>      <td> </td>     \n",
       "</tr>\n",
       "</table>\n",
       "<table class=\"simpletable\">\n",
       "<tr>\n",
       "    <td></td>       <th>coef</th>     <th>std err</th>      <th>t</th>      <th>P>|t|</th>  <th>[0.025</th>    <th>0.975]</th>  \n",
       "</tr>\n",
       "<tr>\n",
       "  <th>const</th> <td> 5.433e+05</td> <td> 1432.264</td> <td>  379.357</td> <td> 0.000</td> <td> 5.41e+05</td> <td> 5.46e+05</td>\n",
       "</tr>\n",
       "<tr>\n",
       "  <th>x1</th>    <td> 1966.5406</td> <td> 1786.095</td> <td>    1.101</td> <td> 0.271</td> <td>-1534.424</td> <td> 5467.505</td>\n",
       "</tr>\n",
       "<tr>\n",
       "  <th>x2</th>    <td> -783.0974</td> <td> 1924.201</td> <td>   -0.407</td> <td> 0.684</td> <td>-4554.767</td> <td> 2988.573</td>\n",
       "</tr>\n",
       "<tr>\n",
       "  <th>x3</th>    <td> 9.945e+04</td> <td> 1991.198</td> <td>   49.945</td> <td> 0.000</td> <td> 9.55e+04</td> <td> 1.03e+05</td>\n",
       "</tr>\n",
       "<tr>\n",
       "  <th>x4</th>    <td> 3.083e+04</td> <td> 1758.001</td> <td>   17.536</td> <td> 0.000</td> <td> 2.74e+04</td> <td> 3.43e+04</td>\n",
       "</tr>\n",
       "<tr>\n",
       "  <th>x5</th>    <td> 4.658e+04</td> <td> 2256.398</td> <td>   20.643</td> <td> 0.000</td> <td> 4.22e+04</td> <td>  5.1e+04</td>\n",
       "</tr>\n",
       "<tr>\n",
       "  <th>x6</th>    <td> 2.269e+04</td> <td> 1719.394</td> <td>   13.194</td> <td> 0.000</td> <td> 1.93e+04</td> <td> 2.61e+04</td>\n",
       "</tr>\n",
       "<tr>\n",
       "  <th>x7</th>    <td> 3.376e+04</td> <td> 1935.492</td> <td>   17.442</td> <td> 0.000</td> <td>    3e+04</td> <td> 3.76e+04</td>\n",
       "</tr>\n",
       "<tr>\n",
       "  <th>x8</th>    <td> 5409.4390</td> <td> 1620.506</td> <td>    3.338</td> <td> 0.001</td> <td> 2233.049</td> <td> 8585.829</td>\n",
       "</tr>\n",
       "<tr>\n",
       "  <th>x9</th>    <td> 1.327e+04</td> <td> 1803.266</td> <td>    7.360</td> <td> 0.000</td> <td> 9737.188</td> <td> 1.68e+04</td>\n",
       "</tr>\n",
       "<tr>\n",
       "  <th>x10</th>   <td> 8790.1596</td> <td> 1652.076</td> <td>    5.321</td> <td> 0.000</td> <td> 5551.889</td> <td>  1.2e+04</td>\n",
       "</tr>\n",
       "<tr>\n",
       "  <th>x11</th>   <td> 8494.9923</td> <td> 1776.118</td> <td>    4.783</td> <td> 0.000</td> <td> 5013.583</td> <td>  1.2e+04</td>\n",
       "</tr>\n",
       "<tr>\n",
       "  <th>x12</th>   <td>-2591.2275</td> <td> 1832.420</td> <td>   -1.414</td> <td> 0.157</td> <td>-6182.994</td> <td> 1000.539</td>\n",
       "</tr>\n",
       "<tr>\n",
       "  <th>x13</th>   <td>-3063.4392</td> <td> 2218.819</td> <td>   -1.381</td> <td> 0.167</td> <td>-7412.596</td> <td> 1285.718</td>\n",
       "</tr>\n",
       "<tr>\n",
       "  <th>x14</th>   <td> 1.104e+04</td> <td> 1587.496</td> <td>    6.951</td> <td> 0.000</td> <td> 7923.354</td> <td> 1.41e+04</td>\n",
       "</tr>\n",
       "<tr>\n",
       "  <th>x15</th>   <td>  2.41e+04</td> <td> 2107.256</td> <td>   11.435</td> <td> 0.000</td> <td>    2e+04</td> <td> 2.82e+04</td>\n",
       "</tr>\n",
       "<tr>\n",
       "  <th>x16</th>   <td> 1.452e+04</td> <td> 1928.817</td> <td>    7.527</td> <td> 0.000</td> <td> 1.07e+04</td> <td> 1.83e+04</td>\n",
       "</tr>\n",
       "<tr>\n",
       "  <th>x17</th>   <td> 2.986e+04</td> <td> 2016.198</td> <td>   14.812</td> <td> 0.000</td> <td> 2.59e+04</td> <td> 3.38e+04</td>\n",
       "</tr>\n",
       "<tr>\n",
       "  <th>x18</th>   <td> 1222.5733</td> <td> 1887.734</td> <td>    0.648</td> <td> 0.517</td> <td>-2477.616</td> <td> 4922.763</td>\n",
       "</tr>\n",
       "<tr>\n",
       "  <th>x19</th>   <td> 1761.2323</td> <td> 1886.141</td> <td>    0.934</td> <td> 0.350</td> <td>-1935.834</td> <td> 5458.298</td>\n",
       "</tr>\n",
       "<tr>\n",
       "  <th>x20</th>   <td>  -80.2640</td> <td> 1659.694</td> <td>   -0.048</td> <td> 0.961</td> <td>-3333.467</td> <td> 3172.939</td>\n",
       "</tr>\n",
       "<tr>\n",
       "  <th>x21</th>   <td> 5.387e+04</td> <td> 2120.322</td> <td>   25.407</td> <td> 0.000</td> <td> 4.97e+04</td> <td>  5.8e+04</td>\n",
       "</tr>\n",
       "<tr>\n",
       "  <th>x22</th>   <td>  3.33e+04</td> <td> 2267.714</td> <td>   14.686</td> <td> 0.000</td> <td> 2.89e+04</td> <td> 3.77e+04</td>\n",
       "</tr>\n",
       "<tr>\n",
       "  <th>x23</th>   <td> 5019.8188</td> <td> 2348.980</td> <td>    2.137</td> <td> 0.033</td> <td>  415.532</td> <td> 9624.106</td>\n",
       "</tr>\n",
       "<tr>\n",
       "  <th>x24</th>   <td>  6.64e+04</td> <td> 1543.568</td> <td>   43.016</td> <td> 0.000</td> <td> 6.34e+04</td> <td> 6.94e+04</td>\n",
       "</tr>\n",
       "<tr>\n",
       "  <th>x25</th>   <td> 6.446e+04</td> <td> 1930.124</td> <td>   33.398</td> <td> 0.000</td> <td> 6.07e+04</td> <td> 6.82e+04</td>\n",
       "</tr>\n",
       "<tr>\n",
       "  <th>x26</th>   <td> 1933.1761</td> <td> 2265.362</td> <td>    0.853</td> <td> 0.393</td> <td>-2507.211</td> <td> 6373.563</td>\n",
       "</tr>\n",
       "<tr>\n",
       "  <th>x27</th>   <td> 7929.6157</td> <td> 1819.862</td> <td>    4.357</td> <td> 0.000</td> <td> 4362.463</td> <td> 1.15e+04</td>\n",
       "</tr>\n",
       "<tr>\n",
       "  <th>x28</th>   <td> 4.269e+04</td> <td> 2339.109</td> <td>   18.250</td> <td> 0.000</td> <td> 3.81e+04</td> <td> 4.73e+04</td>\n",
       "</tr>\n",
       "<tr>\n",
       "  <th>x29</th>   <td> 2.934e+04</td> <td> 2141.735</td> <td>   13.697</td> <td> 0.000</td> <td> 2.51e+04</td> <td> 3.35e+04</td>\n",
       "</tr>\n",
       "<tr>\n",
       "  <th>x30</th>   <td> 4912.6170</td> <td> 1896.303</td> <td>    2.591</td> <td> 0.010</td> <td> 1195.632</td> <td> 8629.602</td>\n",
       "</tr>\n",
       "<tr>\n",
       "  <th>x31</th>   <td> 1.207e+04</td> <td> 2103.150</td> <td>    5.739</td> <td> 0.000</td> <td> 7947.185</td> <td> 1.62e+04</td>\n",
       "</tr>\n",
       "<tr>\n",
       "  <th>x32</th>   <td> 5947.2730</td> <td> 2172.192</td> <td>    2.738</td> <td> 0.006</td> <td> 1689.512</td> <td> 1.02e+04</td>\n",
       "</tr>\n",
       "<tr>\n",
       "  <th>x33</th>   <td> 1.524e+04</td> <td> 2197.650</td> <td>    6.934</td> <td> 0.000</td> <td> 1.09e+04</td> <td> 1.95e+04</td>\n",
       "</tr>\n",
       "<tr>\n",
       "  <th>x34</th>   <td> 8329.6701</td> <td> 1985.814</td> <td>    4.195</td> <td> 0.000</td> <td> 4437.232</td> <td> 1.22e+04</td>\n",
       "</tr>\n",
       "<tr>\n",
       "  <th>x35</th>   <td> 5786.1702</td> <td> 1675.303</td> <td>    3.454</td> <td> 0.001</td> <td> 2502.371</td> <td> 9069.970</td>\n",
       "</tr>\n",
       "<tr>\n",
       "  <th>x36</th>   <td> 1.922e+04</td> <td> 1907.587</td> <td>   10.073</td> <td> 0.000</td> <td> 1.55e+04</td> <td>  2.3e+04</td>\n",
       "</tr>\n",
       "<tr>\n",
       "  <th>x37</th>   <td> 3.185e+04</td> <td> 2163.711</td> <td>   14.719</td> <td> 0.000</td> <td> 2.76e+04</td> <td> 3.61e+04</td>\n",
       "</tr>\n",
       "<tr>\n",
       "  <th>x38</th>   <td> 2.751e+04</td> <td> 2020.625</td> <td>   13.617</td> <td> 0.000</td> <td> 2.36e+04</td> <td> 3.15e+04</td>\n",
       "</tr>\n",
       "<tr>\n",
       "  <th>x39</th>   <td> 1.596e+04</td> <td> 1803.028</td> <td>    8.852</td> <td> 0.000</td> <td> 1.24e+04</td> <td> 1.95e+04</td>\n",
       "</tr>\n",
       "<tr>\n",
       "  <th>x40</th>   <td>-3465.3429</td> <td> 2016.812</td> <td>   -1.718</td> <td> 0.086</td> <td>-7418.541</td> <td>  487.855</td>\n",
       "</tr>\n",
       "<tr>\n",
       "  <th>x41</th>   <td> 3.607e+04</td> <td> 1651.186</td> <td>   21.844</td> <td> 0.000</td> <td> 3.28e+04</td> <td> 3.93e+04</td>\n",
       "</tr>\n",
       "<tr>\n",
       "  <th>x42</th>   <td>  5.55e+04</td> <td> 2347.409</td> <td>   23.641</td> <td> 0.000</td> <td> 5.09e+04</td> <td> 6.01e+04</td>\n",
       "</tr>\n",
       "<tr>\n",
       "  <th>x43</th>   <td> 5.131e+04</td> <td> 1847.754</td> <td>   27.768</td> <td> 0.000</td> <td> 4.77e+04</td> <td> 5.49e+04</td>\n",
       "</tr>\n",
       "<tr>\n",
       "  <th>x44</th>   <td> 1.589e+04</td> <td> 2007.370</td> <td>    7.915</td> <td> 0.000</td> <td>  1.2e+04</td> <td> 1.98e+04</td>\n",
       "</tr>\n",
       "<tr>\n",
       "  <th>x45</th>   <td> 3.844e+04</td> <td> 1908.666</td> <td>   20.140</td> <td> 0.000</td> <td> 3.47e+04</td> <td> 4.22e+04</td>\n",
       "</tr>\n",
       "<tr>\n",
       "  <th>x46</th>   <td> 1.099e+04</td> <td> 1760.795</td> <td>    6.242</td> <td> 0.000</td> <td> 7539.503</td> <td> 1.44e+04</td>\n",
       "</tr>\n",
       "<tr>\n",
       "  <th>x47</th>   <td> 3.577e+04</td> <td> 1636.712</td> <td>   21.857</td> <td> 0.000</td> <td> 3.26e+04</td> <td>  3.9e+04</td>\n",
       "</tr>\n",
       "<tr>\n",
       "  <th>x48</th>   <td> 7.401e+04</td> <td> 1893.416</td> <td>   39.090</td> <td> 0.000</td> <td> 7.03e+04</td> <td> 7.77e+04</td>\n",
       "</tr>\n",
       "<tr>\n",
       "  <th>x49</th>   <td> 5.611e+04</td> <td> 2337.153</td> <td>   24.007</td> <td> 0.000</td> <td> 5.15e+04</td> <td> 6.07e+04</td>\n",
       "</tr>\n",
       "<tr>\n",
       "  <th>x50</th>   <td> 3.495e+04</td> <td> 2016.846</td> <td>   17.330</td> <td> 0.000</td> <td>  3.1e+04</td> <td> 3.89e+04</td>\n",
       "</tr>\n",
       "<tr>\n",
       "  <th>x51</th>   <td> 5.162e+04</td> <td> 2287.476</td> <td>   22.568</td> <td> 0.000</td> <td> 4.71e+04</td> <td> 5.61e+04</td>\n",
       "</tr>\n",
       "<tr>\n",
       "  <th>x52</th>   <td>  2.57e+04</td> <td> 2226.829</td> <td>   11.539</td> <td> 0.000</td> <td> 2.13e+04</td> <td> 3.01e+04</td>\n",
       "</tr>\n",
       "<tr>\n",
       "  <th>x53</th>   <td> 4.457e+04</td> <td> 1772.351</td> <td>   25.149</td> <td> 0.000</td> <td> 4.11e+04</td> <td>  4.8e+04</td>\n",
       "</tr>\n",
       "<tr>\n",
       "  <th>x54</th>   <td> 4.214e+04</td> <td> 1955.006</td> <td>   21.553</td> <td> 0.000</td> <td> 3.83e+04</td> <td>  4.6e+04</td>\n",
       "</tr>\n",
       "<tr>\n",
       "  <th>x55</th>   <td> 2.676e+04</td> <td> 2095.864</td> <td>   12.769</td> <td> 0.000</td> <td> 2.27e+04</td> <td> 3.09e+04</td>\n",
       "</tr>\n",
       "<tr>\n",
       "  <th>x56</th>   <td>  2.34e+04</td> <td> 2036.351</td> <td>   11.492</td> <td> 0.000</td> <td> 1.94e+04</td> <td> 2.74e+04</td>\n",
       "</tr>\n",
       "<tr>\n",
       "  <th>x57</th>   <td> 2.452e+04</td> <td> 2207.411</td> <td>   11.110</td> <td> 0.000</td> <td> 2.02e+04</td> <td> 2.89e+04</td>\n",
       "</tr>\n",
       "<tr>\n",
       "  <th>x58</th>   <td> 2.631e+04</td> <td> 1890.045</td> <td>   13.918</td> <td> 0.000</td> <td> 2.26e+04</td> <td>    3e+04</td>\n",
       "</tr>\n",
       "<tr>\n",
       "  <th>x59</th>   <td> 3.448e+04</td> <td> 2034.101</td> <td>   16.950</td> <td> 0.000</td> <td> 3.05e+04</td> <td> 3.85e+04</td>\n",
       "</tr>\n",
       "<tr>\n",
       "  <th>x60</th>   <td> 1.295e+04</td> <td> 1942.964</td> <td>    6.666</td> <td> 0.000</td> <td> 9143.882</td> <td> 1.68e+04</td>\n",
       "</tr>\n",
       "<tr>\n",
       "  <th>x61</th>   <td> 3523.2803</td> <td> 1545.682</td> <td>    2.279</td> <td> 0.023</td> <td>  493.555</td> <td> 6553.006</td>\n",
       "</tr>\n",
       "<tr>\n",
       "  <th>x62</th>   <td> 2.269e+04</td> <td> 2159.101</td> <td>   10.509</td> <td> 0.000</td> <td> 1.85e+04</td> <td> 2.69e+04</td>\n",
       "</tr>\n",
       "<tr>\n",
       "  <th>x63</th>   <td> 8278.5979</td> <td> 1873.282</td> <td>    4.419</td> <td> 0.000</td> <td> 4606.736</td> <td>  1.2e+04</td>\n",
       "</tr>\n",
       "<tr>\n",
       "  <th>x64</th>   <td> 6860.8618</td> <td> 1872.662</td> <td>    3.664</td> <td> 0.000</td> <td> 3190.216</td> <td> 1.05e+04</td>\n",
       "</tr>\n",
       "<tr>\n",
       "  <th>x65</th>   <td> 2.544e+04</td> <td> 1884.571</td> <td>   13.502</td> <td> 0.000</td> <td> 2.18e+04</td> <td> 2.91e+04</td>\n",
       "</tr>\n",
       "<tr>\n",
       "  <th>x66</th>   <td> 4019.3162</td> <td> 1860.599</td> <td>    2.160</td> <td> 0.031</td> <td>  372.314</td> <td> 7666.318</td>\n",
       "</tr>\n",
       "<tr>\n",
       "  <th>x67</th>   <td> 2350.3647</td> <td> 1690.644</td> <td>    1.390</td> <td> 0.164</td> <td> -963.504</td> <td> 5664.233</td>\n",
       "</tr>\n",
       "<tr>\n",
       "  <th>x68</th>   <td> -131.2386</td> <td> 1889.263</td> <td>   -0.069</td> <td> 0.945</td> <td>-3834.426</td> <td> 3571.949</td>\n",
       "</tr>\n",
       "<tr>\n",
       "  <th>x69</th>   <td> 4.696e+04</td> <td> 1979.290</td> <td>   23.724</td> <td> 0.000</td> <td> 4.31e+04</td> <td> 5.08e+04</td>\n",
       "</tr>\n",
       "<tr>\n",
       "  <th>x70</th>   <td>-3.926e+04</td> <td> 1860.623</td> <td>  -21.103</td> <td> 0.000</td> <td>-4.29e+04</td> <td>-3.56e+04</td>\n",
       "</tr>\n",
       "<tr>\n",
       "  <th>x71</th>   <td> 1.264e+04</td> <td> 2289.220</td> <td>    5.521</td> <td> 0.000</td> <td> 8151.877</td> <td> 1.71e+04</td>\n",
       "</tr>\n",
       "<tr>\n",
       "  <th>x72</th>   <td>  2.24e+05</td> <td> 2542.741</td> <td>   88.087</td> <td> 0.000</td> <td> 2.19e+05</td> <td> 2.29e+05</td>\n",
       "</tr>\n",
       "<tr>\n",
       "  <th>x73</th>   <td> 6.972e+04</td> <td> 1583.283</td> <td>   44.036</td> <td> 0.000</td> <td> 6.66e+04</td> <td> 7.28e+04</td>\n",
       "</tr>\n",
       "<tr>\n",
       "  <th>x74</th>   <td>  1.38e+04</td> <td> 1501.303</td> <td>    9.190</td> <td> 0.000</td> <td> 1.09e+04</td> <td> 1.67e+04</td>\n",
       "</tr>\n",
       "</table>\n",
       "<table class=\"simpletable\">\n",
       "<tr>\n",
       "  <th>Omnibus:</th>       <td>13398.448</td> <th>  Durbin-Watson:     </th>  <td>   2.012</td>  \n",
       "</tr>\n",
       "<tr>\n",
       "  <th>Prob(Omnibus):</th>  <td> 0.000</td>   <th>  Jarque-Bera (JB):  </th> <td>1606149.311</td>\n",
       "</tr>\n",
       "<tr>\n",
       "  <th>Skew:</th>           <td> 3.779</td>   <th>  Prob(JB):          </th>  <td>    0.00</td>  \n",
       "</tr>\n",
       "<tr>\n",
       "  <th>Kurtosis:</th>       <td>53.003</td>   <th>  Cond. No.          </th>  <td>    12.7</td>  \n",
       "</tr>\n",
       "</table><br/><br/>Notes:<br/>[1] Standard Errors assume that the covariance matrix of the errors is correctly specified."
      ],
      "text/plain": [
       "<class 'statsmodels.iolib.summary.Summary'>\n",
       "\"\"\"\n",
       "                            OLS Regression Results                            \n",
       "==============================================================================\n",
       "Dep. Variable:                  price   R-squared:                       0.772\n",
       "Model:                            OLS   Adj. R-squared:                  0.771\n",
       "Method:                 Least Squares   F-statistic:                     685.0\n",
       "Date:                Tue, 29 Mar 2022   Prob (F-statistic):               0.00\n",
       "Time:                        13:07:16   Log-Likelihood:            -2.0339e+05\n",
       "No. Observations:               15073   AIC:                         4.069e+05\n",
       "Df Residuals:                   14998   BIC:                         4.075e+05\n",
       "Df Model:                          74                                         \n",
       "Covariance Type:            nonrobust                                         \n",
       "==============================================================================\n",
       "                 coef    std err          t      P>|t|      [0.025      0.975]\n",
       "------------------------------------------------------------------------------\n",
       "const       5.433e+05   1432.264    379.357      0.000    5.41e+05    5.46e+05\n",
       "x1          1966.5406   1786.095      1.101      0.271   -1534.424    5467.505\n",
       "x2          -783.0974   1924.201     -0.407      0.684   -4554.767    2988.573\n",
       "x3          9.945e+04   1991.198     49.945      0.000    9.55e+04    1.03e+05\n",
       "x4          3.083e+04   1758.001     17.536      0.000    2.74e+04    3.43e+04\n",
       "x5          4.658e+04   2256.398     20.643      0.000    4.22e+04     5.1e+04\n",
       "x6          2.269e+04   1719.394     13.194      0.000    1.93e+04    2.61e+04\n",
       "x7          3.376e+04   1935.492     17.442      0.000       3e+04    3.76e+04\n",
       "x8          5409.4390   1620.506      3.338      0.001    2233.049    8585.829\n",
       "x9          1.327e+04   1803.266      7.360      0.000    9737.188    1.68e+04\n",
       "x10         8790.1596   1652.076      5.321      0.000    5551.889     1.2e+04\n",
       "x11         8494.9923   1776.118      4.783      0.000    5013.583     1.2e+04\n",
       "x12        -2591.2275   1832.420     -1.414      0.157   -6182.994    1000.539\n",
       "x13        -3063.4392   2218.819     -1.381      0.167   -7412.596    1285.718\n",
       "x14         1.104e+04   1587.496      6.951      0.000    7923.354    1.41e+04\n",
       "x15          2.41e+04   2107.256     11.435      0.000       2e+04    2.82e+04\n",
       "x16         1.452e+04   1928.817      7.527      0.000    1.07e+04    1.83e+04\n",
       "x17         2.986e+04   2016.198     14.812      0.000    2.59e+04    3.38e+04\n",
       "x18         1222.5733   1887.734      0.648      0.517   -2477.616    4922.763\n",
       "x19         1761.2323   1886.141      0.934      0.350   -1935.834    5458.298\n",
       "x20          -80.2640   1659.694     -0.048      0.961   -3333.467    3172.939\n",
       "x21         5.387e+04   2120.322     25.407      0.000    4.97e+04     5.8e+04\n",
       "x22          3.33e+04   2267.714     14.686      0.000    2.89e+04    3.77e+04\n",
       "x23         5019.8188   2348.980      2.137      0.033     415.532    9624.106\n",
       "x24          6.64e+04   1543.568     43.016      0.000    6.34e+04    6.94e+04\n",
       "x25         6.446e+04   1930.124     33.398      0.000    6.07e+04    6.82e+04\n",
       "x26         1933.1761   2265.362      0.853      0.393   -2507.211    6373.563\n",
       "x27         7929.6157   1819.862      4.357      0.000    4362.463    1.15e+04\n",
       "x28         4.269e+04   2339.109     18.250      0.000    3.81e+04    4.73e+04\n",
       "x29         2.934e+04   2141.735     13.697      0.000    2.51e+04    3.35e+04\n",
       "x30         4912.6170   1896.303      2.591      0.010    1195.632    8629.602\n",
       "x31         1.207e+04   2103.150      5.739      0.000    7947.185    1.62e+04\n",
       "x32         5947.2730   2172.192      2.738      0.006    1689.512    1.02e+04\n",
       "x33         1.524e+04   2197.650      6.934      0.000    1.09e+04    1.95e+04\n",
       "x34         8329.6701   1985.814      4.195      0.000    4437.232    1.22e+04\n",
       "x35         5786.1702   1675.303      3.454      0.001    2502.371    9069.970\n",
       "x36         1.922e+04   1907.587     10.073      0.000    1.55e+04     2.3e+04\n",
       "x37         3.185e+04   2163.711     14.719      0.000    2.76e+04    3.61e+04\n",
       "x38         2.751e+04   2020.625     13.617      0.000    2.36e+04    3.15e+04\n",
       "x39         1.596e+04   1803.028      8.852      0.000    1.24e+04    1.95e+04\n",
       "x40        -3465.3429   2016.812     -1.718      0.086   -7418.541     487.855\n",
       "x41         3.607e+04   1651.186     21.844      0.000    3.28e+04    3.93e+04\n",
       "x42          5.55e+04   2347.409     23.641      0.000    5.09e+04    6.01e+04\n",
       "x43         5.131e+04   1847.754     27.768      0.000    4.77e+04    5.49e+04\n",
       "x44         1.589e+04   2007.370      7.915      0.000     1.2e+04    1.98e+04\n",
       "x45         3.844e+04   1908.666     20.140      0.000    3.47e+04    4.22e+04\n",
       "x46         1.099e+04   1760.795      6.242      0.000    7539.503    1.44e+04\n",
       "x47         3.577e+04   1636.712     21.857      0.000    3.26e+04     3.9e+04\n",
       "x48         7.401e+04   1893.416     39.090      0.000    7.03e+04    7.77e+04\n",
       "x49         5.611e+04   2337.153     24.007      0.000    5.15e+04    6.07e+04\n",
       "x50         3.495e+04   2016.846     17.330      0.000     3.1e+04    3.89e+04\n",
       "x51         5.162e+04   2287.476     22.568      0.000    4.71e+04    5.61e+04\n",
       "x52          2.57e+04   2226.829     11.539      0.000    2.13e+04    3.01e+04\n",
       "x53         4.457e+04   1772.351     25.149      0.000    4.11e+04     4.8e+04\n",
       "x54         4.214e+04   1955.006     21.553      0.000    3.83e+04     4.6e+04\n",
       "x55         2.676e+04   2095.864     12.769      0.000    2.27e+04    3.09e+04\n",
       "x56          2.34e+04   2036.351     11.492      0.000    1.94e+04    2.74e+04\n",
       "x57         2.452e+04   2207.411     11.110      0.000    2.02e+04    2.89e+04\n",
       "x58         2.631e+04   1890.045     13.918      0.000    2.26e+04       3e+04\n",
       "x59         3.448e+04   2034.101     16.950      0.000    3.05e+04    3.85e+04\n",
       "x60         1.295e+04   1942.964      6.666      0.000    9143.882    1.68e+04\n",
       "x61         3523.2803   1545.682      2.279      0.023     493.555    6553.006\n",
       "x62         2.269e+04   2159.101     10.509      0.000    1.85e+04    2.69e+04\n",
       "x63         8278.5979   1873.282      4.419      0.000    4606.736     1.2e+04\n",
       "x64         6860.8618   1872.662      3.664      0.000    3190.216    1.05e+04\n",
       "x65         2.544e+04   1884.571     13.502      0.000    2.18e+04    2.91e+04\n",
       "x66         4019.3162   1860.599      2.160      0.031     372.314    7666.318\n",
       "x67         2350.3647   1690.644      1.390      0.164    -963.504    5664.233\n",
       "x68         -131.2386   1889.263     -0.069      0.945   -3834.426    3571.949\n",
       "x69         4.696e+04   1979.290     23.724      0.000    4.31e+04    5.08e+04\n",
       "x70        -3.926e+04   1860.623    -21.103      0.000   -4.29e+04   -3.56e+04\n",
       "x71         1.264e+04   2289.220      5.521      0.000    8151.877    1.71e+04\n",
       "x72          2.24e+05   2542.741     88.087      0.000    2.19e+05    2.29e+05\n",
       "x73         6.972e+04   1583.283     44.036      0.000    6.66e+04    7.28e+04\n",
       "x74          1.38e+04   1501.303      9.190      0.000    1.09e+04    1.67e+04\n",
       "==============================================================================\n",
       "Omnibus:                    13398.448   Durbin-Watson:                   2.012\n",
       "Prob(Omnibus):                  0.000   Jarque-Bera (JB):          1606149.311\n",
       "Skew:                           3.779   Prob(JB):                         0.00\n",
       "Kurtosis:                      53.003   Cond. No.                         12.7\n",
       "==============================================================================\n",
       "\n",
       "Notes:\n",
       "[1] Standard Errors assume that the covariance matrix of the errors is correctly specified.\n",
       "\"\"\""
      ]
     },
     "execution_count": 205,
     "metadata": {},
     "output_type": "execute_result"
    }
   ],
   "source": [
    "#Just to get summary\n",
    "model = sm.OLS(endog=y_train, exog=sm.add_constant(X_train_scaled)).fit()\n",
    "model.summary()"
   ]
  },
  {
   "cell_type": "markdown",
   "metadata": {},
   "source": [
    "Lines up perfectly with the pipeline method"
   ]
  },
  {
   "cell_type": "code",
   "execution_count": 193,
   "metadata": {
    "ExecuteTime": {
     "end_time": "2022-03-29T17:47:12.656307Z",
     "start_time": "2022-03-29T17:47:11.613547Z"
    },
    "scrolled": false
   },
   "outputs": [
    {
     "data": {
      "image/png": "[encoded data removed]",
      "text/plain": [
       "<Figure size 576x396 with 2 Axes>"
      ]
     },
     "metadata": {},
     "output_type": "display_data"
    }
   ],
   "source": [
    "# visualizing our residuals \n",
    "# https://www.scikit-yb.org/en/latest/api/regressor/residuals.html\n",
    "from yellowbrick.regressor import ResidualsPlot\n",
    "\n",
    "visualizer = ResidualsPlot(lr)\n",
    "\n",
    "visualizer.fit(X_train_scaled, y_train)  # Fit the training data to the visualizer\n",
    "visualizer.score(X_test_scaled, y_test)  # Evaluate the model on the test data\n",
    "visualizer.show()  \n",
    "plt.show()"
   ]
  },
  {
   "cell_type": "code",
   "execution_count": 217,
   "metadata": {
    "ExecuteTime": {
     "end_time": "2022-03-29T18:32:49.024403Z",
     "start_time": "2022-03-29T18:32:49.014400Z"
    }
   },
   "outputs": [
    {
     "data": {
      "text/plain": [
       "9910      70861.521950\n",
       "13829    -69290.534149\n",
       "7360     150004.425208\n",
       "17118     94792.442786\n",
       "13811    176557.073577\n",
       "             ...      \n",
       "11323   -142609.444163\n",
       "12006     67598.066356\n",
       "5409    -149445.895188\n",
       "866     -290655.554120\n",
       "15848    -51610.165885\n",
       "Name: price, Length: 15073, dtype: float64"
      ]
     },
     "execution_count": 217,
     "metadata": {},
     "output_type": "execute_result"
    }
   ],
   "source": [
    "train_residuals = y_train - train_preds\n",
    "test_residuals = y_test - test_preds\n",
    "train_residuals"
   ]
  },
  {
   "cell_type": "code",
   "execution_count": 218,
   "metadata": {
    "ExecuteTime": {
     "end_time": "2022-03-29T18:32:50.414818Z",
     "start_time": "2022-03-29T18:32:50.168057Z"
    },
    "scrolled": false
   },
   "outputs": [
    {
     "data": {
      "image/png": "[encoded data removed]",
      "text/plain": [
       "<Figure size 576x396 with 1 Axes>"
      ]
     },
     "execution_count": 218,
     "metadata": {},
     "output_type": "execute_result"
    },
    {
     "data": {
      "image/png": "[encoded data removed]",
      "text/plain": [
       "<Figure size 576x396 with 1 Axes>"
      ]
     },
     "metadata": {},
     "output_type": "display_data"
    }
   ],
   "source": [
    "sm.qqplot(train_residuals, line = 'r')"
   ]
  },
  {
   "cell_type": "code",
   "execution_count": 221,
   "metadata": {
    "ExecuteTime": {
     "end_time": "2022-03-29T18:35:44.164070Z",
     "start_time": "2022-03-29T18:35:44.135063Z"
    }
   },
   "outputs": [
    {
     "data": {
      "text/html": [
       "<div>\n",
       "<style scoped>\n",
       "    .dataframe tbody tr th:only-of-type {\n",
       "        vertical-align: middle;\n",
       "    }\n",
       "\n",
       "    .dataframe tbody tr th {\n",
       "        vertical-align: top;\n",
       "    }\n",
       "\n",
       "    .dataframe thead th {\n",
       "        text-align: right;\n",
       "    }\n",
       "</style>\n",
       "<table border=\"1\" class=\"dataframe\">\n",
       "  <thead>\n",
       "    <tr style=\"text-align: right;\">\n",
       "      <th></th>\n",
       "      <th>ohe__x0_98002</th>\n",
       "      <th>ohe__x0_98003</th>\n",
       "      <th>ohe__x0_98004</th>\n",
       "      <th>ohe__x0_98005</th>\n",
       "      <th>ohe__x0_98006</th>\n",
       "      <th>ohe__x0_98007</th>\n",
       "      <th>ohe__x0_98008</th>\n",
       "      <th>ohe__x0_98010</th>\n",
       "      <th>ohe__x0_98011</th>\n",
       "      <th>ohe__x0_98014</th>\n",
       "      <th>...</th>\n",
       "      <th>ohe__x0_98177</th>\n",
       "      <th>ohe__x0_98178</th>\n",
       "      <th>ohe__x0_98188</th>\n",
       "      <th>ohe__x0_98198</th>\n",
       "      <th>ohe__x0_98199</th>\n",
       "      <th>bedrooms</th>\n",
       "      <th>bathrooms</th>\n",
       "      <th>sqft_living</th>\n",
       "      <th>view</th>\n",
       "      <th>condition</th>\n",
       "    </tr>\n",
       "  </thead>\n",
       "  <tbody>\n",
       "    <tr>\n",
       "      <th>0</th>\n",
       "      <td>-0.095065</td>\n",
       "      <td>-0.115373</td>\n",
       "      <td>-0.122822</td>\n",
       "      <td>-0.089959</td>\n",
       "      <td>-0.155754</td>\n",
       "      <td>-0.084555</td>\n",
       "      <td>-0.116255</td>\n",
       "      <td>-0.067319</td>\n",
       "      <td>-0.097867</td>\n",
       "      <td>-0.073047</td>\n",
       "      <td>...</td>\n",
       "      <td>-0.108694</td>\n",
       "      <td>-0.105847</td>\n",
       "      <td>-0.080061</td>\n",
       "      <td>-0.109628</td>\n",
       "      <td>-0.122264</td>\n",
       "      <td>0.694151</td>\n",
       "      <td>-1.453921</td>\n",
       "      <td>-0.603490</td>\n",
       "      <td>-0.304305</td>\n",
       "      <td>-0.633269</td>\n",
       "    </tr>\n",
       "    <tr>\n",
       "      <th>1</th>\n",
       "      <td>-0.095065</td>\n",
       "      <td>-0.115373</td>\n",
       "      <td>-0.122822</td>\n",
       "      <td>-0.089959</td>\n",
       "      <td>-0.155754</td>\n",
       "      <td>-0.084555</td>\n",
       "      <td>8.601747</td>\n",
       "      <td>-0.067319</td>\n",
       "      <td>-0.097867</td>\n",
       "      <td>-0.073047</td>\n",
       "      <td>...</td>\n",
       "      <td>-0.108694</td>\n",
       "      <td>-0.105847</td>\n",
       "      <td>-0.080061</td>\n",
       "      <td>-0.109628</td>\n",
       "      <td>-0.122264</td>\n",
       "      <td>-0.415858</td>\n",
       "      <td>-0.160202</td>\n",
       "      <td>0.522024</td>\n",
       "      <td>-0.304305</td>\n",
       "      <td>-0.633269</td>\n",
       "    </tr>\n",
       "    <tr>\n",
       "      <th>2</th>\n",
       "      <td>-0.095065</td>\n",
       "      <td>-0.115373</td>\n",
       "      <td>-0.122822</td>\n",
       "      <td>-0.089959</td>\n",
       "      <td>-0.155754</td>\n",
       "      <td>-0.084555</td>\n",
       "      <td>-0.116255</td>\n",
       "      <td>-0.067319</td>\n",
       "      <td>-0.097867</td>\n",
       "      <td>-0.073047</td>\n",
       "      <td>...</td>\n",
       "      <td>-0.108694</td>\n",
       "      <td>-0.105847</td>\n",
       "      <td>-0.080061</td>\n",
       "      <td>-0.109628</td>\n",
       "      <td>-0.122264</td>\n",
       "      <td>-0.415858</td>\n",
       "      <td>-0.807062</td>\n",
       "      <td>-0.776646</td>\n",
       "      <td>-0.304305</td>\n",
       "      <td>0.911022</td>\n",
       "    </tr>\n",
       "    <tr>\n",
       "      <th>3</th>\n",
       "      <td>-0.095065</td>\n",
       "      <td>-0.115373</td>\n",
       "      <td>-0.122822</td>\n",
       "      <td>-0.089959</td>\n",
       "      <td>-0.155754</td>\n",
       "      <td>-0.084555</td>\n",
       "      <td>-0.116255</td>\n",
       "      <td>-0.067319</td>\n",
       "      <td>-0.097867</td>\n",
       "      <td>-0.073047</td>\n",
       "      <td>...</td>\n",
       "      <td>-0.108694</td>\n",
       "      <td>-0.105847</td>\n",
       "      <td>-0.080061</td>\n",
       "      <td>-0.109628</td>\n",
       "      <td>-0.122264</td>\n",
       "      <td>0.694151</td>\n",
       "      <td>0.486657</td>\n",
       "      <td>-0.462800</td>\n",
       "      <td>-0.304305</td>\n",
       "      <td>-0.633269</td>\n",
       "    </tr>\n",
       "    <tr>\n",
       "      <th>4</th>\n",
       "      <td>-0.095065</td>\n",
       "      <td>-0.115373</td>\n",
       "      <td>-0.122822</td>\n",
       "      <td>-0.089959</td>\n",
       "      <td>-0.155754</td>\n",
       "      <td>-0.084555</td>\n",
       "      <td>-0.116255</td>\n",
       "      <td>-0.067319</td>\n",
       "      <td>-0.097867</td>\n",
       "      <td>-0.073047</td>\n",
       "      <td>...</td>\n",
       "      <td>-0.108694</td>\n",
       "      <td>-0.105847</td>\n",
       "      <td>-0.080061</td>\n",
       "      <td>-0.109628</td>\n",
       "      <td>-0.122264</td>\n",
       "      <td>0.694151</td>\n",
       "      <td>0.810087</td>\n",
       "      <td>-0.852401</td>\n",
       "      <td>-0.304305</td>\n",
       "      <td>-2.177560</td>\n",
       "    </tr>\n",
       "    <tr>\n",
       "      <th>...</th>\n",
       "      <td>...</td>\n",
       "      <td>...</td>\n",
       "      <td>...</td>\n",
       "      <td>...</td>\n",
       "      <td>...</td>\n",
       "      <td>...</td>\n",
       "      <td>...</td>\n",
       "      <td>...</td>\n",
       "      <td>...</td>\n",
       "      <td>...</td>\n",
       "      <td>...</td>\n",
       "      <td>...</td>\n",
       "      <td>...</td>\n",
       "      <td>...</td>\n",
       "      <td>...</td>\n",
       "      <td>...</td>\n",
       "      <td>...</td>\n",
       "      <td>...</td>\n",
       "      <td>...</td>\n",
       "      <td>...</td>\n",
       "      <td>...</td>\n",
       "    </tr>\n",
       "    <tr>\n",
       "      <th>15068</th>\n",
       "      <td>-0.095065</td>\n",
       "      <td>-0.115373</td>\n",
       "      <td>-0.122822</td>\n",
       "      <td>-0.089959</td>\n",
       "      <td>-0.155754</td>\n",
       "      <td>-0.084555</td>\n",
       "      <td>-0.116255</td>\n",
       "      <td>-0.067319</td>\n",
       "      <td>-0.097867</td>\n",
       "      <td>-0.073047</td>\n",
       "      <td>...</td>\n",
       "      <td>-0.108694</td>\n",
       "      <td>-0.105847</td>\n",
       "      <td>-0.080061</td>\n",
       "      <td>-0.109628</td>\n",
       "      <td>-0.122264</td>\n",
       "      <td>0.694151</td>\n",
       "      <td>1.780377</td>\n",
       "      <td>1.420271</td>\n",
       "      <td>-0.304305</td>\n",
       "      <td>-0.633269</td>\n",
       "    </tr>\n",
       "    <tr>\n",
       "      <th>15069</th>\n",
       "      <td>-0.095065</td>\n",
       "      <td>-0.115373</td>\n",
       "      <td>8.141878</td>\n",
       "      <td>-0.089959</td>\n",
       "      <td>-0.155754</td>\n",
       "      <td>-0.084555</td>\n",
       "      <td>-0.116255</td>\n",
       "      <td>-0.067319</td>\n",
       "      <td>-0.097867</td>\n",
       "      <td>-0.073047</td>\n",
       "      <td>...</td>\n",
       "      <td>-0.108694</td>\n",
       "      <td>-0.105847</td>\n",
       "      <td>-0.080061</td>\n",
       "      <td>-0.109628</td>\n",
       "      <td>-0.122264</td>\n",
       "      <td>-0.415858</td>\n",
       "      <td>-0.483632</td>\n",
       "      <td>0.370513</td>\n",
       "      <td>2.309253</td>\n",
       "      <td>0.911022</td>\n",
       "    </tr>\n",
       "    <tr>\n",
       "      <th>15070</th>\n",
       "      <td>-0.095065</td>\n",
       "      <td>-0.115373</td>\n",
       "      <td>-0.122822</td>\n",
       "      <td>-0.089959</td>\n",
       "      <td>-0.155754</td>\n",
       "      <td>-0.084555</td>\n",
       "      <td>-0.116255</td>\n",
       "      <td>-0.067319</td>\n",
       "      <td>-0.097867</td>\n",
       "      <td>-0.073047</td>\n",
       "      <td>...</td>\n",
       "      <td>-0.108694</td>\n",
       "      <td>-0.105847</td>\n",
       "      <td>-0.080061</td>\n",
       "      <td>-0.109628</td>\n",
       "      <td>-0.122264</td>\n",
       "      <td>-1.525866</td>\n",
       "      <td>-1.453921</td>\n",
       "      <td>-0.506089</td>\n",
       "      <td>-0.304305</td>\n",
       "      <td>-0.633269</td>\n",
       "    </tr>\n",
       "    <tr>\n",
       "      <th>15071</th>\n",
       "      <td>-0.095065</td>\n",
       "      <td>-0.115373</td>\n",
       "      <td>-0.122822</td>\n",
       "      <td>-0.089959</td>\n",
       "      <td>-0.155754</td>\n",
       "      <td>-0.084555</td>\n",
       "      <td>-0.116255</td>\n",
       "      <td>-0.067319</td>\n",
       "      <td>-0.097867</td>\n",
       "      <td>-0.073047</td>\n",
       "      <td>...</td>\n",
       "      <td>-0.108694</td>\n",
       "      <td>-0.105847</td>\n",
       "      <td>-0.080061</td>\n",
       "      <td>-0.109628</td>\n",
       "      <td>-0.122264</td>\n",
       "      <td>-0.415858</td>\n",
       "      <td>0.486657</td>\n",
       "      <td>1.485205</td>\n",
       "      <td>-0.304305</td>\n",
       "      <td>-0.633269</td>\n",
       "    </tr>\n",
       "    <tr>\n",
       "      <th>15072</th>\n",
       "      <td>-0.095065</td>\n",
       "      <td>-0.115373</td>\n",
       "      <td>-0.122822</td>\n",
       "      <td>-0.089959</td>\n",
       "      <td>-0.155754</td>\n",
       "      <td>-0.084555</td>\n",
       "      <td>-0.116255</td>\n",
       "      <td>-0.067319</td>\n",
       "      <td>-0.097867</td>\n",
       "      <td>-0.073047</td>\n",
       "      <td>...</td>\n",
       "      <td>-0.108694</td>\n",
       "      <td>-0.105847</td>\n",
       "      <td>-0.080061</td>\n",
       "      <td>-0.109628</td>\n",
       "      <td>-0.122264</td>\n",
       "      <td>-0.415858</td>\n",
       "      <td>0.810087</td>\n",
       "      <td>0.132423</td>\n",
       "      <td>1.002474</td>\n",
       "      <td>0.911022</td>\n",
       "    </tr>\n",
       "  </tbody>\n",
       "</table>\n",
       "<p>15073 rows × 74 columns</p>\n",
       "</div>"
      ],
      "text/plain": [
       "       ohe__x0_98002  ohe__x0_98003  ohe__x0_98004  ohe__x0_98005  \\\n",
       "0          -0.095065      -0.115373      -0.122822      -0.089959   \n",
       "1          -0.095065      -0.115373      -0.122822      -0.089959   \n",
       "2          -0.095065      -0.115373      -0.122822      -0.089959   \n",
       "3          -0.095065      -0.115373      -0.122822      -0.089959   \n",
       "4          -0.095065      -0.115373      -0.122822      -0.089959   \n",
       "...              ...            ...            ...            ...   \n",
       "15068      -0.095065      -0.115373      -0.122822      -0.089959   \n",
       "15069      -0.095065      -0.115373       8.141878      -0.089959   \n",
       "15070      -0.095065      -0.115373      -0.122822      -0.089959   \n",
       "15071      -0.095065      -0.115373      -0.122822      -0.089959   \n",
       "15072      -0.095065      -0.115373      -0.122822      -0.089959   \n",
       "\n",
       "       ohe__x0_98006  ohe__x0_98007  ohe__x0_98008  ohe__x0_98010  \\\n",
       "0          -0.155754      -0.084555      -0.116255      -0.067319   \n",
       "1          -0.155754      -0.084555       8.601747      -0.067319   \n",
       "2          -0.155754      -0.084555      -0.116255      -0.067319   \n",
       "3          -0.155754      -0.084555      -0.116255      -0.067319   \n",
       "4          -0.155754      -0.084555      -0.116255      -0.067319   \n",
       "...              ...            ...            ...            ...   \n",
       "15068      -0.155754      -0.084555      -0.116255      -0.067319   \n",
       "15069      -0.155754      -0.084555      -0.116255      -0.067319   \n",
       "15070      -0.155754      -0.084555      -0.116255      -0.067319   \n",
       "15071      -0.155754      -0.084555      -0.116255      -0.067319   \n",
       "15072      -0.155754      -0.084555      -0.116255      -0.067319   \n",
       "\n",
       "       ohe__x0_98011  ohe__x0_98014  ...  ohe__x0_98177  ohe__x0_98178  \\\n",
       "0          -0.097867      -0.073047  ...      -0.108694      -0.105847   \n",
       "1          -0.097867      -0.073047  ...      -0.108694      -0.105847   \n",
       "2          -0.097867      -0.073047  ...      -0.108694      -0.105847   \n",
       "3          -0.097867      -0.073047  ...      -0.108694      -0.105847   \n",
       "4          -0.097867      -0.073047  ...      -0.108694      -0.105847   \n",
       "...              ...            ...  ...            ...            ...   \n",
       "15068      -0.097867      -0.073047  ...      -0.108694      -0.105847   \n",
       "15069      -0.097867      -0.073047  ...      -0.108694      -0.105847   \n",
       "15070      -0.097867      -0.073047  ...      -0.108694      -0.105847   \n",
       "15071      -0.097867      -0.073047  ...      -0.108694      -0.105847   \n",
       "15072      -0.097867      -0.073047  ...      -0.108694      -0.105847   \n",
       "\n",
       "       ohe__x0_98188  ohe__x0_98198  ohe__x0_98199  bedrooms  bathrooms  \\\n",
       "0          -0.080061      -0.109628      -0.122264  0.694151  -1.453921   \n",
       "1          -0.080061      -0.109628      -0.122264 -0.415858  -0.160202   \n",
       "2          -0.080061      -0.109628      -0.122264 -0.415858  -0.807062   \n",
       "3          -0.080061      -0.109628      -0.122264  0.694151   0.486657   \n",
       "4          -0.080061      -0.109628      -0.122264  0.694151   0.810087   \n",
       "...              ...            ...            ...       ...        ...   \n",
       "15068      -0.080061      -0.109628      -0.122264  0.694151   1.780377   \n",
       "15069      -0.080061      -0.109628      -0.122264 -0.415858  -0.483632   \n",
       "15070      -0.080061      -0.109628      -0.122264 -1.525866  -1.453921   \n",
       "15071      -0.080061      -0.109628      -0.122264 -0.415858   0.486657   \n",
       "15072      -0.080061      -0.109628      -0.122264 -0.415858   0.810087   \n",
       "\n",
       "       sqft_living      view  condition  \n",
       "0        -0.603490 -0.304305  -0.633269  \n",
       "1         0.522024 -0.304305  -0.633269  \n",
       "2        -0.776646 -0.304305   0.911022  \n",
       "3        -0.462800 -0.304305  -0.633269  \n",
       "4        -0.852401 -0.304305  -2.177560  \n",
       "...            ...       ...        ...  \n",
       "15068     1.420271 -0.304305  -0.633269  \n",
       "15069     0.370513  2.309253   0.911022  \n",
       "15070    -0.506089 -0.304305  -0.633269  \n",
       "15071     1.485205 -0.304305  -0.633269  \n",
       "15072     0.132423  1.002474   0.911022  \n",
       "\n",
       "[15073 rows x 74 columns]"
      ]
     },
     "execution_count": 221,
     "metadata": {},
     "output_type": "execute_result"
    }
   ],
   "source": [
    "pd.DataFrame(X_train_scaled, columns=ct.get_feature_names())"
   ]
  },
  {
   "cell_type": "code",
   "execution_count": 219,
   "metadata": {
    "ExecuteTime": {
     "end_time": "2022-03-29T18:34:55.577271Z",
     "start_time": "2022-03-29T18:34:55.562268Z"
    }
   },
   "outputs": [
    {
     "ename": "AttributeError",
     "evalue": "'numpy.ndarray' object has no attribute 'corr'",
     "output_type": "error",
     "traceback": [
      "\u001b[1;31m---------------------------------------------------------------------------\u001b[0m",
      "\u001b[1;31mAttributeError\u001b[0m                            Traceback (most recent call last)",
      "\u001b[1;32m<ipython-input-219-69c77f0b8555>\u001b[0m in \u001b[0;36m<module>\u001b[1;34m\u001b[0m\n\u001b[1;32m----> 1\u001b[1;33m \u001b[0msns\u001b[0m\u001b[1;33m.\u001b[0m\u001b[0mheatmap\u001b[0m\u001b[1;33m(\u001b[0m\u001b[0mX_train_scaled\u001b[0m\u001b[1;33m.\u001b[0m\u001b[0mcorr\u001b[0m\u001b[1;33m(\u001b[0m\u001b[1;33m)\u001b[0m\u001b[1;33m,\u001b[0m\u001b[0mannot\u001b[0m\u001b[1;33m=\u001b[0m\u001b[1;32mTrue\u001b[0m\u001b[1;33m)\u001b[0m\u001b[1;33m\u001b[0m\u001b[1;33m\u001b[0m\u001b[0m\n\u001b[0m",
      "\u001b[1;31mAttributeError\u001b[0m: 'numpy.ndarray' object has no attribute 'corr'"
     ]
    }
   ],
   "source": [
    "sns.heatmap(X_train_scaled.corr(),annot=True)"
   ]
  },
  {
   "cell_type": "code",
   "execution_count": null,
   "metadata": {},
   "outputs": [],
   "source": []
  },
  {
   "cell_type": "markdown",
   "metadata": {},
   "source": [
    "## Some weird plots"
   ]
  },
  {
   "cell_type": "code",
   "execution_count": null,
   "metadata": {
    "ExecuteTime": {
     "end_time": "2022-03-29T14:44:10.000827Z",
     "start_time": "2022-03-29T14:44:09.985823Z"
    }
   },
   "outputs": [],
   "source": [
    "df_pairplotting1 = df.filter(['bedrooms','bathrooms','floors','view','condition','price'])\n",
    "df_pairplotting2 = df.filter(['bedrooms','sqft_living', 'sqft_lot','sqft_above','sqft_living15', 'sqft_lot15','price'])"
   ]
  },
  {
   "cell_type": "code",
   "execution_count": null,
   "metadata": {
    "ExecuteTime": {
     "end_time": "2022-03-29T14:44:19.280626Z",
     "start_time": "2022-03-29T14:44:14.540678Z"
    },
    "scrolled": false
   },
   "outputs": [],
   "source": [
    "sns.pairplot(df_pairplotting1)"
   ]
  },
  {
   "cell_type": "code",
   "execution_count": null,
   "metadata": {
    "ExecuteTime": {
     "end_time": "2022-03-29T09:00:36.530652Z",
     "start_time": "2022-03-29T09:00:21.200885Z"
    },
    "scrolled": false
   },
   "outputs": [],
   "source": [
    "sns.pairplot(df_pairplotting2)"
   ]
  },
  {
   "cell_type": "code",
   "execution_count": null,
   "metadata": {},
   "outputs": [],
   "source": []
  }
 ],
 "metadata": {
  "kernelspec": {
   "display_name": "Python (learn-env)",
   "language": "python",
   "name": "learn-env"
  },
  "language_info": {
   "codemirror_mode": {
    "name": "ipython",
    "version": 3
   },
   "file_extension": ".py",
   "mimetype": "text/x-python",
   "name": "python",
   "nbconvert_exporter": "python",
   "pygments_lexer": "ipython3",
   "version": "3.8.5"
  },
  "toc": {
   "base_numbering": 1,
   "nav_menu": {},
   "number_sections": true,
   "sideBar": true,
   "skip_h1_title": false,
   "title_cell": "Table of Contents",
   "title_sidebar": "Contents",
   "toc_cell": false,
   "toc_position": {
    "height": "calc(100% - 180px)",
    "left": "10px",
    "top": "150px",
    "width": "304.475px"
   },
   "toc_section_display": true,
   "toc_window_display": false
  }
 },
 "nbformat": 4,
 "nbformat_minor": 4
}
